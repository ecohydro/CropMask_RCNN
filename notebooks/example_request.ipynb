{
 "cells": [
  {
   "cell_type": "code",
   "execution_count": null,
   "metadata": {},
   "outputs": [],
   "source": [
    "import requests\n",
    "import json\n",
    "import base64\n",
    "\n",
    "base_url = 'http://localhost:8081/v1/pytorch_api/'\n",
    "detect_endpoint = 'detect'\n",
    "\n",
    "async_url = base_url + detect_endpoint\n",
    "# https://stackoverflow.com/questions/3715493/encoding-an-image-file-with-base64\n",
    "def read_tif_as_base64_str(tif_path):\n",
    "    ENCODING = 'utf-8'\n",
    "    with open(tif_path, \"rb\") as image_file:\n",
    "        gtiff_bytes = image_file.read()\n",
    "        gtiff_bytes_b64_encoded = base64.b64encode(gtiff_bytes)\n",
    "        return gtiff_bytes_b64_encoded.decode(ENCODING)\n",
    "tif_path = \"../images/aoi_restricted_LT05_CU_013008_20050828_20190107_C01_V0_-485025_2041605.tif\"\n",
    "payload = {'data': read_tif_as_base64_str(tif_path),\n",
    "           'outname': \"results_LT05_CU_013008_20050828_20190107_C01_V0_-485025_2041605.tif\",\n",
    "           \"score_threshold\": .8\n",
    "            }\n",
    "# r = requests.post(async_url, data=read_tif_as_base64(tif_path))\n",
    "r = requests.post(async_url, json=payload)\n",
    "print(r.text)"
   ]
  },
  {
   "cell_type": "code",
   "execution_count": null,
   "metadata": {},
   "outputs": [],
   "source": [
    "taskid = int(r.text.split(\": \")[1])\n",
    "url = f\"http://localhost:8081/v1/pytorch_api/task/{taskid}\"\n",
    "\n",
    "payload={}\n",
    "headers = {}\n",
    "\n",
    "response = requests.request(\"GET\", url, headers=headers, data=payload)\n",
    "\n",
    "print(response.text)\n"
   ]
  },
  {
   "cell_type": "markdown",
   "metadata": {},
   "source": [
    "### Server Code"
   ]
  },
  {
   "cell_type": "code",
   "execution_count": null,
   "metadata": {},
   "outputs": [],
   "source": [
    "gtiff_bytes_str = read_tif_as_base64_str(tif_path)"
   ]
  },
  {
   "cell_type": "code",
   "execution_count": null,
   "metadata": {},
   "outputs": [],
   "source": [
    "from rasterio.io import MemoryFile\n",
    "from rasterio.plot import reshape_as_image\n",
    "\n",
    "decoded_bytes = base64.b64decode(gtiff_bytes_str)\n",
    "with MemoryFile(decoded_bytes) as memfile:\n",
    "    with memfile.open() as src:\n",
    "        meta = src.meta\n",
    "        arr = reshape_as_image(src.read())\n",
    "\n"
   ]
  },
  {
   "cell_type": "code",
   "execution_count": null,
   "metadata": {},
   "outputs": [],
   "source": [
    "\n",
    "\n",
    "if arr.dtype == \"int16\": # assuming it's read from araster and needs to be rescaled\n",
    "    rescale_tif(arr)"
   ]
  },
  {
   "cell_type": "code",
   "execution_count": null,
   "metadata": {},
   "outputs": [],
   "source": [
    "rescale_tif(arr)"
   ]
  },
  {
   "cell_type": "code",
   "execution_count": null,
   "metadata": {},
   "outputs": [],
   "source": []
  }
 ],
 "metadata": {
  "kernelspec": {
   "display_name": "Python [conda env:geospatial]",
   "language": "python",
   "name": "conda-env-geospatial-py"
  },
  "language_info": {
   "codemirror_mode": {
    "name": "ipython",
    "version": 3
   },
   "file_extension": ".py",
   "mimetype": "text/x-python",
   "name": "python",
   "nbconvert_exporter": "python",
   "pygments_lexer": "ipython3",
   "version": "3.9.1"
  }
 },
 "nbformat": 4,
 "nbformat_minor": 4
}
