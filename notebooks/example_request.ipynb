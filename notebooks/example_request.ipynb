{
 "cells": [
  {
   "cell_type": "code",
   "execution_count": 1,
   "metadata": {},
   "outputs": [
    {
     "name": "stdout",
     "output_type": "stream",
     "text": [
      "TaskId: 5777\n"
     ]
    }
   ],
   "source": [
    "import requests\n",
    "import json\n",
    "import base64\n",
    "\n",
    "base_url = 'http://localhost:8081/v1/pytorch_api/'\n",
    "detect_endpoint = 'detect'\n",
    "\n",
    "async_url = base_url + detect_endpoint\n",
    "# https://stackoverflow.com/questions/3715493/encoding-an-image-file-with-base64\n",
    "def read_tif_as_base64_str(tif_path):\n",
    "    ENCODING = 'utf-8'\n",
    "    with open(tif_path, \"rb\") as image_file:\n",
    "        gtiff_bytes = image_file.read()\n",
    "        gtiff_bytes_b64_encoded = base64.b64encode(gtiff_bytes)\n",
    "        return gtiff_bytes_b64_encoded.decode(ENCODING)\n",
    "tif_path = \"../images/aoi_restricted_LT05_CU_012008_20050702_20190102_C01_V0_-632777_2027019.tif\"\n",
    "payload = {'data': read_tif_as_base64_str(tif_path),\n",
    "           'outname': \"results_LT05_CU_012008_20050702_20190102_C01_V0_-632777_2027019.tif\"\n",
    "            }\n",
    "# r = requests.post(async_url, data=read_tif_as_base64(tif_path))\n",
    "r = requests.post(async_url, json=payload)\n",
    "print(r.text)"
   ]
  },
  {
   "cell_type": "code",
   "execution_count": 2,
   "metadata": {},
   "outputs": [
    {
     "name": "stdout",
     "output_type": "stream",
     "text": [
      "{\n",
      "    \"TaskId\": 9078,\n",
      "    \"Status\": \"Task failed - try again\",\n",
      "    \"Timestamp\": \"2021-01-06 05:48:18\",\n",
      "    \"Endpoint\": \"uri\"\n",
      "}\n",
      "\n"
     ]
    }
   ],
   "source": [
    "taskid = int(r.text.split(\": \")[1])\n",
    "url = f\"http://localhost:8081/v1/pytorch_api/task/{taskid}\"\n",
    "\n",
    "payload={}\n",
    "headers = {}\n",
    "\n",
    "response = requests.request(\"GET\", url, headers=headers, data=payload)\n",
    "\n",
    "print(response.text)\n"
   ]
  },
  {
   "cell_type": "markdown",
   "metadata": {},
   "source": [
    "### Server Code"
   ]
  },
  {
   "cell_type": "code",
   "execution_count": 3,
   "metadata": {},
   "outputs": [],
   "source": [
    "gtiff_bytes_str = read_tif_as_base64_str(tif_path)"
   ]
  },
  {
   "cell_type": "code",
   "execution_count": null,
   "metadata": {},
   "outputs": [],
   "source": [
    "gtiff_bytes_str"
   ]
  },
  {
   "cell_type": "code",
   "execution_count": 6,
   "metadata": {},
   "outputs": [],
   "source": [
    "from rasterio.io import MemoryFile\n",
    "from rasterio.plot import reshape_as_image\n",
    "\n",
    "decoded_bytes = base64.b64decode(gtiff_bytes_str)\n",
    "with MemoryFile(decoded_bytes) as memfile:\n",
    "    with memfile.open() as src:\n",
    "        meta = src.meta\n",
    "        arr = reshape_as_image(src.read())\n",
    "\n"
   ]
  },
  {
   "cell_type": "code",
   "execution_count": 12,
   "metadata": {},
   "outputs": [
    {
     "data": {
      "text/plain": [
       "{'driver': 'GTiff',\n",
       " 'dtype': 'int16',\n",
       " 'nodata': -9999.0,\n",
       " 'width': 128,\n",
       " 'height': 128,\n",
       " 'count': 3,\n",
       " 'crs': CRS.from_wkt('PROJCS[\"Albers\",GEOGCS[\"WGS 84\",DATUM[\"WGS_1984\",SPHEROID[\"WGS 84\",6378140,298.256999999996,AUTHORITY[\"EPSG\",\"7030\"]],AUTHORITY[\"EPSG\",\"6326\"]],PRIMEM[\"Greenwich\",0],UNIT[\"degree\",0.0174532925199433,AUTHORITY[\"EPSG\",\"9122\"]],AUTHORITY[\"EPSG\",\"4326\"]],PROJECTION[\"Albers_Conic_Equal_Area\"],PARAMETER[\"latitude_of_center\",23],PARAMETER[\"longitude_of_center\",-96],PARAMETER[\"standard_parallel_1\",29.5],PARAMETER[\"standard_parallel_2\",45.5],PARAMETER[\"false_easting\",0],PARAMETER[\"false_northing\",0],UNIT[\"metre\",1,AUTHORITY[\"EPSG\",\"9001\"]],AXIS[\"Easting\",EAST],AXIS[\"Northing\",NORTH]]'),\n",
       " 'transform': Affine(30.0, 0.0, -632777.949033806,\n",
       "        0.0, -30.0, 2027019.8589219595)}"
      ]
     },
     "execution_count": 12,
     "metadata": {},
     "output_type": "execute_result"
    }
   ],
   "source": [
    "meta"
   ]
  },
  {
   "cell_type": "code",
   "execution_count": null,
   "metadata": {},
   "outputs": [],
   "source": []
  }
 ],
 "metadata": {
  "kernelspec": {
   "display_name": "Python [conda env:geospatial]",
   "language": "python",
   "name": "conda-env-geospatial-py"
  },
  "language_info": {
   "codemirror_mode": {
    "name": "ipython",
    "version": 3
   },
   "file_extension": ".py",
   "mimetype": "text/x-python",
   "name": "python",
   "nbconvert_exporter": "python",
   "pygments_lexer": "ipython3",
   "version": "3.9.1"
  }
 },
 "nbformat": 4,
 "nbformat_minor": 4
}
