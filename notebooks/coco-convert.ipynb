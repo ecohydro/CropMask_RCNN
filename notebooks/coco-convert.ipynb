{
 "cells": [
  {
   "cell_type": "code",
   "execution_count": 1,
   "metadata": {},
   "outputs": [],
   "source": [
    "from pathlib import Path\n",
    "import skimage.io as skio\n",
    "import numpy as np\n",
    "import datetime\n",
    "import json\n",
    "import os\n",
    "import re\n",
    "import fnmatch\n",
    "from PIL import Image\n",
    "from pycococreatortools import pycococreatortools\n",
    "import cropmask.misc as misc\n",
    "from shutil import copyfile\n",
    "from cropmask.coco_convert import *"
   ]
  },
  {
   "cell_type": "code",
   "execution_count": 6,
   "metadata": {},
   "outputs": [
    {
     "data": {
      "text/plain": [
       "['instances_test.json', 'instances_train.json']"
      ]
     },
     "execution_count": 6,
     "metadata": {},
     "output_type": "execute_result"
    }
   ],
   "source": [
    "CHIP_PATH = '/mnt/cropmaskperm/test-landsat/chips'\n",
    "ROOT_DIR = '/mnt/cropmaskperm/test-landsat/'\n",
    "\n",
    "copy_to_coco_folder_structure('/mnt/cropmaskperm/test-landsat/', '/mnt/cropmaskperm/test-landsat/chips')\n",
    "\n",
    "make_save_coco_json(ROOT_DIR)"
   ]
  },
  {
   "cell_type": "markdown",
   "metadata": {},
   "source": [
    "install detectron2, test if all annotations can be loaded"
   ]
  },
  {
   "cell_type": "code",
   "execution_count": 7,
   "metadata": {},
   "outputs": [],
   "source": [
    "from detectron2.data.datasets import register_coco_instances, load_coco_json"
   ]
  },
  {
   "cell_type": "code",
   "execution_count": 8,
   "metadata": {},
   "outputs": [],
   "source": [
    "# register_coco_instances(\"test_dataset\", {}, \"instances_train.json\", \"path/to/image/dir\")"
   ]
  },
  {
   "cell_type": "code",
   "execution_count": 10,
   "metadata": {},
   "outputs": [],
   "source": [
    "ds_json = load_coco_json(ROOT_DIR+\"annotations/instances_train.json\",  \"/train\")"
   ]
  }
 ],
 "metadata": {
  "kernelspec": {
   "display_name": "Python 3",
   "language": "python",
   "name": "python3"
  },
  "language_info": {
   "codemirror_mode": {
    "name": "ipython",
    "version": 3
   },
   "file_extension": ".py",
   "mimetype": "text/x-python",
   "name": "python",
   "nbconvert_exporter": "python",
   "pygments_lexer": "ipython3",
   "version": "3.6.7"
  }
 },
 "nbformat": 4,
 "nbformat_minor": 4
}
