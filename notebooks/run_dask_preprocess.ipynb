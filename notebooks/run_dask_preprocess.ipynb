{
 "cells": [
  {
   "cell_type": "code",
   "execution_count": 1,
   "metadata": {},
   "outputs": [],
   "source": [
    "from cropmask.preprocess import PreprocessWorkflow, get_arr_channel_mean, setup_dirs\n",
    "import time\n",
    "import dask\n",
    "\n",
    "param_path = \"/home/ryan/work/CropMask_RCNN/cropmask/test_preprocess_config.yaml\"\n",
    "\n",
    "# selected scenes with almost no clouds that occurred as well outside of the frost season as possible (ends in February-March)\n",
    "scene_list = [\n",
    "    \"/mnt/cropmaskperm/unpacked_landsat_downloads/LT050320312005082801T1-SC20190418222350\", \n",
    "    \"/mnt/cropmaskperm/unpacked_landsat_downloads/LT050320312005040601T1-SC20190418222326\",\n",
    "    \"/mnt/cropmaskperm/unpacked_landsat_downloads/LT050290312005031601T1-SC20190818204935\",  \n",
    "    \"/mnt/cropmaskperm/unpacked_landsat_downloads/LT050300312005020301T1-SC20190818205734\",\n",
    "    \"/mnt/cropmaskperm/unpacked_landsat_downloads/LT050300322005020301T1-SC20190818205733\",\n",
    "    \"/mnt/cropmaskperm/unpacked_landsat_downloads/LT050290322005031601T1-SC20190818205024\"\n",
    "]\n",
    "labels_path = \"/mnt/cropmaskperm/external/nebraska_pivots_projected.geojson\"\n",
    "\n",
    "setup_dirs(param_path)\n",
    "\n",
    "\n",
    "# this is just to get the train dir path\n",
    "wflow = PreprocessWorkflow(param_path, \n",
    "                             scene_list[0],\n",
    "                             labels_path)\n",
    "\n",
    "results = []\n",
    "for scene_path in scene_list:\n",
    "\n",
    "    wflow = dask.delayed(PreprocessWorkflow)(param_path, scene_path, labels_path)\n",
    "\n",
    "#     wflow = PreprocessWorkflow(param_path, scene_path, labels_path)\n",
    "    \n",
    "    band_list = wflow.yaml_to_band_index()\n",
    "        \n",
    "    product_list = wflow.get_product_paths(band_list)\n",
    "        \n",
    "    a = wflow.load_meta_and_bounds(product_list)\n",
    "        \n",
    "    b = a.stack_and_save_bands()\n",
    "        \n",
    "    c = b.negative_buffer_and_small_filter(-31, 100)\n",
    "        \n",
    "    d = c.grid_images()\n",
    "        \n",
    "    e = d.remove_from_gridded()\n",
    "        \n",
    "    result = e.connected_components()\n",
    "\n",
    "    results.append(result)\n",
    "  "
   ]
  },
  {
   "cell_type": "code",
   "execution_count": null,
   "metadata": {},
   "outputs": [
    {
     "name": "stdout",
     "output_type": "stream",
     "text": [
      "Done applying negbuff of -30 and filtering small labels of area less than 3600\n"
     ]
    },
    {
     "name": "stderr",
     "output_type": "stream",
     "text": [
      "/data/anaconda/envs/cropmask/lib/python3.7/site-packages/skimage/io/_io.py:141: UserWarning: /mnt/cropmaskperm/landsat-clear-scenes-2005/train/LT050300312005020301T1-SC20190818205734_tile_0_0/image/LT050300312005020301T1-SC20190818205734_tile_0_0.tif is a low contrast image\n",
      "  warn('%s is a low contrast image' % fname)\n"
     ]
    },
    {
     "name": "stdout",
     "output_type": "stream",
     "text": [
      "removed scene and label, 0.02% bad data\n"
     ]
    },
    {
     "name": "stderr",
     "output_type": "stream",
     "text": [
      "/data/anaconda/envs/cropmask/lib/python3.7/site-packages/skimage/io/_io.py:141: UserWarning: /mnt/cropmaskperm/landsat-clear-scenes-2005/train/LT050300312005020301T1-SC20190818205734_tile_0_1024/image/LT050300312005020301T1-SC20190818205734_tile_0_1024.tif is a low contrast image\n",
      "  warn('%s is a low contrast image' % fname)\n"
     ]
    },
    {
     "name": "stdout",
     "output_type": "stream",
     "text": [
      "removed scene and label, 0.02% bad data\n"
     ]
    },
    {
     "name": "stderr",
     "output_type": "stream",
     "text": [
      "/data/anaconda/envs/cropmask/lib/python3.7/site-packages/skimage/io/_io.py:141: UserWarning: /mnt/cropmaskperm/landsat-clear-scenes-2005/train/LT050300312005020301T1-SC20190818205734_tile_0_1536/image/LT050300312005020301T1-SC20190818205734_tile_0_1536.tif is a low contrast image\n",
      "  warn('%s is a low contrast image' % fname)\n"
     ]
    },
    {
     "name": "stdout",
     "output_type": "stream",
     "text": [
      "removed scene and label, 0.02% bad data\n"
     ]
    },
    {
     "name": "stderr",
     "output_type": "stream",
     "text": [
      "/data/anaconda/envs/cropmask/lib/python3.7/site-packages/skimage/io/_io.py:141: UserWarning: /mnt/cropmaskperm/landsat-clear-scenes-2005/train/LT050300312005020301T1-SC20190818205734_tile_0_2048/image/LT050300312005020301T1-SC20190818205734_tile_0_2048.tif is a low contrast image\n",
      "  warn('%s is a low contrast image' % fname)\n"
     ]
    },
    {
     "name": "stdout",
     "output_type": "stream",
     "text": [
      "removed scene and label, 0.02% bad data\n"
     ]
    },
    {
     "name": "stderr",
     "output_type": "stream",
     "text": [
      "/data/anaconda/envs/cropmask/lib/python3.7/site-packages/skimage/io/_io.py:141: UserWarning: /mnt/cropmaskperm/landsat-clear-scenes-2005/train/LT050300312005020301T1-SC20190818205734_tile_0_2560/image/LT050300312005020301T1-SC20190818205734_tile_0_2560.tif is a low contrast image\n",
      "  warn('%s is a low contrast image' % fname)\n"
     ]
    },
    {
     "name": "stdout",
     "output_type": "stream",
     "text": [
      "removed scene and label, 0.02% bad data\n"
     ]
    },
    {
     "name": "stderr",
     "output_type": "stream",
     "text": [
      "/data/anaconda/envs/cropmask/lib/python3.7/site-packages/skimage/io/_io.py:141: UserWarning: /mnt/cropmaskperm/landsat-clear-scenes-2005/train/LT050300312005020301T1-SC20190818205734_tile_0_3072/image/LT050300312005020301T1-SC20190818205734_tile_0_3072.tif is a low contrast image\n",
      "  warn('%s is a low contrast image' % fname)\n"
     ]
    },
    {
     "name": "stdout",
     "output_type": "stream",
     "text": [
      "removed scene and label, 0.02% bad data\n"
     ]
    },
    {
     "name": "stderr",
     "output_type": "stream",
     "text": [
      "/data/anaconda/envs/cropmask/lib/python3.7/site-packages/skimage/io/_io.py:141: UserWarning: /mnt/cropmaskperm/landsat-clear-scenes-2005/train/LT050300312005020301T1-SC20190818205734_tile_0_3584/image/LT050300312005020301T1-SC20190818205734_tile_0_3584.tif is a low contrast image\n",
      "  warn('%s is a low contrast image' % fname)\n"
     ]
    },
    {
     "name": "stdout",
     "output_type": "stream",
     "text": [
      "removed scene and label, 0.02% bad data\n"
     ]
    },
    {
     "name": "stderr",
     "output_type": "stream",
     "text": [
      "/data/anaconda/envs/cropmask/lib/python3.7/site-packages/skimage/io/_io.py:141: UserWarning: /mnt/cropmaskperm/landsat-clear-scenes-2005/train/LT050300312005020301T1-SC20190818205734_tile_0_4096/image/LT050300312005020301T1-SC20190818205734_tile_0_4096.tif is a low contrast image\n",
      "  warn('%s is a low contrast image' % fname)\n"
     ]
    },
    {
     "name": "stdout",
     "output_type": "stream",
     "text": [
      "removed scene and label, 0.02% bad data\n"
     ]
    },
    {
     "name": "stderr",
     "output_type": "stream",
     "text": [
      "/data/anaconda/envs/cropmask/lib/python3.7/site-packages/skimage/io/_io.py:141: UserWarning: /mnt/cropmaskperm/landsat-clear-scenes-2005/train/LT050300312005020301T1-SC20190818205734_tile_0_4608/image/LT050300312005020301T1-SC20190818205734_tile_0_4608.tif is a low contrast image\n",
      "  warn('%s is a low contrast image' % fname)\n"
     ]
    },
    {
     "name": "stdout",
     "output_type": "stream",
     "text": [
      "removed scene and label, 0.02% bad data\n"
     ]
    },
    {
     "name": "stderr",
     "output_type": "stream",
     "text": [
      "/data/anaconda/envs/cropmask/lib/python3.7/site-packages/skimage/io/_io.py:141: UserWarning: /mnt/cropmaskperm/landsat-clear-scenes-2005/train/LT050300312005020301T1-SC20190818205734_tile_0_512/image/LT050300312005020301T1-SC20190818205734_tile_0_512.tif is a low contrast image\n",
      "  warn('%s is a low contrast image' % fname)\n"
     ]
    },
    {
     "name": "stdout",
     "output_type": "stream",
     "text": [
      "removed scene and label, 0.02% bad data\n"
     ]
    },
    {
     "name": "stderr",
     "output_type": "stream",
     "text": [
      "/data/anaconda/envs/cropmask/lib/python3.7/site-packages/skimage/io/_io.py:141: UserWarning: /mnt/cropmaskperm/landsat-clear-scenes-2005/train/LT050300312005020301T1-SC20190818205734_tile_0_5120/image/LT050300312005020301T1-SC20190818205734_tile_0_5120.tif is a low contrast image\n",
      "  warn('%s is a low contrast image' % fname)\n"
     ]
    },
    {
     "name": "stdout",
     "output_type": "stream",
     "text": [
      "removed scene and label, 0.02% bad data\n"
     ]
    },
    {
     "name": "stderr",
     "output_type": "stream",
     "text": [
      "/data/anaconda/envs/cropmask/lib/python3.7/site-packages/skimage/io/_io.py:141: UserWarning: /mnt/cropmaskperm/landsat-clear-scenes-2005/train/LT050300312005020301T1-SC20190818205734_tile_0_5632/image/LT050300312005020301T1-SC20190818205734_tile_0_5632.tif is a low contrast image\n",
      "  warn('%s is a low contrast image' % fname)\n"
     ]
    },
    {
     "name": "stdout",
     "output_type": "stream",
     "text": [
      "removed scene and label, 0.02% bad data\n"
     ]
    },
    {
     "name": "stderr",
     "output_type": "stream",
     "text": [
      "/data/anaconda/envs/cropmask/lib/python3.7/site-packages/skimage/io/_io.py:141: UserWarning: /mnt/cropmaskperm/landsat-clear-scenes-2005/train/LT050300312005020301T1-SC20190818205734_tile_0_6144/image/LT050300312005020301T1-SC20190818205734_tile_0_6144.tif is a low contrast image\n",
      "  warn('%s is a low contrast image' % fname)\n"
     ]
    },
    {
     "name": "stdout",
     "output_type": "stream",
     "text": [
      "removed scene and label, 0.02% bad data\n"
     ]
    },
    {
     "name": "stderr",
     "output_type": "stream",
     "text": [
      "/data/anaconda/envs/cropmask/lib/python3.7/site-packages/skimage/io/_io.py:141: UserWarning: /mnt/cropmaskperm/landsat-clear-scenes-2005/train/LT050300312005020301T1-SC20190818205734_tile_0_6656/image/LT050300312005020301T1-SC20190818205734_tile_0_6656.tif is a low contrast image\n",
      "  warn('%s is a low contrast image' % fname)\n"
     ]
    },
    {
     "name": "stdout",
     "output_type": "stream",
     "text": [
      "removed scene and label, 0.02% bad data\n"
     ]
    },
    {
     "name": "stderr",
     "output_type": "stream",
     "text": [
      "/data/anaconda/envs/cropmask/lib/python3.7/site-packages/skimage/io/_io.py:141: UserWarning: /mnt/cropmaskperm/landsat-clear-scenes-2005/train/LT050300312005020301T1-SC20190818205734_tile_0_7168/image/LT050300312005020301T1-SC20190818205734_tile_0_7168.tif is a low contrast image\n",
      "  warn('%s is a low contrast image' % fname)\n"
     ]
    },
    {
     "name": "stdout",
     "output_type": "stream",
     "text": [
      "removed scene and label, 0.02% bad data\n"
     ]
    },
    {
     "name": "stderr",
     "output_type": "stream",
     "text": [
      "/data/anaconda/envs/cropmask/lib/python3.7/site-packages/skimage/io/_io.py:141: UserWarning: /mnt/cropmaskperm/landsat-clear-scenes-2005/train/LT050300312005020301T1-SC20190818205734_tile_1024_0/image/LT050300312005020301T1-SC20190818205734_tile_1024_0.tif is a low contrast image\n",
      "  warn('%s is a low contrast image' % fname)\n"
     ]
    },
    {
     "name": "stdout",
     "output_type": "stream",
     "text": [
      "removed scene and label, 0.02% bad data\n"
     ]
    },
    {
     "name": "stderr",
     "output_type": "stream",
     "text": [
      "/data/anaconda/envs/cropmask/lib/python3.7/site-packages/skimage/io/_io.py:141: UserWarning: /mnt/cropmaskperm/landsat-clear-scenes-2005/train/LT050300312005020301T1-SC20190818205734_tile_1024_1024/image/LT050300312005020301T1-SC20190818205734_tile_1024_1024.tif is a low contrast image\n",
      "  warn('%s is a low contrast image' % fname)\n"
     ]
    },
    {
     "name": "stdout",
     "output_type": "stream",
     "text": [
      "removed scene and label, 0.02% bad data\n"
     ]
    },
    {
     "name": "stderr",
     "output_type": "stream",
     "text": [
      "/data/anaconda/envs/cropmask/lib/python3.7/site-packages/skimage/io/_io.py:141: UserWarning: /mnt/cropmaskperm/landsat-clear-scenes-2005/train/LT050300312005020301T1-SC20190818205734_tile_1024_1536/image/LT050300312005020301T1-SC20190818205734_tile_1024_1536.tif is a low contrast image\n",
      "  warn('%s is a low contrast image' % fname)\n"
     ]
    },
    {
     "name": "stdout",
     "output_type": "stream",
     "text": [
      "removed scene and label, 0.02% bad data\n"
     ]
    },
    {
     "name": "stderr",
     "output_type": "stream",
     "text": [
      "/data/anaconda/envs/cropmask/lib/python3.7/site-packages/skimage/io/_io.py:141: UserWarning: /mnt/cropmaskperm/landsat-clear-scenes-2005/train/LT050300312005020301T1-SC20190818205734_tile_1024_2048/image/LT050300312005020301T1-SC20190818205734_tile_1024_2048.tif is a low contrast image\n",
      "  warn('%s is a low contrast image' % fname)\n"
     ]
    },
    {
     "name": "stdout",
     "output_type": "stream",
     "text": [
      "removed scene and label, 0.02% bad data\n"
     ]
    },
    {
     "name": "stderr",
     "output_type": "stream",
     "text": [
      "/data/anaconda/envs/cropmask/lib/python3.7/site-packages/skimage/io/_io.py:141: UserWarning: /mnt/cropmaskperm/landsat-clear-scenes-2005/train/LT050300312005020301T1-SC20190818205734_tile_1024_2560/image/LT050300312005020301T1-SC20190818205734_tile_1024_2560.tif is a low contrast image\n",
      "  warn('%s is a low contrast image' % fname)\n",
      "/data/anaconda/envs/cropmask/lib/python3.7/site-packages/skimage/io/_io.py:141: UserWarning: /mnt/cropmaskperm/landsat-clear-scenes-2005/train/LT050300312005020301T1-SC20190818205734_tile_1024_3072/image/LT050300312005020301T1-SC20190818205734_tile_1024_3072.tif is a low contrast image\n",
      "  warn('%s is a low contrast image' % fname)\n",
      "/data/anaconda/envs/cropmask/lib/python3.7/site-packages/skimage/io/_io.py:141: UserWarning: /mnt/cropmaskperm/landsat-clear-scenes-2005/train/LT050300312005020301T1-SC20190818205734_tile_1024_3584/image/LT050300312005020301T1-SC20190818205734_tile_1024_3584.tif is a low contrast image\n",
      "  warn('%s is a low contrast image' % fname)\n",
      "/data/anaconda/envs/cropmask/lib/python3.7/site-packages/skimage/io/_io.py:141: UserWarning: /mnt/cropmaskperm/landsat-clear-scenes-2005/train/LT050300312005020301T1-SC20190818205734_tile_1024_4096/image/LT050300312005020301T1-SC20190818205734_tile_1024_4096.tif is a low contrast image\n",
      "  warn('%s is a low contrast image' % fname)\n",
      "/data/anaconda/envs/cropmask/lib/python3.7/site-packages/skimage/io/_io.py:141: UserWarning: /mnt/cropmaskperm/landsat-clear-scenes-2005/train/LT050300312005020301T1-SC20190818205734_tile_1024_4608/image/LT050300312005020301T1-SC20190818205734_tile_1024_4608.tif is a low contrast image\n",
      "  warn('%s is a low contrast image' % fname)\n",
      "/data/anaconda/envs/cropmask/lib/python3.7/site-packages/skimage/io/_io.py:141: UserWarning: /mnt/cropmaskperm/landsat-clear-scenes-2005/train/LT050300312005020301T1-SC20190818205734_tile_1024_512/image/LT050300312005020301T1-SC20190818205734_tile_1024_512.tif is a low contrast image\n",
      "  warn('%s is a low contrast image' % fname)\n"
     ]
    },
    {
     "name": "stdout",
     "output_type": "stream",
     "text": [
      "removed scene and label, 0.02% bad data\n"
     ]
    },
    {
     "name": "stderr",
     "output_type": "stream",
     "text": [
      "/data/anaconda/envs/cropmask/lib/python3.7/site-packages/skimage/io/_io.py:141: UserWarning: /mnt/cropmaskperm/landsat-clear-scenes-2005/train/LT050300312005020301T1-SC20190818205734_tile_1024_5120/image/LT050300312005020301T1-SC20190818205734_tile_1024_5120.tif is a low contrast image\n",
      "  warn('%s is a low contrast image' % fname)\n",
      "/data/anaconda/envs/cropmask/lib/python3.7/site-packages/skimage/io/_io.py:141: UserWarning: /mnt/cropmaskperm/landsat-clear-scenes-2005/train/LT050300312005020301T1-SC20190818205734_tile_1024_5632/image/LT050300312005020301T1-SC20190818205734_tile_1024_5632.tif is a low contrast image\n",
      "  warn('%s is a low contrast image' % fname)\n"
     ]
    },
    {
     "name": "stdout",
     "output_type": "stream",
     "text": [
      "removed scene and label, 0.02% bad data\n"
     ]
    },
    {
     "name": "stderr",
     "output_type": "stream",
     "text": [
      "/data/anaconda/envs/cropmask/lib/python3.7/site-packages/skimage/io/_io.py:141: UserWarning: /mnt/cropmaskperm/landsat-clear-scenes-2005/train/LT050300312005020301T1-SC20190818205734_tile_1024_6144/image/LT050300312005020301T1-SC20190818205734_tile_1024_6144.tif is a low contrast image\n",
      "  warn('%s is a low contrast image' % fname)\n"
     ]
    },
    {
     "name": "stdout",
     "output_type": "stream",
     "text": [
      "removed scene and label, 0.02% bad data\n"
     ]
    },
    {
     "name": "stderr",
     "output_type": "stream",
     "text": [
      "/data/anaconda/envs/cropmask/lib/python3.7/site-packages/skimage/io/_io.py:141: UserWarning: /mnt/cropmaskperm/landsat-clear-scenes-2005/train/LT050300312005020301T1-SC20190818205734_tile_1024_6656/image/LT050300312005020301T1-SC20190818205734_tile_1024_6656.tif is a low contrast image\n",
      "  warn('%s is a low contrast image' % fname)\n"
     ]
    },
    {
     "name": "stdout",
     "output_type": "stream",
     "text": [
      "removed scene and label, 0.02% bad data\n"
     ]
    },
    {
     "name": "stderr",
     "output_type": "stream",
     "text": [
      "/data/anaconda/envs/cropmask/lib/python3.7/site-packages/skimage/io/_io.py:141: UserWarning: /mnt/cropmaskperm/landsat-clear-scenes-2005/train/LT050300312005020301T1-SC20190818205734_tile_1024_7168/image/LT050300312005020301T1-SC20190818205734_tile_1024_7168.tif is a low contrast image\n",
      "  warn('%s is a low contrast image' % fname)\n"
     ]
    },
    {
     "name": "stdout",
     "output_type": "stream",
     "text": [
      "removed scene and label, 0.02% bad data\n"
     ]
    },
    {
     "name": "stderr",
     "output_type": "stream",
     "text": [
      "/data/anaconda/envs/cropmask/lib/python3.7/site-packages/skimage/io/_io.py:141: UserWarning: /mnt/cropmaskperm/landsat-clear-scenes-2005/train/LT050300312005020301T1-SC20190818205734_tile_1536_0/image/LT050300312005020301T1-SC20190818205734_tile_1536_0.tif is a low contrast image\n",
      "  warn('%s is a low contrast image' % fname)\n"
     ]
    },
    {
     "name": "stdout",
     "output_type": "stream",
     "text": [
      "removed scene and label, 0.02% bad data\n"
     ]
    },
    {
     "name": "stderr",
     "output_type": "stream",
     "text": [
      "/data/anaconda/envs/cropmask/lib/python3.7/site-packages/skimage/io/_io.py:141: UserWarning: /mnt/cropmaskperm/landsat-clear-scenes-2005/train/LT050300312005020301T1-SC20190818205734_tile_1536_1024/image/LT050300312005020301T1-SC20190818205734_tile_1536_1024.tif is a low contrast image\n",
      "  warn('%s is a low contrast image' % fname)\n",
      "/data/anaconda/envs/cropmask/lib/python3.7/site-packages/skimage/io/_io.py:141: UserWarning: /mnt/cropmaskperm/landsat-clear-scenes-2005/train/LT050300312005020301T1-SC20190818205734_tile_1536_1536/image/LT050300312005020301T1-SC20190818205734_tile_1536_1536.tif is a low contrast image\n",
      "  warn('%s is a low contrast image' % fname)\n",
      "/data/anaconda/envs/cropmask/lib/python3.7/site-packages/skimage/io/_io.py:141: UserWarning: /mnt/cropmaskperm/landsat-clear-scenes-2005/train/LT050300312005020301T1-SC20190818205734_tile_1536_2048/image/LT050300312005020301T1-SC20190818205734_tile_1536_2048.tif is a low contrast image\n",
      "  warn('%s is a low contrast image' % fname)\n",
      "/data/anaconda/envs/cropmask/lib/python3.7/site-packages/skimage/io/_io.py:141: UserWarning: /mnt/cropmaskperm/landsat-clear-scenes-2005/train/LT050300312005020301T1-SC20190818205734_tile_1536_2560/image/LT050300312005020301T1-SC20190818205734_tile_1536_2560.tif is a low contrast image\n",
      "  warn('%s is a low contrast image' % fname)\n",
      "/data/anaconda/envs/cropmask/lib/python3.7/site-packages/skimage/io/_io.py:141: UserWarning: /mnt/cropmaskperm/landsat-clear-scenes-2005/train/LT050300312005020301T1-SC20190818205734_tile_1536_3072/image/LT050300312005020301T1-SC20190818205734_tile_1536_3072.tif is a low contrast image\n",
      "  warn('%s is a low contrast image' % fname)\n",
      "/data/anaconda/envs/cropmask/lib/python3.7/site-packages/skimage/io/_io.py:141: UserWarning: /mnt/cropmaskperm/landsat-clear-scenes-2005/train/LT050300312005020301T1-SC20190818205734_tile_1536_3584/image/LT050300312005020301T1-SC20190818205734_tile_1536_3584.tif is a low contrast image\n",
      "  warn('%s is a low contrast image' % fname)\n",
      "/data/anaconda/envs/cropmask/lib/python3.7/site-packages/skimage/io/_io.py:141: UserWarning: /mnt/cropmaskperm/landsat-clear-scenes-2005/train/LT050300312005020301T1-SC20190818205734_tile_1536_4096/image/LT050300312005020301T1-SC20190818205734_tile_1536_4096.tif is a low contrast image\n",
      "  warn('%s is a low contrast image' % fname)\n",
      "/data/anaconda/envs/cropmask/lib/python3.7/site-packages/skimage/io/_io.py:141: UserWarning: /mnt/cropmaskperm/landsat-clear-scenes-2005/train/LT050300312005020301T1-SC20190818205734_tile_1536_4608/image/LT050300312005020301T1-SC20190818205734_tile_1536_4608.tif is a low contrast image\n",
      "  warn('%s is a low contrast image' % fname)\n",
      "/data/anaconda/envs/cropmask/lib/python3.7/site-packages/skimage/io/_io.py:141: UserWarning: /mnt/cropmaskperm/landsat-clear-scenes-2005/train/LT050300312005020301T1-SC20190818205734_tile_1536_512/image/LT050300312005020301T1-SC20190818205734_tile_1536_512.tif is a low contrast image\n",
      "  warn('%s is a low contrast image' % fname)\n",
      "/data/anaconda/envs/cropmask/lib/python3.7/site-packages/skimage/io/_io.py:141: UserWarning: /mnt/cropmaskperm/landsat-clear-scenes-2005/train/LT050300312005020301T1-SC20190818205734_tile_1536_5120/image/LT050300312005020301T1-SC20190818205734_tile_1536_5120.tif is a low contrast image\n",
      "  warn('%s is a low contrast image' % fname)\n",
      "/data/anaconda/envs/cropmask/lib/python3.7/site-packages/skimage/io/_io.py:141: UserWarning: /mnt/cropmaskperm/landsat-clear-scenes-2005/train/LT050300312005020301T1-SC20190818205734_tile_1536_5632/image/LT050300312005020301T1-SC20190818205734_tile_1536_5632.tif is a low contrast image\n",
      "  warn('%s is a low contrast image' % fname)\n",
      "/data/anaconda/envs/cropmask/lib/python3.7/site-packages/skimage/io/_io.py:141: UserWarning: /mnt/cropmaskperm/landsat-clear-scenes-2005/train/LT050300312005020301T1-SC20190818205734_tile_1536_6144/image/LT050300312005020301T1-SC20190818205734_tile_1536_6144.tif is a low contrast image\n",
      "  warn('%s is a low contrast image' % fname)\n"
     ]
    },
    {
     "name": "stdout",
     "output_type": "stream",
     "text": [
      "removed scene and label, 0.02% bad data\n"
     ]
    },
    {
     "name": "stderr",
     "output_type": "stream",
     "text": [
      "/data/anaconda/envs/cropmask/lib/python3.7/site-packages/skimage/io/_io.py:141: UserWarning: /mnt/cropmaskperm/landsat-clear-scenes-2005/train/LT050300312005020301T1-SC20190818205734_tile_1536_6656/image/LT050300312005020301T1-SC20190818205734_tile_1536_6656.tif is a low contrast image\n",
      "  warn('%s is a low contrast image' % fname)\n"
     ]
    },
    {
     "name": "stdout",
     "output_type": "stream",
     "text": [
      "removed scene and label, 0.02% bad data\n"
     ]
    },
    {
     "name": "stderr",
     "output_type": "stream",
     "text": [
      "/data/anaconda/envs/cropmask/lib/python3.7/site-packages/skimage/io/_io.py:141: UserWarning: /mnt/cropmaskperm/landsat-clear-scenes-2005/train/LT050300312005020301T1-SC20190818205734_tile_1536_7168/image/LT050300312005020301T1-SC20190818205734_tile_1536_7168.tif is a low contrast image\n",
      "  warn('%s is a low contrast image' % fname)\n"
     ]
    },
    {
     "name": "stdout",
     "output_type": "stream",
     "text": [
      "removed scene and label, 0.02% bad data\n"
     ]
    },
    {
     "name": "stderr",
     "output_type": "stream",
     "text": [
      "/data/anaconda/envs/cropmask/lib/python3.7/site-packages/skimage/io/_io.py:141: UserWarning: /mnt/cropmaskperm/landsat-clear-scenes-2005/train/LT050300312005020301T1-SC20190818205734_tile_2048_0/image/LT050300312005020301T1-SC20190818205734_tile_2048_0.tif is a low contrast image\n",
      "  warn('%s is a low contrast image' % fname)\n"
     ]
    },
    {
     "name": "stdout",
     "output_type": "stream",
     "text": [
      "removed scene and label, 0.02% bad data\n"
     ]
    },
    {
     "name": "stderr",
     "output_type": "stream",
     "text": [
      "/data/anaconda/envs/cropmask/lib/python3.7/site-packages/skimage/io/_io.py:141: UserWarning: /mnt/cropmaskperm/landsat-clear-scenes-2005/train/LT050300312005020301T1-SC20190818205734_tile_2048_1024/image/LT050300312005020301T1-SC20190818205734_tile_2048_1024.tif is a low contrast image\n",
      "  warn('%s is a low contrast image' % fname)\n",
      "/data/anaconda/envs/cropmask/lib/python3.7/site-packages/skimage/io/_io.py:141: UserWarning: /mnt/cropmaskperm/landsat-clear-scenes-2005/train/LT050300312005020301T1-SC20190818205734_tile_2048_1536/image/LT050300312005020301T1-SC20190818205734_tile_2048_1536.tif is a low contrast image\n",
      "  warn('%s is a low contrast image' % fname)\n",
      "/data/anaconda/envs/cropmask/lib/python3.7/site-packages/skimage/io/_io.py:141: UserWarning: /mnt/cropmaskperm/landsat-clear-scenes-2005/train/LT050300312005020301T1-SC20190818205734_tile_2048_2048/image/LT050300312005020301T1-SC20190818205734_tile_2048_2048.tif is a low contrast image\n",
      "  warn('%s is a low contrast image' % fname)\n",
      "/data/anaconda/envs/cropmask/lib/python3.7/site-packages/skimage/io/_io.py:141: UserWarning: /mnt/cropmaskperm/landsat-clear-scenes-2005/train/LT050300312005020301T1-SC20190818205734_tile_2048_2560/image/LT050300312005020301T1-SC20190818205734_tile_2048_2560.tif is a low contrast image\n",
      "  warn('%s is a low contrast image' % fname)\n",
      "/data/anaconda/envs/cropmask/lib/python3.7/site-packages/skimage/io/_io.py:141: UserWarning: /mnt/cropmaskperm/landsat-clear-scenes-2005/train/LT050300312005020301T1-SC20190818205734_tile_2048_3072/image/LT050300312005020301T1-SC20190818205734_tile_2048_3072.tif is a low contrast image\n",
      "  warn('%s is a low contrast image' % fname)\n",
      "/data/anaconda/envs/cropmask/lib/python3.7/site-packages/skimage/io/_io.py:141: UserWarning: /mnt/cropmaskperm/landsat-clear-scenes-2005/train/LT050300312005020301T1-SC20190818205734_tile_2048_3584/image/LT050300312005020301T1-SC20190818205734_tile_2048_3584.tif is a low contrast image\n",
      "  warn('%s is a low contrast image' % fname)\n",
      "/data/anaconda/envs/cropmask/lib/python3.7/site-packages/skimage/io/_io.py:141: UserWarning: /mnt/cropmaskperm/landsat-clear-scenes-2005/train/LT050300312005020301T1-SC20190818205734_tile_2048_4096/image/LT050300312005020301T1-SC20190818205734_tile_2048_4096.tif is a low contrast image\n",
      "  warn('%s is a low contrast image' % fname)\n",
      "/data/anaconda/envs/cropmask/lib/python3.7/site-packages/skimage/io/_io.py:141: UserWarning: /mnt/cropmaskperm/landsat-clear-scenes-2005/train/LT050300312005020301T1-SC20190818205734_tile_2048_4608/image/LT050300312005020301T1-SC20190818205734_tile_2048_4608.tif is a low contrast image\n",
      "  warn('%s is a low contrast image' % fname)\n",
      "/data/anaconda/envs/cropmask/lib/python3.7/site-packages/skimage/io/_io.py:141: UserWarning: /mnt/cropmaskperm/landsat-clear-scenes-2005/train/LT050300312005020301T1-SC20190818205734_tile_2048_512/image/LT050300312005020301T1-SC20190818205734_tile_2048_512.tif is a low contrast image\n",
      "  warn('%s is a low contrast image' % fname)\n",
      "/data/anaconda/envs/cropmask/lib/python3.7/site-packages/skimage/io/_io.py:141: UserWarning: /mnt/cropmaskperm/landsat-clear-scenes-2005/train/LT050300312005020301T1-SC20190818205734_tile_2048_5120/image/LT050300312005020301T1-SC20190818205734_tile_2048_5120.tif is a low contrast image\n",
      "  warn('%s is a low contrast image' % fname)\n",
      "/data/anaconda/envs/cropmask/lib/python3.7/site-packages/skimage/io/_io.py:141: UserWarning: /mnt/cropmaskperm/landsat-clear-scenes-2005/train/LT050300312005020301T1-SC20190818205734_tile_2048_5632/image/LT050300312005020301T1-SC20190818205734_tile_2048_5632.tif is a low contrast image\n",
      "  warn('%s is a low contrast image' % fname)\n",
      "/data/anaconda/envs/cropmask/lib/python3.7/site-packages/skimage/io/_io.py:141: UserWarning: /mnt/cropmaskperm/landsat-clear-scenes-2005/train/LT050300312005020301T1-SC20190818205734_tile_2048_6144/image/LT050300312005020301T1-SC20190818205734_tile_2048_6144.tif is a low contrast image\n",
      "  warn('%s is a low contrast image' % fname)\n"
     ]
    },
    {
     "name": "stdout",
     "output_type": "stream",
     "text": [
      "removed scene and label, 0.02% bad data\n"
     ]
    },
    {
     "name": "stderr",
     "output_type": "stream",
     "text": [
      "/data/anaconda/envs/cropmask/lib/python3.7/site-packages/skimage/io/_io.py:141: UserWarning: /mnt/cropmaskperm/landsat-clear-scenes-2005/train/LT050300312005020301T1-SC20190818205734_tile_2048_6656/image/LT050300312005020301T1-SC20190818205734_tile_2048_6656.tif is a low contrast image\n",
      "  warn('%s is a low contrast image' % fname)\n"
     ]
    },
    {
     "name": "stdout",
     "output_type": "stream",
     "text": [
      "removed scene and label, 0.02% bad data\n"
     ]
    },
    {
     "name": "stderr",
     "output_type": "stream",
     "text": [
      "/data/anaconda/envs/cropmask/lib/python3.7/site-packages/skimage/io/_io.py:141: UserWarning: /mnt/cropmaskperm/landsat-clear-scenes-2005/train/LT050300312005020301T1-SC20190818205734_tile_2048_7168/image/LT050300312005020301T1-SC20190818205734_tile_2048_7168.tif is a low contrast image\n",
      "  warn('%s is a low contrast image' % fname)\n"
     ]
    },
    {
     "name": "stdout",
     "output_type": "stream",
     "text": [
      "removed scene and label, 0.02% bad data\n"
     ]
    },
    {
     "name": "stderr",
     "output_type": "stream",
     "text": [
      "/data/anaconda/envs/cropmask/lib/python3.7/site-packages/skimage/io/_io.py:141: UserWarning: /mnt/cropmaskperm/landsat-clear-scenes-2005/train/LT050300312005020301T1-SC20190818205734_tile_2560_0/image/LT050300312005020301T1-SC20190818205734_tile_2560_0.tif is a low contrast image\n",
      "  warn('%s is a low contrast image' % fname)\n"
     ]
    },
    {
     "name": "stdout",
     "output_type": "stream",
     "text": [
      "removed scene and label, 0.02% bad data\n"
     ]
    },
    {
     "name": "stderr",
     "output_type": "stream",
     "text": [
      "/data/anaconda/envs/cropmask/lib/python3.7/site-packages/skimage/io/_io.py:141: UserWarning: /mnt/cropmaskperm/landsat-clear-scenes-2005/train/LT050300312005020301T1-SC20190818205734_tile_2560_1024/image/LT050300312005020301T1-SC20190818205734_tile_2560_1024.tif is a low contrast image\n",
      "  warn('%s is a low contrast image' % fname)\n",
      "/data/anaconda/envs/cropmask/lib/python3.7/site-packages/skimage/io/_io.py:141: UserWarning: /mnt/cropmaskperm/landsat-clear-scenes-2005/train/LT050300312005020301T1-SC20190818205734_tile_2560_1536/image/LT050300312005020301T1-SC20190818205734_tile_2560_1536.tif is a low contrast image\n",
      "  warn('%s is a low contrast image' % fname)\n",
      "/data/anaconda/envs/cropmask/lib/python3.7/site-packages/skimage/io/_io.py:141: UserWarning: /mnt/cropmaskperm/landsat-clear-scenes-2005/train/LT050300312005020301T1-SC20190818205734_tile_2560_2048/image/LT050300312005020301T1-SC20190818205734_tile_2560_2048.tif is a low contrast image\n",
      "  warn('%s is a low contrast image' % fname)\n",
      "/data/anaconda/envs/cropmask/lib/python3.7/site-packages/skimage/io/_io.py:141: UserWarning: /mnt/cropmaskperm/landsat-clear-scenes-2005/train/LT050300312005020301T1-SC20190818205734_tile_2560_2560/image/LT050300312005020301T1-SC20190818205734_tile_2560_2560.tif is a low contrast image\n",
      "  warn('%s is a low contrast image' % fname)\n",
      "/data/anaconda/envs/cropmask/lib/python3.7/site-packages/skimage/io/_io.py:141: UserWarning: /mnt/cropmaskperm/landsat-clear-scenes-2005/train/LT050300312005020301T1-SC20190818205734_tile_2560_3072/image/LT050300312005020301T1-SC20190818205734_tile_2560_3072.tif is a low contrast image\n",
      "  warn('%s is a low contrast image' % fname)\n",
      "/data/anaconda/envs/cropmask/lib/python3.7/site-packages/skimage/io/_io.py:141: UserWarning: /mnt/cropmaskperm/landsat-clear-scenes-2005/train/LT050300312005020301T1-SC20190818205734_tile_2560_3584/image/LT050300312005020301T1-SC20190818205734_tile_2560_3584.tif is a low contrast image\n",
      "  warn('%s is a low contrast image' % fname)\n",
      "/data/anaconda/envs/cropmask/lib/python3.7/site-packages/skimage/io/_io.py:141: UserWarning: /mnt/cropmaskperm/landsat-clear-scenes-2005/train/LT050300312005020301T1-SC20190818205734_tile_2560_4096/image/LT050300312005020301T1-SC20190818205734_tile_2560_4096.tif is a low contrast image\n",
      "  warn('%s is a low contrast image' % fname)\n",
      "/data/anaconda/envs/cropmask/lib/python3.7/site-packages/skimage/io/_io.py:141: UserWarning: /mnt/cropmaskperm/landsat-clear-scenes-2005/train/LT050300312005020301T1-SC20190818205734_tile_2560_4608/image/LT050300312005020301T1-SC20190818205734_tile_2560_4608.tif is a low contrast image\n",
      "  warn('%s is a low contrast image' % fname)\n",
      "/data/anaconda/envs/cropmask/lib/python3.7/site-packages/skimage/io/_io.py:141: UserWarning: /mnt/cropmaskperm/landsat-clear-scenes-2005/train/LT050300312005020301T1-SC20190818205734_tile_2560_512/image/LT050300312005020301T1-SC20190818205734_tile_2560_512.tif is a low contrast image\n",
      "  warn('%s is a low contrast image' % fname)\n",
      "/data/anaconda/envs/cropmask/lib/python3.7/site-packages/skimage/io/_io.py:141: UserWarning: /mnt/cropmaskperm/landsat-clear-scenes-2005/train/LT050300312005020301T1-SC20190818205734_tile_2560_5120/image/LT050300312005020301T1-SC20190818205734_tile_2560_5120.tif is a low contrast image\n",
      "  warn('%s is a low contrast image' % fname)\n",
      "/data/anaconda/envs/cropmask/lib/python3.7/site-packages/skimage/io/_io.py:141: UserWarning: /mnt/cropmaskperm/landsat-clear-scenes-2005/train/LT050300312005020301T1-SC20190818205734_tile_2560_5632/image/LT050300312005020301T1-SC20190818205734_tile_2560_5632.tif is a low contrast image\n",
      "  warn('%s is a low contrast image' % fname)\n",
      "/data/anaconda/envs/cropmask/lib/python3.7/site-packages/skimage/io/_io.py:141: UserWarning: /mnt/cropmaskperm/landsat-clear-scenes-2005/train/LT050300312005020301T1-SC20190818205734_tile_2560_6144/image/LT050300312005020301T1-SC20190818205734_tile_2560_6144.tif is a low contrast image\n",
      "  warn('%s is a low contrast image' % fname)\n"
     ]
    },
    {
     "name": "stdout",
     "output_type": "stream",
     "text": [
      "removed scene and label, 0.02% bad data\n"
     ]
    },
    {
     "name": "stderr",
     "output_type": "stream",
     "text": [
      "/data/anaconda/envs/cropmask/lib/python3.7/site-packages/skimage/io/_io.py:141: UserWarning: /mnt/cropmaskperm/landsat-clear-scenes-2005/train/LT050300312005020301T1-SC20190818205734_tile_2560_6656/image/LT050300312005020301T1-SC20190818205734_tile_2560_6656.tif is a low contrast image\n",
      "  warn('%s is a low contrast image' % fname)\n"
     ]
    },
    {
     "name": "stdout",
     "output_type": "stream",
     "text": [
      "removed scene and label, 0.02% bad data\n",
      "removed scene and label, 0.02% bad data\n"
     ]
    },
    {
     "name": "stderr",
     "output_type": "stream",
     "text": [
      "/data/anaconda/envs/cropmask/lib/python3.7/site-packages/skimage/io/_io.py:141: UserWarning: /mnt/cropmaskperm/landsat-clear-scenes-2005/train/LT050300312005020301T1-SC20190818205734_tile_2560_7168/image/LT050300312005020301T1-SC20190818205734_tile_2560_7168.tif is a low contrast image\n",
      "  warn('%s is a low contrast image' % fname)\n",
      "/data/anaconda/envs/cropmask/lib/python3.7/site-packages/skimage/io/_io.py:141: UserWarning: /mnt/cropmaskperm/landsat-clear-scenes-2005/train/LT050300312005020301T1-SC20190818205734_tile_3072_0/image/LT050300312005020301T1-SC20190818205734_tile_3072_0.tif is a low contrast image\n",
      "  warn('%s is a low contrast image' % fname)\n"
     ]
    },
    {
     "name": "stdout",
     "output_type": "stream",
     "text": [
      "removed scene and label, 0.02% bad data\n"
     ]
    },
    {
     "name": "stderr",
     "output_type": "stream",
     "text": [
      "/data/anaconda/envs/cropmask/lib/python3.7/site-packages/skimage/io/_io.py:141: UserWarning: /mnt/cropmaskperm/landsat-clear-scenes-2005/train/LT050300312005020301T1-SC20190818205734_tile_3072_1024/image/LT050300312005020301T1-SC20190818205734_tile_3072_1024.tif is a low contrast image\n",
      "  warn('%s is a low contrast image' % fname)\n",
      "/data/anaconda/envs/cropmask/lib/python3.7/site-packages/skimage/io/_io.py:141: UserWarning: /mnt/cropmaskperm/landsat-clear-scenes-2005/train/LT050300312005020301T1-SC20190818205734_tile_3072_1536/image/LT050300312005020301T1-SC20190818205734_tile_3072_1536.tif is a low contrast image\n",
      "  warn('%s is a low contrast image' % fname)\n",
      "/data/anaconda/envs/cropmask/lib/python3.7/site-packages/skimage/io/_io.py:141: UserWarning: /mnt/cropmaskperm/landsat-clear-scenes-2005/train/LT050300312005020301T1-SC20190818205734_tile_3072_2048/image/LT050300312005020301T1-SC20190818205734_tile_3072_2048.tif is a low contrast image\n",
      "  warn('%s is a low contrast image' % fname)\n",
      "/data/anaconda/envs/cropmask/lib/python3.7/site-packages/skimage/io/_io.py:141: UserWarning: /mnt/cropmaskperm/landsat-clear-scenes-2005/train/LT050300312005020301T1-SC20190818205734_tile_3072_2560/image/LT050300312005020301T1-SC20190818205734_tile_3072_2560.tif is a low contrast image\n",
      "  warn('%s is a low contrast image' % fname)\n",
      "/data/anaconda/envs/cropmask/lib/python3.7/site-packages/skimage/io/_io.py:141: UserWarning: /mnt/cropmaskperm/landsat-clear-scenes-2005/train/LT050300312005020301T1-SC20190818205734_tile_3072_3072/image/LT050300312005020301T1-SC20190818205734_tile_3072_3072.tif is a low contrast image\n",
      "  warn('%s is a low contrast image' % fname)\n",
      "/data/anaconda/envs/cropmask/lib/python3.7/site-packages/skimage/io/_io.py:141: UserWarning: /mnt/cropmaskperm/landsat-clear-scenes-2005/train/LT050300312005020301T1-SC20190818205734_tile_3072_3584/image/LT050300312005020301T1-SC20190818205734_tile_3072_3584.tif is a low contrast image\n",
      "  warn('%s is a low contrast image' % fname)\n",
      "/data/anaconda/envs/cropmask/lib/python3.7/site-packages/skimage/io/_io.py:141: UserWarning: /mnt/cropmaskperm/landsat-clear-scenes-2005/train/LT050300312005020301T1-SC20190818205734_tile_3072_4096/image/LT050300312005020301T1-SC20190818205734_tile_3072_4096.tif is a low contrast image\n",
      "  warn('%s is a low contrast image' % fname)\n",
      "/data/anaconda/envs/cropmask/lib/python3.7/site-packages/skimage/io/_io.py:141: UserWarning: /mnt/cropmaskperm/landsat-clear-scenes-2005/train/LT050300312005020301T1-SC20190818205734_tile_3072_4608/image/LT050300312005020301T1-SC20190818205734_tile_3072_4608.tif is a low contrast image\n",
      "  warn('%s is a low contrast image' % fname)\n",
      "/data/anaconda/envs/cropmask/lib/python3.7/site-packages/skimage/io/_io.py:141: UserWarning: /mnt/cropmaskperm/landsat-clear-scenes-2005/train/LT050300312005020301T1-SC20190818205734_tile_3072_512/image/LT050300312005020301T1-SC20190818205734_tile_3072_512.tif is a low contrast image\n",
      "  warn('%s is a low contrast image' % fname)\n",
      "/data/anaconda/envs/cropmask/lib/python3.7/site-packages/skimage/io/_io.py:141: UserWarning: /mnt/cropmaskperm/landsat-clear-scenes-2005/train/LT050300312005020301T1-SC20190818205734_tile_3072_5120/image/LT050300312005020301T1-SC20190818205734_tile_3072_5120.tif is a low contrast image\n",
      "  warn('%s is a low contrast image' % fname)\n",
      "/data/anaconda/envs/cropmask/lib/python3.7/site-packages/skimage/io/_io.py:141: UserWarning: /mnt/cropmaskperm/landsat-clear-scenes-2005/train/LT050300312005020301T1-SC20190818205734_tile_3072_5632/image/LT050300312005020301T1-SC20190818205734_tile_3072_5632.tif is a low contrast image\n",
      "  warn('%s is a low contrast image' % fname)\n",
      "/data/anaconda/envs/cropmask/lib/python3.7/site-packages/skimage/io/_io.py:141: UserWarning: /mnt/cropmaskperm/landsat-clear-scenes-2005/train/LT050300312005020301T1-SC20190818205734_tile_3072_6144/image/LT050300312005020301T1-SC20190818205734_tile_3072_6144.tif is a low contrast image\n",
      "  warn('%s is a low contrast image' % fname)\n"
     ]
    },
    {
     "name": "stdout",
     "output_type": "stream",
     "text": [
      "removed scene and label, 0.02% bad data\n"
     ]
    },
    {
     "name": "stderr",
     "output_type": "stream",
     "text": [
      "/data/anaconda/envs/cropmask/lib/python3.7/site-packages/skimage/io/_io.py:141: UserWarning: /mnt/cropmaskperm/landsat-clear-scenes-2005/train/LT050300312005020301T1-SC20190818205734_tile_3072_6656/image/LT050300312005020301T1-SC20190818205734_tile_3072_6656.tif is a low contrast image\n",
      "  warn('%s is a low contrast image' % fname)\n"
     ]
    },
    {
     "name": "stdout",
     "output_type": "stream",
     "text": [
      "removed scene and label, 0.02% bad data\n"
     ]
    },
    {
     "name": "stderr",
     "output_type": "stream",
     "text": [
      "/data/anaconda/envs/cropmask/lib/python3.7/site-packages/skimage/io/_io.py:141: UserWarning: /mnt/cropmaskperm/landsat-clear-scenes-2005/train/LT050300312005020301T1-SC20190818205734_tile_3072_7168/image/LT050300312005020301T1-SC20190818205734_tile_3072_7168.tif is a low contrast image\n",
      "  warn('%s is a low contrast image' % fname)\n"
     ]
    },
    {
     "name": "stdout",
     "output_type": "stream",
     "text": [
      "removed scene and label, 0.02% bad data\n"
     ]
    },
    {
     "name": "stderr",
     "output_type": "stream",
     "text": [
      "/data/anaconda/envs/cropmask/lib/python3.7/site-packages/skimage/io/_io.py:141: UserWarning: /mnt/cropmaskperm/landsat-clear-scenes-2005/train/LT050300312005020301T1-SC20190818205734_tile_3584_0/image/LT050300312005020301T1-SC20190818205734_tile_3584_0.tif is a low contrast image\n",
      "  warn('%s is a low contrast image' % fname)\n"
     ]
    },
    {
     "name": "stdout",
     "output_type": "stream",
     "text": [
      "removed scene and label, 0.02% bad data\n"
     ]
    },
    {
     "name": "stderr",
     "output_type": "stream",
     "text": [
      "/data/anaconda/envs/cropmask/lib/python3.7/site-packages/skimage/io/_io.py:141: UserWarning: /mnt/cropmaskperm/landsat-clear-scenes-2005/train/LT050300312005020301T1-SC20190818205734_tile_3584_1024/image/LT050300312005020301T1-SC20190818205734_tile_3584_1024.tif is a low contrast image\n",
      "  warn('%s is a low contrast image' % fname)\n",
      "/data/anaconda/envs/cropmask/lib/python3.7/site-packages/skimage/io/_io.py:141: UserWarning: /mnt/cropmaskperm/landsat-clear-scenes-2005/train/LT050300312005020301T1-SC20190818205734_tile_3584_1536/image/LT050300312005020301T1-SC20190818205734_tile_3584_1536.tif is a low contrast image\n",
      "  warn('%s is a low contrast image' % fname)\n",
      "/data/anaconda/envs/cropmask/lib/python3.7/site-packages/skimage/io/_io.py:141: UserWarning: /mnt/cropmaskperm/landsat-clear-scenes-2005/train/LT050300312005020301T1-SC20190818205734_tile_3584_2048/image/LT050300312005020301T1-SC20190818205734_tile_3584_2048.tif is a low contrast image\n",
      "  warn('%s is a low contrast image' % fname)\n",
      "/data/anaconda/envs/cropmask/lib/python3.7/site-packages/skimage/io/_io.py:141: UserWarning: /mnt/cropmaskperm/landsat-clear-scenes-2005/train/LT050300312005020301T1-SC20190818205734_tile_3584_2560/image/LT050300312005020301T1-SC20190818205734_tile_3584_2560.tif is a low contrast image\n",
      "  warn('%s is a low contrast image' % fname)\n",
      "/data/anaconda/envs/cropmask/lib/python3.7/site-packages/skimage/io/_io.py:141: UserWarning: /mnt/cropmaskperm/landsat-clear-scenes-2005/train/LT050300312005020301T1-SC20190818205734_tile_3584_3072/image/LT050300312005020301T1-SC20190818205734_tile_3584_3072.tif is a low contrast image\n",
      "  warn('%s is a low contrast image' % fname)\n",
      "/data/anaconda/envs/cropmask/lib/python3.7/site-packages/skimage/io/_io.py:141: UserWarning: /mnt/cropmaskperm/landsat-clear-scenes-2005/train/LT050300312005020301T1-SC20190818205734_tile_3584_3584/image/LT050300312005020301T1-SC20190818205734_tile_3584_3584.tif is a low contrast image\n",
      "  warn('%s is a low contrast image' % fname)\n",
      "/data/anaconda/envs/cropmask/lib/python3.7/site-packages/skimage/io/_io.py:141: UserWarning: /mnt/cropmaskperm/landsat-clear-scenes-2005/train/LT050300312005020301T1-SC20190818205734_tile_3584_4096/image/LT050300312005020301T1-SC20190818205734_tile_3584_4096.tif is a low contrast image\n",
      "  warn('%s is a low contrast image' % fname)\n",
      "/data/anaconda/envs/cropmask/lib/python3.7/site-packages/skimage/io/_io.py:141: UserWarning: /mnt/cropmaskperm/landsat-clear-scenes-2005/train/LT050300312005020301T1-SC20190818205734_tile_3584_4608/image/LT050300312005020301T1-SC20190818205734_tile_3584_4608.tif is a low contrast image\n",
      "  warn('%s is a low contrast image' % fname)\n",
      "/data/anaconda/envs/cropmask/lib/python3.7/site-packages/skimage/io/_io.py:141: UserWarning: /mnt/cropmaskperm/landsat-clear-scenes-2005/train/LT050300312005020301T1-SC20190818205734_tile_3584_512/image/LT050300312005020301T1-SC20190818205734_tile_3584_512.tif is a low contrast image\n",
      "  warn('%s is a low contrast image' % fname)\n"
     ]
    },
    {
     "name": "stdout",
     "output_type": "stream",
     "text": [
      "removed scene and label, 0.02% bad data\n"
     ]
    },
    {
     "name": "stderr",
     "output_type": "stream",
     "text": [
      "/data/anaconda/envs/cropmask/lib/python3.7/site-packages/skimage/io/_io.py:141: UserWarning: /mnt/cropmaskperm/landsat-clear-scenes-2005/train/LT050300312005020301T1-SC20190818205734_tile_3584_5120/image/LT050300312005020301T1-SC20190818205734_tile_3584_5120.tif is a low contrast image\n",
      "  warn('%s is a low contrast image' % fname)\n",
      "/data/anaconda/envs/cropmask/lib/python3.7/site-packages/skimage/io/_io.py:141: UserWarning: /mnt/cropmaskperm/landsat-clear-scenes-2005/train/LT050300312005020301T1-SC20190818205734_tile_3584_5632/image/LT050300312005020301T1-SC20190818205734_tile_3584_5632.tif is a low contrast image\n",
      "  warn('%s is a low contrast image' % fname)\n",
      "/data/anaconda/envs/cropmask/lib/python3.7/site-packages/skimage/io/_io.py:141: UserWarning: /mnt/cropmaskperm/landsat-clear-scenes-2005/train/LT050300312005020301T1-SC20190818205734_tile_3584_6144/image/LT050300312005020301T1-SC20190818205734_tile_3584_6144.tif is a low contrast image\n",
      "  warn('%s is a low contrast image' % fname)\n"
     ]
    },
    {
     "name": "stdout",
     "output_type": "stream",
     "text": [
      "removed scene and label, 0.02% bad data\n"
     ]
    },
    {
     "name": "stderr",
     "output_type": "stream",
     "text": [
      "/data/anaconda/envs/cropmask/lib/python3.7/site-packages/skimage/io/_io.py:141: UserWarning: /mnt/cropmaskperm/landsat-clear-scenes-2005/train/LT050300312005020301T1-SC20190818205734_tile_3584_6656/image/LT050300312005020301T1-SC20190818205734_tile_3584_6656.tif is a low contrast image\n",
      "  warn('%s is a low contrast image' % fname)\n"
     ]
    },
    {
     "name": "stdout",
     "output_type": "stream",
     "text": [
      "removed scene and label, 0.02% bad data\n"
     ]
    },
    {
     "name": "stderr",
     "output_type": "stream",
     "text": [
      "/data/anaconda/envs/cropmask/lib/python3.7/site-packages/skimage/io/_io.py:141: UserWarning: /mnt/cropmaskperm/landsat-clear-scenes-2005/train/LT050300312005020301T1-SC20190818205734_tile_3584_7168/image/LT050300312005020301T1-SC20190818205734_tile_3584_7168.tif is a low contrast image\n",
      "  warn('%s is a low contrast image' % fname)\n"
     ]
    },
    {
     "name": "stdout",
     "output_type": "stream",
     "text": [
      "removed scene and label, 0.02% bad data\n"
     ]
    },
    {
     "name": "stderr",
     "output_type": "stream",
     "text": [
      "/data/anaconda/envs/cropmask/lib/python3.7/site-packages/skimage/io/_io.py:141: UserWarning: /mnt/cropmaskperm/landsat-clear-scenes-2005/train/LT050300312005020301T1-SC20190818205734_tile_4096_0/image/LT050300312005020301T1-SC20190818205734_tile_4096_0.tif is a low contrast image\n",
      "  warn('%s is a low contrast image' % fname)\n"
     ]
    },
    {
     "name": "stdout",
     "output_type": "stream",
     "text": [
      "removed scene and label, 0.02% bad data\n"
     ]
    },
    {
     "name": "stderr",
     "output_type": "stream",
     "text": [
      "/data/anaconda/envs/cropmask/lib/python3.7/site-packages/skimage/io/_io.py:141: UserWarning: /mnt/cropmaskperm/landsat-clear-scenes-2005/train/LT050300312005020301T1-SC20190818205734_tile_4096_1024/image/LT050300312005020301T1-SC20190818205734_tile_4096_1024.tif is a low contrast image\n",
      "  warn('%s is a low contrast image' % fname)\n",
      "/data/anaconda/envs/cropmask/lib/python3.7/site-packages/skimage/io/_io.py:141: UserWarning: /mnt/cropmaskperm/landsat-clear-scenes-2005/train/LT050300312005020301T1-SC20190818205734_tile_4096_1536/image/LT050300312005020301T1-SC20190818205734_tile_4096_1536.tif is a low contrast image\n",
      "  warn('%s is a low contrast image' % fname)\n",
      "/data/anaconda/envs/cropmask/lib/python3.7/site-packages/skimage/io/_io.py:141: UserWarning: /mnt/cropmaskperm/landsat-clear-scenes-2005/train/LT050300312005020301T1-SC20190818205734_tile_4096_2048/image/LT050300312005020301T1-SC20190818205734_tile_4096_2048.tif is a low contrast image\n",
      "  warn('%s is a low contrast image' % fname)\n",
      "/data/anaconda/envs/cropmask/lib/python3.7/site-packages/skimage/io/_io.py:141: UserWarning: /mnt/cropmaskperm/landsat-clear-scenes-2005/train/LT050300312005020301T1-SC20190818205734_tile_4096_2560/image/LT050300312005020301T1-SC20190818205734_tile_4096_2560.tif is a low contrast image\n",
      "  warn('%s is a low contrast image' % fname)\n",
      "/data/anaconda/envs/cropmask/lib/python3.7/site-packages/skimage/io/_io.py:141: UserWarning: /mnt/cropmaskperm/landsat-clear-scenes-2005/train/LT050300312005020301T1-SC20190818205734_tile_4096_3072/image/LT050300312005020301T1-SC20190818205734_tile_4096_3072.tif is a low contrast image\n",
      "  warn('%s is a low contrast image' % fname)\n",
      "/data/anaconda/envs/cropmask/lib/python3.7/site-packages/skimage/io/_io.py:141: UserWarning: /mnt/cropmaskperm/landsat-clear-scenes-2005/train/LT050300312005020301T1-SC20190818205734_tile_4096_3584/image/LT050300312005020301T1-SC20190818205734_tile_4096_3584.tif is a low contrast image\n",
      "  warn('%s is a low contrast image' % fname)\n",
      "/data/anaconda/envs/cropmask/lib/python3.7/site-packages/skimage/io/_io.py:141: UserWarning: /mnt/cropmaskperm/landsat-clear-scenes-2005/train/LT050300312005020301T1-SC20190818205734_tile_4096_4096/image/LT050300312005020301T1-SC20190818205734_tile_4096_4096.tif is a low contrast image\n",
      "  warn('%s is a low contrast image' % fname)\n",
      "/data/anaconda/envs/cropmask/lib/python3.7/site-packages/skimage/io/_io.py:141: UserWarning: /mnt/cropmaskperm/landsat-clear-scenes-2005/train/LT050300312005020301T1-SC20190818205734_tile_4096_4608/image/LT050300312005020301T1-SC20190818205734_tile_4096_4608.tif is a low contrast image\n",
      "  warn('%s is a low contrast image' % fname)\n",
      "/data/anaconda/envs/cropmask/lib/python3.7/site-packages/skimage/io/_io.py:141: UserWarning: /mnt/cropmaskperm/landsat-clear-scenes-2005/train/LT050300312005020301T1-SC20190818205734_tile_4096_512/image/LT050300312005020301T1-SC20190818205734_tile_4096_512.tif is a low contrast image\n",
      "  warn('%s is a low contrast image' % fname)\n"
     ]
    },
    {
     "name": "stdout",
     "output_type": "stream",
     "text": [
      "removed scene and label, 0.02% bad data\n"
     ]
    },
    {
     "name": "stderr",
     "output_type": "stream",
     "text": [
      "/data/anaconda/envs/cropmask/lib/python3.7/site-packages/skimage/io/_io.py:141: UserWarning: /mnt/cropmaskperm/landsat-clear-scenes-2005/train/LT050300312005020301T1-SC20190818205734_tile_4096_5120/image/LT050300312005020301T1-SC20190818205734_tile_4096_5120.tif is a low contrast image\n",
      "  warn('%s is a low contrast image' % fname)\n",
      "/data/anaconda/envs/cropmask/lib/python3.7/site-packages/skimage/io/_io.py:141: UserWarning: /mnt/cropmaskperm/landsat-clear-scenes-2005/train/LT050300312005020301T1-SC20190818205734_tile_4096_5632/image/LT050300312005020301T1-SC20190818205734_tile_4096_5632.tif is a low contrast image\n",
      "  warn('%s is a low contrast image' % fname)\n",
      "/data/anaconda/envs/cropmask/lib/python3.7/site-packages/skimage/io/_io.py:141: UserWarning: /mnt/cropmaskperm/landsat-clear-scenes-2005/train/LT050300312005020301T1-SC20190818205734_tile_4096_6144/image/LT050300312005020301T1-SC20190818205734_tile_4096_6144.tif is a low contrast image\n",
      "  warn('%s is a low contrast image' % fname)\n",
      "/data/anaconda/envs/cropmask/lib/python3.7/site-packages/skimage/io/_io.py:141: UserWarning: /mnt/cropmaskperm/landsat-clear-scenes-2005/train/LT050300312005020301T1-SC20190818205734_tile_4096_6656/image/LT050300312005020301T1-SC20190818205734_tile_4096_6656.tif is a low contrast image\n",
      "  warn('%s is a low contrast image' % fname)\n"
     ]
    },
    {
     "name": "stdout",
     "output_type": "stream",
     "text": [
      "removed scene and label, 0.02% bad data\n",
      "removed scene and label, 0.02% bad data\n"
     ]
    },
    {
     "name": "stderr",
     "output_type": "stream",
     "text": [
      "/data/anaconda/envs/cropmask/lib/python3.7/site-packages/skimage/io/_io.py:141: UserWarning: /mnt/cropmaskperm/landsat-clear-scenes-2005/train/LT050300312005020301T1-SC20190818205734_tile_4096_7168/image/LT050300312005020301T1-SC20190818205734_tile_4096_7168.tif is a low contrast image\n",
      "  warn('%s is a low contrast image' % fname)\n",
      "/data/anaconda/envs/cropmask/lib/python3.7/site-packages/skimage/io/_io.py:141: UserWarning: /mnt/cropmaskperm/landsat-clear-scenes-2005/train/LT050300312005020301T1-SC20190818205734_tile_4608_0/image/LT050300312005020301T1-SC20190818205734_tile_4608_0.tif is a low contrast image\n",
      "  warn('%s is a low contrast image' % fname)\n"
     ]
    },
    {
     "name": "stdout",
     "output_type": "stream",
     "text": [
      "removed scene and label, 0.02% bad data\n"
     ]
    },
    {
     "name": "stderr",
     "output_type": "stream",
     "text": [
      "/data/anaconda/envs/cropmask/lib/python3.7/site-packages/skimage/io/_io.py:141: UserWarning: /mnt/cropmaskperm/landsat-clear-scenes-2005/train/LT050300312005020301T1-SC20190818205734_tile_4608_1024/image/LT050300312005020301T1-SC20190818205734_tile_4608_1024.tif is a low contrast image\n",
      "  warn('%s is a low contrast image' % fname)\n",
      "/data/anaconda/envs/cropmask/lib/python3.7/site-packages/skimage/io/_io.py:141: UserWarning: /mnt/cropmaskperm/landsat-clear-scenes-2005/train/LT050300312005020301T1-SC20190818205734_tile_4608_1536/image/LT050300312005020301T1-SC20190818205734_tile_4608_1536.tif is a low contrast image\n",
      "  warn('%s is a low contrast image' % fname)\n",
      "/data/anaconda/envs/cropmask/lib/python3.7/site-packages/skimage/io/_io.py:141: UserWarning: /mnt/cropmaskperm/landsat-clear-scenes-2005/train/LT050300312005020301T1-SC20190818205734_tile_4608_2048/image/LT050300312005020301T1-SC20190818205734_tile_4608_2048.tif is a low contrast image\n",
      "  warn('%s is a low contrast image' % fname)\n",
      "/data/anaconda/envs/cropmask/lib/python3.7/site-packages/skimage/io/_io.py:141: UserWarning: /mnt/cropmaskperm/landsat-clear-scenes-2005/train/LT050300312005020301T1-SC20190818205734_tile_4608_2560/image/LT050300312005020301T1-SC20190818205734_tile_4608_2560.tif is a low contrast image\n",
      "  warn('%s is a low contrast image' % fname)\n",
      "/data/anaconda/envs/cropmask/lib/python3.7/site-packages/skimage/io/_io.py:141: UserWarning: /mnt/cropmaskperm/landsat-clear-scenes-2005/train/LT050300312005020301T1-SC20190818205734_tile_4608_3072/image/LT050300312005020301T1-SC20190818205734_tile_4608_3072.tif is a low contrast image\n",
      "  warn('%s is a low contrast image' % fname)\n",
      "/data/anaconda/envs/cropmask/lib/python3.7/site-packages/skimage/io/_io.py:141: UserWarning: /mnt/cropmaskperm/landsat-clear-scenes-2005/train/LT050300312005020301T1-SC20190818205734_tile_4608_3584/image/LT050300312005020301T1-SC20190818205734_tile_4608_3584.tif is a low contrast image\n",
      "  warn('%s is a low contrast image' % fname)\n",
      "/data/anaconda/envs/cropmask/lib/python3.7/site-packages/skimage/io/_io.py:141: UserWarning: /mnt/cropmaskperm/landsat-clear-scenes-2005/train/LT050300312005020301T1-SC20190818205734_tile_4608_4096/image/LT050300312005020301T1-SC20190818205734_tile_4608_4096.tif is a low contrast image\n",
      "  warn('%s is a low contrast image' % fname)\n",
      "/data/anaconda/envs/cropmask/lib/python3.7/site-packages/skimage/io/_io.py:141: UserWarning: /mnt/cropmaskperm/landsat-clear-scenes-2005/train/LT050300312005020301T1-SC20190818205734_tile_4608_4608/image/LT050300312005020301T1-SC20190818205734_tile_4608_4608.tif is a low contrast image\n",
      "  warn('%s is a low contrast image' % fname)\n",
      "/data/anaconda/envs/cropmask/lib/python3.7/site-packages/skimage/io/_io.py:141: UserWarning: /mnt/cropmaskperm/landsat-clear-scenes-2005/train/LT050300312005020301T1-SC20190818205734_tile_4608_512/image/LT050300312005020301T1-SC20190818205734_tile_4608_512.tif is a low contrast image\n",
      "  warn('%s is a low contrast image' % fname)\n"
     ]
    },
    {
     "name": "stdout",
     "output_type": "stream",
     "text": [
      "removed scene and label, 0.02% bad data\n"
     ]
    },
    {
     "name": "stderr",
     "output_type": "stream",
     "text": [
      "/data/anaconda/envs/cropmask/lib/python3.7/site-packages/skimage/io/_io.py:141: UserWarning: /mnt/cropmaskperm/landsat-clear-scenes-2005/train/LT050300312005020301T1-SC20190818205734_tile_4608_5120/image/LT050300312005020301T1-SC20190818205734_tile_4608_5120.tif is a low contrast image\n",
      "  warn('%s is a low contrast image' % fname)\n",
      "/data/anaconda/envs/cropmask/lib/python3.7/site-packages/skimage/io/_io.py:141: UserWarning: /mnt/cropmaskperm/landsat-clear-scenes-2005/train/LT050300312005020301T1-SC20190818205734_tile_4608_5632/image/LT050300312005020301T1-SC20190818205734_tile_4608_5632.tif is a low contrast image\n",
      "  warn('%s is a low contrast image' % fname)\n",
      "/data/anaconda/envs/cropmask/lib/python3.7/site-packages/skimage/io/_io.py:141: UserWarning: /mnt/cropmaskperm/landsat-clear-scenes-2005/train/LT050300312005020301T1-SC20190818205734_tile_4608_6144/image/LT050300312005020301T1-SC20190818205734_tile_4608_6144.tif is a low contrast image\n",
      "  warn('%s is a low contrast image' % fname)\n",
      "/data/anaconda/envs/cropmask/lib/python3.7/site-packages/skimage/io/_io.py:141: UserWarning: /mnt/cropmaskperm/landsat-clear-scenes-2005/train/LT050300312005020301T1-SC20190818205734_tile_4608_6656/image/LT050300312005020301T1-SC20190818205734_tile_4608_6656.tif is a low contrast image\n",
      "  warn('%s is a low contrast image' % fname)\n"
     ]
    },
    {
     "name": "stdout",
     "output_type": "stream",
     "text": [
      "removed scene and label, 0.02% bad data\n"
     ]
    },
    {
     "name": "stderr",
     "output_type": "stream",
     "text": [
      "/data/anaconda/envs/cropmask/lib/python3.7/site-packages/skimage/io/_io.py:141: UserWarning: /mnt/cropmaskperm/landsat-clear-scenes-2005/train/LT050300312005020301T1-SC20190818205734_tile_4608_7168/image/LT050300312005020301T1-SC20190818205734_tile_4608_7168.tif is a low contrast image\n",
      "  warn('%s is a low contrast image' % fname)\n"
     ]
    },
    {
     "name": "stdout",
     "output_type": "stream",
     "text": [
      "removed scene and label, 0.02% bad data\n"
     ]
    },
    {
     "name": "stderr",
     "output_type": "stream",
     "text": [
      "/data/anaconda/envs/cropmask/lib/python3.7/site-packages/skimage/io/_io.py:141: UserWarning: /mnt/cropmaskperm/landsat-clear-scenes-2005/train/LT050300312005020301T1-SC20190818205734_tile_5120_0/image/LT050300312005020301T1-SC20190818205734_tile_5120_0.tif is a low contrast image\n",
      "  warn('%s is a low contrast image' % fname)\n"
     ]
    },
    {
     "name": "stdout",
     "output_type": "stream",
     "text": [
      "removed scene and label, 0.02% bad data\n"
     ]
    },
    {
     "name": "stderr",
     "output_type": "stream",
     "text": [
      "/data/anaconda/envs/cropmask/lib/python3.7/site-packages/skimage/io/_io.py:141: UserWarning: /mnt/cropmaskperm/landsat-clear-scenes-2005/train/LT050300312005020301T1-SC20190818205734_tile_5120_1024/image/LT050300312005020301T1-SC20190818205734_tile_5120_1024.tif is a low contrast image\n",
      "  warn('%s is a low contrast image' % fname)\n",
      "/data/anaconda/envs/cropmask/lib/python3.7/site-packages/skimage/io/_io.py:141: UserWarning: /mnt/cropmaskperm/landsat-clear-scenes-2005/train/LT050300312005020301T1-SC20190818205734_tile_5120_1536/image/LT050300312005020301T1-SC20190818205734_tile_5120_1536.tif is a low contrast image\n",
      "  warn('%s is a low contrast image' % fname)\n",
      "/data/anaconda/envs/cropmask/lib/python3.7/site-packages/skimage/io/_io.py:141: UserWarning: /mnt/cropmaskperm/landsat-clear-scenes-2005/train/LT050300312005020301T1-SC20190818205734_tile_5120_2048/image/LT050300312005020301T1-SC20190818205734_tile_5120_2048.tif is a low contrast image\n",
      "  warn('%s is a low contrast image' % fname)\n",
      "/data/anaconda/envs/cropmask/lib/python3.7/site-packages/skimage/io/_io.py:141: UserWarning: /mnt/cropmaskperm/landsat-clear-scenes-2005/train/LT050300312005020301T1-SC20190818205734_tile_5120_2560/image/LT050300312005020301T1-SC20190818205734_tile_5120_2560.tif is a low contrast image\n",
      "  warn('%s is a low contrast image' % fname)\n",
      "/data/anaconda/envs/cropmask/lib/python3.7/site-packages/skimage/io/_io.py:141: UserWarning: /mnt/cropmaskperm/landsat-clear-scenes-2005/train/LT050300312005020301T1-SC20190818205734_tile_5120_3072/image/LT050300312005020301T1-SC20190818205734_tile_5120_3072.tif is a low contrast image\n",
      "  warn('%s is a low contrast image' % fname)\n",
      "/data/anaconda/envs/cropmask/lib/python3.7/site-packages/skimage/io/_io.py:141: UserWarning: /mnt/cropmaskperm/landsat-clear-scenes-2005/train/LT050300312005020301T1-SC20190818205734_tile_5120_3584/image/LT050300312005020301T1-SC20190818205734_tile_5120_3584.tif is a low contrast image\n",
      "  warn('%s is a low contrast image' % fname)\n",
      "/data/anaconda/envs/cropmask/lib/python3.7/site-packages/skimage/io/_io.py:141: UserWarning: /mnt/cropmaskperm/landsat-clear-scenes-2005/train/LT050300312005020301T1-SC20190818205734_tile_5120_4096/image/LT050300312005020301T1-SC20190818205734_tile_5120_4096.tif is a low contrast image\n",
      "  warn('%s is a low contrast image' % fname)\n",
      "/data/anaconda/envs/cropmask/lib/python3.7/site-packages/skimage/io/_io.py:141: UserWarning: /mnt/cropmaskperm/landsat-clear-scenes-2005/train/LT050300312005020301T1-SC20190818205734_tile_5120_4608/image/LT050300312005020301T1-SC20190818205734_tile_5120_4608.tif is a low contrast image\n",
      "  warn('%s is a low contrast image' % fname)\n",
      "/data/anaconda/envs/cropmask/lib/python3.7/site-packages/skimage/io/_io.py:141: UserWarning: /mnt/cropmaskperm/landsat-clear-scenes-2005/train/LT050300312005020301T1-SC20190818205734_tile_5120_512/image/LT050300312005020301T1-SC20190818205734_tile_5120_512.tif is a low contrast image\n",
      "  warn('%s is a low contrast image' % fname)\n"
     ]
    },
    {
     "name": "stdout",
     "output_type": "stream",
     "text": [
      "removed scene and label, 0.02% bad data\n"
     ]
    },
    {
     "name": "stderr",
     "output_type": "stream",
     "text": [
      "/data/anaconda/envs/cropmask/lib/python3.7/site-packages/skimage/io/_io.py:141: UserWarning: /mnt/cropmaskperm/landsat-clear-scenes-2005/train/LT050300312005020301T1-SC20190818205734_tile_5120_5120/image/LT050300312005020301T1-SC20190818205734_tile_5120_5120.tif is a low contrast image\n",
      "  warn('%s is a low contrast image' % fname)\n",
      "/data/anaconda/envs/cropmask/lib/python3.7/site-packages/skimage/io/_io.py:141: UserWarning: /mnt/cropmaskperm/landsat-clear-scenes-2005/train/LT050300312005020301T1-SC20190818205734_tile_5120_5632/image/LT050300312005020301T1-SC20190818205734_tile_5120_5632.tif is a low contrast image\n",
      "  warn('%s is a low contrast image' % fname)\n",
      "/data/anaconda/envs/cropmask/lib/python3.7/site-packages/skimage/io/_io.py:141: UserWarning: /mnt/cropmaskperm/landsat-clear-scenes-2005/train/LT050300312005020301T1-SC20190818205734_tile_5120_6144/image/LT050300312005020301T1-SC20190818205734_tile_5120_6144.tif is a low contrast image\n",
      "  warn('%s is a low contrast image' % fname)\n",
      "/data/anaconda/envs/cropmask/lib/python3.7/site-packages/skimage/io/_io.py:141: UserWarning: /mnt/cropmaskperm/landsat-clear-scenes-2005/train/LT050300312005020301T1-SC20190818205734_tile_5120_6656/image/LT050300312005020301T1-SC20190818205734_tile_5120_6656.tif is a low contrast image\n",
      "  warn('%s is a low contrast image' % fname)\n"
     ]
    },
    {
     "name": "stdout",
     "output_type": "stream",
     "text": [
      "removed scene and label, 0.02% bad data\n"
     ]
    },
    {
     "name": "stderr",
     "output_type": "stream",
     "text": [
      "/data/anaconda/envs/cropmask/lib/python3.7/site-packages/skimage/io/_io.py:141: UserWarning: /mnt/cropmaskperm/landsat-clear-scenes-2005/train/LT050300312005020301T1-SC20190818205734_tile_5120_7168/image/LT050300312005020301T1-SC20190818205734_tile_5120_7168.tif is a low contrast image\n",
      "  warn('%s is a low contrast image' % fname)\n"
     ]
    },
    {
     "name": "stdout",
     "output_type": "stream",
     "text": [
      "removed scene and label, 0.02% bad data\n"
     ]
    },
    {
     "name": "stderr",
     "output_type": "stream",
     "text": [
      "/data/anaconda/envs/cropmask/lib/python3.7/site-packages/skimage/io/_io.py:141: UserWarning: /mnt/cropmaskperm/landsat-clear-scenes-2005/train/LT050300312005020301T1-SC20190818205734_tile_512_0/image/LT050300312005020301T1-SC20190818205734_tile_512_0.tif is a low contrast image\n",
      "  warn('%s is a low contrast image' % fname)\n"
     ]
    },
    {
     "name": "stdout",
     "output_type": "stream",
     "text": [
      "removed scene and label, 0.02% bad data\n"
     ]
    },
    {
     "name": "stderr",
     "output_type": "stream",
     "text": [
      "/data/anaconda/envs/cropmask/lib/python3.7/site-packages/skimage/io/_io.py:141: UserWarning: /mnt/cropmaskperm/landsat-clear-scenes-2005/train/LT050300312005020301T1-SC20190818205734_tile_512_1024/image/LT050300312005020301T1-SC20190818205734_tile_512_1024.tif is a low contrast image\n",
      "  warn('%s is a low contrast image' % fname)\n"
     ]
    },
    {
     "name": "stdout",
     "output_type": "stream",
     "text": [
      "removed scene and label, 0.02% bad data\n"
     ]
    },
    {
     "name": "stderr",
     "output_type": "stream",
     "text": [
      "/data/anaconda/envs/cropmask/lib/python3.7/site-packages/skimage/io/_io.py:141: UserWarning: /mnt/cropmaskperm/landsat-clear-scenes-2005/train/LT050300312005020301T1-SC20190818205734_tile_512_1536/image/LT050300312005020301T1-SC20190818205734_tile_512_1536.tif is a low contrast image\n",
      "  warn('%s is a low contrast image' % fname)\n"
     ]
    },
    {
     "name": "stdout",
     "output_type": "stream",
     "text": [
      "removed scene and label, 0.02% bad data\n"
     ]
    },
    {
     "name": "stderr",
     "output_type": "stream",
     "text": [
      "/data/anaconda/envs/cropmask/lib/python3.7/site-packages/skimage/io/_io.py:141: UserWarning: /mnt/cropmaskperm/landsat-clear-scenes-2005/train/LT050300312005020301T1-SC20190818205734_tile_512_2048/image/LT050300312005020301T1-SC20190818205734_tile_512_2048.tif is a low contrast image\n",
      "  warn('%s is a low contrast image' % fname)\n"
     ]
    },
    {
     "name": "stdout",
     "output_type": "stream",
     "text": [
      "removed scene and label, 0.02% bad data\n"
     ]
    },
    {
     "name": "stderr",
     "output_type": "stream",
     "text": [
      "/data/anaconda/envs/cropmask/lib/python3.7/site-packages/skimage/io/_io.py:141: UserWarning: /mnt/cropmaskperm/landsat-clear-scenes-2005/train/LT050300312005020301T1-SC20190818205734_tile_512_2560/image/LT050300312005020301T1-SC20190818205734_tile_512_2560.tif is a low contrast image\n",
      "  warn('%s is a low contrast image' % fname)\n"
     ]
    },
    {
     "name": "stdout",
     "output_type": "stream",
     "text": [
      "removed scene and label, 0.02% bad data\n"
     ]
    },
    {
     "name": "stderr",
     "output_type": "stream",
     "text": [
      "/data/anaconda/envs/cropmask/lib/python3.7/site-packages/skimage/io/_io.py:141: UserWarning: /mnt/cropmaskperm/landsat-clear-scenes-2005/train/LT050300312005020301T1-SC20190818205734_tile_512_3072/image/LT050300312005020301T1-SC20190818205734_tile_512_3072.tif is a low contrast image\n",
      "  warn('%s is a low contrast image' % fname)\n"
     ]
    },
    {
     "name": "stdout",
     "output_type": "stream",
     "text": [
      "removed scene and label, 0.02% bad data\n"
     ]
    },
    {
     "name": "stderr",
     "output_type": "stream",
     "text": [
      "/data/anaconda/envs/cropmask/lib/python3.7/site-packages/skimage/io/_io.py:141: UserWarning: /mnt/cropmaskperm/landsat-clear-scenes-2005/train/LT050300312005020301T1-SC20190818205734_tile_512_3584/image/LT050300312005020301T1-SC20190818205734_tile_512_3584.tif is a low contrast image\n",
      "  warn('%s is a low contrast image' % fname)\n"
     ]
    },
    {
     "name": "stdout",
     "output_type": "stream",
     "text": [
      "removed scene and label, 0.02% bad data\n"
     ]
    },
    {
     "name": "stderr",
     "output_type": "stream",
     "text": [
      "/data/anaconda/envs/cropmask/lib/python3.7/site-packages/skimage/io/_io.py:141: UserWarning: /mnt/cropmaskperm/landsat-clear-scenes-2005/train/LT050300312005020301T1-SC20190818205734_tile_512_4096/image/LT050300312005020301T1-SC20190818205734_tile_512_4096.tif is a low contrast image\n",
      "  warn('%s is a low contrast image' % fname)\n"
     ]
    },
    {
     "name": "stdout",
     "output_type": "stream",
     "text": [
      "removed scene and label, 0.02% bad data\n"
     ]
    },
    {
     "name": "stderr",
     "output_type": "stream",
     "text": [
      "/data/anaconda/envs/cropmask/lib/python3.7/site-packages/skimage/io/_io.py:141: UserWarning: /mnt/cropmaskperm/landsat-clear-scenes-2005/train/LT050300312005020301T1-SC20190818205734_tile_512_4608/image/LT050300312005020301T1-SC20190818205734_tile_512_4608.tif is a low contrast image\n",
      "  warn('%s is a low contrast image' % fname)\n",
      "/data/anaconda/envs/cropmask/lib/python3.7/site-packages/skimage/io/_io.py:141: UserWarning: /mnt/cropmaskperm/landsat-clear-scenes-2005/train/LT050300312005020301T1-SC20190818205734_tile_512_512/image/LT050300312005020301T1-SC20190818205734_tile_512_512.tif is a low contrast image\n",
      "  warn('%s is a low contrast image' % fname)\n"
     ]
    },
    {
     "name": "stdout",
     "output_type": "stream",
     "text": [
      "removed scene and label, 0.02% bad data\n"
     ]
    },
    {
     "name": "stderr",
     "output_type": "stream",
     "text": [
      "/data/anaconda/envs/cropmask/lib/python3.7/site-packages/skimage/io/_io.py:141: UserWarning: /mnt/cropmaskperm/landsat-clear-scenes-2005/train/LT050300312005020301T1-SC20190818205734_tile_512_5120/image/LT050300312005020301T1-SC20190818205734_tile_512_5120.tif is a low contrast image\n",
      "  warn('%s is a low contrast image' % fname)\n",
      "/data/anaconda/envs/cropmask/lib/python3.7/site-packages/skimage/io/_io.py:141: UserWarning: /mnt/cropmaskperm/landsat-clear-scenes-2005/train/LT050300312005020301T1-SC20190818205734_tile_512_5632/image/LT050300312005020301T1-SC20190818205734_tile_512_5632.tif is a low contrast image\n",
      "  warn('%s is a low contrast image' % fname)\n"
     ]
    },
    {
     "name": "stdout",
     "output_type": "stream",
     "text": [
      "removed scene and label, 0.02% bad data\n"
     ]
    },
    {
     "name": "stderr",
     "output_type": "stream",
     "text": [
      "/data/anaconda/envs/cropmask/lib/python3.7/site-packages/skimage/io/_io.py:141: UserWarning: /mnt/cropmaskperm/landsat-clear-scenes-2005/train/LT050300312005020301T1-SC20190818205734_tile_512_6144/image/LT050300312005020301T1-SC20190818205734_tile_512_6144.tif is a low contrast image\n",
      "  warn('%s is a low contrast image' % fname)\n"
     ]
    },
    {
     "name": "stdout",
     "output_type": "stream",
     "text": [
      "removed scene and label, 0.02% bad data\n"
     ]
    },
    {
     "name": "stderr",
     "output_type": "stream",
     "text": [
      "/data/anaconda/envs/cropmask/lib/python3.7/site-packages/skimage/io/_io.py:141: UserWarning: /mnt/cropmaskperm/landsat-clear-scenes-2005/train/LT050300312005020301T1-SC20190818205734_tile_512_6656/image/LT050300312005020301T1-SC20190818205734_tile_512_6656.tif is a low contrast image\n",
      "  warn('%s is a low contrast image' % fname)\n"
     ]
    },
    {
     "name": "stdout",
     "output_type": "stream",
     "text": [
      "removed scene and label, 0.02% bad data\n",
      "removed scene and label, 0.02% bad data\n"
     ]
    },
    {
     "name": "stderr",
     "output_type": "stream",
     "text": [
      "/data/anaconda/envs/cropmask/lib/python3.7/site-packages/skimage/io/_io.py:141: UserWarning: /mnt/cropmaskperm/landsat-clear-scenes-2005/train/LT050300312005020301T1-SC20190818205734_tile_512_7168/image/LT050300312005020301T1-SC20190818205734_tile_512_7168.tif is a low contrast image\n",
      "  warn('%s is a low contrast image' % fname)\n",
      "/data/anaconda/envs/cropmask/lib/python3.7/site-packages/skimage/io/_io.py:141: UserWarning: /mnt/cropmaskperm/landsat-clear-scenes-2005/train/LT050300312005020301T1-SC20190818205734_tile_5632_0/image/LT050300312005020301T1-SC20190818205734_tile_5632_0.tif is a low contrast image\n",
      "  warn('%s is a low contrast image' % fname)\n"
     ]
    },
    {
     "name": "stdout",
     "output_type": "stream",
     "text": [
      "removed scene and label, 0.02% bad data\n"
     ]
    },
    {
     "name": "stderr",
     "output_type": "stream",
     "text": [
      "/data/anaconda/envs/cropmask/lib/python3.7/site-packages/skimage/io/_io.py:141: UserWarning: /mnt/cropmaskperm/landsat-clear-scenes-2005/train/LT050300312005020301T1-SC20190818205734_tile_5632_1024/image/LT050300312005020301T1-SC20190818205734_tile_5632_1024.tif is a low contrast image\n",
      "  warn('%s is a low contrast image' % fname)\n",
      "/data/anaconda/envs/cropmask/lib/python3.7/site-packages/skimage/io/_io.py:141: UserWarning: /mnt/cropmaskperm/landsat-clear-scenes-2005/train/LT050300312005020301T1-SC20190818205734_tile_5632_1536/image/LT050300312005020301T1-SC20190818205734_tile_5632_1536.tif is a low contrast image\n",
      "  warn('%s is a low contrast image' % fname)\n",
      "/data/anaconda/envs/cropmask/lib/python3.7/site-packages/skimage/io/_io.py:141: UserWarning: /mnt/cropmaskperm/landsat-clear-scenes-2005/train/LT050300312005020301T1-SC20190818205734_tile_5632_2048/image/LT050300312005020301T1-SC20190818205734_tile_5632_2048.tif is a low contrast image\n",
      "  warn('%s is a low contrast image' % fname)\n",
      "/data/anaconda/envs/cropmask/lib/python3.7/site-packages/skimage/io/_io.py:141: UserWarning: /mnt/cropmaskperm/landsat-clear-scenes-2005/train/LT050300312005020301T1-SC20190818205734_tile_5632_2560/image/LT050300312005020301T1-SC20190818205734_tile_5632_2560.tif is a low contrast image\n",
      "  warn('%s is a low contrast image' % fname)\n",
      "/data/anaconda/envs/cropmask/lib/python3.7/site-packages/skimage/io/_io.py:141: UserWarning: /mnt/cropmaskperm/landsat-clear-scenes-2005/train/LT050300312005020301T1-SC20190818205734_tile_5632_3072/image/LT050300312005020301T1-SC20190818205734_tile_5632_3072.tif is a low contrast image\n",
      "  warn('%s is a low contrast image' % fname)\n",
      "/data/anaconda/envs/cropmask/lib/python3.7/site-packages/skimage/io/_io.py:141: UserWarning: /mnt/cropmaskperm/landsat-clear-scenes-2005/train/LT050300312005020301T1-SC20190818205734_tile_5632_3584/image/LT050300312005020301T1-SC20190818205734_tile_5632_3584.tif is a low contrast image\n",
      "  warn('%s is a low contrast image' % fname)\n",
      "/data/anaconda/envs/cropmask/lib/python3.7/site-packages/skimage/io/_io.py:141: UserWarning: /mnt/cropmaskperm/landsat-clear-scenes-2005/train/LT050300312005020301T1-SC20190818205734_tile_5632_4096/image/LT050300312005020301T1-SC20190818205734_tile_5632_4096.tif is a low contrast image\n",
      "  warn('%s is a low contrast image' % fname)\n",
      "/data/anaconda/envs/cropmask/lib/python3.7/site-packages/skimage/io/_io.py:141: UserWarning: /mnt/cropmaskperm/landsat-clear-scenes-2005/train/LT050300312005020301T1-SC20190818205734_tile_5632_4608/image/LT050300312005020301T1-SC20190818205734_tile_5632_4608.tif is a low contrast image\n",
      "  warn('%s is a low contrast image' % fname)\n",
      "/data/anaconda/envs/cropmask/lib/python3.7/site-packages/skimage/io/_io.py:141: UserWarning: /mnt/cropmaskperm/landsat-clear-scenes-2005/train/LT050300312005020301T1-SC20190818205734_tile_5632_512/image/LT050300312005020301T1-SC20190818205734_tile_5632_512.tif is a low contrast image\n",
      "  warn('%s is a low contrast image' % fname)\n"
     ]
    },
    {
     "name": "stdout",
     "output_type": "stream",
     "text": [
      "removed scene and label, 0.02% bad data\n"
     ]
    },
    {
     "name": "stderr",
     "output_type": "stream",
     "text": [
      "/data/anaconda/envs/cropmask/lib/python3.7/site-packages/skimage/io/_io.py:141: UserWarning: /mnt/cropmaskperm/landsat-clear-scenes-2005/train/LT050300312005020301T1-SC20190818205734_tile_5632_5120/image/LT050300312005020301T1-SC20190818205734_tile_5632_5120.tif is a low contrast image\n",
      "  warn('%s is a low contrast image' % fname)\n",
      "/data/anaconda/envs/cropmask/lib/python3.7/site-packages/skimage/io/_io.py:141: UserWarning: /mnt/cropmaskperm/landsat-clear-scenes-2005/train/LT050300312005020301T1-SC20190818205734_tile_5632_5632/image/LT050300312005020301T1-SC20190818205734_tile_5632_5632.tif is a low contrast image\n",
      "  warn('%s is a low contrast image' % fname)\n",
      "/data/anaconda/envs/cropmask/lib/python3.7/site-packages/skimage/io/_io.py:141: UserWarning: /mnt/cropmaskperm/landsat-clear-scenes-2005/train/LT050300312005020301T1-SC20190818205734_tile_5632_6144/image/LT050300312005020301T1-SC20190818205734_tile_5632_6144.tif is a low contrast image\n",
      "  warn('%s is a low contrast image' % fname)\n",
      "/data/anaconda/envs/cropmask/lib/python3.7/site-packages/skimage/io/_io.py:141: UserWarning: /mnt/cropmaskperm/landsat-clear-scenes-2005/train/LT050300312005020301T1-SC20190818205734_tile_5632_6656/image/LT050300312005020301T1-SC20190818205734_tile_5632_6656.tif is a low contrast image\n",
      "  warn('%s is a low contrast image' % fname)\n"
     ]
    },
    {
     "name": "stdout",
     "output_type": "stream",
     "text": [
      "removed scene and label, 0.02% bad data\n"
     ]
    },
    {
     "name": "stderr",
     "output_type": "stream",
     "text": [
      "/data/anaconda/envs/cropmask/lib/python3.7/site-packages/skimage/io/_io.py:141: UserWarning: /mnt/cropmaskperm/landsat-clear-scenes-2005/train/LT050300312005020301T1-SC20190818205734_tile_5632_7168/image/LT050300312005020301T1-SC20190818205734_tile_5632_7168.tif is a low contrast image\n",
      "  warn('%s is a low contrast image' % fname)\n"
     ]
    },
    {
     "name": "stdout",
     "output_type": "stream",
     "text": [
      "removed scene and label, 0.02% bad data\n"
     ]
    },
    {
     "name": "stderr",
     "output_type": "stream",
     "text": [
      "/data/anaconda/envs/cropmask/lib/python3.7/site-packages/skimage/io/_io.py:141: UserWarning: /mnt/cropmaskperm/landsat-clear-scenes-2005/train/LT050300312005020301T1-SC20190818205734_tile_6144_0/image/LT050300312005020301T1-SC20190818205734_tile_6144_0.tif is a low contrast image\n",
      "  warn('%s is a low contrast image' % fname)\n"
     ]
    },
    {
     "name": "stdout",
     "output_type": "stream",
     "text": [
      "removed scene and label, 0.02% bad data\n"
     ]
    },
    {
     "name": "stderr",
     "output_type": "stream",
     "text": [
      "/data/anaconda/envs/cropmask/lib/python3.7/site-packages/skimage/io/_io.py:141: UserWarning: /mnt/cropmaskperm/landsat-clear-scenes-2005/train/LT050300312005020301T1-SC20190818205734_tile_6144_1024/image/LT050300312005020301T1-SC20190818205734_tile_6144_1024.tif is a low contrast image\n",
      "  warn('%s is a low contrast image' % fname)\n"
     ]
    },
    {
     "name": "stdout",
     "output_type": "stream",
     "text": [
      "removed scene and label, 0.02% bad data\n"
     ]
    },
    {
     "name": "stderr",
     "output_type": "stream",
     "text": [
      "/data/anaconda/envs/cropmask/lib/python3.7/site-packages/skimage/io/_io.py:141: UserWarning: /mnt/cropmaskperm/landsat-clear-scenes-2005/train/LT050300312005020301T1-SC20190818205734_tile_6144_1536/image/LT050300312005020301T1-SC20190818205734_tile_6144_1536.tif is a low contrast image\n",
      "  warn('%s is a low contrast image' % fname)\n",
      "/data/anaconda/envs/cropmask/lib/python3.7/site-packages/skimage/io/_io.py:141: UserWarning: /mnt/cropmaskperm/landsat-clear-scenes-2005/train/LT050300312005020301T1-SC20190818205734_tile_6144_2048/image/LT050300312005020301T1-SC20190818205734_tile_6144_2048.tif is a low contrast image\n",
      "  warn('%s is a low contrast image' % fname)\n",
      "/data/anaconda/envs/cropmask/lib/python3.7/site-packages/skimage/io/_io.py:141: UserWarning: /mnt/cropmaskperm/landsat-clear-scenes-2005/train/LT050300312005020301T1-SC20190818205734_tile_6144_2560/image/LT050300312005020301T1-SC20190818205734_tile_6144_2560.tif is a low contrast image\n",
      "  warn('%s is a low contrast image' % fname)\n",
      "/data/anaconda/envs/cropmask/lib/python3.7/site-packages/skimage/io/_io.py:141: UserWarning: /mnt/cropmaskperm/landsat-clear-scenes-2005/train/LT050300312005020301T1-SC20190818205734_tile_6144_3072/image/LT050300312005020301T1-SC20190818205734_tile_6144_3072.tif is a low contrast image\n",
      "  warn('%s is a low contrast image' % fname)\n",
      "/data/anaconda/envs/cropmask/lib/python3.7/site-packages/skimage/io/_io.py:141: UserWarning: /mnt/cropmaskperm/landsat-clear-scenes-2005/train/LT050300312005020301T1-SC20190818205734_tile_6144_3584/image/LT050300312005020301T1-SC20190818205734_tile_6144_3584.tif is a low contrast image\n",
      "  warn('%s is a low contrast image' % fname)\n",
      "/data/anaconda/envs/cropmask/lib/python3.7/site-packages/skimage/io/_io.py:141: UserWarning: /mnt/cropmaskperm/landsat-clear-scenes-2005/train/LT050300312005020301T1-SC20190818205734_tile_6144_4096/image/LT050300312005020301T1-SC20190818205734_tile_6144_4096.tif is a low contrast image\n",
      "  warn('%s is a low contrast image' % fname)\n",
      "/data/anaconda/envs/cropmask/lib/python3.7/site-packages/skimage/io/_io.py:141: UserWarning: /mnt/cropmaskperm/landsat-clear-scenes-2005/train/LT050300312005020301T1-SC20190818205734_tile_6144_4608/image/LT050300312005020301T1-SC20190818205734_tile_6144_4608.tif is a low contrast image\n",
      "  warn('%s is a low contrast image' % fname)\n",
      "/data/anaconda/envs/cropmask/lib/python3.7/site-packages/skimage/io/_io.py:141: UserWarning: /mnt/cropmaskperm/landsat-clear-scenes-2005/train/LT050300312005020301T1-SC20190818205734_tile_6144_512/image/LT050300312005020301T1-SC20190818205734_tile_6144_512.tif is a low contrast image\n",
      "  warn('%s is a low contrast image' % fname)\n"
     ]
    },
    {
     "name": "stdout",
     "output_type": "stream",
     "text": [
      "removed scene and label, 0.02% bad data\n"
     ]
    },
    {
     "name": "stderr",
     "output_type": "stream",
     "text": [
      "/data/anaconda/envs/cropmask/lib/python3.7/site-packages/skimage/io/_io.py:141: UserWarning: /mnt/cropmaskperm/landsat-clear-scenes-2005/train/LT050300312005020301T1-SC20190818205734_tile_6144_5120/image/LT050300312005020301T1-SC20190818205734_tile_6144_5120.tif is a low contrast image\n",
      "  warn('%s is a low contrast image' % fname)\n",
      "/data/anaconda/envs/cropmask/lib/python3.7/site-packages/skimage/io/_io.py:141: UserWarning: /mnt/cropmaskperm/landsat-clear-scenes-2005/train/LT050300312005020301T1-SC20190818205734_tile_6144_5632/image/LT050300312005020301T1-SC20190818205734_tile_6144_5632.tif is a low contrast image\n",
      "  warn('%s is a low contrast image' % fname)\n"
     ]
    },
    {
     "name": "stdout",
     "output_type": "stream",
     "text": [
      "removed scene and label, 0.02% bad data\n"
     ]
    },
    {
     "name": "stderr",
     "output_type": "stream",
     "text": [
      "/data/anaconda/envs/cropmask/lib/python3.7/site-packages/skimage/io/_io.py:141: UserWarning: /mnt/cropmaskperm/landsat-clear-scenes-2005/train/LT050300312005020301T1-SC20190818205734_tile_6144_6144/image/LT050300312005020301T1-SC20190818205734_tile_6144_6144.tif is a low contrast image\n",
      "  warn('%s is a low contrast image' % fname)\n"
     ]
    },
    {
     "name": "stdout",
     "output_type": "stream",
     "text": [
      "removed scene and label, 0.02% bad data\n"
     ]
    },
    {
     "name": "stderr",
     "output_type": "stream",
     "text": [
      "/data/anaconda/envs/cropmask/lib/python3.7/site-packages/skimage/io/_io.py:141: UserWarning: /mnt/cropmaskperm/landsat-clear-scenes-2005/train/LT050300312005020301T1-SC20190818205734_tile_6144_6656/image/LT050300312005020301T1-SC20190818205734_tile_6144_6656.tif is a low contrast image\n",
      "  warn('%s is a low contrast image' % fname)\n"
     ]
    },
    {
     "name": "stdout",
     "output_type": "stream",
     "text": [
      "removed scene and label, 0.02% bad data\n"
     ]
    },
    {
     "name": "stderr",
     "output_type": "stream",
     "text": [
      "/data/anaconda/envs/cropmask/lib/python3.7/site-packages/skimage/io/_io.py:141: UserWarning: /mnt/cropmaskperm/landsat-clear-scenes-2005/train/LT050300312005020301T1-SC20190818205734_tile_6144_7168/image/LT050300312005020301T1-SC20190818205734_tile_6144_7168.tif is a low contrast image\n",
      "  warn('%s is a low contrast image' % fname)\n"
     ]
    },
    {
     "name": "stdout",
     "output_type": "stream",
     "text": [
      "removed scene and label, 0.02% bad data\n"
     ]
    },
    {
     "name": "stderr",
     "output_type": "stream",
     "text": [
      "/data/anaconda/envs/cropmask/lib/python3.7/site-packages/skimage/io/_io.py:141: UserWarning: /mnt/cropmaskperm/landsat-clear-scenes-2005/train/LT050300312005020301T1-SC20190818205734_tile_6656_0/image/LT050300312005020301T1-SC20190818205734_tile_6656_0.tif is a low contrast image\n",
      "  warn('%s is a low contrast image' % fname)\n"
     ]
    },
    {
     "name": "stdout",
     "output_type": "stream",
     "text": [
      "removed scene and label, 0.02% bad data\n"
     ]
    },
    {
     "name": "stderr",
     "output_type": "stream",
     "text": [
      "/data/anaconda/envs/cropmask/lib/python3.7/site-packages/skimage/io/_io.py:141: UserWarning: /mnt/cropmaskperm/landsat-clear-scenes-2005/train/LT050300312005020301T1-SC20190818205734_tile_6656_1024/image/LT050300312005020301T1-SC20190818205734_tile_6656_1024.tif is a low contrast image\n",
      "  warn('%s is a low contrast image' % fname)\n"
     ]
    },
    {
     "name": "stdout",
     "output_type": "stream",
     "text": [
      "removed scene and label, 0.02% bad data\n"
     ]
    },
    {
     "name": "stderr",
     "output_type": "stream",
     "text": [
      "/data/anaconda/envs/cropmask/lib/python3.7/site-packages/skimage/io/_io.py:141: UserWarning: /mnt/cropmaskperm/landsat-clear-scenes-2005/train/LT050300312005020301T1-SC20190818205734_tile_6656_1536/image/LT050300312005020301T1-SC20190818205734_tile_6656_1536.tif is a low contrast image\n",
      "  warn('%s is a low contrast image' % fname)\n",
      "/data/anaconda/envs/cropmask/lib/python3.7/site-packages/skimage/io/_io.py:141: UserWarning: /mnt/cropmaskperm/landsat-clear-scenes-2005/train/LT050300312005020301T1-SC20190818205734_tile_6656_2048/image/LT050300312005020301T1-SC20190818205734_tile_6656_2048.tif is a low contrast image\n",
      "  warn('%s is a low contrast image' % fname)\n",
      "/data/anaconda/envs/cropmask/lib/python3.7/site-packages/skimage/io/_io.py:141: UserWarning: /mnt/cropmaskperm/landsat-clear-scenes-2005/train/LT050300312005020301T1-SC20190818205734_tile_6656_2560/image/LT050300312005020301T1-SC20190818205734_tile_6656_2560.tif is a low contrast image\n",
      "  warn('%s is a low contrast image' % fname)\n",
      "/data/anaconda/envs/cropmask/lib/python3.7/site-packages/skimage/io/_io.py:141: UserWarning: /mnt/cropmaskperm/landsat-clear-scenes-2005/train/LT050300312005020301T1-SC20190818205734_tile_6656_3072/image/LT050300312005020301T1-SC20190818205734_tile_6656_3072.tif is a low contrast image\n",
      "  warn('%s is a low contrast image' % fname)\n",
      "/data/anaconda/envs/cropmask/lib/python3.7/site-packages/skimage/io/_io.py:141: UserWarning: /mnt/cropmaskperm/landsat-clear-scenes-2005/train/LT050300312005020301T1-SC20190818205734_tile_6656_3584/image/LT050300312005020301T1-SC20190818205734_tile_6656_3584.tif is a low contrast image\n",
      "  warn('%s is a low contrast image' % fname)\n"
     ]
    },
    {
     "name": "stdout",
     "output_type": "stream",
     "text": [
      "removed scene and label, 0.02% bad data\n"
     ]
    },
    {
     "name": "stderr",
     "output_type": "stream",
     "text": [
      "/data/anaconda/envs/cropmask/lib/python3.7/site-packages/skimage/io/_io.py:141: UserWarning: /mnt/cropmaskperm/landsat-clear-scenes-2005/train/LT050300312005020301T1-SC20190818205734_tile_6656_4096/image/LT050300312005020301T1-SC20190818205734_tile_6656_4096.tif is a low contrast image\n",
      "  warn('%s is a low contrast image' % fname)\n"
     ]
    },
    {
     "name": "stdout",
     "output_type": "stream",
     "text": [
      "removed scene and label, 0.02% bad data\n"
     ]
    },
    {
     "name": "stderr",
     "output_type": "stream",
     "text": [
      "/data/anaconda/envs/cropmask/lib/python3.7/site-packages/skimage/io/_io.py:141: UserWarning: /mnt/cropmaskperm/landsat-clear-scenes-2005/train/LT050300312005020301T1-SC20190818205734_tile_6656_4608/image/LT050300312005020301T1-SC20190818205734_tile_6656_4608.tif is a low contrast image\n",
      "  warn('%s is a low contrast image' % fname)\n"
     ]
    },
    {
     "name": "stdout",
     "output_type": "stream",
     "text": [
      "removed scene and label, 0.02% bad data\n"
     ]
    },
    {
     "name": "stderr",
     "output_type": "stream",
     "text": [
      "/data/anaconda/envs/cropmask/lib/python3.7/site-packages/skimage/io/_io.py:141: UserWarning: /mnt/cropmaskperm/landsat-clear-scenes-2005/train/LT050300312005020301T1-SC20190818205734_tile_6656_512/image/LT050300312005020301T1-SC20190818205734_tile_6656_512.tif is a low contrast image\n",
      "  warn('%s is a low contrast image' % fname)\n"
     ]
    },
    {
     "name": "stdout",
     "output_type": "stream",
     "text": [
      "removed scene and label, 0.02% bad data\n"
     ]
    },
    {
     "name": "stderr",
     "output_type": "stream",
     "text": [
      "/data/anaconda/envs/cropmask/lib/python3.7/site-packages/skimage/io/_io.py:141: UserWarning: /mnt/cropmaskperm/landsat-clear-scenes-2005/train/LT050300312005020301T1-SC20190818205734_tile_6656_5120/image/LT050300312005020301T1-SC20190818205734_tile_6656_5120.tif is a low contrast image\n",
      "  warn('%s is a low contrast image' % fname)\n"
     ]
    },
    {
     "name": "stdout",
     "output_type": "stream",
     "text": [
      "removed scene and label, 0.02% bad data\n"
     ]
    },
    {
     "name": "stderr",
     "output_type": "stream",
     "text": [
      "/data/anaconda/envs/cropmask/lib/python3.7/site-packages/skimage/io/_io.py:141: UserWarning: /mnt/cropmaskperm/landsat-clear-scenes-2005/train/LT050300312005020301T1-SC20190818205734_tile_6656_5632/image/LT050300312005020301T1-SC20190818205734_tile_6656_5632.tif is a low contrast image\n",
      "  warn('%s is a low contrast image' % fname)\n"
     ]
    },
    {
     "name": "stdout",
     "output_type": "stream",
     "text": [
      "removed scene and label, 0.02% bad data\n"
     ]
    },
    {
     "name": "stderr",
     "output_type": "stream",
     "text": [
      "/data/anaconda/envs/cropmask/lib/python3.7/site-packages/skimage/io/_io.py:141: UserWarning: /mnt/cropmaskperm/landsat-clear-scenes-2005/train/LT050300312005020301T1-SC20190818205734_tile_6656_6144/image/LT050300312005020301T1-SC20190818205734_tile_6656_6144.tif is a low contrast image\n",
      "  warn('%s is a low contrast image' % fname)\n"
     ]
    },
    {
     "name": "stdout",
     "output_type": "stream",
     "text": [
      "removed scene and label, 0.02% bad data\n"
     ]
    },
    {
     "name": "stderr",
     "output_type": "stream",
     "text": [
      "/data/anaconda/envs/cropmask/lib/python3.7/site-packages/skimage/io/_io.py:141: UserWarning: /mnt/cropmaskperm/landsat-clear-scenes-2005/train/LT050300312005020301T1-SC20190818205734_tile_6656_6656/image/LT050300312005020301T1-SC20190818205734_tile_6656_6656.tif is a low contrast image\n",
      "  warn('%s is a low contrast image' % fname)\n"
     ]
    },
    {
     "name": "stdout",
     "output_type": "stream",
     "text": [
      "removed scene and label, 0.02% bad data\n"
     ]
    },
    {
     "name": "stderr",
     "output_type": "stream",
     "text": [
      "/data/anaconda/envs/cropmask/lib/python3.7/site-packages/skimage/io/_io.py:141: UserWarning: /mnt/cropmaskperm/landsat-clear-scenes-2005/train/LT050300312005020301T1-SC20190818205734_tile_6656_7168/image/LT050300312005020301T1-SC20190818205734_tile_6656_7168.tif is a low contrast image\n",
      "  warn('%s is a low contrast image' % fname)\n"
     ]
    },
    {
     "name": "stdout",
     "output_type": "stream",
     "text": [
      "removed scene and label, 0.02% bad data\n"
     ]
    },
    {
     "name": "stderr",
     "output_type": "stream",
     "text": [
      "/data/anaconda/envs/cropmask/lib/python3.7/site-packages/skimage/io/_io.py:141: UserWarning: /mnt/cropmaskperm/landsat-clear-scenes-2005/train/LT050300312005020301T1-SC20190818205734_tile_7168_0/image/LT050300312005020301T1-SC20190818205734_tile_7168_0.tif is a low contrast image\n",
      "  warn('%s is a low contrast image' % fname)\n"
     ]
    },
    {
     "name": "stdout",
     "output_type": "stream",
     "text": [
      "removed scene and label, 0.02% bad data\n"
     ]
    },
    {
     "name": "stderr",
     "output_type": "stream",
     "text": [
      "/data/anaconda/envs/cropmask/lib/python3.7/site-packages/skimage/io/_io.py:141: UserWarning: /mnt/cropmaskperm/landsat-clear-scenes-2005/train/LT050300312005020301T1-SC20190818205734_tile_7168_1024/image/LT050300312005020301T1-SC20190818205734_tile_7168_1024.tif is a low contrast image\n",
      "  warn('%s is a low contrast image' % fname)\n"
     ]
    },
    {
     "name": "stdout",
     "output_type": "stream",
     "text": [
      "removed scene and label, 0.02% bad data\n"
     ]
    },
    {
     "name": "stderr",
     "output_type": "stream",
     "text": [
      "/data/anaconda/envs/cropmask/lib/python3.7/site-packages/skimage/io/_io.py:141: UserWarning: /mnt/cropmaskperm/landsat-clear-scenes-2005/train/LT050300312005020301T1-SC20190818205734_tile_7168_1536/image/LT050300312005020301T1-SC20190818205734_tile_7168_1536.tif is a low contrast image\n",
      "  warn('%s is a low contrast image' % fname)\n"
     ]
    },
    {
     "name": "stdout",
     "output_type": "stream",
     "text": [
      "removed scene and label, 0.02% bad data\n"
     ]
    },
    {
     "name": "stderr",
     "output_type": "stream",
     "text": [
      "/data/anaconda/envs/cropmask/lib/python3.7/site-packages/skimage/io/_io.py:141: UserWarning: /mnt/cropmaskperm/landsat-clear-scenes-2005/train/LT050300312005020301T1-SC20190818205734_tile_7168_2048/image/LT050300312005020301T1-SC20190818205734_tile_7168_2048.tif is a low contrast image\n",
      "  warn('%s is a low contrast image' % fname)\n"
     ]
    },
    {
     "name": "stdout",
     "output_type": "stream",
     "text": [
      "removed scene and label, 0.02% bad data\n"
     ]
    },
    {
     "name": "stderr",
     "output_type": "stream",
     "text": [
      "/data/anaconda/envs/cropmask/lib/python3.7/site-packages/skimage/io/_io.py:141: UserWarning: /mnt/cropmaskperm/landsat-clear-scenes-2005/train/LT050300312005020301T1-SC20190818205734_tile_7168_2560/image/LT050300312005020301T1-SC20190818205734_tile_7168_2560.tif is a low contrast image\n",
      "  warn('%s is a low contrast image' % fname)\n"
     ]
    },
    {
     "name": "stdout",
     "output_type": "stream",
     "text": [
      "removed scene and label, 0.02% bad data\n"
     ]
    },
    {
     "name": "stderr",
     "output_type": "stream",
     "text": [
      "/data/anaconda/envs/cropmask/lib/python3.7/site-packages/skimage/io/_io.py:141: UserWarning: /mnt/cropmaskperm/landsat-clear-scenes-2005/train/LT050300312005020301T1-SC20190818205734_tile_7168_3072/image/LT050300312005020301T1-SC20190818205734_tile_7168_3072.tif is a low contrast image\n",
      "  warn('%s is a low contrast image' % fname)\n"
     ]
    },
    {
     "name": "stdout",
     "output_type": "stream",
     "text": [
      "removed scene and label, 0.02% bad data\n"
     ]
    },
    {
     "name": "stderr",
     "output_type": "stream",
     "text": [
      "/data/anaconda/envs/cropmask/lib/python3.7/site-packages/skimage/io/_io.py:141: UserWarning: /mnt/cropmaskperm/landsat-clear-scenes-2005/train/LT050300312005020301T1-SC20190818205734_tile_7168_3584/image/LT050300312005020301T1-SC20190818205734_tile_7168_3584.tif is a low contrast image\n",
      "  warn('%s is a low contrast image' % fname)\n"
     ]
    },
    {
     "name": "stdout",
     "output_type": "stream",
     "text": [
      "removed scene and label, 0.02% bad data\n"
     ]
    },
    {
     "name": "stderr",
     "output_type": "stream",
     "text": [
      "/data/anaconda/envs/cropmask/lib/python3.7/site-packages/skimage/io/_io.py:141: UserWarning: /mnt/cropmaskperm/landsat-clear-scenes-2005/train/LT050300312005020301T1-SC20190818205734_tile_7168_4096/image/LT050300312005020301T1-SC20190818205734_tile_7168_4096.tif is a low contrast image\n",
      "  warn('%s is a low contrast image' % fname)\n"
     ]
    },
    {
     "name": "stdout",
     "output_type": "stream",
     "text": [
      "removed scene and label, 0.02% bad data\n"
     ]
    },
    {
     "name": "stderr",
     "output_type": "stream",
     "text": [
      "/data/anaconda/envs/cropmask/lib/python3.7/site-packages/skimage/io/_io.py:141: UserWarning: /mnt/cropmaskperm/landsat-clear-scenes-2005/train/LT050300312005020301T1-SC20190818205734_tile_7168_4608/image/LT050300312005020301T1-SC20190818205734_tile_7168_4608.tif is a low contrast image\n",
      "  warn('%s is a low contrast image' % fname)\n"
     ]
    },
    {
     "name": "stdout",
     "output_type": "stream",
     "text": [
      "removed scene and label, 0.02% bad data\n"
     ]
    },
    {
     "name": "stderr",
     "output_type": "stream",
     "text": [
      "/data/anaconda/envs/cropmask/lib/python3.7/site-packages/skimage/io/_io.py:141: UserWarning: /mnt/cropmaskperm/landsat-clear-scenes-2005/train/LT050300312005020301T1-SC20190818205734_tile_7168_512/image/LT050300312005020301T1-SC20190818205734_tile_7168_512.tif is a low contrast image\n",
      "  warn('%s is a low contrast image' % fname)\n"
     ]
    },
    {
     "name": "stdout",
     "output_type": "stream",
     "text": [
      "removed scene and label, 0.02% bad data\n"
     ]
    },
    {
     "name": "stderr",
     "output_type": "stream",
     "text": [
      "/data/anaconda/envs/cropmask/lib/python3.7/site-packages/skimage/io/_io.py:141: UserWarning: /mnt/cropmaskperm/landsat-clear-scenes-2005/train/LT050300312005020301T1-SC20190818205734_tile_7168_5120/image/LT050300312005020301T1-SC20190818205734_tile_7168_5120.tif is a low contrast image\n",
      "  warn('%s is a low contrast image' % fname)\n"
     ]
    },
    {
     "name": "stdout",
     "output_type": "stream",
     "text": [
      "removed scene and label, 0.02% bad data\n"
     ]
    },
    {
     "name": "stderr",
     "output_type": "stream",
     "text": [
      "/data/anaconda/envs/cropmask/lib/python3.7/site-packages/skimage/io/_io.py:141: UserWarning: /mnt/cropmaskperm/landsat-clear-scenes-2005/train/LT050300312005020301T1-SC20190818205734_tile_7168_5632/image/LT050300312005020301T1-SC20190818205734_tile_7168_5632.tif is a low contrast image\n",
      "  warn('%s is a low contrast image' % fname)\n"
     ]
    },
    {
     "name": "stdout",
     "output_type": "stream",
     "text": [
      "removed scene and label, 0.02% bad data\n"
     ]
    },
    {
     "name": "stderr",
     "output_type": "stream",
     "text": [
      "/data/anaconda/envs/cropmask/lib/python3.7/site-packages/skimage/io/_io.py:141: UserWarning: /mnt/cropmaskperm/landsat-clear-scenes-2005/train/LT050300312005020301T1-SC20190818205734_tile_7168_6144/image/LT050300312005020301T1-SC20190818205734_tile_7168_6144.tif is a low contrast image\n",
      "  warn('%s is a low contrast image' % fname)\n"
     ]
    },
    {
     "name": "stdout",
     "output_type": "stream",
     "text": [
      "removed scene and label, 0.02% bad data\n"
     ]
    },
    {
     "name": "stderr",
     "output_type": "stream",
     "text": [
      "/data/anaconda/envs/cropmask/lib/python3.7/site-packages/skimage/io/_io.py:141: UserWarning: /mnt/cropmaskperm/landsat-clear-scenes-2005/train/LT050300312005020301T1-SC20190818205734_tile_7168_6656/image/LT050300312005020301T1-SC20190818205734_tile_7168_6656.tif is a low contrast image\n",
      "  warn('%s is a low contrast image' % fname)\n"
     ]
    },
    {
     "name": "stdout",
     "output_type": "stream",
     "text": [
      "removed scene and label, 0.02% bad data\n",
      "removed scene and label, 0.02% bad data\n"
     ]
    },
    {
     "name": "stderr",
     "output_type": "stream",
     "text": [
      "/data/anaconda/envs/cropmask/lib/python3.7/site-packages/skimage/io/_io.py:141: UserWarning: /mnt/cropmaskperm/landsat-clear-scenes-2005/train/LT050300312005020301T1-SC20190818205734_tile_7168_7168/image/LT050300312005020301T1-SC20190818205734_tile_7168_7168.tif is a low contrast image\n",
      "  warn('%s is a low contrast image' % fname)\n",
      "/data/anaconda/envs/cropmask/lib/python3.7/site-packages/skimage/io/_io.py:141: UserWarning: /mnt/cropmaskperm/landsat-clear-scenes-2005/train/LT050300312005020301T1-SC20190818205734_tile_7680_0/image/LT050300312005020301T1-SC20190818205734_tile_7680_0.tif is a low contrast image\n",
      "  warn('%s is a low contrast image' % fname)\n"
     ]
    },
    {
     "name": "stdout",
     "output_type": "stream",
     "text": [
      "removed scene and label, 0.02% bad data\n"
     ]
    },
    {
     "name": "stderr",
     "output_type": "stream",
     "text": [
      "/data/anaconda/envs/cropmask/lib/python3.7/site-packages/skimage/io/_io.py:141: UserWarning: /mnt/cropmaskperm/landsat-clear-scenes-2005/train/LT050300312005020301T1-SC20190818205734_tile_7680_1024/image/LT050300312005020301T1-SC20190818205734_tile_7680_1024.tif is a low contrast image\n",
      "  warn('%s is a low contrast image' % fname)\n"
     ]
    },
    {
     "name": "stdout",
     "output_type": "stream",
     "text": [
      "removed scene and label, 0.02% bad data\n"
     ]
    },
    {
     "name": "stderr",
     "output_type": "stream",
     "text": [
      "/data/anaconda/envs/cropmask/lib/python3.7/site-packages/skimage/io/_io.py:141: UserWarning: /mnt/cropmaskperm/landsat-clear-scenes-2005/train/LT050300312005020301T1-SC20190818205734_tile_7680_1536/image/LT050300312005020301T1-SC20190818205734_tile_7680_1536.tif is a low contrast image\n",
      "  warn('%s is a low contrast image' % fname)\n"
     ]
    },
    {
     "name": "stdout",
     "output_type": "stream",
     "text": [
      "removed scene and label, 0.02% bad data\n"
     ]
    },
    {
     "name": "stderr",
     "output_type": "stream",
     "text": [
      "/data/anaconda/envs/cropmask/lib/python3.7/site-packages/skimage/io/_io.py:141: UserWarning: /mnt/cropmaskperm/landsat-clear-scenes-2005/train/LT050300312005020301T1-SC20190818205734_tile_7680_2048/image/LT050300312005020301T1-SC20190818205734_tile_7680_2048.tif is a low contrast image\n",
      "  warn('%s is a low contrast image' % fname)\n"
     ]
    },
    {
     "name": "stdout",
     "output_type": "stream",
     "text": [
      "removed scene and label, 0.02% bad data\n"
     ]
    },
    {
     "name": "stderr",
     "output_type": "stream",
     "text": [
      "/data/anaconda/envs/cropmask/lib/python3.7/site-packages/skimage/io/_io.py:141: UserWarning: /mnt/cropmaskperm/landsat-clear-scenes-2005/train/LT050300312005020301T1-SC20190818205734_tile_7680_2560/image/LT050300312005020301T1-SC20190818205734_tile_7680_2560.tif is a low contrast image\n",
      "  warn('%s is a low contrast image' % fname)\n"
     ]
    },
    {
     "name": "stdout",
     "output_type": "stream",
     "text": [
      "removed scene and label, 0.02% bad data\n"
     ]
    },
    {
     "name": "stderr",
     "output_type": "stream",
     "text": [
      "/data/anaconda/envs/cropmask/lib/python3.7/site-packages/skimage/io/_io.py:141: UserWarning: /mnt/cropmaskperm/landsat-clear-scenes-2005/train/LT050300312005020301T1-SC20190818205734_tile_7680_3072/image/LT050300312005020301T1-SC20190818205734_tile_7680_3072.tif is a low contrast image\n",
      "  warn('%s is a low contrast image' % fname)\n"
     ]
    },
    {
     "name": "stdout",
     "output_type": "stream",
     "text": [
      "removed scene and label, 0.02% bad data\n"
     ]
    },
    {
     "name": "stderr",
     "output_type": "stream",
     "text": [
      "/data/anaconda/envs/cropmask/lib/python3.7/site-packages/skimage/io/_io.py:141: UserWarning: /mnt/cropmaskperm/landsat-clear-scenes-2005/train/LT050300312005020301T1-SC20190818205734_tile_7680_3584/image/LT050300312005020301T1-SC20190818205734_tile_7680_3584.tif is a low contrast image\n",
      "  warn('%s is a low contrast image' % fname)\n"
     ]
    },
    {
     "name": "stdout",
     "output_type": "stream",
     "text": [
      "removed scene and label, 0.02% bad data\n"
     ]
    },
    {
     "name": "stderr",
     "output_type": "stream",
     "text": [
      "/data/anaconda/envs/cropmask/lib/python3.7/site-packages/skimage/io/_io.py:141: UserWarning: /mnt/cropmaskperm/landsat-clear-scenes-2005/train/LT050300312005020301T1-SC20190818205734_tile_7680_4096/image/LT050300312005020301T1-SC20190818205734_tile_7680_4096.tif is a low contrast image\n",
      "  warn('%s is a low contrast image' % fname)\n"
     ]
    },
    {
     "name": "stdout",
     "output_type": "stream",
     "text": [
      "removed scene and label, 0.02% bad data\n"
     ]
    },
    {
     "name": "stderr",
     "output_type": "stream",
     "text": [
      "/data/anaconda/envs/cropmask/lib/python3.7/site-packages/skimage/io/_io.py:141: UserWarning: /mnt/cropmaskperm/landsat-clear-scenes-2005/train/LT050300312005020301T1-SC20190818205734_tile_7680_4608/image/LT050300312005020301T1-SC20190818205734_tile_7680_4608.tif is a low contrast image\n",
      "  warn('%s is a low contrast image' % fname)\n"
     ]
    },
    {
     "name": "stdout",
     "output_type": "stream",
     "text": [
      "removed scene and label, 0.02% bad data\n"
     ]
    },
    {
     "name": "stderr",
     "output_type": "stream",
     "text": [
      "/data/anaconda/envs/cropmask/lib/python3.7/site-packages/skimage/io/_io.py:141: UserWarning: /mnt/cropmaskperm/landsat-clear-scenes-2005/train/LT050300312005020301T1-SC20190818205734_tile_7680_512/image/LT050300312005020301T1-SC20190818205734_tile_7680_512.tif is a low contrast image\n",
      "  warn('%s is a low contrast image' % fname)\n"
     ]
    },
    {
     "name": "stdout",
     "output_type": "stream",
     "text": [
      "removed scene and label, 0.02% bad data\n"
     ]
    },
    {
     "name": "stderr",
     "output_type": "stream",
     "text": [
      "/data/anaconda/envs/cropmask/lib/python3.7/site-packages/skimage/io/_io.py:141: UserWarning: /mnt/cropmaskperm/landsat-clear-scenes-2005/train/LT050300312005020301T1-SC20190818205734_tile_7680_5120/image/LT050300312005020301T1-SC20190818205734_tile_7680_5120.tif is a low contrast image\n",
      "  warn('%s is a low contrast image' % fname)\n"
     ]
    },
    {
     "name": "stdout",
     "output_type": "stream",
     "text": [
      "removed scene and label, 0.02% bad data\n"
     ]
    },
    {
     "name": "stderr",
     "output_type": "stream",
     "text": [
      "/data/anaconda/envs/cropmask/lib/python3.7/site-packages/skimage/io/_io.py:141: UserWarning: /mnt/cropmaskperm/landsat-clear-scenes-2005/train/LT050300312005020301T1-SC20190818205734_tile_7680_5632/image/LT050300312005020301T1-SC20190818205734_tile_7680_5632.tif is a low contrast image\n",
      "  warn('%s is a low contrast image' % fname)\n"
     ]
    },
    {
     "name": "stdout",
     "output_type": "stream",
     "text": [
      "removed scene and label, 0.02% bad data\n"
     ]
    },
    {
     "name": "stderr",
     "output_type": "stream",
     "text": [
      "/data/anaconda/envs/cropmask/lib/python3.7/site-packages/skimage/io/_io.py:141: UserWarning: /mnt/cropmaskperm/landsat-clear-scenes-2005/train/LT050300312005020301T1-SC20190818205734_tile_7680_6144/image/LT050300312005020301T1-SC20190818205734_tile_7680_6144.tif is a low contrast image\n",
      "  warn('%s is a low contrast image' % fname)\n"
     ]
    },
    {
     "name": "stdout",
     "output_type": "stream",
     "text": [
      "removed scene and label, 0.02% bad data\n"
     ]
    },
    {
     "name": "stderr",
     "output_type": "stream",
     "text": [
      "/data/anaconda/envs/cropmask/lib/python3.7/site-packages/skimage/io/_io.py:141: UserWarning: /mnt/cropmaskperm/landsat-clear-scenes-2005/train/LT050300312005020301T1-SC20190818205734_tile_7680_6656/image/LT050300312005020301T1-SC20190818205734_tile_7680_6656.tif is a low contrast image\n",
      "  warn('%s is a low contrast image' % fname)\n"
     ]
    },
    {
     "name": "stdout",
     "output_type": "stream",
     "text": [
      "removed scene and label, 0.02% bad data\n",
      "removed scene and label, 0.02% bad data\n"
     ]
    },
    {
     "name": "stderr",
     "output_type": "stream",
     "text": [
      "/data/anaconda/envs/cropmask/lib/python3.7/site-packages/skimage/io/_io.py:141: UserWarning: /mnt/cropmaskperm/landsat-clear-scenes-2005/train/LT050300312005020301T1-SC20190818205734_tile_7680_7168/image/LT050300312005020301T1-SC20190818205734_tile_7680_7168.tif is a low contrast image\n",
      "  warn('%s is a low contrast image' % fname)\n",
      "/data/anaconda/envs/cropmask/lib/python3.7/site-packages/skimage/io/_io.py:141: UserWarning: /mnt/cropmaskperm/landsat-clear-scenes-2005/train/LT050300312005020301T1-SC20190818205734_tile_1024_2560/mask/LT050300312005020301T1-SC20190818205734_tile_1024_2560_label.tif is a low contrast image\n",
      "  warn('%s is a low contrast image' % fname)\n",
      "/data/anaconda/envs/cropmask/lib/python3.7/site-packages/skimage/io/_io.py:141: UserWarning: /mnt/cropmaskperm/landsat-clear-scenes-2005/train/LT050300312005020301T1-SC20190818205734_tile_1024_3072/mask/LT050300312005020301T1-SC20190818205734_tile_1024_3072_label.tif is a low contrast image\n",
      "  warn('%s is a low contrast image' % fname)\n",
      "/data/anaconda/envs/cropmask/lib/python3.7/site-packages/skimage/util/dtype.py:135: UserWarning: Possible precision loss when converting from int64 to float64\n",
      "  .format(dtypeobj_in, dtypeobj_out))\n",
      "/data/anaconda/envs/cropmask/lib/python3.7/site-packages/skimage/io/_io.py:141: UserWarning: /mnt/cropmaskperm/landsat-clear-scenes-2005/train/LT050300312005020301T1-SC20190818205734_tile_1024_3584/mask/LT050300312005020301T1-SC20190818205734_tile_1024_3584_label.tif is a low contrast image\n",
      "  warn('%s is a low contrast image' % fname)\n",
      "/data/anaconda/envs/cropmask/lib/python3.7/site-packages/skimage/io/_io.py:141: UserWarning: /mnt/cropmaskperm/landsat-clear-scenes-2005/train/LT050300312005020301T1-SC20190818205734_tile_1024_4096/mask/LT050300312005020301T1-SC20190818205734_tile_1024_4096_label.tif is a low contrast image\n",
      "  warn('%s is a low contrast image' % fname)\n",
      "/data/anaconda/envs/cropmask/lib/python3.7/site-packages/skimage/io/_io.py:141: UserWarning: /mnt/cropmaskperm/landsat-clear-scenes-2005/train/LT050300312005020301T1-SC20190818205734_tile_1024_4608/mask/LT050300312005020301T1-SC20190818205734_tile_1024_4608_label.tif is a low contrast image\n",
      "  warn('%s is a low contrast image' % fname)\n",
      "/data/anaconda/envs/cropmask/lib/python3.7/site-packages/skimage/io/_io.py:141: UserWarning: /mnt/cropmaskperm/landsat-clear-scenes-2005/train/LT050300312005020301T1-SC20190818205734_tile_1024_5120/mask/LT050300312005020301T1-SC20190818205734_tile_1024_5120_label.tif is a low contrast image\n",
      "  warn('%s is a low contrast image' % fname)\n",
      "/data/anaconda/envs/cropmask/lib/python3.7/site-packages/skimage/io/_io.py:141: UserWarning: /mnt/cropmaskperm/landsat-clear-scenes-2005/train/LT050300312005020301T1-SC20190818205734_tile_1536_1024/mask/LT050300312005020301T1-SC20190818205734_tile_1536_1024_label.tif is a low contrast image\n",
      "  warn('%s is a low contrast image' % fname)\n",
      "/data/anaconda/envs/cropmask/lib/python3.7/site-packages/skimage/io/_io.py:141: UserWarning: /mnt/cropmaskperm/landsat-clear-scenes-2005/train/LT050300312005020301T1-SC20190818205734_tile_1536_1536/mask/LT050300312005020301T1-SC20190818205734_tile_1536_1536_label.tif is a low contrast image\n",
      "  warn('%s is a low contrast image' % fname)\n",
      "/data/anaconda/envs/cropmask/lib/python3.7/site-packages/skimage/io/_io.py:141: UserWarning: /mnt/cropmaskperm/landsat-clear-scenes-2005/train/LT050300312005020301T1-SC20190818205734_tile_1536_2048/mask/LT050300312005020301T1-SC20190818205734_tile_1536_2048_label.tif is a low contrast image\n",
      "  warn('%s is a low contrast image' % fname)\n",
      "/data/anaconda/envs/cropmask/lib/python3.7/site-packages/skimage/io/_io.py:141: UserWarning: /mnt/cropmaskperm/landsat-clear-scenes-2005/train/LT050300312005020301T1-SC20190818205734_tile_1536_2560/mask/LT050300312005020301T1-SC20190818205734_tile_1536_2560_label.tif is a low contrast image\n",
      "  warn('%s is a low contrast image' % fname)\n",
      "/data/anaconda/envs/cropmask/lib/python3.7/site-packages/skimage/io/_io.py:141: UserWarning: /mnt/cropmaskperm/landsat-clear-scenes-2005/train/LT050300312005020301T1-SC20190818205734_tile_1536_3072/mask/LT050300312005020301T1-SC20190818205734_tile_1536_3072_label.tif is a low contrast image\n",
      "  warn('%s is a low contrast image' % fname)\n",
      "/data/anaconda/envs/cropmask/lib/python3.7/site-packages/skimage/io/_io.py:141: UserWarning: /mnt/cropmaskperm/landsat-clear-scenes-2005/train/LT050300312005020301T1-SC20190818205734_tile_1536_3584/mask/LT050300312005020301T1-SC20190818205734_tile_1536_3584_label.tif is a low contrast image\n",
      "  warn('%s is a low contrast image' % fname)\n",
      "/data/anaconda/envs/cropmask/lib/python3.7/site-packages/skimage/io/_io.py:141: UserWarning: /mnt/cropmaskperm/landsat-clear-scenes-2005/train/LT050300312005020301T1-SC20190818205734_tile_1536_4096/mask/LT050300312005020301T1-SC20190818205734_tile_1536_4096_label.tif is a low contrast image\n",
      "  warn('%s is a low contrast image' % fname)\n",
      "/data/anaconda/envs/cropmask/lib/python3.7/site-packages/skimage/io/_io.py:141: UserWarning: /mnt/cropmaskperm/landsat-clear-scenes-2005/train/LT050300312005020301T1-SC20190818205734_tile_1536_4608/mask/LT050300312005020301T1-SC20190818205734_tile_1536_4608_label.tif is a low contrast image\n",
      "  warn('%s is a low contrast image' % fname)\n",
      "/data/anaconda/envs/cropmask/lib/python3.7/site-packages/skimage/io/_io.py:141: UserWarning: /mnt/cropmaskperm/landsat-clear-scenes-2005/train/LT050300312005020301T1-SC20190818205734_tile_1536_512/mask/LT050300312005020301T1-SC20190818205734_tile_1536_512_label.tif is a low contrast image\n",
      "  warn('%s is a low contrast image' % fname)\n",
      "/data/anaconda/envs/cropmask/lib/python3.7/site-packages/skimage/io/_io.py:141: UserWarning: /mnt/cropmaskperm/landsat-clear-scenes-2005/train/LT050300312005020301T1-SC20190818205734_tile_1536_5120/mask/LT050300312005020301T1-SC20190818205734_tile_1536_5120_label.tif is a low contrast image\n",
      "  warn('%s is a low contrast image' % fname)\n",
      "/data/anaconda/envs/cropmask/lib/python3.7/site-packages/skimage/io/_io.py:141: UserWarning: /mnt/cropmaskperm/landsat-clear-scenes-2005/train/LT050300312005020301T1-SC20190818205734_tile_1536_5632/mask/LT050300312005020301T1-SC20190818205734_tile_1536_5632_label.tif is a low contrast image\n",
      "  warn('%s is a low contrast image' % fname)\n",
      "/data/anaconda/envs/cropmask/lib/python3.7/site-packages/skimage/io/_io.py:141: UserWarning: /mnt/cropmaskperm/landsat-clear-scenes-2005/train/LT050300312005020301T1-SC20190818205734_tile_2048_1024/mask/LT050300312005020301T1-SC20190818205734_tile_2048_1024_label.tif is a low contrast image\n",
      "  warn('%s is a low contrast image' % fname)\n",
      "/data/anaconda/envs/cropmask/lib/python3.7/site-packages/skimage/io/_io.py:141: UserWarning: /mnt/cropmaskperm/landsat-clear-scenes-2005/train/LT050300312005020301T1-SC20190818205734_tile_2048_1536/mask/LT050300312005020301T1-SC20190818205734_tile_2048_1536_label.tif is a low contrast image\n",
      "  warn('%s is a low contrast image' % fname)\n",
      "/data/anaconda/envs/cropmask/lib/python3.7/site-packages/skimage/io/_io.py:141: UserWarning: /mnt/cropmaskperm/landsat-clear-scenes-2005/train/LT050300312005020301T1-SC20190818205734_tile_2048_2048/mask/LT050300312005020301T1-SC20190818205734_tile_2048_2048_label.tif is a low contrast image\n",
      "  warn('%s is a low contrast image' % fname)\n",
      "/data/anaconda/envs/cropmask/lib/python3.7/site-packages/skimage/io/_io.py:141: UserWarning: /mnt/cropmaskperm/landsat-clear-scenes-2005/train/LT050300312005020301T1-SC20190818205734_tile_2048_2560/mask/LT050300312005020301T1-SC20190818205734_tile_2048_2560_label.tif is a low contrast image\n",
      "  warn('%s is a low contrast image' % fname)\n",
      "/data/anaconda/envs/cropmask/lib/python3.7/site-packages/skimage/io/_io.py:141: UserWarning: /mnt/cropmaskperm/landsat-clear-scenes-2005/train/LT050300312005020301T1-SC20190818205734_tile_2048_3072/mask/LT050300312005020301T1-SC20190818205734_tile_2048_3072_label.tif is a low contrast image\n",
      "  warn('%s is a low contrast image' % fname)\n",
      "/data/anaconda/envs/cropmask/lib/python3.7/site-packages/skimage/io/_io.py:141: UserWarning: /mnt/cropmaskperm/landsat-clear-scenes-2005/train/LT050300312005020301T1-SC20190818205734_tile_2048_3584/mask/LT050300312005020301T1-SC20190818205734_tile_2048_3584_label.tif is a low contrast image\n",
      "  warn('%s is a low contrast image' % fname)\n",
      "/data/anaconda/envs/cropmask/lib/python3.7/site-packages/skimage/io/_io.py:141: UserWarning: /mnt/cropmaskperm/landsat-clear-scenes-2005/train/LT050300312005020301T1-SC20190818205734_tile_2048_4096/mask/LT050300312005020301T1-SC20190818205734_tile_2048_4096_label.tif is a low contrast image\n",
      "  warn('%s is a low contrast image' % fname)\n",
      "/data/anaconda/envs/cropmask/lib/python3.7/site-packages/skimage/io/_io.py:141: UserWarning: /mnt/cropmaskperm/landsat-clear-scenes-2005/train/LT050300312005020301T1-SC20190818205734_tile_2048_4608/mask/LT050300312005020301T1-SC20190818205734_tile_2048_4608_label.tif is a low contrast image\n",
      "  warn('%s is a low contrast image' % fname)\n",
      "/data/anaconda/envs/cropmask/lib/python3.7/site-packages/skimage/io/_io.py:141: UserWarning: /mnt/cropmaskperm/landsat-clear-scenes-2005/train/LT050300312005020301T1-SC20190818205734_tile_2048_512/mask/LT050300312005020301T1-SC20190818205734_tile_2048_512_label.tif is a low contrast image\n",
      "  warn('%s is a low contrast image' % fname)\n",
      "/data/anaconda/envs/cropmask/lib/python3.7/site-packages/skimage/io/_io.py:141: UserWarning: /mnt/cropmaskperm/landsat-clear-scenes-2005/train/LT050300312005020301T1-SC20190818205734_tile_2048_5120/mask/LT050300312005020301T1-SC20190818205734_tile_2048_5120_label.tif is a low contrast image\n",
      "  warn('%s is a low contrast image' % fname)\n",
      "/data/anaconda/envs/cropmask/lib/python3.7/site-packages/skimage/io/_io.py:141: UserWarning: /mnt/cropmaskperm/landsat-clear-scenes-2005/train/LT050300312005020301T1-SC20190818205734_tile_2048_5632/mask/LT050300312005020301T1-SC20190818205734_tile_2048_5632_label.tif is a low contrast image\n",
      "  warn('%s is a low contrast image' % fname)\n",
      "/data/anaconda/envs/cropmask/lib/python3.7/site-packages/skimage/io/_io.py:141: UserWarning: /mnt/cropmaskperm/landsat-clear-scenes-2005/train/LT050300312005020301T1-SC20190818205734_tile_2560_1024/mask/LT050300312005020301T1-SC20190818205734_tile_2560_1024_label.tif is a low contrast image\n",
      "  warn('%s is a low contrast image' % fname)\n",
      "/data/anaconda/envs/cropmask/lib/python3.7/site-packages/skimage/io/_io.py:141: UserWarning: /mnt/cropmaskperm/landsat-clear-scenes-2005/train/LT050300312005020301T1-SC20190818205734_tile_2560_1536/mask/LT050300312005020301T1-SC20190818205734_tile_2560_1536_label.tif is a low contrast image\n",
      "  warn('%s is a low contrast image' % fname)\n",
      "/data/anaconda/envs/cropmask/lib/python3.7/site-packages/skimage/io/_io.py:141: UserWarning: /mnt/cropmaskperm/landsat-clear-scenes-2005/train/LT050300312005020301T1-SC20190818205734_tile_2560_2048/mask/LT050300312005020301T1-SC20190818205734_tile_2560_2048_label.tif is a low contrast image\n",
      "  warn('%s is a low contrast image' % fname)\n",
      "/data/anaconda/envs/cropmask/lib/python3.7/site-packages/skimage/io/_io.py:141: UserWarning: /mnt/cropmaskperm/landsat-clear-scenes-2005/train/LT050300312005020301T1-SC20190818205734_tile_2560_2560/mask/LT050300312005020301T1-SC20190818205734_tile_2560_2560_label.tif is a low contrast image\n",
      "  warn('%s is a low contrast image' % fname)\n",
      "/data/anaconda/envs/cropmask/lib/python3.7/site-packages/skimage/io/_io.py:141: UserWarning: /mnt/cropmaskperm/landsat-clear-scenes-2005/train/LT050300312005020301T1-SC20190818205734_tile_2560_3072/mask/LT050300312005020301T1-SC20190818205734_tile_2560_3072_label.tif is a low contrast image\n",
      "  warn('%s is a low contrast image' % fname)\n",
      "/data/anaconda/envs/cropmask/lib/python3.7/site-packages/skimage/io/_io.py:141: UserWarning: /mnt/cropmaskperm/landsat-clear-scenes-2005/train/LT050300312005020301T1-SC20190818205734_tile_2560_3584/mask/LT050300312005020301T1-SC20190818205734_tile_2560_3584_label.tif is a low contrast image\n",
      "  warn('%s is a low contrast image' % fname)\n",
      "/data/anaconda/envs/cropmask/lib/python3.7/site-packages/skimage/io/_io.py:141: UserWarning: /mnt/cropmaskperm/landsat-clear-scenes-2005/train/LT050300312005020301T1-SC20190818205734_tile_2560_4096/mask/LT050300312005020301T1-SC20190818205734_tile_2560_4096_label.tif is a low contrast image\n",
      "  warn('%s is a low contrast image' % fname)\n",
      "/data/anaconda/envs/cropmask/lib/python3.7/site-packages/skimage/io/_io.py:141: UserWarning: /mnt/cropmaskperm/landsat-clear-scenes-2005/train/LT050300312005020301T1-SC20190818205734_tile_2560_4608/mask/LT050300312005020301T1-SC20190818205734_tile_2560_4608_label.tif is a low contrast image\n",
      "  warn('%s is a low contrast image' % fname)\n",
      "/data/anaconda/envs/cropmask/lib/python3.7/site-packages/skimage/io/_io.py:141: UserWarning: /mnt/cropmaskperm/landsat-clear-scenes-2005/train/LT050300312005020301T1-SC20190818205734_tile_2560_512/mask/LT050300312005020301T1-SC20190818205734_tile_2560_512_label.tif is a low contrast image\n",
      "  warn('%s is a low contrast image' % fname)\n",
      "/data/anaconda/envs/cropmask/lib/python3.7/site-packages/skimage/io/_io.py:141: UserWarning: /mnt/cropmaskperm/landsat-clear-scenes-2005/train/LT050300312005020301T1-SC20190818205734_tile_2560_5120/mask/LT050300312005020301T1-SC20190818205734_tile_2560_5120_label.tif is a low contrast image\n",
      "  warn('%s is a low contrast image' % fname)\n",
      "/data/anaconda/envs/cropmask/lib/python3.7/site-packages/skimage/io/_io.py:141: UserWarning: /mnt/cropmaskperm/landsat-clear-scenes-2005/train/LT050300312005020301T1-SC20190818205734_tile_2560_5632/mask/LT050300312005020301T1-SC20190818205734_tile_2560_5632_label.tif is a low contrast image\n",
      "  warn('%s is a low contrast image' % fname)\n",
      "/data/anaconda/envs/cropmask/lib/python3.7/site-packages/skimage/io/_io.py:141: UserWarning: /mnt/cropmaskperm/landsat-clear-scenes-2005/train/LT050300312005020301T1-SC20190818205734_tile_3072_1024/mask/LT050300312005020301T1-SC20190818205734_tile_3072_1024_label.tif is a low contrast image\n",
      "  warn('%s is a low contrast image' % fname)\n",
      "/data/anaconda/envs/cropmask/lib/python3.7/site-packages/skimage/io/_io.py:141: UserWarning: /mnt/cropmaskperm/landsat-clear-scenes-2005/train/LT050300312005020301T1-SC20190818205734_tile_3072_1536/mask/LT050300312005020301T1-SC20190818205734_tile_3072_1536_label.tif is a low contrast image\n",
      "  warn('%s is a low contrast image' % fname)\n",
      "/data/anaconda/envs/cropmask/lib/python3.7/site-packages/skimage/io/_io.py:141: UserWarning: /mnt/cropmaskperm/landsat-clear-scenes-2005/train/LT050300312005020301T1-SC20190818205734_tile_3072_2048/mask/LT050300312005020301T1-SC20190818205734_tile_3072_2048_label.tif is a low contrast image\n",
      "  warn('%s is a low contrast image' % fname)\n",
      "/data/anaconda/envs/cropmask/lib/python3.7/site-packages/skimage/io/_io.py:141: UserWarning: /mnt/cropmaskperm/landsat-clear-scenes-2005/train/LT050300312005020301T1-SC20190818205734_tile_3072_2560/mask/LT050300312005020301T1-SC20190818205734_tile_3072_2560_label.tif is a low contrast image\n",
      "  warn('%s is a low contrast image' % fname)\n",
      "/data/anaconda/envs/cropmask/lib/python3.7/site-packages/skimage/io/_io.py:141: UserWarning: /mnt/cropmaskperm/landsat-clear-scenes-2005/train/LT050300312005020301T1-SC20190818205734_tile_3072_3072/mask/LT050300312005020301T1-SC20190818205734_tile_3072_3072_label.tif is a low contrast image\n",
      "  warn('%s is a low contrast image' % fname)\n",
      "/data/anaconda/envs/cropmask/lib/python3.7/site-packages/skimage/io/_io.py:141: UserWarning: /mnt/cropmaskperm/landsat-clear-scenes-2005/train/LT050300312005020301T1-SC20190818205734_tile_3072_3584/mask/LT050300312005020301T1-SC20190818205734_tile_3072_3584_label.tif is a low contrast image\n",
      "  warn('%s is a low contrast image' % fname)\n",
      "/data/anaconda/envs/cropmask/lib/python3.7/site-packages/skimage/io/_io.py:141: UserWarning: /mnt/cropmaskperm/landsat-clear-scenes-2005/train/LT050300312005020301T1-SC20190818205734_tile_3072_4096/mask/LT050300312005020301T1-SC20190818205734_tile_3072_4096_label.tif is a low contrast image\n",
      "  warn('%s is a low contrast image' % fname)\n",
      "/data/anaconda/envs/cropmask/lib/python3.7/site-packages/skimage/io/_io.py:141: UserWarning: /mnt/cropmaskperm/landsat-clear-scenes-2005/train/LT050300312005020301T1-SC20190818205734_tile_3072_4608/mask/LT050300312005020301T1-SC20190818205734_tile_3072_4608_label.tif is a low contrast image\n",
      "  warn('%s is a low contrast image' % fname)\n",
      "/data/anaconda/envs/cropmask/lib/python3.7/site-packages/skimage/io/_io.py:141: UserWarning: /mnt/cropmaskperm/landsat-clear-scenes-2005/train/LT050300312005020301T1-SC20190818205734_tile_3072_512/mask/LT050300312005020301T1-SC20190818205734_tile_3072_512_label.tif is a low contrast image\n",
      "  warn('%s is a low contrast image' % fname)\n",
      "/data/anaconda/envs/cropmask/lib/python3.7/site-packages/skimage/io/_io.py:141: UserWarning: /mnt/cropmaskperm/landsat-clear-scenes-2005/train/LT050300312005020301T1-SC20190818205734_tile_3072_5120/mask/LT050300312005020301T1-SC20190818205734_tile_3072_5120_label.tif is a low contrast image\n",
      "  warn('%s is a low contrast image' % fname)\n",
      "/data/anaconda/envs/cropmask/lib/python3.7/site-packages/skimage/io/_io.py:141: UserWarning: /mnt/cropmaskperm/landsat-clear-scenes-2005/train/LT050300312005020301T1-SC20190818205734_tile_3072_5632/mask/LT050300312005020301T1-SC20190818205734_tile_3072_5632_label.tif is a low contrast image\n",
      "  warn('%s is a low contrast image' % fname)\n",
      "/data/anaconda/envs/cropmask/lib/python3.7/site-packages/skimage/io/_io.py:141: UserWarning: /mnt/cropmaskperm/landsat-clear-scenes-2005/train/LT050300312005020301T1-SC20190818205734_tile_3584_1024/mask/LT050300312005020301T1-SC20190818205734_tile_3584_1024_label.tif is a low contrast image\n",
      "  warn('%s is a low contrast image' % fname)\n",
      "/data/anaconda/envs/cropmask/lib/python3.7/site-packages/skimage/io/_io.py:141: UserWarning: /mnt/cropmaskperm/landsat-clear-scenes-2005/train/LT050300312005020301T1-SC20190818205734_tile_3584_1536/mask/LT050300312005020301T1-SC20190818205734_tile_3584_1536_label.tif is a low contrast image\n",
      "  warn('%s is a low contrast image' % fname)\n",
      "/data/anaconda/envs/cropmask/lib/python3.7/site-packages/skimage/io/_io.py:141: UserWarning: /mnt/cropmaskperm/landsat-clear-scenes-2005/train/LT050300312005020301T1-SC20190818205734_tile_3584_2048/mask/LT050300312005020301T1-SC20190818205734_tile_3584_2048_label.tif is a low contrast image\n",
      "  warn('%s is a low contrast image' % fname)\n",
      "/data/anaconda/envs/cropmask/lib/python3.7/site-packages/skimage/io/_io.py:141: UserWarning: /mnt/cropmaskperm/landsat-clear-scenes-2005/train/LT050300312005020301T1-SC20190818205734_tile_3584_2560/mask/LT050300312005020301T1-SC20190818205734_tile_3584_2560_label.tif is a low contrast image\n",
      "  warn('%s is a low contrast image' % fname)\n",
      "/data/anaconda/envs/cropmask/lib/python3.7/site-packages/skimage/io/_io.py:141: UserWarning: /mnt/cropmaskperm/landsat-clear-scenes-2005/train/LT050300312005020301T1-SC20190818205734_tile_3584_3072/mask/LT050300312005020301T1-SC20190818205734_tile_3584_3072_label.tif is a low contrast image\n",
      "  warn('%s is a low contrast image' % fname)\n",
      "/data/anaconda/envs/cropmask/lib/python3.7/site-packages/skimage/io/_io.py:141: UserWarning: /mnt/cropmaskperm/landsat-clear-scenes-2005/train/LT050300312005020301T1-SC20190818205734_tile_3584_3584/mask/LT050300312005020301T1-SC20190818205734_tile_3584_3584_label.tif is a low contrast image\n",
      "  warn('%s is a low contrast image' % fname)\n",
      "/data/anaconda/envs/cropmask/lib/python3.7/site-packages/skimage/io/_io.py:141: UserWarning: /mnt/cropmaskperm/landsat-clear-scenes-2005/train/LT050300312005020301T1-SC20190818205734_tile_3584_4096/mask/LT050300312005020301T1-SC20190818205734_tile_3584_4096_label.tif is a low contrast image\n",
      "  warn('%s is a low contrast image' % fname)\n",
      "/data/anaconda/envs/cropmask/lib/python3.7/site-packages/skimage/io/_io.py:141: UserWarning: /mnt/cropmaskperm/landsat-clear-scenes-2005/train/LT050300312005020301T1-SC20190818205734_tile_3584_4608/mask/LT050300312005020301T1-SC20190818205734_tile_3584_4608_label.tif is a low contrast image\n",
      "  warn('%s is a low contrast image' % fname)\n",
      "/data/anaconda/envs/cropmask/lib/python3.7/site-packages/skimage/io/_io.py:141: UserWarning: /mnt/cropmaskperm/landsat-clear-scenes-2005/train/LT050300312005020301T1-SC20190818205734_tile_3584_5120/mask/LT050300312005020301T1-SC20190818205734_tile_3584_5120_label.tif is a low contrast image\n",
      "  warn('%s is a low contrast image' % fname)\n",
      "/data/anaconda/envs/cropmask/lib/python3.7/site-packages/skimage/io/_io.py:141: UserWarning: /mnt/cropmaskperm/landsat-clear-scenes-2005/train/LT050300312005020301T1-SC20190818205734_tile_3584_5632/mask/LT050300312005020301T1-SC20190818205734_tile_3584_5632_label.tif is a low contrast image\n",
      "  warn('%s is a low contrast image' % fname)\n",
      "/data/anaconda/envs/cropmask/lib/python3.7/site-packages/skimage/io/_io.py:141: UserWarning: /mnt/cropmaskperm/landsat-clear-scenes-2005/train/LT050300312005020301T1-SC20190818205734_tile_4096_1024/mask/LT050300312005020301T1-SC20190818205734_tile_4096_1024_label.tif is a low contrast image\n",
      "  warn('%s is a low contrast image' % fname)\n",
      "/data/anaconda/envs/cropmask/lib/python3.7/site-packages/skimage/io/_io.py:141: UserWarning: /mnt/cropmaskperm/landsat-clear-scenes-2005/train/LT050300312005020301T1-SC20190818205734_tile_4096_1536/mask/LT050300312005020301T1-SC20190818205734_tile_4096_1536_label.tif is a low contrast image\n",
      "  warn('%s is a low contrast image' % fname)\n",
      "/data/anaconda/envs/cropmask/lib/python3.7/site-packages/skimage/io/_io.py:141: UserWarning: /mnt/cropmaskperm/landsat-clear-scenes-2005/train/LT050300312005020301T1-SC20190818205734_tile_4096_2048/mask/LT050300312005020301T1-SC20190818205734_tile_4096_2048_label.tif is a low contrast image\n",
      "  warn('%s is a low contrast image' % fname)\n",
      "/data/anaconda/envs/cropmask/lib/python3.7/site-packages/skimage/io/_io.py:141: UserWarning: /mnt/cropmaskperm/landsat-clear-scenes-2005/train/LT050300312005020301T1-SC20190818205734_tile_4096_2560/mask/LT050300312005020301T1-SC20190818205734_tile_4096_2560_label.tif is a low contrast image\n",
      "  warn('%s is a low contrast image' % fname)\n",
      "/data/anaconda/envs/cropmask/lib/python3.7/site-packages/skimage/io/_io.py:141: UserWarning: /mnt/cropmaskperm/landsat-clear-scenes-2005/train/LT050300312005020301T1-SC20190818205734_tile_4096_3072/mask/LT050300312005020301T1-SC20190818205734_tile_4096_3072_label.tif is a low contrast image\n",
      "  warn('%s is a low contrast image' % fname)\n",
      "/data/anaconda/envs/cropmask/lib/python3.7/site-packages/skimage/io/_io.py:141: UserWarning: /mnt/cropmaskperm/landsat-clear-scenes-2005/train/LT050300312005020301T1-SC20190818205734_tile_4096_3584/mask/LT050300312005020301T1-SC20190818205734_tile_4096_3584_label.tif is a low contrast image\n",
      "  warn('%s is a low contrast image' % fname)\n",
      "/data/anaconda/envs/cropmask/lib/python3.7/site-packages/skimage/io/_io.py:141: UserWarning: /mnt/cropmaskperm/landsat-clear-scenes-2005/train/LT050300312005020301T1-SC20190818205734_tile_4096_4096/mask/LT050300312005020301T1-SC20190818205734_tile_4096_4096_label.tif is a low contrast image\n",
      "  warn('%s is a low contrast image' % fname)\n",
      "/data/anaconda/envs/cropmask/lib/python3.7/site-packages/skimage/io/_io.py:141: UserWarning: /mnt/cropmaskperm/landsat-clear-scenes-2005/train/LT050300312005020301T1-SC20190818205734_tile_4096_4608/mask/LT050300312005020301T1-SC20190818205734_tile_4096_4608_label.tif is a low contrast image\n",
      "  warn('%s is a low contrast image' % fname)\n",
      "/data/anaconda/envs/cropmask/lib/python3.7/site-packages/skimage/io/_io.py:141: UserWarning: /mnt/cropmaskperm/landsat-clear-scenes-2005/train/LT050300312005020301T1-SC20190818205734_tile_4096_5120/mask/LT050300312005020301T1-SC20190818205734_tile_4096_5120_label.tif is a low contrast image\n",
      "  warn('%s is a low contrast image' % fname)\n",
      "/data/anaconda/envs/cropmask/lib/python3.7/site-packages/skimage/io/_io.py:141: UserWarning: /mnt/cropmaskperm/landsat-clear-scenes-2005/train/LT050300312005020301T1-SC20190818205734_tile_4096_5632/mask/LT050300312005020301T1-SC20190818205734_tile_4096_5632_label.tif is a low contrast image\n",
      "  warn('%s is a low contrast image' % fname)\n",
      "/data/anaconda/envs/cropmask/lib/python3.7/site-packages/skimage/io/_io.py:141: UserWarning: /mnt/cropmaskperm/landsat-clear-scenes-2005/train/LT050300312005020301T1-SC20190818205734_tile_4096_6144/mask/LT050300312005020301T1-SC20190818205734_tile_4096_6144_label.tif is a low contrast image\n",
      "  warn('%s is a low contrast image' % fname)\n",
      "/data/anaconda/envs/cropmask/lib/python3.7/site-packages/skimage/io/_io.py:141: UserWarning: /mnt/cropmaskperm/landsat-clear-scenes-2005/train/LT050300312005020301T1-SC20190818205734_tile_4608_1024/mask/LT050300312005020301T1-SC20190818205734_tile_4608_1024_label.tif is a low contrast image\n",
      "  warn('%s is a low contrast image' % fname)\n",
      "/data/anaconda/envs/cropmask/lib/python3.7/site-packages/skimage/io/_io.py:141: UserWarning: /mnt/cropmaskperm/landsat-clear-scenes-2005/train/LT050300312005020301T1-SC20190818205734_tile_4608_1536/mask/LT050300312005020301T1-SC20190818205734_tile_4608_1536_label.tif is a low contrast image\n",
      "  warn('%s is a low contrast image' % fname)\n",
      "/data/anaconda/envs/cropmask/lib/python3.7/site-packages/skimage/io/_io.py:141: UserWarning: /mnt/cropmaskperm/landsat-clear-scenes-2005/train/LT050300312005020301T1-SC20190818205734_tile_4608_2048/mask/LT050300312005020301T1-SC20190818205734_tile_4608_2048_label.tif is a low contrast image\n",
      "  warn('%s is a low contrast image' % fname)\n",
      "/data/anaconda/envs/cropmask/lib/python3.7/site-packages/skimage/io/_io.py:141: UserWarning: /mnt/cropmaskperm/landsat-clear-scenes-2005/train/LT050300312005020301T1-SC20190818205734_tile_4608_2560/mask/LT050300312005020301T1-SC20190818205734_tile_4608_2560_label.tif is a low contrast image\n",
      "  warn('%s is a low contrast image' % fname)\n",
      "/data/anaconda/envs/cropmask/lib/python3.7/site-packages/skimage/io/_io.py:141: UserWarning: /mnt/cropmaskperm/landsat-clear-scenes-2005/train/LT050300312005020301T1-SC20190818205734_tile_4608_3072/mask/LT050300312005020301T1-SC20190818205734_tile_4608_3072_label.tif is a low contrast image\n",
      "  warn('%s is a low contrast image' % fname)\n",
      "/data/anaconda/envs/cropmask/lib/python3.7/site-packages/skimage/io/_io.py:141: UserWarning: /mnt/cropmaskperm/landsat-clear-scenes-2005/train/LT050300312005020301T1-SC20190818205734_tile_4608_3584/mask/LT050300312005020301T1-SC20190818205734_tile_4608_3584_label.tif is a low contrast image\n",
      "  warn('%s is a low contrast image' % fname)\n",
      "/data/anaconda/envs/cropmask/lib/python3.7/site-packages/skimage/io/_io.py:141: UserWarning: /mnt/cropmaskperm/landsat-clear-scenes-2005/train/LT050300312005020301T1-SC20190818205734_tile_4608_4096/mask/LT050300312005020301T1-SC20190818205734_tile_4608_4096_label.tif is a low contrast image\n",
      "  warn('%s is a low contrast image' % fname)\n",
      "/data/anaconda/envs/cropmask/lib/python3.7/site-packages/skimage/io/_io.py:141: UserWarning: /mnt/cropmaskperm/landsat-clear-scenes-2005/train/LT050300312005020301T1-SC20190818205734_tile_4608_4608/mask/LT050300312005020301T1-SC20190818205734_tile_4608_4608_label.tif is a low contrast image\n",
      "  warn('%s is a low contrast image' % fname)\n",
      "/data/anaconda/envs/cropmask/lib/python3.7/site-packages/skimage/io/_io.py:141: UserWarning: /mnt/cropmaskperm/landsat-clear-scenes-2005/train/LT050300312005020301T1-SC20190818205734_tile_4608_5120/mask/LT050300312005020301T1-SC20190818205734_tile_4608_5120_label.tif is a low contrast image\n",
      "  warn('%s is a low contrast image' % fname)\n",
      "/data/anaconda/envs/cropmask/lib/python3.7/site-packages/skimage/io/_io.py:141: UserWarning: /mnt/cropmaskperm/landsat-clear-scenes-2005/train/LT050300312005020301T1-SC20190818205734_tile_4608_5632/mask/LT050300312005020301T1-SC20190818205734_tile_4608_5632_label.tif is a low contrast image\n",
      "  warn('%s is a low contrast image' % fname)\n",
      "/data/anaconda/envs/cropmask/lib/python3.7/site-packages/skimage/io/_io.py:141: UserWarning: /mnt/cropmaskperm/landsat-clear-scenes-2005/train/LT050300312005020301T1-SC20190818205734_tile_4608_6144/mask/LT050300312005020301T1-SC20190818205734_tile_4608_6144_label.tif is a low contrast image\n",
      "  warn('%s is a low contrast image' % fname)\n",
      "/data/anaconda/envs/cropmask/lib/python3.7/site-packages/skimage/io/_io.py:141: UserWarning: /mnt/cropmaskperm/landsat-clear-scenes-2005/train/LT050300312005020301T1-SC20190818205734_tile_5120_1024/mask/LT050300312005020301T1-SC20190818205734_tile_5120_1024_label.tif is a low contrast image\n",
      "  warn('%s is a low contrast image' % fname)\n",
      "/data/anaconda/envs/cropmask/lib/python3.7/site-packages/skimage/io/_io.py:141: UserWarning: /mnt/cropmaskperm/landsat-clear-scenes-2005/train/LT050300312005020301T1-SC20190818205734_tile_5120_1536/mask/LT050300312005020301T1-SC20190818205734_tile_5120_1536_label.tif is a low contrast image\n",
      "  warn('%s is a low contrast image' % fname)\n",
      "/data/anaconda/envs/cropmask/lib/python3.7/site-packages/skimage/io/_io.py:141: UserWarning: /mnt/cropmaskperm/landsat-clear-scenes-2005/train/LT050300312005020301T1-SC20190818205734_tile_5120_2048/mask/LT050300312005020301T1-SC20190818205734_tile_5120_2048_label.tif is a low contrast image\n",
      "  warn('%s is a low contrast image' % fname)\n",
      "/data/anaconda/envs/cropmask/lib/python3.7/site-packages/skimage/io/_io.py:141: UserWarning: /mnt/cropmaskperm/landsat-clear-scenes-2005/train/LT050300312005020301T1-SC20190818205734_tile_5120_2560/mask/LT050300312005020301T1-SC20190818205734_tile_5120_2560_label.tif is a low contrast image\n",
      "  warn('%s is a low contrast image' % fname)\n",
      "/data/anaconda/envs/cropmask/lib/python3.7/site-packages/skimage/io/_io.py:141: UserWarning: /mnt/cropmaskperm/landsat-clear-scenes-2005/train/LT050300312005020301T1-SC20190818205734_tile_5120_3072/mask/LT050300312005020301T1-SC20190818205734_tile_5120_3072_label.tif is a low contrast image\n",
      "  warn('%s is a low contrast image' % fname)\n",
      "/data/anaconda/envs/cropmask/lib/python3.7/site-packages/skimage/io/_io.py:141: UserWarning: /mnt/cropmaskperm/landsat-clear-scenes-2005/train/LT050300312005020301T1-SC20190818205734_tile_5120_3584/mask/LT050300312005020301T1-SC20190818205734_tile_5120_3584_label.tif is a low contrast image\n",
      "  warn('%s is a low contrast image' % fname)\n",
      "/data/anaconda/envs/cropmask/lib/python3.7/site-packages/skimage/io/_io.py:141: UserWarning: /mnt/cropmaskperm/landsat-clear-scenes-2005/train/LT050300312005020301T1-SC20190818205734_tile_5120_4096/mask/LT050300312005020301T1-SC20190818205734_tile_5120_4096_label.tif is a low contrast image\n",
      "  warn('%s is a low contrast image' % fname)\n",
      "/data/anaconda/envs/cropmask/lib/python3.7/site-packages/skimage/io/_io.py:141: UserWarning: /mnt/cropmaskperm/landsat-clear-scenes-2005/train/LT050300312005020301T1-SC20190818205734_tile_5120_4608/mask/LT050300312005020301T1-SC20190818205734_tile_5120_4608_label.tif is a low contrast image\n",
      "  warn('%s is a low contrast image' % fname)\n",
      "/data/anaconda/envs/cropmask/lib/python3.7/site-packages/skimage/io/_io.py:141: UserWarning: /mnt/cropmaskperm/landsat-clear-scenes-2005/train/LT050300312005020301T1-SC20190818205734_tile_5120_5120/mask/LT050300312005020301T1-SC20190818205734_tile_5120_5120_label.tif is a low contrast image\n",
      "  warn('%s is a low contrast image' % fname)\n",
      "/data/anaconda/envs/cropmask/lib/python3.7/site-packages/skimage/io/_io.py:141: UserWarning: /mnt/cropmaskperm/landsat-clear-scenes-2005/train/LT050300312005020301T1-SC20190818205734_tile_5120_5632/mask/LT050300312005020301T1-SC20190818205734_tile_5120_5632_label.tif is a low contrast image\n",
      "  warn('%s is a low contrast image' % fname)\n",
      "/data/anaconda/envs/cropmask/lib/python3.7/site-packages/skimage/io/_io.py:141: UserWarning: /mnt/cropmaskperm/landsat-clear-scenes-2005/train/LT050300312005020301T1-SC20190818205734_tile_5120_6144/mask/LT050300312005020301T1-SC20190818205734_tile_5120_6144_label.tif is a low contrast image\n",
      "  warn('%s is a low contrast image' % fname)\n",
      "/data/anaconda/envs/cropmask/lib/python3.7/site-packages/skimage/io/_io.py:141: UserWarning: /mnt/cropmaskperm/landsat-clear-scenes-2005/train/LT050300312005020301T1-SC20190818205734_tile_512_4608/mask/LT050300312005020301T1-SC20190818205734_tile_512_4608_label.tif is a low contrast image\n",
      "  warn('%s is a low contrast image' % fname)\n",
      "/data/anaconda/envs/cropmask/lib/python3.7/site-packages/skimage/io/_io.py:141: UserWarning: /mnt/cropmaskperm/landsat-clear-scenes-2005/train/LT050300312005020301T1-SC20190818205734_tile_512_5120/mask/LT050300312005020301T1-SC20190818205734_tile_512_5120_label.tif is a low contrast image\n",
      "  warn('%s is a low contrast image' % fname)\n",
      "/data/anaconda/envs/cropmask/lib/python3.7/site-packages/skimage/io/_io.py:141: UserWarning: /mnt/cropmaskperm/landsat-clear-scenes-2005/train/LT050300312005020301T1-SC20190818205734_tile_5632_1024/mask/LT050300312005020301T1-SC20190818205734_tile_5632_1024_label.tif is a low contrast image\n",
      "  warn('%s is a low contrast image' % fname)\n",
      "/data/anaconda/envs/cropmask/lib/python3.7/site-packages/skimage/io/_io.py:141: UserWarning: /mnt/cropmaskperm/landsat-clear-scenes-2005/train/LT050300312005020301T1-SC20190818205734_tile_5632_1536/mask/LT050300312005020301T1-SC20190818205734_tile_5632_1536_label.tif is a low contrast image\n",
      "  warn('%s is a low contrast image' % fname)\n",
      "/data/anaconda/envs/cropmask/lib/python3.7/site-packages/skimage/io/_io.py:141: UserWarning: /mnt/cropmaskperm/landsat-clear-scenes-2005/train/LT050300312005020301T1-SC20190818205734_tile_5632_2048/mask/LT050300312005020301T1-SC20190818205734_tile_5632_2048_label.tif is a low contrast image\n",
      "  warn('%s is a low contrast image' % fname)\n",
      "/data/anaconda/envs/cropmask/lib/python3.7/site-packages/skimage/io/_io.py:141: UserWarning: /mnt/cropmaskperm/landsat-clear-scenes-2005/train/LT050300312005020301T1-SC20190818205734_tile_5632_2560/mask/LT050300312005020301T1-SC20190818205734_tile_5632_2560_label.tif is a low contrast image\n",
      "  warn('%s is a low contrast image' % fname)\n",
      "/data/anaconda/envs/cropmask/lib/python3.7/site-packages/skimage/io/_io.py:141: UserWarning: /mnt/cropmaskperm/landsat-clear-scenes-2005/train/LT050300312005020301T1-SC20190818205734_tile_5632_3072/mask/LT050300312005020301T1-SC20190818205734_tile_5632_3072_label.tif is a low contrast image\n",
      "  warn('%s is a low contrast image' % fname)\n",
      "/data/anaconda/envs/cropmask/lib/python3.7/site-packages/skimage/io/_io.py:141: UserWarning: /mnt/cropmaskperm/landsat-clear-scenes-2005/train/LT050300312005020301T1-SC20190818205734_tile_5632_3584/mask/LT050300312005020301T1-SC20190818205734_tile_5632_3584_label.tif is a low contrast image\n",
      "  warn('%s is a low contrast image' % fname)\n",
      "/data/anaconda/envs/cropmask/lib/python3.7/site-packages/skimage/io/_io.py:141: UserWarning: /mnt/cropmaskperm/landsat-clear-scenes-2005/train/LT050300312005020301T1-SC20190818205734_tile_5632_4096/mask/LT050300312005020301T1-SC20190818205734_tile_5632_4096_label.tif is a low contrast image\n",
      "  warn('%s is a low contrast image' % fname)\n",
      "/data/anaconda/envs/cropmask/lib/python3.7/site-packages/skimage/io/_io.py:141: UserWarning: /mnt/cropmaskperm/landsat-clear-scenes-2005/train/LT050300312005020301T1-SC20190818205734_tile_5632_4608/mask/LT050300312005020301T1-SC20190818205734_tile_5632_4608_label.tif is a low contrast image\n",
      "  warn('%s is a low contrast image' % fname)\n",
      "/data/anaconda/envs/cropmask/lib/python3.7/site-packages/skimage/io/_io.py:141: UserWarning: /mnt/cropmaskperm/landsat-clear-scenes-2005/train/LT050300312005020301T1-SC20190818205734_tile_5632_5120/mask/LT050300312005020301T1-SC20190818205734_tile_5632_5120_label.tif is a low contrast image\n",
      "  warn('%s is a low contrast image' % fname)\n",
      "/data/anaconda/envs/cropmask/lib/python3.7/site-packages/skimage/io/_io.py:141: UserWarning: /mnt/cropmaskperm/landsat-clear-scenes-2005/train/LT050300312005020301T1-SC20190818205734_tile_5632_5632/mask/LT050300312005020301T1-SC20190818205734_tile_5632_5632_label.tif is a low contrast image\n",
      "  warn('%s is a low contrast image' % fname)\n",
      "/data/anaconda/envs/cropmask/lib/python3.7/site-packages/skimage/io/_io.py:141: UserWarning: /mnt/cropmaskperm/landsat-clear-scenes-2005/train/LT050300312005020301T1-SC20190818205734_tile_5632_6144/mask/LT050300312005020301T1-SC20190818205734_tile_5632_6144_label.tif is a low contrast image\n",
      "  warn('%s is a low contrast image' % fname)\n",
      "/data/anaconda/envs/cropmask/lib/python3.7/site-packages/skimage/io/_io.py:141: UserWarning: /mnt/cropmaskperm/landsat-clear-scenes-2005/train/LT050300312005020301T1-SC20190818205734_tile_6144_1536/mask/LT050300312005020301T1-SC20190818205734_tile_6144_1536_label.tif is a low contrast image\n",
      "  warn('%s is a low contrast image' % fname)\n",
      "/data/anaconda/envs/cropmask/lib/python3.7/site-packages/skimage/io/_io.py:141: UserWarning: /mnt/cropmaskperm/landsat-clear-scenes-2005/train/LT050300312005020301T1-SC20190818205734_tile_6144_2048/mask/LT050300312005020301T1-SC20190818205734_tile_6144_2048_label.tif is a low contrast image\n",
      "  warn('%s is a low contrast image' % fname)\n",
      "/data/anaconda/envs/cropmask/lib/python3.7/site-packages/skimage/io/_io.py:141: UserWarning: /mnt/cropmaskperm/landsat-clear-scenes-2005/train/LT050300312005020301T1-SC20190818205734_tile_6144_2560/mask/LT050300312005020301T1-SC20190818205734_tile_6144_2560_label.tif is a low contrast image\n",
      "  warn('%s is a low contrast image' % fname)\n",
      "/data/anaconda/envs/cropmask/lib/python3.7/site-packages/skimage/io/_io.py:141: UserWarning: /mnt/cropmaskperm/landsat-clear-scenes-2005/train/LT050300312005020301T1-SC20190818205734_tile_6144_3072/mask/LT050300312005020301T1-SC20190818205734_tile_6144_3072_label.tif is a low contrast image\n",
      "  warn('%s is a low contrast image' % fname)\n",
      "/data/anaconda/envs/cropmask/lib/python3.7/site-packages/skimage/io/_io.py:141: UserWarning: /mnt/cropmaskperm/landsat-clear-scenes-2005/train/LT050300312005020301T1-SC20190818205734_tile_6144_3584/mask/LT050300312005020301T1-SC20190818205734_tile_6144_3584_label.tif is a low contrast image\n",
      "  warn('%s is a low contrast image' % fname)\n",
      "/data/anaconda/envs/cropmask/lib/python3.7/site-packages/skimage/io/_io.py:141: UserWarning: /mnt/cropmaskperm/landsat-clear-scenes-2005/train/LT050300312005020301T1-SC20190818205734_tile_6144_4096/mask/LT050300312005020301T1-SC20190818205734_tile_6144_4096_label.tif is a low contrast image\n",
      "  warn('%s is a low contrast image' % fname)\n",
      "/data/anaconda/envs/cropmask/lib/python3.7/site-packages/skimage/io/_io.py:141: UserWarning: /mnt/cropmaskperm/landsat-clear-scenes-2005/train/LT050300312005020301T1-SC20190818205734_tile_6144_4608/mask/LT050300312005020301T1-SC20190818205734_tile_6144_4608_label.tif is a low contrast image\n",
      "  warn('%s is a low contrast image' % fname)\n",
      "/data/anaconda/envs/cropmask/lib/python3.7/site-packages/skimage/io/_io.py:141: UserWarning: /mnt/cropmaskperm/landsat-clear-scenes-2005/train/LT050300312005020301T1-SC20190818205734_tile_6144_5120/mask/LT050300312005020301T1-SC20190818205734_tile_6144_5120_label.tif is a low contrast image\n",
      "  warn('%s is a low contrast image' % fname)\n",
      "/data/anaconda/envs/cropmask/lib/python3.7/site-packages/skimage/io/_io.py:141: UserWarning: /mnt/cropmaskperm/landsat-clear-scenes-2005/train/LT050300312005020301T1-SC20190818205734_tile_6656_1536/mask/LT050300312005020301T1-SC20190818205734_tile_6656_1536_label.tif is a low contrast image\n",
      "  warn('%s is a low contrast image' % fname)\n",
      "/data/anaconda/envs/cropmask/lib/python3.7/site-packages/skimage/io/_io.py:141: UserWarning: /mnt/cropmaskperm/landsat-clear-scenes-2005/train/LT050300312005020301T1-SC20190818205734_tile_6656_2048/mask/LT050300312005020301T1-SC20190818205734_tile_6656_2048_label.tif is a low contrast image\n",
      "  warn('%s is a low contrast image' % fname)\n",
      "/data/anaconda/envs/cropmask/lib/python3.7/site-packages/skimage/io/_io.py:141: UserWarning: /mnt/cropmaskperm/landsat-clear-scenes-2005/train/LT050300312005020301T1-SC20190818205734_tile_6656_2560/mask/LT050300312005020301T1-SC20190818205734_tile_6656_2560_label.tif is a low contrast image\n",
      "  warn('%s is a low contrast image' % fname)\n",
      "/data/anaconda/envs/cropmask/lib/python3.7/site-packages/skimage/io/_io.py:141: UserWarning: /mnt/cropmaskperm/landsat-clear-scenes-2005/train/LT050300312005020301T1-SC20190818205734_tile_6656_3072/mask/LT050300312005020301T1-SC20190818205734_tile_6656_3072_label.tif is a low contrast image\n",
      "  warn('%s is a low contrast image' % fname)\n"
     ]
    },
    {
     "name": "stdout",
     "output_type": "stream",
     "text": [
      "Done applying negbuff of -30 and filtering small labels of area less than 3600\n"
     ]
    },
    {
     "name": "stderr",
     "output_type": "stream",
     "text": [
      "/data/anaconda/envs/cropmask/lib/python3.7/site-packages/skimage/io/_io.py:141: UserWarning: /mnt/cropmaskperm/landsat-clear-scenes-2005/train/LT050300322005020301T1-SC20190818205733_tile_0_0/image/LT050300322005020301T1-SC20190818205733_tile_0_0.tif is a low contrast image\n",
      "  warn('%s is a low contrast image' % fname)\n"
     ]
    },
    {
     "name": "stdout",
     "output_type": "stream",
     "text": [
      "removed scene and label, 0.02% bad data\n"
     ]
    },
    {
     "name": "stderr",
     "output_type": "stream",
     "text": [
      "/data/anaconda/envs/cropmask/lib/python3.7/site-packages/skimage/io/_io.py:141: UserWarning: /mnt/cropmaskperm/landsat-clear-scenes-2005/train/LT050300322005020301T1-SC20190818205733_tile_0_1024/image/LT050300322005020301T1-SC20190818205733_tile_0_1024.tif is a low contrast image\n",
      "  warn('%s is a low contrast image' % fname)\n"
     ]
    },
    {
     "name": "stdout",
     "output_type": "stream",
     "text": [
      "removed scene and label, 0.02% bad data\n"
     ]
    },
    {
     "name": "stderr",
     "output_type": "stream",
     "text": [
      "/data/anaconda/envs/cropmask/lib/python3.7/site-packages/skimage/io/_io.py:141: UserWarning: /mnt/cropmaskperm/landsat-clear-scenes-2005/train/LT050300322005020301T1-SC20190818205733_tile_0_1536/image/LT050300322005020301T1-SC20190818205733_tile_0_1536.tif is a low contrast image\n",
      "  warn('%s is a low contrast image' % fname)\n"
     ]
    },
    {
     "name": "stdout",
     "output_type": "stream",
     "text": [
      "removed scene and label, 0.02% bad data\n"
     ]
    },
    {
     "name": "stderr",
     "output_type": "stream",
     "text": [
      "/data/anaconda/envs/cropmask/lib/python3.7/site-packages/skimage/io/_io.py:141: UserWarning: /mnt/cropmaskperm/landsat-clear-scenes-2005/train/LT050300322005020301T1-SC20190818205733_tile_0_2048/image/LT050300322005020301T1-SC20190818205733_tile_0_2048.tif is a low contrast image\n",
      "  warn('%s is a low contrast image' % fname)\n"
     ]
    },
    {
     "name": "stdout",
     "output_type": "stream",
     "text": [
      "removed scene and label, 0.02% bad data\n"
     ]
    },
    {
     "name": "stderr",
     "output_type": "stream",
     "text": [
      "/data/anaconda/envs/cropmask/lib/python3.7/site-packages/skimage/io/_io.py:141: UserWarning: /mnt/cropmaskperm/landsat-clear-scenes-2005/train/LT050300322005020301T1-SC20190818205733_tile_0_2560/image/LT050300322005020301T1-SC20190818205733_tile_0_2560.tif is a low contrast image\n",
      "  warn('%s is a low contrast image' % fname)\n"
     ]
    },
    {
     "name": "stdout",
     "output_type": "stream",
     "text": [
      "removed scene and label, 0.02% bad data\n"
     ]
    },
    {
     "name": "stderr",
     "output_type": "stream",
     "text": [
      "/data/anaconda/envs/cropmask/lib/python3.7/site-packages/skimage/io/_io.py:141: UserWarning: /mnt/cropmaskperm/landsat-clear-scenes-2005/train/LT050300322005020301T1-SC20190818205733_tile_0_3072/image/LT050300322005020301T1-SC20190818205733_tile_0_3072.tif is a low contrast image\n",
      "  warn('%s is a low contrast image' % fname)\n"
     ]
    },
    {
     "name": "stdout",
     "output_type": "stream",
     "text": [
      "removed scene and label, 0.02% bad data\n"
     ]
    },
    {
     "name": "stderr",
     "output_type": "stream",
     "text": [
      "/data/anaconda/envs/cropmask/lib/python3.7/site-packages/skimage/io/_io.py:141: UserWarning: /mnt/cropmaskperm/landsat-clear-scenes-2005/train/LT050300322005020301T1-SC20190818205733_tile_0_3584/image/LT050300322005020301T1-SC20190818205733_tile_0_3584.tif is a low contrast image\n",
      "  warn('%s is a low contrast image' % fname)\n"
     ]
    },
    {
     "name": "stdout",
     "output_type": "stream",
     "text": [
      "removed scene and label, 0.02% bad data\n"
     ]
    },
    {
     "name": "stderr",
     "output_type": "stream",
     "text": [
      "/data/anaconda/envs/cropmask/lib/python3.7/site-packages/skimage/io/_io.py:141: UserWarning: /mnt/cropmaskperm/landsat-clear-scenes-2005/train/LT050300322005020301T1-SC20190818205733_tile_0_4096/image/LT050300322005020301T1-SC20190818205733_tile_0_4096.tif is a low contrast image\n",
      "  warn('%s is a low contrast image' % fname)\n"
     ]
    },
    {
     "name": "stdout",
     "output_type": "stream",
     "text": [
      "removed scene and label, 0.02% bad data\n"
     ]
    },
    {
     "name": "stderr",
     "output_type": "stream",
     "text": [
      "/data/anaconda/envs/cropmask/lib/python3.7/site-packages/skimage/io/_io.py:141: UserWarning: /mnt/cropmaskperm/landsat-clear-scenes-2005/train/LT050300322005020301T1-SC20190818205733_tile_0_512/image/LT050300322005020301T1-SC20190818205733_tile_0_512.tif is a low contrast image\n",
      "  warn('%s is a low contrast image' % fname)\n"
     ]
    },
    {
     "name": "stdout",
     "output_type": "stream",
     "text": [
      "removed scene and label, 0.02% bad data\n"
     ]
    },
    {
     "name": "stderr",
     "output_type": "stream",
     "text": [
      "/data/anaconda/envs/cropmask/lib/python3.7/site-packages/skimage/io/_io.py:141: UserWarning: /mnt/cropmaskperm/landsat-clear-scenes-2005/train/LT050300322005020301T1-SC20190818205733_tile_1024_0/image/LT050300322005020301T1-SC20190818205733_tile_1024_0.tif is a low contrast image\n",
      "  warn('%s is a low contrast image' % fname)\n"
     ]
    },
    {
     "name": "stdout",
     "output_type": "stream",
     "text": [
      "removed scene and label, 0.02% bad data\n"
     ]
    },
    {
     "name": "stderr",
     "output_type": "stream",
     "text": [
      "/data/anaconda/envs/cropmask/lib/python3.7/site-packages/skimage/io/_io.py:141: UserWarning: /mnt/cropmaskperm/landsat-clear-scenes-2005/train/LT050300322005020301T1-SC20190818205733_tile_1024_1024/image/LT050300322005020301T1-SC20190818205733_tile_1024_1024.tif is a low contrast image\n",
      "  warn('%s is a low contrast image' % fname)\n"
     ]
    },
    {
     "name": "stdout",
     "output_type": "stream",
     "text": [
      "removed scene and label, 0.02% bad data\n"
     ]
    },
    {
     "name": "stderr",
     "output_type": "stream",
     "text": [
      "/data/anaconda/envs/cropmask/lib/python3.7/site-packages/skimage/io/_io.py:141: UserWarning: /mnt/cropmaskperm/landsat-clear-scenes-2005/train/LT050300322005020301T1-SC20190818205733_tile_1024_1536/image/LT050300322005020301T1-SC20190818205733_tile_1024_1536.tif is a low contrast image\n",
      "  warn('%s is a low contrast image' % fname)\n"
     ]
    },
    {
     "name": "stdout",
     "output_type": "stream",
     "text": [
      "removed scene and label, 0.02% bad data\n"
     ]
    },
    {
     "name": "stderr",
     "output_type": "stream",
     "text": [
      "/data/anaconda/envs/cropmask/lib/python3.7/site-packages/skimage/io/_io.py:141: UserWarning: /mnt/cropmaskperm/landsat-clear-scenes-2005/train/LT050300322005020301T1-SC20190818205733_tile_1024_2048/image/LT050300322005020301T1-SC20190818205733_tile_1024_2048.tif is a low contrast image\n",
      "  warn('%s is a low contrast image' % fname)\n"
     ]
    },
    {
     "name": "stdout",
     "output_type": "stream",
     "text": [
      "removed scene and label, 0.02% bad data\n"
     ]
    },
    {
     "name": "stderr",
     "output_type": "stream",
     "text": [
      "/data/anaconda/envs/cropmask/lib/python3.7/site-packages/skimage/io/_io.py:141: UserWarning: /mnt/cropmaskperm/landsat-clear-scenes-2005/train/LT050300322005020301T1-SC20190818205733_tile_1024_2560/image/LT050300322005020301T1-SC20190818205733_tile_1024_2560.tif is a low contrast image\n",
      "  warn('%s is a low contrast image' % fname)\n",
      "/data/anaconda/envs/cropmask/lib/python3.7/site-packages/skimage/io/_io.py:141: UserWarning: /mnt/cropmaskperm/landsat-clear-scenes-2005/train/LT050300322005020301T1-SC20190818205733_tile_1024_3072/image/LT050300322005020301T1-SC20190818205733_tile_1024_3072.tif is a low contrast image\n",
      "  warn('%s is a low contrast image' % fname)\n",
      "/data/anaconda/envs/cropmask/lib/python3.7/site-packages/skimage/io/_io.py:141: UserWarning: /mnt/cropmaskperm/landsat-clear-scenes-2005/train/LT050300322005020301T1-SC20190818205733_tile_1024_3584/image/LT050300322005020301T1-SC20190818205733_tile_1024_3584.tif is a low contrast image\n",
      "  warn('%s is a low contrast image' % fname)\n",
      "/data/anaconda/envs/cropmask/lib/python3.7/site-packages/skimage/io/_io.py:141: UserWarning: /mnt/cropmaskperm/landsat-clear-scenes-2005/train/LT050300322005020301T1-SC20190818205733_tile_1024_4096/image/LT050300322005020301T1-SC20190818205733_tile_1024_4096.tif is a low contrast image\n",
      "  warn('%s is a low contrast image' % fname)\n",
      "/data/anaconda/envs/cropmask/lib/python3.7/site-packages/skimage/io/_io.py:141: UserWarning: /mnt/cropmaskperm/landsat-clear-scenes-2005/train/LT050300322005020301T1-SC20190818205733_tile_1024_512/image/LT050300322005020301T1-SC20190818205733_tile_1024_512.tif is a low contrast image\n",
      "  warn('%s is a low contrast image' % fname)\n"
     ]
    },
    {
     "name": "stdout",
     "output_type": "stream",
     "text": [
      "removed scene and label, 0.02% bad data\n"
     ]
    },
    {
     "name": "stderr",
     "output_type": "stream",
     "text": [
      "/data/anaconda/envs/cropmask/lib/python3.7/site-packages/skimage/io/_io.py:141: UserWarning: /mnt/cropmaskperm/landsat-clear-scenes-2005/train/LT050300322005020301T1-SC20190818205733_tile_1536_0/image/LT050300322005020301T1-SC20190818205733_tile_1536_0.tif is a low contrast image\n",
      "  warn('%s is a low contrast image' % fname)\n"
     ]
    },
    {
     "name": "stdout",
     "output_type": "stream",
     "text": [
      "removed scene and label, 0.02% bad data\n"
     ]
    },
    {
     "name": "stderr",
     "output_type": "stream",
     "text": [
      "/data/anaconda/envs/cropmask/lib/python3.7/site-packages/skimage/io/_io.py:141: UserWarning: /mnt/cropmaskperm/landsat-clear-scenes-2005/train/LT050300322005020301T1-SC20190818205733_tile_1536_1024/image/LT050300322005020301T1-SC20190818205733_tile_1536_1024.tif is a low contrast image\n",
      "  warn('%s is a low contrast image' % fname)\n",
      "/data/anaconda/envs/cropmask/lib/python3.7/site-packages/skimage/io/_io.py:141: UserWarning: /mnt/cropmaskperm/landsat-clear-scenes-2005/train/LT050300322005020301T1-SC20190818205733_tile_1536_1536/image/LT050300322005020301T1-SC20190818205733_tile_1536_1536.tif is a low contrast image\n",
      "  warn('%s is a low contrast image' % fname)\n",
      "/data/anaconda/envs/cropmask/lib/python3.7/site-packages/skimage/io/_io.py:141: UserWarning: /mnt/cropmaskperm/landsat-clear-scenes-2005/train/LT050300322005020301T1-SC20190818205733_tile_1536_2048/image/LT050300322005020301T1-SC20190818205733_tile_1536_2048.tif is a low contrast image\n",
      "  warn('%s is a low contrast image' % fname)\n",
      "/data/anaconda/envs/cropmask/lib/python3.7/site-packages/skimage/io/_io.py:141: UserWarning: /mnt/cropmaskperm/landsat-clear-scenes-2005/train/LT050300322005020301T1-SC20190818205733_tile_1536_2560/image/LT050300322005020301T1-SC20190818205733_tile_1536_2560.tif is a low contrast image\n",
      "  warn('%s is a low contrast image' % fname)\n",
      "/data/anaconda/envs/cropmask/lib/python3.7/site-packages/skimage/io/_io.py:141: UserWarning: /mnt/cropmaskperm/landsat-clear-scenes-2005/train/LT050300322005020301T1-SC20190818205733_tile_1536_3072/image/LT050300322005020301T1-SC20190818205733_tile_1536_3072.tif is a low contrast image\n",
      "  warn('%s is a low contrast image' % fname)\n",
      "/data/anaconda/envs/cropmask/lib/python3.7/site-packages/skimage/io/_io.py:141: UserWarning: /mnt/cropmaskperm/landsat-clear-scenes-2005/train/LT050300322005020301T1-SC20190818205733_tile_1536_3584/image/LT050300322005020301T1-SC20190818205733_tile_1536_3584.tif is a low contrast image\n",
      "  warn('%s is a low contrast image' % fname)\n",
      "/data/anaconda/envs/cropmask/lib/python3.7/site-packages/skimage/io/_io.py:141: UserWarning: /mnt/cropmaskperm/landsat-clear-scenes-2005/train/LT050300322005020301T1-SC20190818205733_tile_1536_4096/image/LT050300322005020301T1-SC20190818205733_tile_1536_4096.tif is a low contrast image\n",
      "  warn('%s is a low contrast image' % fname)\n",
      "/data/anaconda/envs/cropmask/lib/python3.7/site-packages/skimage/io/_io.py:141: UserWarning: /mnt/cropmaskperm/landsat-clear-scenes-2005/train/LT050300322005020301T1-SC20190818205733_tile_1536_512/image/LT050300322005020301T1-SC20190818205733_tile_1536_512.tif is a low contrast image\n",
      "  warn('%s is a low contrast image' % fname)\n",
      "/data/anaconda/envs/cropmask/lib/python3.7/site-packages/skimage/io/_io.py:141: UserWarning: /mnt/cropmaskperm/landsat-clear-scenes-2005/train/LT050300322005020301T1-SC20190818205733_tile_2048_0/image/LT050300322005020301T1-SC20190818205733_tile_2048_0.tif is a low contrast image\n",
      "  warn('%s is a low contrast image' % fname)\n"
     ]
    },
    {
     "name": "stdout",
     "output_type": "stream",
     "text": [
      "removed scene and label, 0.02% bad data\n"
     ]
    },
    {
     "name": "stderr",
     "output_type": "stream",
     "text": [
      "/data/anaconda/envs/cropmask/lib/python3.7/site-packages/skimage/io/_io.py:141: UserWarning: /mnt/cropmaskperm/landsat-clear-scenes-2005/train/LT050300322005020301T1-SC20190818205733_tile_2048_1024/image/LT050300322005020301T1-SC20190818205733_tile_2048_1024.tif is a low contrast image\n",
      "  warn('%s is a low contrast image' % fname)\n",
      "/data/anaconda/envs/cropmask/lib/python3.7/site-packages/skimage/io/_io.py:141: UserWarning: /mnt/cropmaskperm/landsat-clear-scenes-2005/train/LT050300322005020301T1-SC20190818205733_tile_2048_1536/image/LT050300322005020301T1-SC20190818205733_tile_2048_1536.tif is a low contrast image\n",
      "  warn('%s is a low contrast image' % fname)\n",
      "/data/anaconda/envs/cropmask/lib/python3.7/site-packages/skimage/io/_io.py:141: UserWarning: /mnt/cropmaskperm/landsat-clear-scenes-2005/train/LT050300322005020301T1-SC20190818205733_tile_2048_2048/image/LT050300322005020301T1-SC20190818205733_tile_2048_2048.tif is a low contrast image\n",
      "  warn('%s is a low contrast image' % fname)\n",
      "/data/anaconda/envs/cropmask/lib/python3.7/site-packages/skimage/io/_io.py:141: UserWarning: /mnt/cropmaskperm/landsat-clear-scenes-2005/train/LT050300322005020301T1-SC20190818205733_tile_2048_2560/image/LT050300322005020301T1-SC20190818205733_tile_2048_2560.tif is a low contrast image\n",
      "  warn('%s is a low contrast image' % fname)\n",
      "/data/anaconda/envs/cropmask/lib/python3.7/site-packages/skimage/io/_io.py:141: UserWarning: /mnt/cropmaskperm/landsat-clear-scenes-2005/train/LT050300322005020301T1-SC20190818205733_tile_2048_3072/image/LT050300322005020301T1-SC20190818205733_tile_2048_3072.tif is a low contrast image\n",
      "  warn('%s is a low contrast image' % fname)\n",
      "/data/anaconda/envs/cropmask/lib/python3.7/site-packages/skimage/io/_io.py:141: UserWarning: /mnt/cropmaskperm/landsat-clear-scenes-2005/train/LT050300322005020301T1-SC20190818205733_tile_2048_3584/image/LT050300322005020301T1-SC20190818205733_tile_2048_3584.tif is a low contrast image\n",
      "  warn('%s is a low contrast image' % fname)\n",
      "/data/anaconda/envs/cropmask/lib/python3.7/site-packages/skimage/io/_io.py:141: UserWarning: /mnt/cropmaskperm/landsat-clear-scenes-2005/train/LT050300322005020301T1-SC20190818205733_tile_2048_4096/image/LT050300322005020301T1-SC20190818205733_tile_2048_4096.tif is a low contrast image\n",
      "  warn('%s is a low contrast image' % fname)\n",
      "/data/anaconda/envs/cropmask/lib/python3.7/site-packages/skimage/io/_io.py:141: UserWarning: /mnt/cropmaskperm/landsat-clear-scenes-2005/train/LT050300322005020301T1-SC20190818205733_tile_2048_512/image/LT050300322005020301T1-SC20190818205733_tile_2048_512.tif is a low contrast image\n",
      "  warn('%s is a low contrast image' % fname)\n",
      "/data/anaconda/envs/cropmask/lib/python3.7/site-packages/skimage/io/_io.py:141: UserWarning: /mnt/cropmaskperm/landsat-clear-scenes-2005/train/LT050300322005020301T1-SC20190818205733_tile_2560_0/image/LT050300322005020301T1-SC20190818205733_tile_2560_0.tif is a low contrast image\n",
      "  warn('%s is a low contrast image' % fname)\n"
     ]
    },
    {
     "name": "stdout",
     "output_type": "stream",
     "text": [
      "removed scene and label, 0.02% bad data\n"
     ]
    },
    {
     "name": "stderr",
     "output_type": "stream",
     "text": [
      "/data/anaconda/envs/cropmask/lib/python3.7/site-packages/skimage/io/_io.py:141: UserWarning: /mnt/cropmaskperm/landsat-clear-scenes-2005/train/LT050300322005020301T1-SC20190818205733_tile_2560_1024/image/LT050300322005020301T1-SC20190818205733_tile_2560_1024.tif is a low contrast image\n",
      "  warn('%s is a low contrast image' % fname)\n",
      "/data/anaconda/envs/cropmask/lib/python3.7/site-packages/skimage/io/_io.py:141: UserWarning: /mnt/cropmaskperm/landsat-clear-scenes-2005/train/LT050300322005020301T1-SC20190818205733_tile_2560_1536/image/LT050300322005020301T1-SC20190818205733_tile_2560_1536.tif is a low contrast image\n",
      "  warn('%s is a low contrast image' % fname)\n",
      "/data/anaconda/envs/cropmask/lib/python3.7/site-packages/skimage/io/_io.py:141: UserWarning: /mnt/cropmaskperm/landsat-clear-scenes-2005/train/LT050300322005020301T1-SC20190818205733_tile_2560_2048/image/LT050300322005020301T1-SC20190818205733_tile_2560_2048.tif is a low contrast image\n",
      "  warn('%s is a low contrast image' % fname)\n",
      "/data/anaconda/envs/cropmask/lib/python3.7/site-packages/skimage/io/_io.py:141: UserWarning: /mnt/cropmaskperm/landsat-clear-scenes-2005/train/LT050300322005020301T1-SC20190818205733_tile_2560_2560/image/LT050300322005020301T1-SC20190818205733_tile_2560_2560.tif is a low contrast image\n",
      "  warn('%s is a low contrast image' % fname)\n",
      "/data/anaconda/envs/cropmask/lib/python3.7/site-packages/skimage/io/_io.py:141: UserWarning: /mnt/cropmaskperm/landsat-clear-scenes-2005/train/LT050300322005020301T1-SC20190818205733_tile_2560_3072/image/LT050300322005020301T1-SC20190818205733_tile_2560_3072.tif is a low contrast image\n",
      "  warn('%s is a low contrast image' % fname)\n",
      "/data/anaconda/envs/cropmask/lib/python3.7/site-packages/skimage/io/_io.py:141: UserWarning: /mnt/cropmaskperm/landsat-clear-scenes-2005/train/LT050300322005020301T1-SC20190818205733_tile_2560_3584/image/LT050300322005020301T1-SC20190818205733_tile_2560_3584.tif is a low contrast image\n",
      "  warn('%s is a low contrast image' % fname)\n",
      "/data/anaconda/envs/cropmask/lib/python3.7/site-packages/skimage/io/_io.py:141: UserWarning: /mnt/cropmaskperm/landsat-clear-scenes-2005/train/LT050300322005020301T1-SC20190818205733_tile_2560_4096/image/LT050300322005020301T1-SC20190818205733_tile_2560_4096.tif is a low contrast image\n",
      "  warn('%s is a low contrast image' % fname)\n",
      "/data/anaconda/envs/cropmask/lib/python3.7/site-packages/skimage/io/_io.py:141: UserWarning: /mnt/cropmaskperm/landsat-clear-scenes-2005/train/LT050300322005020301T1-SC20190818205733_tile_2560_512/image/LT050300322005020301T1-SC20190818205733_tile_2560_512.tif is a low contrast image\n",
      "  warn('%s is a low contrast image' % fname)\n",
      "/data/anaconda/envs/cropmask/lib/python3.7/site-packages/skimage/io/_io.py:141: UserWarning: /mnt/cropmaskperm/landsat-clear-scenes-2005/train/LT050300322005020301T1-SC20190818205733_tile_3072_0/image/LT050300322005020301T1-SC20190818205733_tile_3072_0.tif is a low contrast image\n",
      "  warn('%s is a low contrast image' % fname)\n"
     ]
    },
    {
     "name": "stdout",
     "output_type": "stream",
     "text": [
      "removed scene and label, 0.02% bad data\n"
     ]
    },
    {
     "name": "stderr",
     "output_type": "stream",
     "text": [
      "/data/anaconda/envs/cropmask/lib/python3.7/site-packages/skimage/io/_io.py:141: UserWarning: /mnt/cropmaskperm/landsat-clear-scenes-2005/train/LT050300322005020301T1-SC20190818205733_tile_3072_1024/image/LT050300322005020301T1-SC20190818205733_tile_3072_1024.tif is a low contrast image\n",
      "  warn('%s is a low contrast image' % fname)\n",
      "/data/anaconda/envs/cropmask/lib/python3.7/site-packages/skimage/io/_io.py:141: UserWarning: /mnt/cropmaskperm/landsat-clear-scenes-2005/train/LT050300322005020301T1-SC20190818205733_tile_3072_1536/image/LT050300322005020301T1-SC20190818205733_tile_3072_1536.tif is a low contrast image\n",
      "  warn('%s is a low contrast image' % fname)\n",
      "/data/anaconda/envs/cropmask/lib/python3.7/site-packages/skimage/io/_io.py:141: UserWarning: /mnt/cropmaskperm/landsat-clear-scenes-2005/train/LT050300322005020301T1-SC20190818205733_tile_3072_2048/image/LT050300322005020301T1-SC20190818205733_tile_3072_2048.tif is a low contrast image\n",
      "  warn('%s is a low contrast image' % fname)\n",
      "/data/anaconda/envs/cropmask/lib/python3.7/site-packages/skimage/io/_io.py:141: UserWarning: /mnt/cropmaskperm/landsat-clear-scenes-2005/train/LT050300322005020301T1-SC20190818205733_tile_3072_2560/image/LT050300322005020301T1-SC20190818205733_tile_3072_2560.tif is a low contrast image\n",
      "  warn('%s is a low contrast image' % fname)\n",
      "/data/anaconda/envs/cropmask/lib/python3.7/site-packages/skimage/io/_io.py:141: UserWarning: /mnt/cropmaskperm/landsat-clear-scenes-2005/train/LT050300322005020301T1-SC20190818205733_tile_3072_3072/image/LT050300322005020301T1-SC20190818205733_tile_3072_3072.tif is a low contrast image\n",
      "  warn('%s is a low contrast image' % fname)\n",
      "/data/anaconda/envs/cropmask/lib/python3.7/site-packages/skimage/io/_io.py:141: UserWarning: /mnt/cropmaskperm/landsat-clear-scenes-2005/train/LT050300322005020301T1-SC20190818205733_tile_3072_3584/image/LT050300322005020301T1-SC20190818205733_tile_3072_3584.tif is a low contrast image\n",
      "  warn('%s is a low contrast image' % fname)\n",
      "/data/anaconda/envs/cropmask/lib/python3.7/site-packages/skimage/io/_io.py:141: UserWarning: /mnt/cropmaskperm/landsat-clear-scenes-2005/train/LT050300322005020301T1-SC20190818205733_tile_3072_4096/image/LT050300322005020301T1-SC20190818205733_tile_3072_4096.tif is a low contrast image\n",
      "  warn('%s is a low contrast image' % fname)\n",
      "/data/anaconda/envs/cropmask/lib/python3.7/site-packages/skimage/io/_io.py:141: UserWarning: /mnt/cropmaskperm/landsat-clear-scenes-2005/train/LT050300322005020301T1-SC20190818205733_tile_3072_512/image/LT050300322005020301T1-SC20190818205733_tile_3072_512.tif is a low contrast image\n",
      "  warn('%s is a low contrast image' % fname)\n",
      "/data/anaconda/envs/cropmask/lib/python3.7/site-packages/skimage/io/_io.py:141: UserWarning: /mnt/cropmaskperm/landsat-clear-scenes-2005/train/LT050300322005020301T1-SC20190818205733_tile_3584_0/image/LT050300322005020301T1-SC20190818205733_tile_3584_0.tif is a low contrast image\n",
      "  warn('%s is a low contrast image' % fname)\n"
     ]
    },
    {
     "name": "stdout",
     "output_type": "stream",
     "text": [
      "removed scene and label, 0.02% bad data\n"
     ]
    },
    {
     "name": "stderr",
     "output_type": "stream",
     "text": [
      "/data/anaconda/envs/cropmask/lib/python3.7/site-packages/skimage/io/_io.py:141: UserWarning: /mnt/cropmaskperm/landsat-clear-scenes-2005/train/LT050300322005020301T1-SC20190818205733_tile_3584_1024/image/LT050300322005020301T1-SC20190818205733_tile_3584_1024.tif is a low contrast image\n",
      "  warn('%s is a low contrast image' % fname)\n",
      "/data/anaconda/envs/cropmask/lib/python3.7/site-packages/skimage/io/_io.py:141: UserWarning: /mnt/cropmaskperm/landsat-clear-scenes-2005/train/LT050300322005020301T1-SC20190818205733_tile_3584_1536/image/LT050300322005020301T1-SC20190818205733_tile_3584_1536.tif is a low contrast image\n",
      "  warn('%s is a low contrast image' % fname)\n",
      "/data/anaconda/envs/cropmask/lib/python3.7/site-packages/skimage/io/_io.py:141: UserWarning: /mnt/cropmaskperm/landsat-clear-scenes-2005/train/LT050300322005020301T1-SC20190818205733_tile_3584_2048/image/LT050300322005020301T1-SC20190818205733_tile_3584_2048.tif is a low contrast image\n",
      "  warn('%s is a low contrast image' % fname)\n",
      "/data/anaconda/envs/cropmask/lib/python3.7/site-packages/skimage/io/_io.py:141: UserWarning: /mnt/cropmaskperm/landsat-clear-scenes-2005/train/LT050300322005020301T1-SC20190818205733_tile_3584_2560/image/LT050300322005020301T1-SC20190818205733_tile_3584_2560.tif is a low contrast image\n",
      "  warn('%s is a low contrast image' % fname)\n",
      "/data/anaconda/envs/cropmask/lib/python3.7/site-packages/skimage/io/_io.py:141: UserWarning: /mnt/cropmaskperm/landsat-clear-scenes-2005/train/LT050300322005020301T1-SC20190818205733_tile_3584_3072/image/LT050300322005020301T1-SC20190818205733_tile_3584_3072.tif is a low contrast image\n",
      "  warn('%s is a low contrast image' % fname)\n",
      "/data/anaconda/envs/cropmask/lib/python3.7/site-packages/skimage/io/_io.py:141: UserWarning: /mnt/cropmaskperm/landsat-clear-scenes-2005/train/LT050300322005020301T1-SC20190818205733_tile_3584_3584/image/LT050300322005020301T1-SC20190818205733_tile_3584_3584.tif is a low contrast image\n",
      "  warn('%s is a low contrast image' % fname)\n",
      "/data/anaconda/envs/cropmask/lib/python3.7/site-packages/skimage/io/_io.py:141: UserWarning: /mnt/cropmaskperm/landsat-clear-scenes-2005/train/LT050300322005020301T1-SC20190818205733_tile_3584_4096/image/LT050300322005020301T1-SC20190818205733_tile_3584_4096.tif is a low contrast image\n",
      "  warn('%s is a low contrast image' % fname)\n",
      "/data/anaconda/envs/cropmask/lib/python3.7/site-packages/skimage/io/_io.py:141: UserWarning: /mnt/cropmaskperm/landsat-clear-scenes-2005/train/LT050300322005020301T1-SC20190818205733_tile_3584_512/image/LT050300322005020301T1-SC20190818205733_tile_3584_512.tif is a low contrast image\n",
      "  warn('%s is a low contrast image' % fname)\n"
     ]
    },
    {
     "name": "stdout",
     "output_type": "stream",
     "text": [
      "removed scene and label, 0.02% bad data\n"
     ]
    },
    {
     "name": "stderr",
     "output_type": "stream",
     "text": [
      "/data/anaconda/envs/cropmask/lib/python3.7/site-packages/skimage/io/_io.py:141: UserWarning: /mnt/cropmaskperm/landsat-clear-scenes-2005/train/LT050300322005020301T1-SC20190818205733_tile_4096_0/image/LT050300322005020301T1-SC20190818205733_tile_4096_0.tif is a low contrast image\n",
      "  warn('%s is a low contrast image' % fname)\n"
     ]
    },
    {
     "name": "stdout",
     "output_type": "stream",
     "text": [
      "removed scene and label, 0.02% bad data\n"
     ]
    },
    {
     "name": "stderr",
     "output_type": "stream",
     "text": [
      "/data/anaconda/envs/cropmask/lib/python3.7/site-packages/skimage/io/_io.py:141: UserWarning: /mnt/cropmaskperm/landsat-clear-scenes-2005/train/LT050300322005020301T1-SC20190818205733_tile_4096_1024/image/LT050300322005020301T1-SC20190818205733_tile_4096_1024.tif is a low contrast image\n",
      "  warn('%s is a low contrast image' % fname)\n",
      "/data/anaconda/envs/cropmask/lib/python3.7/site-packages/skimage/io/_io.py:141: UserWarning: /mnt/cropmaskperm/landsat-clear-scenes-2005/train/LT050300322005020301T1-SC20190818205733_tile_4096_1536/image/LT050300322005020301T1-SC20190818205733_tile_4096_1536.tif is a low contrast image\n",
      "  warn('%s is a low contrast image' % fname)\n",
      "/data/anaconda/envs/cropmask/lib/python3.7/site-packages/skimage/io/_io.py:141: UserWarning: /mnt/cropmaskperm/landsat-clear-scenes-2005/train/LT050300322005020301T1-SC20190818205733_tile_4096_2048/image/LT050300322005020301T1-SC20190818205733_tile_4096_2048.tif is a low contrast image\n",
      "  warn('%s is a low contrast image' % fname)\n",
      "/data/anaconda/envs/cropmask/lib/python3.7/site-packages/skimage/io/_io.py:141: UserWarning: /mnt/cropmaskperm/landsat-clear-scenes-2005/train/LT050300322005020301T1-SC20190818205733_tile_4096_2560/image/LT050300322005020301T1-SC20190818205733_tile_4096_2560.tif is a low contrast image\n",
      "  warn('%s is a low contrast image' % fname)\n",
      "/data/anaconda/envs/cropmask/lib/python3.7/site-packages/skimage/io/_io.py:141: UserWarning: /mnt/cropmaskperm/landsat-clear-scenes-2005/train/LT050300322005020301T1-SC20190818205733_tile_4096_3072/image/LT050300322005020301T1-SC20190818205733_tile_4096_3072.tif is a low contrast image\n",
      "  warn('%s is a low contrast image' % fname)\n",
      "/data/anaconda/envs/cropmask/lib/python3.7/site-packages/skimage/io/_io.py:141: UserWarning: /mnt/cropmaskperm/landsat-clear-scenes-2005/train/LT050300322005020301T1-SC20190818205733_tile_4096_3584/image/LT050300322005020301T1-SC20190818205733_tile_4096_3584.tif is a low contrast image\n",
      "  warn('%s is a low contrast image' % fname)\n",
      "/data/anaconda/envs/cropmask/lib/python3.7/site-packages/skimage/io/_io.py:141: UserWarning: /mnt/cropmaskperm/landsat-clear-scenes-2005/train/LT050300322005020301T1-SC20190818205733_tile_4096_4096/image/LT050300322005020301T1-SC20190818205733_tile_4096_4096.tif is a low contrast image\n",
      "  warn('%s is a low contrast image' % fname)\n",
      "/data/anaconda/envs/cropmask/lib/python3.7/site-packages/skimage/io/_io.py:141: UserWarning: /mnt/cropmaskperm/landsat-clear-scenes-2005/train/LT050300322005020301T1-SC20190818205733_tile_4096_512/image/LT050300322005020301T1-SC20190818205733_tile_4096_512.tif is a low contrast image\n",
      "  warn('%s is a low contrast image' % fname)\n"
     ]
    },
    {
     "name": "stdout",
     "output_type": "stream",
     "text": [
      "removed scene and label, 0.02% bad data\n"
     ]
    },
    {
     "name": "stderr",
     "output_type": "stream",
     "text": [
      "/data/anaconda/envs/cropmask/lib/python3.7/site-packages/skimage/io/_io.py:141: UserWarning: /mnt/cropmaskperm/landsat-clear-scenes-2005/train/LT050300322005020301T1-SC20190818205733_tile_4608_0/image/LT050300322005020301T1-SC20190818205733_tile_4608_0.tif is a low contrast image\n",
      "  warn('%s is a low contrast image' % fname)\n"
     ]
    },
    {
     "name": "stdout",
     "output_type": "stream",
     "text": [
      "removed scene and label, 0.02% bad data\n"
     ]
    },
    {
     "name": "stderr",
     "output_type": "stream",
     "text": [
      "/data/anaconda/envs/cropmask/lib/python3.7/site-packages/skimage/io/_io.py:141: UserWarning: /mnt/cropmaskperm/landsat-clear-scenes-2005/train/LT050300322005020301T1-SC20190818205733_tile_4608_1024/image/LT050300322005020301T1-SC20190818205733_tile_4608_1024.tif is a low contrast image\n",
      "  warn('%s is a low contrast image' % fname)\n",
      "/data/anaconda/envs/cropmask/lib/python3.7/site-packages/skimage/io/_io.py:141: UserWarning: /mnt/cropmaskperm/landsat-clear-scenes-2005/train/LT050300322005020301T1-SC20190818205733_tile_4608_1536/image/LT050300322005020301T1-SC20190818205733_tile_4608_1536.tif is a low contrast image\n",
      "  warn('%s is a low contrast image' % fname)\n",
      "/data/anaconda/envs/cropmask/lib/python3.7/site-packages/skimage/io/_io.py:141: UserWarning: /mnt/cropmaskperm/landsat-clear-scenes-2005/train/LT050300322005020301T1-SC20190818205733_tile_4608_2048/image/LT050300322005020301T1-SC20190818205733_tile_4608_2048.tif is a low contrast image\n",
      "  warn('%s is a low contrast image' % fname)\n",
      "/data/anaconda/envs/cropmask/lib/python3.7/site-packages/skimage/io/_io.py:141: UserWarning: /mnt/cropmaskperm/landsat-clear-scenes-2005/train/LT050300322005020301T1-SC20190818205733_tile_4608_2560/image/LT050300322005020301T1-SC20190818205733_tile_4608_2560.tif is a low contrast image\n",
      "  warn('%s is a low contrast image' % fname)\n",
      "/data/anaconda/envs/cropmask/lib/python3.7/site-packages/skimage/io/_io.py:141: UserWarning: /mnt/cropmaskperm/landsat-clear-scenes-2005/train/LT050300322005020301T1-SC20190818205733_tile_4608_3072/image/LT050300322005020301T1-SC20190818205733_tile_4608_3072.tif is a low contrast image\n",
      "  warn('%s is a low contrast image' % fname)\n",
      "/data/anaconda/envs/cropmask/lib/python3.7/site-packages/skimage/io/_io.py:141: UserWarning: /mnt/cropmaskperm/landsat-clear-scenes-2005/train/LT050300322005020301T1-SC20190818205733_tile_4608_3584/image/LT050300322005020301T1-SC20190818205733_tile_4608_3584.tif is a low contrast image\n",
      "  warn('%s is a low contrast image' % fname)\n",
      "/data/anaconda/envs/cropmask/lib/python3.7/site-packages/skimage/io/_io.py:141: UserWarning: /mnt/cropmaskperm/landsat-clear-scenes-2005/train/LT050300322005020301T1-SC20190818205733_tile_4608_512/image/LT050300322005020301T1-SC20190818205733_tile_4608_512.tif is a low contrast image\n",
      "  warn('%s is a low contrast image' % fname)\n"
     ]
    },
    {
     "name": "stdout",
     "output_type": "stream",
     "text": [
      "removed scene and label, 0.02% bad data\n"
     ]
    },
    {
     "name": "stderr",
     "output_type": "stream",
     "text": [
      "/data/anaconda/envs/cropmask/lib/python3.7/site-packages/skimage/io/_io.py:141: UserWarning: /mnt/cropmaskperm/landsat-clear-scenes-2005/train/LT050300322005020301T1-SC20190818205733_tile_5120_0/image/LT050300322005020301T1-SC20190818205733_tile_5120_0.tif is a low contrast image\n",
      "  warn('%s is a low contrast image' % fname)\n"
     ]
    },
    {
     "name": "stdout",
     "output_type": "stream",
     "text": [
      "removed scene and label, 0.02% bad data\n"
     ]
    },
    {
     "name": "stderr",
     "output_type": "stream",
     "text": [
      "/data/anaconda/envs/cropmask/lib/python3.7/site-packages/skimage/io/_io.py:141: UserWarning: /mnt/cropmaskperm/landsat-clear-scenes-2005/train/LT050300322005020301T1-SC20190818205733_tile_5120_1024/image/LT050300322005020301T1-SC20190818205733_tile_5120_1024.tif is a low contrast image\n",
      "  warn('%s is a low contrast image' % fname)\n",
      "/data/anaconda/envs/cropmask/lib/python3.7/site-packages/skimage/io/_io.py:141: UserWarning: /mnt/cropmaskperm/landsat-clear-scenes-2005/train/LT050300322005020301T1-SC20190818205733_tile_5120_1536/image/LT050300322005020301T1-SC20190818205733_tile_5120_1536.tif is a low contrast image\n",
      "  warn('%s is a low contrast image' % fname)\n",
      "/data/anaconda/envs/cropmask/lib/python3.7/site-packages/skimage/io/_io.py:141: UserWarning: /mnt/cropmaskperm/landsat-clear-scenes-2005/train/LT050300322005020301T1-SC20190818205733_tile_5120_2048/image/LT050300322005020301T1-SC20190818205733_tile_5120_2048.tif is a low contrast image\n",
      "  warn('%s is a low contrast image' % fname)\n",
      "/data/anaconda/envs/cropmask/lib/python3.7/site-packages/skimage/io/_io.py:141: UserWarning: /mnt/cropmaskperm/landsat-clear-scenes-2005/train/LT050300322005020301T1-SC20190818205733_tile_5120_2560/image/LT050300322005020301T1-SC20190818205733_tile_5120_2560.tif is a low contrast image\n",
      "  warn('%s is a low contrast image' % fname)\n",
      "/data/anaconda/envs/cropmask/lib/python3.7/site-packages/skimage/io/_io.py:141: UserWarning: /mnt/cropmaskperm/landsat-clear-scenes-2005/train/LT050300322005020301T1-SC20190818205733_tile_5120_3072/image/LT050300322005020301T1-SC20190818205733_tile_5120_3072.tif is a low contrast image\n",
      "  warn('%s is a low contrast image' % fname)\n",
      "/data/anaconda/envs/cropmask/lib/python3.7/site-packages/skimage/io/_io.py:141: UserWarning: /mnt/cropmaskperm/landsat-clear-scenes-2005/train/LT050300322005020301T1-SC20190818205733_tile_5120_3584/image/LT050300322005020301T1-SC20190818205733_tile_5120_3584.tif is a low contrast image\n",
      "  warn('%s is a low contrast image' % fname)\n",
      "/data/anaconda/envs/cropmask/lib/python3.7/site-packages/skimage/io/_io.py:141: UserWarning: /mnt/cropmaskperm/landsat-clear-scenes-2005/train/LT050300322005020301T1-SC20190818205733_tile_5120_4096/image/LT050300322005020301T1-SC20190818205733_tile_5120_4096.tif is a low contrast image\n",
      "  warn('%s is a low contrast image' % fname)\n",
      "/data/anaconda/envs/cropmask/lib/python3.7/site-packages/skimage/io/_io.py:141: UserWarning: /mnt/cropmaskperm/landsat-clear-scenes-2005/train/LT050300322005020301T1-SC20190818205733_tile_5120_512/image/LT050300322005020301T1-SC20190818205733_tile_5120_512.tif is a low contrast image\n",
      "  warn('%s is a low contrast image' % fname)\n"
     ]
    },
    {
     "name": "stdout",
     "output_type": "stream",
     "text": [
      "removed scene and label, 0.02% bad data\n"
     ]
    },
    {
     "name": "stderr",
     "output_type": "stream",
     "text": [
      "/data/anaconda/envs/cropmask/lib/python3.7/site-packages/skimage/io/_io.py:141: UserWarning: /mnt/cropmaskperm/landsat-clear-scenes-2005/train/LT050300322005020301T1-SC20190818205733_tile_512_0/image/LT050300322005020301T1-SC20190818205733_tile_512_0.tif is a low contrast image\n",
      "  warn('%s is a low contrast image' % fname)\n"
     ]
    },
    {
     "name": "stdout",
     "output_type": "stream",
     "text": [
      "removed scene and label, 0.02% bad data\n"
     ]
    },
    {
     "name": "stderr",
     "output_type": "stream",
     "text": [
      "/data/anaconda/envs/cropmask/lib/python3.7/site-packages/skimage/io/_io.py:141: UserWarning: /mnt/cropmaskperm/landsat-clear-scenes-2005/train/LT050300322005020301T1-SC20190818205733_tile_512_1024/image/LT050300322005020301T1-SC20190818205733_tile_512_1024.tif is a low contrast image\n",
      "  warn('%s is a low contrast image' % fname)\n"
     ]
    },
    {
     "name": "stdout",
     "output_type": "stream",
     "text": [
      "removed scene and label, 0.02% bad data\n"
     ]
    },
    {
     "name": "stderr",
     "output_type": "stream",
     "text": [
      "/data/anaconda/envs/cropmask/lib/python3.7/site-packages/skimage/io/_io.py:141: UserWarning: /mnt/cropmaskperm/landsat-clear-scenes-2005/train/LT050300322005020301T1-SC20190818205733_tile_512_1536/image/LT050300322005020301T1-SC20190818205733_tile_512_1536.tif is a low contrast image\n",
      "  warn('%s is a low contrast image' % fname)\n"
     ]
    },
    {
     "name": "stdout",
     "output_type": "stream",
     "text": [
      "removed scene and label, 0.02% bad data\n"
     ]
    },
    {
     "name": "stderr",
     "output_type": "stream",
     "text": [
      "/data/anaconda/envs/cropmask/lib/python3.7/site-packages/skimage/io/_io.py:141: UserWarning: /mnt/cropmaskperm/landsat-clear-scenes-2005/train/LT050300322005020301T1-SC20190818205733_tile_512_2048/image/LT050300322005020301T1-SC20190818205733_tile_512_2048.tif is a low contrast image\n",
      "  warn('%s is a low contrast image' % fname)\n"
     ]
    },
    {
     "name": "stdout",
     "output_type": "stream",
     "text": [
      "removed scene and label, 0.02% bad data\n"
     ]
    },
    {
     "name": "stderr",
     "output_type": "stream",
     "text": [
      "/data/anaconda/envs/cropmask/lib/python3.7/site-packages/skimage/io/_io.py:141: UserWarning: /mnt/cropmaskperm/landsat-clear-scenes-2005/train/LT050300322005020301T1-SC20190818205733_tile_512_2560/image/LT050300322005020301T1-SC20190818205733_tile_512_2560.tif is a low contrast image\n",
      "  warn('%s is a low contrast image' % fname)\n"
     ]
    },
    {
     "name": "stdout",
     "output_type": "stream",
     "text": [
      "removed scene and label, 0.02% bad data\n"
     ]
    },
    {
     "name": "stderr",
     "output_type": "stream",
     "text": [
      "/data/anaconda/envs/cropmask/lib/python3.7/site-packages/skimage/io/_io.py:141: UserWarning: /mnt/cropmaskperm/landsat-clear-scenes-2005/train/LT050300322005020301T1-SC20190818205733_tile_512_3072/image/LT050300322005020301T1-SC20190818205733_tile_512_3072.tif is a low contrast image\n",
      "  warn('%s is a low contrast image' % fname)\n"
     ]
    },
    {
     "name": "stdout",
     "output_type": "stream",
     "text": [
      "removed scene and label, 0.02% bad data\n"
     ]
    },
    {
     "name": "stderr",
     "output_type": "stream",
     "text": [
      "/data/anaconda/envs/cropmask/lib/python3.7/site-packages/skimage/io/_io.py:141: UserWarning: /mnt/cropmaskperm/landsat-clear-scenes-2005/train/LT050300322005020301T1-SC20190818205733_tile_512_3584/image/LT050300322005020301T1-SC20190818205733_tile_512_3584.tif is a low contrast image\n",
      "  warn('%s is a low contrast image' % fname)\n"
     ]
    },
    {
     "name": "stdout",
     "output_type": "stream",
     "text": [
      "removed scene and label, 0.02% bad data\n"
     ]
    },
    {
     "name": "stderr",
     "output_type": "stream",
     "text": [
      "/data/anaconda/envs/cropmask/lib/python3.7/site-packages/skimage/io/_io.py:141: UserWarning: /mnt/cropmaskperm/landsat-clear-scenes-2005/train/LT050300322005020301T1-SC20190818205733_tile_512_4096/image/LT050300322005020301T1-SC20190818205733_tile_512_4096.tif is a low contrast image\n",
      "  warn('%s is a low contrast image' % fname)\n"
     ]
    },
    {
     "name": "stdout",
     "output_type": "stream",
     "text": [
      "removed scene and label, 0.02% bad data\n"
     ]
    },
    {
     "name": "stderr",
     "output_type": "stream",
     "text": [
      "/data/anaconda/envs/cropmask/lib/python3.7/site-packages/skimage/io/_io.py:141: UserWarning: /mnt/cropmaskperm/landsat-clear-scenes-2005/train/LT050300322005020301T1-SC20190818205733_tile_512_512/image/LT050300322005020301T1-SC20190818205733_tile_512_512.tif is a low contrast image\n",
      "  warn('%s is a low contrast image' % fname)\n"
     ]
    },
    {
     "name": "stdout",
     "output_type": "stream",
     "text": [
      "removed scene and label, 0.02% bad data\n"
     ]
    },
    {
     "name": "stderr",
     "output_type": "stream",
     "text": [
      "/data/anaconda/envs/cropmask/lib/python3.7/site-packages/skimage/io/_io.py:141: UserWarning: /mnt/cropmaskperm/landsat-clear-scenes-2005/train/LT050300322005020301T1-SC20190818205733_tile_5632_0/image/LT050300322005020301T1-SC20190818205733_tile_5632_0.tif is a low contrast image\n",
      "  warn('%s is a low contrast image' % fname)\n"
     ]
    },
    {
     "name": "stdout",
     "output_type": "stream",
     "text": [
      "removed scene and label, 0.02% bad data\n"
     ]
    },
    {
     "name": "stderr",
     "output_type": "stream",
     "text": [
      "/data/anaconda/envs/cropmask/lib/python3.7/site-packages/skimage/io/_io.py:141: UserWarning: /mnt/cropmaskperm/landsat-clear-scenes-2005/train/LT050300322005020301T1-SC20190818205733_tile_5632_1024/image/LT050300322005020301T1-SC20190818205733_tile_5632_1024.tif is a low contrast image\n",
      "  warn('%s is a low contrast image' % fname)\n",
      "/data/anaconda/envs/cropmask/lib/python3.7/site-packages/skimage/io/_io.py:141: UserWarning: /mnt/cropmaskperm/landsat-clear-scenes-2005/train/LT050300322005020301T1-SC20190818205733_tile_5632_1536/image/LT050300322005020301T1-SC20190818205733_tile_5632_1536.tif is a low contrast image\n",
      "  warn('%s is a low contrast image' % fname)\n",
      "/data/anaconda/envs/cropmask/lib/python3.7/site-packages/skimage/io/_io.py:141: UserWarning: /mnt/cropmaskperm/landsat-clear-scenes-2005/train/LT050300322005020301T1-SC20190818205733_tile_5632_2048/image/LT050300322005020301T1-SC20190818205733_tile_5632_2048.tif is a low contrast image\n",
      "  warn('%s is a low contrast image' % fname)\n",
      "/data/anaconda/envs/cropmask/lib/python3.7/site-packages/skimage/io/_io.py:141: UserWarning: /mnt/cropmaskperm/landsat-clear-scenes-2005/train/LT050300322005020301T1-SC20190818205733_tile_5632_2560/image/LT050300322005020301T1-SC20190818205733_tile_5632_2560.tif is a low contrast image\n",
      "  warn('%s is a low contrast image' % fname)\n",
      "/data/anaconda/envs/cropmask/lib/python3.7/site-packages/skimage/io/_io.py:141: UserWarning: /mnt/cropmaskperm/landsat-clear-scenes-2005/train/LT050300322005020301T1-SC20190818205733_tile_5632_3072/image/LT050300322005020301T1-SC20190818205733_tile_5632_3072.tif is a low contrast image\n",
      "  warn('%s is a low contrast image' % fname)\n",
      "/data/anaconda/envs/cropmask/lib/python3.7/site-packages/skimage/io/_io.py:141: UserWarning: /mnt/cropmaskperm/landsat-clear-scenes-2005/train/LT050300322005020301T1-SC20190818205733_tile_5632_3584/image/LT050300322005020301T1-SC20190818205733_tile_5632_3584.tif is a low contrast image\n",
      "  warn('%s is a low contrast image' % fname)\n",
      "/data/anaconda/envs/cropmask/lib/python3.7/site-packages/skimage/io/_io.py:141: UserWarning: /mnt/cropmaskperm/landsat-clear-scenes-2005/train/LT050300322005020301T1-SC20190818205733_tile_5632_4096/image/LT050300322005020301T1-SC20190818205733_tile_5632_4096.tif is a low contrast image\n",
      "  warn('%s is a low contrast image' % fname)\n",
      "/data/anaconda/envs/cropmask/lib/python3.7/site-packages/skimage/io/_io.py:141: UserWarning: /mnt/cropmaskperm/landsat-clear-scenes-2005/train/LT050300322005020301T1-SC20190818205733_tile_5632_512/image/LT050300322005020301T1-SC20190818205733_tile_5632_512.tif is a low contrast image\n",
      "  warn('%s is a low contrast image' % fname)\n"
     ]
    },
    {
     "name": "stdout",
     "output_type": "stream",
     "text": [
      "removed scene and label, 0.02% bad data\n"
     ]
    },
    {
     "name": "stderr",
     "output_type": "stream",
     "text": [
      "/data/anaconda/envs/cropmask/lib/python3.7/site-packages/skimage/io/_io.py:141: UserWarning: /mnt/cropmaskperm/landsat-clear-scenes-2005/train/LT050300322005020301T1-SC20190818205733_tile_6144_0/image/LT050300322005020301T1-SC20190818205733_tile_6144_0.tif is a low contrast image\n",
      "  warn('%s is a low contrast image' % fname)\n"
     ]
    },
    {
     "name": "stdout",
     "output_type": "stream",
     "text": [
      "removed scene and label, 0.02% bad data\n"
     ]
    },
    {
     "name": "stderr",
     "output_type": "stream",
     "text": [
      "/data/anaconda/envs/cropmask/lib/python3.7/site-packages/skimage/io/_io.py:141: UserWarning: /mnt/cropmaskperm/landsat-clear-scenes-2005/train/LT050300322005020301T1-SC20190818205733_tile_6144_1024/image/LT050300322005020301T1-SC20190818205733_tile_6144_1024.tif is a low contrast image\n",
      "  warn('%s is a low contrast image' % fname)\n"
     ]
    },
    {
     "name": "stdout",
     "output_type": "stream",
     "text": [
      "removed scene and label, 0.02% bad data\n"
     ]
    },
    {
     "name": "stderr",
     "output_type": "stream",
     "text": [
      "/data/anaconda/envs/cropmask/lib/python3.7/site-packages/skimage/io/_io.py:141: UserWarning: /mnt/cropmaskperm/landsat-clear-scenes-2005/train/LT050300322005020301T1-SC20190818205733_tile_6144_1536/image/LT050300322005020301T1-SC20190818205733_tile_6144_1536.tif is a low contrast image\n",
      "  warn('%s is a low contrast image' % fname)\n",
      "/data/anaconda/envs/cropmask/lib/python3.7/site-packages/skimage/io/_io.py:141: UserWarning: /mnt/cropmaskperm/landsat-clear-scenes-2005/train/LT050300322005020301T1-SC20190818205733_tile_6144_2048/image/LT050300322005020301T1-SC20190818205733_tile_6144_2048.tif is a low contrast image\n",
      "  warn('%s is a low contrast image' % fname)\n",
      "/data/anaconda/envs/cropmask/lib/python3.7/site-packages/skimage/io/_io.py:141: UserWarning: /mnt/cropmaskperm/landsat-clear-scenes-2005/train/LT050300322005020301T1-SC20190818205733_tile_6144_2560/image/LT050300322005020301T1-SC20190818205733_tile_6144_2560.tif is a low contrast image\n",
      "  warn('%s is a low contrast image' % fname)\n",
      "/data/anaconda/envs/cropmask/lib/python3.7/site-packages/skimage/io/_io.py:141: UserWarning: /mnt/cropmaskperm/landsat-clear-scenes-2005/train/LT050300322005020301T1-SC20190818205733_tile_6144_3072/image/LT050300322005020301T1-SC20190818205733_tile_6144_3072.tif is a low contrast image\n",
      "  warn('%s is a low contrast image' % fname)\n",
      "/data/anaconda/envs/cropmask/lib/python3.7/site-packages/skimage/io/_io.py:141: UserWarning: /mnt/cropmaskperm/landsat-clear-scenes-2005/train/LT050300322005020301T1-SC20190818205733_tile_6144_3584/image/LT050300322005020301T1-SC20190818205733_tile_6144_3584.tif is a low contrast image\n",
      "  warn('%s is a low contrast image' % fname)\n",
      "/data/anaconda/envs/cropmask/lib/python3.7/site-packages/skimage/io/_io.py:141: UserWarning: /mnt/cropmaskperm/landsat-clear-scenes-2005/train/LT050300322005020301T1-SC20190818205733_tile_6144_4096/image/LT050300322005020301T1-SC20190818205733_tile_6144_4096.tif is a low contrast image\n",
      "  warn('%s is a low contrast image' % fname)\n",
      "/data/anaconda/envs/cropmask/lib/python3.7/site-packages/skimage/io/_io.py:141: UserWarning: /mnt/cropmaskperm/landsat-clear-scenes-2005/train/LT050300322005020301T1-SC20190818205733_tile_6144_512/image/LT050300322005020301T1-SC20190818205733_tile_6144_512.tif is a low contrast image\n",
      "  warn('%s is a low contrast image' % fname)\n"
     ]
    },
    {
     "name": "stdout",
     "output_type": "stream",
     "text": [
      "removed scene and label, 0.02% bad data\n"
     ]
    },
    {
     "name": "stderr",
     "output_type": "stream",
     "text": [
      "/data/anaconda/envs/cropmask/lib/python3.7/site-packages/skimage/io/_io.py:141: UserWarning: /mnt/cropmaskperm/landsat-clear-scenes-2005/train/LT050300322005020301T1-SC20190818205733_tile_6656_0/image/LT050300322005020301T1-SC20190818205733_tile_6656_0.tif is a low contrast image\n",
      "  warn('%s is a low contrast image' % fname)\n"
     ]
    },
    {
     "name": "stdout",
     "output_type": "stream",
     "text": [
      "removed scene and label, 0.02% bad data\n"
     ]
    },
    {
     "name": "stderr",
     "output_type": "stream",
     "text": [
      "/data/anaconda/envs/cropmask/lib/python3.7/site-packages/skimage/io/_io.py:141: UserWarning: /mnt/cropmaskperm/landsat-clear-scenes-2005/train/LT050300322005020301T1-SC20190818205733_tile_6656_1024/image/LT050300322005020301T1-SC20190818205733_tile_6656_1024.tif is a low contrast image\n",
      "  warn('%s is a low contrast image' % fname)\n"
     ]
    },
    {
     "name": "stdout",
     "output_type": "stream",
     "text": [
      "removed scene and label, 0.02% bad data\n"
     ]
    },
    {
     "name": "stderr",
     "output_type": "stream",
     "text": [
      "/data/anaconda/envs/cropmask/lib/python3.7/site-packages/skimage/io/_io.py:141: UserWarning: /mnt/cropmaskperm/landsat-clear-scenes-2005/train/LT050300322005020301T1-SC20190818205733_tile_6656_1536/image/LT050300322005020301T1-SC20190818205733_tile_6656_1536.tif is a low contrast image\n",
      "  warn('%s is a low contrast image' % fname)\n",
      "/data/anaconda/envs/cropmask/lib/python3.7/site-packages/skimage/io/_io.py:141: UserWarning: /mnt/cropmaskperm/landsat-clear-scenes-2005/train/LT050300322005020301T1-SC20190818205733_tile_6656_2048/image/LT050300322005020301T1-SC20190818205733_tile_6656_2048.tif is a low contrast image\n",
      "  warn('%s is a low contrast image' % fname)\n",
      "/data/anaconda/envs/cropmask/lib/python3.7/site-packages/skimage/io/_io.py:141: UserWarning: /mnt/cropmaskperm/landsat-clear-scenes-2005/train/LT050300322005020301T1-SC20190818205733_tile_6656_2560/image/LT050300322005020301T1-SC20190818205733_tile_6656_2560.tif is a low contrast image\n",
      "  warn('%s is a low contrast image' % fname)\n",
      "/data/anaconda/envs/cropmask/lib/python3.7/site-packages/skimage/io/_io.py:141: UserWarning: /mnt/cropmaskperm/landsat-clear-scenes-2005/train/LT050300322005020301T1-SC20190818205733_tile_6656_3072/image/LT050300322005020301T1-SC20190818205733_tile_6656_3072.tif is a low contrast image\n",
      "  warn('%s is a low contrast image' % fname)\n",
      "/data/anaconda/envs/cropmask/lib/python3.7/site-packages/skimage/io/_io.py:141: UserWarning: /mnt/cropmaskperm/landsat-clear-scenes-2005/train/LT050300322005020301T1-SC20190818205733_tile_6656_3584/image/LT050300322005020301T1-SC20190818205733_tile_6656_3584.tif is a low contrast image\n",
      "  warn('%s is a low contrast image' % fname)\n"
     ]
    },
    {
     "name": "stdout",
     "output_type": "stream",
     "text": [
      "removed scene and label, 0.02% bad data\n"
     ]
    },
    {
     "name": "stderr",
     "output_type": "stream",
     "text": [
      "/data/anaconda/envs/cropmask/lib/python3.7/site-packages/skimage/io/_io.py:141: UserWarning: /mnt/cropmaskperm/landsat-clear-scenes-2005/train/LT050300322005020301T1-SC20190818205733_tile_6656_4096/image/LT050300322005020301T1-SC20190818205733_tile_6656_4096.tif is a low contrast image\n",
      "  warn('%s is a low contrast image' % fname)\n"
     ]
    },
    {
     "name": "stdout",
     "output_type": "stream",
     "text": [
      "removed scene and label, 0.02% bad data\n"
     ]
    },
    {
     "name": "stderr",
     "output_type": "stream",
     "text": [
      "/data/anaconda/envs/cropmask/lib/python3.7/site-packages/skimage/io/_io.py:141: UserWarning: /mnt/cropmaskperm/landsat-clear-scenes-2005/train/LT050300322005020301T1-SC20190818205733_tile_6656_512/image/LT050300322005020301T1-SC20190818205733_tile_6656_512.tif is a low contrast image\n",
      "  warn('%s is a low contrast image' % fname)\n"
     ]
    },
    {
     "name": "stdout",
     "output_type": "stream",
     "text": [
      "removed scene and label, 0.02% bad data\n"
     ]
    },
    {
     "name": "stderr",
     "output_type": "stream",
     "text": [
      "/data/anaconda/envs/cropmask/lib/python3.7/site-packages/skimage/io/_io.py:141: UserWarning: /mnt/cropmaskperm/landsat-clear-scenes-2005/train/LT050300322005020301T1-SC20190818205733_tile_7168_0/image/LT050300322005020301T1-SC20190818205733_tile_7168_0.tif is a low contrast image\n",
      "  warn('%s is a low contrast image' % fname)\n"
     ]
    },
    {
     "name": "stdout",
     "output_type": "stream",
     "text": [
      "removed scene and label, 0.02% bad data\n"
     ]
    },
    {
     "name": "stderr",
     "output_type": "stream",
     "text": [
      "/data/anaconda/envs/cropmask/lib/python3.7/site-packages/skimage/io/_io.py:141: UserWarning: /mnt/cropmaskperm/landsat-clear-scenes-2005/train/LT050300322005020301T1-SC20190818205733_tile_7168_1024/image/LT050300322005020301T1-SC20190818205733_tile_7168_1024.tif is a low contrast image\n",
      "  warn('%s is a low contrast image' % fname)\n"
     ]
    },
    {
     "name": "stdout",
     "output_type": "stream",
     "text": [
      "removed scene and label, 0.02% bad data\n"
     ]
    },
    {
     "name": "stderr",
     "output_type": "stream",
     "text": [
      "/data/anaconda/envs/cropmask/lib/python3.7/site-packages/skimage/io/_io.py:141: UserWarning: /mnt/cropmaskperm/landsat-clear-scenes-2005/train/LT050300322005020301T1-SC20190818205733_tile_7168_1536/image/LT050300322005020301T1-SC20190818205733_tile_7168_1536.tif is a low contrast image\n",
      "  warn('%s is a low contrast image' % fname)\n"
     ]
    },
    {
     "name": "stdout",
     "output_type": "stream",
     "text": [
      "removed scene and label, 0.02% bad data\n"
     ]
    },
    {
     "name": "stderr",
     "output_type": "stream",
     "text": [
      "/data/anaconda/envs/cropmask/lib/python3.7/site-packages/skimage/io/_io.py:141: UserWarning: /mnt/cropmaskperm/landsat-clear-scenes-2005/train/LT050300322005020301T1-SC20190818205733_tile_7168_2048/image/LT050300322005020301T1-SC20190818205733_tile_7168_2048.tif is a low contrast image\n",
      "  warn('%s is a low contrast image' % fname)\n"
     ]
    },
    {
     "name": "stdout",
     "output_type": "stream",
     "text": [
      "removed scene and label, 0.02% bad data\n"
     ]
    },
    {
     "name": "stderr",
     "output_type": "stream",
     "text": [
      "/data/anaconda/envs/cropmask/lib/python3.7/site-packages/skimage/io/_io.py:141: UserWarning: /mnt/cropmaskperm/landsat-clear-scenes-2005/train/LT050300322005020301T1-SC20190818205733_tile_7168_2560/image/LT050300322005020301T1-SC20190818205733_tile_7168_2560.tif is a low contrast image\n",
      "  warn('%s is a low contrast image' % fname)\n"
     ]
    },
    {
     "name": "stdout",
     "output_type": "stream",
     "text": [
      "removed scene and label, 0.02% bad data\n"
     ]
    },
    {
     "name": "stderr",
     "output_type": "stream",
     "text": [
      "/data/anaconda/envs/cropmask/lib/python3.7/site-packages/skimage/io/_io.py:141: UserWarning: /mnt/cropmaskperm/landsat-clear-scenes-2005/train/LT050300322005020301T1-SC20190818205733_tile_7168_3072/image/LT050300322005020301T1-SC20190818205733_tile_7168_3072.tif is a low contrast image\n",
      "  warn('%s is a low contrast image' % fname)\n"
     ]
    },
    {
     "name": "stdout",
     "output_type": "stream",
     "text": [
      "removed scene and label, 0.02% bad data\n"
     ]
    },
    {
     "name": "stderr",
     "output_type": "stream",
     "text": [
      "/data/anaconda/envs/cropmask/lib/python3.7/site-packages/skimage/io/_io.py:141: UserWarning: /mnt/cropmaskperm/landsat-clear-scenes-2005/train/LT050300322005020301T1-SC20190818205733_tile_7168_3584/image/LT050300322005020301T1-SC20190818205733_tile_7168_3584.tif is a low contrast image\n",
      "  warn('%s is a low contrast image' % fname)\n"
     ]
    },
    {
     "name": "stdout",
     "output_type": "stream",
     "text": [
      "removed scene and label, 0.02% bad data\n"
     ]
    },
    {
     "name": "stderr",
     "output_type": "stream",
     "text": [
      "/data/anaconda/envs/cropmask/lib/python3.7/site-packages/skimage/io/_io.py:141: UserWarning: /mnt/cropmaskperm/landsat-clear-scenes-2005/train/LT050300322005020301T1-SC20190818205733_tile_7168_4096/image/LT050300322005020301T1-SC20190818205733_tile_7168_4096.tif is a low contrast image\n",
      "  warn('%s is a low contrast image' % fname)\n"
     ]
    },
    {
     "name": "stdout",
     "output_type": "stream",
     "text": [
      "removed scene and label, 0.02% bad data\n"
     ]
    },
    {
     "name": "stderr",
     "output_type": "stream",
     "text": [
      "/data/anaconda/envs/cropmask/lib/python3.7/site-packages/skimage/io/_io.py:141: UserWarning: /mnt/cropmaskperm/landsat-clear-scenes-2005/train/LT050300322005020301T1-SC20190818205733_tile_7168_512/image/LT050300322005020301T1-SC20190818205733_tile_7168_512.tif is a low contrast image\n",
      "  warn('%s is a low contrast image' % fname)\n"
     ]
    },
    {
     "name": "stdout",
     "output_type": "stream",
     "text": [
      "removed scene and label, 0.02% bad data\n"
     ]
    },
    {
     "name": "stderr",
     "output_type": "stream",
     "text": [
      "/data/anaconda/envs/cropmask/lib/python3.7/site-packages/skimage/io/_io.py:141: UserWarning: /mnt/cropmaskperm/landsat-clear-scenes-2005/train/LT050300322005020301T1-SC20190818205733_tile_7680_0/image/LT050300322005020301T1-SC20190818205733_tile_7680_0.tif is a low contrast image\n",
      "  warn('%s is a low contrast image' % fname)\n"
     ]
    },
    {
     "name": "stdout",
     "output_type": "stream",
     "text": [
      "removed scene and label, 0.02% bad data\n"
     ]
    },
    {
     "name": "stderr",
     "output_type": "stream",
     "text": [
      "/data/anaconda/envs/cropmask/lib/python3.7/site-packages/skimage/io/_io.py:141: UserWarning: /mnt/cropmaskperm/landsat-clear-scenes-2005/train/LT050300322005020301T1-SC20190818205733_tile_7680_1024/image/LT050300322005020301T1-SC20190818205733_tile_7680_1024.tif is a low contrast image\n",
      "  warn('%s is a low contrast image' % fname)\n"
     ]
    },
    {
     "name": "stdout",
     "output_type": "stream",
     "text": [
      "removed scene and label, 0.02% bad data\n"
     ]
    },
    {
     "name": "stderr",
     "output_type": "stream",
     "text": [
      "/data/anaconda/envs/cropmask/lib/python3.7/site-packages/skimage/io/_io.py:141: UserWarning: /mnt/cropmaskperm/landsat-clear-scenes-2005/train/LT050300322005020301T1-SC20190818205733_tile_7680_1536/image/LT050300322005020301T1-SC20190818205733_tile_7680_1536.tif is a low contrast image\n",
      "  warn('%s is a low contrast image' % fname)\n"
     ]
    },
    {
     "name": "stdout",
     "output_type": "stream",
     "text": [
      "removed scene and label, 0.02% bad data\n"
     ]
    },
    {
     "name": "stderr",
     "output_type": "stream",
     "text": [
      "/data/anaconda/envs/cropmask/lib/python3.7/site-packages/skimage/io/_io.py:141: UserWarning: /mnt/cropmaskperm/landsat-clear-scenes-2005/train/LT050300322005020301T1-SC20190818205733_tile_7680_2048/image/LT050300322005020301T1-SC20190818205733_tile_7680_2048.tif is a low contrast image\n",
      "  warn('%s is a low contrast image' % fname)\n"
     ]
    },
    {
     "name": "stdout",
     "output_type": "stream",
     "text": [
      "removed scene and label, 0.02% bad data\n"
     ]
    },
    {
     "name": "stderr",
     "output_type": "stream",
     "text": [
      "/data/anaconda/envs/cropmask/lib/python3.7/site-packages/skimage/io/_io.py:141: UserWarning: /mnt/cropmaskperm/landsat-clear-scenes-2005/train/LT050300322005020301T1-SC20190818205733_tile_7680_2560/image/LT050300322005020301T1-SC20190818205733_tile_7680_2560.tif is a low contrast image\n",
      "  warn('%s is a low contrast image' % fname)\n"
     ]
    },
    {
     "name": "stdout",
     "output_type": "stream",
     "text": [
      "removed scene and label, 0.02% bad data\n"
     ]
    },
    {
     "name": "stderr",
     "output_type": "stream",
     "text": [
      "/data/anaconda/envs/cropmask/lib/python3.7/site-packages/skimage/io/_io.py:141: UserWarning: /mnt/cropmaskperm/landsat-clear-scenes-2005/train/LT050300322005020301T1-SC20190818205733_tile_7680_3072/image/LT050300322005020301T1-SC20190818205733_tile_7680_3072.tif is a low contrast image\n",
      "  warn('%s is a low contrast image' % fname)\n"
     ]
    },
    {
     "name": "stdout",
     "output_type": "stream",
     "text": [
      "removed scene and label, 0.02% bad data\n"
     ]
    },
    {
     "name": "stderr",
     "output_type": "stream",
     "text": [
      "/data/anaconda/envs/cropmask/lib/python3.7/site-packages/skimage/io/_io.py:141: UserWarning: /mnt/cropmaskperm/landsat-clear-scenes-2005/train/LT050300322005020301T1-SC20190818205733_tile_7680_3584/image/LT050300322005020301T1-SC20190818205733_tile_7680_3584.tif is a low contrast image\n",
      "  warn('%s is a low contrast image' % fname)\n"
     ]
    },
    {
     "name": "stdout",
     "output_type": "stream",
     "text": [
      "removed scene and label, 0.02% bad data\n"
     ]
    },
    {
     "name": "stderr",
     "output_type": "stream",
     "text": [
      "/data/anaconda/envs/cropmask/lib/python3.7/site-packages/skimage/io/_io.py:141: UserWarning: /mnt/cropmaskperm/landsat-clear-scenes-2005/train/LT050300322005020301T1-SC20190818205733_tile_7680_4096/image/LT050300322005020301T1-SC20190818205733_tile_7680_4096.tif is a low contrast image\n",
      "  warn('%s is a low contrast image' % fname)\n"
     ]
    },
    {
     "name": "stdout",
     "output_type": "stream",
     "text": [
      "removed scene and label, 0.02% bad data\n"
     ]
    },
    {
     "name": "stderr",
     "output_type": "stream",
     "text": [
      "/data/anaconda/envs/cropmask/lib/python3.7/site-packages/skimage/io/_io.py:141: UserWarning: /mnt/cropmaskperm/landsat-clear-scenes-2005/train/LT050300322005020301T1-SC20190818205733_tile_7680_512/image/LT050300322005020301T1-SC20190818205733_tile_7680_512.tif is a low contrast image\n",
      "  warn('%s is a low contrast image' % fname)\n"
     ]
    },
    {
     "name": "stdout",
     "output_type": "stream",
     "text": [
      "removed scene and label, 0.02% bad data\n"
     ]
    },
    {
     "name": "stderr",
     "output_type": "stream",
     "text": [
      "/data/anaconda/envs/cropmask/lib/python3.7/site-packages/skimage/io/_io.py:141: UserWarning: /mnt/cropmaskperm/landsat-clear-scenes-2005/train/LT050300322005020301T1-SC20190818205733_tile_1024_2560/mask/LT050300322005020301T1-SC20190818205733_tile_1024_2560_label.tif is a low contrast image\n",
      "  warn('%s is a low contrast image' % fname)\n",
      "/data/anaconda/envs/cropmask/lib/python3.7/site-packages/skimage/io/_io.py:141: UserWarning: /mnt/cropmaskperm/landsat-clear-scenes-2005/train/LT050300322005020301T1-SC20190818205733_tile_1024_3072/mask/LT050300322005020301T1-SC20190818205733_tile_1024_3072_label.tif is a low contrast image\n",
      "  warn('%s is a low contrast image' % fname)\n",
      "/data/anaconda/envs/cropmask/lib/python3.7/site-packages/skimage/io/_io.py:141: UserWarning: /mnt/cropmaskperm/landsat-clear-scenes-2005/train/LT050300322005020301T1-SC20190818205733_tile_1024_3584/mask/LT050300322005020301T1-SC20190818205733_tile_1024_3584_label.tif is a low contrast image\n",
      "  warn('%s is a low contrast image' % fname)\n",
      "/data/anaconda/envs/cropmask/lib/python3.7/site-packages/skimage/io/_io.py:141: UserWarning: /mnt/cropmaskperm/landsat-clear-scenes-2005/train/LT050300322005020301T1-SC20190818205733_tile_1024_4096/mask/LT050300322005020301T1-SC20190818205733_tile_1024_4096_label.tif is a low contrast image\n",
      "  warn('%s is a low contrast image' % fname)\n",
      "/data/anaconda/envs/cropmask/lib/python3.7/site-packages/skimage/io/_io.py:141: UserWarning: /mnt/cropmaskperm/landsat-clear-scenes-2005/train/LT050300322005020301T1-SC20190818205733_tile_1536_1024/mask/LT050300322005020301T1-SC20190818205733_tile_1536_1024_label.tif is a low contrast image\n",
      "  warn('%s is a low contrast image' % fname)\n",
      "/data/anaconda/envs/cropmask/lib/python3.7/site-packages/skimage/util/dtype.py:135: UserWarning: Possible precision loss when converting from int64 to float64\n",
      "  .format(dtypeobj_in, dtypeobj_out))\n",
      "/data/anaconda/envs/cropmask/lib/python3.7/site-packages/skimage/io/_io.py:141: UserWarning: /mnt/cropmaskperm/landsat-clear-scenes-2005/train/LT050300322005020301T1-SC20190818205733_tile_1536_1536/mask/LT050300322005020301T1-SC20190818205733_tile_1536_1536_label.tif is a low contrast image\n",
      "  warn('%s is a low contrast image' % fname)\n",
      "/data/anaconda/envs/cropmask/lib/python3.7/site-packages/skimage/io/_io.py:141: UserWarning: /mnt/cropmaskperm/landsat-clear-scenes-2005/train/LT050300322005020301T1-SC20190818205733_tile_1536_2048/mask/LT050300322005020301T1-SC20190818205733_tile_1536_2048_label.tif is a low contrast image\n",
      "  warn('%s is a low contrast image' % fname)\n",
      "/data/anaconda/envs/cropmask/lib/python3.7/site-packages/skimage/io/_io.py:141: UserWarning: /mnt/cropmaskperm/landsat-clear-scenes-2005/train/LT050300322005020301T1-SC20190818205733_tile_1536_2560/mask/LT050300322005020301T1-SC20190818205733_tile_1536_2560_label.tif is a low contrast image\n",
      "  warn('%s is a low contrast image' % fname)\n",
      "/data/anaconda/envs/cropmask/lib/python3.7/site-packages/skimage/io/_io.py:141: UserWarning: /mnt/cropmaskperm/landsat-clear-scenes-2005/train/LT050300322005020301T1-SC20190818205733_tile_1536_3072/mask/LT050300322005020301T1-SC20190818205733_tile_1536_3072_label.tif is a low contrast image\n",
      "  warn('%s is a low contrast image' % fname)\n",
      "/data/anaconda/envs/cropmask/lib/python3.7/site-packages/skimage/io/_io.py:141: UserWarning: /mnt/cropmaskperm/landsat-clear-scenes-2005/train/LT050300322005020301T1-SC20190818205733_tile_1536_3584/mask/LT050300322005020301T1-SC20190818205733_tile_1536_3584_label.tif is a low contrast image\n",
      "  warn('%s is a low contrast image' % fname)\n",
      "/data/anaconda/envs/cropmask/lib/python3.7/site-packages/skimage/io/_io.py:141: UserWarning: /mnt/cropmaskperm/landsat-clear-scenes-2005/train/LT050300322005020301T1-SC20190818205733_tile_1536_4096/mask/LT050300322005020301T1-SC20190818205733_tile_1536_4096_label.tif is a low contrast image\n",
      "  warn('%s is a low contrast image' % fname)\n",
      "/data/anaconda/envs/cropmask/lib/python3.7/site-packages/skimage/io/_io.py:141: UserWarning: /mnt/cropmaskperm/landsat-clear-scenes-2005/train/LT050300322005020301T1-SC20190818205733_tile_1536_512/mask/LT050300322005020301T1-SC20190818205733_tile_1536_512_label.tif is a low contrast image\n",
      "  warn('%s is a low contrast image' % fname)\n",
      "/data/anaconda/envs/cropmask/lib/python3.7/site-packages/skimage/io/_io.py:141: UserWarning: /mnt/cropmaskperm/landsat-clear-scenes-2005/train/LT050300322005020301T1-SC20190818205733_tile_2048_1024/mask/LT050300322005020301T1-SC20190818205733_tile_2048_1024_label.tif is a low contrast image\n",
      "  warn('%s is a low contrast image' % fname)\n",
      "/data/anaconda/envs/cropmask/lib/python3.7/site-packages/skimage/io/_io.py:141: UserWarning: /mnt/cropmaskperm/landsat-clear-scenes-2005/train/LT050300322005020301T1-SC20190818205733_tile_2048_1536/mask/LT050300322005020301T1-SC20190818205733_tile_2048_1536_label.tif is a low contrast image\n",
      "  warn('%s is a low contrast image' % fname)\n",
      "/data/anaconda/envs/cropmask/lib/python3.7/site-packages/skimage/io/_io.py:141: UserWarning: /mnt/cropmaskperm/landsat-clear-scenes-2005/train/LT050300322005020301T1-SC20190818205733_tile_2048_2048/mask/LT050300322005020301T1-SC20190818205733_tile_2048_2048_label.tif is a low contrast image\n",
      "  warn('%s is a low contrast image' % fname)\n",
      "/data/anaconda/envs/cropmask/lib/python3.7/site-packages/skimage/io/_io.py:141: UserWarning: /mnt/cropmaskperm/landsat-clear-scenes-2005/train/LT050300322005020301T1-SC20190818205733_tile_2048_2560/mask/LT050300322005020301T1-SC20190818205733_tile_2048_2560_label.tif is a low contrast image\n",
      "  warn('%s is a low contrast image' % fname)\n",
      "/data/anaconda/envs/cropmask/lib/python3.7/site-packages/skimage/io/_io.py:141: UserWarning: /mnt/cropmaskperm/landsat-clear-scenes-2005/train/LT050300322005020301T1-SC20190818205733_tile_2048_3072/mask/LT050300322005020301T1-SC20190818205733_tile_2048_3072_label.tif is a low contrast image\n",
      "  warn('%s is a low contrast image' % fname)\n",
      "/data/anaconda/envs/cropmask/lib/python3.7/site-packages/skimage/io/_io.py:141: UserWarning: /mnt/cropmaskperm/landsat-clear-scenes-2005/train/LT050300322005020301T1-SC20190818205733_tile_2048_3584/mask/LT050300322005020301T1-SC20190818205733_tile_2048_3584_label.tif is a low contrast image\n",
      "  warn('%s is a low contrast image' % fname)\n",
      "/data/anaconda/envs/cropmask/lib/python3.7/site-packages/skimage/io/_io.py:141: UserWarning: /mnt/cropmaskperm/landsat-clear-scenes-2005/train/LT050300322005020301T1-SC20190818205733_tile_2048_4096/mask/LT050300322005020301T1-SC20190818205733_tile_2048_4096_label.tif is a low contrast image\n",
      "  warn('%s is a low contrast image' % fname)\n",
      "/data/anaconda/envs/cropmask/lib/python3.7/site-packages/skimage/io/_io.py:141: UserWarning: /mnt/cropmaskperm/landsat-clear-scenes-2005/train/LT050300322005020301T1-SC20190818205733_tile_2048_512/mask/LT050300322005020301T1-SC20190818205733_tile_2048_512_label.tif is a low contrast image\n",
      "  warn('%s is a low contrast image' % fname)\n",
      "/data/anaconda/envs/cropmask/lib/python3.7/site-packages/skimage/io/_io.py:141: UserWarning: /mnt/cropmaskperm/landsat-clear-scenes-2005/train/LT050300322005020301T1-SC20190818205733_tile_2560_1024/mask/LT050300322005020301T1-SC20190818205733_tile_2560_1024_label.tif is a low contrast image\n",
      "  warn('%s is a low contrast image' % fname)\n",
      "/data/anaconda/envs/cropmask/lib/python3.7/site-packages/skimage/io/_io.py:141: UserWarning: /mnt/cropmaskperm/landsat-clear-scenes-2005/train/LT050300322005020301T1-SC20190818205733_tile_2560_1536/mask/LT050300322005020301T1-SC20190818205733_tile_2560_1536_label.tif is a low contrast image\n",
      "  warn('%s is a low contrast image' % fname)\n",
      "/data/anaconda/envs/cropmask/lib/python3.7/site-packages/skimage/io/_io.py:141: UserWarning: /mnt/cropmaskperm/landsat-clear-scenes-2005/train/LT050300322005020301T1-SC20190818205733_tile_2560_2048/mask/LT050300322005020301T1-SC20190818205733_tile_2560_2048_label.tif is a low contrast image\n",
      "  warn('%s is a low contrast image' % fname)\n",
      "/data/anaconda/envs/cropmask/lib/python3.7/site-packages/skimage/io/_io.py:141: UserWarning: /mnt/cropmaskperm/landsat-clear-scenes-2005/train/LT050300322005020301T1-SC20190818205733_tile_2560_2560/mask/LT050300322005020301T1-SC20190818205733_tile_2560_2560_label.tif is a low contrast image\n",
      "  warn('%s is a low contrast image' % fname)\n",
      "/data/anaconda/envs/cropmask/lib/python3.7/site-packages/skimage/io/_io.py:141: UserWarning: /mnt/cropmaskperm/landsat-clear-scenes-2005/train/LT050300322005020301T1-SC20190818205733_tile_2560_3072/mask/LT050300322005020301T1-SC20190818205733_tile_2560_3072_label.tif is a low contrast image\n",
      "  warn('%s is a low contrast image' % fname)\n",
      "/data/anaconda/envs/cropmask/lib/python3.7/site-packages/skimage/io/_io.py:141: UserWarning: /mnt/cropmaskperm/landsat-clear-scenes-2005/train/LT050300322005020301T1-SC20190818205733_tile_2560_3584/mask/LT050300322005020301T1-SC20190818205733_tile_2560_3584_label.tif is a low contrast image\n",
      "  warn('%s is a low contrast image' % fname)\n",
      "/data/anaconda/envs/cropmask/lib/python3.7/site-packages/skimage/io/_io.py:141: UserWarning: /mnt/cropmaskperm/landsat-clear-scenes-2005/train/LT050300322005020301T1-SC20190818205733_tile_2560_4096/mask/LT050300322005020301T1-SC20190818205733_tile_2560_4096_label.tif is a low contrast image\n",
      "  warn('%s is a low contrast image' % fname)\n",
      "/data/anaconda/envs/cropmask/lib/python3.7/site-packages/skimage/io/_io.py:141: UserWarning: /mnt/cropmaskperm/landsat-clear-scenes-2005/train/LT050300322005020301T1-SC20190818205733_tile_2560_512/mask/LT050300322005020301T1-SC20190818205733_tile_2560_512_label.tif is a low contrast image\n",
      "  warn('%s is a low contrast image' % fname)\n",
      "/data/anaconda/envs/cropmask/lib/python3.7/site-packages/skimage/io/_io.py:141: UserWarning: /mnt/cropmaskperm/landsat-clear-scenes-2005/train/LT050300322005020301T1-SC20190818205733_tile_3072_1024/mask/LT050300322005020301T1-SC20190818205733_tile_3072_1024_label.tif is a low contrast image\n",
      "  warn('%s is a low contrast image' % fname)\n",
      "/data/anaconda/envs/cropmask/lib/python3.7/site-packages/skimage/io/_io.py:141: UserWarning: /mnt/cropmaskperm/landsat-clear-scenes-2005/train/LT050300322005020301T1-SC20190818205733_tile_3072_1536/mask/LT050300322005020301T1-SC20190818205733_tile_3072_1536_label.tif is a low contrast image\n",
      "  warn('%s is a low contrast image' % fname)\n",
      "/data/anaconda/envs/cropmask/lib/python3.7/site-packages/skimage/io/_io.py:141: UserWarning: /mnt/cropmaskperm/landsat-clear-scenes-2005/train/LT050300322005020301T1-SC20190818205733_tile_3072_2048/mask/LT050300322005020301T1-SC20190818205733_tile_3072_2048_label.tif is a low contrast image\n",
      "  warn('%s is a low contrast image' % fname)\n",
      "/data/anaconda/envs/cropmask/lib/python3.7/site-packages/skimage/io/_io.py:141: UserWarning: /mnt/cropmaskperm/landsat-clear-scenes-2005/train/LT050300322005020301T1-SC20190818205733_tile_3072_2560/mask/LT050300322005020301T1-SC20190818205733_tile_3072_2560_label.tif is a low contrast image\n",
      "  warn('%s is a low contrast image' % fname)\n",
      "/data/anaconda/envs/cropmask/lib/python3.7/site-packages/skimage/io/_io.py:141: UserWarning: /mnt/cropmaskperm/landsat-clear-scenes-2005/train/LT050300322005020301T1-SC20190818205733_tile_3072_3072/mask/LT050300322005020301T1-SC20190818205733_tile_3072_3072_label.tif is a low contrast image\n",
      "  warn('%s is a low contrast image' % fname)\n",
      "/data/anaconda/envs/cropmask/lib/python3.7/site-packages/skimage/io/_io.py:141: UserWarning: /mnt/cropmaskperm/landsat-clear-scenes-2005/train/LT050300322005020301T1-SC20190818205733_tile_3072_3584/mask/LT050300322005020301T1-SC20190818205733_tile_3072_3584_label.tif is a low contrast image\n",
      "  warn('%s is a low contrast image' % fname)\n",
      "/data/anaconda/envs/cropmask/lib/python3.7/site-packages/skimage/io/_io.py:141: UserWarning: /mnt/cropmaskperm/landsat-clear-scenes-2005/train/LT050300322005020301T1-SC20190818205733_tile_3072_4096/mask/LT050300322005020301T1-SC20190818205733_tile_3072_4096_label.tif is a low contrast image\n",
      "  warn('%s is a low contrast image' % fname)\n",
      "/data/anaconda/envs/cropmask/lib/python3.7/site-packages/skimage/io/_io.py:141: UserWarning: /mnt/cropmaskperm/landsat-clear-scenes-2005/train/LT050300322005020301T1-SC20190818205733_tile_3072_512/mask/LT050300322005020301T1-SC20190818205733_tile_3072_512_label.tif is a low contrast image\n",
      "  warn('%s is a low contrast image' % fname)\n",
      "/data/anaconda/envs/cropmask/lib/python3.7/site-packages/skimage/io/_io.py:141: UserWarning: /mnt/cropmaskperm/landsat-clear-scenes-2005/train/LT050300322005020301T1-SC20190818205733_tile_3584_1024/mask/LT050300322005020301T1-SC20190818205733_tile_3584_1024_label.tif is a low contrast image\n",
      "  warn('%s is a low contrast image' % fname)\n",
      "/data/anaconda/envs/cropmask/lib/python3.7/site-packages/skimage/io/_io.py:141: UserWarning: /mnt/cropmaskperm/landsat-clear-scenes-2005/train/LT050300322005020301T1-SC20190818205733_tile_3584_1536/mask/LT050300322005020301T1-SC20190818205733_tile_3584_1536_label.tif is a low contrast image\n",
      "  warn('%s is a low contrast image' % fname)\n",
      "/data/anaconda/envs/cropmask/lib/python3.7/site-packages/skimage/io/_io.py:141: UserWarning: /mnt/cropmaskperm/landsat-clear-scenes-2005/train/LT050300322005020301T1-SC20190818205733_tile_3584_2048/mask/LT050300322005020301T1-SC20190818205733_tile_3584_2048_label.tif is a low contrast image\n",
      "  warn('%s is a low contrast image' % fname)\n",
      "/data/anaconda/envs/cropmask/lib/python3.7/site-packages/skimage/io/_io.py:141: UserWarning: /mnt/cropmaskperm/landsat-clear-scenes-2005/train/LT050300322005020301T1-SC20190818205733_tile_3584_2560/mask/LT050300322005020301T1-SC20190818205733_tile_3584_2560_label.tif is a low contrast image\n",
      "  warn('%s is a low contrast image' % fname)\n",
      "/data/anaconda/envs/cropmask/lib/python3.7/site-packages/skimage/io/_io.py:141: UserWarning: /mnt/cropmaskperm/landsat-clear-scenes-2005/train/LT050300322005020301T1-SC20190818205733_tile_3584_3072/mask/LT050300322005020301T1-SC20190818205733_tile_3584_3072_label.tif is a low contrast image\n",
      "  warn('%s is a low contrast image' % fname)\n",
      "/data/anaconda/envs/cropmask/lib/python3.7/site-packages/skimage/io/_io.py:141: UserWarning: /mnt/cropmaskperm/landsat-clear-scenes-2005/train/LT050300322005020301T1-SC20190818205733_tile_3584_3584/mask/LT050300322005020301T1-SC20190818205733_tile_3584_3584_label.tif is a low contrast image\n",
      "  warn('%s is a low contrast image' % fname)\n",
      "/data/anaconda/envs/cropmask/lib/python3.7/site-packages/skimage/io/_io.py:141: UserWarning: /mnt/cropmaskperm/landsat-clear-scenes-2005/train/LT050300322005020301T1-SC20190818205733_tile_3584_4096/mask/LT050300322005020301T1-SC20190818205733_tile_3584_4096_label.tif is a low contrast image\n",
      "  warn('%s is a low contrast image' % fname)\n",
      "/data/anaconda/envs/cropmask/lib/python3.7/site-packages/skimage/io/_io.py:141: UserWarning: /mnt/cropmaskperm/landsat-clear-scenes-2005/train/LT050300322005020301T1-SC20190818205733_tile_4096_1024/mask/LT050300322005020301T1-SC20190818205733_tile_4096_1024_label.tif is a low contrast image\n",
      "  warn('%s is a low contrast image' % fname)\n",
      "/data/anaconda/envs/cropmask/lib/python3.7/site-packages/skimage/io/_io.py:141: UserWarning: /mnt/cropmaskperm/landsat-clear-scenes-2005/train/LT050300322005020301T1-SC20190818205733_tile_4096_1536/mask/LT050300322005020301T1-SC20190818205733_tile_4096_1536_label.tif is a low contrast image\n",
      "  warn('%s is a low contrast image' % fname)\n",
      "/data/anaconda/envs/cropmask/lib/python3.7/site-packages/skimage/io/_io.py:141: UserWarning: /mnt/cropmaskperm/landsat-clear-scenes-2005/train/LT050300322005020301T1-SC20190818205733_tile_4096_2048/mask/LT050300322005020301T1-SC20190818205733_tile_4096_2048_label.tif is a low contrast image\n",
      "  warn('%s is a low contrast image' % fname)\n",
      "/data/anaconda/envs/cropmask/lib/python3.7/site-packages/skimage/io/_io.py:141: UserWarning: /mnt/cropmaskperm/landsat-clear-scenes-2005/train/LT050300322005020301T1-SC20190818205733_tile_4096_2560/mask/LT050300322005020301T1-SC20190818205733_tile_4096_2560_label.tif is a low contrast image\n",
      "  warn('%s is a low contrast image' % fname)\n",
      "/data/anaconda/envs/cropmask/lib/python3.7/site-packages/skimage/io/_io.py:141: UserWarning: /mnt/cropmaskperm/landsat-clear-scenes-2005/train/LT050300322005020301T1-SC20190818205733_tile_4096_3072/mask/LT050300322005020301T1-SC20190818205733_tile_4096_3072_label.tif is a low contrast image\n",
      "  warn('%s is a low contrast image' % fname)\n",
      "/data/anaconda/envs/cropmask/lib/python3.7/site-packages/skimage/io/_io.py:141: UserWarning: /mnt/cropmaskperm/landsat-clear-scenes-2005/train/LT050300322005020301T1-SC20190818205733_tile_4096_3584/mask/LT050300322005020301T1-SC20190818205733_tile_4096_3584_label.tif is a low contrast image\n",
      "  warn('%s is a low contrast image' % fname)\n",
      "/data/anaconda/envs/cropmask/lib/python3.7/site-packages/skimage/io/_io.py:141: UserWarning: /mnt/cropmaskperm/landsat-clear-scenes-2005/train/LT050300322005020301T1-SC20190818205733_tile_4096_4096/mask/LT050300322005020301T1-SC20190818205733_tile_4096_4096_label.tif is a low contrast image\n",
      "  warn('%s is a low contrast image' % fname)\n",
      "/data/anaconda/envs/cropmask/lib/python3.7/site-packages/skimage/io/_io.py:141: UserWarning: /mnt/cropmaskperm/landsat-clear-scenes-2005/train/LT050300322005020301T1-SC20190818205733_tile_4608_1024/mask/LT050300322005020301T1-SC20190818205733_tile_4608_1024_label.tif is a low contrast image\n",
      "  warn('%s is a low contrast image' % fname)\n",
      "/data/anaconda/envs/cropmask/lib/python3.7/site-packages/skimage/io/_io.py:141: UserWarning: /mnt/cropmaskperm/landsat-clear-scenes-2005/train/LT050300322005020301T1-SC20190818205733_tile_4608_1536/mask/LT050300322005020301T1-SC20190818205733_tile_4608_1536_label.tif is a low contrast image\n",
      "  warn('%s is a low contrast image' % fname)\n",
      "/data/anaconda/envs/cropmask/lib/python3.7/site-packages/skimage/io/_io.py:141: UserWarning: /mnt/cropmaskperm/landsat-clear-scenes-2005/train/LT050300322005020301T1-SC20190818205733_tile_4608_2048/mask/LT050300322005020301T1-SC20190818205733_tile_4608_2048_label.tif is a low contrast image\n",
      "  warn('%s is a low contrast image' % fname)\n",
      "/data/anaconda/envs/cropmask/lib/python3.7/site-packages/skimage/io/_io.py:141: UserWarning: /mnt/cropmaskperm/landsat-clear-scenes-2005/train/LT050300322005020301T1-SC20190818205733_tile_4608_2560/mask/LT050300322005020301T1-SC20190818205733_tile_4608_2560_label.tif is a low contrast image\n",
      "  warn('%s is a low contrast image' % fname)\n",
      "/data/anaconda/envs/cropmask/lib/python3.7/site-packages/skimage/io/_io.py:141: UserWarning: /mnt/cropmaskperm/landsat-clear-scenes-2005/train/LT050300322005020301T1-SC20190818205733_tile_4608_3072/mask/LT050300322005020301T1-SC20190818205733_tile_4608_3072_label.tif is a low contrast image\n",
      "  warn('%s is a low contrast image' % fname)\n",
      "/data/anaconda/envs/cropmask/lib/python3.7/site-packages/skimage/io/_io.py:141: UserWarning: /mnt/cropmaskperm/landsat-clear-scenes-2005/train/LT050300322005020301T1-SC20190818205733_tile_4608_3584/mask/LT050300322005020301T1-SC20190818205733_tile_4608_3584_label.tif is a low contrast image\n",
      "  warn('%s is a low contrast image' % fname)\n",
      "/data/anaconda/envs/cropmask/lib/python3.7/site-packages/skimage/io/_io.py:141: UserWarning: /mnt/cropmaskperm/landsat-clear-scenes-2005/train/LT050300322005020301T1-SC20190818205733_tile_4608_4096/mask/LT050300322005020301T1-SC20190818205733_tile_4608_4096_label.tif is a low contrast image\n",
      "  warn('%s is a low contrast image' % fname)\n",
      "/data/anaconda/envs/cropmask/lib/python3.7/site-packages/skimage/io/_io.py:141: UserWarning: /mnt/cropmaskperm/landsat-clear-scenes-2005/train/LT050300322005020301T1-SC20190818205733_tile_5120_1024/mask/LT050300322005020301T1-SC20190818205733_tile_5120_1024_label.tif is a low contrast image\n",
      "  warn('%s is a low contrast image' % fname)\n",
      "/data/anaconda/envs/cropmask/lib/python3.7/site-packages/skimage/io/_io.py:141: UserWarning: /mnt/cropmaskperm/landsat-clear-scenes-2005/train/LT050300322005020301T1-SC20190818205733_tile_5120_1536/mask/LT050300322005020301T1-SC20190818205733_tile_5120_1536_label.tif is a low contrast image\n",
      "  warn('%s is a low contrast image' % fname)\n",
      "/data/anaconda/envs/cropmask/lib/python3.7/site-packages/skimage/io/_io.py:141: UserWarning: /mnt/cropmaskperm/landsat-clear-scenes-2005/train/LT050300322005020301T1-SC20190818205733_tile_5120_2048/mask/LT050300322005020301T1-SC20190818205733_tile_5120_2048_label.tif is a low contrast image\n",
      "  warn('%s is a low contrast image' % fname)\n",
      "/data/anaconda/envs/cropmask/lib/python3.7/site-packages/skimage/io/_io.py:141: UserWarning: /mnt/cropmaskperm/landsat-clear-scenes-2005/train/LT050300322005020301T1-SC20190818205733_tile_5120_2560/mask/LT050300322005020301T1-SC20190818205733_tile_5120_2560_label.tif is a low contrast image\n",
      "  warn('%s is a low contrast image' % fname)\n",
      "/data/anaconda/envs/cropmask/lib/python3.7/site-packages/skimage/io/_io.py:141: UserWarning: /mnt/cropmaskperm/landsat-clear-scenes-2005/train/LT050300322005020301T1-SC20190818205733_tile_5120_3072/mask/LT050300322005020301T1-SC20190818205733_tile_5120_3072_label.tif is a low contrast image\n",
      "  warn('%s is a low contrast image' % fname)\n",
      "/data/anaconda/envs/cropmask/lib/python3.7/site-packages/skimage/io/_io.py:141: UserWarning: /mnt/cropmaskperm/landsat-clear-scenes-2005/train/LT050300322005020301T1-SC20190818205733_tile_5120_3584/mask/LT050300322005020301T1-SC20190818205733_tile_5120_3584_label.tif is a low contrast image\n",
      "  warn('%s is a low contrast image' % fname)\n",
      "/data/anaconda/envs/cropmask/lib/python3.7/site-packages/skimage/io/_io.py:141: UserWarning: /mnt/cropmaskperm/landsat-clear-scenes-2005/train/LT050300322005020301T1-SC20190818205733_tile_5120_4096/mask/LT050300322005020301T1-SC20190818205733_tile_5120_4096_label.tif is a low contrast image\n",
      "  warn('%s is a low contrast image' % fname)\n",
      "/data/anaconda/envs/cropmask/lib/python3.7/site-packages/skimage/io/_io.py:141: UserWarning: /mnt/cropmaskperm/landsat-clear-scenes-2005/train/LT050300322005020301T1-SC20190818205733_tile_5632_1024/mask/LT050300322005020301T1-SC20190818205733_tile_5632_1024_label.tif is a low contrast image\n",
      "  warn('%s is a low contrast image' % fname)\n",
      "/data/anaconda/envs/cropmask/lib/python3.7/site-packages/skimage/io/_io.py:141: UserWarning: /mnt/cropmaskperm/landsat-clear-scenes-2005/train/LT050300322005020301T1-SC20190818205733_tile_5632_1536/mask/LT050300322005020301T1-SC20190818205733_tile_5632_1536_label.tif is a low contrast image\n",
      "  warn('%s is a low contrast image' % fname)\n",
      "/data/anaconda/envs/cropmask/lib/python3.7/site-packages/skimage/io/_io.py:141: UserWarning: /mnt/cropmaskperm/landsat-clear-scenes-2005/train/LT050300322005020301T1-SC20190818205733_tile_5632_2048/mask/LT050300322005020301T1-SC20190818205733_tile_5632_2048_label.tif is a low contrast image\n",
      "  warn('%s is a low contrast image' % fname)\n",
      "/data/anaconda/envs/cropmask/lib/python3.7/site-packages/skimage/io/_io.py:141: UserWarning: /mnt/cropmaskperm/landsat-clear-scenes-2005/train/LT050300322005020301T1-SC20190818205733_tile_5632_2560/mask/LT050300322005020301T1-SC20190818205733_tile_5632_2560_label.tif is a low contrast image\n",
      "  warn('%s is a low contrast image' % fname)\n",
      "/data/anaconda/envs/cropmask/lib/python3.7/site-packages/skimage/io/_io.py:141: UserWarning: /mnt/cropmaskperm/landsat-clear-scenes-2005/train/LT050300322005020301T1-SC20190818205733_tile_5632_3072/mask/LT050300322005020301T1-SC20190818205733_tile_5632_3072_label.tif is a low contrast image\n",
      "  warn('%s is a low contrast image' % fname)\n",
      "/data/anaconda/envs/cropmask/lib/python3.7/site-packages/skimage/io/_io.py:141: UserWarning: /mnt/cropmaskperm/landsat-clear-scenes-2005/train/LT050300322005020301T1-SC20190818205733_tile_5632_3584/mask/LT050300322005020301T1-SC20190818205733_tile_5632_3584_label.tif is a low contrast image\n",
      "  warn('%s is a low contrast image' % fname)\n",
      "/data/anaconda/envs/cropmask/lib/python3.7/site-packages/skimage/io/_io.py:141: UserWarning: /mnt/cropmaskperm/landsat-clear-scenes-2005/train/LT050300322005020301T1-SC20190818205733_tile_5632_4096/mask/LT050300322005020301T1-SC20190818205733_tile_5632_4096_label.tif is a low contrast image\n",
      "  warn('%s is a low contrast image' % fname)\n",
      "/data/anaconda/envs/cropmask/lib/python3.7/site-packages/skimage/io/_io.py:141: UserWarning: /mnt/cropmaskperm/landsat-clear-scenes-2005/train/LT050300322005020301T1-SC20190818205733_tile_6144_1536/mask/LT050300322005020301T1-SC20190818205733_tile_6144_1536_label.tif is a low contrast image\n",
      "  warn('%s is a low contrast image' % fname)\n",
      "/data/anaconda/envs/cropmask/lib/python3.7/site-packages/skimage/io/_io.py:141: UserWarning: /mnt/cropmaskperm/landsat-clear-scenes-2005/train/LT050300322005020301T1-SC20190818205733_tile_6144_2048/mask/LT050300322005020301T1-SC20190818205733_tile_6144_2048_label.tif is a low contrast image\n",
      "  warn('%s is a low contrast image' % fname)\n",
      "/data/anaconda/envs/cropmask/lib/python3.7/site-packages/skimage/io/_io.py:141: UserWarning: /mnt/cropmaskperm/landsat-clear-scenes-2005/train/LT050300322005020301T1-SC20190818205733_tile_6144_2560/mask/LT050300322005020301T1-SC20190818205733_tile_6144_2560_label.tif is a low contrast image\n",
      "  warn('%s is a low contrast image' % fname)\n",
      "/data/anaconda/envs/cropmask/lib/python3.7/site-packages/skimage/io/_io.py:141: UserWarning: /mnt/cropmaskperm/landsat-clear-scenes-2005/train/LT050300322005020301T1-SC20190818205733_tile_6144_3072/mask/LT050300322005020301T1-SC20190818205733_tile_6144_3072_label.tif is a low contrast image\n",
      "  warn('%s is a low contrast image' % fname)\n",
      "/data/anaconda/envs/cropmask/lib/python3.7/site-packages/skimage/io/_io.py:141: UserWarning: /mnt/cropmaskperm/landsat-clear-scenes-2005/train/LT050300322005020301T1-SC20190818205733_tile_6144_3584/mask/LT050300322005020301T1-SC20190818205733_tile_6144_3584_label.tif is a low contrast image\n",
      "  warn('%s is a low contrast image' % fname)\n",
      "/data/anaconda/envs/cropmask/lib/python3.7/site-packages/skimage/io/_io.py:141: UserWarning: /mnt/cropmaskperm/landsat-clear-scenes-2005/train/LT050300322005020301T1-SC20190818205733_tile_6144_4096/mask/LT050300322005020301T1-SC20190818205733_tile_6144_4096_label.tif is a low contrast image\n",
      "  warn('%s is a low contrast image' % fname)\n",
      "/data/anaconda/envs/cropmask/lib/python3.7/site-packages/skimage/io/_io.py:141: UserWarning: /mnt/cropmaskperm/landsat-clear-scenes-2005/train/LT050300322005020301T1-SC20190818205733_tile_6656_1536/mask/LT050300322005020301T1-SC20190818205733_tile_6656_1536_label.tif is a low contrast image\n",
      "  warn('%s is a low contrast image' % fname)\n",
      "/data/anaconda/envs/cropmask/lib/python3.7/site-packages/skimage/io/_io.py:141: UserWarning: /mnt/cropmaskperm/landsat-clear-scenes-2005/train/LT050300322005020301T1-SC20190818205733_tile_6656_2048/mask/LT050300322005020301T1-SC20190818205733_tile_6656_2048_label.tif is a low contrast image\n",
      "  warn('%s is a low contrast image' % fname)\n",
      "/data/anaconda/envs/cropmask/lib/python3.7/site-packages/skimage/io/_io.py:141: UserWarning: /mnt/cropmaskperm/landsat-clear-scenes-2005/train/LT050300322005020301T1-SC20190818205733_tile_6656_2560/mask/LT050300322005020301T1-SC20190818205733_tile_6656_2560_label.tif is a low contrast image\n",
      "  warn('%s is a low contrast image' % fname)\n",
      "/data/anaconda/envs/cropmask/lib/python3.7/site-packages/skimage/io/_io.py:141: UserWarning: /mnt/cropmaskperm/landsat-clear-scenes-2005/train/LT050300322005020301T1-SC20190818205733_tile_6656_3072/mask/LT050300322005020301T1-SC20190818205733_tile_6656_3072_label.tif is a low contrast image\n",
      "  warn('%s is a low contrast image' % fname)\n"
     ]
    },
    {
     "name": "stdout",
     "output_type": "stream",
     "text": [
      "Done applying negbuff of -30 and filtering small labels of area less than 3600\n"
     ]
    },
    {
     "name": "stderr",
     "output_type": "stream",
     "text": [
      "/data/anaconda/envs/cropmask/lib/python3.7/site-packages/skimage/io/_io.py:141: UserWarning: /mnt/cropmaskperm/landsat-clear-scenes-2005/train/LT050320312005040601T1-SC20190418222326_tile_0_0/image/LT050320312005040601T1-SC20190418222326_tile_0_0.tif is a low contrast image\n",
      "  warn('%s is a low contrast image' % fname)\n"
     ]
    },
    {
     "name": "stdout",
     "output_type": "stream",
     "text": [
      "removed scene and label, 0.02% bad data\n"
     ]
    },
    {
     "name": "stderr",
     "output_type": "stream",
     "text": [
      "/data/anaconda/envs/cropmask/lib/python3.7/site-packages/skimage/io/_io.py:141: UserWarning: /mnt/cropmaskperm/landsat-clear-scenes-2005/train/LT050320312005040601T1-SC20190418222326_tile_0_1024/image/LT050320312005040601T1-SC20190418222326_tile_0_1024.tif is a low contrast image\n",
      "  warn('%s is a low contrast image' % fname)\n"
     ]
    },
    {
     "name": "stdout",
     "output_type": "stream",
     "text": [
      "removed scene and label, 0.02% bad data\n"
     ]
    },
    {
     "name": "stderr",
     "output_type": "stream",
     "text": [
      "/data/anaconda/envs/cropmask/lib/python3.7/site-packages/skimage/io/_io.py:141: UserWarning: /mnt/cropmaskperm/landsat-clear-scenes-2005/train/LT050320312005040601T1-SC20190418222326_tile_0_1536/image/LT050320312005040601T1-SC20190418222326_tile_0_1536.tif is a low contrast image\n",
      "  warn('%s is a low contrast image' % fname)\n"
     ]
    },
    {
     "name": "stdout",
     "output_type": "stream",
     "text": [
      "removed scene and label, 0.02% bad data\n"
     ]
    },
    {
     "name": "stderr",
     "output_type": "stream",
     "text": [
      "/data/anaconda/envs/cropmask/lib/python3.7/site-packages/skimage/io/_io.py:141: UserWarning: /mnt/cropmaskperm/landsat-clear-scenes-2005/train/LT050320312005040601T1-SC20190418222326_tile_0_2048/image/LT050320312005040601T1-SC20190418222326_tile_0_2048.tif is a low contrast image\n",
      "  warn('%s is a low contrast image' % fname)\n"
     ]
    },
    {
     "name": "stdout",
     "output_type": "stream",
     "text": [
      "removed scene and label, 0.02% bad data\n"
     ]
    },
    {
     "name": "stderr",
     "output_type": "stream",
     "text": [
      "/data/anaconda/envs/cropmask/lib/python3.7/site-packages/skimage/io/_io.py:141: UserWarning: /mnt/cropmaskperm/landsat-clear-scenes-2005/train/LT050320312005040601T1-SC20190418222326_tile_0_2560/image/LT050320312005040601T1-SC20190418222326_tile_0_2560.tif is a low contrast image\n",
      "  warn('%s is a low contrast image' % fname)\n"
     ]
    },
    {
     "name": "stdout",
     "output_type": "stream",
     "text": [
      "removed scene and label, 0.02% bad data\n"
     ]
    },
    {
     "name": "stderr",
     "output_type": "stream",
     "text": [
      "/data/anaconda/envs/cropmask/lib/python3.7/site-packages/skimage/io/_io.py:141: UserWarning: /mnt/cropmaskperm/landsat-clear-scenes-2005/train/LT050320312005040601T1-SC20190418222326_tile_0_3072/image/LT050320312005040601T1-SC20190418222326_tile_0_3072.tif is a low contrast image\n",
      "  warn('%s is a low contrast image' % fname)\n"
     ]
    },
    {
     "name": "stdout",
     "output_type": "stream",
     "text": [
      "removed scene and label, 0.02% bad data\n"
     ]
    },
    {
     "name": "stderr",
     "output_type": "stream",
     "text": [
      "/data/anaconda/envs/cropmask/lib/python3.7/site-packages/skimage/io/_io.py:141: UserWarning: /mnt/cropmaskperm/landsat-clear-scenes-2005/train/LT050320312005040601T1-SC20190418222326_tile_0_3584/image/LT050320312005040601T1-SC20190418222326_tile_0_3584.tif is a low contrast image\n",
      "  warn('%s is a low contrast image' % fname)\n"
     ]
    },
    {
     "name": "stdout",
     "output_type": "stream",
     "text": [
      "removed scene and label, 0.02% bad data\n"
     ]
    },
    {
     "name": "stderr",
     "output_type": "stream",
     "text": [
      "/data/anaconda/envs/cropmask/lib/python3.7/site-packages/skimage/io/_io.py:141: UserWarning: /mnt/cropmaskperm/landsat-clear-scenes-2005/train/LT050320312005040601T1-SC20190418222326_tile_0_4096/image/LT050320312005040601T1-SC20190418222326_tile_0_4096.tif is a low contrast image\n",
      "  warn('%s is a low contrast image' % fname)\n"
     ]
    },
    {
     "name": "stdout",
     "output_type": "stream",
     "text": [
      "removed scene and label, 0.02% bad data\n"
     ]
    },
    {
     "name": "stderr",
     "output_type": "stream",
     "text": [
      "/data/anaconda/envs/cropmask/lib/python3.7/site-packages/skimage/io/_io.py:141: UserWarning: /mnt/cropmaskperm/landsat-clear-scenes-2005/train/LT050320312005040601T1-SC20190418222326_tile_0_4608/image/LT050320312005040601T1-SC20190418222326_tile_0_4608.tif is a low contrast image\n",
      "  warn('%s is a low contrast image' % fname)\n"
     ]
    },
    {
     "name": "stdout",
     "output_type": "stream",
     "text": [
      "removed scene and label, 0.02% bad data\n"
     ]
    },
    {
     "name": "stderr",
     "output_type": "stream",
     "text": [
      "/data/anaconda/envs/cropmask/lib/python3.7/site-packages/skimage/io/_io.py:141: UserWarning: /mnt/cropmaskperm/landsat-clear-scenes-2005/train/LT050320312005040601T1-SC20190418222326_tile_0_512/image/LT050320312005040601T1-SC20190418222326_tile_0_512.tif is a low contrast image\n",
      "  warn('%s is a low contrast image' % fname)\n"
     ]
    },
    {
     "name": "stdout",
     "output_type": "stream",
     "text": [
      "removed scene and label, 0.02% bad data\n"
     ]
    },
    {
     "name": "stderr",
     "output_type": "stream",
     "text": [
      "/data/anaconda/envs/cropmask/lib/python3.7/site-packages/skimage/io/_io.py:141: UserWarning: /mnt/cropmaskperm/landsat-clear-scenes-2005/train/LT050320312005040601T1-SC20190418222326_tile_0_5120/image/LT050320312005040601T1-SC20190418222326_tile_0_5120.tif is a low contrast image\n",
      "  warn('%s is a low contrast image' % fname)\n"
     ]
    },
    {
     "name": "stdout",
     "output_type": "stream",
     "text": [
      "removed scene and label, 0.02% bad data\n"
     ]
    },
    {
     "name": "stderr",
     "output_type": "stream",
     "text": [
      "/data/anaconda/envs/cropmask/lib/python3.7/site-packages/skimage/io/_io.py:141: UserWarning: /mnt/cropmaskperm/landsat-clear-scenes-2005/train/LT050320312005040601T1-SC20190418222326_tile_0_5632/image/LT050320312005040601T1-SC20190418222326_tile_0_5632.tif is a low contrast image\n",
      "  warn('%s is a low contrast image' % fname)\n"
     ]
    },
    {
     "name": "stdout",
     "output_type": "stream",
     "text": [
      "removed scene and label, 0.02% bad data\n"
     ]
    },
    {
     "name": "stderr",
     "output_type": "stream",
     "text": [
      "/data/anaconda/envs/cropmask/lib/python3.7/site-packages/skimage/io/_io.py:141: UserWarning: /mnt/cropmaskperm/landsat-clear-scenes-2005/train/LT050320312005040601T1-SC20190418222326_tile_1024_0/image/LT050320312005040601T1-SC20190418222326_tile_1024_0.tif is a low contrast image\n",
      "  warn('%s is a low contrast image' % fname)\n"
     ]
    },
    {
     "name": "stdout",
     "output_type": "stream",
     "text": [
      "removed scene and label, 0.02% bad data\n"
     ]
    },
    {
     "name": "stderr",
     "output_type": "stream",
     "text": [
      "/data/anaconda/envs/cropmask/lib/python3.7/site-packages/skimage/io/_io.py:141: UserWarning: /mnt/cropmaskperm/landsat-clear-scenes-2005/train/LT050320312005040601T1-SC20190418222326_tile_1024_1024/image/LT050320312005040601T1-SC20190418222326_tile_1024_1024.tif is a low contrast image\n",
      "  warn('%s is a low contrast image' % fname)\n"
     ]
    },
    {
     "name": "stdout",
     "output_type": "stream",
     "text": [
      "removed scene and label, 0.02% bad data\n"
     ]
    },
    {
     "name": "stderr",
     "output_type": "stream",
     "text": [
      "/data/anaconda/envs/cropmask/lib/python3.7/site-packages/skimage/io/_io.py:141: UserWarning: /mnt/cropmaskperm/landsat-clear-scenes-2005/train/LT050320312005040601T1-SC20190418222326_tile_1024_1536/image/LT050320312005040601T1-SC20190418222326_tile_1024_1536.tif is a low contrast image\n",
      "  warn('%s is a low contrast image' % fname)\n"
     ]
    },
    {
     "name": "stdout",
     "output_type": "stream",
     "text": [
      "removed scene and label, 0.02% bad data\n"
     ]
    },
    {
     "name": "stderr",
     "output_type": "stream",
     "text": [
      "/data/anaconda/envs/cropmask/lib/python3.7/site-packages/skimage/io/_io.py:141: UserWarning: /mnt/cropmaskperm/landsat-clear-scenes-2005/train/LT050320312005040601T1-SC20190418222326_tile_1024_2048/image/LT050320312005040601T1-SC20190418222326_tile_1024_2048.tif is a low contrast image\n",
      "  warn('%s is a low contrast image' % fname)\n",
      "/data/anaconda/envs/cropmask/lib/python3.7/site-packages/skimage/io/_io.py:141: UserWarning: /mnt/cropmaskperm/landsat-clear-scenes-2005/train/LT050320312005040601T1-SC20190418222326_tile_1024_2560/image/LT050320312005040601T1-SC20190418222326_tile_1024_2560.tif is a low contrast image\n",
      "  warn('%s is a low contrast image' % fname)\n",
      "/data/anaconda/envs/cropmask/lib/python3.7/site-packages/skimage/io/_io.py:141: UserWarning: /mnt/cropmaskperm/landsat-clear-scenes-2005/train/LT050320312005040601T1-SC20190418222326_tile_1024_3072/image/LT050320312005040601T1-SC20190418222326_tile_1024_3072.tif is a low contrast image\n",
      "  warn('%s is a low contrast image' % fname)\n",
      "/data/anaconda/envs/cropmask/lib/python3.7/site-packages/skimage/io/_io.py:141: UserWarning: /mnt/cropmaskperm/landsat-clear-scenes-2005/train/LT050320312005040601T1-SC20190418222326_tile_1024_3584/image/LT050320312005040601T1-SC20190418222326_tile_1024_3584.tif is a low contrast image\n",
      "  warn('%s is a low contrast image' % fname)\n",
      "/data/anaconda/envs/cropmask/lib/python3.7/site-packages/skimage/io/_io.py:141: UserWarning: /mnt/cropmaskperm/landsat-clear-scenes-2005/train/LT050320312005040601T1-SC20190418222326_tile_1024_4096/image/LT050320312005040601T1-SC20190418222326_tile_1024_4096.tif is a low contrast image\n",
      "  warn('%s is a low contrast image' % fname)\n",
      "/data/anaconda/envs/cropmask/lib/python3.7/site-packages/skimage/io/_io.py:141: UserWarning: /mnt/cropmaskperm/landsat-clear-scenes-2005/train/LT050320312005040601T1-SC20190418222326_tile_1024_4608/image/LT050320312005040601T1-SC20190418222326_tile_1024_4608.tif is a low contrast image\n",
      "  warn('%s is a low contrast image' % fname)\n",
      "/data/anaconda/envs/cropmask/lib/python3.7/site-packages/skimage/io/_io.py:141: UserWarning: /mnt/cropmaskperm/landsat-clear-scenes-2005/train/LT050320312005040601T1-SC20190418222326_tile_1024_512/image/LT050320312005040601T1-SC20190418222326_tile_1024_512.tif is a low contrast image\n",
      "  warn('%s is a low contrast image' % fname)\n"
     ]
    },
    {
     "name": "stdout",
     "output_type": "stream",
     "text": [
      "removed scene and label, 0.02% bad data\n"
     ]
    },
    {
     "name": "stderr",
     "output_type": "stream",
     "text": [
      "/data/anaconda/envs/cropmask/lib/python3.7/site-packages/skimage/io/_io.py:141: UserWarning: /mnt/cropmaskperm/landsat-clear-scenes-2005/train/LT050320312005040601T1-SC20190418222326_tile_1024_5120/image/LT050320312005040601T1-SC20190418222326_tile_1024_5120.tif is a low contrast image\n",
      "  warn('%s is a low contrast image' % fname)\n",
      "/data/anaconda/envs/cropmask/lib/python3.7/site-packages/skimage/io/_io.py:141: UserWarning: /mnt/cropmaskperm/landsat-clear-scenes-2005/train/LT050320312005040601T1-SC20190418222326_tile_1024_5632/image/LT050320312005040601T1-SC20190418222326_tile_1024_5632.tif is a low contrast image\n",
      "  warn('%s is a low contrast image' % fname)\n"
     ]
    },
    {
     "name": "stdout",
     "output_type": "stream",
     "text": [
      "removed scene and label, 0.02% bad data\n"
     ]
    },
    {
     "name": "stderr",
     "output_type": "stream",
     "text": [
      "/data/anaconda/envs/cropmask/lib/python3.7/site-packages/skimage/io/_io.py:141: UserWarning: /mnt/cropmaskperm/landsat-clear-scenes-2005/train/LT050320312005040601T1-SC20190418222326_tile_1536_0/image/LT050320312005040601T1-SC20190418222326_tile_1536_0.tif is a low contrast image\n",
      "  warn('%s is a low contrast image' % fname)\n"
     ]
    },
    {
     "name": "stdout",
     "output_type": "stream",
     "text": [
      "removed scene and label, 0.02% bad data\n"
     ]
    },
    {
     "name": "stderr",
     "output_type": "stream",
     "text": [
      "/data/anaconda/envs/cropmask/lib/python3.7/site-packages/skimage/io/_io.py:141: UserWarning: /mnt/cropmaskperm/landsat-clear-scenes-2005/train/LT050320312005040601T1-SC20190418222326_tile_1536_1024/image/LT050320312005040601T1-SC20190418222326_tile_1536_1024.tif is a low contrast image\n",
      "  warn('%s is a low contrast image' % fname)\n",
      "/data/anaconda/envs/cropmask/lib/python3.7/site-packages/skimage/io/_io.py:141: UserWarning: /mnt/cropmaskperm/landsat-clear-scenes-2005/train/LT050320312005040601T1-SC20190418222326_tile_1536_1536/image/LT050320312005040601T1-SC20190418222326_tile_1536_1536.tif is a low contrast image\n",
      "  warn('%s is a low contrast image' % fname)\n",
      "/data/anaconda/envs/cropmask/lib/python3.7/site-packages/skimage/io/_io.py:141: UserWarning: /mnt/cropmaskperm/landsat-clear-scenes-2005/train/LT050320312005040601T1-SC20190418222326_tile_1536_2048/image/LT050320312005040601T1-SC20190418222326_tile_1536_2048.tif is a low contrast image\n",
      "  warn('%s is a low contrast image' % fname)\n",
      "/data/anaconda/envs/cropmask/lib/python3.7/site-packages/skimage/io/_io.py:141: UserWarning: /mnt/cropmaskperm/landsat-clear-scenes-2005/train/LT050320312005040601T1-SC20190418222326_tile_1536_2560/image/LT050320312005040601T1-SC20190418222326_tile_1536_2560.tif is a low contrast image\n",
      "  warn('%s is a low contrast image' % fname)\n",
      "/data/anaconda/envs/cropmask/lib/python3.7/site-packages/skimage/io/_io.py:141: UserWarning: /mnt/cropmaskperm/landsat-clear-scenes-2005/train/LT050320312005040601T1-SC20190418222326_tile_1536_3072/image/LT050320312005040601T1-SC20190418222326_tile_1536_3072.tif is a low contrast image\n",
      "  warn('%s is a low contrast image' % fname)\n",
      "/data/anaconda/envs/cropmask/lib/python3.7/site-packages/skimage/io/_io.py:141: UserWarning: /mnt/cropmaskperm/landsat-clear-scenes-2005/train/LT050320312005040601T1-SC20190418222326_tile_1536_3584/image/LT050320312005040601T1-SC20190418222326_tile_1536_3584.tif is a low contrast image\n",
      "  warn('%s is a low contrast image' % fname)\n",
      "/data/anaconda/envs/cropmask/lib/python3.7/site-packages/skimage/io/_io.py:141: UserWarning: /mnt/cropmaskperm/landsat-clear-scenes-2005/train/LT050320312005040601T1-SC20190418222326_tile_1536_4096/image/LT050320312005040601T1-SC20190418222326_tile_1536_4096.tif is a low contrast image\n",
      "  warn('%s is a low contrast image' % fname)\n",
      "/data/anaconda/envs/cropmask/lib/python3.7/site-packages/skimage/io/_io.py:141: UserWarning: /mnt/cropmaskperm/landsat-clear-scenes-2005/train/LT050320312005040601T1-SC20190418222326_tile_1536_4608/image/LT050320312005040601T1-SC20190418222326_tile_1536_4608.tif is a low contrast image\n",
      "  warn('%s is a low contrast image' % fname)\n",
      "/data/anaconda/envs/cropmask/lib/python3.7/site-packages/skimage/io/_io.py:141: UserWarning: /mnt/cropmaskperm/landsat-clear-scenes-2005/train/LT050320312005040601T1-SC20190418222326_tile_1536_512/image/LT050320312005040601T1-SC20190418222326_tile_1536_512.tif is a low contrast image\n",
      "  warn('%s is a low contrast image' % fname)\n",
      "/data/anaconda/envs/cropmask/lib/python3.7/site-packages/skimage/io/_io.py:141: UserWarning: /mnt/cropmaskperm/landsat-clear-scenes-2005/train/LT050320312005040601T1-SC20190418222326_tile_1536_5120/image/LT050320312005040601T1-SC20190418222326_tile_1536_5120.tif is a low contrast image\n",
      "  warn('%s is a low contrast image' % fname)\n",
      "/data/anaconda/envs/cropmask/lib/python3.7/site-packages/skimage/io/_io.py:141: UserWarning: /mnt/cropmaskperm/landsat-clear-scenes-2005/train/LT050320312005040601T1-SC20190418222326_tile_1536_5632/image/LT050320312005040601T1-SC20190418222326_tile_1536_5632.tif is a low contrast image\n",
      "  warn('%s is a low contrast image' % fname)\n",
      "/data/anaconda/envs/cropmask/lib/python3.7/site-packages/skimage/io/_io.py:141: UserWarning: /mnt/cropmaskperm/landsat-clear-scenes-2005/train/LT050320312005040601T1-SC20190418222326_tile_2048_0/image/LT050320312005040601T1-SC20190418222326_tile_2048_0.tif is a low contrast image\n",
      "  warn('%s is a low contrast image' % fname)\n"
     ]
    },
    {
     "name": "stdout",
     "output_type": "stream",
     "text": [
      "removed scene and label, 0.02% bad data\n"
     ]
    },
    {
     "name": "stderr",
     "output_type": "stream",
     "text": [
      "/data/anaconda/envs/cropmask/lib/python3.7/site-packages/skimage/io/_io.py:141: UserWarning: /mnt/cropmaskperm/landsat-clear-scenes-2005/train/LT050320312005040601T1-SC20190418222326_tile_2048_1024/image/LT050320312005040601T1-SC20190418222326_tile_2048_1024.tif is a low contrast image\n",
      "  warn('%s is a low contrast image' % fname)\n",
      "/data/anaconda/envs/cropmask/lib/python3.7/site-packages/skimage/io/_io.py:141: UserWarning: /mnt/cropmaskperm/landsat-clear-scenes-2005/train/LT050320312005040601T1-SC20190418222326_tile_2048_1536/image/LT050320312005040601T1-SC20190418222326_tile_2048_1536.tif is a low contrast image\n",
      "  warn('%s is a low contrast image' % fname)\n",
      "/data/anaconda/envs/cropmask/lib/python3.7/site-packages/skimage/io/_io.py:141: UserWarning: /mnt/cropmaskperm/landsat-clear-scenes-2005/train/LT050320312005040601T1-SC20190418222326_tile_2048_2048/image/LT050320312005040601T1-SC20190418222326_tile_2048_2048.tif is a low contrast image\n",
      "  warn('%s is a low contrast image' % fname)\n",
      "/data/anaconda/envs/cropmask/lib/python3.7/site-packages/skimage/io/_io.py:141: UserWarning: /mnt/cropmaskperm/landsat-clear-scenes-2005/train/LT050320312005040601T1-SC20190418222326_tile_2048_2560/image/LT050320312005040601T1-SC20190418222326_tile_2048_2560.tif is a low contrast image\n",
      "  warn('%s is a low contrast image' % fname)\n",
      "/data/anaconda/envs/cropmask/lib/python3.7/site-packages/skimage/io/_io.py:141: UserWarning: /mnt/cropmaskperm/landsat-clear-scenes-2005/train/LT050320312005040601T1-SC20190418222326_tile_2048_3072/image/LT050320312005040601T1-SC20190418222326_tile_2048_3072.tif is a low contrast image\n",
      "  warn('%s is a low contrast image' % fname)\n",
      "/data/anaconda/envs/cropmask/lib/python3.7/site-packages/skimage/io/_io.py:141: UserWarning: /mnt/cropmaskperm/landsat-clear-scenes-2005/train/LT050320312005040601T1-SC20190418222326_tile_2048_3584/image/LT050320312005040601T1-SC20190418222326_tile_2048_3584.tif is a low contrast image\n",
      "  warn('%s is a low contrast image' % fname)\n",
      "/data/anaconda/envs/cropmask/lib/python3.7/site-packages/skimage/io/_io.py:141: UserWarning: /mnt/cropmaskperm/landsat-clear-scenes-2005/train/LT050320312005040601T1-SC20190418222326_tile_2048_4096/image/LT050320312005040601T1-SC20190418222326_tile_2048_4096.tif is a low contrast image\n",
      "  warn('%s is a low contrast image' % fname)\n",
      "/data/anaconda/envs/cropmask/lib/python3.7/site-packages/skimage/io/_io.py:141: UserWarning: /mnt/cropmaskperm/landsat-clear-scenes-2005/train/LT050320312005040601T1-SC20190418222326_tile_2048_4608/image/LT050320312005040601T1-SC20190418222326_tile_2048_4608.tif is a low contrast image\n",
      "  warn('%s is a low contrast image' % fname)\n",
      "/data/anaconda/envs/cropmask/lib/python3.7/site-packages/skimage/io/_io.py:141: UserWarning: /mnt/cropmaskperm/landsat-clear-scenes-2005/train/LT050320312005040601T1-SC20190418222326_tile_2048_512/image/LT050320312005040601T1-SC20190418222326_tile_2048_512.tif is a low contrast image\n",
      "  warn('%s is a low contrast image' % fname)\n",
      "/data/anaconda/envs/cropmask/lib/python3.7/site-packages/skimage/io/_io.py:141: UserWarning: /mnt/cropmaskperm/landsat-clear-scenes-2005/train/LT050320312005040601T1-SC20190418222326_tile_2048_5120/image/LT050320312005040601T1-SC20190418222326_tile_2048_5120.tif is a low contrast image\n",
      "  warn('%s is a low contrast image' % fname)\n",
      "/data/anaconda/envs/cropmask/lib/python3.7/site-packages/skimage/io/_io.py:141: UserWarning: /mnt/cropmaskperm/landsat-clear-scenes-2005/train/LT050320312005040601T1-SC20190418222326_tile_2048_5632/image/LT050320312005040601T1-SC20190418222326_tile_2048_5632.tif is a low contrast image\n",
      "  warn('%s is a low contrast image' % fname)\n",
      "/data/anaconda/envs/cropmask/lib/python3.7/site-packages/skimage/io/_io.py:141: UserWarning: /mnt/cropmaskperm/landsat-clear-scenes-2005/train/LT050320312005040601T1-SC20190418222326_tile_2560_0/image/LT050320312005040601T1-SC20190418222326_tile_2560_0.tif is a low contrast image\n",
      "  warn('%s is a low contrast image' % fname)\n"
     ]
    },
    {
     "name": "stdout",
     "output_type": "stream",
     "text": [
      "removed scene and label, 0.02% bad data\n"
     ]
    },
    {
     "name": "stderr",
     "output_type": "stream",
     "text": [
      "/data/anaconda/envs/cropmask/lib/python3.7/site-packages/skimage/io/_io.py:141: UserWarning: /mnt/cropmaskperm/landsat-clear-scenes-2005/train/LT050320312005040601T1-SC20190418222326_tile_2560_1024/image/LT050320312005040601T1-SC20190418222326_tile_2560_1024.tif is a low contrast image\n",
      "  warn('%s is a low contrast image' % fname)\n",
      "/data/anaconda/envs/cropmask/lib/python3.7/site-packages/skimage/io/_io.py:141: UserWarning: /mnt/cropmaskperm/landsat-clear-scenes-2005/train/LT050320312005040601T1-SC20190418222326_tile_2560_1536/image/LT050320312005040601T1-SC20190418222326_tile_2560_1536.tif is a low contrast image\n",
      "  warn('%s is a low contrast image' % fname)\n",
      "/data/anaconda/envs/cropmask/lib/python3.7/site-packages/skimage/io/_io.py:141: UserWarning: /mnt/cropmaskperm/landsat-clear-scenes-2005/train/LT050320312005040601T1-SC20190418222326_tile_2560_2048/image/LT050320312005040601T1-SC20190418222326_tile_2560_2048.tif is a low contrast image\n",
      "  warn('%s is a low contrast image' % fname)\n",
      "/data/anaconda/envs/cropmask/lib/python3.7/site-packages/skimage/io/_io.py:141: UserWarning: /mnt/cropmaskperm/landsat-clear-scenes-2005/train/LT050320312005040601T1-SC20190418222326_tile_2560_2560/image/LT050320312005040601T1-SC20190418222326_tile_2560_2560.tif is a low contrast image\n",
      "  warn('%s is a low contrast image' % fname)\n",
      "/data/anaconda/envs/cropmask/lib/python3.7/site-packages/skimage/io/_io.py:141: UserWarning: /mnt/cropmaskperm/landsat-clear-scenes-2005/train/LT050320312005040601T1-SC20190418222326_tile_2560_3072/image/LT050320312005040601T1-SC20190418222326_tile_2560_3072.tif is a low contrast image\n",
      "  warn('%s is a low contrast image' % fname)\n",
      "/data/anaconda/envs/cropmask/lib/python3.7/site-packages/skimage/io/_io.py:141: UserWarning: /mnt/cropmaskperm/landsat-clear-scenes-2005/train/LT050320312005040601T1-SC20190418222326_tile_2560_3584/image/LT050320312005040601T1-SC20190418222326_tile_2560_3584.tif is a low contrast image\n",
      "  warn('%s is a low contrast image' % fname)\n",
      "/data/anaconda/envs/cropmask/lib/python3.7/site-packages/skimage/io/_io.py:141: UserWarning: /mnt/cropmaskperm/landsat-clear-scenes-2005/train/LT050320312005040601T1-SC20190418222326_tile_2560_4096/image/LT050320312005040601T1-SC20190418222326_tile_2560_4096.tif is a low contrast image\n",
      "  warn('%s is a low contrast image' % fname)\n",
      "/data/anaconda/envs/cropmask/lib/python3.7/site-packages/skimage/io/_io.py:141: UserWarning: /mnt/cropmaskperm/landsat-clear-scenes-2005/train/LT050320312005040601T1-SC20190418222326_tile_2560_4608/image/LT050320312005040601T1-SC20190418222326_tile_2560_4608.tif is a low contrast image\n",
      "  warn('%s is a low contrast image' % fname)\n",
      "/data/anaconda/envs/cropmask/lib/python3.7/site-packages/skimage/io/_io.py:141: UserWarning: /mnt/cropmaskperm/landsat-clear-scenes-2005/train/LT050320312005040601T1-SC20190418222326_tile_2560_512/image/LT050320312005040601T1-SC20190418222326_tile_2560_512.tif is a low contrast image\n",
      "  warn('%s is a low contrast image' % fname)\n",
      "/data/anaconda/envs/cropmask/lib/python3.7/site-packages/skimage/io/_io.py:141: UserWarning: /mnt/cropmaskperm/landsat-clear-scenes-2005/train/LT050320312005040601T1-SC20190418222326_tile_2560_5120/image/LT050320312005040601T1-SC20190418222326_tile_2560_5120.tif is a low contrast image\n",
      "  warn('%s is a low contrast image' % fname)\n",
      "/data/anaconda/envs/cropmask/lib/python3.7/site-packages/skimage/io/_io.py:141: UserWarning: /mnt/cropmaskperm/landsat-clear-scenes-2005/train/LT050320312005040601T1-SC20190418222326_tile_2560_5632/image/LT050320312005040601T1-SC20190418222326_tile_2560_5632.tif is a low contrast image\n",
      "  warn('%s is a low contrast image' % fname)\n",
      "/data/anaconda/envs/cropmask/lib/python3.7/site-packages/skimage/io/_io.py:141: UserWarning: /mnt/cropmaskperm/landsat-clear-scenes-2005/train/LT050320312005040601T1-SC20190418222326_tile_3072_0/image/LT050320312005040601T1-SC20190418222326_tile_3072_0.tif is a low contrast image\n",
      "  warn('%s is a low contrast image' % fname)\n"
     ]
    },
    {
     "name": "stdout",
     "output_type": "stream",
     "text": [
      "removed scene and label, 0.02% bad data\n"
     ]
    },
    {
     "name": "stderr",
     "output_type": "stream",
     "text": [
      "/data/anaconda/envs/cropmask/lib/python3.7/site-packages/skimage/io/_io.py:141: UserWarning: /mnt/cropmaskperm/landsat-clear-scenes-2005/train/LT050320312005040601T1-SC20190418222326_tile_3072_1024/image/LT050320312005040601T1-SC20190418222326_tile_3072_1024.tif is a low contrast image\n",
      "  warn('%s is a low contrast image' % fname)\n",
      "/data/anaconda/envs/cropmask/lib/python3.7/site-packages/skimage/io/_io.py:141: UserWarning: /mnt/cropmaskperm/landsat-clear-scenes-2005/train/LT050320312005040601T1-SC20190418222326_tile_3072_1536/image/LT050320312005040601T1-SC20190418222326_tile_3072_1536.tif is a low contrast image\n",
      "  warn('%s is a low contrast image' % fname)\n",
      "/data/anaconda/envs/cropmask/lib/python3.7/site-packages/skimage/io/_io.py:141: UserWarning: /mnt/cropmaskperm/landsat-clear-scenes-2005/train/LT050320312005040601T1-SC20190418222326_tile_3072_2048/image/LT050320312005040601T1-SC20190418222326_tile_3072_2048.tif is a low contrast image\n",
      "  warn('%s is a low contrast image' % fname)\n",
      "/data/anaconda/envs/cropmask/lib/python3.7/site-packages/skimage/io/_io.py:141: UserWarning: /mnt/cropmaskperm/landsat-clear-scenes-2005/train/LT050320312005040601T1-SC20190418222326_tile_3072_2560/image/LT050320312005040601T1-SC20190418222326_tile_3072_2560.tif is a low contrast image\n",
      "  warn('%s is a low contrast image' % fname)\n",
      "/data/anaconda/envs/cropmask/lib/python3.7/site-packages/skimage/io/_io.py:141: UserWarning: /mnt/cropmaskperm/landsat-clear-scenes-2005/train/LT050320312005040601T1-SC20190418222326_tile_3072_3072/image/LT050320312005040601T1-SC20190418222326_tile_3072_3072.tif is a low contrast image\n",
      "  warn('%s is a low contrast image' % fname)\n",
      "/data/anaconda/envs/cropmask/lib/python3.7/site-packages/skimage/io/_io.py:141: UserWarning: /mnt/cropmaskperm/landsat-clear-scenes-2005/train/LT050320312005040601T1-SC20190418222326_tile_3072_3584/image/LT050320312005040601T1-SC20190418222326_tile_3072_3584.tif is a low contrast image\n",
      "  warn('%s is a low contrast image' % fname)\n",
      "/data/anaconda/envs/cropmask/lib/python3.7/site-packages/skimage/io/_io.py:141: UserWarning: /mnt/cropmaskperm/landsat-clear-scenes-2005/train/LT050320312005040601T1-SC20190418222326_tile_3072_4096/image/LT050320312005040601T1-SC20190418222326_tile_3072_4096.tif is a low contrast image\n",
      "  warn('%s is a low contrast image' % fname)\n",
      "/data/anaconda/envs/cropmask/lib/python3.7/site-packages/skimage/io/_io.py:141: UserWarning: /mnt/cropmaskperm/landsat-clear-scenes-2005/train/LT050320312005040601T1-SC20190418222326_tile_3072_4608/image/LT050320312005040601T1-SC20190418222326_tile_3072_4608.tif is a low contrast image\n",
      "  warn('%s is a low contrast image' % fname)\n",
      "/data/anaconda/envs/cropmask/lib/python3.7/site-packages/skimage/io/_io.py:141: UserWarning: /mnt/cropmaskperm/landsat-clear-scenes-2005/train/LT050320312005040601T1-SC20190418222326_tile_3072_512/image/LT050320312005040601T1-SC20190418222326_tile_3072_512.tif is a low contrast image\n",
      "  warn('%s is a low contrast image' % fname)\n",
      "/data/anaconda/envs/cropmask/lib/python3.7/site-packages/skimage/io/_io.py:141: UserWarning: /mnt/cropmaskperm/landsat-clear-scenes-2005/train/LT050320312005040601T1-SC20190418222326_tile_3072_5120/image/LT050320312005040601T1-SC20190418222326_tile_3072_5120.tif is a low contrast image\n",
      "  warn('%s is a low contrast image' % fname)\n",
      "/data/anaconda/envs/cropmask/lib/python3.7/site-packages/skimage/io/_io.py:141: UserWarning: /mnt/cropmaskperm/landsat-clear-scenes-2005/train/LT050320312005040601T1-SC20190418222326_tile_3072_5632/image/LT050320312005040601T1-SC20190418222326_tile_3072_5632.tif is a low contrast image\n",
      "  warn('%s is a low contrast image' % fname)\n",
      "/data/anaconda/envs/cropmask/lib/python3.7/site-packages/skimage/io/_io.py:141: UserWarning: /mnt/cropmaskperm/landsat-clear-scenes-2005/train/LT050320312005040601T1-SC20190418222326_tile_3584_0/image/LT050320312005040601T1-SC20190418222326_tile_3584_0.tif is a low contrast image\n",
      "  warn('%s is a low contrast image' % fname)\n"
     ]
    },
    {
     "name": "stdout",
     "output_type": "stream",
     "text": [
      "removed scene and label, 0.02% bad data\n"
     ]
    },
    {
     "name": "stderr",
     "output_type": "stream",
     "text": [
      "/data/anaconda/envs/cropmask/lib/python3.7/site-packages/skimage/io/_io.py:141: UserWarning: /mnt/cropmaskperm/landsat-clear-scenes-2005/train/LT050320312005040601T1-SC20190418222326_tile_3584_1024/image/LT050320312005040601T1-SC20190418222326_tile_3584_1024.tif is a low contrast image\n",
      "  warn('%s is a low contrast image' % fname)\n",
      "/data/anaconda/envs/cropmask/lib/python3.7/site-packages/skimage/io/_io.py:141: UserWarning: /mnt/cropmaskperm/landsat-clear-scenes-2005/train/LT050320312005040601T1-SC20190418222326_tile_3584_1536/image/LT050320312005040601T1-SC20190418222326_tile_3584_1536.tif is a low contrast image\n",
      "  warn('%s is a low contrast image' % fname)\n",
      "/data/anaconda/envs/cropmask/lib/python3.7/site-packages/skimage/io/_io.py:141: UserWarning: /mnt/cropmaskperm/landsat-clear-scenes-2005/train/LT050320312005040601T1-SC20190418222326_tile_3584_2048/image/LT050320312005040601T1-SC20190418222326_tile_3584_2048.tif is a low contrast image\n",
      "  warn('%s is a low contrast image' % fname)\n",
      "/data/anaconda/envs/cropmask/lib/python3.7/site-packages/skimage/io/_io.py:141: UserWarning: /mnt/cropmaskperm/landsat-clear-scenes-2005/train/LT050320312005040601T1-SC20190418222326_tile_3584_2560/image/LT050320312005040601T1-SC20190418222326_tile_3584_2560.tif is a low contrast image\n",
      "  warn('%s is a low contrast image' % fname)\n",
      "/data/anaconda/envs/cropmask/lib/python3.7/site-packages/skimage/io/_io.py:141: UserWarning: /mnt/cropmaskperm/landsat-clear-scenes-2005/train/LT050320312005040601T1-SC20190418222326_tile_3584_3072/image/LT050320312005040601T1-SC20190418222326_tile_3584_3072.tif is a low contrast image\n",
      "  warn('%s is a low contrast image' % fname)\n",
      "/data/anaconda/envs/cropmask/lib/python3.7/site-packages/skimage/io/_io.py:141: UserWarning: /mnt/cropmaskperm/landsat-clear-scenes-2005/train/LT050320312005040601T1-SC20190418222326_tile_3584_3584/image/LT050320312005040601T1-SC20190418222326_tile_3584_3584.tif is a low contrast image\n",
      "  warn('%s is a low contrast image' % fname)\n",
      "/data/anaconda/envs/cropmask/lib/python3.7/site-packages/skimage/io/_io.py:141: UserWarning: /mnt/cropmaskperm/landsat-clear-scenes-2005/train/LT050320312005040601T1-SC20190418222326_tile_3584_4096/image/LT050320312005040601T1-SC20190418222326_tile_3584_4096.tif is a low contrast image\n",
      "  warn('%s is a low contrast image' % fname)\n",
      "/data/anaconda/envs/cropmask/lib/python3.7/site-packages/skimage/io/_io.py:141: UserWarning: /mnt/cropmaskperm/landsat-clear-scenes-2005/train/LT050320312005040601T1-SC20190418222326_tile_3584_4608/image/LT050320312005040601T1-SC20190418222326_tile_3584_4608.tif is a low contrast image\n",
      "  warn('%s is a low contrast image' % fname)\n",
      "/data/anaconda/envs/cropmask/lib/python3.7/site-packages/skimage/io/_io.py:141: UserWarning: /mnt/cropmaskperm/landsat-clear-scenes-2005/train/LT050320312005040601T1-SC20190418222326_tile_3584_512/image/LT050320312005040601T1-SC20190418222326_tile_3584_512.tif is a low contrast image\n",
      "  warn('%s is a low contrast image' % fname)\n",
      "/data/anaconda/envs/cropmask/lib/python3.7/site-packages/skimage/io/_io.py:141: UserWarning: /mnt/cropmaskperm/landsat-clear-scenes-2005/train/LT050320312005040601T1-SC20190418222326_tile_3584_5120/image/LT050320312005040601T1-SC20190418222326_tile_3584_5120.tif is a low contrast image\n",
      "  warn('%s is a low contrast image' % fname)\n",
      "/data/anaconda/envs/cropmask/lib/python3.7/site-packages/skimage/io/_io.py:141: UserWarning: /mnt/cropmaskperm/landsat-clear-scenes-2005/train/LT050320312005040601T1-SC20190418222326_tile_3584_5632/image/LT050320312005040601T1-SC20190418222326_tile_3584_5632.tif is a low contrast image\n",
      "  warn('%s is a low contrast image' % fname)\n",
      "/data/anaconda/envs/cropmask/lib/python3.7/site-packages/skimage/io/_io.py:141: UserWarning: /mnt/cropmaskperm/landsat-clear-scenes-2005/train/LT050320312005040601T1-SC20190418222326_tile_4096_0/image/LT050320312005040601T1-SC20190418222326_tile_4096_0.tif is a low contrast image\n",
      "  warn('%s is a low contrast image' % fname)\n"
     ]
    },
    {
     "name": "stdout",
     "output_type": "stream",
     "text": [
      "removed scene and label, 0.02% bad data\n"
     ]
    },
    {
     "name": "stderr",
     "output_type": "stream",
     "text": [
      "/data/anaconda/envs/cropmask/lib/python3.7/site-packages/skimage/io/_io.py:141: UserWarning: /mnt/cropmaskperm/landsat-clear-scenes-2005/train/LT050320312005040601T1-SC20190418222326_tile_4096_1024/image/LT050320312005040601T1-SC20190418222326_tile_4096_1024.tif is a low contrast image\n",
      "  warn('%s is a low contrast image' % fname)\n",
      "/data/anaconda/envs/cropmask/lib/python3.7/site-packages/skimage/io/_io.py:141: UserWarning: /mnt/cropmaskperm/landsat-clear-scenes-2005/train/LT050320312005040601T1-SC20190418222326_tile_4096_1536/image/LT050320312005040601T1-SC20190418222326_tile_4096_1536.tif is a low contrast image\n",
      "  warn('%s is a low contrast image' % fname)\n",
      "/data/anaconda/envs/cropmask/lib/python3.7/site-packages/skimage/io/_io.py:141: UserWarning: /mnt/cropmaskperm/landsat-clear-scenes-2005/train/LT050320312005040601T1-SC20190418222326_tile_4096_2048/image/LT050320312005040601T1-SC20190418222326_tile_4096_2048.tif is a low contrast image\n",
      "  warn('%s is a low contrast image' % fname)\n",
      "/data/anaconda/envs/cropmask/lib/python3.7/site-packages/skimage/io/_io.py:141: UserWarning: /mnt/cropmaskperm/landsat-clear-scenes-2005/train/LT050320312005040601T1-SC20190418222326_tile_4096_2560/image/LT050320312005040601T1-SC20190418222326_tile_4096_2560.tif is a low contrast image\n",
      "  warn('%s is a low contrast image' % fname)\n",
      "/data/anaconda/envs/cropmask/lib/python3.7/site-packages/skimage/io/_io.py:141: UserWarning: /mnt/cropmaskperm/landsat-clear-scenes-2005/train/LT050320312005040601T1-SC20190418222326_tile_4096_3072/image/LT050320312005040601T1-SC20190418222326_tile_4096_3072.tif is a low contrast image\n",
      "  warn('%s is a low contrast image' % fname)\n",
      "/data/anaconda/envs/cropmask/lib/python3.7/site-packages/skimage/io/_io.py:141: UserWarning: /mnt/cropmaskperm/landsat-clear-scenes-2005/train/LT050320312005040601T1-SC20190418222326_tile_4096_3584/image/LT050320312005040601T1-SC20190418222326_tile_4096_3584.tif is a low contrast image\n",
      "  warn('%s is a low contrast image' % fname)\n",
      "/data/anaconda/envs/cropmask/lib/python3.7/site-packages/skimage/io/_io.py:141: UserWarning: /mnt/cropmaskperm/landsat-clear-scenes-2005/train/LT050320312005040601T1-SC20190418222326_tile_4096_4096/image/LT050320312005040601T1-SC20190418222326_tile_4096_4096.tif is a low contrast image\n",
      "  warn('%s is a low contrast image' % fname)\n",
      "/data/anaconda/envs/cropmask/lib/python3.7/site-packages/skimage/io/_io.py:141: UserWarning: /mnt/cropmaskperm/landsat-clear-scenes-2005/train/LT050320312005040601T1-SC20190418222326_tile_4096_4608/image/LT050320312005040601T1-SC20190418222326_tile_4096_4608.tif is a low contrast image\n",
      "  warn('%s is a low contrast image' % fname)\n",
      "/data/anaconda/envs/cropmask/lib/python3.7/site-packages/skimage/io/_io.py:141: UserWarning: /mnt/cropmaskperm/landsat-clear-scenes-2005/train/LT050320312005040601T1-SC20190418222326_tile_4096_512/image/LT050320312005040601T1-SC20190418222326_tile_4096_512.tif is a low contrast image\n",
      "  warn('%s is a low contrast image' % fname)\n"
     ]
    },
    {
     "name": "stdout",
     "output_type": "stream",
     "text": [
      "removed scene and label, 0.02% bad data\n"
     ]
    },
    {
     "name": "stderr",
     "output_type": "stream",
     "text": [
      "/data/anaconda/envs/cropmask/lib/python3.7/site-packages/skimage/io/_io.py:141: UserWarning: /mnt/cropmaskperm/landsat-clear-scenes-2005/train/LT050320312005040601T1-SC20190418222326_tile_4096_5120/image/LT050320312005040601T1-SC20190418222326_tile_4096_5120.tif is a low contrast image\n",
      "  warn('%s is a low contrast image' % fname)\n",
      "/data/anaconda/envs/cropmask/lib/python3.7/site-packages/skimage/io/_io.py:141: UserWarning: /mnt/cropmaskperm/landsat-clear-scenes-2005/train/LT050320312005040601T1-SC20190418222326_tile_4096_5632/image/LT050320312005040601T1-SC20190418222326_tile_4096_5632.tif is a low contrast image\n",
      "  warn('%s is a low contrast image' % fname)\n",
      "/data/anaconda/envs/cropmask/lib/python3.7/site-packages/skimage/io/_io.py:141: UserWarning: /mnt/cropmaskperm/landsat-clear-scenes-2005/train/LT050320312005040601T1-SC20190418222326_tile_4608_0/image/LT050320312005040601T1-SC20190418222326_tile_4608_0.tif is a low contrast image\n",
      "  warn('%s is a low contrast image' % fname)\n"
     ]
    },
    {
     "name": "stdout",
     "output_type": "stream",
     "text": [
      "removed scene and label, 0.02% bad data\n"
     ]
    },
    {
     "name": "stderr",
     "output_type": "stream",
     "text": [
      "/data/anaconda/envs/cropmask/lib/python3.7/site-packages/skimage/io/_io.py:141: UserWarning: /mnt/cropmaskperm/landsat-clear-scenes-2005/train/LT050320312005040601T1-SC20190418222326_tile_4608_1024/image/LT050320312005040601T1-SC20190418222326_tile_4608_1024.tif is a low contrast image\n",
      "  warn('%s is a low contrast image' % fname)\n",
      "/data/anaconda/envs/cropmask/lib/python3.7/site-packages/skimage/io/_io.py:141: UserWarning: /mnt/cropmaskperm/landsat-clear-scenes-2005/train/LT050320312005040601T1-SC20190418222326_tile_4608_1536/image/LT050320312005040601T1-SC20190418222326_tile_4608_1536.tif is a low contrast image\n",
      "  warn('%s is a low contrast image' % fname)\n",
      "/data/anaconda/envs/cropmask/lib/python3.7/site-packages/skimage/io/_io.py:141: UserWarning: /mnt/cropmaskperm/landsat-clear-scenes-2005/train/LT050320312005040601T1-SC20190418222326_tile_4608_2048/image/LT050320312005040601T1-SC20190418222326_tile_4608_2048.tif is a low contrast image\n",
      "  warn('%s is a low contrast image' % fname)\n",
      "/data/anaconda/envs/cropmask/lib/python3.7/site-packages/skimage/io/_io.py:141: UserWarning: /mnt/cropmaskperm/landsat-clear-scenes-2005/train/LT050320312005040601T1-SC20190418222326_tile_4608_2560/image/LT050320312005040601T1-SC20190418222326_tile_4608_2560.tif is a low contrast image\n",
      "  warn('%s is a low contrast image' % fname)\n",
      "/data/anaconda/envs/cropmask/lib/python3.7/site-packages/skimage/io/_io.py:141: UserWarning: /mnt/cropmaskperm/landsat-clear-scenes-2005/train/LT050320312005040601T1-SC20190418222326_tile_4608_3072/image/LT050320312005040601T1-SC20190418222326_tile_4608_3072.tif is a low contrast image\n",
      "  warn('%s is a low contrast image' % fname)\n",
      "/data/anaconda/envs/cropmask/lib/python3.7/site-packages/skimage/io/_io.py:141: UserWarning: /mnt/cropmaskperm/landsat-clear-scenes-2005/train/LT050320312005040601T1-SC20190418222326_tile_4608_3584/image/LT050320312005040601T1-SC20190418222326_tile_4608_3584.tif is a low contrast image\n",
      "  warn('%s is a low contrast image' % fname)\n",
      "/data/anaconda/envs/cropmask/lib/python3.7/site-packages/skimage/io/_io.py:141: UserWarning: /mnt/cropmaskperm/landsat-clear-scenes-2005/train/LT050320312005040601T1-SC20190418222326_tile_4608_4096/image/LT050320312005040601T1-SC20190418222326_tile_4608_4096.tif is a low contrast image\n",
      "  warn('%s is a low contrast image' % fname)\n",
      "/data/anaconda/envs/cropmask/lib/python3.7/site-packages/skimage/io/_io.py:141: UserWarning: /mnt/cropmaskperm/landsat-clear-scenes-2005/train/LT050320312005040601T1-SC20190418222326_tile_4608_4608/image/LT050320312005040601T1-SC20190418222326_tile_4608_4608.tif is a low contrast image\n",
      "  warn('%s is a low contrast image' % fname)\n",
      "/data/anaconda/envs/cropmask/lib/python3.7/site-packages/skimage/io/_io.py:141: UserWarning: /mnt/cropmaskperm/landsat-clear-scenes-2005/train/LT050320312005040601T1-SC20190418222326_tile_4608_512/image/LT050320312005040601T1-SC20190418222326_tile_4608_512.tif is a low contrast image\n",
      "  warn('%s is a low contrast image' % fname)\n"
     ]
    },
    {
     "name": "stdout",
     "output_type": "stream",
     "text": [
      "removed scene and label, 0.02% bad data\n"
     ]
    },
    {
     "name": "stderr",
     "output_type": "stream",
     "text": [
      "/data/anaconda/envs/cropmask/lib/python3.7/site-packages/skimage/io/_io.py:141: UserWarning: /mnt/cropmaskperm/landsat-clear-scenes-2005/train/LT050320312005040601T1-SC20190418222326_tile_4608_5120/image/LT050320312005040601T1-SC20190418222326_tile_4608_5120.tif is a low contrast image\n",
      "  warn('%s is a low contrast image' % fname)\n",
      "/data/anaconda/envs/cropmask/lib/python3.7/site-packages/skimage/io/_io.py:141: UserWarning: /mnt/cropmaskperm/landsat-clear-scenes-2005/train/LT050320312005040601T1-SC20190418222326_tile_4608_5632/image/LT050320312005040601T1-SC20190418222326_tile_4608_5632.tif is a low contrast image\n",
      "  warn('%s is a low contrast image' % fname)\n",
      "/data/anaconda/envs/cropmask/lib/python3.7/site-packages/skimage/io/_io.py:141: UserWarning: /mnt/cropmaskperm/landsat-clear-scenes-2005/train/LT050320312005040601T1-SC20190418222326_tile_4608_6144/image/LT050320312005040601T1-SC20190418222326_tile_4608_6144.tif is a low contrast image\n",
      "  warn('%s is a low contrast image' % fname)\n",
      "/data/anaconda/envs/cropmask/lib/python3.7/site-packages/skimage/io/_io.py:141: UserWarning: /mnt/cropmaskperm/landsat-clear-scenes-2005/train/LT050320312005040601T1-SC20190418222326_tile_4608_6656/image/LT050320312005040601T1-SC20190418222326_tile_4608_6656.tif is a low contrast image\n",
      "  warn('%s is a low contrast image' % fname)\n"
     ]
    },
    {
     "name": "stdout",
     "output_type": "stream",
     "text": [
      "removed scene and label, 0.02% bad data\n"
     ]
    },
    {
     "name": "stderr",
     "output_type": "stream",
     "text": [
      "/data/anaconda/envs/cropmask/lib/python3.7/site-packages/skimage/io/_io.py:141: UserWarning: /mnt/cropmaskperm/landsat-clear-scenes-2005/train/LT050320312005040601T1-SC20190418222326_tile_5120_0/image/LT050320312005040601T1-SC20190418222326_tile_5120_0.tif is a low contrast image\n",
      "  warn('%s is a low contrast image' % fname)\n"
     ]
    },
    {
     "name": "stdout",
     "output_type": "stream",
     "text": [
      "removed scene and label, 0.02% bad data\n"
     ]
    },
    {
     "name": "stderr",
     "output_type": "stream",
     "text": [
      "/data/anaconda/envs/cropmask/lib/python3.7/site-packages/skimage/io/_io.py:141: UserWarning: /mnt/cropmaskperm/landsat-clear-scenes-2005/train/LT050320312005040601T1-SC20190418222326_tile_5120_1024/image/LT050320312005040601T1-SC20190418222326_tile_5120_1024.tif is a low contrast image\n",
      "  warn('%s is a low contrast image' % fname)\n",
      "/data/anaconda/envs/cropmask/lib/python3.7/site-packages/skimage/io/_io.py:141: UserWarning: /mnt/cropmaskperm/landsat-clear-scenes-2005/train/LT050320312005040601T1-SC20190418222326_tile_5120_1536/image/LT050320312005040601T1-SC20190418222326_tile_5120_1536.tif is a low contrast image\n",
      "  warn('%s is a low contrast image' % fname)\n",
      "/data/anaconda/envs/cropmask/lib/python3.7/site-packages/skimage/io/_io.py:141: UserWarning: /mnt/cropmaskperm/landsat-clear-scenes-2005/train/LT050320312005040601T1-SC20190418222326_tile_5120_2048/image/LT050320312005040601T1-SC20190418222326_tile_5120_2048.tif is a low contrast image\n",
      "  warn('%s is a low contrast image' % fname)\n",
      "/data/anaconda/envs/cropmask/lib/python3.7/site-packages/skimage/io/_io.py:141: UserWarning: /mnt/cropmaskperm/landsat-clear-scenes-2005/train/LT050320312005040601T1-SC20190418222326_tile_5120_2560/image/LT050320312005040601T1-SC20190418222326_tile_5120_2560.tif is a low contrast image\n",
      "  warn('%s is a low contrast image' % fname)\n",
      "/data/anaconda/envs/cropmask/lib/python3.7/site-packages/skimage/io/_io.py:141: UserWarning: /mnt/cropmaskperm/landsat-clear-scenes-2005/train/LT050320312005040601T1-SC20190418222326_tile_5120_3072/image/LT050320312005040601T1-SC20190418222326_tile_5120_3072.tif is a low contrast image\n",
      "  warn('%s is a low contrast image' % fname)\n",
      "/data/anaconda/envs/cropmask/lib/python3.7/site-packages/skimage/io/_io.py:141: UserWarning: /mnt/cropmaskperm/landsat-clear-scenes-2005/train/LT050320312005040601T1-SC20190418222326_tile_5120_3584/image/LT050320312005040601T1-SC20190418222326_tile_5120_3584.tif is a low contrast image\n",
      "  warn('%s is a low contrast image' % fname)\n",
      "/data/anaconda/envs/cropmask/lib/python3.7/site-packages/skimage/io/_io.py:141: UserWarning: /mnt/cropmaskperm/landsat-clear-scenes-2005/train/LT050320312005040601T1-SC20190418222326_tile_5120_4096/image/LT050320312005040601T1-SC20190418222326_tile_5120_4096.tif is a low contrast image\n",
      "  warn('%s is a low contrast image' % fname)\n",
      "/data/anaconda/envs/cropmask/lib/python3.7/site-packages/skimage/io/_io.py:141: UserWarning: /mnt/cropmaskperm/landsat-clear-scenes-2005/train/LT050320312005040601T1-SC20190418222326_tile_5120_4608/image/LT050320312005040601T1-SC20190418222326_tile_5120_4608.tif is a low contrast image\n",
      "  warn('%s is a low contrast image' % fname)\n",
      "/data/anaconda/envs/cropmask/lib/python3.7/site-packages/skimage/io/_io.py:141: UserWarning: /mnt/cropmaskperm/landsat-clear-scenes-2005/train/LT050320312005040601T1-SC20190418222326_tile_5120_512/image/LT050320312005040601T1-SC20190418222326_tile_5120_512.tif is a low contrast image\n",
      "  warn('%s is a low contrast image' % fname)\n"
     ]
    },
    {
     "name": "stdout",
     "output_type": "stream",
     "text": [
      "removed scene and label, 0.02% bad data\n"
     ]
    },
    {
     "name": "stderr",
     "output_type": "stream",
     "text": [
      "/data/anaconda/envs/cropmask/lib/python3.7/site-packages/skimage/io/_io.py:141: UserWarning: /mnt/cropmaskperm/landsat-clear-scenes-2005/train/LT050320312005040601T1-SC20190418222326_tile_5120_5120/image/LT050320312005040601T1-SC20190418222326_tile_5120_5120.tif is a low contrast image\n",
      "  warn('%s is a low contrast image' % fname)\n",
      "/data/anaconda/envs/cropmask/lib/python3.7/site-packages/skimage/io/_io.py:141: UserWarning: /mnt/cropmaskperm/landsat-clear-scenes-2005/train/LT050320312005040601T1-SC20190418222326_tile_5120_5632/image/LT050320312005040601T1-SC20190418222326_tile_5120_5632.tif is a low contrast image\n",
      "  warn('%s is a low contrast image' % fname)\n",
      "/data/anaconda/envs/cropmask/lib/python3.7/site-packages/skimage/io/_io.py:141: UserWarning: /mnt/cropmaskperm/landsat-clear-scenes-2005/train/LT050320312005040601T1-SC20190418222326_tile_5120_6144/image/LT050320312005040601T1-SC20190418222326_tile_5120_6144.tif is a low contrast image\n",
      "  warn('%s is a low contrast image' % fname)\n",
      "/data/anaconda/envs/cropmask/lib/python3.7/site-packages/skimage/io/_io.py:141: UserWarning: /mnt/cropmaskperm/landsat-clear-scenes-2005/train/LT050320312005040601T1-SC20190418222326_tile_5120_6656/image/LT050320312005040601T1-SC20190418222326_tile_5120_6656.tif is a low contrast image\n",
      "  warn('%s is a low contrast image' % fname)\n"
     ]
    },
    {
     "name": "stdout",
     "output_type": "stream",
     "text": [
      "removed scene and label, 0.02% bad data\n"
     ]
    },
    {
     "name": "stderr",
     "output_type": "stream",
     "text": [
      "/data/anaconda/envs/cropmask/lib/python3.7/site-packages/skimage/io/_io.py:141: UserWarning: /mnt/cropmaskperm/landsat-clear-scenes-2005/train/LT050320312005040601T1-SC20190418222326_tile_512_0/image/LT050320312005040601T1-SC20190418222326_tile_512_0.tif is a low contrast image\n",
      "  warn('%s is a low contrast image' % fname)\n"
     ]
    },
    {
     "name": "stdout",
     "output_type": "stream",
     "text": [
      "removed scene and label, 0.02% bad data\n"
     ]
    },
    {
     "name": "stderr",
     "output_type": "stream",
     "text": [
      "/data/anaconda/envs/cropmask/lib/python3.7/site-packages/skimage/io/_io.py:141: UserWarning: /mnt/cropmaskperm/landsat-clear-scenes-2005/train/LT050320312005040601T1-SC20190418222326_tile_512_1024/image/LT050320312005040601T1-SC20190418222326_tile_512_1024.tif is a low contrast image\n",
      "  warn('%s is a low contrast image' % fname)\n"
     ]
    },
    {
     "name": "stdout",
     "output_type": "stream",
     "text": [
      "removed scene and label, 0.02% bad data\n"
     ]
    },
    {
     "name": "stderr",
     "output_type": "stream",
     "text": [
      "/data/anaconda/envs/cropmask/lib/python3.7/site-packages/skimage/io/_io.py:141: UserWarning: /mnt/cropmaskperm/landsat-clear-scenes-2005/train/LT050320312005040601T1-SC20190418222326_tile_512_1536/image/LT050320312005040601T1-SC20190418222326_tile_512_1536.tif is a low contrast image\n",
      "  warn('%s is a low contrast image' % fname)\n"
     ]
    },
    {
     "name": "stdout",
     "output_type": "stream",
     "text": [
      "removed scene and label, 0.02% bad data\n"
     ]
    },
    {
     "name": "stderr",
     "output_type": "stream",
     "text": [
      "/data/anaconda/envs/cropmask/lib/python3.7/site-packages/skimage/io/_io.py:141: UserWarning: /mnt/cropmaskperm/landsat-clear-scenes-2005/train/LT050320312005040601T1-SC20190418222326_tile_512_2048/image/LT050320312005040601T1-SC20190418222326_tile_512_2048.tif is a low contrast image\n",
      "  warn('%s is a low contrast image' % fname)\n"
     ]
    },
    {
     "name": "stdout",
     "output_type": "stream",
     "text": [
      "removed scene and label, 0.02% bad data\n"
     ]
    },
    {
     "name": "stderr",
     "output_type": "stream",
     "text": [
      "/data/anaconda/envs/cropmask/lib/python3.7/site-packages/skimage/io/_io.py:141: UserWarning: /mnt/cropmaskperm/landsat-clear-scenes-2005/train/LT050320312005040601T1-SC20190418222326_tile_512_2560/image/LT050320312005040601T1-SC20190418222326_tile_512_2560.tif is a low contrast image\n",
      "  warn('%s is a low contrast image' % fname)\n"
     ]
    },
    {
     "name": "stdout",
     "output_type": "stream",
     "text": [
      "removed scene and label, 0.02% bad data\n"
     ]
    },
    {
     "name": "stderr",
     "output_type": "stream",
     "text": [
      "/data/anaconda/envs/cropmask/lib/python3.7/site-packages/skimage/io/_io.py:141: UserWarning: /mnt/cropmaskperm/landsat-clear-scenes-2005/train/LT050320312005040601T1-SC20190418222326_tile_512_3072/image/LT050320312005040601T1-SC20190418222326_tile_512_3072.tif is a low contrast image\n",
      "  warn('%s is a low contrast image' % fname)\n"
     ]
    },
    {
     "name": "stdout",
     "output_type": "stream",
     "text": [
      "removed scene and label, 0.02% bad data\n"
     ]
    },
    {
     "name": "stderr",
     "output_type": "stream",
     "text": [
      "/data/anaconda/envs/cropmask/lib/python3.7/site-packages/skimage/io/_io.py:141: UserWarning: /mnt/cropmaskperm/landsat-clear-scenes-2005/train/LT050320312005040601T1-SC20190418222326_tile_512_3584/image/LT050320312005040601T1-SC20190418222326_tile_512_3584.tif is a low contrast image\n",
      "  warn('%s is a low contrast image' % fname)\n"
     ]
    },
    {
     "name": "stdout",
     "output_type": "stream",
     "text": [
      "removed scene and label, 0.02% bad data\n"
     ]
    },
    {
     "name": "stderr",
     "output_type": "stream",
     "text": [
      "/data/anaconda/envs/cropmask/lib/python3.7/site-packages/skimage/io/_io.py:141: UserWarning: /mnt/cropmaskperm/landsat-clear-scenes-2005/train/LT050320312005040601T1-SC20190418222326_tile_512_4096/image/LT050320312005040601T1-SC20190418222326_tile_512_4096.tif is a low contrast image\n",
      "  warn('%s is a low contrast image' % fname)\n"
     ]
    },
    {
     "name": "stdout",
     "output_type": "stream",
     "text": [
      "removed scene and label, 0.02% bad data\n"
     ]
    },
    {
     "name": "stderr",
     "output_type": "stream",
     "text": [
      "/data/anaconda/envs/cropmask/lib/python3.7/site-packages/skimage/io/_io.py:141: UserWarning: /mnt/cropmaskperm/landsat-clear-scenes-2005/train/LT050320312005040601T1-SC20190418222326_tile_512_4608/image/LT050320312005040601T1-SC20190418222326_tile_512_4608.tif is a low contrast image\n",
      "  warn('%s is a low contrast image' % fname)\n",
      "/data/anaconda/envs/cropmask/lib/python3.7/site-packages/skimage/io/_io.py:141: UserWarning: /mnt/cropmaskperm/landsat-clear-scenes-2005/train/LT050320312005040601T1-SC20190418222326_tile_512_512/image/LT050320312005040601T1-SC20190418222326_tile_512_512.tif is a low contrast image\n",
      "  warn('%s is a low contrast image' % fname)\n"
     ]
    },
    {
     "name": "stdout",
     "output_type": "stream",
     "text": [
      "removed scene and label, 0.02% bad data\n"
     ]
    },
    {
     "name": "stderr",
     "output_type": "stream",
     "text": [
      "/data/anaconda/envs/cropmask/lib/python3.7/site-packages/skimage/io/_io.py:141: UserWarning: /mnt/cropmaskperm/landsat-clear-scenes-2005/train/LT050320312005040601T1-SC20190418222326_tile_512_5120/image/LT050320312005040601T1-SC20190418222326_tile_512_5120.tif is a low contrast image\n",
      "  warn('%s is a low contrast image' % fname)\n",
      "/data/anaconda/envs/cropmask/lib/python3.7/site-packages/skimage/io/_io.py:141: UserWarning: /mnt/cropmaskperm/landsat-clear-scenes-2005/train/LT050320312005040601T1-SC20190418222326_tile_512_5632/image/LT050320312005040601T1-SC20190418222326_tile_512_5632.tif is a low contrast image\n",
      "  warn('%s is a low contrast image' % fname)\n"
     ]
    },
    {
     "name": "stdout",
     "output_type": "stream",
     "text": [
      "removed scene and label, 0.02% bad data\n"
     ]
    },
    {
     "name": "stderr",
     "output_type": "stream",
     "text": [
      "/data/anaconda/envs/cropmask/lib/python3.7/site-packages/skimage/io/_io.py:141: UserWarning: /mnt/cropmaskperm/landsat-clear-scenes-2005/train/LT050320312005040601T1-SC20190418222326_tile_5632_0/image/LT050320312005040601T1-SC20190418222326_tile_5632_0.tif is a low contrast image\n",
      "  warn('%s is a low contrast image' % fname)\n"
     ]
    },
    {
     "name": "stdout",
     "output_type": "stream",
     "text": [
      "removed scene and label, 0.02% bad data\n"
     ]
    },
    {
     "name": "stderr",
     "output_type": "stream",
     "text": [
      "/data/anaconda/envs/cropmask/lib/python3.7/site-packages/skimage/io/_io.py:141: UserWarning: /mnt/cropmaskperm/landsat-clear-scenes-2005/train/LT050320312005040601T1-SC20190418222326_tile_5632_1024/image/LT050320312005040601T1-SC20190418222326_tile_5632_1024.tif is a low contrast image\n",
      "  warn('%s is a low contrast image' % fname)\n",
      "/data/anaconda/envs/cropmask/lib/python3.7/site-packages/skimage/io/_io.py:141: UserWarning: /mnt/cropmaskperm/landsat-clear-scenes-2005/train/LT050320312005040601T1-SC20190418222326_tile_5632_1536/image/LT050320312005040601T1-SC20190418222326_tile_5632_1536.tif is a low contrast image\n",
      "  warn('%s is a low contrast image' % fname)\n",
      "/data/anaconda/envs/cropmask/lib/python3.7/site-packages/skimage/io/_io.py:141: UserWarning: /mnt/cropmaskperm/landsat-clear-scenes-2005/train/LT050320312005040601T1-SC20190418222326_tile_5632_2048/image/LT050320312005040601T1-SC20190418222326_tile_5632_2048.tif is a low contrast image\n",
      "  warn('%s is a low contrast image' % fname)\n",
      "/data/anaconda/envs/cropmask/lib/python3.7/site-packages/skimage/io/_io.py:141: UserWarning: /mnt/cropmaskperm/landsat-clear-scenes-2005/train/LT050320312005040601T1-SC20190418222326_tile_5632_2560/image/LT050320312005040601T1-SC20190418222326_tile_5632_2560.tif is a low contrast image\n",
      "  warn('%s is a low contrast image' % fname)\n",
      "/data/anaconda/envs/cropmask/lib/python3.7/site-packages/skimage/io/_io.py:141: UserWarning: /mnt/cropmaskperm/landsat-clear-scenes-2005/train/LT050320312005040601T1-SC20190418222326_tile_5632_3072/image/LT050320312005040601T1-SC20190418222326_tile_5632_3072.tif is a low contrast image\n",
      "  warn('%s is a low contrast image' % fname)\n",
      "/data/anaconda/envs/cropmask/lib/python3.7/site-packages/skimage/io/_io.py:141: UserWarning: /mnt/cropmaskperm/landsat-clear-scenes-2005/train/LT050320312005040601T1-SC20190418222326_tile_5632_3584/image/LT050320312005040601T1-SC20190418222326_tile_5632_3584.tif is a low contrast image\n",
      "  warn('%s is a low contrast image' % fname)\n",
      "/data/anaconda/envs/cropmask/lib/python3.7/site-packages/skimage/io/_io.py:141: UserWarning: /mnt/cropmaskperm/landsat-clear-scenes-2005/train/LT050320312005040601T1-SC20190418222326_tile_5632_4096/image/LT050320312005040601T1-SC20190418222326_tile_5632_4096.tif is a low contrast image\n",
      "  warn('%s is a low contrast image' % fname)\n",
      "/data/anaconda/envs/cropmask/lib/python3.7/site-packages/skimage/io/_io.py:141: UserWarning: /mnt/cropmaskperm/landsat-clear-scenes-2005/train/LT050320312005040601T1-SC20190418222326_tile_5632_4608/image/LT050320312005040601T1-SC20190418222326_tile_5632_4608.tif is a low contrast image\n",
      "  warn('%s is a low contrast image' % fname)\n",
      "/data/anaconda/envs/cropmask/lib/python3.7/site-packages/skimage/io/_io.py:141: UserWarning: /mnt/cropmaskperm/landsat-clear-scenes-2005/train/LT050320312005040601T1-SC20190418222326_tile_5632_512/image/LT050320312005040601T1-SC20190418222326_tile_5632_512.tif is a low contrast image\n",
      "  warn('%s is a low contrast image' % fname)\n"
     ]
    },
    {
     "name": "stdout",
     "output_type": "stream",
     "text": [
      "removed scene and label, 0.02% bad data\n"
     ]
    },
    {
     "name": "stderr",
     "output_type": "stream",
     "text": [
      "/data/anaconda/envs/cropmask/lib/python3.7/site-packages/skimage/io/_io.py:141: UserWarning: /mnt/cropmaskperm/landsat-clear-scenes-2005/train/LT050320312005040601T1-SC20190418222326_tile_5632_5120/image/LT050320312005040601T1-SC20190418222326_tile_5632_5120.tif is a low contrast image\n",
      "  warn('%s is a low contrast image' % fname)\n",
      "/data/anaconda/envs/cropmask/lib/python3.7/site-packages/skimage/io/_io.py:141: UserWarning: /mnt/cropmaskperm/landsat-clear-scenes-2005/train/LT050320312005040601T1-SC20190418222326_tile_5632_5632/image/LT050320312005040601T1-SC20190418222326_tile_5632_5632.tif is a low contrast image\n",
      "  warn('%s is a low contrast image' % fname)\n",
      "/data/anaconda/envs/cropmask/lib/python3.7/site-packages/skimage/io/_io.py:141: UserWarning: /mnt/cropmaskperm/landsat-clear-scenes-2005/train/LT050320312005040601T1-SC20190418222326_tile_5632_6144/image/LT050320312005040601T1-SC20190418222326_tile_5632_6144.tif is a low contrast image\n",
      "  warn('%s is a low contrast image' % fname)\n",
      "/data/anaconda/envs/cropmask/lib/python3.7/site-packages/skimage/io/_io.py:141: UserWarning: /mnt/cropmaskperm/landsat-clear-scenes-2005/train/LT050320312005040601T1-SC20190418222326_tile_5632_6656/image/LT050320312005040601T1-SC20190418222326_tile_5632_6656.tif is a low contrast image\n",
      "  warn('%s is a low contrast image' % fname)\n"
     ]
    },
    {
     "name": "stdout",
     "output_type": "stream",
     "text": [
      "removed scene and label, 0.02% bad data\n"
     ]
    },
    {
     "name": "stderr",
     "output_type": "stream",
     "text": [
      "/data/anaconda/envs/cropmask/lib/python3.7/site-packages/skimage/io/_io.py:141: UserWarning: /mnt/cropmaskperm/landsat-clear-scenes-2005/train/LT050320312005040601T1-SC20190418222326_tile_6144_0/image/LT050320312005040601T1-SC20190418222326_tile_6144_0.tif is a low contrast image\n",
      "  warn('%s is a low contrast image' % fname)\n"
     ]
    },
    {
     "name": "stdout",
     "output_type": "stream",
     "text": [
      "removed scene and label, 0.02% bad data\n"
     ]
    },
    {
     "name": "stderr",
     "output_type": "stream",
     "text": [
      "/data/anaconda/envs/cropmask/lib/python3.7/site-packages/skimage/io/_io.py:141: UserWarning: /mnt/cropmaskperm/landsat-clear-scenes-2005/train/LT050320312005040601T1-SC20190418222326_tile_6144_1024/image/LT050320312005040601T1-SC20190418222326_tile_6144_1024.tif is a low contrast image\n",
      "  warn('%s is a low contrast image' % fname)\n",
      "/data/anaconda/envs/cropmask/lib/python3.7/site-packages/skimage/io/_io.py:141: UserWarning: /mnt/cropmaskperm/landsat-clear-scenes-2005/train/LT050320312005040601T1-SC20190418222326_tile_6144_1536/image/LT050320312005040601T1-SC20190418222326_tile_6144_1536.tif is a low contrast image\n",
      "  warn('%s is a low contrast image' % fname)\n",
      "/data/anaconda/envs/cropmask/lib/python3.7/site-packages/skimage/io/_io.py:141: UserWarning: /mnt/cropmaskperm/landsat-clear-scenes-2005/train/LT050320312005040601T1-SC20190418222326_tile_6144_2048/image/LT050320312005040601T1-SC20190418222326_tile_6144_2048.tif is a low contrast image\n",
      "  warn('%s is a low contrast image' % fname)\n",
      "/data/anaconda/envs/cropmask/lib/python3.7/site-packages/skimage/io/_io.py:141: UserWarning: /mnt/cropmaskperm/landsat-clear-scenes-2005/train/LT050320312005040601T1-SC20190418222326_tile_6144_2560/image/LT050320312005040601T1-SC20190418222326_tile_6144_2560.tif is a low contrast image\n",
      "  warn('%s is a low contrast image' % fname)\n",
      "/data/anaconda/envs/cropmask/lib/python3.7/site-packages/skimage/io/_io.py:141: UserWarning: /mnt/cropmaskperm/landsat-clear-scenes-2005/train/LT050320312005040601T1-SC20190418222326_tile_6144_3072/image/LT050320312005040601T1-SC20190418222326_tile_6144_3072.tif is a low contrast image\n",
      "  warn('%s is a low contrast image' % fname)\n",
      "/data/anaconda/envs/cropmask/lib/python3.7/site-packages/skimage/io/_io.py:141: UserWarning: /mnt/cropmaskperm/landsat-clear-scenes-2005/train/LT050320312005040601T1-SC20190418222326_tile_6144_3584/image/LT050320312005040601T1-SC20190418222326_tile_6144_3584.tif is a low contrast image\n",
      "  warn('%s is a low contrast image' % fname)\n",
      "/data/anaconda/envs/cropmask/lib/python3.7/site-packages/skimage/io/_io.py:141: UserWarning: /mnt/cropmaskperm/landsat-clear-scenes-2005/train/LT050320312005040601T1-SC20190418222326_tile_6144_4096/image/LT050320312005040601T1-SC20190418222326_tile_6144_4096.tif is a low contrast image\n",
      "  warn('%s is a low contrast image' % fname)\n",
      "/data/anaconda/envs/cropmask/lib/python3.7/site-packages/skimage/io/_io.py:141: UserWarning: /mnt/cropmaskperm/landsat-clear-scenes-2005/train/LT050320312005040601T1-SC20190418222326_tile_6144_4608/image/LT050320312005040601T1-SC20190418222326_tile_6144_4608.tif is a low contrast image\n",
      "  warn('%s is a low contrast image' % fname)\n",
      "/data/anaconda/envs/cropmask/lib/python3.7/site-packages/skimage/io/_io.py:141: UserWarning: /mnt/cropmaskperm/landsat-clear-scenes-2005/train/LT050320312005040601T1-SC20190418222326_tile_6144_512/image/LT050320312005040601T1-SC20190418222326_tile_6144_512.tif is a low contrast image\n",
      "  warn('%s is a low contrast image' % fname)\n"
     ]
    },
    {
     "name": "stdout",
     "output_type": "stream",
     "text": [
      "removed scene and label, 0.02% bad data\n"
     ]
    },
    {
     "name": "stderr",
     "output_type": "stream",
     "text": [
      "/data/anaconda/envs/cropmask/lib/python3.7/site-packages/skimage/io/_io.py:141: UserWarning: /mnt/cropmaskperm/landsat-clear-scenes-2005/train/LT050320312005040601T1-SC20190418222326_tile_6144_5120/image/LT050320312005040601T1-SC20190418222326_tile_6144_5120.tif is a low contrast image\n",
      "  warn('%s is a low contrast image' % fname)\n",
      "/data/anaconda/envs/cropmask/lib/python3.7/site-packages/skimage/io/_io.py:141: UserWarning: /mnt/cropmaskperm/landsat-clear-scenes-2005/train/LT050320312005040601T1-SC20190418222326_tile_6144_5632/image/LT050320312005040601T1-SC20190418222326_tile_6144_5632.tif is a low contrast image\n",
      "  warn('%s is a low contrast image' % fname)\n"
     ]
    },
    {
     "name": "stdout",
     "output_type": "stream",
     "text": [
      "removed scene and label, 0.02% bad data\n"
     ]
    },
    {
     "name": "stderr",
     "output_type": "stream",
     "text": [
      "/data/anaconda/envs/cropmask/lib/python3.7/site-packages/skimage/io/_io.py:141: UserWarning: /mnt/cropmaskperm/landsat-clear-scenes-2005/train/LT050320312005040601T1-SC20190418222326_tile_6144_6144/image/LT050320312005040601T1-SC20190418222326_tile_6144_6144.tif is a low contrast image\n",
      "  warn('%s is a low contrast image' % fname)\n"
     ]
    },
    {
     "name": "stdout",
     "output_type": "stream",
     "text": [
      "removed scene and label, 0.02% bad data\n"
     ]
    },
    {
     "name": "stderr",
     "output_type": "stream",
     "text": [
      "/data/anaconda/envs/cropmask/lib/python3.7/site-packages/skimage/io/_io.py:141: UserWarning: /mnt/cropmaskperm/landsat-clear-scenes-2005/train/LT050320312005040601T1-SC20190418222326_tile_6144_6656/image/LT050320312005040601T1-SC20190418222326_tile_6144_6656.tif is a low contrast image\n",
      "  warn('%s is a low contrast image' % fname)\n"
     ]
    },
    {
     "name": "stdout",
     "output_type": "stream",
     "text": [
      "removed scene and label, 0.02% bad data\n"
     ]
    },
    {
     "name": "stderr",
     "output_type": "stream",
     "text": [
      "/data/anaconda/envs/cropmask/lib/python3.7/site-packages/skimage/io/_io.py:141: UserWarning: /mnt/cropmaskperm/landsat-clear-scenes-2005/train/LT050320312005040601T1-SC20190418222326_tile_6656_0/image/LT050320312005040601T1-SC20190418222326_tile_6656_0.tif is a low contrast image\n",
      "  warn('%s is a low contrast image' % fname)\n"
     ]
    },
    {
     "name": "stdout",
     "output_type": "stream",
     "text": [
      "removed scene and label, 0.02% bad data\n"
     ]
    },
    {
     "name": "stderr",
     "output_type": "stream",
     "text": [
      "/data/anaconda/envs/cropmask/lib/python3.7/site-packages/skimage/io/_io.py:141: UserWarning: /mnt/cropmaskperm/landsat-clear-scenes-2005/train/LT050320312005040601T1-SC20190418222326_tile_6656_1024/image/LT050320312005040601T1-SC20190418222326_tile_6656_1024.tif is a low contrast image\n",
      "  warn('%s is a low contrast image' % fname)\n",
      "/data/anaconda/envs/cropmask/lib/python3.7/site-packages/skimage/io/_io.py:141: UserWarning: /mnt/cropmaskperm/landsat-clear-scenes-2005/train/LT050320312005040601T1-SC20190418222326_tile_6656_1536/image/LT050320312005040601T1-SC20190418222326_tile_6656_1536.tif is a low contrast image\n",
      "  warn('%s is a low contrast image' % fname)\n",
      "/data/anaconda/envs/cropmask/lib/python3.7/site-packages/skimage/io/_io.py:141: UserWarning: /mnt/cropmaskperm/landsat-clear-scenes-2005/train/LT050320312005040601T1-SC20190418222326_tile_6656_2048/image/LT050320312005040601T1-SC20190418222326_tile_6656_2048.tif is a low contrast image\n",
      "  warn('%s is a low contrast image' % fname)\n",
      "/data/anaconda/envs/cropmask/lib/python3.7/site-packages/skimage/io/_io.py:141: UserWarning: /mnt/cropmaskperm/landsat-clear-scenes-2005/train/LT050320312005040601T1-SC20190418222326_tile_6656_2560/image/LT050320312005040601T1-SC20190418222326_tile_6656_2560.tif is a low contrast image\n",
      "  warn('%s is a low contrast image' % fname)\n",
      "/data/anaconda/envs/cropmask/lib/python3.7/site-packages/skimage/io/_io.py:141: UserWarning: /mnt/cropmaskperm/landsat-clear-scenes-2005/train/LT050320312005040601T1-SC20190418222326_tile_6656_3072/image/LT050320312005040601T1-SC20190418222326_tile_6656_3072.tif is a low contrast image\n",
      "  warn('%s is a low contrast image' % fname)\n"
     ]
    },
    {
     "name": "stdout",
     "output_type": "stream",
     "text": [
      "removed scene and label, 0.02% bad data\n"
     ]
    },
    {
     "name": "stderr",
     "output_type": "stream",
     "text": [
      "/data/anaconda/envs/cropmask/lib/python3.7/site-packages/skimage/io/_io.py:141: UserWarning: /mnt/cropmaskperm/landsat-clear-scenes-2005/train/LT050320312005040601T1-SC20190418222326_tile_6656_3584/image/LT050320312005040601T1-SC20190418222326_tile_6656_3584.tif is a low contrast image\n",
      "  warn('%s is a low contrast image' % fname)\n"
     ]
    },
    {
     "name": "stdout",
     "output_type": "stream",
     "text": [
      "removed scene and label, 0.02% bad data\n"
     ]
    },
    {
     "name": "stderr",
     "output_type": "stream",
     "text": [
      "/data/anaconda/envs/cropmask/lib/python3.7/site-packages/skimage/io/_io.py:141: UserWarning: /mnt/cropmaskperm/landsat-clear-scenes-2005/train/LT050320312005040601T1-SC20190418222326_tile_6656_4096/image/LT050320312005040601T1-SC20190418222326_tile_6656_4096.tif is a low contrast image\n",
      "  warn('%s is a low contrast image' % fname)\n"
     ]
    },
    {
     "name": "stdout",
     "output_type": "stream",
     "text": [
      "removed scene and label, 0.02% bad data\n"
     ]
    },
    {
     "name": "stderr",
     "output_type": "stream",
     "text": [
      "/data/anaconda/envs/cropmask/lib/python3.7/site-packages/skimage/io/_io.py:141: UserWarning: /mnt/cropmaskperm/landsat-clear-scenes-2005/train/LT050320312005040601T1-SC20190418222326_tile_6656_4608/image/LT050320312005040601T1-SC20190418222326_tile_6656_4608.tif is a low contrast image\n",
      "  warn('%s is a low contrast image' % fname)\n"
     ]
    },
    {
     "name": "stdout",
     "output_type": "stream",
     "text": [
      "removed scene and label, 0.02% bad data\n"
     ]
    },
    {
     "name": "stderr",
     "output_type": "stream",
     "text": [
      "/data/anaconda/envs/cropmask/lib/python3.7/site-packages/skimage/io/_io.py:141: UserWarning: /mnt/cropmaskperm/landsat-clear-scenes-2005/train/LT050320312005040601T1-SC20190418222326_tile_6656_512/image/LT050320312005040601T1-SC20190418222326_tile_6656_512.tif is a low contrast image\n",
      "  warn('%s is a low contrast image' % fname)\n"
     ]
    },
    {
     "name": "stdout",
     "output_type": "stream",
     "text": [
      "removed scene and label, 0.02% bad data\n"
     ]
    },
    {
     "name": "stderr",
     "output_type": "stream",
     "text": [
      "/data/anaconda/envs/cropmask/lib/python3.7/site-packages/skimage/io/_io.py:141: UserWarning: /mnt/cropmaskperm/landsat-clear-scenes-2005/train/LT050320312005040601T1-SC20190418222326_tile_6656_5120/image/LT050320312005040601T1-SC20190418222326_tile_6656_5120.tif is a low contrast image\n",
      "  warn('%s is a low contrast image' % fname)\n"
     ]
    },
    {
     "name": "stdout",
     "output_type": "stream",
     "text": [
      "removed scene and label, 0.02% bad data\n"
     ]
    },
    {
     "name": "stderr",
     "output_type": "stream",
     "text": [
      "/data/anaconda/envs/cropmask/lib/python3.7/site-packages/skimage/io/_io.py:141: UserWarning: /mnt/cropmaskperm/landsat-clear-scenes-2005/train/LT050320312005040601T1-SC20190418222326_tile_6656_5632/image/LT050320312005040601T1-SC20190418222326_tile_6656_5632.tif is a low contrast image\n",
      "  warn('%s is a low contrast image' % fname)\n"
     ]
    },
    {
     "name": "stdout",
     "output_type": "stream",
     "text": [
      "removed scene and label, 0.02% bad data\n"
     ]
    },
    {
     "name": "stderr",
     "output_type": "stream",
     "text": [
      "/data/anaconda/envs/cropmask/lib/python3.7/site-packages/skimage/io/_io.py:141: UserWarning: /mnt/cropmaskperm/landsat-clear-scenes-2005/train/LT050320312005040601T1-SC20190418222326_tile_6656_6144/image/LT050320312005040601T1-SC20190418222326_tile_6656_6144.tif is a low contrast image\n",
      "  warn('%s is a low contrast image' % fname)\n"
     ]
    },
    {
     "name": "stdout",
     "output_type": "stream",
     "text": [
      "removed scene and label, 0.02% bad data\n"
     ]
    },
    {
     "name": "stderr",
     "output_type": "stream",
     "text": [
      "/data/anaconda/envs/cropmask/lib/python3.7/site-packages/skimage/io/_io.py:141: UserWarning: /mnt/cropmaskperm/landsat-clear-scenes-2005/train/LT050320312005040601T1-SC20190418222326_tile_6656_6656/image/LT050320312005040601T1-SC20190418222326_tile_6656_6656.tif is a low contrast image\n",
      "  warn('%s is a low contrast image' % fname)\n"
     ]
    },
    {
     "name": "stdout",
     "output_type": "stream",
     "text": [
      "removed scene and label, 0.02% bad data\n"
     ]
    },
    {
     "name": "stderr",
     "output_type": "stream",
     "text": [
      "/data/anaconda/envs/cropmask/lib/python3.7/site-packages/skimage/io/_io.py:141: UserWarning: /mnt/cropmaskperm/landsat-clear-scenes-2005/train/LT050320312005040601T1-SC20190418222326_tile_7168_0/image/LT050320312005040601T1-SC20190418222326_tile_7168_0.tif is a low contrast image\n",
      "  warn('%s is a low contrast image' % fname)\n"
     ]
    },
    {
     "name": "stdout",
     "output_type": "stream",
     "text": [
      "removed scene and label, 0.02% bad data\n"
     ]
    },
    {
     "name": "stderr",
     "output_type": "stream",
     "text": [
      "/data/anaconda/envs/cropmask/lib/python3.7/site-packages/skimage/io/_io.py:141: UserWarning: /mnt/cropmaskperm/landsat-clear-scenes-2005/train/LT050320312005040601T1-SC20190418222326_tile_7168_1024/image/LT050320312005040601T1-SC20190418222326_tile_7168_1024.tif is a low contrast image\n",
      "  warn('%s is a low contrast image' % fname)\n"
     ]
    },
    {
     "name": "stdout",
     "output_type": "stream",
     "text": [
      "removed scene and label, 0.02% bad data\n"
     ]
    },
    {
     "name": "stderr",
     "output_type": "stream",
     "text": [
      "/data/anaconda/envs/cropmask/lib/python3.7/site-packages/skimage/io/_io.py:141: UserWarning: /mnt/cropmaskperm/landsat-clear-scenes-2005/train/LT050320312005040601T1-SC20190418222326_tile_7168_1536/image/LT050320312005040601T1-SC20190418222326_tile_7168_1536.tif is a low contrast image\n",
      "  warn('%s is a low contrast image' % fname)\n"
     ]
    },
    {
     "name": "stdout",
     "output_type": "stream",
     "text": [
      "removed scene and label, 0.02% bad data\n"
     ]
    },
    {
     "name": "stderr",
     "output_type": "stream",
     "text": [
      "/data/anaconda/envs/cropmask/lib/python3.7/site-packages/skimage/io/_io.py:141: UserWarning: /mnt/cropmaskperm/landsat-clear-scenes-2005/train/LT050320312005040601T1-SC20190418222326_tile_7168_2048/image/LT050320312005040601T1-SC20190418222326_tile_7168_2048.tif is a low contrast image\n",
      "  warn('%s is a low contrast image' % fname)\n"
     ]
    },
    {
     "name": "stdout",
     "output_type": "stream",
     "text": [
      "removed scene and label, 0.02% bad data\n"
     ]
    },
    {
     "name": "stderr",
     "output_type": "stream",
     "text": [
      "/data/anaconda/envs/cropmask/lib/python3.7/site-packages/skimage/io/_io.py:141: UserWarning: /mnt/cropmaskperm/landsat-clear-scenes-2005/train/LT050320312005040601T1-SC20190418222326_tile_7168_2560/image/LT050320312005040601T1-SC20190418222326_tile_7168_2560.tif is a low contrast image\n",
      "  warn('%s is a low contrast image' % fname)\n"
     ]
    },
    {
     "name": "stdout",
     "output_type": "stream",
     "text": [
      "removed scene and label, 0.02% bad data\n"
     ]
    },
    {
     "name": "stderr",
     "output_type": "stream",
     "text": [
      "/data/anaconda/envs/cropmask/lib/python3.7/site-packages/skimage/io/_io.py:141: UserWarning: /mnt/cropmaskperm/landsat-clear-scenes-2005/train/LT050320312005040601T1-SC20190418222326_tile_7168_3072/image/LT050320312005040601T1-SC20190418222326_tile_7168_3072.tif is a low contrast image\n",
      "  warn('%s is a low contrast image' % fname)\n"
     ]
    },
    {
     "name": "stdout",
     "output_type": "stream",
     "text": [
      "removed scene and label, 0.02% bad data\n"
     ]
    },
    {
     "name": "stderr",
     "output_type": "stream",
     "text": [
      "/data/anaconda/envs/cropmask/lib/python3.7/site-packages/skimage/io/_io.py:141: UserWarning: /mnt/cropmaskperm/landsat-clear-scenes-2005/train/LT050320312005040601T1-SC20190418222326_tile_7168_3584/image/LT050320312005040601T1-SC20190418222326_tile_7168_3584.tif is a low contrast image\n",
      "  warn('%s is a low contrast image' % fname)\n"
     ]
    },
    {
     "name": "stdout",
     "output_type": "stream",
     "text": [
      "removed scene and label, 0.02% bad data\n"
     ]
    },
    {
     "name": "stderr",
     "output_type": "stream",
     "text": [
      "/data/anaconda/envs/cropmask/lib/python3.7/site-packages/skimage/io/_io.py:141: UserWarning: /mnt/cropmaskperm/landsat-clear-scenes-2005/train/LT050320312005040601T1-SC20190418222326_tile_7168_4096/image/LT050320312005040601T1-SC20190418222326_tile_7168_4096.tif is a low contrast image\n",
      "  warn('%s is a low contrast image' % fname)\n"
     ]
    },
    {
     "name": "stdout",
     "output_type": "stream",
     "text": [
      "removed scene and label, 0.02% bad data\n"
     ]
    },
    {
     "name": "stderr",
     "output_type": "stream",
     "text": [
      "/data/anaconda/envs/cropmask/lib/python3.7/site-packages/skimage/io/_io.py:141: UserWarning: /mnt/cropmaskperm/landsat-clear-scenes-2005/train/LT050320312005040601T1-SC20190418222326_tile_7168_4608/image/LT050320312005040601T1-SC20190418222326_tile_7168_4608.tif is a low contrast image\n",
      "  warn('%s is a low contrast image' % fname)\n"
     ]
    },
    {
     "name": "stdout",
     "output_type": "stream",
     "text": [
      "removed scene and label, 0.02% bad data\n"
     ]
    },
    {
     "name": "stderr",
     "output_type": "stream",
     "text": [
      "/data/anaconda/envs/cropmask/lib/python3.7/site-packages/skimage/io/_io.py:141: UserWarning: /mnt/cropmaskperm/landsat-clear-scenes-2005/train/LT050320312005040601T1-SC20190418222326_tile_7168_512/image/LT050320312005040601T1-SC20190418222326_tile_7168_512.tif is a low contrast image\n",
      "  warn('%s is a low contrast image' % fname)\n"
     ]
    },
    {
     "name": "stdout",
     "output_type": "stream",
     "text": [
      "removed scene and label, 0.02% bad data\n"
     ]
    },
    {
     "name": "stderr",
     "output_type": "stream",
     "text": [
      "/data/anaconda/envs/cropmask/lib/python3.7/site-packages/skimage/io/_io.py:141: UserWarning: /mnt/cropmaskperm/landsat-clear-scenes-2005/train/LT050320312005040601T1-SC20190418222326_tile_7168_5120/image/LT050320312005040601T1-SC20190418222326_tile_7168_5120.tif is a low contrast image\n",
      "  warn('%s is a low contrast image' % fname)\n"
     ]
    },
    {
     "name": "stdout",
     "output_type": "stream",
     "text": [
      "removed scene and label, 0.02% bad data\n"
     ]
    },
    {
     "name": "stderr",
     "output_type": "stream",
     "text": [
      "/data/anaconda/envs/cropmask/lib/python3.7/site-packages/skimage/io/_io.py:141: UserWarning: /mnt/cropmaskperm/landsat-clear-scenes-2005/train/LT050320312005040601T1-SC20190418222326_tile_7168_5632/image/LT050320312005040601T1-SC20190418222326_tile_7168_5632.tif is a low contrast image\n",
      "  warn('%s is a low contrast image' % fname)\n"
     ]
    },
    {
     "name": "stdout",
     "output_type": "stream",
     "text": [
      "removed scene and label, 0.02% bad data\n"
     ]
    },
    {
     "name": "stderr",
     "output_type": "stream",
     "text": [
      "/data/anaconda/envs/cropmask/lib/python3.7/site-packages/skimage/io/_io.py:141: UserWarning: /mnt/cropmaskperm/landsat-clear-scenes-2005/train/LT050320312005040601T1-SC20190418222326_tile_7168_6144/image/LT050320312005040601T1-SC20190418222326_tile_7168_6144.tif is a low contrast image\n",
      "  warn('%s is a low contrast image' % fname)\n"
     ]
    },
    {
     "name": "stdout",
     "output_type": "stream",
     "text": [
      "removed scene and label, 0.02% bad data\n"
     ]
    },
    {
     "name": "stderr",
     "output_type": "stream",
     "text": [
      "/data/anaconda/envs/cropmask/lib/python3.7/site-packages/skimage/io/_io.py:141: UserWarning: /mnt/cropmaskperm/landsat-clear-scenes-2005/train/LT050320312005040601T1-SC20190418222326_tile_7168_6656/image/LT050320312005040601T1-SC20190418222326_tile_7168_6656.tif is a low contrast image\n",
      "  warn('%s is a low contrast image' % fname)\n"
     ]
    },
    {
     "name": "stdout",
     "output_type": "stream",
     "text": [
      "removed scene and label, 0.02% bad data\n"
     ]
    },
    {
     "name": "stderr",
     "output_type": "stream",
     "text": [
      "/data/anaconda/envs/cropmask/lib/python3.7/site-packages/skimage/io/_io.py:141: UserWarning: /mnt/cropmaskperm/landsat-clear-scenes-2005/train/LT050320312005040601T1-SC20190418222326_tile_7680_0/image/LT050320312005040601T1-SC20190418222326_tile_7680_0.tif is a low contrast image\n",
      "  warn('%s is a low contrast image' % fname)\n"
     ]
    },
    {
     "name": "stdout",
     "output_type": "stream",
     "text": [
      "removed scene and label, 0.02% bad data\n"
     ]
    },
    {
     "name": "stderr",
     "output_type": "stream",
     "text": [
      "/data/anaconda/envs/cropmask/lib/python3.7/site-packages/skimage/io/_io.py:141: UserWarning: /mnt/cropmaskperm/landsat-clear-scenes-2005/train/LT050320312005040601T1-SC20190418222326_tile_7680_1024/image/LT050320312005040601T1-SC20190418222326_tile_7680_1024.tif is a low contrast image\n",
      "  warn('%s is a low contrast image' % fname)\n"
     ]
    },
    {
     "name": "stdout",
     "output_type": "stream",
     "text": [
      "removed scene and label, 0.02% bad data\n"
     ]
    },
    {
     "name": "stderr",
     "output_type": "stream",
     "text": [
      "/data/anaconda/envs/cropmask/lib/python3.7/site-packages/skimage/io/_io.py:141: UserWarning: /mnt/cropmaskperm/landsat-clear-scenes-2005/train/LT050320312005040601T1-SC20190418222326_tile_7680_1536/image/LT050320312005040601T1-SC20190418222326_tile_7680_1536.tif is a low contrast image\n",
      "  warn('%s is a low contrast image' % fname)\n"
     ]
    },
    {
     "name": "stdout",
     "output_type": "stream",
     "text": [
      "removed scene and label, 0.02% bad data\n"
     ]
    },
    {
     "name": "stderr",
     "output_type": "stream",
     "text": [
      "/data/anaconda/envs/cropmask/lib/python3.7/site-packages/skimage/io/_io.py:141: UserWarning: /mnt/cropmaskperm/landsat-clear-scenes-2005/train/LT050320312005040601T1-SC20190418222326_tile_7680_2048/image/LT050320312005040601T1-SC20190418222326_tile_7680_2048.tif is a low contrast image\n",
      "  warn('%s is a low contrast image' % fname)\n"
     ]
    },
    {
     "name": "stdout",
     "output_type": "stream",
     "text": [
      "removed scene and label, 0.02% bad data\n"
     ]
    },
    {
     "name": "stderr",
     "output_type": "stream",
     "text": [
      "/data/anaconda/envs/cropmask/lib/python3.7/site-packages/skimage/io/_io.py:141: UserWarning: /mnt/cropmaskperm/landsat-clear-scenes-2005/train/LT050320312005040601T1-SC20190418222326_tile_7680_2560/image/LT050320312005040601T1-SC20190418222326_tile_7680_2560.tif is a low contrast image\n",
      "  warn('%s is a low contrast image' % fname)\n"
     ]
    },
    {
     "name": "stdout",
     "output_type": "stream",
     "text": [
      "removed scene and label, 0.02% bad data\n"
     ]
    },
    {
     "name": "stderr",
     "output_type": "stream",
     "text": [
      "/data/anaconda/envs/cropmask/lib/python3.7/site-packages/skimage/io/_io.py:141: UserWarning: /mnt/cropmaskperm/landsat-clear-scenes-2005/train/LT050320312005040601T1-SC20190418222326_tile_7680_3072/image/LT050320312005040601T1-SC20190418222326_tile_7680_3072.tif is a low contrast image\n",
      "  warn('%s is a low contrast image' % fname)\n"
     ]
    },
    {
     "name": "stdout",
     "output_type": "stream",
     "text": [
      "removed scene and label, 0.02% bad data\n"
     ]
    },
    {
     "name": "stderr",
     "output_type": "stream",
     "text": [
      "/data/anaconda/envs/cropmask/lib/python3.7/site-packages/skimage/io/_io.py:141: UserWarning: /mnt/cropmaskperm/landsat-clear-scenes-2005/train/LT050320312005040601T1-SC20190418222326_tile_7680_3584/image/LT050320312005040601T1-SC20190418222326_tile_7680_3584.tif is a low contrast image\n",
      "  warn('%s is a low contrast image' % fname)\n"
     ]
    },
    {
     "name": "stdout",
     "output_type": "stream",
     "text": [
      "removed scene and label, 0.02% bad data\n"
     ]
    },
    {
     "name": "stderr",
     "output_type": "stream",
     "text": [
      "/data/anaconda/envs/cropmask/lib/python3.7/site-packages/skimage/io/_io.py:141: UserWarning: /mnt/cropmaskperm/landsat-clear-scenes-2005/train/LT050320312005040601T1-SC20190418222326_tile_7680_4096/image/LT050320312005040601T1-SC20190418222326_tile_7680_4096.tif is a low contrast image\n",
      "  warn('%s is a low contrast image' % fname)\n"
     ]
    },
    {
     "name": "stdout",
     "output_type": "stream",
     "text": [
      "removed scene and label, 0.02% bad data\n"
     ]
    },
    {
     "name": "stderr",
     "output_type": "stream",
     "text": [
      "/data/anaconda/envs/cropmask/lib/python3.7/site-packages/skimage/io/_io.py:141: UserWarning: /mnt/cropmaskperm/landsat-clear-scenes-2005/train/LT050320312005040601T1-SC20190418222326_tile_7680_4608/image/LT050320312005040601T1-SC20190418222326_tile_7680_4608.tif is a low contrast image\n",
      "  warn('%s is a low contrast image' % fname)\n"
     ]
    },
    {
     "name": "stdout",
     "output_type": "stream",
     "text": [
      "removed scene and label, 0.02% bad data\n"
     ]
    },
    {
     "name": "stderr",
     "output_type": "stream",
     "text": [
      "/data/anaconda/envs/cropmask/lib/python3.7/site-packages/skimage/io/_io.py:141: UserWarning: /mnt/cropmaskperm/landsat-clear-scenes-2005/train/LT050320312005040601T1-SC20190418222326_tile_7680_512/image/LT050320312005040601T1-SC20190418222326_tile_7680_512.tif is a low contrast image\n",
      "  warn('%s is a low contrast image' % fname)\n"
     ]
    },
    {
     "name": "stdout",
     "output_type": "stream",
     "text": [
      "removed scene and label, 0.02% bad data\n"
     ]
    },
    {
     "name": "stderr",
     "output_type": "stream",
     "text": [
      "/data/anaconda/envs/cropmask/lib/python3.7/site-packages/skimage/io/_io.py:141: UserWarning: /mnt/cropmaskperm/landsat-clear-scenes-2005/train/LT050320312005040601T1-SC20190418222326_tile_7680_5120/image/LT050320312005040601T1-SC20190418222326_tile_7680_5120.tif is a low contrast image\n",
      "  warn('%s is a low contrast image' % fname)\n"
     ]
    },
    {
     "name": "stdout",
     "output_type": "stream",
     "text": [
      "removed scene and label, 0.02% bad data\n"
     ]
    },
    {
     "name": "stderr",
     "output_type": "stream",
     "text": [
      "/data/anaconda/envs/cropmask/lib/python3.7/site-packages/skimage/io/_io.py:141: UserWarning: /mnt/cropmaskperm/landsat-clear-scenes-2005/train/LT050320312005040601T1-SC20190418222326_tile_7680_5632/image/LT050320312005040601T1-SC20190418222326_tile_7680_5632.tif is a low contrast image\n",
      "  warn('%s is a low contrast image' % fname)\n"
     ]
    },
    {
     "name": "stdout",
     "output_type": "stream",
     "text": [
      "removed scene and label, 0.02% bad data\n"
     ]
    },
    {
     "name": "stderr",
     "output_type": "stream",
     "text": [
      "/data/anaconda/envs/cropmask/lib/python3.7/site-packages/skimage/io/_io.py:141: UserWarning: /mnt/cropmaskperm/landsat-clear-scenes-2005/train/LT050320312005040601T1-SC20190418222326_tile_7680_6144/image/LT050320312005040601T1-SC20190418222326_tile_7680_6144.tif is a low contrast image\n",
      "  warn('%s is a low contrast image' % fname)\n"
     ]
    },
    {
     "name": "stdout",
     "output_type": "stream",
     "text": [
      "removed scene and label, 0.02% bad data\n"
     ]
    },
    {
     "name": "stderr",
     "output_type": "stream",
     "text": [
      "/data/anaconda/envs/cropmask/lib/python3.7/site-packages/skimage/io/_io.py:141: UserWarning: /mnt/cropmaskperm/landsat-clear-scenes-2005/train/LT050320312005040601T1-SC20190418222326_tile_7680_6656/image/LT050320312005040601T1-SC20190418222326_tile_7680_6656.tif is a low contrast image\n",
      "  warn('%s is a low contrast image' % fname)\n"
     ]
    },
    {
     "name": "stdout",
     "output_type": "stream",
     "text": [
      "removed scene and label, 0.02% bad data\n"
     ]
    },
    {
     "name": "stderr",
     "output_type": "stream",
     "text": [
      "/data/anaconda/envs/cropmask/lib/python3.7/site-packages/skimage/io/_io.py:141: UserWarning: /mnt/cropmaskperm/landsat-clear-scenes-2005/train/LT050320312005040601T1-SC20190418222326_tile_1024_2048/mask/LT050320312005040601T1-SC20190418222326_tile_1024_2048_label.tif is a low contrast image\n",
      "  warn('%s is a low contrast image' % fname)\n",
      "/data/anaconda/envs/cropmask/lib/python3.7/site-packages/skimage/io/_io.py:141: UserWarning: /mnt/cropmaskperm/landsat-clear-scenes-2005/train/LT050320312005040601T1-SC20190418222326_tile_1024_2560/mask/LT050320312005040601T1-SC20190418222326_tile_1024_2560_label.tif is a low contrast image\n",
      "  warn('%s is a low contrast image' % fname)\n",
      "/data/anaconda/envs/cropmask/lib/python3.7/site-packages/skimage/io/_io.py:141: UserWarning: /mnt/cropmaskperm/landsat-clear-scenes-2005/train/LT050320312005040601T1-SC20190418222326_tile_1024_3072/mask/LT050320312005040601T1-SC20190418222326_tile_1024_3072_label.tif is a low contrast image\n",
      "  warn('%s is a low contrast image' % fname)\n",
      "/data/anaconda/envs/cropmask/lib/python3.7/site-packages/skimage/io/_io.py:141: UserWarning: /mnt/cropmaskperm/landsat-clear-scenes-2005/train/LT050320312005040601T1-SC20190418222326_tile_1024_3584/mask/LT050320312005040601T1-SC20190418222326_tile_1024_3584_label.tif is a low contrast image\n",
      "  warn('%s is a low contrast image' % fname)\n",
      "/data/anaconda/envs/cropmask/lib/python3.7/site-packages/skimage/io/_io.py:141: UserWarning: /mnt/cropmaskperm/landsat-clear-scenes-2005/train/LT050320312005040601T1-SC20190418222326_tile_1024_4096/mask/LT050320312005040601T1-SC20190418222326_tile_1024_4096_label.tif is a low contrast image\n",
      "  warn('%s is a low contrast image' % fname)\n",
      "/data/anaconda/envs/cropmask/lib/python3.7/site-packages/skimage/io/_io.py:141: UserWarning: /mnt/cropmaskperm/landsat-clear-scenes-2005/train/LT050320312005040601T1-SC20190418222326_tile_1024_4608/mask/LT050320312005040601T1-SC20190418222326_tile_1024_4608_label.tif is a low contrast image\n",
      "  warn('%s is a low contrast image' % fname)\n",
      "/data/anaconda/envs/cropmask/lib/python3.7/site-packages/skimage/io/_io.py:141: UserWarning: /mnt/cropmaskperm/landsat-clear-scenes-2005/train/LT050320312005040601T1-SC20190418222326_tile_1024_5120/mask/LT050320312005040601T1-SC20190418222326_tile_1024_5120_label.tif is a low contrast image\n",
      "  warn('%s is a low contrast image' % fname)\n",
      "/data/anaconda/envs/cropmask/lib/python3.7/site-packages/skimage/io/_io.py:141: UserWarning: /mnt/cropmaskperm/landsat-clear-scenes-2005/train/LT050320312005040601T1-SC20190418222326_tile_1536_1024/mask/LT050320312005040601T1-SC20190418222326_tile_1536_1024_label.tif is a low contrast image\n",
      "  warn('%s is a low contrast image' % fname)\n",
      "/data/anaconda/envs/cropmask/lib/python3.7/site-packages/skimage/io/_io.py:141: UserWarning: /mnt/cropmaskperm/landsat-clear-scenes-2005/train/LT050320312005040601T1-SC20190418222326_tile_1536_1536/mask/LT050320312005040601T1-SC20190418222326_tile_1536_1536_label.tif is a low contrast image\n",
      "  warn('%s is a low contrast image' % fname)\n",
      "/data/anaconda/envs/cropmask/lib/python3.7/site-packages/skimage/io/_io.py:141: UserWarning: /mnt/cropmaskperm/landsat-clear-scenes-2005/train/LT050320312005040601T1-SC20190418222326_tile_1536_2048/mask/LT050320312005040601T1-SC20190418222326_tile_1536_2048_label.tif is a low contrast image\n",
      "  warn('%s is a low contrast image' % fname)\n",
      "/data/anaconda/envs/cropmask/lib/python3.7/site-packages/skimage/io/_io.py:141: UserWarning: /mnt/cropmaskperm/landsat-clear-scenes-2005/train/LT050320312005040601T1-SC20190418222326_tile_1536_2560/mask/LT050320312005040601T1-SC20190418222326_tile_1536_2560_label.tif is a low contrast image\n",
      "  warn('%s is a low contrast image' % fname)\n",
      "/data/anaconda/envs/cropmask/lib/python3.7/site-packages/skimage/io/_io.py:141: UserWarning: /mnt/cropmaskperm/landsat-clear-scenes-2005/train/LT050320312005040601T1-SC20190418222326_tile_1536_3072/mask/LT050320312005040601T1-SC20190418222326_tile_1536_3072_label.tif is a low contrast image\n",
      "  warn('%s is a low contrast image' % fname)\n",
      "/data/anaconda/envs/cropmask/lib/python3.7/site-packages/skimage/io/_io.py:141: UserWarning: /mnt/cropmaskperm/landsat-clear-scenes-2005/train/LT050320312005040601T1-SC20190418222326_tile_1536_3584/mask/LT050320312005040601T1-SC20190418222326_tile_1536_3584_label.tif is a low contrast image\n",
      "  warn('%s is a low contrast image' % fname)\n",
      "/data/anaconda/envs/cropmask/lib/python3.7/site-packages/skimage/io/_io.py:141: UserWarning: /mnt/cropmaskperm/landsat-clear-scenes-2005/train/LT050320312005040601T1-SC20190418222326_tile_1536_4096/mask/LT050320312005040601T1-SC20190418222326_tile_1536_4096_label.tif is a low contrast image\n",
      "  warn('%s is a low contrast image' % fname)\n",
      "/data/anaconda/envs/cropmask/lib/python3.7/site-packages/skimage/io/_io.py:141: UserWarning: /mnt/cropmaskperm/landsat-clear-scenes-2005/train/LT050320312005040601T1-SC20190418222326_tile_1536_4608/mask/LT050320312005040601T1-SC20190418222326_tile_1536_4608_label.tif is a low contrast image\n",
      "  warn('%s is a low contrast image' % fname)\n",
      "/data/anaconda/envs/cropmask/lib/python3.7/site-packages/skimage/io/_io.py:141: UserWarning: /mnt/cropmaskperm/landsat-clear-scenes-2005/train/LT050320312005040601T1-SC20190418222326_tile_1536_512/mask/LT050320312005040601T1-SC20190418222326_tile_1536_512_label.tif is a low contrast image\n",
      "  warn('%s is a low contrast image' % fname)\n",
      "/data/anaconda/envs/cropmask/lib/python3.7/site-packages/skimage/io/_io.py:141: UserWarning: /mnt/cropmaskperm/landsat-clear-scenes-2005/train/LT050320312005040601T1-SC20190418222326_tile_1536_5120/mask/LT050320312005040601T1-SC20190418222326_tile_1536_5120_label.tif is a low contrast image\n",
      "  warn('%s is a low contrast image' % fname)\n",
      "/data/anaconda/envs/cropmask/lib/python3.7/site-packages/skimage/io/_io.py:141: UserWarning: /mnt/cropmaskperm/landsat-clear-scenes-2005/train/LT050320312005040601T1-SC20190418222326_tile_1536_5632/mask/LT050320312005040601T1-SC20190418222326_tile_1536_5632_label.tif is a low contrast image\n",
      "  warn('%s is a low contrast image' % fname)\n",
      "/data/anaconda/envs/cropmask/lib/python3.7/site-packages/skimage/io/_io.py:141: UserWarning: /mnt/cropmaskperm/landsat-clear-scenes-2005/train/LT050320312005040601T1-SC20190418222326_tile_2048_1024/mask/LT050320312005040601T1-SC20190418222326_tile_2048_1024_label.tif is a low contrast image\n",
      "  warn('%s is a low contrast image' % fname)\n",
      "/data/anaconda/envs/cropmask/lib/python3.7/site-packages/skimage/io/_io.py:141: UserWarning: /mnt/cropmaskperm/landsat-clear-scenes-2005/train/LT050320312005040601T1-SC20190418222326_tile_2048_1536/mask/LT050320312005040601T1-SC20190418222326_tile_2048_1536_label.tif is a low contrast image\n",
      "  warn('%s is a low contrast image' % fname)\n",
      "/data/anaconda/envs/cropmask/lib/python3.7/site-packages/skimage/io/_io.py:141: UserWarning: /mnt/cropmaskperm/landsat-clear-scenes-2005/train/LT050320312005040601T1-SC20190418222326_tile_2048_2048/mask/LT050320312005040601T1-SC20190418222326_tile_2048_2048_label.tif is a low contrast image\n",
      "  warn('%s is a low contrast image' % fname)\n",
      "/data/anaconda/envs/cropmask/lib/python3.7/site-packages/skimage/io/_io.py:141: UserWarning: /mnt/cropmaskperm/landsat-clear-scenes-2005/train/LT050320312005040601T1-SC20190418222326_tile_2048_2560/mask/LT050320312005040601T1-SC20190418222326_tile_2048_2560_label.tif is a low contrast image\n",
      "  warn('%s is a low contrast image' % fname)\n",
      "/data/anaconda/envs/cropmask/lib/python3.7/site-packages/skimage/io/_io.py:141: UserWarning: /mnt/cropmaskperm/landsat-clear-scenes-2005/train/LT050320312005040601T1-SC20190418222326_tile_2048_3072/mask/LT050320312005040601T1-SC20190418222326_tile_2048_3072_label.tif is a low contrast image\n",
      "  warn('%s is a low contrast image' % fname)\n",
      "/data/anaconda/envs/cropmask/lib/python3.7/site-packages/skimage/io/_io.py:141: UserWarning: /mnt/cropmaskperm/landsat-clear-scenes-2005/train/LT050320312005040601T1-SC20190418222326_tile_2048_3584/mask/LT050320312005040601T1-SC20190418222326_tile_2048_3584_label.tif is a low contrast image\n",
      "  warn('%s is a low contrast image' % fname)\n",
      "/data/anaconda/envs/cropmask/lib/python3.7/site-packages/skimage/io/_io.py:141: UserWarning: /mnt/cropmaskperm/landsat-clear-scenes-2005/train/LT050320312005040601T1-SC20190418222326_tile_2048_4096/mask/LT050320312005040601T1-SC20190418222326_tile_2048_4096_label.tif is a low contrast image\n",
      "  warn('%s is a low contrast image' % fname)\n",
      "/data/anaconda/envs/cropmask/lib/python3.7/site-packages/skimage/io/_io.py:141: UserWarning: /mnt/cropmaskperm/landsat-clear-scenes-2005/train/LT050320312005040601T1-SC20190418222326_tile_2048_4608/mask/LT050320312005040601T1-SC20190418222326_tile_2048_4608_label.tif is a low contrast image\n",
      "  warn('%s is a low contrast image' % fname)\n",
      "/data/anaconda/envs/cropmask/lib/python3.7/site-packages/skimage/io/_io.py:141: UserWarning: /mnt/cropmaskperm/landsat-clear-scenes-2005/train/LT050320312005040601T1-SC20190418222326_tile_2048_512/mask/LT050320312005040601T1-SC20190418222326_tile_2048_512_label.tif is a low contrast image\n",
      "  warn('%s is a low contrast image' % fname)\n",
      "/data/anaconda/envs/cropmask/lib/python3.7/site-packages/skimage/io/_io.py:141: UserWarning: /mnt/cropmaskperm/landsat-clear-scenes-2005/train/LT050320312005040601T1-SC20190418222326_tile_2048_5120/mask/LT050320312005040601T1-SC20190418222326_tile_2048_5120_label.tif is a low contrast image\n",
      "  warn('%s is a low contrast image' % fname)\n",
      "/data/anaconda/envs/cropmask/lib/python3.7/site-packages/skimage/io/_io.py:141: UserWarning: /mnt/cropmaskperm/landsat-clear-scenes-2005/train/LT050320312005040601T1-SC20190418222326_tile_2048_5632/mask/LT050320312005040601T1-SC20190418222326_tile_2048_5632_label.tif is a low contrast image\n",
      "  warn('%s is a low contrast image' % fname)\n",
      "/data/anaconda/envs/cropmask/lib/python3.7/site-packages/skimage/io/_io.py:141: UserWarning: /mnt/cropmaskperm/landsat-clear-scenes-2005/train/LT050320312005040601T1-SC20190418222326_tile_2560_1024/mask/LT050320312005040601T1-SC20190418222326_tile_2560_1024_label.tif is a low contrast image\n",
      "  warn('%s is a low contrast image' % fname)\n",
      "/data/anaconda/envs/cropmask/lib/python3.7/site-packages/skimage/util/dtype.py:135: UserWarning: Possible precision loss when converting from int64 to float64\n",
      "  .format(dtypeobj_in, dtypeobj_out))\n",
      "/data/anaconda/envs/cropmask/lib/python3.7/site-packages/skimage/io/_io.py:141: UserWarning: /mnt/cropmaskperm/landsat-clear-scenes-2005/train/LT050320312005040601T1-SC20190418222326_tile_2560_1536/mask/LT050320312005040601T1-SC20190418222326_tile_2560_1536_label.tif is a low contrast image\n",
      "  warn('%s is a low contrast image' % fname)\n",
      "/data/anaconda/envs/cropmask/lib/python3.7/site-packages/skimage/io/_io.py:141: UserWarning: /mnt/cropmaskperm/landsat-clear-scenes-2005/train/LT050320312005040601T1-SC20190418222326_tile_2560_2048/mask/LT050320312005040601T1-SC20190418222326_tile_2560_2048_label.tif is a low contrast image\n",
      "  warn('%s is a low contrast image' % fname)\n",
      "/data/anaconda/envs/cropmask/lib/python3.7/site-packages/skimage/io/_io.py:141: UserWarning: /mnt/cropmaskperm/landsat-clear-scenes-2005/train/LT050320312005040601T1-SC20190418222326_tile_2560_2560/mask/LT050320312005040601T1-SC20190418222326_tile_2560_2560_label.tif is a low contrast image\n",
      "  warn('%s is a low contrast image' % fname)\n",
      "/data/anaconda/envs/cropmask/lib/python3.7/site-packages/skimage/io/_io.py:141: UserWarning: /mnt/cropmaskperm/landsat-clear-scenes-2005/train/LT050320312005040601T1-SC20190418222326_tile_2560_3072/mask/LT050320312005040601T1-SC20190418222326_tile_2560_3072_label.tif is a low contrast image\n",
      "  warn('%s is a low contrast image' % fname)\n",
      "/data/anaconda/envs/cropmask/lib/python3.7/site-packages/skimage/io/_io.py:141: UserWarning: /mnt/cropmaskperm/landsat-clear-scenes-2005/train/LT050320312005040601T1-SC20190418222326_tile_2560_3584/mask/LT050320312005040601T1-SC20190418222326_tile_2560_3584_label.tif is a low contrast image\n",
      "  warn('%s is a low contrast image' % fname)\n",
      "/data/anaconda/envs/cropmask/lib/python3.7/site-packages/skimage/io/_io.py:141: UserWarning: /mnt/cropmaskperm/landsat-clear-scenes-2005/train/LT050320312005040601T1-SC20190418222326_tile_2560_4096/mask/LT050320312005040601T1-SC20190418222326_tile_2560_4096_label.tif is a low contrast image\n",
      "  warn('%s is a low contrast image' % fname)\n",
      "/data/anaconda/envs/cropmask/lib/python3.7/site-packages/skimage/io/_io.py:141: UserWarning: /mnt/cropmaskperm/landsat-clear-scenes-2005/train/LT050320312005040601T1-SC20190418222326_tile_2560_4608/mask/LT050320312005040601T1-SC20190418222326_tile_2560_4608_label.tif is a low contrast image\n",
      "  warn('%s is a low contrast image' % fname)\n",
      "/data/anaconda/envs/cropmask/lib/python3.7/site-packages/skimage/io/_io.py:141: UserWarning: /mnt/cropmaskperm/landsat-clear-scenes-2005/train/LT050320312005040601T1-SC20190418222326_tile_2560_512/mask/LT050320312005040601T1-SC20190418222326_tile_2560_512_label.tif is a low contrast image\n",
      "  warn('%s is a low contrast image' % fname)\n",
      "/data/anaconda/envs/cropmask/lib/python3.7/site-packages/skimage/io/_io.py:141: UserWarning: /mnt/cropmaskperm/landsat-clear-scenes-2005/train/LT050320312005040601T1-SC20190418222326_tile_2560_5120/mask/LT050320312005040601T1-SC20190418222326_tile_2560_5120_label.tif is a low contrast image\n",
      "  warn('%s is a low contrast image' % fname)\n",
      "/data/anaconda/envs/cropmask/lib/python3.7/site-packages/skimage/io/_io.py:141: UserWarning: /mnt/cropmaskperm/landsat-clear-scenes-2005/train/LT050320312005040601T1-SC20190418222326_tile_2560_5632/mask/LT050320312005040601T1-SC20190418222326_tile_2560_5632_label.tif is a low contrast image\n",
      "  warn('%s is a low contrast image' % fname)\n",
      "/data/anaconda/envs/cropmask/lib/python3.7/site-packages/skimage/io/_io.py:141: UserWarning: /mnt/cropmaskperm/landsat-clear-scenes-2005/train/LT050320312005040601T1-SC20190418222326_tile_3072_1024/mask/LT050320312005040601T1-SC20190418222326_tile_3072_1024_label.tif is a low contrast image\n",
      "  warn('%s is a low contrast image' % fname)\n",
      "/data/anaconda/envs/cropmask/lib/python3.7/site-packages/skimage/io/_io.py:141: UserWarning: /mnt/cropmaskperm/landsat-clear-scenes-2005/train/LT050320312005040601T1-SC20190418222326_tile_3072_1536/mask/LT050320312005040601T1-SC20190418222326_tile_3072_1536_label.tif is a low contrast image\n",
      "  warn('%s is a low contrast image' % fname)\n",
      "/data/anaconda/envs/cropmask/lib/python3.7/site-packages/skimage/io/_io.py:141: UserWarning: /mnt/cropmaskperm/landsat-clear-scenes-2005/train/LT050320312005040601T1-SC20190418222326_tile_3072_2048/mask/LT050320312005040601T1-SC20190418222326_tile_3072_2048_label.tif is a low contrast image\n",
      "  warn('%s is a low contrast image' % fname)\n",
      "/data/anaconda/envs/cropmask/lib/python3.7/site-packages/skimage/io/_io.py:141: UserWarning: /mnt/cropmaskperm/landsat-clear-scenes-2005/train/LT050320312005040601T1-SC20190418222326_tile_3072_2560/mask/LT050320312005040601T1-SC20190418222326_tile_3072_2560_label.tif is a low contrast image\n",
      "  warn('%s is a low contrast image' % fname)\n",
      "/data/anaconda/envs/cropmask/lib/python3.7/site-packages/skimage/io/_io.py:141: UserWarning: /mnt/cropmaskperm/landsat-clear-scenes-2005/train/LT050320312005040601T1-SC20190418222326_tile_3072_3072/mask/LT050320312005040601T1-SC20190418222326_tile_3072_3072_label.tif is a low contrast image\n",
      "  warn('%s is a low contrast image' % fname)\n",
      "/data/anaconda/envs/cropmask/lib/python3.7/site-packages/skimage/io/_io.py:141: UserWarning: /mnt/cropmaskperm/landsat-clear-scenes-2005/train/LT050320312005040601T1-SC20190418222326_tile_3072_3584/mask/LT050320312005040601T1-SC20190418222326_tile_3072_3584_label.tif is a low contrast image\n",
      "  warn('%s is a low contrast image' % fname)\n",
      "/data/anaconda/envs/cropmask/lib/python3.7/site-packages/skimage/io/_io.py:141: UserWarning: /mnt/cropmaskperm/landsat-clear-scenes-2005/train/LT050320312005040601T1-SC20190418222326_tile_3072_4096/mask/LT050320312005040601T1-SC20190418222326_tile_3072_4096_label.tif is a low contrast image\n",
      "  warn('%s is a low contrast image' % fname)\n",
      "/data/anaconda/envs/cropmask/lib/python3.7/site-packages/skimage/io/_io.py:141: UserWarning: /mnt/cropmaskperm/landsat-clear-scenes-2005/train/LT050320312005040601T1-SC20190418222326_tile_3072_4608/mask/LT050320312005040601T1-SC20190418222326_tile_3072_4608_label.tif is a low contrast image\n",
      "  warn('%s is a low contrast image' % fname)\n",
      "/data/anaconda/envs/cropmask/lib/python3.7/site-packages/skimage/io/_io.py:141: UserWarning: /mnt/cropmaskperm/landsat-clear-scenes-2005/train/LT050320312005040601T1-SC20190418222326_tile_3072_512/mask/LT050320312005040601T1-SC20190418222326_tile_3072_512_label.tif is a low contrast image\n",
      "  warn('%s is a low contrast image' % fname)\n",
      "/data/anaconda/envs/cropmask/lib/python3.7/site-packages/skimage/io/_io.py:141: UserWarning: /mnt/cropmaskperm/landsat-clear-scenes-2005/train/LT050320312005040601T1-SC20190418222326_tile_3072_5120/mask/LT050320312005040601T1-SC20190418222326_tile_3072_5120_label.tif is a low contrast image\n",
      "  warn('%s is a low contrast image' % fname)\n",
      "/data/anaconda/envs/cropmask/lib/python3.7/site-packages/skimage/io/_io.py:141: UserWarning: /mnt/cropmaskperm/landsat-clear-scenes-2005/train/LT050320312005040601T1-SC20190418222326_tile_3072_5632/mask/LT050320312005040601T1-SC20190418222326_tile_3072_5632_label.tif is a low contrast image\n",
      "  warn('%s is a low contrast image' % fname)\n",
      "/data/anaconda/envs/cropmask/lib/python3.7/site-packages/skimage/io/_io.py:141: UserWarning: /mnt/cropmaskperm/landsat-clear-scenes-2005/train/LT050320312005040601T1-SC20190418222326_tile_3584_1024/mask/LT050320312005040601T1-SC20190418222326_tile_3584_1024_label.tif is a low contrast image\n",
      "  warn('%s is a low contrast image' % fname)\n",
      "/data/anaconda/envs/cropmask/lib/python3.7/site-packages/skimage/io/_io.py:141: UserWarning: /mnt/cropmaskperm/landsat-clear-scenes-2005/train/LT050320312005040601T1-SC20190418222326_tile_3584_1536/mask/LT050320312005040601T1-SC20190418222326_tile_3584_1536_label.tif is a low contrast image\n",
      "  warn('%s is a low contrast image' % fname)\n",
      "/data/anaconda/envs/cropmask/lib/python3.7/site-packages/skimage/io/_io.py:141: UserWarning: /mnt/cropmaskperm/landsat-clear-scenes-2005/train/LT050320312005040601T1-SC20190418222326_tile_3584_2048/mask/LT050320312005040601T1-SC20190418222326_tile_3584_2048_label.tif is a low contrast image\n",
      "  warn('%s is a low contrast image' % fname)\n",
      "/data/anaconda/envs/cropmask/lib/python3.7/site-packages/skimage/io/_io.py:141: UserWarning: /mnt/cropmaskperm/landsat-clear-scenes-2005/train/LT050320312005040601T1-SC20190418222326_tile_3584_2560/mask/LT050320312005040601T1-SC20190418222326_tile_3584_2560_label.tif is a low contrast image\n",
      "  warn('%s is a low contrast image' % fname)\n",
      "/data/anaconda/envs/cropmask/lib/python3.7/site-packages/skimage/io/_io.py:141: UserWarning: /mnt/cropmaskperm/landsat-clear-scenes-2005/train/LT050320312005040601T1-SC20190418222326_tile_3584_3072/mask/LT050320312005040601T1-SC20190418222326_tile_3584_3072_label.tif is a low contrast image\n",
      "  warn('%s is a low contrast image' % fname)\n",
      "/data/anaconda/envs/cropmask/lib/python3.7/site-packages/skimage/io/_io.py:141: UserWarning: /mnt/cropmaskperm/landsat-clear-scenes-2005/train/LT050320312005040601T1-SC20190418222326_tile_3584_3584/mask/LT050320312005040601T1-SC20190418222326_tile_3584_3584_label.tif is a low contrast image\n",
      "  warn('%s is a low contrast image' % fname)\n",
      "/data/anaconda/envs/cropmask/lib/python3.7/site-packages/skimage/io/_io.py:141: UserWarning: /mnt/cropmaskperm/landsat-clear-scenes-2005/train/LT050320312005040601T1-SC20190418222326_tile_3584_4096/mask/LT050320312005040601T1-SC20190418222326_tile_3584_4096_label.tif is a low contrast image\n",
      "  warn('%s is a low contrast image' % fname)\n",
      "/data/anaconda/envs/cropmask/lib/python3.7/site-packages/skimage/io/_io.py:141: UserWarning: /mnt/cropmaskperm/landsat-clear-scenes-2005/train/LT050320312005040601T1-SC20190418222326_tile_3584_4608/mask/LT050320312005040601T1-SC20190418222326_tile_3584_4608_label.tif is a low contrast image\n",
      "  warn('%s is a low contrast image' % fname)\n",
      "/data/anaconda/envs/cropmask/lib/python3.7/site-packages/skimage/io/_io.py:141: UserWarning: /mnt/cropmaskperm/landsat-clear-scenes-2005/train/LT050320312005040601T1-SC20190418222326_tile_3584_512/mask/LT050320312005040601T1-SC20190418222326_tile_3584_512_label.tif is a low contrast image\n",
      "  warn('%s is a low contrast image' % fname)\n",
      "/data/anaconda/envs/cropmask/lib/python3.7/site-packages/skimage/io/_io.py:141: UserWarning: /mnt/cropmaskperm/landsat-clear-scenes-2005/train/LT050320312005040601T1-SC20190418222326_tile_3584_5120/mask/LT050320312005040601T1-SC20190418222326_tile_3584_5120_label.tif is a low contrast image\n",
      "  warn('%s is a low contrast image' % fname)\n",
      "/data/anaconda/envs/cropmask/lib/python3.7/site-packages/skimage/io/_io.py:141: UserWarning: /mnt/cropmaskperm/landsat-clear-scenes-2005/train/LT050320312005040601T1-SC20190418222326_tile_3584_5632/mask/LT050320312005040601T1-SC20190418222326_tile_3584_5632_label.tif is a low contrast image\n",
      "  warn('%s is a low contrast image' % fname)\n",
      "/data/anaconda/envs/cropmask/lib/python3.7/site-packages/skimage/io/_io.py:141: UserWarning: /mnt/cropmaskperm/landsat-clear-scenes-2005/train/LT050320312005040601T1-SC20190418222326_tile_4096_1024/mask/LT050320312005040601T1-SC20190418222326_tile_4096_1024_label.tif is a low contrast image\n",
      "  warn('%s is a low contrast image' % fname)\n",
      "/data/anaconda/envs/cropmask/lib/python3.7/site-packages/skimage/io/_io.py:141: UserWarning: /mnt/cropmaskperm/landsat-clear-scenes-2005/train/LT050320312005040601T1-SC20190418222326_tile_4096_1536/mask/LT050320312005040601T1-SC20190418222326_tile_4096_1536_label.tif is a low contrast image\n",
      "  warn('%s is a low contrast image' % fname)\n",
      "/data/anaconda/envs/cropmask/lib/python3.7/site-packages/skimage/io/_io.py:141: UserWarning: /mnt/cropmaskperm/landsat-clear-scenes-2005/train/LT050320312005040601T1-SC20190418222326_tile_4096_2048/mask/LT050320312005040601T1-SC20190418222326_tile_4096_2048_label.tif is a low contrast image\n",
      "  warn('%s is a low contrast image' % fname)\n",
      "/data/anaconda/envs/cropmask/lib/python3.7/site-packages/skimage/io/_io.py:141: UserWarning: /mnt/cropmaskperm/landsat-clear-scenes-2005/train/LT050320312005040601T1-SC20190418222326_tile_4096_2560/mask/LT050320312005040601T1-SC20190418222326_tile_4096_2560_label.tif is a low contrast image\n",
      "  warn('%s is a low contrast image' % fname)\n",
      "/data/anaconda/envs/cropmask/lib/python3.7/site-packages/skimage/io/_io.py:141: UserWarning: /mnt/cropmaskperm/landsat-clear-scenes-2005/train/LT050320312005040601T1-SC20190418222326_tile_4096_3072/mask/LT050320312005040601T1-SC20190418222326_tile_4096_3072_label.tif is a low contrast image\n",
      "  warn('%s is a low contrast image' % fname)\n",
      "/data/anaconda/envs/cropmask/lib/python3.7/site-packages/skimage/io/_io.py:141: UserWarning: /mnt/cropmaskperm/landsat-clear-scenes-2005/train/LT050320312005040601T1-SC20190418222326_tile_4096_3584/mask/LT050320312005040601T1-SC20190418222326_tile_4096_3584_label.tif is a low contrast image\n",
      "  warn('%s is a low contrast image' % fname)\n",
      "/data/anaconda/envs/cropmask/lib/python3.7/site-packages/skimage/io/_io.py:141: UserWarning: /mnt/cropmaskperm/landsat-clear-scenes-2005/train/LT050320312005040601T1-SC20190418222326_tile_4096_4096/mask/LT050320312005040601T1-SC20190418222326_tile_4096_4096_label.tif is a low contrast image\n",
      "  warn('%s is a low contrast image' % fname)\n",
      "/data/anaconda/envs/cropmask/lib/python3.7/site-packages/skimage/io/_io.py:141: UserWarning: /mnt/cropmaskperm/landsat-clear-scenes-2005/train/LT050320312005040601T1-SC20190418222326_tile_4096_4608/mask/LT050320312005040601T1-SC20190418222326_tile_4096_4608_label.tif is a low contrast image\n",
      "  warn('%s is a low contrast image' % fname)\n",
      "/data/anaconda/envs/cropmask/lib/python3.7/site-packages/skimage/io/_io.py:141: UserWarning: /mnt/cropmaskperm/landsat-clear-scenes-2005/train/LT050320312005040601T1-SC20190418222326_tile_4096_5120/mask/LT050320312005040601T1-SC20190418222326_tile_4096_5120_label.tif is a low contrast image\n",
      "  warn('%s is a low contrast image' % fname)\n",
      "/data/anaconda/envs/cropmask/lib/python3.7/site-packages/skimage/io/_io.py:141: UserWarning: /mnt/cropmaskperm/landsat-clear-scenes-2005/train/LT050320312005040601T1-SC20190418222326_tile_4096_5632/mask/LT050320312005040601T1-SC20190418222326_tile_4096_5632_label.tif is a low contrast image\n",
      "  warn('%s is a low contrast image' % fname)\n",
      "/data/anaconda/envs/cropmask/lib/python3.7/site-packages/skimage/io/_io.py:141: UserWarning: /mnt/cropmaskperm/landsat-clear-scenes-2005/train/LT050320312005040601T1-SC20190418222326_tile_4608_1024/mask/LT050320312005040601T1-SC20190418222326_tile_4608_1024_label.tif is a low contrast image\n",
      "  warn('%s is a low contrast image' % fname)\n",
      "/data/anaconda/envs/cropmask/lib/python3.7/site-packages/skimage/io/_io.py:141: UserWarning: /mnt/cropmaskperm/landsat-clear-scenes-2005/train/LT050320312005040601T1-SC20190418222326_tile_4608_1536/mask/LT050320312005040601T1-SC20190418222326_tile_4608_1536_label.tif is a low contrast image\n",
      "  warn('%s is a low contrast image' % fname)\n",
      "/data/anaconda/envs/cropmask/lib/python3.7/site-packages/skimage/io/_io.py:141: UserWarning: /mnt/cropmaskperm/landsat-clear-scenes-2005/train/LT050320312005040601T1-SC20190418222326_tile_4608_2048/mask/LT050320312005040601T1-SC20190418222326_tile_4608_2048_label.tif is a low contrast image\n",
      "  warn('%s is a low contrast image' % fname)\n",
      "/data/anaconda/envs/cropmask/lib/python3.7/site-packages/skimage/io/_io.py:141: UserWarning: /mnt/cropmaskperm/landsat-clear-scenes-2005/train/LT050320312005040601T1-SC20190418222326_tile_4608_2560/mask/LT050320312005040601T1-SC20190418222326_tile_4608_2560_label.tif is a low contrast image\n",
      "  warn('%s is a low contrast image' % fname)\n",
      "/data/anaconda/envs/cropmask/lib/python3.7/site-packages/skimage/io/_io.py:141: UserWarning: /mnt/cropmaskperm/landsat-clear-scenes-2005/train/LT050320312005040601T1-SC20190418222326_tile_4608_3072/mask/LT050320312005040601T1-SC20190418222326_tile_4608_3072_label.tif is a low contrast image\n",
      "  warn('%s is a low contrast image' % fname)\n",
      "/data/anaconda/envs/cropmask/lib/python3.7/site-packages/skimage/io/_io.py:141: UserWarning: /mnt/cropmaskperm/landsat-clear-scenes-2005/train/LT050320312005040601T1-SC20190418222326_tile_4608_3584/mask/LT050320312005040601T1-SC20190418222326_tile_4608_3584_label.tif is a low contrast image\n",
      "  warn('%s is a low contrast image' % fname)\n",
      "/data/anaconda/envs/cropmask/lib/python3.7/site-packages/skimage/io/_io.py:141: UserWarning: /mnt/cropmaskperm/landsat-clear-scenes-2005/train/LT050320312005040601T1-SC20190418222326_tile_4608_4096/mask/LT050320312005040601T1-SC20190418222326_tile_4608_4096_label.tif is a low contrast image\n",
      "  warn('%s is a low contrast image' % fname)\n",
      "/data/anaconda/envs/cropmask/lib/python3.7/site-packages/skimage/io/_io.py:141: UserWarning: /mnt/cropmaskperm/landsat-clear-scenes-2005/train/LT050320312005040601T1-SC20190418222326_tile_4608_4608/mask/LT050320312005040601T1-SC20190418222326_tile_4608_4608_label.tif is a low contrast image\n",
      "  warn('%s is a low contrast image' % fname)\n",
      "/data/anaconda/envs/cropmask/lib/python3.7/site-packages/skimage/io/_io.py:141: UserWarning: /mnt/cropmaskperm/landsat-clear-scenes-2005/train/LT050320312005040601T1-SC20190418222326_tile_4608_5120/mask/LT050320312005040601T1-SC20190418222326_tile_4608_5120_label.tif is a low contrast image\n",
      "  warn('%s is a low contrast image' % fname)\n",
      "/data/anaconda/envs/cropmask/lib/python3.7/site-packages/skimage/io/_io.py:141: UserWarning: /mnt/cropmaskperm/landsat-clear-scenes-2005/train/LT050320312005040601T1-SC20190418222326_tile_4608_5632/mask/LT050320312005040601T1-SC20190418222326_tile_4608_5632_label.tif is a low contrast image\n",
      "  warn('%s is a low contrast image' % fname)\n",
      "/data/anaconda/envs/cropmask/lib/python3.7/site-packages/skimage/io/_io.py:141: UserWarning: /mnt/cropmaskperm/landsat-clear-scenes-2005/train/LT050320312005040601T1-SC20190418222326_tile_4608_6144/mask/LT050320312005040601T1-SC20190418222326_tile_4608_6144_label.tif is a low contrast image\n",
      "  warn('%s is a low contrast image' % fname)\n",
      "/data/anaconda/envs/cropmask/lib/python3.7/site-packages/skimage/io/_io.py:141: UserWarning: /mnt/cropmaskperm/landsat-clear-scenes-2005/train/LT050320312005040601T1-SC20190418222326_tile_5120_1024/mask/LT050320312005040601T1-SC20190418222326_tile_5120_1024_label.tif is a low contrast image\n",
      "  warn('%s is a low contrast image' % fname)\n",
      "/data/anaconda/envs/cropmask/lib/python3.7/site-packages/skimage/io/_io.py:141: UserWarning: /mnt/cropmaskperm/landsat-clear-scenes-2005/train/LT050320312005040601T1-SC20190418222326_tile_5120_1536/mask/LT050320312005040601T1-SC20190418222326_tile_5120_1536_label.tif is a low contrast image\n",
      "  warn('%s is a low contrast image' % fname)\n",
      "/data/anaconda/envs/cropmask/lib/python3.7/site-packages/skimage/io/_io.py:141: UserWarning: /mnt/cropmaskperm/landsat-clear-scenes-2005/train/LT050320312005040601T1-SC20190418222326_tile_5120_2048/mask/LT050320312005040601T1-SC20190418222326_tile_5120_2048_label.tif is a low contrast image\n",
      "  warn('%s is a low contrast image' % fname)\n",
      "/data/anaconda/envs/cropmask/lib/python3.7/site-packages/skimage/io/_io.py:141: UserWarning: /mnt/cropmaskperm/landsat-clear-scenes-2005/train/LT050320312005040601T1-SC20190418222326_tile_5120_2560/mask/LT050320312005040601T1-SC20190418222326_tile_5120_2560_label.tif is a low contrast image\n",
      "  warn('%s is a low contrast image' % fname)\n",
      "/data/anaconda/envs/cropmask/lib/python3.7/site-packages/skimage/io/_io.py:141: UserWarning: /mnt/cropmaskperm/landsat-clear-scenes-2005/train/LT050320312005040601T1-SC20190418222326_tile_5120_3072/mask/LT050320312005040601T1-SC20190418222326_tile_5120_3072_label.tif is a low contrast image\n",
      "  warn('%s is a low contrast image' % fname)\n",
      "/data/anaconda/envs/cropmask/lib/python3.7/site-packages/skimage/io/_io.py:141: UserWarning: /mnt/cropmaskperm/landsat-clear-scenes-2005/train/LT050320312005040601T1-SC20190418222326_tile_5120_3584/mask/LT050320312005040601T1-SC20190418222326_tile_5120_3584_label.tif is a low contrast image\n",
      "  warn('%s is a low contrast image' % fname)\n",
      "/data/anaconda/envs/cropmask/lib/python3.7/site-packages/skimage/io/_io.py:141: UserWarning: /mnt/cropmaskperm/landsat-clear-scenes-2005/train/LT050320312005040601T1-SC20190418222326_tile_5120_4096/mask/LT050320312005040601T1-SC20190418222326_tile_5120_4096_label.tif is a low contrast image\n",
      "  warn('%s is a low contrast image' % fname)\n",
      "/data/anaconda/envs/cropmask/lib/python3.7/site-packages/skimage/io/_io.py:141: UserWarning: /mnt/cropmaskperm/landsat-clear-scenes-2005/train/LT050320312005040601T1-SC20190418222326_tile_5120_4608/mask/LT050320312005040601T1-SC20190418222326_tile_5120_4608_label.tif is a low contrast image\n",
      "  warn('%s is a low contrast image' % fname)\n",
      "/data/anaconda/envs/cropmask/lib/python3.7/site-packages/skimage/io/_io.py:141: UserWarning: /mnt/cropmaskperm/landsat-clear-scenes-2005/train/LT050320312005040601T1-SC20190418222326_tile_5120_5120/mask/LT050320312005040601T1-SC20190418222326_tile_5120_5120_label.tif is a low contrast image\n",
      "  warn('%s is a low contrast image' % fname)\n",
      "/data/anaconda/envs/cropmask/lib/python3.7/site-packages/skimage/io/_io.py:141: UserWarning: /mnt/cropmaskperm/landsat-clear-scenes-2005/train/LT050320312005040601T1-SC20190418222326_tile_5120_5632/mask/LT050320312005040601T1-SC20190418222326_tile_5120_5632_label.tif is a low contrast image\n",
      "  warn('%s is a low contrast image' % fname)\n",
      "/data/anaconda/envs/cropmask/lib/python3.7/site-packages/skimage/io/_io.py:141: UserWarning: /mnt/cropmaskperm/landsat-clear-scenes-2005/train/LT050320312005040601T1-SC20190418222326_tile_5120_6144/mask/LT050320312005040601T1-SC20190418222326_tile_5120_6144_label.tif is a low contrast image\n",
      "  warn('%s is a low contrast image' % fname)\n",
      "/data/anaconda/envs/cropmask/lib/python3.7/site-packages/skimage/io/_io.py:141: UserWarning: /mnt/cropmaskperm/landsat-clear-scenes-2005/train/LT050320312005040601T1-SC20190418222326_tile_512_4608/mask/LT050320312005040601T1-SC20190418222326_tile_512_4608_label.tif is a low contrast image\n",
      "  warn('%s is a low contrast image' % fname)\n",
      "/data/anaconda/envs/cropmask/lib/python3.7/site-packages/skimage/io/_io.py:141: UserWarning: /mnt/cropmaskperm/landsat-clear-scenes-2005/train/LT050320312005040601T1-SC20190418222326_tile_512_5120/mask/LT050320312005040601T1-SC20190418222326_tile_512_5120_label.tif is a low contrast image\n",
      "  warn('%s is a low contrast image' % fname)\n",
      "/data/anaconda/envs/cropmask/lib/python3.7/site-packages/skimage/io/_io.py:141: UserWarning: /mnt/cropmaskperm/landsat-clear-scenes-2005/train/LT050320312005040601T1-SC20190418222326_tile_5632_1024/mask/LT050320312005040601T1-SC20190418222326_tile_5632_1024_label.tif is a low contrast image\n",
      "  warn('%s is a low contrast image' % fname)\n",
      "/data/anaconda/envs/cropmask/lib/python3.7/site-packages/skimage/io/_io.py:141: UserWarning: /mnt/cropmaskperm/landsat-clear-scenes-2005/train/LT050320312005040601T1-SC20190418222326_tile_5632_1536/mask/LT050320312005040601T1-SC20190418222326_tile_5632_1536_label.tif is a low contrast image\n",
      "  warn('%s is a low contrast image' % fname)\n",
      "/data/anaconda/envs/cropmask/lib/python3.7/site-packages/skimage/io/_io.py:141: UserWarning: /mnt/cropmaskperm/landsat-clear-scenes-2005/train/LT050320312005040601T1-SC20190418222326_tile_5632_2048/mask/LT050320312005040601T1-SC20190418222326_tile_5632_2048_label.tif is a low contrast image\n",
      "  warn('%s is a low contrast image' % fname)\n",
      "/data/anaconda/envs/cropmask/lib/python3.7/site-packages/skimage/io/_io.py:141: UserWarning: /mnt/cropmaskperm/landsat-clear-scenes-2005/train/LT050320312005040601T1-SC20190418222326_tile_5632_2560/mask/LT050320312005040601T1-SC20190418222326_tile_5632_2560_label.tif is a low contrast image\n",
      "  warn('%s is a low contrast image' % fname)\n",
      "/data/anaconda/envs/cropmask/lib/python3.7/site-packages/skimage/io/_io.py:141: UserWarning: /mnt/cropmaskperm/landsat-clear-scenes-2005/train/LT050320312005040601T1-SC20190418222326_tile_5632_3072/mask/LT050320312005040601T1-SC20190418222326_tile_5632_3072_label.tif is a low contrast image\n",
      "  warn('%s is a low contrast image' % fname)\n",
      "/data/anaconda/envs/cropmask/lib/python3.7/site-packages/skimage/io/_io.py:141: UserWarning: /mnt/cropmaskperm/landsat-clear-scenes-2005/train/LT050320312005040601T1-SC20190418222326_tile_5632_3584/mask/LT050320312005040601T1-SC20190418222326_tile_5632_3584_label.tif is a low contrast image\n",
      "  warn('%s is a low contrast image' % fname)\n",
      "/data/anaconda/envs/cropmask/lib/python3.7/site-packages/skimage/io/_io.py:141: UserWarning: /mnt/cropmaskperm/landsat-clear-scenes-2005/train/LT050320312005040601T1-SC20190418222326_tile_5632_4096/mask/LT050320312005040601T1-SC20190418222326_tile_5632_4096_label.tif is a low contrast image\n",
      "  warn('%s is a low contrast image' % fname)\n",
      "/data/anaconda/envs/cropmask/lib/python3.7/site-packages/skimage/io/_io.py:141: UserWarning: /mnt/cropmaskperm/landsat-clear-scenes-2005/train/LT050320312005040601T1-SC20190418222326_tile_5632_4608/mask/LT050320312005040601T1-SC20190418222326_tile_5632_4608_label.tif is a low contrast image\n",
      "  warn('%s is a low contrast image' % fname)\n",
      "/data/anaconda/envs/cropmask/lib/python3.7/site-packages/skimage/io/_io.py:141: UserWarning: /mnt/cropmaskperm/landsat-clear-scenes-2005/train/LT050320312005040601T1-SC20190418222326_tile_5632_5120/mask/LT050320312005040601T1-SC20190418222326_tile_5632_5120_label.tif is a low contrast image\n",
      "  warn('%s is a low contrast image' % fname)\n",
      "/data/anaconda/envs/cropmask/lib/python3.7/site-packages/skimage/io/_io.py:141: UserWarning: /mnt/cropmaskperm/landsat-clear-scenes-2005/train/LT050320312005040601T1-SC20190418222326_tile_5632_5632/mask/LT050320312005040601T1-SC20190418222326_tile_5632_5632_label.tif is a low contrast image\n",
      "  warn('%s is a low contrast image' % fname)\n",
      "/data/anaconda/envs/cropmask/lib/python3.7/site-packages/skimage/io/_io.py:141: UserWarning: /mnt/cropmaskperm/landsat-clear-scenes-2005/train/LT050320312005040601T1-SC20190418222326_tile_5632_6144/mask/LT050320312005040601T1-SC20190418222326_tile_5632_6144_label.tif is a low contrast image\n",
      "  warn('%s is a low contrast image' % fname)\n",
      "/data/anaconda/envs/cropmask/lib/python3.7/site-packages/skimage/io/_io.py:141: UserWarning: /mnt/cropmaskperm/landsat-clear-scenes-2005/train/LT050320312005040601T1-SC20190418222326_tile_6144_1024/mask/LT050320312005040601T1-SC20190418222326_tile_6144_1024_label.tif is a low contrast image\n",
      "  warn('%s is a low contrast image' % fname)\n",
      "/data/anaconda/envs/cropmask/lib/python3.7/site-packages/skimage/io/_io.py:141: UserWarning: /mnt/cropmaskperm/landsat-clear-scenes-2005/train/LT050320312005040601T1-SC20190418222326_tile_6144_1536/mask/LT050320312005040601T1-SC20190418222326_tile_6144_1536_label.tif is a low contrast image\n",
      "  warn('%s is a low contrast image' % fname)\n",
      "/data/anaconda/envs/cropmask/lib/python3.7/site-packages/skimage/io/_io.py:141: UserWarning: /mnt/cropmaskperm/landsat-clear-scenes-2005/train/LT050320312005040601T1-SC20190418222326_tile_6144_2048/mask/LT050320312005040601T1-SC20190418222326_tile_6144_2048_label.tif is a low contrast image\n",
      "  warn('%s is a low contrast image' % fname)\n",
      "/data/anaconda/envs/cropmask/lib/python3.7/site-packages/skimage/io/_io.py:141: UserWarning: /mnt/cropmaskperm/landsat-clear-scenes-2005/train/LT050320312005040601T1-SC20190418222326_tile_6144_2560/mask/LT050320312005040601T1-SC20190418222326_tile_6144_2560_label.tif is a low contrast image\n",
      "  warn('%s is a low contrast image' % fname)\n",
      "/data/anaconda/envs/cropmask/lib/python3.7/site-packages/skimage/io/_io.py:141: UserWarning: /mnt/cropmaskperm/landsat-clear-scenes-2005/train/LT050320312005040601T1-SC20190418222326_tile_6144_3072/mask/LT050320312005040601T1-SC20190418222326_tile_6144_3072_label.tif is a low contrast image\n",
      "  warn('%s is a low contrast image' % fname)\n",
      "/data/anaconda/envs/cropmask/lib/python3.7/site-packages/skimage/io/_io.py:141: UserWarning: /mnt/cropmaskperm/landsat-clear-scenes-2005/train/LT050320312005040601T1-SC20190418222326_tile_6144_3584/mask/LT050320312005040601T1-SC20190418222326_tile_6144_3584_label.tif is a low contrast image\n",
      "  warn('%s is a low contrast image' % fname)\n",
      "/data/anaconda/envs/cropmask/lib/python3.7/site-packages/skimage/io/_io.py:141: UserWarning: /mnt/cropmaskperm/landsat-clear-scenes-2005/train/LT050320312005040601T1-SC20190418222326_tile_6144_4096/mask/LT050320312005040601T1-SC20190418222326_tile_6144_4096_label.tif is a low contrast image\n",
      "  warn('%s is a low contrast image' % fname)\n",
      "/data/anaconda/envs/cropmask/lib/python3.7/site-packages/skimage/io/_io.py:141: UserWarning: /mnt/cropmaskperm/landsat-clear-scenes-2005/train/LT050320312005040601T1-SC20190418222326_tile_6144_4608/mask/LT050320312005040601T1-SC20190418222326_tile_6144_4608_label.tif is a low contrast image\n",
      "  warn('%s is a low contrast image' % fname)\n",
      "/data/anaconda/envs/cropmask/lib/python3.7/site-packages/skimage/io/_io.py:141: UserWarning: /mnt/cropmaskperm/landsat-clear-scenes-2005/train/LT050320312005040601T1-SC20190418222326_tile_6144_5120/mask/LT050320312005040601T1-SC20190418222326_tile_6144_5120_label.tif is a low contrast image\n",
      "  warn('%s is a low contrast image' % fname)\n",
      "/data/anaconda/envs/cropmask/lib/python3.7/site-packages/skimage/io/_io.py:141: UserWarning: /mnt/cropmaskperm/landsat-clear-scenes-2005/train/LT050320312005040601T1-SC20190418222326_tile_6656_1024/mask/LT050320312005040601T1-SC20190418222326_tile_6656_1024_label.tif is a low contrast image\n",
      "  warn('%s is a low contrast image' % fname)\n",
      "/data/anaconda/envs/cropmask/lib/python3.7/site-packages/skimage/io/_io.py:141: UserWarning: /mnt/cropmaskperm/landsat-clear-scenes-2005/train/LT050320312005040601T1-SC20190418222326_tile_6656_1536/mask/LT050320312005040601T1-SC20190418222326_tile_6656_1536_label.tif is a low contrast image\n",
      "  warn('%s is a low contrast image' % fname)\n",
      "/data/anaconda/envs/cropmask/lib/python3.7/site-packages/skimage/io/_io.py:141: UserWarning: /mnt/cropmaskperm/landsat-clear-scenes-2005/train/LT050320312005040601T1-SC20190418222326_tile_6656_2048/mask/LT050320312005040601T1-SC20190418222326_tile_6656_2048_label.tif is a low contrast image\n",
      "  warn('%s is a low contrast image' % fname)\n",
      "/data/anaconda/envs/cropmask/lib/python3.7/site-packages/skimage/io/_io.py:141: UserWarning: /mnt/cropmaskperm/landsat-clear-scenes-2005/train/LT050320312005040601T1-SC20190418222326_tile_6656_2560/mask/LT050320312005040601T1-SC20190418222326_tile_6656_2560_label.tif is a low contrast image\n",
      "  warn('%s is a low contrast image' % fname)\n"
     ]
    },
    {
     "name": "stdout",
     "output_type": "stream",
     "text": [
      "Done applying negbuff of -30 and filtering small labels of area less than 3600\n"
     ]
    },
    {
     "name": "stderr",
     "output_type": "stream",
     "text": [
      "/data/anaconda/envs/cropmask/lib/python3.7/site-packages/skimage/io/_io.py:141: UserWarning: /mnt/cropmaskperm/landsat-clear-scenes-2005/train/LT050290312005031601T1-SC20190818204935_tile_0_0/image/LT050290312005031601T1-SC20190818204935_tile_0_0.tif is a low contrast image\n",
      "  warn('%s is a low contrast image' % fname)\n"
     ]
    },
    {
     "name": "stdout",
     "output_type": "stream",
     "text": [
      "removed scene and label, 0.02% bad data\n"
     ]
    },
    {
     "name": "stderr",
     "output_type": "stream",
     "text": [
      "/data/anaconda/envs/cropmask/lib/python3.7/site-packages/skimage/io/_io.py:141: UserWarning: /mnt/cropmaskperm/landsat-clear-scenes-2005/train/LT050290312005031601T1-SC20190818204935_tile_0_1024/image/LT050290312005031601T1-SC20190818204935_tile_0_1024.tif is a low contrast image\n",
      "  warn('%s is a low contrast image' % fname)\n"
     ]
    },
    {
     "name": "stdout",
     "output_type": "stream",
     "text": [
      "removed scene and label, 0.02% bad data\n"
     ]
    },
    {
     "name": "stderr",
     "output_type": "stream",
     "text": [
      "/data/anaconda/envs/cropmask/lib/python3.7/site-packages/skimage/io/_io.py:141: UserWarning: /mnt/cropmaskperm/landsat-clear-scenes-2005/train/LT050290312005031601T1-SC20190818204935_tile_0_1536/image/LT050290312005031601T1-SC20190818204935_tile_0_1536.tif is a low contrast image\n",
      "  warn('%s is a low contrast image' % fname)\n"
     ]
    },
    {
     "name": "stdout",
     "output_type": "stream",
     "text": [
      "removed scene and label, 0.02% bad data\n"
     ]
    },
    {
     "name": "stderr",
     "output_type": "stream",
     "text": [
      "/data/anaconda/envs/cropmask/lib/python3.7/site-packages/skimage/io/_io.py:141: UserWarning: /mnt/cropmaskperm/landsat-clear-scenes-2005/train/LT050290312005031601T1-SC20190818204935_tile_0_2048/image/LT050290312005031601T1-SC20190818204935_tile_0_2048.tif is a low contrast image\n",
      "  warn('%s is a low contrast image' % fname)\n"
     ]
    },
    {
     "name": "stdout",
     "output_type": "stream",
     "text": [
      "removed scene and label, 0.02% bad data\n"
     ]
    },
    {
     "name": "stderr",
     "output_type": "stream",
     "text": [
      "/data/anaconda/envs/cropmask/lib/python3.7/site-packages/skimage/io/_io.py:141: UserWarning: /mnt/cropmaskperm/landsat-clear-scenes-2005/train/LT050290312005031601T1-SC20190818204935_tile_0_2560/image/LT050290312005031601T1-SC20190818204935_tile_0_2560.tif is a low contrast image\n",
      "  warn('%s is a low contrast image' % fname)\n"
     ]
    },
    {
     "name": "stdout",
     "output_type": "stream",
     "text": [
      "removed scene and label, 0.02% bad data\n"
     ]
    },
    {
     "name": "stderr",
     "output_type": "stream",
     "text": [
      "/data/anaconda/envs/cropmask/lib/python3.7/site-packages/skimage/io/_io.py:141: UserWarning: /mnt/cropmaskperm/landsat-clear-scenes-2005/train/LT050290312005031601T1-SC20190818204935_tile_0_3072/image/LT050290312005031601T1-SC20190818204935_tile_0_3072.tif is a low contrast image\n",
      "  warn('%s is a low contrast image' % fname)\n"
     ]
    },
    {
     "name": "stdout",
     "output_type": "stream",
     "text": [
      "removed scene and label, 0.02% bad data\n"
     ]
    },
    {
     "name": "stderr",
     "output_type": "stream",
     "text": [
      "/data/anaconda/envs/cropmask/lib/python3.7/site-packages/skimage/io/_io.py:141: UserWarning: /mnt/cropmaskperm/landsat-clear-scenes-2005/train/LT050290312005031601T1-SC20190818204935_tile_0_3584/image/LT050290312005031601T1-SC20190818204935_tile_0_3584.tif is a low contrast image\n",
      "  warn('%s is a low contrast image' % fname)\n"
     ]
    },
    {
     "name": "stdout",
     "output_type": "stream",
     "text": [
      "removed scene and label, 0.02% bad data\n"
     ]
    },
    {
     "name": "stderr",
     "output_type": "stream",
     "text": [
      "/data/anaconda/envs/cropmask/lib/python3.7/site-packages/skimage/io/_io.py:141: UserWarning: /mnt/cropmaskperm/landsat-clear-scenes-2005/train/LT050290312005031601T1-SC20190818204935_tile_0_4096/image/LT050290312005031601T1-SC20190818204935_tile_0_4096.tif is a low contrast image\n",
      "  warn('%s is a low contrast image' % fname)\n"
     ]
    },
    {
     "name": "stdout",
     "output_type": "stream",
     "text": [
      "removed scene and label, 0.02% bad data\n"
     ]
    },
    {
     "name": "stderr",
     "output_type": "stream",
     "text": [
      "/data/anaconda/envs/cropmask/lib/python3.7/site-packages/skimage/io/_io.py:141: UserWarning: /mnt/cropmaskperm/landsat-clear-scenes-2005/train/LT050290312005031601T1-SC20190818204935_tile_0_4608/image/LT050290312005031601T1-SC20190818204935_tile_0_4608.tif is a low contrast image\n",
      "  warn('%s is a low contrast image' % fname)\n"
     ]
    },
    {
     "name": "stdout",
     "output_type": "stream",
     "text": [
      "removed scene and label, 0.02% bad data\n"
     ]
    },
    {
     "name": "stderr",
     "output_type": "stream",
     "text": [
      "/data/anaconda/envs/cropmask/lib/python3.7/site-packages/skimage/io/_io.py:141: UserWarning: /mnt/cropmaskperm/landsat-clear-scenes-2005/train/LT050290312005031601T1-SC20190818204935_tile_0_512/image/LT050290312005031601T1-SC20190818204935_tile_0_512.tif is a low contrast image\n",
      "  warn('%s is a low contrast image' % fname)\n"
     ]
    },
    {
     "name": "stdout",
     "output_type": "stream",
     "text": [
      "removed scene and label, 0.02% bad data\n"
     ]
    },
    {
     "name": "stderr",
     "output_type": "stream",
     "text": [
      "/data/anaconda/envs/cropmask/lib/python3.7/site-packages/skimage/io/_io.py:141: UserWarning: /mnt/cropmaskperm/landsat-clear-scenes-2005/train/LT050290312005031601T1-SC20190818204935_tile_0_5120/image/LT050290312005031601T1-SC20190818204935_tile_0_5120.tif is a low contrast image\n",
      "  warn('%s is a low contrast image' % fname)\n"
     ]
    },
    {
     "name": "stdout",
     "output_type": "stream",
     "text": [
      "removed scene and label, 0.02% bad data\n"
     ]
    },
    {
     "name": "stderr",
     "output_type": "stream",
     "text": [
      "/data/anaconda/envs/cropmask/lib/python3.7/site-packages/skimage/io/_io.py:141: UserWarning: /mnt/cropmaskperm/landsat-clear-scenes-2005/train/LT050290312005031601T1-SC20190818204935_tile_0_5632/image/LT050290312005031601T1-SC20190818204935_tile_0_5632.tif is a low contrast image\n",
      "  warn('%s is a low contrast image' % fname)\n"
     ]
    },
    {
     "name": "stdout",
     "output_type": "stream",
     "text": [
      "removed scene and label, 0.02% bad data\n"
     ]
    },
    {
     "name": "stderr",
     "output_type": "stream",
     "text": [
      "/data/anaconda/envs/cropmask/lib/python3.7/site-packages/skimage/io/_io.py:141: UserWarning: /mnt/cropmaskperm/landsat-clear-scenes-2005/train/LT050290312005031601T1-SC20190818204935_tile_0_6144/image/LT050290312005031601T1-SC20190818204935_tile_0_6144.tif is a low contrast image\n",
      "  warn('%s is a low contrast image' % fname)\n"
     ]
    },
    {
     "name": "stdout",
     "output_type": "stream",
     "text": [
      "removed scene and label, 0.02% bad data\n"
     ]
    },
    {
     "name": "stderr",
     "output_type": "stream",
     "text": [
      "/data/anaconda/envs/cropmask/lib/python3.7/site-packages/skimage/io/_io.py:141: UserWarning: /mnt/cropmaskperm/landsat-clear-scenes-2005/train/LT050290312005031601T1-SC20190818204935_tile_0_6656/image/LT050290312005031601T1-SC20190818204935_tile_0_6656.tif is a low contrast image\n",
      "  warn('%s is a low contrast image' % fname)\n"
     ]
    },
    {
     "name": "stdout",
     "output_type": "stream",
     "text": [
      "removed scene and label, 0.02% bad data\n"
     ]
    },
    {
     "name": "stderr",
     "output_type": "stream",
     "text": [
      "/data/anaconda/envs/cropmask/lib/python3.7/site-packages/skimage/io/_io.py:141: UserWarning: /mnt/cropmaskperm/landsat-clear-scenes-2005/train/LT050290312005031601T1-SC20190818204935_tile_1024_0/image/LT050290312005031601T1-SC20190818204935_tile_1024_0.tif is a low contrast image\n",
      "  warn('%s is a low contrast image' % fname)\n"
     ]
    },
    {
     "name": "stdout",
     "output_type": "stream",
     "text": [
      "removed scene and label, 0.02% bad data\n"
     ]
    },
    {
     "name": "stderr",
     "output_type": "stream",
     "text": [
      "/data/anaconda/envs/cropmask/lib/python3.7/site-packages/skimage/io/_io.py:141: UserWarning: /mnt/cropmaskperm/landsat-clear-scenes-2005/train/LT050290312005031601T1-SC20190818204935_tile_1024_1024/image/LT050290312005031601T1-SC20190818204935_tile_1024_1024.tif is a low contrast image\n",
      "  warn('%s is a low contrast image' % fname)\n"
     ]
    },
    {
     "name": "stdout",
     "output_type": "stream",
     "text": [
      "removed scene and label, 0.02% bad data\n"
     ]
    },
    {
     "name": "stderr",
     "output_type": "stream",
     "text": [
      "/data/anaconda/envs/cropmask/lib/python3.7/site-packages/skimage/io/_io.py:141: UserWarning: /mnt/cropmaskperm/landsat-clear-scenes-2005/train/LT050290312005031601T1-SC20190818204935_tile_1024_1536/image/LT050290312005031601T1-SC20190818204935_tile_1024_1536.tif is a low contrast image\n",
      "  warn('%s is a low contrast image' % fname)\n"
     ]
    },
    {
     "name": "stdout",
     "output_type": "stream",
     "text": [
      "removed scene and label, 0.02% bad data\n"
     ]
    },
    {
     "name": "stderr",
     "output_type": "stream",
     "text": [
      "/data/anaconda/envs/cropmask/lib/python3.7/site-packages/skimage/io/_io.py:141: UserWarning: /mnt/cropmaskperm/landsat-clear-scenes-2005/train/LT050290312005031601T1-SC20190818204935_tile_1024_2048/image/LT050290312005031601T1-SC20190818204935_tile_1024_2048.tif is a low contrast image\n",
      "  warn('%s is a low contrast image' % fname)\n"
     ]
    },
    {
     "name": "stdout",
     "output_type": "stream",
     "text": [
      "removed scene and label, 0.02% bad data\n"
     ]
    },
    {
     "name": "stderr",
     "output_type": "stream",
     "text": [
      "/data/anaconda/envs/cropmask/lib/python3.7/site-packages/skimage/io/_io.py:141: UserWarning: /mnt/cropmaskperm/landsat-clear-scenes-2005/train/LT050290312005031601T1-SC20190818204935_tile_1024_2560/image/LT050290312005031601T1-SC20190818204935_tile_1024_2560.tif is a low contrast image\n",
      "  warn('%s is a low contrast image' % fname)\n",
      "/data/anaconda/envs/cropmask/lib/python3.7/site-packages/skimage/io/_io.py:141: UserWarning: /mnt/cropmaskperm/landsat-clear-scenes-2005/train/LT050290312005031601T1-SC20190818204935_tile_1024_3072/image/LT050290312005031601T1-SC20190818204935_tile_1024_3072.tif is a low contrast image\n",
      "  warn('%s is a low contrast image' % fname)\n",
      "/data/anaconda/envs/cropmask/lib/python3.7/site-packages/skimage/io/_io.py:141: UserWarning: /mnt/cropmaskperm/landsat-clear-scenes-2005/train/LT050290312005031601T1-SC20190818204935_tile_1024_3584/image/LT050290312005031601T1-SC20190818204935_tile_1024_3584.tif is a low contrast image\n",
      "  warn('%s is a low contrast image' % fname)\n",
      "/data/anaconda/envs/cropmask/lib/python3.7/site-packages/skimage/io/_io.py:141: UserWarning: /mnt/cropmaskperm/landsat-clear-scenes-2005/train/LT050290312005031601T1-SC20190818204935_tile_1024_4096/image/LT050290312005031601T1-SC20190818204935_tile_1024_4096.tif is a low contrast image\n",
      "  warn('%s is a low contrast image' % fname)\n",
      "/data/anaconda/envs/cropmask/lib/python3.7/site-packages/skimage/io/_io.py:141: UserWarning: /mnt/cropmaskperm/landsat-clear-scenes-2005/train/LT050290312005031601T1-SC20190818204935_tile_1024_4608/image/LT050290312005031601T1-SC20190818204935_tile_1024_4608.tif is a low contrast image\n",
      "  warn('%s is a low contrast image' % fname)\n",
      "/data/anaconda/envs/cropmask/lib/python3.7/site-packages/skimage/io/_io.py:141: UserWarning: /mnt/cropmaskperm/landsat-clear-scenes-2005/train/LT050290312005031601T1-SC20190818204935_tile_1024_512/image/LT050290312005031601T1-SC20190818204935_tile_1024_512.tif is a low contrast image\n",
      "  warn('%s is a low contrast image' % fname)\n"
     ]
    },
    {
     "name": "stdout",
     "output_type": "stream",
     "text": [
      "removed scene and label, 0.02% bad data\n"
     ]
    },
    {
     "name": "stderr",
     "output_type": "stream",
     "text": [
      "/data/anaconda/envs/cropmask/lib/python3.7/site-packages/skimage/io/_io.py:141: UserWarning: /mnt/cropmaskperm/landsat-clear-scenes-2005/train/LT050290312005031601T1-SC20190818204935_tile_1024_5120/image/LT050290312005031601T1-SC20190818204935_tile_1024_5120.tif is a low contrast image\n",
      "  warn('%s is a low contrast image' % fname)\n",
      "/data/anaconda/envs/cropmask/lib/python3.7/site-packages/skimage/io/_io.py:141: UserWarning: /mnt/cropmaskperm/landsat-clear-scenes-2005/train/LT050290312005031601T1-SC20190818204935_tile_1024_5632/image/LT050290312005031601T1-SC20190818204935_tile_1024_5632.tif is a low contrast image\n",
      "  warn('%s is a low contrast image' % fname)\n"
     ]
    },
    {
     "name": "stdout",
     "output_type": "stream",
     "text": [
      "removed scene and label, 0.02% bad data\n"
     ]
    },
    {
     "name": "stderr",
     "output_type": "stream",
     "text": [
      "/data/anaconda/envs/cropmask/lib/python3.7/site-packages/skimage/io/_io.py:141: UserWarning: /mnt/cropmaskperm/landsat-clear-scenes-2005/train/LT050290312005031601T1-SC20190818204935_tile_1024_6144/image/LT050290312005031601T1-SC20190818204935_tile_1024_6144.tif is a low contrast image\n",
      "  warn('%s is a low contrast image' % fname)\n"
     ]
    },
    {
     "name": "stdout",
     "output_type": "stream",
     "text": [
      "removed scene and label, 0.02% bad data\n"
     ]
    },
    {
     "name": "stderr",
     "output_type": "stream",
     "text": [
      "/data/anaconda/envs/cropmask/lib/python3.7/site-packages/skimage/io/_io.py:141: UserWarning: /mnt/cropmaskperm/landsat-clear-scenes-2005/train/LT050290312005031601T1-SC20190818204935_tile_1024_6656/image/LT050290312005031601T1-SC20190818204935_tile_1024_6656.tif is a low contrast image\n",
      "  warn('%s is a low contrast image' % fname)\n"
     ]
    },
    {
     "name": "stdout",
     "output_type": "stream",
     "text": [
      "removed scene and label, 0.02% bad data\n"
     ]
    },
    {
     "name": "stderr",
     "output_type": "stream",
     "text": [
      "/data/anaconda/envs/cropmask/lib/python3.7/site-packages/skimage/io/_io.py:141: UserWarning: /mnt/cropmaskperm/landsat-clear-scenes-2005/train/LT050290312005031601T1-SC20190818204935_tile_1536_0/image/LT050290312005031601T1-SC20190818204935_tile_1536_0.tif is a low contrast image\n",
      "  warn('%s is a low contrast image' % fname)\n"
     ]
    },
    {
     "name": "stdout",
     "output_type": "stream",
     "text": [
      "removed scene and label, 0.02% bad data\n"
     ]
    },
    {
     "name": "stderr",
     "output_type": "stream",
     "text": [
      "/data/anaconda/envs/cropmask/lib/python3.7/site-packages/skimage/io/_io.py:141: UserWarning: /mnt/cropmaskperm/landsat-clear-scenes-2005/train/LT050290312005031601T1-SC20190818204935_tile_1536_1024/image/LT050290312005031601T1-SC20190818204935_tile_1536_1024.tif is a low contrast image\n",
      "  warn('%s is a low contrast image' % fname)\n",
      "/data/anaconda/envs/cropmask/lib/python3.7/site-packages/skimage/io/_io.py:141: UserWarning: /mnt/cropmaskperm/landsat-clear-scenes-2005/train/LT050290312005031601T1-SC20190818204935_tile_1536_1536/image/LT050290312005031601T1-SC20190818204935_tile_1536_1536.tif is a low contrast image\n",
      "  warn('%s is a low contrast image' % fname)\n",
      "/data/anaconda/envs/cropmask/lib/python3.7/site-packages/skimage/io/_io.py:141: UserWarning: /mnt/cropmaskperm/landsat-clear-scenes-2005/train/LT050290312005031601T1-SC20190818204935_tile_1536_2048/image/LT050290312005031601T1-SC20190818204935_tile_1536_2048.tif is a low contrast image\n",
      "  warn('%s is a low contrast image' % fname)\n",
      "/data/anaconda/envs/cropmask/lib/python3.7/site-packages/skimage/io/_io.py:141: UserWarning: /mnt/cropmaskperm/landsat-clear-scenes-2005/train/LT050290312005031601T1-SC20190818204935_tile_1536_2560/image/LT050290312005031601T1-SC20190818204935_tile_1536_2560.tif is a low contrast image\n",
      "  warn('%s is a low contrast image' % fname)\n",
      "/data/anaconda/envs/cropmask/lib/python3.7/site-packages/skimage/io/_io.py:141: UserWarning: /mnt/cropmaskperm/landsat-clear-scenes-2005/train/LT050290312005031601T1-SC20190818204935_tile_1536_3072/image/LT050290312005031601T1-SC20190818204935_tile_1536_3072.tif is a low contrast image\n",
      "  warn('%s is a low contrast image' % fname)\n",
      "/data/anaconda/envs/cropmask/lib/python3.7/site-packages/skimage/io/_io.py:141: UserWarning: /mnt/cropmaskperm/landsat-clear-scenes-2005/train/LT050290312005031601T1-SC20190818204935_tile_1536_3584/image/LT050290312005031601T1-SC20190818204935_tile_1536_3584.tif is a low contrast image\n",
      "  warn('%s is a low contrast image' % fname)\n",
      "/data/anaconda/envs/cropmask/lib/python3.7/site-packages/skimage/io/_io.py:141: UserWarning: /mnt/cropmaskperm/landsat-clear-scenes-2005/train/LT050290312005031601T1-SC20190818204935_tile_1536_4096/image/LT050290312005031601T1-SC20190818204935_tile_1536_4096.tif is a low contrast image\n",
      "  warn('%s is a low contrast image' % fname)\n",
      "/data/anaconda/envs/cropmask/lib/python3.7/site-packages/skimage/io/_io.py:141: UserWarning: /mnt/cropmaskperm/landsat-clear-scenes-2005/train/LT050290312005031601T1-SC20190818204935_tile_1536_4608/image/LT050290312005031601T1-SC20190818204935_tile_1536_4608.tif is a low contrast image\n",
      "  warn('%s is a low contrast image' % fname)\n",
      "/data/anaconda/envs/cropmask/lib/python3.7/site-packages/skimage/io/_io.py:141: UserWarning: /mnt/cropmaskperm/landsat-clear-scenes-2005/train/LT050290312005031601T1-SC20190818204935_tile_1536_512/image/LT050290312005031601T1-SC20190818204935_tile_1536_512.tif is a low contrast image\n",
      "  warn('%s is a low contrast image' % fname)\n",
      "/data/anaconda/envs/cropmask/lib/python3.7/site-packages/skimage/io/_io.py:141: UserWarning: /mnt/cropmaskperm/landsat-clear-scenes-2005/train/LT050290312005031601T1-SC20190818204935_tile_1536_5120/image/LT050290312005031601T1-SC20190818204935_tile_1536_5120.tif is a low contrast image\n",
      "  warn('%s is a low contrast image' % fname)\n",
      "/data/anaconda/envs/cropmask/lib/python3.7/site-packages/skimage/io/_io.py:141: UserWarning: /mnt/cropmaskperm/landsat-clear-scenes-2005/train/LT050290312005031601T1-SC20190818204935_tile_1536_5632/image/LT050290312005031601T1-SC20190818204935_tile_1536_5632.tif is a low contrast image\n",
      "  warn('%s is a low contrast image' % fname)\n",
      "/data/anaconda/envs/cropmask/lib/python3.7/site-packages/skimage/io/_io.py:141: UserWarning: /mnt/cropmaskperm/landsat-clear-scenes-2005/train/LT050290312005031601T1-SC20190818204935_tile_1536_6144/image/LT050290312005031601T1-SC20190818204935_tile_1536_6144.tif is a low contrast image\n",
      "  warn('%s is a low contrast image' % fname)\n"
     ]
    },
    {
     "name": "stdout",
     "output_type": "stream",
     "text": [
      "removed scene and label, 0.02% bad data\n"
     ]
    },
    {
     "name": "stderr",
     "output_type": "stream",
     "text": [
      "/data/anaconda/envs/cropmask/lib/python3.7/site-packages/skimage/io/_io.py:141: UserWarning: /mnt/cropmaskperm/landsat-clear-scenes-2005/train/LT050290312005031601T1-SC20190818204935_tile_1536_6656/image/LT050290312005031601T1-SC20190818204935_tile_1536_6656.tif is a low contrast image\n",
      "  warn('%s is a low contrast image' % fname)\n"
     ]
    },
    {
     "name": "stdout",
     "output_type": "stream",
     "text": [
      "removed scene and label, 0.02% bad data\n"
     ]
    },
    {
     "name": "stderr",
     "output_type": "stream",
     "text": [
      "/data/anaconda/envs/cropmask/lib/python3.7/site-packages/skimage/io/_io.py:141: UserWarning: /mnt/cropmaskperm/landsat-clear-scenes-2005/train/LT050290312005031601T1-SC20190818204935_tile_2048_0/image/LT050290312005031601T1-SC20190818204935_tile_2048_0.tif is a low contrast image\n",
      "  warn('%s is a low contrast image' % fname)\n"
     ]
    },
    {
     "name": "stdout",
     "output_type": "stream",
     "text": [
      "removed scene and label, 0.02% bad data\n"
     ]
    },
    {
     "name": "stderr",
     "output_type": "stream",
     "text": [
      "/data/anaconda/envs/cropmask/lib/python3.7/site-packages/skimage/io/_io.py:141: UserWarning: /mnt/cropmaskperm/landsat-clear-scenes-2005/train/LT050290312005031601T1-SC20190818204935_tile_2048_1024/image/LT050290312005031601T1-SC20190818204935_tile_2048_1024.tif is a low contrast image\n",
      "  warn('%s is a low contrast image' % fname)\n",
      "/data/anaconda/envs/cropmask/lib/python3.7/site-packages/skimage/io/_io.py:141: UserWarning: /mnt/cropmaskperm/landsat-clear-scenes-2005/train/LT050290312005031601T1-SC20190818204935_tile_2048_1536/image/LT050290312005031601T1-SC20190818204935_tile_2048_1536.tif is a low contrast image\n",
      "  warn('%s is a low contrast image' % fname)\n",
      "/data/anaconda/envs/cropmask/lib/python3.7/site-packages/skimage/io/_io.py:141: UserWarning: /mnt/cropmaskperm/landsat-clear-scenes-2005/train/LT050290312005031601T1-SC20190818204935_tile_2048_2048/image/LT050290312005031601T1-SC20190818204935_tile_2048_2048.tif is a low contrast image\n",
      "  warn('%s is a low contrast image' % fname)\n",
      "/data/anaconda/envs/cropmask/lib/python3.7/site-packages/skimage/io/_io.py:141: UserWarning: /mnt/cropmaskperm/landsat-clear-scenes-2005/train/LT050290312005031601T1-SC20190818204935_tile_2048_2560/image/LT050290312005031601T1-SC20190818204935_tile_2048_2560.tif is a low contrast image\n",
      "  warn('%s is a low contrast image' % fname)\n",
      "/data/anaconda/envs/cropmask/lib/python3.7/site-packages/skimage/io/_io.py:141: UserWarning: /mnt/cropmaskperm/landsat-clear-scenes-2005/train/LT050290312005031601T1-SC20190818204935_tile_2048_3072/image/LT050290312005031601T1-SC20190818204935_tile_2048_3072.tif is a low contrast image\n",
      "  warn('%s is a low contrast image' % fname)\n",
      "/data/anaconda/envs/cropmask/lib/python3.7/site-packages/skimage/io/_io.py:141: UserWarning: /mnt/cropmaskperm/landsat-clear-scenes-2005/train/LT050290312005031601T1-SC20190818204935_tile_2048_3584/image/LT050290312005031601T1-SC20190818204935_tile_2048_3584.tif is a low contrast image\n",
      "  warn('%s is a low contrast image' % fname)\n",
      "/data/anaconda/envs/cropmask/lib/python3.7/site-packages/skimage/io/_io.py:141: UserWarning: /mnt/cropmaskperm/landsat-clear-scenes-2005/train/LT050290312005031601T1-SC20190818204935_tile_2048_4096/image/LT050290312005031601T1-SC20190818204935_tile_2048_4096.tif is a low contrast image\n",
      "  warn('%s is a low contrast image' % fname)\n",
      "/data/anaconda/envs/cropmask/lib/python3.7/site-packages/skimage/io/_io.py:141: UserWarning: /mnt/cropmaskperm/landsat-clear-scenes-2005/train/LT050290312005031601T1-SC20190818204935_tile_2048_4608/image/LT050290312005031601T1-SC20190818204935_tile_2048_4608.tif is a low contrast image\n",
      "  warn('%s is a low contrast image' % fname)\n",
      "/data/anaconda/envs/cropmask/lib/python3.7/site-packages/skimage/io/_io.py:141: UserWarning: /mnt/cropmaskperm/landsat-clear-scenes-2005/train/LT050290312005031601T1-SC20190818204935_tile_2048_512/image/LT050290312005031601T1-SC20190818204935_tile_2048_512.tif is a low contrast image\n",
      "  warn('%s is a low contrast image' % fname)\n",
      "/data/anaconda/envs/cropmask/lib/python3.7/site-packages/skimage/io/_io.py:141: UserWarning: /mnt/cropmaskperm/landsat-clear-scenes-2005/train/LT050290312005031601T1-SC20190818204935_tile_2048_5120/image/LT050290312005031601T1-SC20190818204935_tile_2048_5120.tif is a low contrast image\n",
      "  warn('%s is a low contrast image' % fname)\n",
      "/data/anaconda/envs/cropmask/lib/python3.7/site-packages/skimage/io/_io.py:141: UserWarning: /mnt/cropmaskperm/landsat-clear-scenes-2005/train/LT050290312005031601T1-SC20190818204935_tile_2048_5632/image/LT050290312005031601T1-SC20190818204935_tile_2048_5632.tif is a low contrast image\n",
      "  warn('%s is a low contrast image' % fname)\n",
      "/data/anaconda/envs/cropmask/lib/python3.7/site-packages/skimage/io/_io.py:141: UserWarning: /mnt/cropmaskperm/landsat-clear-scenes-2005/train/LT050290312005031601T1-SC20190818204935_tile_2048_6144/image/LT050290312005031601T1-SC20190818204935_tile_2048_6144.tif is a low contrast image\n",
      "  warn('%s is a low contrast image' % fname)\n"
     ]
    },
    {
     "name": "stdout",
     "output_type": "stream",
     "text": [
      "removed scene and label, 0.02% bad data\n"
     ]
    },
    {
     "name": "stderr",
     "output_type": "stream",
     "text": [
      "/data/anaconda/envs/cropmask/lib/python3.7/site-packages/skimage/io/_io.py:141: UserWarning: /mnt/cropmaskperm/landsat-clear-scenes-2005/train/LT050290312005031601T1-SC20190818204935_tile_2048_6656/image/LT050290312005031601T1-SC20190818204935_tile_2048_6656.tif is a low contrast image\n",
      "  warn('%s is a low contrast image' % fname)\n"
     ]
    },
    {
     "name": "stdout",
     "output_type": "stream",
     "text": [
      "removed scene and label, 0.02% bad data\n"
     ]
    },
    {
     "name": "stderr",
     "output_type": "stream",
     "text": [
      "/data/anaconda/envs/cropmask/lib/python3.7/site-packages/skimage/io/_io.py:141: UserWarning: /mnt/cropmaskperm/landsat-clear-scenes-2005/train/LT050290312005031601T1-SC20190818204935_tile_2560_0/image/LT050290312005031601T1-SC20190818204935_tile_2560_0.tif is a low contrast image\n",
      "  warn('%s is a low contrast image' % fname)\n"
     ]
    },
    {
     "name": "stdout",
     "output_type": "stream",
     "text": [
      "removed scene and label, 0.02% bad data\n"
     ]
    },
    {
     "name": "stderr",
     "output_type": "stream",
     "text": [
      "/data/anaconda/envs/cropmask/lib/python3.7/site-packages/skimage/io/_io.py:141: UserWarning: /mnt/cropmaskperm/landsat-clear-scenes-2005/train/LT050290312005031601T1-SC20190818204935_tile_2560_1024/image/LT050290312005031601T1-SC20190818204935_tile_2560_1024.tif is a low contrast image\n",
      "  warn('%s is a low contrast image' % fname)\n",
      "/data/anaconda/envs/cropmask/lib/python3.7/site-packages/skimage/io/_io.py:141: UserWarning: /mnt/cropmaskperm/landsat-clear-scenes-2005/train/LT050290312005031601T1-SC20190818204935_tile_2560_1536/image/LT050290312005031601T1-SC20190818204935_tile_2560_1536.tif is a low contrast image\n",
      "  warn('%s is a low contrast image' % fname)\n",
      "/data/anaconda/envs/cropmask/lib/python3.7/site-packages/skimage/io/_io.py:141: UserWarning: /mnt/cropmaskperm/landsat-clear-scenes-2005/train/LT050290312005031601T1-SC20190818204935_tile_2560_2048/image/LT050290312005031601T1-SC20190818204935_tile_2560_2048.tif is a low contrast image\n",
      "  warn('%s is a low contrast image' % fname)\n",
      "/data/anaconda/envs/cropmask/lib/python3.7/site-packages/skimage/io/_io.py:141: UserWarning: /mnt/cropmaskperm/landsat-clear-scenes-2005/train/LT050290312005031601T1-SC20190818204935_tile_2560_2560/image/LT050290312005031601T1-SC20190818204935_tile_2560_2560.tif is a low contrast image\n",
      "  warn('%s is a low contrast image' % fname)\n",
      "/data/anaconda/envs/cropmask/lib/python3.7/site-packages/skimage/io/_io.py:141: UserWarning: /mnt/cropmaskperm/landsat-clear-scenes-2005/train/LT050290312005031601T1-SC20190818204935_tile_2560_3072/image/LT050290312005031601T1-SC20190818204935_tile_2560_3072.tif is a low contrast image\n",
      "  warn('%s is a low contrast image' % fname)\n",
      "/data/anaconda/envs/cropmask/lib/python3.7/site-packages/skimage/io/_io.py:141: UserWarning: /mnt/cropmaskperm/landsat-clear-scenes-2005/train/LT050290312005031601T1-SC20190818204935_tile_2560_3584/image/LT050290312005031601T1-SC20190818204935_tile_2560_3584.tif is a low contrast image\n",
      "  warn('%s is a low contrast image' % fname)\n",
      "/data/anaconda/envs/cropmask/lib/python3.7/site-packages/skimage/io/_io.py:141: UserWarning: /mnt/cropmaskperm/landsat-clear-scenes-2005/train/LT050290312005031601T1-SC20190818204935_tile_2560_4096/image/LT050290312005031601T1-SC20190818204935_tile_2560_4096.tif is a low contrast image\n",
      "  warn('%s is a low contrast image' % fname)\n",
      "/data/anaconda/envs/cropmask/lib/python3.7/site-packages/skimage/io/_io.py:141: UserWarning: /mnt/cropmaskperm/landsat-clear-scenes-2005/train/LT050290312005031601T1-SC20190818204935_tile_2560_4608/image/LT050290312005031601T1-SC20190818204935_tile_2560_4608.tif is a low contrast image\n",
      "  warn('%s is a low contrast image' % fname)\n",
      "/data/anaconda/envs/cropmask/lib/python3.7/site-packages/skimage/io/_io.py:141: UserWarning: /mnt/cropmaskperm/landsat-clear-scenes-2005/train/LT050290312005031601T1-SC20190818204935_tile_2560_512/image/LT050290312005031601T1-SC20190818204935_tile_2560_512.tif is a low contrast image\n",
      "  warn('%s is a low contrast image' % fname)\n",
      "/data/anaconda/envs/cropmask/lib/python3.7/site-packages/skimage/io/_io.py:141: UserWarning: /mnt/cropmaskperm/landsat-clear-scenes-2005/train/LT050290312005031601T1-SC20190818204935_tile_2560_5120/image/LT050290312005031601T1-SC20190818204935_tile_2560_5120.tif is a low contrast image\n",
      "  warn('%s is a low contrast image' % fname)\n",
      "/data/anaconda/envs/cropmask/lib/python3.7/site-packages/skimage/io/_io.py:141: UserWarning: /mnt/cropmaskperm/landsat-clear-scenes-2005/train/LT050290312005031601T1-SC20190818204935_tile_2560_5632/image/LT050290312005031601T1-SC20190818204935_tile_2560_5632.tif is a low contrast image\n",
      "  warn('%s is a low contrast image' % fname)\n",
      "/data/anaconda/envs/cropmask/lib/python3.7/site-packages/skimage/io/_io.py:141: UserWarning: /mnt/cropmaskperm/landsat-clear-scenes-2005/train/LT050290312005031601T1-SC20190818204935_tile_2560_6144/image/LT050290312005031601T1-SC20190818204935_tile_2560_6144.tif is a low contrast image\n",
      "  warn('%s is a low contrast image' % fname)\n"
     ]
    },
    {
     "name": "stdout",
     "output_type": "stream",
     "text": [
      "removed scene and label, 0.02% bad data\n"
     ]
    },
    {
     "name": "stderr",
     "output_type": "stream",
     "text": [
      "/data/anaconda/envs/cropmask/lib/python3.7/site-packages/skimage/io/_io.py:141: UserWarning: /mnt/cropmaskperm/landsat-clear-scenes-2005/train/LT050290312005031601T1-SC20190818204935_tile_2560_6656/image/LT050290312005031601T1-SC20190818204935_tile_2560_6656.tif is a low contrast image\n",
      "  warn('%s is a low contrast image' % fname)\n"
     ]
    },
    {
     "name": "stdout",
     "output_type": "stream",
     "text": [
      "removed scene and label, 0.02% bad data\n"
     ]
    },
    {
     "name": "stderr",
     "output_type": "stream",
     "text": [
      "/data/anaconda/envs/cropmask/lib/python3.7/site-packages/skimage/io/_io.py:141: UserWarning: /mnt/cropmaskperm/landsat-clear-scenes-2005/train/LT050290312005031601T1-SC20190818204935_tile_3072_0/image/LT050290312005031601T1-SC20190818204935_tile_3072_0.tif is a low contrast image\n",
      "  warn('%s is a low contrast image' % fname)\n"
     ]
    },
    {
     "name": "stdout",
     "output_type": "stream",
     "text": [
      "removed scene and label, 0.02% bad data\n"
     ]
    },
    {
     "name": "stderr",
     "output_type": "stream",
     "text": [
      "/data/anaconda/envs/cropmask/lib/python3.7/site-packages/skimage/io/_io.py:141: UserWarning: /mnt/cropmaskperm/landsat-clear-scenes-2005/train/LT050290312005031601T1-SC20190818204935_tile_3072_1024/image/LT050290312005031601T1-SC20190818204935_tile_3072_1024.tif is a low contrast image\n",
      "  warn('%s is a low contrast image' % fname)\n",
      "/data/anaconda/envs/cropmask/lib/python3.7/site-packages/skimage/io/_io.py:141: UserWarning: /mnt/cropmaskperm/landsat-clear-scenes-2005/train/LT050290312005031601T1-SC20190818204935_tile_3072_1536/image/LT050290312005031601T1-SC20190818204935_tile_3072_1536.tif is a low contrast image\n",
      "  warn('%s is a low contrast image' % fname)\n",
      "/data/anaconda/envs/cropmask/lib/python3.7/site-packages/skimage/io/_io.py:141: UserWarning: /mnt/cropmaskperm/landsat-clear-scenes-2005/train/LT050290312005031601T1-SC20190818204935_tile_3072_2048/image/LT050290312005031601T1-SC20190818204935_tile_3072_2048.tif is a low contrast image\n",
      "  warn('%s is a low contrast image' % fname)\n",
      "/data/anaconda/envs/cropmask/lib/python3.7/site-packages/skimage/io/_io.py:141: UserWarning: /mnt/cropmaskperm/landsat-clear-scenes-2005/train/LT050290312005031601T1-SC20190818204935_tile_3072_2560/image/LT050290312005031601T1-SC20190818204935_tile_3072_2560.tif is a low contrast image\n",
      "  warn('%s is a low contrast image' % fname)\n",
      "/data/anaconda/envs/cropmask/lib/python3.7/site-packages/skimage/io/_io.py:141: UserWarning: /mnt/cropmaskperm/landsat-clear-scenes-2005/train/LT050290312005031601T1-SC20190818204935_tile_3072_3072/image/LT050290312005031601T1-SC20190818204935_tile_3072_3072.tif is a low contrast image\n",
      "  warn('%s is a low contrast image' % fname)\n",
      "/data/anaconda/envs/cropmask/lib/python3.7/site-packages/skimage/io/_io.py:141: UserWarning: /mnt/cropmaskperm/landsat-clear-scenes-2005/train/LT050290312005031601T1-SC20190818204935_tile_3072_3584/image/LT050290312005031601T1-SC20190818204935_tile_3072_3584.tif is a low contrast image\n",
      "  warn('%s is a low contrast image' % fname)\n",
      "/data/anaconda/envs/cropmask/lib/python3.7/site-packages/skimage/io/_io.py:141: UserWarning: /mnt/cropmaskperm/landsat-clear-scenes-2005/train/LT050290312005031601T1-SC20190818204935_tile_3072_4096/image/LT050290312005031601T1-SC20190818204935_tile_3072_4096.tif is a low contrast image\n",
      "  warn('%s is a low contrast image' % fname)\n",
      "/data/anaconda/envs/cropmask/lib/python3.7/site-packages/skimage/io/_io.py:141: UserWarning: /mnt/cropmaskperm/landsat-clear-scenes-2005/train/LT050290312005031601T1-SC20190818204935_tile_3072_4608/image/LT050290312005031601T1-SC20190818204935_tile_3072_4608.tif is a low contrast image\n",
      "  warn('%s is a low contrast image' % fname)\n",
      "/data/anaconda/envs/cropmask/lib/python3.7/site-packages/skimage/io/_io.py:141: UserWarning: /mnt/cropmaskperm/landsat-clear-scenes-2005/train/LT050290312005031601T1-SC20190818204935_tile_3072_512/image/LT050290312005031601T1-SC20190818204935_tile_3072_512.tif is a low contrast image\n",
      "  warn('%s is a low contrast image' % fname)\n",
      "/data/anaconda/envs/cropmask/lib/python3.7/site-packages/skimage/io/_io.py:141: UserWarning: /mnt/cropmaskperm/landsat-clear-scenes-2005/train/LT050290312005031601T1-SC20190818204935_tile_3072_5120/image/LT050290312005031601T1-SC20190818204935_tile_3072_5120.tif is a low contrast image\n",
      "  warn('%s is a low contrast image' % fname)\n",
      "/data/anaconda/envs/cropmask/lib/python3.7/site-packages/skimage/io/_io.py:141: UserWarning: /mnt/cropmaskperm/landsat-clear-scenes-2005/train/LT050290312005031601T1-SC20190818204935_tile_3072_5632/image/LT050290312005031601T1-SC20190818204935_tile_3072_5632.tif is a low contrast image\n",
      "  warn('%s is a low contrast image' % fname)\n",
      "/data/anaconda/envs/cropmask/lib/python3.7/site-packages/skimage/io/_io.py:141: UserWarning: /mnt/cropmaskperm/landsat-clear-scenes-2005/train/LT050290312005031601T1-SC20190818204935_tile_3072_6144/image/LT050290312005031601T1-SC20190818204935_tile_3072_6144.tif is a low contrast image\n",
      "  warn('%s is a low contrast image' % fname)\n"
     ]
    },
    {
     "name": "stdout",
     "output_type": "stream",
     "text": [
      "removed scene and label, 0.02% bad data\n"
     ]
    },
    {
     "name": "stderr",
     "output_type": "stream",
     "text": [
      "/data/anaconda/envs/cropmask/lib/python3.7/site-packages/skimage/io/_io.py:141: UserWarning: /mnt/cropmaskperm/landsat-clear-scenes-2005/train/LT050290312005031601T1-SC20190818204935_tile_3072_6656/image/LT050290312005031601T1-SC20190818204935_tile_3072_6656.tif is a low contrast image\n",
      "  warn('%s is a low contrast image' % fname)\n"
     ]
    },
    {
     "name": "stdout",
     "output_type": "stream",
     "text": [
      "removed scene and label, 0.02% bad data\n"
     ]
    },
    {
     "name": "stderr",
     "output_type": "stream",
     "text": [
      "/data/anaconda/envs/cropmask/lib/python3.7/site-packages/skimage/io/_io.py:141: UserWarning: /mnt/cropmaskperm/landsat-clear-scenes-2005/train/LT050290312005031601T1-SC20190818204935_tile_3584_0/image/LT050290312005031601T1-SC20190818204935_tile_3584_0.tif is a low contrast image\n",
      "  warn('%s is a low contrast image' % fname)\n"
     ]
    },
    {
     "name": "stdout",
     "output_type": "stream",
     "text": [
      "removed scene and label, 0.02% bad data\n"
     ]
    },
    {
     "name": "stderr",
     "output_type": "stream",
     "text": [
      "/data/anaconda/envs/cropmask/lib/python3.7/site-packages/skimage/io/_io.py:141: UserWarning: /mnt/cropmaskperm/landsat-clear-scenes-2005/train/LT050290312005031601T1-SC20190818204935_tile_3584_1024/image/LT050290312005031601T1-SC20190818204935_tile_3584_1024.tif is a low contrast image\n",
      "  warn('%s is a low contrast image' % fname)\n",
      "/data/anaconda/envs/cropmask/lib/python3.7/site-packages/skimage/io/_io.py:141: UserWarning: /mnt/cropmaskperm/landsat-clear-scenes-2005/train/LT050290312005031601T1-SC20190818204935_tile_3584_1536/image/LT050290312005031601T1-SC20190818204935_tile_3584_1536.tif is a low contrast image\n",
      "  warn('%s is a low contrast image' % fname)\n",
      "/data/anaconda/envs/cropmask/lib/python3.7/site-packages/skimage/io/_io.py:141: UserWarning: /mnt/cropmaskperm/landsat-clear-scenes-2005/train/LT050290312005031601T1-SC20190818204935_tile_3584_2048/image/LT050290312005031601T1-SC20190818204935_tile_3584_2048.tif is a low contrast image\n",
      "  warn('%s is a low contrast image' % fname)\n",
      "/data/anaconda/envs/cropmask/lib/python3.7/site-packages/skimage/io/_io.py:141: UserWarning: /mnt/cropmaskperm/landsat-clear-scenes-2005/train/LT050290312005031601T1-SC20190818204935_tile_3584_2560/image/LT050290312005031601T1-SC20190818204935_tile_3584_2560.tif is a low contrast image\n",
      "  warn('%s is a low contrast image' % fname)\n",
      "/data/anaconda/envs/cropmask/lib/python3.7/site-packages/skimage/io/_io.py:141: UserWarning: /mnt/cropmaskperm/landsat-clear-scenes-2005/train/LT050290312005031601T1-SC20190818204935_tile_3584_3072/image/LT050290312005031601T1-SC20190818204935_tile_3584_3072.tif is a low contrast image\n",
      "  warn('%s is a low contrast image' % fname)\n",
      "/data/anaconda/envs/cropmask/lib/python3.7/site-packages/skimage/io/_io.py:141: UserWarning: /mnt/cropmaskperm/landsat-clear-scenes-2005/train/LT050290312005031601T1-SC20190818204935_tile_3584_3584/image/LT050290312005031601T1-SC20190818204935_tile_3584_3584.tif is a low contrast image\n",
      "  warn('%s is a low contrast image' % fname)\n",
      "/data/anaconda/envs/cropmask/lib/python3.7/site-packages/skimage/io/_io.py:141: UserWarning: /mnt/cropmaskperm/landsat-clear-scenes-2005/train/LT050290312005031601T1-SC20190818204935_tile_3584_4096/image/LT050290312005031601T1-SC20190818204935_tile_3584_4096.tif is a low contrast image\n",
      "  warn('%s is a low contrast image' % fname)\n",
      "/data/anaconda/envs/cropmask/lib/python3.7/site-packages/skimage/io/_io.py:141: UserWarning: /mnt/cropmaskperm/landsat-clear-scenes-2005/train/LT050290312005031601T1-SC20190818204935_tile_3584_4608/image/LT050290312005031601T1-SC20190818204935_tile_3584_4608.tif is a low contrast image\n",
      "  warn('%s is a low contrast image' % fname)\n",
      "/data/anaconda/envs/cropmask/lib/python3.7/site-packages/skimage/io/_io.py:141: UserWarning: /mnt/cropmaskperm/landsat-clear-scenes-2005/train/LT050290312005031601T1-SC20190818204935_tile_3584_512/image/LT050290312005031601T1-SC20190818204935_tile_3584_512.tif is a low contrast image\n",
      "  warn('%s is a low contrast image' % fname)\n",
      "/data/anaconda/envs/cropmask/lib/python3.7/site-packages/skimage/io/_io.py:141: UserWarning: /mnt/cropmaskperm/landsat-clear-scenes-2005/train/LT050290312005031601T1-SC20190818204935_tile_3584_5120/image/LT050290312005031601T1-SC20190818204935_tile_3584_5120.tif is a low contrast image\n",
      "  warn('%s is a low contrast image' % fname)\n",
      "/data/anaconda/envs/cropmask/lib/python3.7/site-packages/skimage/io/_io.py:141: UserWarning: /mnt/cropmaskperm/landsat-clear-scenes-2005/train/LT050290312005031601T1-SC20190818204935_tile_3584_5632/image/LT050290312005031601T1-SC20190818204935_tile_3584_5632.tif is a low contrast image\n",
      "  warn('%s is a low contrast image' % fname)\n",
      "/data/anaconda/envs/cropmask/lib/python3.7/site-packages/skimage/io/_io.py:141: UserWarning: /mnt/cropmaskperm/landsat-clear-scenes-2005/train/LT050290312005031601T1-SC20190818204935_tile_3584_6144/image/LT050290312005031601T1-SC20190818204935_tile_3584_6144.tif is a low contrast image\n",
      "  warn('%s is a low contrast image' % fname)\n"
     ]
    },
    {
     "name": "stdout",
     "output_type": "stream",
     "text": [
      "removed scene and label, 0.02% bad data\n"
     ]
    },
    {
     "name": "stderr",
     "output_type": "stream",
     "text": [
      "/data/anaconda/envs/cropmask/lib/python3.7/site-packages/skimage/io/_io.py:141: UserWarning: /mnt/cropmaskperm/landsat-clear-scenes-2005/train/LT050290312005031601T1-SC20190818204935_tile_3584_6656/image/LT050290312005031601T1-SC20190818204935_tile_3584_6656.tif is a low contrast image\n",
      "  warn('%s is a low contrast image' % fname)\n"
     ]
    },
    {
     "name": "stdout",
     "output_type": "stream",
     "text": [
      "removed scene and label, 0.02% bad data\n"
     ]
    },
    {
     "name": "stderr",
     "output_type": "stream",
     "text": [
      "/data/anaconda/envs/cropmask/lib/python3.7/site-packages/skimage/io/_io.py:141: UserWarning: /mnt/cropmaskperm/landsat-clear-scenes-2005/train/LT050290312005031601T1-SC20190818204935_tile_4096_0/image/LT050290312005031601T1-SC20190818204935_tile_4096_0.tif is a low contrast image\n",
      "  warn('%s is a low contrast image' % fname)\n"
     ]
    },
    {
     "name": "stdout",
     "output_type": "stream",
     "text": [
      "removed scene and label, 0.02% bad data\n"
     ]
    },
    {
     "name": "stderr",
     "output_type": "stream",
     "text": [
      "/data/anaconda/envs/cropmask/lib/python3.7/site-packages/skimage/io/_io.py:141: UserWarning: /mnt/cropmaskperm/landsat-clear-scenes-2005/train/LT050290312005031601T1-SC20190818204935_tile_4096_1536/image/LT050290312005031601T1-SC20190818204935_tile_4096_1536.tif is a low contrast image\n",
      "  warn('%s is a low contrast image' % fname)\n",
      "/data/anaconda/envs/cropmask/lib/python3.7/site-packages/skimage/io/_io.py:141: UserWarning: /mnt/cropmaskperm/landsat-clear-scenes-2005/train/LT050290312005031601T1-SC20190818204935_tile_4096_2048/image/LT050290312005031601T1-SC20190818204935_tile_4096_2048.tif is a low contrast image\n",
      "  warn('%s is a low contrast image' % fname)\n",
      "/data/anaconda/envs/cropmask/lib/python3.7/site-packages/skimage/io/_io.py:141: UserWarning: /mnt/cropmaskperm/landsat-clear-scenes-2005/train/LT050290312005031601T1-SC20190818204935_tile_4096_2560/image/LT050290312005031601T1-SC20190818204935_tile_4096_2560.tif is a low contrast image\n",
      "  warn('%s is a low contrast image' % fname)\n",
      "/data/anaconda/envs/cropmask/lib/python3.7/site-packages/skimage/io/_io.py:141: UserWarning: /mnt/cropmaskperm/landsat-clear-scenes-2005/train/LT050290312005031601T1-SC20190818204935_tile_4096_3072/image/LT050290312005031601T1-SC20190818204935_tile_4096_3072.tif is a low contrast image\n",
      "  warn('%s is a low contrast image' % fname)\n",
      "/data/anaconda/envs/cropmask/lib/python3.7/site-packages/skimage/io/_io.py:141: UserWarning: /mnt/cropmaskperm/landsat-clear-scenes-2005/train/LT050290312005031601T1-SC20190818204935_tile_4096_3584/image/LT050290312005031601T1-SC20190818204935_tile_4096_3584.tif is a low contrast image\n",
      "  warn('%s is a low contrast image' % fname)\n",
      "/data/anaconda/envs/cropmask/lib/python3.7/site-packages/skimage/io/_io.py:141: UserWarning: /mnt/cropmaskperm/landsat-clear-scenes-2005/train/LT050290312005031601T1-SC20190818204935_tile_4096_4096/image/LT050290312005031601T1-SC20190818204935_tile_4096_4096.tif is a low contrast image\n",
      "  warn('%s is a low contrast image' % fname)\n",
      "/data/anaconda/envs/cropmask/lib/python3.7/site-packages/skimage/io/_io.py:141: UserWarning: /mnt/cropmaskperm/landsat-clear-scenes-2005/train/LT050290312005031601T1-SC20190818204935_tile_4096_4608/image/LT050290312005031601T1-SC20190818204935_tile_4096_4608.tif is a low contrast image\n",
      "  warn('%s is a low contrast image' % fname)\n"
     ]
    },
    {
     "name": "stdout",
     "output_type": "stream",
     "text": [
      "removed scene and label, 0.02% bad data\n"
     ]
    },
    {
     "name": "stderr",
     "output_type": "stream",
     "text": [
      "/data/anaconda/envs/cropmask/lib/python3.7/site-packages/skimage/io/_io.py:141: UserWarning: /mnt/cropmaskperm/landsat-clear-scenes-2005/train/LT050290312005031601T1-SC20190818204935_tile_4096_5120/image/LT050290312005031601T1-SC20190818204935_tile_4096_5120.tif is a low contrast image\n",
      "  warn('%s is a low contrast image' % fname)\n",
      "/data/anaconda/envs/cropmask/lib/python3.7/site-packages/skimage/io/_io.py:141: UserWarning: /mnt/cropmaskperm/landsat-clear-scenes-2005/train/LT050290312005031601T1-SC20190818204935_tile_4096_5632/image/LT050290312005031601T1-SC20190818204935_tile_4096_5632.tif is a low contrast image\n",
      "  warn('%s is a low contrast image' % fname)\n",
      "/data/anaconda/envs/cropmask/lib/python3.7/site-packages/skimage/io/_io.py:141: UserWarning: /mnt/cropmaskperm/landsat-clear-scenes-2005/train/LT050290312005031601T1-SC20190818204935_tile_4096_6144/image/LT050290312005031601T1-SC20190818204935_tile_4096_6144.tif is a low contrast image\n",
      "  warn('%s is a low contrast image' % fname)\n",
      "/data/anaconda/envs/cropmask/lib/python3.7/site-packages/skimage/io/_io.py:141: UserWarning: /mnt/cropmaskperm/landsat-clear-scenes-2005/train/LT050290312005031601T1-SC20190818204935_tile_4096_6656/image/LT050290312005031601T1-SC20190818204935_tile_4096_6656.tif is a low contrast image\n",
      "  warn('%s is a low contrast image' % fname)\n"
     ]
    },
    {
     "name": "stdout",
     "output_type": "stream",
     "text": [
      "removed scene and label, 0.02% bad data\n"
     ]
    },
    {
     "name": "stderr",
     "output_type": "stream",
     "text": [
      "/data/anaconda/envs/cropmask/lib/python3.7/site-packages/skimage/io/_io.py:141: UserWarning: /mnt/cropmaskperm/landsat-clear-scenes-2005/train/LT050290312005031601T1-SC20190818204935_tile_4608_0/image/LT050290312005031601T1-SC20190818204935_tile_4608_0.tif is a low contrast image\n",
      "  warn('%s is a low contrast image' % fname)\n"
     ]
    },
    {
     "name": "stdout",
     "output_type": "stream",
     "text": [
      "removed scene and label, 0.02% bad data\n"
     ]
    },
    {
     "name": "stderr",
     "output_type": "stream",
     "text": [
      "/data/anaconda/envs/cropmask/lib/python3.7/site-packages/skimage/io/_io.py:141: UserWarning: /mnt/cropmaskperm/landsat-clear-scenes-2005/train/LT050290312005031601T1-SC20190818204935_tile_4608_1024/image/LT050290312005031601T1-SC20190818204935_tile_4608_1024.tif is a low contrast image\n",
      "  warn('%s is a low contrast image' % fname)\n",
      "/data/anaconda/envs/cropmask/lib/python3.7/site-packages/skimage/io/_io.py:141: UserWarning: /mnt/cropmaskperm/landsat-clear-scenes-2005/train/LT050290312005031601T1-SC20190818204935_tile_4608_1536/image/LT050290312005031601T1-SC20190818204935_tile_4608_1536.tif is a low contrast image\n",
      "  warn('%s is a low contrast image' % fname)\n",
      "/data/anaconda/envs/cropmask/lib/python3.7/site-packages/skimage/io/_io.py:141: UserWarning: /mnt/cropmaskperm/landsat-clear-scenes-2005/train/LT050290312005031601T1-SC20190818204935_tile_4608_2048/image/LT050290312005031601T1-SC20190818204935_tile_4608_2048.tif is a low contrast image\n",
      "  warn('%s is a low contrast image' % fname)\n",
      "/data/anaconda/envs/cropmask/lib/python3.7/site-packages/skimage/io/_io.py:141: UserWarning: /mnt/cropmaskperm/landsat-clear-scenes-2005/train/LT050290312005031601T1-SC20190818204935_tile_4608_2560/image/LT050290312005031601T1-SC20190818204935_tile_4608_2560.tif is a low contrast image\n",
      "  warn('%s is a low contrast image' % fname)\n",
      "/data/anaconda/envs/cropmask/lib/python3.7/site-packages/skimage/io/_io.py:141: UserWarning: /mnt/cropmaskperm/landsat-clear-scenes-2005/train/LT050290312005031601T1-SC20190818204935_tile_4608_3072/image/LT050290312005031601T1-SC20190818204935_tile_4608_3072.tif is a low contrast image\n",
      "  warn('%s is a low contrast image' % fname)\n",
      "/data/anaconda/envs/cropmask/lib/python3.7/site-packages/skimage/io/_io.py:141: UserWarning: /mnt/cropmaskperm/landsat-clear-scenes-2005/train/LT050290312005031601T1-SC20190818204935_tile_4608_3584/image/LT050290312005031601T1-SC20190818204935_tile_4608_3584.tif is a low contrast image\n",
      "  warn('%s is a low contrast image' % fname)\n",
      "/data/anaconda/envs/cropmask/lib/python3.7/site-packages/skimage/io/_io.py:141: UserWarning: /mnt/cropmaskperm/landsat-clear-scenes-2005/train/LT050290312005031601T1-SC20190818204935_tile_4608_4096/image/LT050290312005031601T1-SC20190818204935_tile_4608_4096.tif is a low contrast image\n",
      "  warn('%s is a low contrast image' % fname)\n",
      "/data/anaconda/envs/cropmask/lib/python3.7/site-packages/skimage/io/_io.py:141: UserWarning: /mnt/cropmaskperm/landsat-clear-scenes-2005/train/LT050290312005031601T1-SC20190818204935_tile_4608_4608/image/LT050290312005031601T1-SC20190818204935_tile_4608_4608.tif is a low contrast image\n",
      "  warn('%s is a low contrast image' % fname)\n"
     ]
    },
    {
     "name": "stdout",
     "output_type": "stream",
     "text": [
      "removed scene and label, 0.02% bad data\n"
     ]
    },
    {
     "name": "stderr",
     "output_type": "stream",
     "text": [
      "/data/anaconda/envs/cropmask/lib/python3.7/site-packages/skimage/io/_io.py:141: UserWarning: /mnt/cropmaskperm/landsat-clear-scenes-2005/train/LT050290312005031601T1-SC20190818204935_tile_4608_5120/image/LT050290312005031601T1-SC20190818204935_tile_4608_5120.tif is a low contrast image\n",
      "  warn('%s is a low contrast image' % fname)\n",
      "/data/anaconda/envs/cropmask/lib/python3.7/site-packages/skimage/io/_io.py:141: UserWarning: /mnt/cropmaskperm/landsat-clear-scenes-2005/train/LT050290312005031601T1-SC20190818204935_tile_4608_5632/image/LT050290312005031601T1-SC20190818204935_tile_4608_5632.tif is a low contrast image\n",
      "  warn('%s is a low contrast image' % fname)\n",
      "/data/anaconda/envs/cropmask/lib/python3.7/site-packages/skimage/io/_io.py:141: UserWarning: /mnt/cropmaskperm/landsat-clear-scenes-2005/train/LT050290312005031601T1-SC20190818204935_tile_4608_6144/image/LT050290312005031601T1-SC20190818204935_tile_4608_6144.tif is a low contrast image\n",
      "  warn('%s is a low contrast image' % fname)\n",
      "/data/anaconda/envs/cropmask/lib/python3.7/site-packages/skimage/io/_io.py:141: UserWarning: /mnt/cropmaskperm/landsat-clear-scenes-2005/train/LT050290312005031601T1-SC20190818204935_tile_4608_6656/image/LT050290312005031601T1-SC20190818204935_tile_4608_6656.tif is a low contrast image\n",
      "  warn('%s is a low contrast image' % fname)\n"
     ]
    },
    {
     "name": "stdout",
     "output_type": "stream",
     "text": [
      "removed scene and label, 0.02% bad data\n"
     ]
    },
    {
     "name": "stderr",
     "output_type": "stream",
     "text": [
      "/data/anaconda/envs/cropmask/lib/python3.7/site-packages/skimage/io/_io.py:141: UserWarning: /mnt/cropmaskperm/landsat-clear-scenes-2005/train/LT050290312005031601T1-SC20190818204935_tile_5120_0/image/LT050290312005031601T1-SC20190818204935_tile_5120_0.tif is a low contrast image\n",
      "  warn('%s is a low contrast image' % fname)\n"
     ]
    },
    {
     "name": "stdout",
     "output_type": "stream",
     "text": [
      "removed scene and label, 0.02% bad data\n"
     ]
    },
    {
     "name": "stderr",
     "output_type": "stream",
     "text": [
      "/data/anaconda/envs/cropmask/lib/python3.7/site-packages/skimage/io/_io.py:141: UserWarning: /mnt/cropmaskperm/landsat-clear-scenes-2005/train/LT050290312005031601T1-SC20190818204935_tile_5120_1024/image/LT050290312005031601T1-SC20190818204935_tile_5120_1024.tif is a low contrast image\n",
      "  warn('%s is a low contrast image' % fname)\n",
      "/data/anaconda/envs/cropmask/lib/python3.7/site-packages/skimage/io/_io.py:141: UserWarning: /mnt/cropmaskperm/landsat-clear-scenes-2005/train/LT050290312005031601T1-SC20190818204935_tile_5120_1536/image/LT050290312005031601T1-SC20190818204935_tile_5120_1536.tif is a low contrast image\n",
      "  warn('%s is a low contrast image' % fname)\n",
      "/data/anaconda/envs/cropmask/lib/python3.7/site-packages/skimage/io/_io.py:141: UserWarning: /mnt/cropmaskperm/landsat-clear-scenes-2005/train/LT050290312005031601T1-SC20190818204935_tile_5120_2048/image/LT050290312005031601T1-SC20190818204935_tile_5120_2048.tif is a low contrast image\n",
      "  warn('%s is a low contrast image' % fname)\n",
      "/data/anaconda/envs/cropmask/lib/python3.7/site-packages/skimage/io/_io.py:141: UserWarning: /mnt/cropmaskperm/landsat-clear-scenes-2005/train/LT050290312005031601T1-SC20190818204935_tile_5120_2560/image/LT050290312005031601T1-SC20190818204935_tile_5120_2560.tif is a low contrast image\n",
      "  warn('%s is a low contrast image' % fname)\n",
      "/data/anaconda/envs/cropmask/lib/python3.7/site-packages/skimage/io/_io.py:141: UserWarning: /mnt/cropmaskperm/landsat-clear-scenes-2005/train/LT050290312005031601T1-SC20190818204935_tile_5120_3072/image/LT050290312005031601T1-SC20190818204935_tile_5120_3072.tif is a low contrast image\n",
      "  warn('%s is a low contrast image' % fname)\n",
      "/data/anaconda/envs/cropmask/lib/python3.7/site-packages/skimage/io/_io.py:141: UserWarning: /mnt/cropmaskperm/landsat-clear-scenes-2005/train/LT050290312005031601T1-SC20190818204935_tile_5120_3584/image/LT050290312005031601T1-SC20190818204935_tile_5120_3584.tif is a low contrast image\n",
      "  warn('%s is a low contrast image' % fname)\n",
      "/data/anaconda/envs/cropmask/lib/python3.7/site-packages/skimage/io/_io.py:141: UserWarning: /mnt/cropmaskperm/landsat-clear-scenes-2005/train/LT050290312005031601T1-SC20190818204935_tile_5120_4096/image/LT050290312005031601T1-SC20190818204935_tile_5120_4096.tif is a low contrast image\n",
      "  warn('%s is a low contrast image' % fname)\n",
      "/data/anaconda/envs/cropmask/lib/python3.7/site-packages/skimage/io/_io.py:141: UserWarning: /mnt/cropmaskperm/landsat-clear-scenes-2005/train/LT050290312005031601T1-SC20190818204935_tile_5120_4608/image/LT050290312005031601T1-SC20190818204935_tile_5120_4608.tif is a low contrast image\n",
      "  warn('%s is a low contrast image' % fname)\n"
     ]
    },
    {
     "name": "stdout",
     "output_type": "stream",
     "text": [
      "removed scene and label, 0.02% bad data\n"
     ]
    },
    {
     "name": "stderr",
     "output_type": "stream",
     "text": [
      "/data/anaconda/envs/cropmask/lib/python3.7/site-packages/skimage/io/_io.py:141: UserWarning: /mnt/cropmaskperm/landsat-clear-scenes-2005/train/LT050290312005031601T1-SC20190818204935_tile_5120_5120/image/LT050290312005031601T1-SC20190818204935_tile_5120_5120.tif is a low contrast image\n",
      "  warn('%s is a low contrast image' % fname)\n",
      "/data/anaconda/envs/cropmask/lib/python3.7/site-packages/skimage/io/_io.py:141: UserWarning: /mnt/cropmaskperm/landsat-clear-scenes-2005/train/LT050290312005031601T1-SC20190818204935_tile_5120_5632/image/LT050290312005031601T1-SC20190818204935_tile_5120_5632.tif is a low contrast image\n",
      "  warn('%s is a low contrast image' % fname)\n",
      "/data/anaconda/envs/cropmask/lib/python3.7/site-packages/skimage/io/_io.py:141: UserWarning: /mnt/cropmaskperm/landsat-clear-scenes-2005/train/LT050290312005031601T1-SC20190818204935_tile_5120_6144/image/LT050290312005031601T1-SC20190818204935_tile_5120_6144.tif is a low contrast image\n",
      "  warn('%s is a low contrast image' % fname)\n",
      "/data/anaconda/envs/cropmask/lib/python3.7/site-packages/skimage/io/_io.py:141: UserWarning: /mnt/cropmaskperm/landsat-clear-scenes-2005/train/LT050290312005031601T1-SC20190818204935_tile_5120_6656/image/LT050290312005031601T1-SC20190818204935_tile_5120_6656.tif is a low contrast image\n",
      "  warn('%s is a low contrast image' % fname)\n"
     ]
    },
    {
     "name": "stdout",
     "output_type": "stream",
     "text": [
      "removed scene and label, 0.02% bad data\n"
     ]
    },
    {
     "name": "stderr",
     "output_type": "stream",
     "text": [
      "/data/anaconda/envs/cropmask/lib/python3.7/site-packages/skimage/io/_io.py:141: UserWarning: /mnt/cropmaskperm/landsat-clear-scenes-2005/train/LT050290312005031601T1-SC20190818204935_tile_512_0/image/LT050290312005031601T1-SC20190818204935_tile_512_0.tif is a low contrast image\n",
      "  warn('%s is a low contrast image' % fname)\n"
     ]
    },
    {
     "name": "stdout",
     "output_type": "stream",
     "text": [
      "removed scene and label, 0.02% bad data\n"
     ]
    },
    {
     "name": "stderr",
     "output_type": "stream",
     "text": [
      "/data/anaconda/envs/cropmask/lib/python3.7/site-packages/skimage/io/_io.py:141: UserWarning: /mnt/cropmaskperm/landsat-clear-scenes-2005/train/LT050290312005031601T1-SC20190818204935_tile_512_1024/image/LT050290312005031601T1-SC20190818204935_tile_512_1024.tif is a low contrast image\n",
      "  warn('%s is a low contrast image' % fname)\n"
     ]
    },
    {
     "name": "stdout",
     "output_type": "stream",
     "text": [
      "removed scene and label, 0.02% bad data\n"
     ]
    },
    {
     "name": "stderr",
     "output_type": "stream",
     "text": [
      "/data/anaconda/envs/cropmask/lib/python3.7/site-packages/skimage/io/_io.py:141: UserWarning: /mnt/cropmaskperm/landsat-clear-scenes-2005/train/LT050290312005031601T1-SC20190818204935_tile_512_1536/image/LT050290312005031601T1-SC20190818204935_tile_512_1536.tif is a low contrast image\n",
      "  warn('%s is a low contrast image' % fname)\n"
     ]
    },
    {
     "name": "stdout",
     "output_type": "stream",
     "text": [
      "removed scene and label, 0.02% bad data\n"
     ]
    },
    {
     "name": "stderr",
     "output_type": "stream",
     "text": [
      "/data/anaconda/envs/cropmask/lib/python3.7/site-packages/skimage/io/_io.py:141: UserWarning: /mnt/cropmaskperm/landsat-clear-scenes-2005/train/LT050290312005031601T1-SC20190818204935_tile_512_2048/image/LT050290312005031601T1-SC20190818204935_tile_512_2048.tif is a low contrast image\n",
      "  warn('%s is a low contrast image' % fname)\n"
     ]
    },
    {
     "name": "stdout",
     "output_type": "stream",
     "text": [
      "removed scene and label, 0.02% bad data\n"
     ]
    },
    {
     "name": "stderr",
     "output_type": "stream",
     "text": [
      "/data/anaconda/envs/cropmask/lib/python3.7/site-packages/skimage/io/_io.py:141: UserWarning: /mnt/cropmaskperm/landsat-clear-scenes-2005/train/LT050290312005031601T1-SC20190818204935_tile_512_2560/image/LT050290312005031601T1-SC20190818204935_tile_512_2560.tif is a low contrast image\n",
      "  warn('%s is a low contrast image' % fname)\n"
     ]
    },
    {
     "name": "stdout",
     "output_type": "stream",
     "text": [
      "removed scene and label, 0.02% bad data\n"
     ]
    },
    {
     "name": "stderr",
     "output_type": "stream",
     "text": [
      "/data/anaconda/envs/cropmask/lib/python3.7/site-packages/skimage/io/_io.py:141: UserWarning: /mnt/cropmaskperm/landsat-clear-scenes-2005/train/LT050290312005031601T1-SC20190818204935_tile_512_3072/image/LT050290312005031601T1-SC20190818204935_tile_512_3072.tif is a low contrast image\n",
      "  warn('%s is a low contrast image' % fname)\n"
     ]
    },
    {
     "name": "stdout",
     "output_type": "stream",
     "text": [
      "removed scene and label, 0.02% bad data\n"
     ]
    },
    {
     "name": "stderr",
     "output_type": "stream",
     "text": [
      "/data/anaconda/envs/cropmask/lib/python3.7/site-packages/skimage/io/_io.py:141: UserWarning: /mnt/cropmaskperm/landsat-clear-scenes-2005/train/LT050290312005031601T1-SC20190818204935_tile_512_3584/image/LT050290312005031601T1-SC20190818204935_tile_512_3584.tif is a low contrast image\n",
      "  warn('%s is a low contrast image' % fname)\n"
     ]
    },
    {
     "name": "stdout",
     "output_type": "stream",
     "text": [
      "removed scene and label, 0.02% bad data\n"
     ]
    },
    {
     "name": "stderr",
     "output_type": "stream",
     "text": [
      "/data/anaconda/envs/cropmask/lib/python3.7/site-packages/skimage/io/_io.py:141: UserWarning: /mnt/cropmaskperm/landsat-clear-scenes-2005/train/LT050290312005031601T1-SC20190818204935_tile_512_4096/image/LT050290312005031601T1-SC20190818204935_tile_512_4096.tif is a low contrast image\n",
      "  warn('%s is a low contrast image' % fname)\n"
     ]
    },
    {
     "name": "stdout",
     "output_type": "stream",
     "text": [
      "removed scene and label, 0.02% bad data\n"
     ]
    },
    {
     "name": "stderr",
     "output_type": "stream",
     "text": [
      "/data/anaconda/envs/cropmask/lib/python3.7/site-packages/skimage/io/_io.py:141: UserWarning: /mnt/cropmaskperm/landsat-clear-scenes-2005/train/LT050290312005031601T1-SC20190818204935_tile_512_4608/image/LT050290312005031601T1-SC20190818204935_tile_512_4608.tif is a low contrast image\n",
      "  warn('%s is a low contrast image' % fname)\n",
      "/data/anaconda/envs/cropmask/lib/python3.7/site-packages/skimage/io/_io.py:141: UserWarning: /mnt/cropmaskperm/landsat-clear-scenes-2005/train/LT050290312005031601T1-SC20190818204935_tile_512_512/image/LT050290312005031601T1-SC20190818204935_tile_512_512.tif is a low contrast image\n",
      "  warn('%s is a low contrast image' % fname)\n"
     ]
    },
    {
     "name": "stdout",
     "output_type": "stream",
     "text": [
      "removed scene and label, 0.02% bad data\n"
     ]
    },
    {
     "name": "stderr",
     "output_type": "stream",
     "text": [
      "/data/anaconda/envs/cropmask/lib/python3.7/site-packages/skimage/io/_io.py:141: UserWarning: /mnt/cropmaskperm/landsat-clear-scenes-2005/train/LT050290312005031601T1-SC20190818204935_tile_512_5120/image/LT050290312005031601T1-SC20190818204935_tile_512_5120.tif is a low contrast image\n",
      "  warn('%s is a low contrast image' % fname)\n",
      "/data/anaconda/envs/cropmask/lib/python3.7/site-packages/skimage/io/_io.py:141: UserWarning: /mnt/cropmaskperm/landsat-clear-scenes-2005/train/LT050290312005031601T1-SC20190818204935_tile_512_5632/image/LT050290312005031601T1-SC20190818204935_tile_512_5632.tif is a low contrast image\n",
      "  warn('%s is a low contrast image' % fname)\n"
     ]
    },
    {
     "name": "stdout",
     "output_type": "stream",
     "text": [
      "removed scene and label, 0.02% bad data\n"
     ]
    },
    {
     "name": "stderr",
     "output_type": "stream",
     "text": [
      "/data/anaconda/envs/cropmask/lib/python3.7/site-packages/skimage/io/_io.py:141: UserWarning: /mnt/cropmaskperm/landsat-clear-scenes-2005/train/LT050290312005031601T1-SC20190818204935_tile_512_6144/image/LT050290312005031601T1-SC20190818204935_tile_512_6144.tif is a low contrast image\n",
      "  warn('%s is a low contrast image' % fname)\n"
     ]
    },
    {
     "name": "stdout",
     "output_type": "stream",
     "text": [
      "removed scene and label, 0.02% bad data\n"
     ]
    },
    {
     "name": "stderr",
     "output_type": "stream",
     "text": [
      "/data/anaconda/envs/cropmask/lib/python3.7/site-packages/skimage/io/_io.py:141: UserWarning: /mnt/cropmaskperm/landsat-clear-scenes-2005/train/LT050290312005031601T1-SC20190818204935_tile_512_6656/image/LT050290312005031601T1-SC20190818204935_tile_512_6656.tif is a low contrast image\n",
      "  warn('%s is a low contrast image' % fname)\n"
     ]
    },
    {
     "name": "stdout",
     "output_type": "stream",
     "text": [
      "removed scene and label, 0.02% bad data\n"
     ]
    },
    {
     "name": "stderr",
     "output_type": "stream",
     "text": [
      "/data/anaconda/envs/cropmask/lib/python3.7/site-packages/skimage/io/_io.py:141: UserWarning: /mnt/cropmaskperm/landsat-clear-scenes-2005/train/LT050290312005031601T1-SC20190818204935_tile_5632_1024/image/LT050290312005031601T1-SC20190818204935_tile_5632_1024.tif is a low contrast image\n",
      "  warn('%s is a low contrast image' % fname)\n",
      "/data/anaconda/envs/cropmask/lib/python3.7/site-packages/skimage/io/_io.py:141: UserWarning: /mnt/cropmaskperm/landsat-clear-scenes-2005/train/LT050290312005031601T1-SC20190818204935_tile_5632_1536/image/LT050290312005031601T1-SC20190818204935_tile_5632_1536.tif is a low contrast image\n",
      "  warn('%s is a low contrast image' % fname)\n",
      "/data/anaconda/envs/cropmask/lib/python3.7/site-packages/skimage/io/_io.py:141: UserWarning: /mnt/cropmaskperm/landsat-clear-scenes-2005/train/LT050290312005031601T1-SC20190818204935_tile_5632_2048/image/LT050290312005031601T1-SC20190818204935_tile_5632_2048.tif is a low contrast image\n",
      "  warn('%s is a low contrast image' % fname)\n",
      "/data/anaconda/envs/cropmask/lib/python3.7/site-packages/skimage/io/_io.py:141: UserWarning: /mnt/cropmaskperm/landsat-clear-scenes-2005/train/LT050290312005031601T1-SC20190818204935_tile_5632_2560/image/LT050290312005031601T1-SC20190818204935_tile_5632_2560.tif is a low contrast image\n",
      "  warn('%s is a low contrast image' % fname)\n",
      "/data/anaconda/envs/cropmask/lib/python3.7/site-packages/skimage/io/_io.py:141: UserWarning: /mnt/cropmaskperm/landsat-clear-scenes-2005/train/LT050290312005031601T1-SC20190818204935_tile_5632_3072/image/LT050290312005031601T1-SC20190818204935_tile_5632_3072.tif is a low contrast image\n",
      "  warn('%s is a low contrast image' % fname)\n",
      "/data/anaconda/envs/cropmask/lib/python3.7/site-packages/skimage/io/_io.py:141: UserWarning: /mnt/cropmaskperm/landsat-clear-scenes-2005/train/LT050290312005031601T1-SC20190818204935_tile_5632_3584/image/LT050290312005031601T1-SC20190818204935_tile_5632_3584.tif is a low contrast image\n",
      "  warn('%s is a low contrast image' % fname)\n",
      "/data/anaconda/envs/cropmask/lib/python3.7/site-packages/skimage/io/_io.py:141: UserWarning: /mnt/cropmaskperm/landsat-clear-scenes-2005/train/LT050290312005031601T1-SC20190818204935_tile_5632_4096/image/LT050290312005031601T1-SC20190818204935_tile_5632_4096.tif is a low contrast image\n",
      "  warn('%s is a low contrast image' % fname)\n",
      "/data/anaconda/envs/cropmask/lib/python3.7/site-packages/skimage/io/_io.py:141: UserWarning: /mnt/cropmaskperm/landsat-clear-scenes-2005/train/LT050290312005031601T1-SC20190818204935_tile_5632_4608/image/LT050290312005031601T1-SC20190818204935_tile_5632_4608.tif is a low contrast image\n",
      "  warn('%s is a low contrast image' % fname)\n",
      "/data/anaconda/envs/cropmask/lib/python3.7/site-packages/skimage/io/_io.py:141: UserWarning: /mnt/cropmaskperm/landsat-clear-scenes-2005/train/LT050290312005031601T1-SC20190818204935_tile_5632_512/image/LT050290312005031601T1-SC20190818204935_tile_5632_512.tif is a low contrast image\n",
      "  warn('%s is a low contrast image' % fname)\n"
     ]
    },
    {
     "name": "stdout",
     "output_type": "stream",
     "text": [
      "removed scene and label, 0.02% bad data\n"
     ]
    },
    {
     "name": "stderr",
     "output_type": "stream",
     "text": [
      "/data/anaconda/envs/cropmask/lib/python3.7/site-packages/skimage/io/_io.py:141: UserWarning: /mnt/cropmaskperm/landsat-clear-scenes-2005/train/LT050290312005031601T1-SC20190818204935_tile_5632_5120/image/LT050290312005031601T1-SC20190818204935_tile_5632_5120.tif is a low contrast image\n",
      "  warn('%s is a low contrast image' % fname)\n",
      "/data/anaconda/envs/cropmask/lib/python3.7/site-packages/skimage/io/_io.py:141: UserWarning: /mnt/cropmaskperm/landsat-clear-scenes-2005/train/LT050290312005031601T1-SC20190818204935_tile_5632_5632/image/LT050290312005031601T1-SC20190818204935_tile_5632_5632.tif is a low contrast image\n",
      "  warn('%s is a low contrast image' % fname)\n",
      "/data/anaconda/envs/cropmask/lib/python3.7/site-packages/skimage/io/_io.py:141: UserWarning: /mnt/cropmaskperm/landsat-clear-scenes-2005/train/LT050290312005031601T1-SC20190818204935_tile_5632_6144/image/LT050290312005031601T1-SC20190818204935_tile_5632_6144.tif is a low contrast image\n",
      "  warn('%s is a low contrast image' % fname)\n",
      "/data/anaconda/envs/cropmask/lib/python3.7/site-packages/skimage/io/_io.py:141: UserWarning: /mnt/cropmaskperm/landsat-clear-scenes-2005/train/LT050290312005031601T1-SC20190818204935_tile_5632_6656/image/LT050290312005031601T1-SC20190818204935_tile_5632_6656.tif is a low contrast image\n",
      "  warn('%s is a low contrast image' % fname)\n"
     ]
    },
    {
     "name": "stdout",
     "output_type": "stream",
     "text": [
      "removed scene and label, 0.02% bad data\n"
     ]
    },
    {
     "name": "stderr",
     "output_type": "stream",
     "text": [
      "/data/anaconda/envs/cropmask/lib/python3.7/site-packages/skimage/io/_io.py:141: UserWarning: /mnt/cropmaskperm/landsat-clear-scenes-2005/train/LT050290312005031601T1-SC20190818204935_tile_6144_1024/image/LT050290312005031601T1-SC20190818204935_tile_6144_1024.tif is a low contrast image\n",
      "  warn('%s is a low contrast image' % fname)\n",
      "/data/anaconda/envs/cropmask/lib/python3.7/site-packages/skimage/io/_io.py:141: UserWarning: /mnt/cropmaskperm/landsat-clear-scenes-2005/train/LT050290312005031601T1-SC20190818204935_tile_6144_1536/image/LT050290312005031601T1-SC20190818204935_tile_6144_1536.tif is a low contrast image\n",
      "  warn('%s is a low contrast image' % fname)\n",
      "/data/anaconda/envs/cropmask/lib/python3.7/site-packages/skimage/io/_io.py:141: UserWarning: /mnt/cropmaskperm/landsat-clear-scenes-2005/train/LT050290312005031601T1-SC20190818204935_tile_6144_2048/image/LT050290312005031601T1-SC20190818204935_tile_6144_2048.tif is a low contrast image\n",
      "  warn('%s is a low contrast image' % fname)\n",
      "/data/anaconda/envs/cropmask/lib/python3.7/site-packages/skimage/io/_io.py:141: UserWarning: /mnt/cropmaskperm/landsat-clear-scenes-2005/train/LT050290312005031601T1-SC20190818204935_tile_6144_2560/image/LT050290312005031601T1-SC20190818204935_tile_6144_2560.tif is a low contrast image\n",
      "  warn('%s is a low contrast image' % fname)\n",
      "/data/anaconda/envs/cropmask/lib/python3.7/site-packages/skimage/io/_io.py:141: UserWarning: /mnt/cropmaskperm/landsat-clear-scenes-2005/train/LT050290312005031601T1-SC20190818204935_tile_6144_3072/image/LT050290312005031601T1-SC20190818204935_tile_6144_3072.tif is a low contrast image\n",
      "  warn('%s is a low contrast image' % fname)\n",
      "/data/anaconda/envs/cropmask/lib/python3.7/site-packages/skimage/io/_io.py:141: UserWarning: /mnt/cropmaskperm/landsat-clear-scenes-2005/train/LT050290312005031601T1-SC20190818204935_tile_6144_3584/image/LT050290312005031601T1-SC20190818204935_tile_6144_3584.tif is a low contrast image\n",
      "  warn('%s is a low contrast image' % fname)\n",
      "/data/anaconda/envs/cropmask/lib/python3.7/site-packages/skimage/io/_io.py:141: UserWarning: /mnt/cropmaskperm/landsat-clear-scenes-2005/train/LT050290312005031601T1-SC20190818204935_tile_6144_4096/image/LT050290312005031601T1-SC20190818204935_tile_6144_4096.tif is a low contrast image\n",
      "  warn('%s is a low contrast image' % fname)\n",
      "/data/anaconda/envs/cropmask/lib/python3.7/site-packages/skimage/io/_io.py:141: UserWarning: /mnt/cropmaskperm/landsat-clear-scenes-2005/train/LT050290312005031601T1-SC20190818204935_tile_6144_4608/image/LT050290312005031601T1-SC20190818204935_tile_6144_4608.tif is a low contrast image\n",
      "  warn('%s is a low contrast image' % fname)\n",
      "/data/anaconda/envs/cropmask/lib/python3.7/site-packages/skimage/io/_io.py:141: UserWarning: /mnt/cropmaskperm/landsat-clear-scenes-2005/train/LT050290312005031601T1-SC20190818204935_tile_6144_5120/image/LT050290312005031601T1-SC20190818204935_tile_6144_5120.tif is a low contrast image\n",
      "  warn('%s is a low contrast image' % fname)\n",
      "/data/anaconda/envs/cropmask/lib/python3.7/site-packages/skimage/io/_io.py:141: UserWarning: /mnt/cropmaskperm/landsat-clear-scenes-2005/train/LT050290312005031601T1-SC20190818204935_tile_6144_5632/image/LT050290312005031601T1-SC20190818204935_tile_6144_5632.tif is a low contrast image\n",
      "  warn('%s is a low contrast image' % fname)\n"
     ]
    },
    {
     "name": "stdout",
     "output_type": "stream",
     "text": [
      "removed scene and label, 0.02% bad data\n"
     ]
    },
    {
     "name": "stderr",
     "output_type": "stream",
     "text": [
      "/data/anaconda/envs/cropmask/lib/python3.7/site-packages/skimage/io/_io.py:141: UserWarning: /mnt/cropmaskperm/landsat-clear-scenes-2005/train/LT050290312005031601T1-SC20190818204935_tile_6144_6144/image/LT050290312005031601T1-SC20190818204935_tile_6144_6144.tif is a low contrast image\n",
      "  warn('%s is a low contrast image' % fname)\n"
     ]
    },
    {
     "name": "stdout",
     "output_type": "stream",
     "text": [
      "removed scene and label, 0.02% bad data\n"
     ]
    },
    {
     "name": "stderr",
     "output_type": "stream",
     "text": [
      "/data/anaconda/envs/cropmask/lib/python3.7/site-packages/skimage/io/_io.py:141: UserWarning: /mnt/cropmaskperm/landsat-clear-scenes-2005/train/LT050290312005031601T1-SC20190818204935_tile_6144_6656/image/LT050290312005031601T1-SC20190818204935_tile_6144_6656.tif is a low contrast image\n",
      "  warn('%s is a low contrast image' % fname)\n"
     ]
    },
    {
     "name": "stdout",
     "output_type": "stream",
     "text": [
      "removed scene and label, 0.02% bad data\n"
     ]
    },
    {
     "name": "stderr",
     "output_type": "stream",
     "text": [
      "/data/anaconda/envs/cropmask/lib/python3.7/site-packages/skimage/io/_io.py:141: UserWarning: /mnt/cropmaskperm/landsat-clear-scenes-2005/train/LT050290312005031601T1-SC20190818204935_tile_6656_1024/image/LT050290312005031601T1-SC20190818204935_tile_6656_1024.tif is a low contrast image\n",
      "  warn('%s is a low contrast image' % fname)\n"
     ]
    },
    {
     "name": "stdout",
     "output_type": "stream",
     "text": [
      "removed scene and label, 0.02% bad data\n"
     ]
    },
    {
     "name": "stderr",
     "output_type": "stream",
     "text": [
      "/data/anaconda/envs/cropmask/lib/python3.7/site-packages/skimage/io/_io.py:141: UserWarning: /mnt/cropmaskperm/landsat-clear-scenes-2005/train/LT050290312005031601T1-SC20190818204935_tile_6656_1536/image/LT050290312005031601T1-SC20190818204935_tile_6656_1536.tif is a low contrast image\n",
      "  warn('%s is a low contrast image' % fname)\n",
      "/data/anaconda/envs/cropmask/lib/python3.7/site-packages/skimage/io/_io.py:141: UserWarning: /mnt/cropmaskperm/landsat-clear-scenes-2005/train/LT050290312005031601T1-SC20190818204935_tile_6656_2048/image/LT050290312005031601T1-SC20190818204935_tile_6656_2048.tif is a low contrast image\n",
      "  warn('%s is a low contrast image' % fname)\n",
      "/data/anaconda/envs/cropmask/lib/python3.7/site-packages/skimage/io/_io.py:141: UserWarning: /mnt/cropmaskperm/landsat-clear-scenes-2005/train/LT050290312005031601T1-SC20190818204935_tile_6656_2560/image/LT050290312005031601T1-SC20190818204935_tile_6656_2560.tif is a low contrast image\n",
      "  warn('%s is a low contrast image' % fname)\n",
      "/data/anaconda/envs/cropmask/lib/python3.7/site-packages/skimage/io/_io.py:141: UserWarning: /mnt/cropmaskperm/landsat-clear-scenes-2005/train/LT050290312005031601T1-SC20190818204935_tile_6656_3072/image/LT050290312005031601T1-SC20190818204935_tile_6656_3072.tif is a low contrast image\n",
      "  warn('%s is a low contrast image' % fname)\n",
      "/data/anaconda/envs/cropmask/lib/python3.7/site-packages/skimage/io/_io.py:141: UserWarning: /mnt/cropmaskperm/landsat-clear-scenes-2005/train/LT050290312005031601T1-SC20190818204935_tile_6656_3584/image/LT050290312005031601T1-SC20190818204935_tile_6656_3584.tif is a low contrast image\n",
      "  warn('%s is a low contrast image' % fname)\n"
     ]
    },
    {
     "name": "stdout",
     "output_type": "stream",
     "text": [
      "removed scene and label, 0.02% bad data\n"
     ]
    },
    {
     "name": "stderr",
     "output_type": "stream",
     "text": [
      "/data/anaconda/envs/cropmask/lib/python3.7/site-packages/skimage/io/_io.py:141: UserWarning: /mnt/cropmaskperm/landsat-clear-scenes-2005/train/LT050290312005031601T1-SC20190818204935_tile_6656_4096/image/LT050290312005031601T1-SC20190818204935_tile_6656_4096.tif is a low contrast image\n",
      "  warn('%s is a low contrast image' % fname)\n"
     ]
    },
    {
     "name": "stdout",
     "output_type": "stream",
     "text": [
      "removed scene and label, 0.02% bad data\n"
     ]
    },
    {
     "name": "stderr",
     "output_type": "stream",
     "text": [
      "/data/anaconda/envs/cropmask/lib/python3.7/site-packages/skimage/io/_io.py:141: UserWarning: /mnt/cropmaskperm/landsat-clear-scenes-2005/train/LT050290312005031601T1-SC20190818204935_tile_6656_4608/image/LT050290312005031601T1-SC20190818204935_tile_6656_4608.tif is a low contrast image\n",
      "  warn('%s is a low contrast image' % fname)\n"
     ]
    },
    {
     "name": "stdout",
     "output_type": "stream",
     "text": [
      "removed scene and label, 0.02% bad data\n"
     ]
    },
    {
     "name": "stderr",
     "output_type": "stream",
     "text": [
      "/data/anaconda/envs/cropmask/lib/python3.7/site-packages/skimage/io/_io.py:141: UserWarning: /mnt/cropmaskperm/landsat-clear-scenes-2005/train/LT050290312005031601T1-SC20190818204935_tile_6656_5120/image/LT050290312005031601T1-SC20190818204935_tile_6656_5120.tif is a low contrast image\n",
      "  warn('%s is a low contrast image' % fname)\n"
     ]
    },
    {
     "name": "stdout",
     "output_type": "stream",
     "text": [
      "removed scene and label, 0.02% bad data\n"
     ]
    },
    {
     "name": "stderr",
     "output_type": "stream",
     "text": [
      "/data/anaconda/envs/cropmask/lib/python3.7/site-packages/skimage/io/_io.py:141: UserWarning: /mnt/cropmaskperm/landsat-clear-scenes-2005/train/LT050290312005031601T1-SC20190818204935_tile_6656_5632/image/LT050290312005031601T1-SC20190818204935_tile_6656_5632.tif is a low contrast image\n",
      "  warn('%s is a low contrast image' % fname)\n"
     ]
    },
    {
     "name": "stdout",
     "output_type": "stream",
     "text": [
      "removed scene and label, 0.02% bad data\n"
     ]
    },
    {
     "name": "stderr",
     "output_type": "stream",
     "text": [
      "/data/anaconda/envs/cropmask/lib/python3.7/site-packages/skimage/io/_io.py:141: UserWarning: /mnt/cropmaskperm/landsat-clear-scenes-2005/train/LT050290312005031601T1-SC20190818204935_tile_6656_6144/image/LT050290312005031601T1-SC20190818204935_tile_6656_6144.tif is a low contrast image\n",
      "  warn('%s is a low contrast image' % fname)\n"
     ]
    },
    {
     "name": "stdout",
     "output_type": "stream",
     "text": [
      "removed scene and label, 0.02% bad data\n"
     ]
    },
    {
     "name": "stderr",
     "output_type": "stream",
     "text": [
      "/data/anaconda/envs/cropmask/lib/python3.7/site-packages/skimage/io/_io.py:141: UserWarning: /mnt/cropmaskperm/landsat-clear-scenes-2005/train/LT050290312005031601T1-SC20190818204935_tile_6656_6656/image/LT050290312005031601T1-SC20190818204935_tile_6656_6656.tif is a low contrast image\n",
      "  warn('%s is a low contrast image' % fname)\n"
     ]
    },
    {
     "name": "stdout",
     "output_type": "stream",
     "text": [
      "removed scene and label, 0.02% bad data\n"
     ]
    },
    {
     "name": "stderr",
     "output_type": "stream",
     "text": [
      "/data/anaconda/envs/cropmask/lib/python3.7/site-packages/skimage/io/_io.py:141: UserWarning: /mnt/cropmaskperm/landsat-clear-scenes-2005/train/LT050290312005031601T1-SC20190818204935_tile_7168_2560/image/LT050290312005031601T1-SC20190818204935_tile_7168_2560.tif is a low contrast image\n",
      "  warn('%s is a low contrast image' % fname)\n"
     ]
    },
    {
     "name": "stdout",
     "output_type": "stream",
     "text": [
      "removed scene and label, 0.02% bad data\n"
     ]
    },
    {
     "name": "stderr",
     "output_type": "stream",
     "text": [
      "/data/anaconda/envs/cropmask/lib/python3.7/site-packages/skimage/io/_io.py:141: UserWarning: /mnt/cropmaskperm/landsat-clear-scenes-2005/train/LT050290312005031601T1-SC20190818204935_tile_7168_3072/image/LT050290312005031601T1-SC20190818204935_tile_7168_3072.tif is a low contrast image\n",
      "  warn('%s is a low contrast image' % fname)\n"
     ]
    },
    {
     "name": "stdout",
     "output_type": "stream",
     "text": [
      "removed scene and label, 0.02% bad data\n"
     ]
    },
    {
     "name": "stderr",
     "output_type": "stream",
     "text": [
      "/data/anaconda/envs/cropmask/lib/python3.7/site-packages/skimage/io/_io.py:141: UserWarning: /mnt/cropmaskperm/landsat-clear-scenes-2005/train/LT050290312005031601T1-SC20190818204935_tile_7168_3584/image/LT050290312005031601T1-SC20190818204935_tile_7168_3584.tif is a low contrast image\n",
      "  warn('%s is a low contrast image' % fname)\n"
     ]
    },
    {
     "name": "stdout",
     "output_type": "stream",
     "text": [
      "removed scene and label, 0.02% bad data\n"
     ]
    },
    {
     "name": "stderr",
     "output_type": "stream",
     "text": [
      "/data/anaconda/envs/cropmask/lib/python3.7/site-packages/skimage/io/_io.py:141: UserWarning: /mnt/cropmaskperm/landsat-clear-scenes-2005/train/LT050290312005031601T1-SC20190818204935_tile_7168_4096/image/LT050290312005031601T1-SC20190818204935_tile_7168_4096.tif is a low contrast image\n",
      "  warn('%s is a low contrast image' % fname)\n"
     ]
    },
    {
     "name": "stdout",
     "output_type": "stream",
     "text": [
      "removed scene and label, 0.02% bad data\n"
     ]
    },
    {
     "name": "stderr",
     "output_type": "stream",
     "text": [
      "/data/anaconda/envs/cropmask/lib/python3.7/site-packages/skimage/io/_io.py:141: UserWarning: /mnt/cropmaskperm/landsat-clear-scenes-2005/train/LT050290312005031601T1-SC20190818204935_tile_7168_4608/image/LT050290312005031601T1-SC20190818204935_tile_7168_4608.tif is a low contrast image\n",
      "  warn('%s is a low contrast image' % fname)\n"
     ]
    },
    {
     "name": "stdout",
     "output_type": "stream",
     "text": [
      "removed scene and label, 0.02% bad data\n"
     ]
    },
    {
     "name": "stderr",
     "output_type": "stream",
     "text": [
      "/data/anaconda/envs/cropmask/lib/python3.7/site-packages/skimage/io/_io.py:141: UserWarning: /mnt/cropmaskperm/landsat-clear-scenes-2005/train/LT050290312005031601T1-SC20190818204935_tile_7168_5120/image/LT050290312005031601T1-SC20190818204935_tile_7168_5120.tif is a low contrast image\n",
      "  warn('%s is a low contrast image' % fname)\n"
     ]
    },
    {
     "name": "stdout",
     "output_type": "stream",
     "text": [
      "removed scene and label, 0.02% bad data\n"
     ]
    },
    {
     "name": "stderr",
     "output_type": "stream",
     "text": [
      "/data/anaconda/envs/cropmask/lib/python3.7/site-packages/skimage/io/_io.py:141: UserWarning: /mnt/cropmaskperm/landsat-clear-scenes-2005/train/LT050290312005031601T1-SC20190818204935_tile_7168_5632/image/LT050290312005031601T1-SC20190818204935_tile_7168_5632.tif is a low contrast image\n",
      "  warn('%s is a low contrast image' % fname)\n"
     ]
    },
    {
     "name": "stdout",
     "output_type": "stream",
     "text": [
      "removed scene and label, 0.02% bad data\n"
     ]
    },
    {
     "name": "stderr",
     "output_type": "stream",
     "text": [
      "/data/anaconda/envs/cropmask/lib/python3.7/site-packages/skimage/io/_io.py:141: UserWarning: /mnt/cropmaskperm/landsat-clear-scenes-2005/train/LT050290312005031601T1-SC20190818204935_tile_7168_6144/image/LT050290312005031601T1-SC20190818204935_tile_7168_6144.tif is a low contrast image\n",
      "  warn('%s is a low contrast image' % fname)\n"
     ]
    },
    {
     "name": "stdout",
     "output_type": "stream",
     "text": [
      "removed scene and label, 0.02% bad data\n"
     ]
    },
    {
     "name": "stderr",
     "output_type": "stream",
     "text": [
      "/data/anaconda/envs/cropmask/lib/python3.7/site-packages/skimage/io/_io.py:141: UserWarning: /mnt/cropmaskperm/landsat-clear-scenes-2005/train/LT050290312005031601T1-SC20190818204935_tile_7168_6656/image/LT050290312005031601T1-SC20190818204935_tile_7168_6656.tif is a low contrast image\n",
      "  warn('%s is a low contrast image' % fname)\n"
     ]
    },
    {
     "name": "stdout",
     "output_type": "stream",
     "text": [
      "removed scene and label, 0.02% bad data\n"
     ]
    },
    {
     "name": "stderr",
     "output_type": "stream",
     "text": [
      "/data/anaconda/envs/cropmask/lib/python3.7/site-packages/skimage/io/_io.py:141: UserWarning: /mnt/cropmaskperm/landsat-clear-scenes-2005/train/LT050290312005031601T1-SC20190818204935_tile_7680_3072/image/LT050290312005031601T1-SC20190818204935_tile_7680_3072.tif is a low contrast image\n",
      "  warn('%s is a low contrast image' % fname)\n"
     ]
    },
    {
     "name": "stdout",
     "output_type": "stream",
     "text": [
      "removed scene and label, 0.02% bad data\n"
     ]
    },
    {
     "name": "stderr",
     "output_type": "stream",
     "text": [
      "/data/anaconda/envs/cropmask/lib/python3.7/site-packages/skimage/io/_io.py:141: UserWarning: /mnt/cropmaskperm/landsat-clear-scenes-2005/train/LT050290312005031601T1-SC20190818204935_tile_7680_3584/image/LT050290312005031601T1-SC20190818204935_tile_7680_3584.tif is a low contrast image\n",
      "  warn('%s is a low contrast image' % fname)\n"
     ]
    },
    {
     "name": "stdout",
     "output_type": "stream",
     "text": [
      "removed scene and label, 0.02% bad data\n"
     ]
    },
    {
     "name": "stderr",
     "output_type": "stream",
     "text": [
      "/data/anaconda/envs/cropmask/lib/python3.7/site-packages/skimage/io/_io.py:141: UserWarning: /mnt/cropmaskperm/landsat-clear-scenes-2005/train/LT050290312005031601T1-SC20190818204935_tile_7680_4096/image/LT050290312005031601T1-SC20190818204935_tile_7680_4096.tif is a low contrast image\n",
      "  warn('%s is a low contrast image' % fname)\n"
     ]
    },
    {
     "name": "stdout",
     "output_type": "stream",
     "text": [
      "removed scene and label, 0.02% bad data\n"
     ]
    },
    {
     "name": "stderr",
     "output_type": "stream",
     "text": [
      "/data/anaconda/envs/cropmask/lib/python3.7/site-packages/skimage/io/_io.py:141: UserWarning: /mnt/cropmaskperm/landsat-clear-scenes-2005/train/LT050290312005031601T1-SC20190818204935_tile_7680_4608/image/LT050290312005031601T1-SC20190818204935_tile_7680_4608.tif is a low contrast image\n",
      "  warn('%s is a low contrast image' % fname)\n"
     ]
    },
    {
     "name": "stdout",
     "output_type": "stream",
     "text": [
      "removed scene and label, 0.02% bad data\n"
     ]
    },
    {
     "name": "stderr",
     "output_type": "stream",
     "text": [
      "/data/anaconda/envs/cropmask/lib/python3.7/site-packages/skimage/io/_io.py:141: UserWarning: /mnt/cropmaskperm/landsat-clear-scenes-2005/train/LT050290312005031601T1-SC20190818204935_tile_7680_5120/image/LT050290312005031601T1-SC20190818204935_tile_7680_5120.tif is a low contrast image\n",
      "  warn('%s is a low contrast image' % fname)\n"
     ]
    },
    {
     "name": "stdout",
     "output_type": "stream",
     "text": [
      "removed scene and label, 0.02% bad data\n"
     ]
    },
    {
     "name": "stderr",
     "output_type": "stream",
     "text": [
      "/data/anaconda/envs/cropmask/lib/python3.7/site-packages/skimage/io/_io.py:141: UserWarning: /mnt/cropmaskperm/landsat-clear-scenes-2005/train/LT050290312005031601T1-SC20190818204935_tile_7680_5632/image/LT050290312005031601T1-SC20190818204935_tile_7680_5632.tif is a low contrast image\n",
      "  warn('%s is a low contrast image' % fname)\n"
     ]
    },
    {
     "name": "stdout",
     "output_type": "stream",
     "text": [
      "removed scene and label, 0.02% bad data\n"
     ]
    },
    {
     "name": "stderr",
     "output_type": "stream",
     "text": [
      "/data/anaconda/envs/cropmask/lib/python3.7/site-packages/skimage/io/_io.py:141: UserWarning: /mnt/cropmaskperm/landsat-clear-scenes-2005/train/LT050290312005031601T1-SC20190818204935_tile_7680_6144/image/LT050290312005031601T1-SC20190818204935_tile_7680_6144.tif is a low contrast image\n",
      "  warn('%s is a low contrast image' % fname)\n"
     ]
    },
    {
     "name": "stdout",
     "output_type": "stream",
     "text": [
      "removed scene and label, 0.02% bad data\n"
     ]
    },
    {
     "name": "stderr",
     "output_type": "stream",
     "text": [
      "/data/anaconda/envs/cropmask/lib/python3.7/site-packages/skimage/io/_io.py:141: UserWarning: /mnt/cropmaskperm/landsat-clear-scenes-2005/train/LT050290312005031601T1-SC20190818204935_tile_7680_6656/image/LT050290312005031601T1-SC20190818204935_tile_7680_6656.tif is a low contrast image\n",
      "  warn('%s is a low contrast image' % fname)\n"
     ]
    },
    {
     "name": "stdout",
     "output_type": "stream",
     "text": [
      "removed scene and label, 0.02% bad data\n"
     ]
    },
    {
     "name": "stderr",
     "output_type": "stream",
     "text": [
      "/data/anaconda/envs/cropmask/lib/python3.7/site-packages/skimage/io/_io.py:141: UserWarning: /mnt/cropmaskperm/landsat-clear-scenes-2005/train/LT050290312005031601T1-SC20190818204935_tile_1024_2560/mask/LT050290312005031601T1-SC20190818204935_tile_1024_2560_label.tif is a low contrast image\n",
      "  warn('%s is a low contrast image' % fname)\n",
      "/data/anaconda/envs/cropmask/lib/python3.7/site-packages/skimage/io/_io.py:141: UserWarning: /mnt/cropmaskperm/landsat-clear-scenes-2005/train/LT050290312005031601T1-SC20190818204935_tile_1024_3072/mask/LT050290312005031601T1-SC20190818204935_tile_1024_3072_label.tif is a low contrast image\n",
      "  warn('%s is a low contrast image' % fname)\n",
      "/data/anaconda/envs/cropmask/lib/python3.7/site-packages/skimage/io/_io.py:141: UserWarning: /mnt/cropmaskperm/landsat-clear-scenes-2005/train/LT050290312005031601T1-SC20190818204935_tile_1024_3584/mask/LT050290312005031601T1-SC20190818204935_tile_1024_3584_label.tif is a low contrast image\n",
      "  warn('%s is a low contrast image' % fname)\n",
      "/data/anaconda/envs/cropmask/lib/python3.7/site-packages/skimage/io/_io.py:141: UserWarning: /mnt/cropmaskperm/landsat-clear-scenes-2005/train/LT050290312005031601T1-SC20190818204935_tile_1024_4096/mask/LT050290312005031601T1-SC20190818204935_tile_1024_4096_label.tif is a low contrast image\n",
      "  warn('%s is a low contrast image' % fname)\n",
      "/data/anaconda/envs/cropmask/lib/python3.7/site-packages/skimage/io/_io.py:141: UserWarning: /mnt/cropmaskperm/landsat-clear-scenes-2005/train/LT050290312005031601T1-SC20190818204935_tile_1024_4608/mask/LT050290312005031601T1-SC20190818204935_tile_1024_4608_label.tif is a low contrast image\n",
      "  warn('%s is a low contrast image' % fname)\n",
      "/data/anaconda/envs/cropmask/lib/python3.7/site-packages/skimage/io/_io.py:141: UserWarning: /mnt/cropmaskperm/landsat-clear-scenes-2005/train/LT050290312005031601T1-SC20190818204935_tile_1024_5120/mask/LT050290312005031601T1-SC20190818204935_tile_1024_5120_label.tif is a low contrast image\n",
      "  warn('%s is a low contrast image' % fname)\n",
      "/data/anaconda/envs/cropmask/lib/python3.7/site-packages/skimage/io/_io.py:141: UserWarning: /mnt/cropmaskperm/landsat-clear-scenes-2005/train/LT050290312005031601T1-SC20190818204935_tile_1536_1024/mask/LT050290312005031601T1-SC20190818204935_tile_1536_1024_label.tif is a low contrast image\n",
      "  warn('%s is a low contrast image' % fname)\n",
      "/data/anaconda/envs/cropmask/lib/python3.7/site-packages/skimage/io/_io.py:141: UserWarning: /mnt/cropmaskperm/landsat-clear-scenes-2005/train/LT050290312005031601T1-SC20190818204935_tile_1536_1536/mask/LT050290312005031601T1-SC20190818204935_tile_1536_1536_label.tif is a low contrast image\n",
      "  warn('%s is a low contrast image' % fname)\n",
      "/data/anaconda/envs/cropmask/lib/python3.7/site-packages/skimage/io/_io.py:141: UserWarning: /mnt/cropmaskperm/landsat-clear-scenes-2005/train/LT050290312005031601T1-SC20190818204935_tile_1536_2048/mask/LT050290312005031601T1-SC20190818204935_tile_1536_2048_label.tif is a low contrast image\n",
      "  warn('%s is a low contrast image' % fname)\n",
      "/data/anaconda/envs/cropmask/lib/python3.7/site-packages/skimage/io/_io.py:141: UserWarning: /mnt/cropmaskperm/landsat-clear-scenes-2005/train/LT050290312005031601T1-SC20190818204935_tile_1536_2560/mask/LT050290312005031601T1-SC20190818204935_tile_1536_2560_label.tif is a low contrast image\n",
      "  warn('%s is a low contrast image' % fname)\n",
      "/data/anaconda/envs/cropmask/lib/python3.7/site-packages/skimage/io/_io.py:141: UserWarning: /mnt/cropmaskperm/landsat-clear-scenes-2005/train/LT050290312005031601T1-SC20190818204935_tile_1536_3072/mask/LT050290312005031601T1-SC20190818204935_tile_1536_3072_label.tif is a low contrast image\n",
      "  warn('%s is a low contrast image' % fname)\n",
      "/data/anaconda/envs/cropmask/lib/python3.7/site-packages/skimage/io/_io.py:141: UserWarning: /mnt/cropmaskperm/landsat-clear-scenes-2005/train/LT050290312005031601T1-SC20190818204935_tile_1536_3584/mask/LT050290312005031601T1-SC20190818204935_tile_1536_3584_label.tif is a low contrast image\n",
      "  warn('%s is a low contrast image' % fname)\n",
      "/data/anaconda/envs/cropmask/lib/python3.7/site-packages/skimage/io/_io.py:141: UserWarning: /mnt/cropmaskperm/landsat-clear-scenes-2005/train/LT050290312005031601T1-SC20190818204935_tile_1536_4096/mask/LT050290312005031601T1-SC20190818204935_tile_1536_4096_label.tif is a low contrast image\n",
      "  warn('%s is a low contrast image' % fname)\n",
      "/data/anaconda/envs/cropmask/lib/python3.7/site-packages/skimage/io/_io.py:141: UserWarning: /mnt/cropmaskperm/landsat-clear-scenes-2005/train/LT050290312005031601T1-SC20190818204935_tile_1536_4608/mask/LT050290312005031601T1-SC20190818204935_tile_1536_4608_label.tif is a low contrast image\n",
      "  warn('%s is a low contrast image' % fname)\n",
      "/data/anaconda/envs/cropmask/lib/python3.7/site-packages/skimage/io/_io.py:141: UserWarning: /mnt/cropmaskperm/landsat-clear-scenes-2005/train/LT050290312005031601T1-SC20190818204935_tile_1536_512/mask/LT050290312005031601T1-SC20190818204935_tile_1536_512_label.tif is a low contrast image\n",
      "  warn('%s is a low contrast image' % fname)\n",
      "/data/anaconda/envs/cropmask/lib/python3.7/site-packages/skimage/io/_io.py:141: UserWarning: /mnt/cropmaskperm/landsat-clear-scenes-2005/train/LT050290312005031601T1-SC20190818204935_tile_1536_5120/mask/LT050290312005031601T1-SC20190818204935_tile_1536_5120_label.tif is a low contrast image\n",
      "  warn('%s is a low contrast image' % fname)\n",
      "/data/anaconda/envs/cropmask/lib/python3.7/site-packages/skimage/io/_io.py:141: UserWarning: /mnt/cropmaskperm/landsat-clear-scenes-2005/train/LT050290312005031601T1-SC20190818204935_tile_1536_5632/mask/LT050290312005031601T1-SC20190818204935_tile_1536_5632_label.tif is a low contrast image\n",
      "  warn('%s is a low contrast image' % fname)\n",
      "/data/anaconda/envs/cropmask/lib/python3.7/site-packages/skimage/io/_io.py:141: UserWarning: /mnt/cropmaskperm/landsat-clear-scenes-2005/train/LT050290312005031601T1-SC20190818204935_tile_2048_1024/mask/LT050290312005031601T1-SC20190818204935_tile_2048_1024_label.tif is a low contrast image\n",
      "  warn('%s is a low contrast image' % fname)\n",
      "/data/anaconda/envs/cropmask/lib/python3.7/site-packages/skimage/io/_io.py:141: UserWarning: /mnt/cropmaskperm/landsat-clear-scenes-2005/train/LT050290312005031601T1-SC20190818204935_tile_2048_1536/mask/LT050290312005031601T1-SC20190818204935_tile_2048_1536_label.tif is a low contrast image\n",
      "  warn('%s is a low contrast image' % fname)\n",
      "/data/anaconda/envs/cropmask/lib/python3.7/site-packages/skimage/io/_io.py:141: UserWarning: /mnt/cropmaskperm/landsat-clear-scenes-2005/train/LT050290312005031601T1-SC20190818204935_tile_2048_2048/mask/LT050290312005031601T1-SC20190818204935_tile_2048_2048_label.tif is a low contrast image\n",
      "  warn('%s is a low contrast image' % fname)\n",
      "/data/anaconda/envs/cropmask/lib/python3.7/site-packages/skimage/io/_io.py:141: UserWarning: /mnt/cropmaskperm/landsat-clear-scenes-2005/train/LT050290312005031601T1-SC20190818204935_tile_2048_2560/mask/LT050290312005031601T1-SC20190818204935_tile_2048_2560_label.tif is a low contrast image\n",
      "  warn('%s is a low contrast image' % fname)\n",
      "/data/anaconda/envs/cropmask/lib/python3.7/site-packages/skimage/io/_io.py:141: UserWarning: /mnt/cropmaskperm/landsat-clear-scenes-2005/train/LT050290312005031601T1-SC20190818204935_tile_2048_3072/mask/LT050290312005031601T1-SC20190818204935_tile_2048_3072_label.tif is a low contrast image\n",
      "  warn('%s is a low contrast image' % fname)\n",
      "/data/anaconda/envs/cropmask/lib/python3.7/site-packages/skimage/io/_io.py:141: UserWarning: /mnt/cropmaskperm/landsat-clear-scenes-2005/train/LT050290312005031601T1-SC20190818204935_tile_2048_3584/mask/LT050290312005031601T1-SC20190818204935_tile_2048_3584_label.tif is a low contrast image\n",
      "  warn('%s is a low contrast image' % fname)\n",
      "/data/anaconda/envs/cropmask/lib/python3.7/site-packages/skimage/io/_io.py:141: UserWarning: /mnt/cropmaskperm/landsat-clear-scenes-2005/train/LT050290312005031601T1-SC20190818204935_tile_2048_4096/mask/LT050290312005031601T1-SC20190818204935_tile_2048_4096_label.tif is a low contrast image\n",
      "  warn('%s is a low contrast image' % fname)\n",
      "/data/anaconda/envs/cropmask/lib/python3.7/site-packages/skimage/io/_io.py:141: UserWarning: /mnt/cropmaskperm/landsat-clear-scenes-2005/train/LT050290312005031601T1-SC20190818204935_tile_2048_4608/mask/LT050290312005031601T1-SC20190818204935_tile_2048_4608_label.tif is a low contrast image\n",
      "  warn('%s is a low contrast image' % fname)\n",
      "/data/anaconda/envs/cropmask/lib/python3.7/site-packages/skimage/io/_io.py:141: UserWarning: /mnt/cropmaskperm/landsat-clear-scenes-2005/train/LT050290312005031601T1-SC20190818204935_tile_2048_512/mask/LT050290312005031601T1-SC20190818204935_tile_2048_512_label.tif is a low contrast image\n",
      "  warn('%s is a low contrast image' % fname)\n",
      "/data/anaconda/envs/cropmask/lib/python3.7/site-packages/skimage/io/_io.py:141: UserWarning: /mnt/cropmaskperm/landsat-clear-scenes-2005/train/LT050290312005031601T1-SC20190818204935_tile_2048_5120/mask/LT050290312005031601T1-SC20190818204935_tile_2048_5120_label.tif is a low contrast image\n",
      "  warn('%s is a low contrast image' % fname)\n",
      "/data/anaconda/envs/cropmask/lib/python3.7/site-packages/skimage/io/_io.py:141: UserWarning: /mnt/cropmaskperm/landsat-clear-scenes-2005/train/LT050290312005031601T1-SC20190818204935_tile_2048_5632/mask/LT050290312005031601T1-SC20190818204935_tile_2048_5632_label.tif is a low contrast image\n",
      "  warn('%s is a low contrast image' % fname)\n",
      "/data/anaconda/envs/cropmask/lib/python3.7/site-packages/skimage/io/_io.py:141: UserWarning: /mnt/cropmaskperm/landsat-clear-scenes-2005/train/LT050290312005031601T1-SC20190818204935_tile_2560_1024/mask/LT050290312005031601T1-SC20190818204935_tile_2560_1024_label.tif is a low contrast image\n",
      "  warn('%s is a low contrast image' % fname)\n",
      "/data/anaconda/envs/cropmask/lib/python3.7/site-packages/skimage/io/_io.py:141: UserWarning: /mnt/cropmaskperm/landsat-clear-scenes-2005/train/LT050290312005031601T1-SC20190818204935_tile_2560_1536/mask/LT050290312005031601T1-SC20190818204935_tile_2560_1536_label.tif is a low contrast image\n",
      "  warn('%s is a low contrast image' % fname)\n",
      "/data/anaconda/envs/cropmask/lib/python3.7/site-packages/skimage/io/_io.py:141: UserWarning: /mnt/cropmaskperm/landsat-clear-scenes-2005/train/LT050290312005031601T1-SC20190818204935_tile_2560_2048/mask/LT050290312005031601T1-SC20190818204935_tile_2560_2048_label.tif is a low contrast image\n",
      "  warn('%s is a low contrast image' % fname)\n",
      "/data/anaconda/envs/cropmask/lib/python3.7/site-packages/skimage/io/_io.py:141: UserWarning: /mnt/cropmaskperm/landsat-clear-scenes-2005/train/LT050290312005031601T1-SC20190818204935_tile_2560_2560/mask/LT050290312005031601T1-SC20190818204935_tile_2560_2560_label.tif is a low contrast image\n",
      "  warn('%s is a low contrast image' % fname)\n",
      "/data/anaconda/envs/cropmask/lib/python3.7/site-packages/skimage/io/_io.py:141: UserWarning: /mnt/cropmaskperm/landsat-clear-scenes-2005/train/LT050290312005031601T1-SC20190818204935_tile_2560_3072/mask/LT050290312005031601T1-SC20190818204935_tile_2560_3072_label.tif is a low contrast image\n",
      "  warn('%s is a low contrast image' % fname)\n",
      "/data/anaconda/envs/cropmask/lib/python3.7/site-packages/skimage/io/_io.py:141: UserWarning: /mnt/cropmaskperm/landsat-clear-scenes-2005/train/LT050290312005031601T1-SC20190818204935_tile_2560_3584/mask/LT050290312005031601T1-SC20190818204935_tile_2560_3584_label.tif is a low contrast image\n",
      "  warn('%s is a low contrast image' % fname)\n",
      "/data/anaconda/envs/cropmask/lib/python3.7/site-packages/skimage/io/_io.py:141: UserWarning: /mnt/cropmaskperm/landsat-clear-scenes-2005/train/LT050290312005031601T1-SC20190818204935_tile_2560_4096/mask/LT050290312005031601T1-SC20190818204935_tile_2560_4096_label.tif is a low contrast image\n",
      "  warn('%s is a low contrast image' % fname)\n",
      "/data/anaconda/envs/cropmask/lib/python3.7/site-packages/skimage/io/_io.py:141: UserWarning: /mnt/cropmaskperm/landsat-clear-scenes-2005/train/LT050290312005031601T1-SC20190818204935_tile_2560_4608/mask/LT050290312005031601T1-SC20190818204935_tile_2560_4608_label.tif is a low contrast image\n",
      "  warn('%s is a low contrast image' % fname)\n",
      "/data/anaconda/envs/cropmask/lib/python3.7/site-packages/skimage/io/_io.py:141: UserWarning: /mnt/cropmaskperm/landsat-clear-scenes-2005/train/LT050290312005031601T1-SC20190818204935_tile_2560_512/mask/LT050290312005031601T1-SC20190818204935_tile_2560_512_label.tif is a low contrast image\n",
      "  warn('%s is a low contrast image' % fname)\n",
      "/data/anaconda/envs/cropmask/lib/python3.7/site-packages/skimage/io/_io.py:141: UserWarning: /mnt/cropmaskperm/landsat-clear-scenes-2005/train/LT050290312005031601T1-SC20190818204935_tile_2560_5120/mask/LT050290312005031601T1-SC20190818204935_tile_2560_5120_label.tif is a low contrast image\n",
      "  warn('%s is a low contrast image' % fname)\n",
      "/data/anaconda/envs/cropmask/lib/python3.7/site-packages/skimage/io/_io.py:141: UserWarning: /mnt/cropmaskperm/landsat-clear-scenes-2005/train/LT050290312005031601T1-SC20190818204935_tile_2560_5632/mask/LT050290312005031601T1-SC20190818204935_tile_2560_5632_label.tif is a low contrast image\n",
      "  warn('%s is a low contrast image' % fname)\n",
      "/data/anaconda/envs/cropmask/lib/python3.7/site-packages/skimage/io/_io.py:141: UserWarning: /mnt/cropmaskperm/landsat-clear-scenes-2005/train/LT050290312005031601T1-SC20190818204935_tile_3072_1024/mask/LT050290312005031601T1-SC20190818204935_tile_3072_1024_label.tif is a low contrast image\n",
      "  warn('%s is a low contrast image' % fname)\n",
      "/data/anaconda/envs/cropmask/lib/python3.7/site-packages/skimage/io/_io.py:141: UserWarning: /mnt/cropmaskperm/landsat-clear-scenes-2005/train/LT050290312005031601T1-SC20190818204935_tile_3072_1536/mask/LT050290312005031601T1-SC20190818204935_tile_3072_1536_label.tif is a low contrast image\n",
      "  warn('%s is a low contrast image' % fname)\n",
      "/data/anaconda/envs/cropmask/lib/python3.7/site-packages/skimage/io/_io.py:141: UserWarning: /mnt/cropmaskperm/landsat-clear-scenes-2005/train/LT050290312005031601T1-SC20190818204935_tile_3072_2048/mask/LT050290312005031601T1-SC20190818204935_tile_3072_2048_label.tif is a low contrast image\n",
      "  warn('%s is a low contrast image' % fname)\n",
      "/data/anaconda/envs/cropmask/lib/python3.7/site-packages/skimage/io/_io.py:141: UserWarning: /mnt/cropmaskperm/landsat-clear-scenes-2005/train/LT050290312005031601T1-SC20190818204935_tile_3072_2560/mask/LT050290312005031601T1-SC20190818204935_tile_3072_2560_label.tif is a low contrast image\n",
      "  warn('%s is a low contrast image' % fname)\n",
      "/data/anaconda/envs/cropmask/lib/python3.7/site-packages/skimage/io/_io.py:141: UserWarning: /mnt/cropmaskperm/landsat-clear-scenes-2005/train/LT050290312005031601T1-SC20190818204935_tile_3072_3072/mask/LT050290312005031601T1-SC20190818204935_tile_3072_3072_label.tif is a low contrast image\n",
      "  warn('%s is a low contrast image' % fname)\n",
      "/data/anaconda/envs/cropmask/lib/python3.7/site-packages/skimage/io/_io.py:141: UserWarning: /mnt/cropmaskperm/landsat-clear-scenes-2005/train/LT050290312005031601T1-SC20190818204935_tile_3072_3584/mask/LT050290312005031601T1-SC20190818204935_tile_3072_3584_label.tif is a low contrast image\n",
      "  warn('%s is a low contrast image' % fname)\n",
      "/data/anaconda/envs/cropmask/lib/python3.7/site-packages/skimage/io/_io.py:141: UserWarning: /mnt/cropmaskperm/landsat-clear-scenes-2005/train/LT050290312005031601T1-SC20190818204935_tile_3072_4096/mask/LT050290312005031601T1-SC20190818204935_tile_3072_4096_label.tif is a low contrast image\n",
      "  warn('%s is a low contrast image' % fname)\n",
      "/data/anaconda/envs/cropmask/lib/python3.7/site-packages/skimage/io/_io.py:141: UserWarning: /mnt/cropmaskperm/landsat-clear-scenes-2005/train/LT050290312005031601T1-SC20190818204935_tile_3072_4608/mask/LT050290312005031601T1-SC20190818204935_tile_3072_4608_label.tif is a low contrast image\n",
      "  warn('%s is a low contrast image' % fname)\n",
      "/data/anaconda/envs/cropmask/lib/python3.7/site-packages/skimage/io/_io.py:141: UserWarning: /mnt/cropmaskperm/landsat-clear-scenes-2005/train/LT050290312005031601T1-SC20190818204935_tile_3072_512/mask/LT050290312005031601T1-SC20190818204935_tile_3072_512_label.tif is a low contrast image\n",
      "  warn('%s is a low contrast image' % fname)\n",
      "/data/anaconda/envs/cropmask/lib/python3.7/site-packages/skimage/io/_io.py:141: UserWarning: /mnt/cropmaskperm/landsat-clear-scenes-2005/train/LT050290312005031601T1-SC20190818204935_tile_3072_5120/mask/LT050290312005031601T1-SC20190818204935_tile_3072_5120_label.tif is a low contrast image\n",
      "  warn('%s is a low contrast image' % fname)\n",
      "/data/anaconda/envs/cropmask/lib/python3.7/site-packages/skimage/io/_io.py:141: UserWarning: /mnt/cropmaskperm/landsat-clear-scenes-2005/train/LT050290312005031601T1-SC20190818204935_tile_3072_5632/mask/LT050290312005031601T1-SC20190818204935_tile_3072_5632_label.tif is a low contrast image\n",
      "  warn('%s is a low contrast image' % fname)\n",
      "/data/anaconda/envs/cropmask/lib/python3.7/site-packages/skimage/io/_io.py:141: UserWarning: /mnt/cropmaskperm/landsat-clear-scenes-2005/train/LT050290312005031601T1-SC20190818204935_tile_3584_1024/mask/LT050290312005031601T1-SC20190818204935_tile_3584_1024_label.tif is a low contrast image\n",
      "  warn('%s is a low contrast image' % fname)\n",
      "/data/anaconda/envs/cropmask/lib/python3.7/site-packages/skimage/io/_io.py:141: UserWarning: /mnt/cropmaskperm/landsat-clear-scenes-2005/train/LT050290312005031601T1-SC20190818204935_tile_3584_1536/mask/LT050290312005031601T1-SC20190818204935_tile_3584_1536_label.tif is a low contrast image\n",
      "  warn('%s is a low contrast image' % fname)\n",
      "/data/anaconda/envs/cropmask/lib/python3.7/site-packages/skimage/io/_io.py:141: UserWarning: /mnt/cropmaskperm/landsat-clear-scenes-2005/train/LT050290312005031601T1-SC20190818204935_tile_3584_2048/mask/LT050290312005031601T1-SC20190818204935_tile_3584_2048_label.tif is a low contrast image\n",
      "  warn('%s is a low contrast image' % fname)\n",
      "/data/anaconda/envs/cropmask/lib/python3.7/site-packages/skimage/io/_io.py:141: UserWarning: /mnt/cropmaskperm/landsat-clear-scenes-2005/train/LT050290312005031601T1-SC20190818204935_tile_3584_2560/mask/LT050290312005031601T1-SC20190818204935_tile_3584_2560_label.tif is a low contrast image\n",
      "  warn('%s is a low contrast image' % fname)\n",
      "/data/anaconda/envs/cropmask/lib/python3.7/site-packages/skimage/io/_io.py:141: UserWarning: /mnt/cropmaskperm/landsat-clear-scenes-2005/train/LT050290312005031601T1-SC20190818204935_tile_3584_3072/mask/LT050290312005031601T1-SC20190818204935_tile_3584_3072_label.tif is a low contrast image\n",
      "  warn('%s is a low contrast image' % fname)\n",
      "/data/anaconda/envs/cropmask/lib/python3.7/site-packages/skimage/io/_io.py:141: UserWarning: /mnt/cropmaskperm/landsat-clear-scenes-2005/train/LT050290312005031601T1-SC20190818204935_tile_3584_3584/mask/LT050290312005031601T1-SC20190818204935_tile_3584_3584_label.tif is a low contrast image\n",
      "  warn('%s is a low contrast image' % fname)\n",
      "/data/anaconda/envs/cropmask/lib/python3.7/site-packages/skimage/io/_io.py:141: UserWarning: /mnt/cropmaskperm/landsat-clear-scenes-2005/train/LT050290312005031601T1-SC20190818204935_tile_3584_4096/mask/LT050290312005031601T1-SC20190818204935_tile_3584_4096_label.tif is a low contrast image\n",
      "  warn('%s is a low contrast image' % fname)\n",
      "/data/anaconda/envs/cropmask/lib/python3.7/site-packages/skimage/io/_io.py:141: UserWarning: /mnt/cropmaskperm/landsat-clear-scenes-2005/train/LT050290312005031601T1-SC20190818204935_tile_3584_4608/mask/LT050290312005031601T1-SC20190818204935_tile_3584_4608_label.tif is a low contrast image\n",
      "  warn('%s is a low contrast image' % fname)\n",
      "/data/anaconda/envs/cropmask/lib/python3.7/site-packages/skimage/io/_io.py:141: UserWarning: /mnt/cropmaskperm/landsat-clear-scenes-2005/train/LT050290312005031601T1-SC20190818204935_tile_3584_512/mask/LT050290312005031601T1-SC20190818204935_tile_3584_512_label.tif is a low contrast image\n",
      "  warn('%s is a low contrast image' % fname)\n",
      "/data/anaconda/envs/cropmask/lib/python3.7/site-packages/skimage/io/_io.py:141: UserWarning: /mnt/cropmaskperm/landsat-clear-scenes-2005/train/LT050290312005031601T1-SC20190818204935_tile_3584_5120/mask/LT050290312005031601T1-SC20190818204935_tile_3584_5120_label.tif is a low contrast image\n",
      "  warn('%s is a low contrast image' % fname)\n",
      "/data/anaconda/envs/cropmask/lib/python3.7/site-packages/skimage/io/_io.py:141: UserWarning: /mnt/cropmaskperm/landsat-clear-scenes-2005/train/LT050290312005031601T1-SC20190818204935_tile_3584_5632/mask/LT050290312005031601T1-SC20190818204935_tile_3584_5632_label.tif is a low contrast image\n",
      "  warn('%s is a low contrast image' % fname)\n",
      "/data/anaconda/envs/cropmask/lib/python3.7/site-packages/skimage/io/_io.py:141: UserWarning: /mnt/cropmaskperm/landsat-clear-scenes-2005/train/LT050290312005031601T1-SC20190818204935_tile_4096_1024/mask/LT050290312005031601T1-SC20190818204935_tile_4096_1024_label.tif is a low contrast image\n",
      "  warn('%s is a low contrast image' % fname)\n",
      "/data/anaconda/envs/cropmask/lib/python3.7/site-packages/skimage/io/_io.py:141: UserWarning: /mnt/cropmaskperm/landsat-clear-scenes-2005/train/LT050290312005031601T1-SC20190818204935_tile_4096_1536/mask/LT050290312005031601T1-SC20190818204935_tile_4096_1536_label.tif is a low contrast image\n",
      "  warn('%s is a low contrast image' % fname)\n",
      "/data/anaconda/envs/cropmask/lib/python3.7/site-packages/skimage/io/_io.py:141: UserWarning: /mnt/cropmaskperm/landsat-clear-scenes-2005/train/LT050290312005031601T1-SC20190818204935_tile_4096_2048/mask/LT050290312005031601T1-SC20190818204935_tile_4096_2048_label.tif is a low contrast image\n",
      "  warn('%s is a low contrast image' % fname)\n",
      "/data/anaconda/envs/cropmask/lib/python3.7/site-packages/skimage/io/_io.py:141: UserWarning: /mnt/cropmaskperm/landsat-clear-scenes-2005/train/LT050290312005031601T1-SC20190818204935_tile_4096_2560/mask/LT050290312005031601T1-SC20190818204935_tile_4096_2560_label.tif is a low contrast image\n",
      "  warn('%s is a low contrast image' % fname)\n",
      "/data/anaconda/envs/cropmask/lib/python3.7/site-packages/skimage/io/_io.py:141: UserWarning: /mnt/cropmaskperm/landsat-clear-scenes-2005/train/LT050290312005031601T1-SC20190818204935_tile_4096_3072/mask/LT050290312005031601T1-SC20190818204935_tile_4096_3072_label.tif is a low contrast image\n",
      "  warn('%s is a low contrast image' % fname)\n",
      "/data/anaconda/envs/cropmask/lib/python3.7/site-packages/skimage/io/_io.py:141: UserWarning: /mnt/cropmaskperm/landsat-clear-scenes-2005/train/LT050290312005031601T1-SC20190818204935_tile_4096_3584/mask/LT050290312005031601T1-SC20190818204935_tile_4096_3584_label.tif is a low contrast image\n",
      "  warn('%s is a low contrast image' % fname)\n",
      "/data/anaconda/envs/cropmask/lib/python3.7/site-packages/skimage/io/_io.py:141: UserWarning: /mnt/cropmaskperm/landsat-clear-scenes-2005/train/LT050290312005031601T1-SC20190818204935_tile_4096_4096/mask/LT050290312005031601T1-SC20190818204935_tile_4096_4096_label.tif is a low contrast image\n",
      "  warn('%s is a low contrast image' % fname)\n",
      "/data/anaconda/envs/cropmask/lib/python3.7/site-packages/skimage/io/_io.py:141: UserWarning: /mnt/cropmaskperm/landsat-clear-scenes-2005/train/LT050290312005031601T1-SC20190818204935_tile_4096_4608/mask/LT050290312005031601T1-SC20190818204935_tile_4096_4608_label.tif is a low contrast image\n",
      "  warn('%s is a low contrast image' % fname)\n",
      "/data/anaconda/envs/cropmask/lib/python3.7/site-packages/skimage/io/_io.py:141: UserWarning: /mnt/cropmaskperm/landsat-clear-scenes-2005/train/LT050290312005031601T1-SC20190818204935_tile_4096_5120/mask/LT050290312005031601T1-SC20190818204935_tile_4096_5120_label.tif is a low contrast image\n",
      "  warn('%s is a low contrast image' % fname)\n",
      "/data/anaconda/envs/cropmask/lib/python3.7/site-packages/skimage/io/_io.py:141: UserWarning: /mnt/cropmaskperm/landsat-clear-scenes-2005/train/LT050290312005031601T1-SC20190818204935_tile_4096_5632/mask/LT050290312005031601T1-SC20190818204935_tile_4096_5632_label.tif is a low contrast image\n",
      "  warn('%s is a low contrast image' % fname)\n",
      "/data/anaconda/envs/cropmask/lib/python3.7/site-packages/skimage/io/_io.py:141: UserWarning: /mnt/cropmaskperm/landsat-clear-scenes-2005/train/LT050290312005031601T1-SC20190818204935_tile_4096_6144/mask/LT050290312005031601T1-SC20190818204935_tile_4096_6144_label.tif is a low contrast image\n",
      "  warn('%s is a low contrast image' % fname)\n",
      "/data/anaconda/envs/cropmask/lib/python3.7/site-packages/skimage/io/_io.py:141: UserWarning: /mnt/cropmaskperm/landsat-clear-scenes-2005/train/LT050290312005031601T1-SC20190818204935_tile_4608_1024/mask/LT050290312005031601T1-SC20190818204935_tile_4608_1024_label.tif is a low contrast image\n",
      "  warn('%s is a low contrast image' % fname)\n",
      "/data/anaconda/envs/cropmask/lib/python3.7/site-packages/skimage/io/_io.py:141: UserWarning: /mnt/cropmaskperm/landsat-clear-scenes-2005/train/LT050290312005031601T1-SC20190818204935_tile_4608_1536/mask/LT050290312005031601T1-SC20190818204935_tile_4608_1536_label.tif is a low contrast image\n",
      "  warn('%s is a low contrast image' % fname)\n",
      "/data/anaconda/envs/cropmask/lib/python3.7/site-packages/skimage/io/_io.py:141: UserWarning: /mnt/cropmaskperm/landsat-clear-scenes-2005/train/LT050290312005031601T1-SC20190818204935_tile_4608_2048/mask/LT050290312005031601T1-SC20190818204935_tile_4608_2048_label.tif is a low contrast image\n",
      "  warn('%s is a low contrast image' % fname)\n",
      "/data/anaconda/envs/cropmask/lib/python3.7/site-packages/skimage/io/_io.py:141: UserWarning: /mnt/cropmaskperm/landsat-clear-scenes-2005/train/LT050290312005031601T1-SC20190818204935_tile_4608_2560/mask/LT050290312005031601T1-SC20190818204935_tile_4608_2560_label.tif is a low contrast image\n",
      "  warn('%s is a low contrast image' % fname)\n",
      "/data/anaconda/envs/cropmask/lib/python3.7/site-packages/skimage/io/_io.py:141: UserWarning: /mnt/cropmaskperm/landsat-clear-scenes-2005/train/LT050290312005031601T1-SC20190818204935_tile_4608_3072/mask/LT050290312005031601T1-SC20190818204935_tile_4608_3072_label.tif is a low contrast image\n",
      "  warn('%s is a low contrast image' % fname)\n",
      "/data/anaconda/envs/cropmask/lib/python3.7/site-packages/skimage/io/_io.py:141: UserWarning: /mnt/cropmaskperm/landsat-clear-scenes-2005/train/LT050290312005031601T1-SC20190818204935_tile_4608_3584/mask/LT050290312005031601T1-SC20190818204935_tile_4608_3584_label.tif is a low contrast image\n",
      "  warn('%s is a low contrast image' % fname)\n",
      "/data/anaconda/envs/cropmask/lib/python3.7/site-packages/skimage/io/_io.py:141: UserWarning: /mnt/cropmaskperm/landsat-clear-scenes-2005/train/LT050290312005031601T1-SC20190818204935_tile_4608_4096/mask/LT050290312005031601T1-SC20190818204935_tile_4608_4096_label.tif is a low contrast image\n",
      "  warn('%s is a low contrast image' % fname)\n",
      "/data/anaconda/envs/cropmask/lib/python3.7/site-packages/skimage/io/_io.py:141: UserWarning: /mnt/cropmaskperm/landsat-clear-scenes-2005/train/LT050290312005031601T1-SC20190818204935_tile_4608_4608/mask/LT050290312005031601T1-SC20190818204935_tile_4608_4608_label.tif is a low contrast image\n",
      "  warn('%s is a low contrast image' % fname)\n",
      "/data/anaconda/envs/cropmask/lib/python3.7/site-packages/skimage/io/_io.py:141: UserWarning: /mnt/cropmaskperm/landsat-clear-scenes-2005/train/LT050290312005031601T1-SC20190818204935_tile_4608_5120/mask/LT050290312005031601T1-SC20190818204935_tile_4608_5120_label.tif is a low contrast image\n",
      "  warn('%s is a low contrast image' % fname)\n",
      "/data/anaconda/envs/cropmask/lib/python3.7/site-packages/skimage/io/_io.py:141: UserWarning: /mnt/cropmaskperm/landsat-clear-scenes-2005/train/LT050290312005031601T1-SC20190818204935_tile_4608_5632/mask/LT050290312005031601T1-SC20190818204935_tile_4608_5632_label.tif is a low contrast image\n",
      "  warn('%s is a low contrast image' % fname)\n",
      "/data/anaconda/envs/cropmask/lib/python3.7/site-packages/skimage/io/_io.py:141: UserWarning: /mnt/cropmaskperm/landsat-clear-scenes-2005/train/LT050290312005031601T1-SC20190818204935_tile_4608_6144/mask/LT050290312005031601T1-SC20190818204935_tile_4608_6144_label.tif is a low contrast image\n",
      "  warn('%s is a low contrast image' % fname)\n",
      "/data/anaconda/envs/cropmask/lib/python3.7/site-packages/skimage/io/_io.py:141: UserWarning: /mnt/cropmaskperm/landsat-clear-scenes-2005/train/LT050290312005031601T1-SC20190818204935_tile_5120_1024/mask/LT050290312005031601T1-SC20190818204935_tile_5120_1024_label.tif is a low contrast image\n",
      "  warn('%s is a low contrast image' % fname)\n",
      "/data/anaconda/envs/cropmask/lib/python3.7/site-packages/skimage/io/_io.py:141: UserWarning: /mnt/cropmaskperm/landsat-clear-scenes-2005/train/LT050290312005031601T1-SC20190818204935_tile_5120_1536/mask/LT050290312005031601T1-SC20190818204935_tile_5120_1536_label.tif is a low contrast image\n",
      "  warn('%s is a low contrast image' % fname)\n",
      "/data/anaconda/envs/cropmask/lib/python3.7/site-packages/skimage/io/_io.py:141: UserWarning: /mnt/cropmaskperm/landsat-clear-scenes-2005/train/LT050290312005031601T1-SC20190818204935_tile_5120_2048/mask/LT050290312005031601T1-SC20190818204935_tile_5120_2048_label.tif is a low contrast image\n",
      "  warn('%s is a low contrast image' % fname)\n",
      "/data/anaconda/envs/cropmask/lib/python3.7/site-packages/skimage/io/_io.py:141: UserWarning: /mnt/cropmaskperm/landsat-clear-scenes-2005/train/LT050290312005031601T1-SC20190818204935_tile_5120_2560/mask/LT050290312005031601T1-SC20190818204935_tile_5120_2560_label.tif is a low contrast image\n",
      "  warn('%s is a low contrast image' % fname)\n",
      "/data/anaconda/envs/cropmask/lib/python3.7/site-packages/skimage/io/_io.py:141: UserWarning: /mnt/cropmaskperm/landsat-clear-scenes-2005/train/LT050290312005031601T1-SC20190818204935_tile_5120_3072/mask/LT050290312005031601T1-SC20190818204935_tile_5120_3072_label.tif is a low contrast image\n",
      "  warn('%s is a low contrast image' % fname)\n",
      "/data/anaconda/envs/cropmask/lib/python3.7/site-packages/skimage/io/_io.py:141: UserWarning: /mnt/cropmaskperm/landsat-clear-scenes-2005/train/LT050290312005031601T1-SC20190818204935_tile_5120_3584/mask/LT050290312005031601T1-SC20190818204935_tile_5120_3584_label.tif is a low contrast image\n",
      "  warn('%s is a low contrast image' % fname)\n",
      "/data/anaconda/envs/cropmask/lib/python3.7/site-packages/skimage/io/_io.py:141: UserWarning: /mnt/cropmaskperm/landsat-clear-scenes-2005/train/LT050290312005031601T1-SC20190818204935_tile_5120_4096/mask/LT050290312005031601T1-SC20190818204935_tile_5120_4096_label.tif is a low contrast image\n",
      "  warn('%s is a low contrast image' % fname)\n",
      "/data/anaconda/envs/cropmask/lib/python3.7/site-packages/skimage/io/_io.py:141: UserWarning: /mnt/cropmaskperm/landsat-clear-scenes-2005/train/LT050290312005031601T1-SC20190818204935_tile_5120_4608/mask/LT050290312005031601T1-SC20190818204935_tile_5120_4608_label.tif is a low contrast image\n",
      "  warn('%s is a low contrast image' % fname)\n",
      "/data/anaconda/envs/cropmask/lib/python3.7/site-packages/skimage/io/_io.py:141: UserWarning: /mnt/cropmaskperm/landsat-clear-scenes-2005/train/LT050290312005031601T1-SC20190818204935_tile_5120_5120/mask/LT050290312005031601T1-SC20190818204935_tile_5120_5120_label.tif is a low contrast image\n",
      "  warn('%s is a low contrast image' % fname)\n",
      "/data/anaconda/envs/cropmask/lib/python3.7/site-packages/skimage/io/_io.py:141: UserWarning: /mnt/cropmaskperm/landsat-clear-scenes-2005/train/LT050290312005031601T1-SC20190818204935_tile_5120_5632/mask/LT050290312005031601T1-SC20190818204935_tile_5120_5632_label.tif is a low contrast image\n",
      "  warn('%s is a low contrast image' % fname)\n",
      "/data/anaconda/envs/cropmask/lib/python3.7/site-packages/skimage/io/_io.py:141: UserWarning: /mnt/cropmaskperm/landsat-clear-scenes-2005/train/LT050290312005031601T1-SC20190818204935_tile_5120_6144/mask/LT050290312005031601T1-SC20190818204935_tile_5120_6144_label.tif is a low contrast image\n",
      "  warn('%s is a low contrast image' % fname)\n",
      "/data/anaconda/envs/cropmask/lib/python3.7/site-packages/skimage/io/_io.py:141: UserWarning: /mnt/cropmaskperm/landsat-clear-scenes-2005/train/LT050290312005031601T1-SC20190818204935_tile_512_4608/mask/LT050290312005031601T1-SC20190818204935_tile_512_4608_label.tif is a low contrast image\n",
      "  warn('%s is a low contrast image' % fname)\n",
      "/data/anaconda/envs/cropmask/lib/python3.7/site-packages/skimage/io/_io.py:141: UserWarning: /mnt/cropmaskperm/landsat-clear-scenes-2005/train/LT050290312005031601T1-SC20190818204935_tile_512_5120/mask/LT050290312005031601T1-SC20190818204935_tile_512_5120_label.tif is a low contrast image\n",
      "  warn('%s is a low contrast image' % fname)\n",
      "/data/anaconda/envs/cropmask/lib/python3.7/site-packages/skimage/io/_io.py:141: UserWarning: /mnt/cropmaskperm/landsat-clear-scenes-2005/train/LT050290312005031601T1-SC20190818204935_tile_5632_1024/mask/LT050290312005031601T1-SC20190818204935_tile_5632_1024_label.tif is a low contrast image\n",
      "  warn('%s is a low contrast image' % fname)\n",
      "/data/anaconda/envs/cropmask/lib/python3.7/site-packages/skimage/io/_io.py:141: UserWarning: /mnt/cropmaskperm/landsat-clear-scenes-2005/train/LT050290312005031601T1-SC20190818204935_tile_5632_1536/mask/LT050290312005031601T1-SC20190818204935_tile_5632_1536_label.tif is a low contrast image\n",
      "  warn('%s is a low contrast image' % fname)\n",
      "/data/anaconda/envs/cropmask/lib/python3.7/site-packages/skimage/io/_io.py:141: UserWarning: /mnt/cropmaskperm/landsat-clear-scenes-2005/train/LT050290312005031601T1-SC20190818204935_tile_5632_2048/mask/LT050290312005031601T1-SC20190818204935_tile_5632_2048_label.tif is a low contrast image\n",
      "  warn('%s is a low contrast image' % fname)\n",
      "/data/anaconda/envs/cropmask/lib/python3.7/site-packages/skimage/io/_io.py:141: UserWarning: /mnt/cropmaskperm/landsat-clear-scenes-2005/train/LT050290312005031601T1-SC20190818204935_tile_5632_2560/mask/LT050290312005031601T1-SC20190818204935_tile_5632_2560_label.tif is a low contrast image\n",
      "  warn('%s is a low contrast image' % fname)\n",
      "/data/anaconda/envs/cropmask/lib/python3.7/site-packages/skimage/io/_io.py:141: UserWarning: /mnt/cropmaskperm/landsat-clear-scenes-2005/train/LT050290312005031601T1-SC20190818204935_tile_5632_3072/mask/LT050290312005031601T1-SC20190818204935_tile_5632_3072_label.tif is a low contrast image\n",
      "  warn('%s is a low contrast image' % fname)\n",
      "/data/anaconda/envs/cropmask/lib/python3.7/site-packages/skimage/io/_io.py:141: UserWarning: /mnt/cropmaskperm/landsat-clear-scenes-2005/train/LT050290312005031601T1-SC20190818204935_tile_5632_3584/mask/LT050290312005031601T1-SC20190818204935_tile_5632_3584_label.tif is a low contrast image\n",
      "  warn('%s is a low contrast image' % fname)\n",
      "/data/anaconda/envs/cropmask/lib/python3.7/site-packages/skimage/io/_io.py:141: UserWarning: /mnt/cropmaskperm/landsat-clear-scenes-2005/train/LT050290312005031601T1-SC20190818204935_tile_5632_4096/mask/LT050290312005031601T1-SC20190818204935_tile_5632_4096_label.tif is a low contrast image\n",
      "  warn('%s is a low contrast image' % fname)\n",
      "/data/anaconda/envs/cropmask/lib/python3.7/site-packages/skimage/io/_io.py:141: UserWarning: /mnt/cropmaskperm/landsat-clear-scenes-2005/train/LT050290312005031601T1-SC20190818204935_tile_5632_4608/mask/LT050290312005031601T1-SC20190818204935_tile_5632_4608_label.tif is a low contrast image\n",
      "  warn('%s is a low contrast image' % fname)\n",
      "/data/anaconda/envs/cropmask/lib/python3.7/site-packages/skimage/io/_io.py:141: UserWarning: /mnt/cropmaskperm/landsat-clear-scenes-2005/train/LT050290312005031601T1-SC20190818204935_tile_5632_5120/mask/LT050290312005031601T1-SC20190818204935_tile_5632_5120_label.tif is a low contrast image\n",
      "  warn('%s is a low contrast image' % fname)\n",
      "/data/anaconda/envs/cropmask/lib/python3.7/site-packages/skimage/io/_io.py:141: UserWarning: /mnt/cropmaskperm/landsat-clear-scenes-2005/train/LT050290312005031601T1-SC20190818204935_tile_5632_5632/mask/LT050290312005031601T1-SC20190818204935_tile_5632_5632_label.tif is a low contrast image\n",
      "  warn('%s is a low contrast image' % fname)\n",
      "/data/anaconda/envs/cropmask/lib/python3.7/site-packages/skimage/io/_io.py:141: UserWarning: /mnt/cropmaskperm/landsat-clear-scenes-2005/train/LT050290312005031601T1-SC20190818204935_tile_5632_6144/mask/LT050290312005031601T1-SC20190818204935_tile_5632_6144_label.tif is a low contrast image\n",
      "  warn('%s is a low contrast image' % fname)\n",
      "/data/anaconda/envs/cropmask/lib/python3.7/site-packages/skimage/io/_io.py:141: UserWarning: /mnt/cropmaskperm/landsat-clear-scenes-2005/train/LT050290312005031601T1-SC20190818204935_tile_6144_1024/mask/LT050290312005031601T1-SC20190818204935_tile_6144_1024_label.tif is a low contrast image\n",
      "  warn('%s is a low contrast image' % fname)\n",
      "/data/anaconda/envs/cropmask/lib/python3.7/site-packages/skimage/io/_io.py:141: UserWarning: /mnt/cropmaskperm/landsat-clear-scenes-2005/train/LT050290312005031601T1-SC20190818204935_tile_6144_1536/mask/LT050290312005031601T1-SC20190818204935_tile_6144_1536_label.tif is a low contrast image\n",
      "  warn('%s is a low contrast image' % fname)\n",
      "/data/anaconda/envs/cropmask/lib/python3.7/site-packages/skimage/io/_io.py:141: UserWarning: /mnt/cropmaskperm/landsat-clear-scenes-2005/train/LT050290312005031601T1-SC20190818204935_tile_6144_2048/mask/LT050290312005031601T1-SC20190818204935_tile_6144_2048_label.tif is a low contrast image\n",
      "  warn('%s is a low contrast image' % fname)\n",
      "/data/anaconda/envs/cropmask/lib/python3.7/site-packages/skimage/io/_io.py:141: UserWarning: /mnt/cropmaskperm/landsat-clear-scenes-2005/train/LT050290312005031601T1-SC20190818204935_tile_6144_2560/mask/LT050290312005031601T1-SC20190818204935_tile_6144_2560_label.tif is a low contrast image\n",
      "  warn('%s is a low contrast image' % fname)\n",
      "/data/anaconda/envs/cropmask/lib/python3.7/site-packages/skimage/io/_io.py:141: UserWarning: /mnt/cropmaskperm/landsat-clear-scenes-2005/train/LT050290312005031601T1-SC20190818204935_tile_6144_3072/mask/LT050290312005031601T1-SC20190818204935_tile_6144_3072_label.tif is a low contrast image\n",
      "  warn('%s is a low contrast image' % fname)\n",
      "/data/anaconda/envs/cropmask/lib/python3.7/site-packages/skimage/io/_io.py:141: UserWarning: /mnt/cropmaskperm/landsat-clear-scenes-2005/train/LT050290312005031601T1-SC20190818204935_tile_6144_3584/mask/LT050290312005031601T1-SC20190818204935_tile_6144_3584_label.tif is a low contrast image\n",
      "  warn('%s is a low contrast image' % fname)\n",
      "/data/anaconda/envs/cropmask/lib/python3.7/site-packages/skimage/io/_io.py:141: UserWarning: /mnt/cropmaskperm/landsat-clear-scenes-2005/train/LT050290312005031601T1-SC20190818204935_tile_6144_4096/mask/LT050290312005031601T1-SC20190818204935_tile_6144_4096_label.tif is a low contrast image\n",
      "  warn('%s is a low contrast image' % fname)\n",
      "/data/anaconda/envs/cropmask/lib/python3.7/site-packages/skimage/io/_io.py:141: UserWarning: /mnt/cropmaskperm/landsat-clear-scenes-2005/train/LT050290312005031601T1-SC20190818204935_tile_6144_4608/mask/LT050290312005031601T1-SC20190818204935_tile_6144_4608_label.tif is a low contrast image\n",
      "  warn('%s is a low contrast image' % fname)\n",
      "/data/anaconda/envs/cropmask/lib/python3.7/site-packages/skimage/io/_io.py:141: UserWarning: /mnt/cropmaskperm/landsat-clear-scenes-2005/train/LT050290312005031601T1-SC20190818204935_tile_6144_5120/mask/LT050290312005031601T1-SC20190818204935_tile_6144_5120_label.tif is a low contrast image\n",
      "  warn('%s is a low contrast image' % fname)\n",
      "/data/anaconda/envs/cropmask/lib/python3.7/site-packages/skimage/io/_io.py:141: UserWarning: /mnt/cropmaskperm/landsat-clear-scenes-2005/train/LT050290312005031601T1-SC20190818204935_tile_6656_1536/mask/LT050290312005031601T1-SC20190818204935_tile_6656_1536_label.tif is a low contrast image\n",
      "  warn('%s is a low contrast image' % fname)\n",
      "/data/anaconda/envs/cropmask/lib/python3.7/site-packages/skimage/io/_io.py:141: UserWarning: /mnt/cropmaskperm/landsat-clear-scenes-2005/train/LT050290312005031601T1-SC20190818204935_tile_6656_2048/mask/LT050290312005031601T1-SC20190818204935_tile_6656_2048_label.tif is a low contrast image\n",
      "  warn('%s is a low contrast image' % fname)\n",
      "/data/anaconda/envs/cropmask/lib/python3.7/site-packages/skimage/io/_io.py:141: UserWarning: /mnt/cropmaskperm/landsat-clear-scenes-2005/train/LT050290312005031601T1-SC20190818204935_tile_6656_2560/mask/LT050290312005031601T1-SC20190818204935_tile_6656_2560_label.tif is a low contrast image\n",
      "  warn('%s is a low contrast image' % fname)\n",
      "/data/anaconda/envs/cropmask/lib/python3.7/site-packages/skimage/io/_io.py:141: UserWarning: /mnt/cropmaskperm/landsat-clear-scenes-2005/train/LT050290312005031601T1-SC20190818204935_tile_6656_3072/mask/LT050290312005031601T1-SC20190818204935_tile_6656_3072_label.tif is a low contrast image\n",
      "  warn('%s is a low contrast image' % fname)\n"
     ]
    },
    {
     "name": "stdout",
     "output_type": "stream",
     "text": [
      "Done applying negbuff of -30 and filtering small labels of area less than 3600\n"
     ]
    },
    {
     "name": "stderr",
     "output_type": "stream",
     "text": [
      "/data/anaconda/envs/cropmask/lib/python3.7/site-packages/skimage/io/_io.py:141: UserWarning: /mnt/cropmaskperm/landsat-clear-scenes-2005/train/LT050290322005031601T1-SC20190818205024_tile_0_0/image/LT050290322005031601T1-SC20190818205024_tile_0_0.tif is a low contrast image\n",
      "  warn('%s is a low contrast image' % fname)\n"
     ]
    },
    {
     "name": "stdout",
     "output_type": "stream",
     "text": [
      "removed scene and label, 0.02% bad data\n"
     ]
    },
    {
     "name": "stderr",
     "output_type": "stream",
     "text": [
      "/data/anaconda/envs/cropmask/lib/python3.7/site-packages/skimage/io/_io.py:141: UserWarning: /mnt/cropmaskperm/landsat-clear-scenes-2005/train/LT050290322005031601T1-SC20190818205024_tile_0_1024/image/LT050290322005031601T1-SC20190818205024_tile_0_1024.tif is a low contrast image\n",
      "  warn('%s is a low contrast image' % fname)\n"
     ]
    },
    {
     "name": "stdout",
     "output_type": "stream",
     "text": [
      "removed scene and label, 0.02% bad data\n"
     ]
    },
    {
     "name": "stderr",
     "output_type": "stream",
     "text": [
      "/data/anaconda/envs/cropmask/lib/python3.7/site-packages/skimage/io/_io.py:141: UserWarning: /mnt/cropmaskperm/landsat-clear-scenes-2005/train/LT050290322005031601T1-SC20190818205024_tile_0_1536/image/LT050290322005031601T1-SC20190818205024_tile_0_1536.tif is a low contrast image\n",
      "  warn('%s is a low contrast image' % fname)\n"
     ]
    },
    {
     "name": "stdout",
     "output_type": "stream",
     "text": [
      "removed scene and label, 0.02% bad data\n"
     ]
    },
    {
     "name": "stderr",
     "output_type": "stream",
     "text": [
      "/data/anaconda/envs/cropmask/lib/python3.7/site-packages/skimage/io/_io.py:141: UserWarning: /mnt/cropmaskperm/landsat-clear-scenes-2005/train/LT050290322005031601T1-SC20190818205024_tile_0_2048/image/LT050290322005031601T1-SC20190818205024_tile_0_2048.tif is a low contrast image\n",
      "  warn('%s is a low contrast image' % fname)\n"
     ]
    },
    {
     "name": "stdout",
     "output_type": "stream",
     "text": [
      "removed scene and label, 0.02% bad data\n"
     ]
    },
    {
     "name": "stderr",
     "output_type": "stream",
     "text": [
      "/data/anaconda/envs/cropmask/lib/python3.7/site-packages/skimage/io/_io.py:141: UserWarning: /mnt/cropmaskperm/landsat-clear-scenes-2005/train/LT050290322005031601T1-SC20190818205024_tile_0_2560/image/LT050290322005031601T1-SC20190818205024_tile_0_2560.tif is a low contrast image\n",
      "  warn('%s is a low contrast image' % fname)\n"
     ]
    },
    {
     "name": "stdout",
     "output_type": "stream",
     "text": [
      "removed scene and label, 0.02% bad data\n"
     ]
    },
    {
     "name": "stderr",
     "output_type": "stream",
     "text": [
      "/data/anaconda/envs/cropmask/lib/python3.7/site-packages/skimage/io/_io.py:141: UserWarning: /mnt/cropmaskperm/landsat-clear-scenes-2005/train/LT050290322005031601T1-SC20190818205024_tile_0_3072/image/LT050290322005031601T1-SC20190818205024_tile_0_3072.tif is a low contrast image\n",
      "  warn('%s is a low contrast image' % fname)\n"
     ]
    },
    {
     "name": "stdout",
     "output_type": "stream",
     "text": [
      "removed scene and label, 0.02% bad data\n"
     ]
    },
    {
     "name": "stderr",
     "output_type": "stream",
     "text": [
      "/data/anaconda/envs/cropmask/lib/python3.7/site-packages/skimage/io/_io.py:141: UserWarning: /mnt/cropmaskperm/landsat-clear-scenes-2005/train/LT050290322005031601T1-SC20190818205024_tile_0_3584/image/LT050290322005031601T1-SC20190818205024_tile_0_3584.tif is a low contrast image\n",
      "  warn('%s is a low contrast image' % fname)\n"
     ]
    },
    {
     "name": "stdout",
     "output_type": "stream",
     "text": [
      "removed scene and label, 0.02% bad data\n"
     ]
    },
    {
     "name": "stderr",
     "output_type": "stream",
     "text": [
      "/data/anaconda/envs/cropmask/lib/python3.7/site-packages/skimage/io/_io.py:141: UserWarning: /mnt/cropmaskperm/landsat-clear-scenes-2005/train/LT050290322005031601T1-SC20190818205024_tile_0_4096/image/LT050290322005031601T1-SC20190818205024_tile_0_4096.tif is a low contrast image\n",
      "  warn('%s is a low contrast image' % fname)\n"
     ]
    },
    {
     "name": "stdout",
     "output_type": "stream",
     "text": [
      "removed scene and label, 0.02% bad data\n"
     ]
    },
    {
     "name": "stderr",
     "output_type": "stream",
     "text": [
      "/data/anaconda/envs/cropmask/lib/python3.7/site-packages/skimage/io/_io.py:141: UserWarning: /mnt/cropmaskperm/landsat-clear-scenes-2005/train/LT050290322005031601T1-SC20190818205024_tile_0_512/image/LT050290322005031601T1-SC20190818205024_tile_0_512.tif is a low contrast image\n",
      "  warn('%s is a low contrast image' % fname)\n"
     ]
    },
    {
     "name": "stdout",
     "output_type": "stream",
     "text": [
      "removed scene and label, 0.02% bad data\n"
     ]
    },
    {
     "name": "stderr",
     "output_type": "stream",
     "text": [
      "/data/anaconda/envs/cropmask/lib/python3.7/site-packages/skimage/io/_io.py:141: UserWarning: /mnt/cropmaskperm/landsat-clear-scenes-2005/train/LT050290322005031601T1-SC20190818205024_tile_1024_0/image/LT050290322005031601T1-SC20190818205024_tile_1024_0.tif is a low contrast image\n",
      "  warn('%s is a low contrast image' % fname)\n"
     ]
    },
    {
     "name": "stdout",
     "output_type": "stream",
     "text": [
      "removed scene and label, 0.02% bad data\n"
     ]
    },
    {
     "name": "stderr",
     "output_type": "stream",
     "text": [
      "/data/anaconda/envs/cropmask/lib/python3.7/site-packages/skimage/io/_io.py:141: UserWarning: /mnt/cropmaskperm/landsat-clear-scenes-2005/train/LT050290322005031601T1-SC20190818205024_tile_1024_1024/image/LT050290322005031601T1-SC20190818205024_tile_1024_1024.tif is a low contrast image\n",
      "  warn('%s is a low contrast image' % fname)\n"
     ]
    },
    {
     "name": "stdout",
     "output_type": "stream",
     "text": [
      "removed scene and label, 0.02% bad data\n"
     ]
    },
    {
     "name": "stderr",
     "output_type": "stream",
     "text": [
      "/data/anaconda/envs/cropmask/lib/python3.7/site-packages/skimage/io/_io.py:141: UserWarning: /mnt/cropmaskperm/landsat-clear-scenes-2005/train/LT050290322005031601T1-SC20190818205024_tile_1024_1536/image/LT050290322005031601T1-SC20190818205024_tile_1024_1536.tif is a low contrast image\n",
      "  warn('%s is a low contrast image' % fname)\n"
     ]
    },
    {
     "name": "stdout",
     "output_type": "stream",
     "text": [
      "removed scene and label, 0.02% bad data\n"
     ]
    },
    {
     "name": "stderr",
     "output_type": "stream",
     "text": [
      "/data/anaconda/envs/cropmask/lib/python3.7/site-packages/skimage/io/_io.py:141: UserWarning: /mnt/cropmaskperm/landsat-clear-scenes-2005/train/LT050290322005031601T1-SC20190818205024_tile_1024_2048/image/LT050290322005031601T1-SC20190818205024_tile_1024_2048.tif is a low contrast image\n",
      "  warn('%s is a low contrast image' % fname)\n"
     ]
    },
    {
     "name": "stdout",
     "output_type": "stream",
     "text": [
      "removed scene and label, 0.02% bad data\n"
     ]
    },
    {
     "name": "stderr",
     "output_type": "stream",
     "text": [
      "/data/anaconda/envs/cropmask/lib/python3.7/site-packages/skimage/io/_io.py:141: UserWarning: /mnt/cropmaskperm/landsat-clear-scenes-2005/train/LT050290322005031601T1-SC20190818205024_tile_1024_2560/image/LT050290322005031601T1-SC20190818205024_tile_1024_2560.tif is a low contrast image\n",
      "  warn('%s is a low contrast image' % fname)\n",
      "/data/anaconda/envs/cropmask/lib/python3.7/site-packages/skimage/io/_io.py:141: UserWarning: /mnt/cropmaskperm/landsat-clear-scenes-2005/train/LT050290322005031601T1-SC20190818205024_tile_1024_3072/image/LT050290322005031601T1-SC20190818205024_tile_1024_3072.tif is a low contrast image\n",
      "  warn('%s is a low contrast image' % fname)\n",
      "/data/anaconda/envs/cropmask/lib/python3.7/site-packages/skimage/io/_io.py:141: UserWarning: /mnt/cropmaskperm/landsat-clear-scenes-2005/train/LT050290322005031601T1-SC20190818205024_tile_1024_3584/image/LT050290322005031601T1-SC20190818205024_tile_1024_3584.tif is a low contrast image\n",
      "  warn('%s is a low contrast image' % fname)\n",
      "/data/anaconda/envs/cropmask/lib/python3.7/site-packages/skimage/io/_io.py:141: UserWarning: /mnt/cropmaskperm/landsat-clear-scenes-2005/train/LT050290322005031601T1-SC20190818205024_tile_1024_4096/image/LT050290322005031601T1-SC20190818205024_tile_1024_4096.tif is a low contrast image\n",
      "  warn('%s is a low contrast image' % fname)\n",
      "/data/anaconda/envs/cropmask/lib/python3.7/site-packages/skimage/io/_io.py:141: UserWarning: /mnt/cropmaskperm/landsat-clear-scenes-2005/train/LT050290322005031601T1-SC20190818205024_tile_1024_512/image/LT050290322005031601T1-SC20190818205024_tile_1024_512.tif is a low contrast image\n",
      "  warn('%s is a low contrast image' % fname)\n"
     ]
    },
    {
     "name": "stdout",
     "output_type": "stream",
     "text": [
      "removed scene and label, 0.02% bad data\n"
     ]
    },
    {
     "name": "stderr",
     "output_type": "stream",
     "text": [
      "/data/anaconda/envs/cropmask/lib/python3.7/site-packages/skimage/io/_io.py:141: UserWarning: /mnt/cropmaskperm/landsat-clear-scenes-2005/train/LT050290322005031601T1-SC20190818205024_tile_1536_0/image/LT050290322005031601T1-SC20190818205024_tile_1536_0.tif is a low contrast image\n",
      "  warn('%s is a low contrast image' % fname)\n"
     ]
    },
    {
     "name": "stdout",
     "output_type": "stream",
     "text": [
      "removed scene and label, 0.02% bad data\n"
     ]
    },
    {
     "name": "stderr",
     "output_type": "stream",
     "text": [
      "/data/anaconda/envs/cropmask/lib/python3.7/site-packages/skimage/io/_io.py:141: UserWarning: /mnt/cropmaskperm/landsat-clear-scenes-2005/train/LT050290322005031601T1-SC20190818205024_tile_1536_1024/image/LT050290322005031601T1-SC20190818205024_tile_1536_1024.tif is a low contrast image\n",
      "  warn('%s is a low contrast image' % fname)\n",
      "/data/anaconda/envs/cropmask/lib/python3.7/site-packages/skimage/io/_io.py:141: UserWarning: /mnt/cropmaskperm/landsat-clear-scenes-2005/train/LT050290322005031601T1-SC20190818205024_tile_1536_1536/image/LT050290322005031601T1-SC20190818205024_tile_1536_1536.tif is a low contrast image\n",
      "  warn('%s is a low contrast image' % fname)\n",
      "/data/anaconda/envs/cropmask/lib/python3.7/site-packages/skimage/io/_io.py:141: UserWarning: /mnt/cropmaskperm/landsat-clear-scenes-2005/train/LT050290322005031601T1-SC20190818205024_tile_1536_2048/image/LT050290322005031601T1-SC20190818205024_tile_1536_2048.tif is a low contrast image\n",
      "  warn('%s is a low contrast image' % fname)\n",
      "/data/anaconda/envs/cropmask/lib/python3.7/site-packages/skimage/io/_io.py:141: UserWarning: /mnt/cropmaskperm/landsat-clear-scenes-2005/train/LT050290322005031601T1-SC20190818205024_tile_1536_2560/image/LT050290322005031601T1-SC20190818205024_tile_1536_2560.tif is a low contrast image\n",
      "  warn('%s is a low contrast image' % fname)\n",
      "/data/anaconda/envs/cropmask/lib/python3.7/site-packages/skimage/io/_io.py:141: UserWarning: /mnt/cropmaskperm/landsat-clear-scenes-2005/train/LT050290322005031601T1-SC20190818205024_tile_1536_3072/image/LT050290322005031601T1-SC20190818205024_tile_1536_3072.tif is a low contrast image\n",
      "  warn('%s is a low contrast image' % fname)\n",
      "/data/anaconda/envs/cropmask/lib/python3.7/site-packages/skimage/io/_io.py:141: UserWarning: /mnt/cropmaskperm/landsat-clear-scenes-2005/train/LT050290322005031601T1-SC20190818205024_tile_1536_3584/image/LT050290322005031601T1-SC20190818205024_tile_1536_3584.tif is a low contrast image\n",
      "  warn('%s is a low contrast image' % fname)\n",
      "/data/anaconda/envs/cropmask/lib/python3.7/site-packages/skimage/io/_io.py:141: UserWarning: /mnt/cropmaskperm/landsat-clear-scenes-2005/train/LT050290322005031601T1-SC20190818205024_tile_1536_4096/image/LT050290322005031601T1-SC20190818205024_tile_1536_4096.tif is a low contrast image\n",
      "  warn('%s is a low contrast image' % fname)\n",
      "/data/anaconda/envs/cropmask/lib/python3.7/site-packages/skimage/io/_io.py:141: UserWarning: /mnt/cropmaskperm/landsat-clear-scenes-2005/train/LT050290322005031601T1-SC20190818205024_tile_1536_512/image/LT050290322005031601T1-SC20190818205024_tile_1536_512.tif is a low contrast image\n",
      "  warn('%s is a low contrast image' % fname)\n",
      "/data/anaconda/envs/cropmask/lib/python3.7/site-packages/skimage/io/_io.py:141: UserWarning: /mnt/cropmaskperm/landsat-clear-scenes-2005/train/LT050290322005031601T1-SC20190818205024_tile_2048_0/image/LT050290322005031601T1-SC20190818205024_tile_2048_0.tif is a low contrast image\n",
      "  warn('%s is a low contrast image' % fname)\n"
     ]
    },
    {
     "name": "stdout",
     "output_type": "stream",
     "text": [
      "removed scene and label, 0.02% bad data\n"
     ]
    },
    {
     "name": "stderr",
     "output_type": "stream",
     "text": [
      "/data/anaconda/envs/cropmask/lib/python3.7/site-packages/skimage/io/_io.py:141: UserWarning: /mnt/cropmaskperm/landsat-clear-scenes-2005/train/LT050290322005031601T1-SC20190818205024_tile_2048_1024/image/LT050290322005031601T1-SC20190818205024_tile_2048_1024.tif is a low contrast image\n",
      "  warn('%s is a low contrast image' % fname)\n",
      "/data/anaconda/envs/cropmask/lib/python3.7/site-packages/skimage/io/_io.py:141: UserWarning: /mnt/cropmaskperm/landsat-clear-scenes-2005/train/LT050290322005031601T1-SC20190818205024_tile_2048_1536/image/LT050290322005031601T1-SC20190818205024_tile_2048_1536.tif is a low contrast image\n",
      "  warn('%s is a low contrast image' % fname)\n",
      "/data/anaconda/envs/cropmask/lib/python3.7/site-packages/skimage/io/_io.py:141: UserWarning: /mnt/cropmaskperm/landsat-clear-scenes-2005/train/LT050290322005031601T1-SC20190818205024_tile_2048_2048/image/LT050290322005031601T1-SC20190818205024_tile_2048_2048.tif is a low contrast image\n",
      "  warn('%s is a low contrast image' % fname)\n",
      "/data/anaconda/envs/cropmask/lib/python3.7/site-packages/skimage/io/_io.py:141: UserWarning: /mnt/cropmaskperm/landsat-clear-scenes-2005/train/LT050290322005031601T1-SC20190818205024_tile_2048_2560/image/LT050290322005031601T1-SC20190818205024_tile_2048_2560.tif is a low contrast image\n",
      "  warn('%s is a low contrast image' % fname)\n",
      "/data/anaconda/envs/cropmask/lib/python3.7/site-packages/skimage/io/_io.py:141: UserWarning: /mnt/cropmaskperm/landsat-clear-scenes-2005/train/LT050290322005031601T1-SC20190818205024_tile_2048_3072/image/LT050290322005031601T1-SC20190818205024_tile_2048_3072.tif is a low contrast image\n",
      "  warn('%s is a low contrast image' % fname)\n",
      "/data/anaconda/envs/cropmask/lib/python3.7/site-packages/skimage/io/_io.py:141: UserWarning: /mnt/cropmaskperm/landsat-clear-scenes-2005/train/LT050290322005031601T1-SC20190818205024_tile_2048_3584/image/LT050290322005031601T1-SC20190818205024_tile_2048_3584.tif is a low contrast image\n",
      "  warn('%s is a low contrast image' % fname)\n",
      "/data/anaconda/envs/cropmask/lib/python3.7/site-packages/skimage/io/_io.py:141: UserWarning: /mnt/cropmaskperm/landsat-clear-scenes-2005/train/LT050290322005031601T1-SC20190818205024_tile_2048_4096/image/LT050290322005031601T1-SC20190818205024_tile_2048_4096.tif is a low contrast image\n",
      "  warn('%s is a low contrast image' % fname)\n",
      "/data/anaconda/envs/cropmask/lib/python3.7/site-packages/skimage/io/_io.py:141: UserWarning: /mnt/cropmaskperm/landsat-clear-scenes-2005/train/LT050290322005031601T1-SC20190818205024_tile_2048_512/image/LT050290322005031601T1-SC20190818205024_tile_2048_512.tif is a low contrast image\n",
      "  warn('%s is a low contrast image' % fname)\n",
      "/data/anaconda/envs/cropmask/lib/python3.7/site-packages/skimage/io/_io.py:141: UserWarning: /mnt/cropmaskperm/landsat-clear-scenes-2005/train/LT050290322005031601T1-SC20190818205024_tile_2560_0/image/LT050290322005031601T1-SC20190818205024_tile_2560_0.tif is a low contrast image\n",
      "  warn('%s is a low contrast image' % fname)\n"
     ]
    },
    {
     "name": "stdout",
     "output_type": "stream",
     "text": [
      "removed scene and label, 0.02% bad data\n"
     ]
    },
    {
     "name": "stderr",
     "output_type": "stream",
     "text": [
      "/data/anaconda/envs/cropmask/lib/python3.7/site-packages/skimage/io/_io.py:141: UserWarning: /mnt/cropmaskperm/landsat-clear-scenes-2005/train/LT050290322005031601T1-SC20190818205024_tile_2560_1024/image/LT050290322005031601T1-SC20190818205024_tile_2560_1024.tif is a low contrast image\n",
      "  warn('%s is a low contrast image' % fname)\n",
      "/data/anaconda/envs/cropmask/lib/python3.7/site-packages/skimage/io/_io.py:141: UserWarning: /mnt/cropmaskperm/landsat-clear-scenes-2005/train/LT050290322005031601T1-SC20190818205024_tile_2560_1536/image/LT050290322005031601T1-SC20190818205024_tile_2560_1536.tif is a low contrast image\n",
      "  warn('%s is a low contrast image' % fname)\n",
      "/data/anaconda/envs/cropmask/lib/python3.7/site-packages/skimage/io/_io.py:141: UserWarning: /mnt/cropmaskperm/landsat-clear-scenes-2005/train/LT050290322005031601T1-SC20190818205024_tile_2560_2048/image/LT050290322005031601T1-SC20190818205024_tile_2560_2048.tif is a low contrast image\n",
      "  warn('%s is a low contrast image' % fname)\n",
      "/data/anaconda/envs/cropmask/lib/python3.7/site-packages/skimage/io/_io.py:141: UserWarning: /mnt/cropmaskperm/landsat-clear-scenes-2005/train/LT050290322005031601T1-SC20190818205024_tile_2560_2560/image/LT050290322005031601T1-SC20190818205024_tile_2560_2560.tif is a low contrast image\n",
      "  warn('%s is a low contrast image' % fname)\n",
      "/data/anaconda/envs/cropmask/lib/python3.7/site-packages/skimage/io/_io.py:141: UserWarning: /mnt/cropmaskperm/landsat-clear-scenes-2005/train/LT050290322005031601T1-SC20190818205024_tile_2560_3072/image/LT050290322005031601T1-SC20190818205024_tile_2560_3072.tif is a low contrast image\n",
      "  warn('%s is a low contrast image' % fname)\n",
      "/data/anaconda/envs/cropmask/lib/python3.7/site-packages/skimage/io/_io.py:141: UserWarning: /mnt/cropmaskperm/landsat-clear-scenes-2005/train/LT050290322005031601T1-SC20190818205024_tile_2560_3584/image/LT050290322005031601T1-SC20190818205024_tile_2560_3584.tif is a low contrast image\n",
      "  warn('%s is a low contrast image' % fname)\n",
      "/data/anaconda/envs/cropmask/lib/python3.7/site-packages/skimage/io/_io.py:141: UserWarning: /mnt/cropmaskperm/landsat-clear-scenes-2005/train/LT050290322005031601T1-SC20190818205024_tile_2560_4096/image/LT050290322005031601T1-SC20190818205024_tile_2560_4096.tif is a low contrast image\n",
      "  warn('%s is a low contrast image' % fname)\n",
      "/data/anaconda/envs/cropmask/lib/python3.7/site-packages/skimage/io/_io.py:141: UserWarning: /mnt/cropmaskperm/landsat-clear-scenes-2005/train/LT050290322005031601T1-SC20190818205024_tile_2560_512/image/LT050290322005031601T1-SC20190818205024_tile_2560_512.tif is a low contrast image\n",
      "  warn('%s is a low contrast image' % fname)\n",
      "/data/anaconda/envs/cropmask/lib/python3.7/site-packages/skimage/io/_io.py:141: UserWarning: /mnt/cropmaskperm/landsat-clear-scenes-2005/train/LT050290322005031601T1-SC20190818205024_tile_3072_0/image/LT050290322005031601T1-SC20190818205024_tile_3072_0.tif is a low contrast image\n",
      "  warn('%s is a low contrast image' % fname)\n"
     ]
    },
    {
     "name": "stdout",
     "output_type": "stream",
     "text": [
      "removed scene and label, 0.02% bad data\n"
     ]
    },
    {
     "name": "stderr",
     "output_type": "stream",
     "text": [
      "/data/anaconda/envs/cropmask/lib/python3.7/site-packages/skimage/io/_io.py:141: UserWarning: /mnt/cropmaskperm/landsat-clear-scenes-2005/train/LT050290322005031601T1-SC20190818205024_tile_3072_1024/image/LT050290322005031601T1-SC20190818205024_tile_3072_1024.tif is a low contrast image\n",
      "  warn('%s is a low contrast image' % fname)\n",
      "/data/anaconda/envs/cropmask/lib/python3.7/site-packages/skimage/io/_io.py:141: UserWarning: /mnt/cropmaskperm/landsat-clear-scenes-2005/train/LT050290322005031601T1-SC20190818205024_tile_3072_1536/image/LT050290322005031601T1-SC20190818205024_tile_3072_1536.tif is a low contrast image\n",
      "  warn('%s is a low contrast image' % fname)\n",
      "/data/anaconda/envs/cropmask/lib/python3.7/site-packages/skimage/io/_io.py:141: UserWarning: /mnt/cropmaskperm/landsat-clear-scenes-2005/train/LT050290322005031601T1-SC20190818205024_tile_3072_2048/image/LT050290322005031601T1-SC20190818205024_tile_3072_2048.tif is a low contrast image\n",
      "  warn('%s is a low contrast image' % fname)\n",
      "/data/anaconda/envs/cropmask/lib/python3.7/site-packages/skimage/io/_io.py:141: UserWarning: /mnt/cropmaskperm/landsat-clear-scenes-2005/train/LT050290322005031601T1-SC20190818205024_tile_3072_2560/image/LT050290322005031601T1-SC20190818205024_tile_3072_2560.tif is a low contrast image\n",
      "  warn('%s is a low contrast image' % fname)\n",
      "/data/anaconda/envs/cropmask/lib/python3.7/site-packages/skimage/io/_io.py:141: UserWarning: /mnt/cropmaskperm/landsat-clear-scenes-2005/train/LT050290322005031601T1-SC20190818205024_tile_3072_3072/image/LT050290322005031601T1-SC20190818205024_tile_3072_3072.tif is a low contrast image\n",
      "  warn('%s is a low contrast image' % fname)\n",
      "/data/anaconda/envs/cropmask/lib/python3.7/site-packages/skimage/io/_io.py:141: UserWarning: /mnt/cropmaskperm/landsat-clear-scenes-2005/train/LT050290322005031601T1-SC20190818205024_tile_3072_3584/image/LT050290322005031601T1-SC20190818205024_tile_3072_3584.tif is a low contrast image\n",
      "  warn('%s is a low contrast image' % fname)\n",
      "/data/anaconda/envs/cropmask/lib/python3.7/site-packages/skimage/io/_io.py:141: UserWarning: /mnt/cropmaskperm/landsat-clear-scenes-2005/train/LT050290322005031601T1-SC20190818205024_tile_3072_4096/image/LT050290322005031601T1-SC20190818205024_tile_3072_4096.tif is a low contrast image\n",
      "  warn('%s is a low contrast image' % fname)\n",
      "/data/anaconda/envs/cropmask/lib/python3.7/site-packages/skimage/io/_io.py:141: UserWarning: /mnt/cropmaskperm/landsat-clear-scenes-2005/train/LT050290322005031601T1-SC20190818205024_tile_3072_512/image/LT050290322005031601T1-SC20190818205024_tile_3072_512.tif is a low contrast image\n",
      "  warn('%s is a low contrast image' % fname)\n",
      "/data/anaconda/envs/cropmask/lib/python3.7/site-packages/skimage/io/_io.py:141: UserWarning: /mnt/cropmaskperm/landsat-clear-scenes-2005/train/LT050290322005031601T1-SC20190818205024_tile_3584_0/image/LT050290322005031601T1-SC20190818205024_tile_3584_0.tif is a low contrast image\n",
      "  warn('%s is a low contrast image' % fname)\n"
     ]
    },
    {
     "name": "stdout",
     "output_type": "stream",
     "text": [
      "removed scene and label, 0.02% bad data\n"
     ]
    },
    {
     "name": "stderr",
     "output_type": "stream",
     "text": [
      "/data/anaconda/envs/cropmask/lib/python3.7/site-packages/skimage/io/_io.py:141: UserWarning: /mnt/cropmaskperm/landsat-clear-scenes-2005/train/LT050290322005031601T1-SC20190818205024_tile_3584_1024/image/LT050290322005031601T1-SC20190818205024_tile_3584_1024.tif is a low contrast image\n",
      "  warn('%s is a low contrast image' % fname)\n",
      "/data/anaconda/envs/cropmask/lib/python3.7/site-packages/skimage/io/_io.py:141: UserWarning: /mnt/cropmaskperm/landsat-clear-scenes-2005/train/LT050290322005031601T1-SC20190818205024_tile_3584_1536/image/LT050290322005031601T1-SC20190818205024_tile_3584_1536.tif is a low contrast image\n",
      "  warn('%s is a low contrast image' % fname)\n",
      "/data/anaconda/envs/cropmask/lib/python3.7/site-packages/skimage/io/_io.py:141: UserWarning: /mnt/cropmaskperm/landsat-clear-scenes-2005/train/LT050290322005031601T1-SC20190818205024_tile_3584_2048/image/LT050290322005031601T1-SC20190818205024_tile_3584_2048.tif is a low contrast image\n",
      "  warn('%s is a low contrast image' % fname)\n",
      "/data/anaconda/envs/cropmask/lib/python3.7/site-packages/skimage/io/_io.py:141: UserWarning: /mnt/cropmaskperm/landsat-clear-scenes-2005/train/LT050290322005031601T1-SC20190818205024_tile_3584_2560/image/LT050290322005031601T1-SC20190818205024_tile_3584_2560.tif is a low contrast image\n",
      "  warn('%s is a low contrast image' % fname)\n",
      "/data/anaconda/envs/cropmask/lib/python3.7/site-packages/skimage/io/_io.py:141: UserWarning: /mnt/cropmaskperm/landsat-clear-scenes-2005/train/LT050290322005031601T1-SC20190818205024_tile_3584_3072/image/LT050290322005031601T1-SC20190818205024_tile_3584_3072.tif is a low contrast image\n",
      "  warn('%s is a low contrast image' % fname)\n",
      "/data/anaconda/envs/cropmask/lib/python3.7/site-packages/skimage/io/_io.py:141: UserWarning: /mnt/cropmaskperm/landsat-clear-scenes-2005/train/LT050290322005031601T1-SC20190818205024_tile_3584_3584/image/LT050290322005031601T1-SC20190818205024_tile_3584_3584.tif is a low contrast image\n",
      "  warn('%s is a low contrast image' % fname)\n",
      "/data/anaconda/envs/cropmask/lib/python3.7/site-packages/skimage/io/_io.py:141: UserWarning: /mnt/cropmaskperm/landsat-clear-scenes-2005/train/LT050290322005031601T1-SC20190818205024_tile_3584_4096/image/LT050290322005031601T1-SC20190818205024_tile_3584_4096.tif is a low contrast image\n",
      "  warn('%s is a low contrast image' % fname)\n",
      "/data/anaconda/envs/cropmask/lib/python3.7/site-packages/skimage/io/_io.py:141: UserWarning: /mnt/cropmaskperm/landsat-clear-scenes-2005/train/LT050290322005031601T1-SC20190818205024_tile_3584_512/image/LT050290322005031601T1-SC20190818205024_tile_3584_512.tif is a low contrast image\n",
      "  warn('%s is a low contrast image' % fname)\n",
      "/data/anaconda/envs/cropmask/lib/python3.7/site-packages/skimage/io/_io.py:141: UserWarning: /mnt/cropmaskperm/landsat-clear-scenes-2005/train/LT050290322005031601T1-SC20190818205024_tile_4096_0/image/LT050290322005031601T1-SC20190818205024_tile_4096_0.tif is a low contrast image\n",
      "  warn('%s is a low contrast image' % fname)\n"
     ]
    },
    {
     "name": "stdout",
     "output_type": "stream",
     "text": [
      "removed scene and label, 0.02% bad data\n"
     ]
    },
    {
     "name": "stderr",
     "output_type": "stream",
     "text": [
      "/data/anaconda/envs/cropmask/lib/python3.7/site-packages/skimage/io/_io.py:141: UserWarning: /mnt/cropmaskperm/landsat-clear-scenes-2005/train/LT050290322005031601T1-SC20190818205024_tile_4096_1024/image/LT050290322005031601T1-SC20190818205024_tile_4096_1024.tif is a low contrast image\n",
      "  warn('%s is a low contrast image' % fname)\n",
      "/data/anaconda/envs/cropmask/lib/python3.7/site-packages/skimage/io/_io.py:141: UserWarning: /mnt/cropmaskperm/landsat-clear-scenes-2005/train/LT050290322005031601T1-SC20190818205024_tile_4096_1536/image/LT050290322005031601T1-SC20190818205024_tile_4096_1536.tif is a low contrast image\n",
      "  warn('%s is a low contrast image' % fname)\n",
      "/data/anaconda/envs/cropmask/lib/python3.7/site-packages/skimage/io/_io.py:141: UserWarning: /mnt/cropmaskperm/landsat-clear-scenes-2005/train/LT050290322005031601T1-SC20190818205024_tile_4096_2048/image/LT050290322005031601T1-SC20190818205024_tile_4096_2048.tif is a low contrast image\n",
      "  warn('%s is a low contrast image' % fname)\n",
      "/data/anaconda/envs/cropmask/lib/python3.7/site-packages/skimage/io/_io.py:141: UserWarning: /mnt/cropmaskperm/landsat-clear-scenes-2005/train/LT050290322005031601T1-SC20190818205024_tile_4096_2560/image/LT050290322005031601T1-SC20190818205024_tile_4096_2560.tif is a low contrast image\n",
      "  warn('%s is a low contrast image' % fname)\n",
      "/data/anaconda/envs/cropmask/lib/python3.7/site-packages/skimage/io/_io.py:141: UserWarning: /mnt/cropmaskperm/landsat-clear-scenes-2005/train/LT050290322005031601T1-SC20190818205024_tile_4096_3072/image/LT050290322005031601T1-SC20190818205024_tile_4096_3072.tif is a low contrast image\n",
      "  warn('%s is a low contrast image' % fname)\n",
      "/data/anaconda/envs/cropmask/lib/python3.7/site-packages/skimage/io/_io.py:141: UserWarning: /mnt/cropmaskperm/landsat-clear-scenes-2005/train/LT050290322005031601T1-SC20190818205024_tile_4096_3584/image/LT050290322005031601T1-SC20190818205024_tile_4096_3584.tif is a low contrast image\n",
      "  warn('%s is a low contrast image' % fname)\n",
      "/data/anaconda/envs/cropmask/lib/python3.7/site-packages/skimage/io/_io.py:141: UserWarning: /mnt/cropmaskperm/landsat-clear-scenes-2005/train/LT050290322005031601T1-SC20190818205024_tile_4096_4096/image/LT050290322005031601T1-SC20190818205024_tile_4096_4096.tif is a low contrast image\n",
      "  warn('%s is a low contrast image' % fname)\n",
      "/data/anaconda/envs/cropmask/lib/python3.7/site-packages/skimage/io/_io.py:141: UserWarning: /mnt/cropmaskperm/landsat-clear-scenes-2005/train/LT050290322005031601T1-SC20190818205024_tile_4096_512/image/LT050290322005031601T1-SC20190818205024_tile_4096_512.tif is a low contrast image\n",
      "  warn('%s is a low contrast image' % fname)\n"
     ]
    },
    {
     "name": "stdout",
     "output_type": "stream",
     "text": [
      "removed scene and label, 0.02% bad data\n"
     ]
    },
    {
     "name": "stderr",
     "output_type": "stream",
     "text": [
      "/data/anaconda/envs/cropmask/lib/python3.7/site-packages/skimage/io/_io.py:141: UserWarning: /mnt/cropmaskperm/landsat-clear-scenes-2005/train/LT050290322005031601T1-SC20190818205024_tile_4608_0/image/LT050290322005031601T1-SC20190818205024_tile_4608_0.tif is a low contrast image\n",
      "  warn('%s is a low contrast image' % fname)\n"
     ]
    },
    {
     "name": "stdout",
     "output_type": "stream",
     "text": [
      "removed scene and label, 0.02% bad data\n"
     ]
    },
    {
     "name": "stderr",
     "output_type": "stream",
     "text": [
      "/data/anaconda/envs/cropmask/lib/python3.7/site-packages/skimage/io/_io.py:141: UserWarning: /mnt/cropmaskperm/landsat-clear-scenes-2005/train/LT050290322005031601T1-SC20190818205024_tile_4608_1024/image/LT050290322005031601T1-SC20190818205024_tile_4608_1024.tif is a low contrast image\n",
      "  warn('%s is a low contrast image' % fname)\n",
      "/data/anaconda/envs/cropmask/lib/python3.7/site-packages/skimage/io/_io.py:141: UserWarning: /mnt/cropmaskperm/landsat-clear-scenes-2005/train/LT050290322005031601T1-SC20190818205024_tile_4608_1536/image/LT050290322005031601T1-SC20190818205024_tile_4608_1536.tif is a low contrast image\n",
      "  warn('%s is a low contrast image' % fname)\n",
      "/data/anaconda/envs/cropmask/lib/python3.7/site-packages/skimage/io/_io.py:141: UserWarning: /mnt/cropmaskperm/landsat-clear-scenes-2005/train/LT050290322005031601T1-SC20190818205024_tile_4608_2048/image/LT050290322005031601T1-SC20190818205024_tile_4608_2048.tif is a low contrast image\n",
      "  warn('%s is a low contrast image' % fname)\n",
      "/data/anaconda/envs/cropmask/lib/python3.7/site-packages/skimage/io/_io.py:141: UserWarning: /mnt/cropmaskperm/landsat-clear-scenes-2005/train/LT050290322005031601T1-SC20190818205024_tile_4608_2560/image/LT050290322005031601T1-SC20190818205024_tile_4608_2560.tif is a low contrast image\n",
      "  warn('%s is a low contrast image' % fname)\n",
      "/data/anaconda/envs/cropmask/lib/python3.7/site-packages/skimage/io/_io.py:141: UserWarning: /mnt/cropmaskperm/landsat-clear-scenes-2005/train/LT050290322005031601T1-SC20190818205024_tile_4608_3072/image/LT050290322005031601T1-SC20190818205024_tile_4608_3072.tif is a low contrast image\n",
      "  warn('%s is a low contrast image' % fname)\n",
      "/data/anaconda/envs/cropmask/lib/python3.7/site-packages/skimage/io/_io.py:141: UserWarning: /mnt/cropmaskperm/landsat-clear-scenes-2005/train/LT050290322005031601T1-SC20190818205024_tile_4608_3584/image/LT050290322005031601T1-SC20190818205024_tile_4608_3584.tif is a low contrast image\n",
      "  warn('%s is a low contrast image' % fname)\n",
      "/data/anaconda/envs/cropmask/lib/python3.7/site-packages/skimage/io/_io.py:141: UserWarning: /mnt/cropmaskperm/landsat-clear-scenes-2005/train/LT050290322005031601T1-SC20190818205024_tile_4608_4096/image/LT050290322005031601T1-SC20190818205024_tile_4608_4096.tif is a low contrast image\n",
      "  warn('%s is a low contrast image' % fname)\n",
      "/data/anaconda/envs/cropmask/lib/python3.7/site-packages/skimage/io/_io.py:141: UserWarning: /mnt/cropmaskperm/landsat-clear-scenes-2005/train/LT050290322005031601T1-SC20190818205024_tile_4608_512/image/LT050290322005031601T1-SC20190818205024_tile_4608_512.tif is a low contrast image\n",
      "  warn('%s is a low contrast image' % fname)\n"
     ]
    },
    {
     "name": "stdout",
     "output_type": "stream",
     "text": [
      "removed scene and label, 0.02% bad data\n"
     ]
    },
    {
     "name": "stderr",
     "output_type": "stream",
     "text": [
      "/data/anaconda/envs/cropmask/lib/python3.7/site-packages/skimage/io/_io.py:141: UserWarning: /mnt/cropmaskperm/landsat-clear-scenes-2005/train/LT050290322005031601T1-SC20190818205024_tile_5120_0/image/LT050290322005031601T1-SC20190818205024_tile_5120_0.tif is a low contrast image\n",
      "  warn('%s is a low contrast image' % fname)\n"
     ]
    },
    {
     "name": "stdout",
     "output_type": "stream",
     "text": [
      "removed scene and label, 0.02% bad data\n"
     ]
    },
    {
     "name": "stderr",
     "output_type": "stream",
     "text": [
      "/data/anaconda/envs/cropmask/lib/python3.7/site-packages/skimage/io/_io.py:141: UserWarning: /mnt/cropmaskperm/landsat-clear-scenes-2005/train/LT050290322005031601T1-SC20190818205024_tile_5120_1024/image/LT050290322005031601T1-SC20190818205024_tile_5120_1024.tif is a low contrast image\n",
      "  warn('%s is a low contrast image' % fname)\n",
      "/data/anaconda/envs/cropmask/lib/python3.7/site-packages/skimage/io/_io.py:141: UserWarning: /mnt/cropmaskperm/landsat-clear-scenes-2005/train/LT050290322005031601T1-SC20190818205024_tile_5120_1536/image/LT050290322005031601T1-SC20190818205024_tile_5120_1536.tif is a low contrast image\n",
      "  warn('%s is a low contrast image' % fname)\n",
      "/data/anaconda/envs/cropmask/lib/python3.7/site-packages/skimage/io/_io.py:141: UserWarning: /mnt/cropmaskperm/landsat-clear-scenes-2005/train/LT050290322005031601T1-SC20190818205024_tile_5120_2048/image/LT050290322005031601T1-SC20190818205024_tile_5120_2048.tif is a low contrast image\n",
      "  warn('%s is a low contrast image' % fname)\n",
      "/data/anaconda/envs/cropmask/lib/python3.7/site-packages/skimage/io/_io.py:141: UserWarning: /mnt/cropmaskperm/landsat-clear-scenes-2005/train/LT050290322005031601T1-SC20190818205024_tile_5120_2560/image/LT050290322005031601T1-SC20190818205024_tile_5120_2560.tif is a low contrast image\n",
      "  warn('%s is a low contrast image' % fname)\n",
      "/data/anaconda/envs/cropmask/lib/python3.7/site-packages/skimage/io/_io.py:141: UserWarning: /mnt/cropmaskperm/landsat-clear-scenes-2005/train/LT050290322005031601T1-SC20190818205024_tile_5120_3072/image/LT050290322005031601T1-SC20190818205024_tile_5120_3072.tif is a low contrast image\n",
      "  warn('%s is a low contrast image' % fname)\n",
      "/data/anaconda/envs/cropmask/lib/python3.7/site-packages/skimage/io/_io.py:141: UserWarning: /mnt/cropmaskperm/landsat-clear-scenes-2005/train/LT050290322005031601T1-SC20190818205024_tile_5120_3584/image/LT050290322005031601T1-SC20190818205024_tile_5120_3584.tif is a low contrast image\n",
      "  warn('%s is a low contrast image' % fname)\n",
      "/data/anaconda/envs/cropmask/lib/python3.7/site-packages/skimage/io/_io.py:141: UserWarning: /mnt/cropmaskperm/landsat-clear-scenes-2005/train/LT050290322005031601T1-SC20190818205024_tile_5120_4096/image/LT050290322005031601T1-SC20190818205024_tile_5120_4096.tif is a low contrast image\n",
      "  warn('%s is a low contrast image' % fname)\n",
      "/data/anaconda/envs/cropmask/lib/python3.7/site-packages/skimage/io/_io.py:141: UserWarning: /mnt/cropmaskperm/landsat-clear-scenes-2005/train/LT050290322005031601T1-SC20190818205024_tile_5120_512/image/LT050290322005031601T1-SC20190818205024_tile_5120_512.tif is a low contrast image\n",
      "  warn('%s is a low contrast image' % fname)\n"
     ]
    },
    {
     "name": "stdout",
     "output_type": "stream",
     "text": [
      "removed scene and label, 0.02% bad data\n"
     ]
    },
    {
     "name": "stderr",
     "output_type": "stream",
     "text": [
      "/data/anaconda/envs/cropmask/lib/python3.7/site-packages/skimage/io/_io.py:141: UserWarning: /mnt/cropmaskperm/landsat-clear-scenes-2005/train/LT050290322005031601T1-SC20190818205024_tile_512_0/image/LT050290322005031601T1-SC20190818205024_tile_512_0.tif is a low contrast image\n",
      "  warn('%s is a low contrast image' % fname)\n"
     ]
    },
    {
     "name": "stdout",
     "output_type": "stream",
     "text": [
      "removed scene and label, 0.02% bad data\n"
     ]
    },
    {
     "name": "stderr",
     "output_type": "stream",
     "text": [
      "/data/anaconda/envs/cropmask/lib/python3.7/site-packages/skimage/io/_io.py:141: UserWarning: /mnt/cropmaskperm/landsat-clear-scenes-2005/train/LT050290322005031601T1-SC20190818205024_tile_512_1024/image/LT050290322005031601T1-SC20190818205024_tile_512_1024.tif is a low contrast image\n",
      "  warn('%s is a low contrast image' % fname)\n"
     ]
    },
    {
     "name": "stdout",
     "output_type": "stream",
     "text": [
      "removed scene and label, 0.02% bad data\n"
     ]
    },
    {
     "name": "stderr",
     "output_type": "stream",
     "text": [
      "/data/anaconda/envs/cropmask/lib/python3.7/site-packages/skimage/io/_io.py:141: UserWarning: /mnt/cropmaskperm/landsat-clear-scenes-2005/train/LT050290322005031601T1-SC20190818205024_tile_512_1536/image/LT050290322005031601T1-SC20190818205024_tile_512_1536.tif is a low contrast image\n",
      "  warn('%s is a low contrast image' % fname)\n"
     ]
    },
    {
     "name": "stdout",
     "output_type": "stream",
     "text": [
      "removed scene and label, 0.02% bad data\n"
     ]
    },
    {
     "name": "stderr",
     "output_type": "stream",
     "text": [
      "/data/anaconda/envs/cropmask/lib/python3.7/site-packages/skimage/io/_io.py:141: UserWarning: /mnt/cropmaskperm/landsat-clear-scenes-2005/train/LT050290322005031601T1-SC20190818205024_tile_512_2048/image/LT050290322005031601T1-SC20190818205024_tile_512_2048.tif is a low contrast image\n",
      "  warn('%s is a low contrast image' % fname)\n"
     ]
    },
    {
     "name": "stdout",
     "output_type": "stream",
     "text": [
      "removed scene and label, 0.02% bad data\n"
     ]
    },
    {
     "name": "stderr",
     "output_type": "stream",
     "text": [
      "/data/anaconda/envs/cropmask/lib/python3.7/site-packages/skimage/io/_io.py:141: UserWarning: /mnt/cropmaskperm/landsat-clear-scenes-2005/train/LT050290322005031601T1-SC20190818205024_tile_512_2560/image/LT050290322005031601T1-SC20190818205024_tile_512_2560.tif is a low contrast image\n",
      "  warn('%s is a low contrast image' % fname)\n"
     ]
    },
    {
     "name": "stdout",
     "output_type": "stream",
     "text": [
      "removed scene and label, 0.02% bad data\n"
     ]
    },
    {
     "name": "stderr",
     "output_type": "stream",
     "text": [
      "/data/anaconda/envs/cropmask/lib/python3.7/site-packages/skimage/io/_io.py:141: UserWarning: /mnt/cropmaskperm/landsat-clear-scenes-2005/train/LT050290322005031601T1-SC20190818205024_tile_512_3072/image/LT050290322005031601T1-SC20190818205024_tile_512_3072.tif is a low contrast image\n",
      "  warn('%s is a low contrast image' % fname)\n"
     ]
    },
    {
     "name": "stdout",
     "output_type": "stream",
     "text": [
      "removed scene and label, 0.02% bad data\n"
     ]
    },
    {
     "name": "stderr",
     "output_type": "stream",
     "text": [
      "/data/anaconda/envs/cropmask/lib/python3.7/site-packages/skimage/io/_io.py:141: UserWarning: /mnt/cropmaskperm/landsat-clear-scenes-2005/train/LT050290322005031601T1-SC20190818205024_tile_512_3584/image/LT050290322005031601T1-SC20190818205024_tile_512_3584.tif is a low contrast image\n",
      "  warn('%s is a low contrast image' % fname)\n"
     ]
    },
    {
     "name": "stdout",
     "output_type": "stream",
     "text": [
      "removed scene and label, 0.02% bad data\n"
     ]
    },
    {
     "name": "stderr",
     "output_type": "stream",
     "text": [
      "/data/anaconda/envs/cropmask/lib/python3.7/site-packages/skimage/io/_io.py:141: UserWarning: /mnt/cropmaskperm/landsat-clear-scenes-2005/train/LT050290322005031601T1-SC20190818205024_tile_512_4096/image/LT050290322005031601T1-SC20190818205024_tile_512_4096.tif is a low contrast image\n",
      "  warn('%s is a low contrast image' % fname)\n"
     ]
    },
    {
     "name": "stdout",
     "output_type": "stream",
     "text": [
      "removed scene and label, 0.02% bad data\n"
     ]
    },
    {
     "name": "stderr",
     "output_type": "stream",
     "text": [
      "/data/anaconda/envs/cropmask/lib/python3.7/site-packages/skimage/io/_io.py:141: UserWarning: /mnt/cropmaskperm/landsat-clear-scenes-2005/train/LT050290322005031601T1-SC20190818205024_tile_512_512/image/LT050290322005031601T1-SC20190818205024_tile_512_512.tif is a low contrast image\n",
      "  warn('%s is a low contrast image' % fname)\n"
     ]
    },
    {
     "name": "stdout",
     "output_type": "stream",
     "text": [
      "removed scene and label, 0.02% bad data\n"
     ]
    },
    {
     "name": "stderr",
     "output_type": "stream",
     "text": [
      "/data/anaconda/envs/cropmask/lib/python3.7/site-packages/skimage/io/_io.py:141: UserWarning: /mnt/cropmaskperm/landsat-clear-scenes-2005/train/LT050290322005031601T1-SC20190818205024_tile_5632_0/image/LT050290322005031601T1-SC20190818205024_tile_5632_0.tif is a low contrast image\n",
      "  warn('%s is a low contrast image' % fname)\n"
     ]
    },
    {
     "name": "stdout",
     "output_type": "stream",
     "text": [
      "removed scene and label, 0.02% bad data\n"
     ]
    },
    {
     "name": "stderr",
     "output_type": "stream",
     "text": [
      "/data/anaconda/envs/cropmask/lib/python3.7/site-packages/skimage/io/_io.py:141: UserWarning: /mnt/cropmaskperm/landsat-clear-scenes-2005/train/LT050290322005031601T1-SC20190818205024_tile_5632_1024/image/LT050290322005031601T1-SC20190818205024_tile_5632_1024.tif is a low contrast image\n",
      "  warn('%s is a low contrast image' % fname)\n",
      "/data/anaconda/envs/cropmask/lib/python3.7/site-packages/skimage/io/_io.py:141: UserWarning: /mnt/cropmaskperm/landsat-clear-scenes-2005/train/LT050290322005031601T1-SC20190818205024_tile_5632_1536/image/LT050290322005031601T1-SC20190818205024_tile_5632_1536.tif is a low contrast image\n",
      "  warn('%s is a low contrast image' % fname)\n",
      "/data/anaconda/envs/cropmask/lib/python3.7/site-packages/skimage/io/_io.py:141: UserWarning: /mnt/cropmaskperm/landsat-clear-scenes-2005/train/LT050290322005031601T1-SC20190818205024_tile_5632_2048/image/LT050290322005031601T1-SC20190818205024_tile_5632_2048.tif is a low contrast image\n",
      "  warn('%s is a low contrast image' % fname)\n",
      "/data/anaconda/envs/cropmask/lib/python3.7/site-packages/skimage/io/_io.py:141: UserWarning: /mnt/cropmaskperm/landsat-clear-scenes-2005/train/LT050290322005031601T1-SC20190818205024_tile_5632_2560/image/LT050290322005031601T1-SC20190818205024_tile_5632_2560.tif is a low contrast image\n",
      "  warn('%s is a low contrast image' % fname)\n",
      "/data/anaconda/envs/cropmask/lib/python3.7/site-packages/skimage/io/_io.py:141: UserWarning: /mnt/cropmaskperm/landsat-clear-scenes-2005/train/LT050290322005031601T1-SC20190818205024_tile_5632_3072/image/LT050290322005031601T1-SC20190818205024_tile_5632_3072.tif is a low contrast image\n",
      "  warn('%s is a low contrast image' % fname)\n",
      "/data/anaconda/envs/cropmask/lib/python3.7/site-packages/skimage/io/_io.py:141: UserWarning: /mnt/cropmaskperm/landsat-clear-scenes-2005/train/LT050290322005031601T1-SC20190818205024_tile_5632_3584/image/LT050290322005031601T1-SC20190818205024_tile_5632_3584.tif is a low contrast image\n",
      "  warn('%s is a low contrast image' % fname)\n",
      "/data/anaconda/envs/cropmask/lib/python3.7/site-packages/skimage/io/_io.py:141: UserWarning: /mnt/cropmaskperm/landsat-clear-scenes-2005/train/LT050290322005031601T1-SC20190818205024_tile_5632_4096/image/LT050290322005031601T1-SC20190818205024_tile_5632_4096.tif is a low contrast image\n",
      "  warn('%s is a low contrast image' % fname)\n",
      "/data/anaconda/envs/cropmask/lib/python3.7/site-packages/skimage/io/_io.py:141: UserWarning: /mnt/cropmaskperm/landsat-clear-scenes-2005/train/LT050290322005031601T1-SC20190818205024_tile_5632_512/image/LT050290322005031601T1-SC20190818205024_tile_5632_512.tif is a low contrast image\n",
      "  warn('%s is a low contrast image' % fname)\n"
     ]
    },
    {
     "name": "stdout",
     "output_type": "stream",
     "text": [
      "removed scene and label, 0.02% bad data\n"
     ]
    },
    {
     "name": "stderr",
     "output_type": "stream",
     "text": [
      "/data/anaconda/envs/cropmask/lib/python3.7/site-packages/skimage/io/_io.py:141: UserWarning: /mnt/cropmaskperm/landsat-clear-scenes-2005/train/LT050290322005031601T1-SC20190818205024_tile_6144_0/image/LT050290322005031601T1-SC20190818205024_tile_6144_0.tif is a low contrast image\n",
      "  warn('%s is a low contrast image' % fname)\n"
     ]
    },
    {
     "name": "stdout",
     "output_type": "stream",
     "text": [
      "removed scene and label, 0.02% bad data\n"
     ]
    },
    {
     "name": "stderr",
     "output_type": "stream",
     "text": [
      "/data/anaconda/envs/cropmask/lib/python3.7/site-packages/skimage/io/_io.py:141: UserWarning: /mnt/cropmaskperm/landsat-clear-scenes-2005/train/LT050290322005031601T1-SC20190818205024_tile_6144_1024/image/LT050290322005031601T1-SC20190818205024_tile_6144_1024.tif is a low contrast image\n",
      "  warn('%s is a low contrast image' % fname)\n",
      "/data/anaconda/envs/cropmask/lib/python3.7/site-packages/skimage/io/_io.py:141: UserWarning: /mnt/cropmaskperm/landsat-clear-scenes-2005/train/LT050290322005031601T1-SC20190818205024_tile_6144_1536/image/LT050290322005031601T1-SC20190818205024_tile_6144_1536.tif is a low contrast image\n",
      "  warn('%s is a low contrast image' % fname)\n",
      "/data/anaconda/envs/cropmask/lib/python3.7/site-packages/skimage/io/_io.py:141: UserWarning: /mnt/cropmaskperm/landsat-clear-scenes-2005/train/LT050290322005031601T1-SC20190818205024_tile_6144_2048/image/LT050290322005031601T1-SC20190818205024_tile_6144_2048.tif is a low contrast image\n",
      "  warn('%s is a low contrast image' % fname)\n",
      "/data/anaconda/envs/cropmask/lib/python3.7/site-packages/skimage/io/_io.py:141: UserWarning: /mnt/cropmaskperm/landsat-clear-scenes-2005/train/LT050290322005031601T1-SC20190818205024_tile_6144_2560/image/LT050290322005031601T1-SC20190818205024_tile_6144_2560.tif is a low contrast image\n",
      "  warn('%s is a low contrast image' % fname)\n",
      "/data/anaconda/envs/cropmask/lib/python3.7/site-packages/skimage/io/_io.py:141: UserWarning: /mnt/cropmaskperm/landsat-clear-scenes-2005/train/LT050290322005031601T1-SC20190818205024_tile_6144_3072/image/LT050290322005031601T1-SC20190818205024_tile_6144_3072.tif is a low contrast image\n",
      "  warn('%s is a low contrast image' % fname)\n",
      "/data/anaconda/envs/cropmask/lib/python3.7/site-packages/skimage/io/_io.py:141: UserWarning: /mnt/cropmaskperm/landsat-clear-scenes-2005/train/LT050290322005031601T1-SC20190818205024_tile_6144_3584/image/LT050290322005031601T1-SC20190818205024_tile_6144_3584.tif is a low contrast image\n",
      "  warn('%s is a low contrast image' % fname)\n",
      "/data/anaconda/envs/cropmask/lib/python3.7/site-packages/skimage/io/_io.py:141: UserWarning: /mnt/cropmaskperm/landsat-clear-scenes-2005/train/LT050290322005031601T1-SC20190818205024_tile_6144_4096/image/LT050290322005031601T1-SC20190818205024_tile_6144_4096.tif is a low contrast image\n",
      "  warn('%s is a low contrast image' % fname)\n",
      "/data/anaconda/envs/cropmask/lib/python3.7/site-packages/skimage/io/_io.py:141: UserWarning: /mnt/cropmaskperm/landsat-clear-scenes-2005/train/LT050290322005031601T1-SC20190818205024_tile_6144_512/image/LT050290322005031601T1-SC20190818205024_tile_6144_512.tif is a low contrast image\n",
      "  warn('%s is a low contrast image' % fname)\n"
     ]
    },
    {
     "name": "stdout",
     "output_type": "stream",
     "text": [
      "removed scene and label, 0.02% bad data\n"
     ]
    },
    {
     "name": "stderr",
     "output_type": "stream",
     "text": [
      "/data/anaconda/envs/cropmask/lib/python3.7/site-packages/skimage/io/_io.py:141: UserWarning: /mnt/cropmaskperm/landsat-clear-scenes-2005/train/LT050290322005031601T1-SC20190818205024_tile_6656_0/image/LT050290322005031601T1-SC20190818205024_tile_6656_0.tif is a low contrast image\n",
      "  warn('%s is a low contrast image' % fname)\n"
     ]
    },
    {
     "name": "stdout",
     "output_type": "stream",
     "text": [
      "removed scene and label, 0.02% bad data\n"
     ]
    },
    {
     "name": "stderr",
     "output_type": "stream",
     "text": [
      "/data/anaconda/envs/cropmask/lib/python3.7/site-packages/skimage/io/_io.py:141: UserWarning: /mnt/cropmaskperm/landsat-clear-scenes-2005/train/LT050290322005031601T1-SC20190818205024_tile_6656_1024/image/LT050290322005031601T1-SC20190818205024_tile_6656_1024.tif is a low contrast image\n",
      "  warn('%s is a low contrast image' % fname)\n"
     ]
    },
    {
     "name": "stdout",
     "output_type": "stream",
     "text": [
      "removed scene and label, 0.02% bad data\n"
     ]
    },
    {
     "name": "stderr",
     "output_type": "stream",
     "text": [
      "/data/anaconda/envs/cropmask/lib/python3.7/site-packages/skimage/io/_io.py:141: UserWarning: /mnt/cropmaskperm/landsat-clear-scenes-2005/train/LT050290322005031601T1-SC20190818205024_tile_6656_1536/image/LT050290322005031601T1-SC20190818205024_tile_6656_1536.tif is a low contrast image\n",
      "  warn('%s is a low contrast image' % fname)\n",
      "/data/anaconda/envs/cropmask/lib/python3.7/site-packages/skimage/io/_io.py:141: UserWarning: /mnt/cropmaskperm/landsat-clear-scenes-2005/train/LT050290322005031601T1-SC20190818205024_tile_6656_2048/image/LT050290322005031601T1-SC20190818205024_tile_6656_2048.tif is a low contrast image\n",
      "  warn('%s is a low contrast image' % fname)\n",
      "/data/anaconda/envs/cropmask/lib/python3.7/site-packages/skimage/io/_io.py:141: UserWarning: /mnt/cropmaskperm/landsat-clear-scenes-2005/train/LT050290322005031601T1-SC20190818205024_tile_6656_2560/image/LT050290322005031601T1-SC20190818205024_tile_6656_2560.tif is a low contrast image\n",
      "  warn('%s is a low contrast image' % fname)\n",
      "/data/anaconda/envs/cropmask/lib/python3.7/site-packages/skimage/io/_io.py:141: UserWarning: /mnt/cropmaskperm/landsat-clear-scenes-2005/train/LT050290322005031601T1-SC20190818205024_tile_6656_3072/image/LT050290322005031601T1-SC20190818205024_tile_6656_3072.tif is a low contrast image\n",
      "  warn('%s is a low contrast image' % fname)\n",
      "/data/anaconda/envs/cropmask/lib/python3.7/site-packages/skimage/io/_io.py:141: UserWarning: /mnt/cropmaskperm/landsat-clear-scenes-2005/train/LT050290322005031601T1-SC20190818205024_tile_6656_3584/image/LT050290322005031601T1-SC20190818205024_tile_6656_3584.tif is a low contrast image\n",
      "  warn('%s is a low contrast image' % fname)\n"
     ]
    },
    {
     "name": "stdout",
     "output_type": "stream",
     "text": [
      "removed scene and label, 0.02% bad data\n"
     ]
    },
    {
     "name": "stderr",
     "output_type": "stream",
     "text": [
      "/data/anaconda/envs/cropmask/lib/python3.7/site-packages/skimage/io/_io.py:141: UserWarning: /mnt/cropmaskperm/landsat-clear-scenes-2005/train/LT050290322005031601T1-SC20190818205024_tile_6656_4096/image/LT050290322005031601T1-SC20190818205024_tile_6656_4096.tif is a low contrast image\n",
      "  warn('%s is a low contrast image' % fname)\n"
     ]
    },
    {
     "name": "stdout",
     "output_type": "stream",
     "text": [
      "removed scene and label, 0.02% bad data\n"
     ]
    },
    {
     "name": "stderr",
     "output_type": "stream",
     "text": [
      "/data/anaconda/envs/cropmask/lib/python3.7/site-packages/skimage/io/_io.py:141: UserWarning: /mnt/cropmaskperm/landsat-clear-scenes-2005/train/LT050290322005031601T1-SC20190818205024_tile_6656_512/image/LT050290322005031601T1-SC20190818205024_tile_6656_512.tif is a low contrast image\n",
      "  warn('%s is a low contrast image' % fname)\n"
     ]
    },
    {
     "name": "stdout",
     "output_type": "stream",
     "text": [
      "removed scene and label, 0.02% bad data\n"
     ]
    },
    {
     "name": "stderr",
     "output_type": "stream",
     "text": [
      "/data/anaconda/envs/cropmask/lib/python3.7/site-packages/skimage/io/_io.py:141: UserWarning: /mnt/cropmaskperm/landsat-clear-scenes-2005/train/LT050290322005031601T1-SC20190818205024_tile_7168_0/image/LT050290322005031601T1-SC20190818205024_tile_7168_0.tif is a low contrast image\n",
      "  warn('%s is a low contrast image' % fname)\n"
     ]
    },
    {
     "name": "stdout",
     "output_type": "stream",
     "text": [
      "removed scene and label, 0.02% bad data\n"
     ]
    },
    {
     "name": "stderr",
     "output_type": "stream",
     "text": [
      "/data/anaconda/envs/cropmask/lib/python3.7/site-packages/skimage/io/_io.py:141: UserWarning: /mnt/cropmaskperm/landsat-clear-scenes-2005/train/LT050290322005031601T1-SC20190818205024_tile_7168_1024/image/LT050290322005031601T1-SC20190818205024_tile_7168_1024.tif is a low contrast image\n",
      "  warn('%s is a low contrast image' % fname)\n"
     ]
    },
    {
     "name": "stdout",
     "output_type": "stream",
     "text": [
      "removed scene and label, 0.02% bad data\n"
     ]
    },
    {
     "name": "stderr",
     "output_type": "stream",
     "text": [
      "/data/anaconda/envs/cropmask/lib/python3.7/site-packages/skimage/io/_io.py:141: UserWarning: /mnt/cropmaskperm/landsat-clear-scenes-2005/train/LT050290322005031601T1-SC20190818205024_tile_7168_1536/image/LT050290322005031601T1-SC20190818205024_tile_7168_1536.tif is a low contrast image\n",
      "  warn('%s is a low contrast image' % fname)\n"
     ]
    },
    {
     "name": "stdout",
     "output_type": "stream",
     "text": [
      "removed scene and label, 0.02% bad data\n"
     ]
    },
    {
     "name": "stderr",
     "output_type": "stream",
     "text": [
      "/data/anaconda/envs/cropmask/lib/python3.7/site-packages/skimage/io/_io.py:141: UserWarning: /mnt/cropmaskperm/landsat-clear-scenes-2005/train/LT050290322005031601T1-SC20190818205024_tile_7168_2048/image/LT050290322005031601T1-SC20190818205024_tile_7168_2048.tif is a low contrast image\n",
      "  warn('%s is a low contrast image' % fname)\n"
     ]
    },
    {
     "name": "stdout",
     "output_type": "stream",
     "text": [
      "removed scene and label, 0.02% bad data\n"
     ]
    },
    {
     "name": "stderr",
     "output_type": "stream",
     "text": [
      "/data/anaconda/envs/cropmask/lib/python3.7/site-packages/skimage/io/_io.py:141: UserWarning: /mnt/cropmaskperm/landsat-clear-scenes-2005/train/LT050290322005031601T1-SC20190818205024_tile_7168_2560/image/LT050290322005031601T1-SC20190818205024_tile_7168_2560.tif is a low contrast image\n",
      "  warn('%s is a low contrast image' % fname)\n"
     ]
    },
    {
     "name": "stdout",
     "output_type": "stream",
     "text": [
      "removed scene and label, 0.02% bad data\n"
     ]
    },
    {
     "name": "stderr",
     "output_type": "stream",
     "text": [
      "/data/anaconda/envs/cropmask/lib/python3.7/site-packages/skimage/io/_io.py:141: UserWarning: /mnt/cropmaskperm/landsat-clear-scenes-2005/train/LT050290322005031601T1-SC20190818205024_tile_7168_3072/image/LT050290322005031601T1-SC20190818205024_tile_7168_3072.tif is a low contrast image\n",
      "  warn('%s is a low contrast image' % fname)\n"
     ]
    },
    {
     "name": "stdout",
     "output_type": "stream",
     "text": [
      "removed scene and label, 0.02% bad data\n"
     ]
    },
    {
     "name": "stderr",
     "output_type": "stream",
     "text": [
      "/data/anaconda/envs/cropmask/lib/python3.7/site-packages/skimage/io/_io.py:141: UserWarning: /mnt/cropmaskperm/landsat-clear-scenes-2005/train/LT050290322005031601T1-SC20190818205024_tile_7168_3584/image/LT050290322005031601T1-SC20190818205024_tile_7168_3584.tif is a low contrast image\n",
      "  warn('%s is a low contrast image' % fname)\n"
     ]
    },
    {
     "name": "stdout",
     "output_type": "stream",
     "text": [
      "removed scene and label, 0.02% bad data\n"
     ]
    },
    {
     "name": "stderr",
     "output_type": "stream",
     "text": [
      "/data/anaconda/envs/cropmask/lib/python3.7/site-packages/skimage/io/_io.py:141: UserWarning: /mnt/cropmaskperm/landsat-clear-scenes-2005/train/LT050290322005031601T1-SC20190818205024_tile_7168_4096/image/LT050290322005031601T1-SC20190818205024_tile_7168_4096.tif is a low contrast image\n",
      "  warn('%s is a low contrast image' % fname)\n"
     ]
    },
    {
     "name": "stdout",
     "output_type": "stream",
     "text": [
      "removed scene and label, 0.02% bad data\n"
     ]
    },
    {
     "name": "stderr",
     "output_type": "stream",
     "text": [
      "/data/anaconda/envs/cropmask/lib/python3.7/site-packages/skimage/io/_io.py:141: UserWarning: /mnt/cropmaskperm/landsat-clear-scenes-2005/train/LT050290322005031601T1-SC20190818205024_tile_7168_512/image/LT050290322005031601T1-SC20190818205024_tile_7168_512.tif is a low contrast image\n",
      "  warn('%s is a low contrast image' % fname)\n"
     ]
    },
    {
     "name": "stdout",
     "output_type": "stream",
     "text": [
      "removed scene and label, 0.02% bad data\n"
     ]
    },
    {
     "name": "stderr",
     "output_type": "stream",
     "text": [
      "/data/anaconda/envs/cropmask/lib/python3.7/site-packages/skimage/io/_io.py:141: UserWarning: /mnt/cropmaskperm/landsat-clear-scenes-2005/train/LT050290322005031601T1-SC20190818205024_tile_7680_0/image/LT050290322005031601T1-SC20190818205024_tile_7680_0.tif is a low contrast image\n",
      "  warn('%s is a low contrast image' % fname)\n"
     ]
    },
    {
     "name": "stdout",
     "output_type": "stream",
     "text": [
      "removed scene and label, 0.02% bad data\n"
     ]
    },
    {
     "name": "stderr",
     "output_type": "stream",
     "text": [
      "/data/anaconda/envs/cropmask/lib/python3.7/site-packages/skimage/io/_io.py:141: UserWarning: /mnt/cropmaskperm/landsat-clear-scenes-2005/train/LT050290322005031601T1-SC20190818205024_tile_7680_1024/image/LT050290322005031601T1-SC20190818205024_tile_7680_1024.tif is a low contrast image\n",
      "  warn('%s is a low contrast image' % fname)\n"
     ]
    },
    {
     "name": "stdout",
     "output_type": "stream",
     "text": [
      "removed scene and label, 0.02% bad data\n"
     ]
    },
    {
     "name": "stderr",
     "output_type": "stream",
     "text": [
      "/data/anaconda/envs/cropmask/lib/python3.7/site-packages/skimage/io/_io.py:141: UserWarning: /mnt/cropmaskperm/landsat-clear-scenes-2005/train/LT050290322005031601T1-SC20190818205024_tile_7680_1536/image/LT050290322005031601T1-SC20190818205024_tile_7680_1536.tif is a low contrast image\n",
      "  warn('%s is a low contrast image' % fname)\n"
     ]
    },
    {
     "name": "stdout",
     "output_type": "stream",
     "text": [
      "removed scene and label, 0.02% bad data\n"
     ]
    },
    {
     "name": "stderr",
     "output_type": "stream",
     "text": [
      "/data/anaconda/envs/cropmask/lib/python3.7/site-packages/skimage/io/_io.py:141: UserWarning: /mnt/cropmaskperm/landsat-clear-scenes-2005/train/LT050290322005031601T1-SC20190818205024_tile_7680_2048/image/LT050290322005031601T1-SC20190818205024_tile_7680_2048.tif is a low contrast image\n",
      "  warn('%s is a low contrast image' % fname)\n"
     ]
    },
    {
     "name": "stdout",
     "output_type": "stream",
     "text": [
      "removed scene and label, 0.02% bad data\n"
     ]
    },
    {
     "name": "stderr",
     "output_type": "stream",
     "text": [
      "/data/anaconda/envs/cropmask/lib/python3.7/site-packages/skimage/io/_io.py:141: UserWarning: /mnt/cropmaskperm/landsat-clear-scenes-2005/train/LT050290322005031601T1-SC20190818205024_tile_7680_2560/image/LT050290322005031601T1-SC20190818205024_tile_7680_2560.tif is a low contrast image\n",
      "  warn('%s is a low contrast image' % fname)\n"
     ]
    },
    {
     "name": "stdout",
     "output_type": "stream",
     "text": [
      "removed scene and label, 0.02% bad data\n"
     ]
    },
    {
     "name": "stderr",
     "output_type": "stream",
     "text": [
      "/data/anaconda/envs/cropmask/lib/python3.7/site-packages/skimage/io/_io.py:141: UserWarning: /mnt/cropmaskperm/landsat-clear-scenes-2005/train/LT050290322005031601T1-SC20190818205024_tile_7680_3072/image/LT050290322005031601T1-SC20190818205024_tile_7680_3072.tif is a low contrast image\n",
      "  warn('%s is a low contrast image' % fname)\n"
     ]
    },
    {
     "name": "stdout",
     "output_type": "stream",
     "text": [
      "removed scene and label, 0.02% bad data\n"
     ]
    },
    {
     "name": "stderr",
     "output_type": "stream",
     "text": [
      "/data/anaconda/envs/cropmask/lib/python3.7/site-packages/skimage/io/_io.py:141: UserWarning: /mnt/cropmaskperm/landsat-clear-scenes-2005/train/LT050290322005031601T1-SC20190818205024_tile_7680_3584/image/LT050290322005031601T1-SC20190818205024_tile_7680_3584.tif is a low contrast image\n",
      "  warn('%s is a low contrast image' % fname)\n"
     ]
    },
    {
     "name": "stdout",
     "output_type": "stream",
     "text": [
      "removed scene and label, 0.02% bad data\n"
     ]
    },
    {
     "name": "stderr",
     "output_type": "stream",
     "text": [
      "/data/anaconda/envs/cropmask/lib/python3.7/site-packages/skimage/io/_io.py:141: UserWarning: /mnt/cropmaskperm/landsat-clear-scenes-2005/train/LT050290322005031601T1-SC20190818205024_tile_7680_4096/image/LT050290322005031601T1-SC20190818205024_tile_7680_4096.tif is a low contrast image\n",
      "  warn('%s is a low contrast image' % fname)\n"
     ]
    },
    {
     "name": "stdout",
     "output_type": "stream",
     "text": [
      "removed scene and label, 0.02% bad data\n"
     ]
    },
    {
     "name": "stderr",
     "output_type": "stream",
     "text": [
      "/data/anaconda/envs/cropmask/lib/python3.7/site-packages/skimage/io/_io.py:141: UserWarning: /mnt/cropmaskperm/landsat-clear-scenes-2005/train/LT050290322005031601T1-SC20190818205024_tile_7680_512/image/LT050290322005031601T1-SC20190818205024_tile_7680_512.tif is a low contrast image\n",
      "  warn('%s is a low contrast image' % fname)\n"
     ]
    },
    {
     "name": "stdout",
     "output_type": "stream",
     "text": [
      "removed scene and label, 0.02% bad data\n"
     ]
    },
    {
     "name": "stderr",
     "output_type": "stream",
     "text": [
      "/data/anaconda/envs/cropmask/lib/python3.7/site-packages/skimage/io/_io.py:141: UserWarning: /mnt/cropmaskperm/landsat-clear-scenes-2005/train/LT050290322005031601T1-SC20190818205024_tile_1024_2560/mask/LT050290322005031601T1-SC20190818205024_tile_1024_2560_label.tif is a low contrast image\n",
      "  warn('%s is a low contrast image' % fname)\n",
      "/data/anaconda/envs/cropmask/lib/python3.7/site-packages/skimage/io/_io.py:141: UserWarning: /mnt/cropmaskperm/landsat-clear-scenes-2005/train/LT050290322005031601T1-SC20190818205024_tile_1024_3072/mask/LT050290322005031601T1-SC20190818205024_tile_1024_3072_label.tif is a low contrast image\n",
      "  warn('%s is a low contrast image' % fname)\n",
      "/data/anaconda/envs/cropmask/lib/python3.7/site-packages/skimage/io/_io.py:141: UserWarning: /mnt/cropmaskperm/landsat-clear-scenes-2005/train/LT050290322005031601T1-SC20190818205024_tile_1024_3584/mask/LT050290322005031601T1-SC20190818205024_tile_1024_3584_label.tif is a low contrast image\n",
      "  warn('%s is a low contrast image' % fname)\n",
      "/data/anaconda/envs/cropmask/lib/python3.7/site-packages/skimage/io/_io.py:141: UserWarning: /mnt/cropmaskperm/landsat-clear-scenes-2005/train/LT050290322005031601T1-SC20190818205024_tile_1024_4096/mask/LT050290322005031601T1-SC20190818205024_tile_1024_4096_label.tif is a low contrast image\n",
      "  warn('%s is a low contrast image' % fname)\n",
      "/data/anaconda/envs/cropmask/lib/python3.7/site-packages/skimage/io/_io.py:141: UserWarning: /mnt/cropmaskperm/landsat-clear-scenes-2005/train/LT050290322005031601T1-SC20190818205024_tile_1536_1024/mask/LT050290322005031601T1-SC20190818205024_tile_1536_1024_label.tif is a low contrast image\n",
      "  warn('%s is a low contrast image' % fname)\n",
      "/data/anaconda/envs/cropmask/lib/python3.7/site-packages/skimage/io/_io.py:141: UserWarning: /mnt/cropmaskperm/landsat-clear-scenes-2005/train/LT050290322005031601T1-SC20190818205024_tile_1536_1536/mask/LT050290322005031601T1-SC20190818205024_tile_1536_1536_label.tif is a low contrast image\n",
      "  warn('%s is a low contrast image' % fname)\n",
      "/data/anaconda/envs/cropmask/lib/python3.7/site-packages/skimage/io/_io.py:141: UserWarning: /mnt/cropmaskperm/landsat-clear-scenes-2005/train/LT050290322005031601T1-SC20190818205024_tile_1536_2048/mask/LT050290322005031601T1-SC20190818205024_tile_1536_2048_label.tif is a low contrast image\n",
      "  warn('%s is a low contrast image' % fname)\n",
      "/data/anaconda/envs/cropmask/lib/python3.7/site-packages/skimage/io/_io.py:141: UserWarning: /mnt/cropmaskperm/landsat-clear-scenes-2005/train/LT050290322005031601T1-SC20190818205024_tile_1536_2560/mask/LT050290322005031601T1-SC20190818205024_tile_1536_2560_label.tif is a low contrast image\n",
      "  warn('%s is a low contrast image' % fname)\n",
      "/data/anaconda/envs/cropmask/lib/python3.7/site-packages/skimage/io/_io.py:141: UserWarning: /mnt/cropmaskperm/landsat-clear-scenes-2005/train/LT050290322005031601T1-SC20190818205024_tile_1536_3072/mask/LT050290322005031601T1-SC20190818205024_tile_1536_3072_label.tif is a low contrast image\n",
      "  warn('%s is a low contrast image' % fname)\n",
      "/data/anaconda/envs/cropmask/lib/python3.7/site-packages/skimage/io/_io.py:141: UserWarning: /mnt/cropmaskperm/landsat-clear-scenes-2005/train/LT050290322005031601T1-SC20190818205024_tile_1536_3584/mask/LT050290322005031601T1-SC20190818205024_tile_1536_3584_label.tif is a low contrast image\n",
      "  warn('%s is a low contrast image' % fname)\n",
      "/data/anaconda/envs/cropmask/lib/python3.7/site-packages/skimage/io/_io.py:141: UserWarning: /mnt/cropmaskperm/landsat-clear-scenes-2005/train/LT050290322005031601T1-SC20190818205024_tile_1536_4096/mask/LT050290322005031601T1-SC20190818205024_tile_1536_4096_label.tif is a low contrast image\n",
      "  warn('%s is a low contrast image' % fname)\n",
      "/data/anaconda/envs/cropmask/lib/python3.7/site-packages/skimage/io/_io.py:141: UserWarning: /mnt/cropmaskperm/landsat-clear-scenes-2005/train/LT050290322005031601T1-SC20190818205024_tile_1536_512/mask/LT050290322005031601T1-SC20190818205024_tile_1536_512_label.tif is a low contrast image\n",
      "  warn('%s is a low contrast image' % fname)\n",
      "/data/anaconda/envs/cropmask/lib/python3.7/site-packages/skimage/io/_io.py:141: UserWarning: /mnt/cropmaskperm/landsat-clear-scenes-2005/train/LT050290322005031601T1-SC20190818205024_tile_2048_1024/mask/LT050290322005031601T1-SC20190818205024_tile_2048_1024_label.tif is a low contrast image\n",
      "  warn('%s is a low contrast image' % fname)\n",
      "/data/anaconda/envs/cropmask/lib/python3.7/site-packages/skimage/io/_io.py:141: UserWarning: /mnt/cropmaskperm/landsat-clear-scenes-2005/train/LT050290322005031601T1-SC20190818205024_tile_2048_1536/mask/LT050290322005031601T1-SC20190818205024_tile_2048_1536_label.tif is a low contrast image\n",
      "  warn('%s is a low contrast image' % fname)\n",
      "/data/anaconda/envs/cropmask/lib/python3.7/site-packages/skimage/io/_io.py:141: UserWarning: /mnt/cropmaskperm/landsat-clear-scenes-2005/train/LT050290322005031601T1-SC20190818205024_tile_2048_2048/mask/LT050290322005031601T1-SC20190818205024_tile_2048_2048_label.tif is a low contrast image\n",
      "  warn('%s is a low contrast image' % fname)\n",
      "/data/anaconda/envs/cropmask/lib/python3.7/site-packages/skimage/io/_io.py:141: UserWarning: /mnt/cropmaskperm/landsat-clear-scenes-2005/train/LT050290322005031601T1-SC20190818205024_tile_2048_2560/mask/LT050290322005031601T1-SC20190818205024_tile_2048_2560_label.tif is a low contrast image\n",
      "  warn('%s is a low contrast image' % fname)\n",
      "/data/anaconda/envs/cropmask/lib/python3.7/site-packages/skimage/io/_io.py:141: UserWarning: /mnt/cropmaskperm/landsat-clear-scenes-2005/train/LT050290322005031601T1-SC20190818205024_tile_2048_3072/mask/LT050290322005031601T1-SC20190818205024_tile_2048_3072_label.tif is a low contrast image\n",
      "  warn('%s is a low contrast image' % fname)\n",
      "/data/anaconda/envs/cropmask/lib/python3.7/site-packages/skimage/io/_io.py:141: UserWarning: /mnt/cropmaskperm/landsat-clear-scenes-2005/train/LT050290322005031601T1-SC20190818205024_tile_2048_3584/mask/LT050290322005031601T1-SC20190818205024_tile_2048_3584_label.tif is a low contrast image\n",
      "  warn('%s is a low contrast image' % fname)\n",
      "/data/anaconda/envs/cropmask/lib/python3.7/site-packages/skimage/io/_io.py:141: UserWarning: /mnt/cropmaskperm/landsat-clear-scenes-2005/train/LT050290322005031601T1-SC20190818205024_tile_2048_4096/mask/LT050290322005031601T1-SC20190818205024_tile_2048_4096_label.tif is a low contrast image\n",
      "  warn('%s is a low contrast image' % fname)\n",
      "/data/anaconda/envs/cropmask/lib/python3.7/site-packages/skimage/io/_io.py:141: UserWarning: /mnt/cropmaskperm/landsat-clear-scenes-2005/train/LT050290322005031601T1-SC20190818205024_tile_2048_512/mask/LT050290322005031601T1-SC20190818205024_tile_2048_512_label.tif is a low contrast image\n",
      "  warn('%s is a low contrast image' % fname)\n",
      "/data/anaconda/envs/cropmask/lib/python3.7/site-packages/skimage/io/_io.py:141: UserWarning: /mnt/cropmaskperm/landsat-clear-scenes-2005/train/LT050290322005031601T1-SC20190818205024_tile_2560_1024/mask/LT050290322005031601T1-SC20190818205024_tile_2560_1024_label.tif is a low contrast image\n",
      "  warn('%s is a low contrast image' % fname)\n",
      "/data/anaconda/envs/cropmask/lib/python3.7/site-packages/skimage/io/_io.py:141: UserWarning: /mnt/cropmaskperm/landsat-clear-scenes-2005/train/LT050290322005031601T1-SC20190818205024_tile_2560_1536/mask/LT050290322005031601T1-SC20190818205024_tile_2560_1536_label.tif is a low contrast image\n",
      "  warn('%s is a low contrast image' % fname)\n",
      "/data/anaconda/envs/cropmask/lib/python3.7/site-packages/skimage/io/_io.py:141: UserWarning: /mnt/cropmaskperm/landsat-clear-scenes-2005/train/LT050290322005031601T1-SC20190818205024_tile_2560_2048/mask/LT050290322005031601T1-SC20190818205024_tile_2560_2048_label.tif is a low contrast image\n",
      "  warn('%s is a low contrast image' % fname)\n",
      "/data/anaconda/envs/cropmask/lib/python3.7/site-packages/skimage/io/_io.py:141: UserWarning: /mnt/cropmaskperm/landsat-clear-scenes-2005/train/LT050290322005031601T1-SC20190818205024_tile_2560_2560/mask/LT050290322005031601T1-SC20190818205024_tile_2560_2560_label.tif is a low contrast image\n",
      "  warn('%s is a low contrast image' % fname)\n",
      "/data/anaconda/envs/cropmask/lib/python3.7/site-packages/skimage/io/_io.py:141: UserWarning: /mnt/cropmaskperm/landsat-clear-scenes-2005/train/LT050290322005031601T1-SC20190818205024_tile_2560_3072/mask/LT050290322005031601T1-SC20190818205024_tile_2560_3072_label.tif is a low contrast image\n",
      "  warn('%s is a low contrast image' % fname)\n",
      "/data/anaconda/envs/cropmask/lib/python3.7/site-packages/skimage/io/_io.py:141: UserWarning: /mnt/cropmaskperm/landsat-clear-scenes-2005/train/LT050290322005031601T1-SC20190818205024_tile_2560_3584/mask/LT050290322005031601T1-SC20190818205024_tile_2560_3584_label.tif is a low contrast image\n",
      "  warn('%s is a low contrast image' % fname)\n",
      "/data/anaconda/envs/cropmask/lib/python3.7/site-packages/skimage/io/_io.py:141: UserWarning: /mnt/cropmaskperm/landsat-clear-scenes-2005/train/LT050290322005031601T1-SC20190818205024_tile_2560_4096/mask/LT050290322005031601T1-SC20190818205024_tile_2560_4096_label.tif is a low contrast image\n",
      "  warn('%s is a low contrast image' % fname)\n",
      "/data/anaconda/envs/cropmask/lib/python3.7/site-packages/skimage/io/_io.py:141: UserWarning: /mnt/cropmaskperm/landsat-clear-scenes-2005/train/LT050290322005031601T1-SC20190818205024_tile_2560_512/mask/LT050290322005031601T1-SC20190818205024_tile_2560_512_label.tif is a low contrast image\n",
      "  warn('%s is a low contrast image' % fname)\n",
      "/data/anaconda/envs/cropmask/lib/python3.7/site-packages/skimage/io/_io.py:141: UserWarning: /mnt/cropmaskperm/landsat-clear-scenes-2005/train/LT050290322005031601T1-SC20190818205024_tile_3072_1024/mask/LT050290322005031601T1-SC20190818205024_tile_3072_1024_label.tif is a low contrast image\n",
      "  warn('%s is a low contrast image' % fname)\n",
      "/data/anaconda/envs/cropmask/lib/python3.7/site-packages/skimage/io/_io.py:141: UserWarning: /mnt/cropmaskperm/landsat-clear-scenes-2005/train/LT050290322005031601T1-SC20190818205024_tile_3072_1536/mask/LT050290322005031601T1-SC20190818205024_tile_3072_1536_label.tif is a low contrast image\n",
      "  warn('%s is a low contrast image' % fname)\n",
      "/data/anaconda/envs/cropmask/lib/python3.7/site-packages/skimage/io/_io.py:141: UserWarning: /mnt/cropmaskperm/landsat-clear-scenes-2005/train/LT050290322005031601T1-SC20190818205024_tile_3072_2048/mask/LT050290322005031601T1-SC20190818205024_tile_3072_2048_label.tif is a low contrast image\n",
      "  warn('%s is a low contrast image' % fname)\n",
      "/data/anaconda/envs/cropmask/lib/python3.7/site-packages/skimage/io/_io.py:141: UserWarning: /mnt/cropmaskperm/landsat-clear-scenes-2005/train/LT050290322005031601T1-SC20190818205024_tile_3072_2560/mask/LT050290322005031601T1-SC20190818205024_tile_3072_2560_label.tif is a low contrast image\n",
      "  warn('%s is a low contrast image' % fname)\n",
      "/data/anaconda/envs/cropmask/lib/python3.7/site-packages/skimage/io/_io.py:141: UserWarning: /mnt/cropmaskperm/landsat-clear-scenes-2005/train/LT050290322005031601T1-SC20190818205024_tile_3072_3072/mask/LT050290322005031601T1-SC20190818205024_tile_3072_3072_label.tif is a low contrast image\n",
      "  warn('%s is a low contrast image' % fname)\n",
      "/data/anaconda/envs/cropmask/lib/python3.7/site-packages/skimage/io/_io.py:141: UserWarning: /mnt/cropmaskperm/landsat-clear-scenes-2005/train/LT050290322005031601T1-SC20190818205024_tile_3072_3584/mask/LT050290322005031601T1-SC20190818205024_tile_3072_3584_label.tif is a low contrast image\n",
      "  warn('%s is a low contrast image' % fname)\n",
      "/data/anaconda/envs/cropmask/lib/python3.7/site-packages/skimage/io/_io.py:141: UserWarning: /mnt/cropmaskperm/landsat-clear-scenes-2005/train/LT050290322005031601T1-SC20190818205024_tile_3072_4096/mask/LT050290322005031601T1-SC20190818205024_tile_3072_4096_label.tif is a low contrast image\n",
      "  warn('%s is a low contrast image' % fname)\n",
      "/data/anaconda/envs/cropmask/lib/python3.7/site-packages/skimage/io/_io.py:141: UserWarning: /mnt/cropmaskperm/landsat-clear-scenes-2005/train/LT050290322005031601T1-SC20190818205024_tile_3072_512/mask/LT050290322005031601T1-SC20190818205024_tile_3072_512_label.tif is a low contrast image\n",
      "  warn('%s is a low contrast image' % fname)\n",
      "/data/anaconda/envs/cropmask/lib/python3.7/site-packages/skimage/io/_io.py:141: UserWarning: /mnt/cropmaskperm/landsat-clear-scenes-2005/train/LT050290322005031601T1-SC20190818205024_tile_3584_1024/mask/LT050290322005031601T1-SC20190818205024_tile_3584_1024_label.tif is a low contrast image\n",
      "  warn('%s is a low contrast image' % fname)\n",
      "/data/anaconda/envs/cropmask/lib/python3.7/site-packages/skimage/io/_io.py:141: UserWarning: /mnt/cropmaskperm/landsat-clear-scenes-2005/train/LT050290322005031601T1-SC20190818205024_tile_3584_1536/mask/LT050290322005031601T1-SC20190818205024_tile_3584_1536_label.tif is a low contrast image\n",
      "  warn('%s is a low contrast image' % fname)\n",
      "/data/anaconda/envs/cropmask/lib/python3.7/site-packages/skimage/io/_io.py:141: UserWarning: /mnt/cropmaskperm/landsat-clear-scenes-2005/train/LT050290322005031601T1-SC20190818205024_tile_3584_2048/mask/LT050290322005031601T1-SC20190818205024_tile_3584_2048_label.tif is a low contrast image\n",
      "  warn('%s is a low contrast image' % fname)\n",
      "/data/anaconda/envs/cropmask/lib/python3.7/site-packages/skimage/io/_io.py:141: UserWarning: /mnt/cropmaskperm/landsat-clear-scenes-2005/train/LT050290322005031601T1-SC20190818205024_tile_3584_2560/mask/LT050290322005031601T1-SC20190818205024_tile_3584_2560_label.tif is a low contrast image\n",
      "  warn('%s is a low contrast image' % fname)\n",
      "/data/anaconda/envs/cropmask/lib/python3.7/site-packages/skimage/io/_io.py:141: UserWarning: /mnt/cropmaskperm/landsat-clear-scenes-2005/train/LT050290322005031601T1-SC20190818205024_tile_3584_3072/mask/LT050290322005031601T1-SC20190818205024_tile_3584_3072_label.tif is a low contrast image\n",
      "  warn('%s is a low contrast image' % fname)\n",
      "/data/anaconda/envs/cropmask/lib/python3.7/site-packages/skimage/io/_io.py:141: UserWarning: /mnt/cropmaskperm/landsat-clear-scenes-2005/train/LT050290322005031601T1-SC20190818205024_tile_3584_3584/mask/LT050290322005031601T1-SC20190818205024_tile_3584_3584_label.tif is a low contrast image\n",
      "  warn('%s is a low contrast image' % fname)\n",
      "/data/anaconda/envs/cropmask/lib/python3.7/site-packages/skimage/io/_io.py:141: UserWarning: /mnt/cropmaskperm/landsat-clear-scenes-2005/train/LT050290322005031601T1-SC20190818205024_tile_3584_4096/mask/LT050290322005031601T1-SC20190818205024_tile_3584_4096_label.tif is a low contrast image\n",
      "  warn('%s is a low contrast image' % fname)\n",
      "/data/anaconda/envs/cropmask/lib/python3.7/site-packages/skimage/io/_io.py:141: UserWarning: /mnt/cropmaskperm/landsat-clear-scenes-2005/train/LT050290322005031601T1-SC20190818205024_tile_3584_512/mask/LT050290322005031601T1-SC20190818205024_tile_3584_512_label.tif is a low contrast image\n",
      "  warn('%s is a low contrast image' % fname)\n",
      "/data/anaconda/envs/cropmask/lib/python3.7/site-packages/skimage/io/_io.py:141: UserWarning: /mnt/cropmaskperm/landsat-clear-scenes-2005/train/LT050290322005031601T1-SC20190818205024_tile_4096_1024/mask/LT050290322005031601T1-SC20190818205024_tile_4096_1024_label.tif is a low contrast image\n",
      "  warn('%s is a low contrast image' % fname)\n",
      "/data/anaconda/envs/cropmask/lib/python3.7/site-packages/skimage/io/_io.py:141: UserWarning: /mnt/cropmaskperm/landsat-clear-scenes-2005/train/LT050290322005031601T1-SC20190818205024_tile_4096_1536/mask/LT050290322005031601T1-SC20190818205024_tile_4096_1536_label.tif is a low contrast image\n",
      "  warn('%s is a low contrast image' % fname)\n",
      "/data/anaconda/envs/cropmask/lib/python3.7/site-packages/skimage/io/_io.py:141: UserWarning: /mnt/cropmaskperm/landsat-clear-scenes-2005/train/LT050290322005031601T1-SC20190818205024_tile_4096_2048/mask/LT050290322005031601T1-SC20190818205024_tile_4096_2048_label.tif is a low contrast image\n",
      "  warn('%s is a low contrast image' % fname)\n",
      "/data/anaconda/envs/cropmask/lib/python3.7/site-packages/skimage/io/_io.py:141: UserWarning: /mnt/cropmaskperm/landsat-clear-scenes-2005/train/LT050290322005031601T1-SC20190818205024_tile_4096_2560/mask/LT050290322005031601T1-SC20190818205024_tile_4096_2560_label.tif is a low contrast image\n",
      "  warn('%s is a low contrast image' % fname)\n",
      "/data/anaconda/envs/cropmask/lib/python3.7/site-packages/skimage/io/_io.py:141: UserWarning: /mnt/cropmaskperm/landsat-clear-scenes-2005/train/LT050290322005031601T1-SC20190818205024_tile_4096_3072/mask/LT050290322005031601T1-SC20190818205024_tile_4096_3072_label.tif is a low contrast image\n",
      "  warn('%s is a low contrast image' % fname)\n",
      "/data/anaconda/envs/cropmask/lib/python3.7/site-packages/skimage/io/_io.py:141: UserWarning: /mnt/cropmaskperm/landsat-clear-scenes-2005/train/LT050290322005031601T1-SC20190818205024_tile_4096_3584/mask/LT050290322005031601T1-SC20190818205024_tile_4096_3584_label.tif is a low contrast image\n",
      "  warn('%s is a low contrast image' % fname)\n",
      "/data/anaconda/envs/cropmask/lib/python3.7/site-packages/skimage/io/_io.py:141: UserWarning: /mnt/cropmaskperm/landsat-clear-scenes-2005/train/LT050290322005031601T1-SC20190818205024_tile_4096_4096/mask/LT050290322005031601T1-SC20190818205024_tile_4096_4096_label.tif is a low contrast image\n",
      "  warn('%s is a low contrast image' % fname)\n",
      "/data/anaconda/envs/cropmask/lib/python3.7/site-packages/skimage/io/_io.py:141: UserWarning: /mnt/cropmaskperm/landsat-clear-scenes-2005/train/LT050290322005031601T1-SC20190818205024_tile_4608_1024/mask/LT050290322005031601T1-SC20190818205024_tile_4608_1024_label.tif is a low contrast image\n",
      "  warn('%s is a low contrast image' % fname)\n",
      "/data/anaconda/envs/cropmask/lib/python3.7/site-packages/skimage/io/_io.py:141: UserWarning: /mnt/cropmaskperm/landsat-clear-scenes-2005/train/LT050290322005031601T1-SC20190818205024_tile_4608_1536/mask/LT050290322005031601T1-SC20190818205024_tile_4608_1536_label.tif is a low contrast image\n",
      "  warn('%s is a low contrast image' % fname)\n",
      "/data/anaconda/envs/cropmask/lib/python3.7/site-packages/skimage/io/_io.py:141: UserWarning: /mnt/cropmaskperm/landsat-clear-scenes-2005/train/LT050290322005031601T1-SC20190818205024_tile_4608_2048/mask/LT050290322005031601T1-SC20190818205024_tile_4608_2048_label.tif is a low contrast image\n",
      "  warn('%s is a low contrast image' % fname)\n",
      "/data/anaconda/envs/cropmask/lib/python3.7/site-packages/skimage/io/_io.py:141: UserWarning: /mnt/cropmaskperm/landsat-clear-scenes-2005/train/LT050290322005031601T1-SC20190818205024_tile_4608_2560/mask/LT050290322005031601T1-SC20190818205024_tile_4608_2560_label.tif is a low contrast image\n",
      "  warn('%s is a low contrast image' % fname)\n",
      "/data/anaconda/envs/cropmask/lib/python3.7/site-packages/skimage/io/_io.py:141: UserWarning: /mnt/cropmaskperm/landsat-clear-scenes-2005/train/LT050290322005031601T1-SC20190818205024_tile_4608_3072/mask/LT050290322005031601T1-SC20190818205024_tile_4608_3072_label.tif is a low contrast image\n",
      "  warn('%s is a low contrast image' % fname)\n",
      "/data/anaconda/envs/cropmask/lib/python3.7/site-packages/skimage/io/_io.py:141: UserWarning: /mnt/cropmaskperm/landsat-clear-scenes-2005/train/LT050290322005031601T1-SC20190818205024_tile_4608_3584/mask/LT050290322005031601T1-SC20190818205024_tile_4608_3584_label.tif is a low contrast image\n",
      "  warn('%s is a low contrast image' % fname)\n",
      "/data/anaconda/envs/cropmask/lib/python3.7/site-packages/skimage/io/_io.py:141: UserWarning: /mnt/cropmaskperm/landsat-clear-scenes-2005/train/LT050290322005031601T1-SC20190818205024_tile_4608_4096/mask/LT050290322005031601T1-SC20190818205024_tile_4608_4096_label.tif is a low contrast image\n",
      "  warn('%s is a low contrast image' % fname)\n",
      "/data/anaconda/envs/cropmask/lib/python3.7/site-packages/skimage/io/_io.py:141: UserWarning: /mnt/cropmaskperm/landsat-clear-scenes-2005/train/LT050290322005031601T1-SC20190818205024_tile_5120_1024/mask/LT050290322005031601T1-SC20190818205024_tile_5120_1024_label.tif is a low contrast image\n",
      "  warn('%s is a low contrast image' % fname)\n",
      "/data/anaconda/envs/cropmask/lib/python3.7/site-packages/skimage/io/_io.py:141: UserWarning: /mnt/cropmaskperm/landsat-clear-scenes-2005/train/LT050290322005031601T1-SC20190818205024_tile_5120_1536/mask/LT050290322005031601T1-SC20190818205024_tile_5120_1536_label.tif is a low contrast image\n",
      "  warn('%s is a low contrast image' % fname)\n",
      "/data/anaconda/envs/cropmask/lib/python3.7/site-packages/skimage/io/_io.py:141: UserWarning: /mnt/cropmaskperm/landsat-clear-scenes-2005/train/LT050290322005031601T1-SC20190818205024_tile_5120_2048/mask/LT050290322005031601T1-SC20190818205024_tile_5120_2048_label.tif is a low contrast image\n",
      "  warn('%s is a low contrast image' % fname)\n",
      "/data/anaconda/envs/cropmask/lib/python3.7/site-packages/skimage/io/_io.py:141: UserWarning: /mnt/cropmaskperm/landsat-clear-scenes-2005/train/LT050290322005031601T1-SC20190818205024_tile_5120_2560/mask/LT050290322005031601T1-SC20190818205024_tile_5120_2560_label.tif is a low contrast image\n",
      "  warn('%s is a low contrast image' % fname)\n",
      "/data/anaconda/envs/cropmask/lib/python3.7/site-packages/skimage/io/_io.py:141: UserWarning: /mnt/cropmaskperm/landsat-clear-scenes-2005/train/LT050290322005031601T1-SC20190818205024_tile_5120_3072/mask/LT050290322005031601T1-SC20190818205024_tile_5120_3072_label.tif is a low contrast image\n",
      "  warn('%s is a low contrast image' % fname)\n",
      "/data/anaconda/envs/cropmask/lib/python3.7/site-packages/skimage/io/_io.py:141: UserWarning: /mnt/cropmaskperm/landsat-clear-scenes-2005/train/LT050290322005031601T1-SC20190818205024_tile_5120_3584/mask/LT050290322005031601T1-SC20190818205024_tile_5120_3584_label.tif is a low contrast image\n",
      "  warn('%s is a low contrast image' % fname)\n",
      "/data/anaconda/envs/cropmask/lib/python3.7/site-packages/skimage/io/_io.py:141: UserWarning: /mnt/cropmaskperm/landsat-clear-scenes-2005/train/LT050290322005031601T1-SC20190818205024_tile_5120_4096/mask/LT050290322005031601T1-SC20190818205024_tile_5120_4096_label.tif is a low contrast image\n",
      "  warn('%s is a low contrast image' % fname)\n",
      "/data/anaconda/envs/cropmask/lib/python3.7/site-packages/skimage/io/_io.py:141: UserWarning: /mnt/cropmaskperm/landsat-clear-scenes-2005/train/LT050290322005031601T1-SC20190818205024_tile_5632_1024/mask/LT050290322005031601T1-SC20190818205024_tile_5632_1024_label.tif is a low contrast image\n",
      "  warn('%s is a low contrast image' % fname)\n",
      "/data/anaconda/envs/cropmask/lib/python3.7/site-packages/skimage/io/_io.py:141: UserWarning: /mnt/cropmaskperm/landsat-clear-scenes-2005/train/LT050290322005031601T1-SC20190818205024_tile_5632_1536/mask/LT050290322005031601T1-SC20190818205024_tile_5632_1536_label.tif is a low contrast image\n",
      "  warn('%s is a low contrast image' % fname)\n",
      "/data/anaconda/envs/cropmask/lib/python3.7/site-packages/skimage/io/_io.py:141: UserWarning: /mnt/cropmaskperm/landsat-clear-scenes-2005/train/LT050290322005031601T1-SC20190818205024_tile_5632_2048/mask/LT050290322005031601T1-SC20190818205024_tile_5632_2048_label.tif is a low contrast image\n",
      "  warn('%s is a low contrast image' % fname)\n",
      "/data/anaconda/envs/cropmask/lib/python3.7/site-packages/skimage/io/_io.py:141: UserWarning: /mnt/cropmaskperm/landsat-clear-scenes-2005/train/LT050290322005031601T1-SC20190818205024_tile_5632_2560/mask/LT050290322005031601T1-SC20190818205024_tile_5632_2560_label.tif is a low contrast image\n",
      "  warn('%s is a low contrast image' % fname)\n",
      "/data/anaconda/envs/cropmask/lib/python3.7/site-packages/skimage/io/_io.py:141: UserWarning: /mnt/cropmaskperm/landsat-clear-scenes-2005/train/LT050290322005031601T1-SC20190818205024_tile_5632_3072/mask/LT050290322005031601T1-SC20190818205024_tile_5632_3072_label.tif is a low contrast image\n",
      "  warn('%s is a low contrast image' % fname)\n",
      "/data/anaconda/envs/cropmask/lib/python3.7/site-packages/skimage/io/_io.py:141: UserWarning: /mnt/cropmaskperm/landsat-clear-scenes-2005/train/LT050290322005031601T1-SC20190818205024_tile_5632_3584/mask/LT050290322005031601T1-SC20190818205024_tile_5632_3584_label.tif is a low contrast image\n",
      "  warn('%s is a low contrast image' % fname)\n",
      "/data/anaconda/envs/cropmask/lib/python3.7/site-packages/skimage/io/_io.py:141: UserWarning: /mnt/cropmaskperm/landsat-clear-scenes-2005/train/LT050290322005031601T1-SC20190818205024_tile_5632_4096/mask/LT050290322005031601T1-SC20190818205024_tile_5632_4096_label.tif is a low contrast image\n",
      "  warn('%s is a low contrast image' % fname)\n",
      "/data/anaconda/envs/cropmask/lib/python3.7/site-packages/skimage/io/_io.py:141: UserWarning: /mnt/cropmaskperm/landsat-clear-scenes-2005/train/LT050290322005031601T1-SC20190818205024_tile_6144_1024/mask/LT050290322005031601T1-SC20190818205024_tile_6144_1024_label.tif is a low contrast image\n",
      "  warn('%s is a low contrast image' % fname)\n",
      "/data/anaconda/envs/cropmask/lib/python3.7/site-packages/skimage/io/_io.py:141: UserWarning: /mnt/cropmaskperm/landsat-clear-scenes-2005/train/LT050290322005031601T1-SC20190818205024_tile_6144_1536/mask/LT050290322005031601T1-SC20190818205024_tile_6144_1536_label.tif is a low contrast image\n",
      "  warn('%s is a low contrast image' % fname)\n",
      "/data/anaconda/envs/cropmask/lib/python3.7/site-packages/skimage/io/_io.py:141: UserWarning: /mnt/cropmaskperm/landsat-clear-scenes-2005/train/LT050290322005031601T1-SC20190818205024_tile_6144_2048/mask/LT050290322005031601T1-SC20190818205024_tile_6144_2048_label.tif is a low contrast image\n",
      "  warn('%s is a low contrast image' % fname)\n",
      "/data/anaconda/envs/cropmask/lib/python3.7/site-packages/skimage/io/_io.py:141: UserWarning: /mnt/cropmaskperm/landsat-clear-scenes-2005/train/LT050290322005031601T1-SC20190818205024_tile_6144_2560/mask/LT050290322005031601T1-SC20190818205024_tile_6144_2560_label.tif is a low contrast image\n",
      "  warn('%s is a low contrast image' % fname)\n",
      "/data/anaconda/envs/cropmask/lib/python3.7/site-packages/skimage/io/_io.py:141: UserWarning: /mnt/cropmaskperm/landsat-clear-scenes-2005/train/LT050290322005031601T1-SC20190818205024_tile_6144_3072/mask/LT050290322005031601T1-SC20190818205024_tile_6144_3072_label.tif is a low contrast image\n",
      "  warn('%s is a low contrast image' % fname)\n",
      "/data/anaconda/envs/cropmask/lib/python3.7/site-packages/skimage/io/_io.py:141: UserWarning: /mnt/cropmaskperm/landsat-clear-scenes-2005/train/LT050290322005031601T1-SC20190818205024_tile_6144_3584/mask/LT050290322005031601T1-SC20190818205024_tile_6144_3584_label.tif is a low contrast image\n",
      "  warn('%s is a low contrast image' % fname)\n",
      "/data/anaconda/envs/cropmask/lib/python3.7/site-packages/skimage/io/_io.py:141: UserWarning: /mnt/cropmaskperm/landsat-clear-scenes-2005/train/LT050290322005031601T1-SC20190818205024_tile_6144_4096/mask/LT050290322005031601T1-SC20190818205024_tile_6144_4096_label.tif is a low contrast image\n",
      "  warn('%s is a low contrast image' % fname)\n",
      "/data/anaconda/envs/cropmask/lib/python3.7/site-packages/skimage/io/_io.py:141: UserWarning: /mnt/cropmaskperm/landsat-clear-scenes-2005/train/LT050290322005031601T1-SC20190818205024_tile_6656_1536/mask/LT050290322005031601T1-SC20190818205024_tile_6656_1536_label.tif is a low contrast image\n",
      "  warn('%s is a low contrast image' % fname)\n",
      "/data/anaconda/envs/cropmask/lib/python3.7/site-packages/skimage/io/_io.py:141: UserWarning: /mnt/cropmaskperm/landsat-clear-scenes-2005/train/LT050290322005031601T1-SC20190818205024_tile_6656_2048/mask/LT050290322005031601T1-SC20190818205024_tile_6656_2048_label.tif is a low contrast image\n",
      "  warn('%s is a low contrast image' % fname)\n",
      "/data/anaconda/envs/cropmask/lib/python3.7/site-packages/skimage/io/_io.py:141: UserWarning: /mnt/cropmaskperm/landsat-clear-scenes-2005/train/LT050290322005031601T1-SC20190818205024_tile_6656_2560/mask/LT050290322005031601T1-SC20190818205024_tile_6656_2560_label.tif is a low contrast image\n",
      "  warn('%s is a low contrast image' % fname)\n",
      "/data/anaconda/envs/cropmask/lib/python3.7/site-packages/skimage/io/_io.py:141: UserWarning: /mnt/cropmaskperm/landsat-clear-scenes-2005/train/LT050290322005031601T1-SC20190818205024_tile_6656_3072/mask/LT050290322005031601T1-SC20190818205024_tile_6656_3072_label.tif is a low contrast image\n",
      "  warn('%s is a low contrast image' % fname)\n"
     ]
    },
    {
     "name": "stdout",
     "output_type": "stream",
     "text": [
      "Done applying negbuff of -30 and filtering small labels of area less than 3600\n"
     ]
    },
    {
     "name": "stderr",
     "output_type": "stream",
     "text": [
      "/data/anaconda/envs/cropmask/lib/python3.7/site-packages/skimage/io/_io.py:141: UserWarning: /mnt/cropmaskperm/landsat-clear-scenes-2005/train/LT050320312005082801T1-SC20190418222350_tile_0_0/image/LT050320312005082801T1-SC20190418222350_tile_0_0.tif is a low contrast image\n",
      "  warn('%s is a low contrast image' % fname)\n"
     ]
    },
    {
     "name": "stdout",
     "output_type": "stream",
     "text": [
      "removed scene and label, 0.02% bad data\n"
     ]
    },
    {
     "name": "stderr",
     "output_type": "stream",
     "text": [
      "/data/anaconda/envs/cropmask/lib/python3.7/site-packages/skimage/io/_io.py:141: UserWarning: /mnt/cropmaskperm/landsat-clear-scenes-2005/train/LT050320312005082801T1-SC20190418222350_tile_0_1024/image/LT050320312005082801T1-SC20190418222350_tile_0_1024.tif is a low contrast image\n",
      "  warn('%s is a low contrast image' % fname)\n"
     ]
    },
    {
     "name": "stdout",
     "output_type": "stream",
     "text": [
      "removed scene and label, 0.02% bad data\n"
     ]
    },
    {
     "name": "stderr",
     "output_type": "stream",
     "text": [
      "/data/anaconda/envs/cropmask/lib/python3.7/site-packages/skimage/io/_io.py:141: UserWarning: /mnt/cropmaskperm/landsat-clear-scenes-2005/train/LT050320312005082801T1-SC20190418222350_tile_0_1536/image/LT050320312005082801T1-SC20190418222350_tile_0_1536.tif is a low contrast image\n",
      "  warn('%s is a low contrast image' % fname)\n"
     ]
    },
    {
     "name": "stdout",
     "output_type": "stream",
     "text": [
      "removed scene and label, 0.02% bad data\n"
     ]
    },
    {
     "name": "stderr",
     "output_type": "stream",
     "text": [
      "/data/anaconda/envs/cropmask/lib/python3.7/site-packages/skimage/io/_io.py:141: UserWarning: /mnt/cropmaskperm/landsat-clear-scenes-2005/train/LT050320312005082801T1-SC20190418222350_tile_0_2048/image/LT050320312005082801T1-SC20190418222350_tile_0_2048.tif is a low contrast image\n",
      "  warn('%s is a low contrast image' % fname)\n"
     ]
    },
    {
     "name": "stdout",
     "output_type": "stream",
     "text": [
      "removed scene and label, 0.02% bad data\n"
     ]
    },
    {
     "name": "stderr",
     "output_type": "stream",
     "text": [
      "/data/anaconda/envs/cropmask/lib/python3.7/site-packages/skimage/io/_io.py:141: UserWarning: /mnt/cropmaskperm/landsat-clear-scenes-2005/train/LT050320312005082801T1-SC20190418222350_tile_0_2560/image/LT050320312005082801T1-SC20190418222350_tile_0_2560.tif is a low contrast image\n",
      "  warn('%s is a low contrast image' % fname)\n"
     ]
    },
    {
     "name": "stdout",
     "output_type": "stream",
     "text": [
      "removed scene and label, 0.02% bad data\n"
     ]
    },
    {
     "name": "stderr",
     "output_type": "stream",
     "text": [
      "/data/anaconda/envs/cropmask/lib/python3.7/site-packages/skimage/io/_io.py:141: UserWarning: /mnt/cropmaskperm/landsat-clear-scenes-2005/train/LT050320312005082801T1-SC20190418222350_tile_0_3072/image/LT050320312005082801T1-SC20190418222350_tile_0_3072.tif is a low contrast image\n",
      "  warn('%s is a low contrast image' % fname)\n"
     ]
    },
    {
     "name": "stdout",
     "output_type": "stream",
     "text": [
      "removed scene and label, 0.02% bad data\n"
     ]
    },
    {
     "name": "stderr",
     "output_type": "stream",
     "text": [
      "/data/anaconda/envs/cropmask/lib/python3.7/site-packages/skimage/io/_io.py:141: UserWarning: /mnt/cropmaskperm/landsat-clear-scenes-2005/train/LT050320312005082801T1-SC20190418222350_tile_0_3584/image/LT050320312005082801T1-SC20190418222350_tile_0_3584.tif is a low contrast image\n",
      "  warn('%s is a low contrast image' % fname)\n"
     ]
    },
    {
     "name": "stdout",
     "output_type": "stream",
     "text": [
      "removed scene and label, 0.02% bad data\n"
     ]
    },
    {
     "name": "stderr",
     "output_type": "stream",
     "text": [
      "/data/anaconda/envs/cropmask/lib/python3.7/site-packages/skimage/io/_io.py:141: UserWarning: /mnt/cropmaskperm/landsat-clear-scenes-2005/train/LT050320312005082801T1-SC20190418222350_tile_0_4096/image/LT050320312005082801T1-SC20190418222350_tile_0_4096.tif is a low contrast image\n",
      "  warn('%s is a low contrast image' % fname)\n"
     ]
    },
    {
     "name": "stdout",
     "output_type": "stream",
     "text": [
      "removed scene and label, 0.02% bad data\n"
     ]
    },
    {
     "name": "stderr",
     "output_type": "stream",
     "text": [
      "/data/anaconda/envs/cropmask/lib/python3.7/site-packages/skimage/io/_io.py:141: UserWarning: /mnt/cropmaskperm/landsat-clear-scenes-2005/train/LT050320312005082801T1-SC20190418222350_tile_0_4608/image/LT050320312005082801T1-SC20190418222350_tile_0_4608.tif is a low contrast image\n",
      "  warn('%s is a low contrast image' % fname)\n"
     ]
    },
    {
     "name": "stdout",
     "output_type": "stream",
     "text": [
      "removed scene and label, 0.02% bad data\n"
     ]
    },
    {
     "name": "stderr",
     "output_type": "stream",
     "text": [
      "/data/anaconda/envs/cropmask/lib/python3.7/site-packages/skimage/io/_io.py:141: UserWarning: /mnt/cropmaskperm/landsat-clear-scenes-2005/train/LT050320312005082801T1-SC20190418222350_tile_0_512/image/LT050320312005082801T1-SC20190418222350_tile_0_512.tif is a low contrast image\n",
      "  warn('%s is a low contrast image' % fname)\n"
     ]
    },
    {
     "name": "stdout",
     "output_type": "stream",
     "text": [
      "removed scene and label, 0.02% bad data\n"
     ]
    },
    {
     "name": "stderr",
     "output_type": "stream",
     "text": [
      "/data/anaconda/envs/cropmask/lib/python3.7/site-packages/skimage/io/_io.py:141: UserWarning: /mnt/cropmaskperm/landsat-clear-scenes-2005/train/LT050320312005082801T1-SC20190418222350_tile_0_5120/image/LT050320312005082801T1-SC20190418222350_tile_0_5120.tif is a low contrast image\n",
      "  warn('%s is a low contrast image' % fname)\n"
     ]
    },
    {
     "name": "stdout",
     "output_type": "stream",
     "text": [
      "removed scene and label, 0.02% bad data\n"
     ]
    },
    {
     "name": "stderr",
     "output_type": "stream",
     "text": [
      "/data/anaconda/envs/cropmask/lib/python3.7/site-packages/skimage/io/_io.py:141: UserWarning: /mnt/cropmaskperm/landsat-clear-scenes-2005/train/LT050320312005082801T1-SC20190418222350_tile_0_5632/image/LT050320312005082801T1-SC20190418222350_tile_0_5632.tif is a low contrast image\n",
      "  warn('%s is a low contrast image' % fname)\n"
     ]
    },
    {
     "name": "stdout",
     "output_type": "stream",
     "text": [
      "removed scene and label, 0.02% bad data\n"
     ]
    },
    {
     "name": "stderr",
     "output_type": "stream",
     "text": [
      "/data/anaconda/envs/cropmask/lib/python3.7/site-packages/skimage/io/_io.py:141: UserWarning: /mnt/cropmaskperm/landsat-clear-scenes-2005/train/LT050320312005082801T1-SC20190418222350_tile_1024_0/image/LT050320312005082801T1-SC20190418222350_tile_1024_0.tif is a low contrast image\n",
      "  warn('%s is a low contrast image' % fname)\n"
     ]
    },
    {
     "name": "stdout",
     "output_type": "stream",
     "text": [
      "removed scene and label, 0.02% bad data\n"
     ]
    },
    {
     "name": "stderr",
     "output_type": "stream",
     "text": [
      "/data/anaconda/envs/cropmask/lib/python3.7/site-packages/skimage/io/_io.py:141: UserWarning: /mnt/cropmaskperm/landsat-clear-scenes-2005/train/LT050320312005082801T1-SC20190418222350_tile_1024_1024/image/LT050320312005082801T1-SC20190418222350_tile_1024_1024.tif is a low contrast image\n",
      "  warn('%s is a low contrast image' % fname)\n"
     ]
    },
    {
     "name": "stdout",
     "output_type": "stream",
     "text": [
      "removed scene and label, 0.02% bad data\n"
     ]
    },
    {
     "name": "stderr",
     "output_type": "stream",
     "text": [
      "/data/anaconda/envs/cropmask/lib/python3.7/site-packages/skimage/io/_io.py:141: UserWarning: /mnt/cropmaskperm/landsat-clear-scenes-2005/train/LT050320312005082801T1-SC20190418222350_tile_1024_1536/image/LT050320312005082801T1-SC20190418222350_tile_1024_1536.tif is a low contrast image\n",
      "  warn('%s is a low contrast image' % fname)\n"
     ]
    },
    {
     "name": "stdout",
     "output_type": "stream",
     "text": [
      "removed scene and label, 0.02% bad data\n"
     ]
    },
    {
     "name": "stderr",
     "output_type": "stream",
     "text": [
      "/data/anaconda/envs/cropmask/lib/python3.7/site-packages/skimage/io/_io.py:141: UserWarning: /mnt/cropmaskperm/landsat-clear-scenes-2005/train/LT050320312005082801T1-SC20190418222350_tile_1024_2048/image/LT050320312005082801T1-SC20190418222350_tile_1024_2048.tif is a low contrast image\n",
      "  warn('%s is a low contrast image' % fname)\n",
      "/data/anaconda/envs/cropmask/lib/python3.7/site-packages/skimage/io/_io.py:141: UserWarning: /mnt/cropmaskperm/landsat-clear-scenes-2005/train/LT050320312005082801T1-SC20190418222350_tile_1024_2560/image/LT050320312005082801T1-SC20190418222350_tile_1024_2560.tif is a low contrast image\n",
      "  warn('%s is a low contrast image' % fname)\n",
      "/data/anaconda/envs/cropmask/lib/python3.7/site-packages/skimage/io/_io.py:141: UserWarning: /mnt/cropmaskperm/landsat-clear-scenes-2005/train/LT050320312005082801T1-SC20190418222350_tile_1024_3072/image/LT050320312005082801T1-SC20190418222350_tile_1024_3072.tif is a low contrast image\n",
      "  warn('%s is a low contrast image' % fname)\n",
      "/data/anaconda/envs/cropmask/lib/python3.7/site-packages/skimage/io/_io.py:141: UserWarning: /mnt/cropmaskperm/landsat-clear-scenes-2005/train/LT050320312005082801T1-SC20190418222350_tile_1024_3584/image/LT050320312005082801T1-SC20190418222350_tile_1024_3584.tif is a low contrast image\n",
      "  warn('%s is a low contrast image' % fname)\n",
      "/data/anaconda/envs/cropmask/lib/python3.7/site-packages/skimage/io/_io.py:141: UserWarning: /mnt/cropmaskperm/landsat-clear-scenes-2005/train/LT050320312005082801T1-SC20190418222350_tile_1024_4096/image/LT050320312005082801T1-SC20190418222350_tile_1024_4096.tif is a low contrast image\n",
      "  warn('%s is a low contrast image' % fname)\n",
      "/data/anaconda/envs/cropmask/lib/python3.7/site-packages/skimage/io/_io.py:141: UserWarning: /mnt/cropmaskperm/landsat-clear-scenes-2005/train/LT050320312005082801T1-SC20190418222350_tile_1024_4608/image/LT050320312005082801T1-SC20190418222350_tile_1024_4608.tif is a low contrast image\n",
      "  warn('%s is a low contrast image' % fname)\n",
      "/data/anaconda/envs/cropmask/lib/python3.7/site-packages/skimage/io/_io.py:141: UserWarning: /mnt/cropmaskperm/landsat-clear-scenes-2005/train/LT050320312005082801T1-SC20190418222350_tile_1024_512/image/LT050320312005082801T1-SC20190418222350_tile_1024_512.tif is a low contrast image\n",
      "  warn('%s is a low contrast image' % fname)\n"
     ]
    },
    {
     "name": "stdout",
     "output_type": "stream",
     "text": [
      "removed scene and label, 0.02% bad data\n"
     ]
    },
    {
     "name": "stderr",
     "output_type": "stream",
     "text": [
      "/data/anaconda/envs/cropmask/lib/python3.7/site-packages/skimage/io/_io.py:141: UserWarning: /mnt/cropmaskperm/landsat-clear-scenes-2005/train/LT050320312005082801T1-SC20190418222350_tile_1024_5120/image/LT050320312005082801T1-SC20190418222350_tile_1024_5120.tif is a low contrast image\n",
      "  warn('%s is a low contrast image' % fname)\n",
      "/data/anaconda/envs/cropmask/lib/python3.7/site-packages/skimage/io/_io.py:141: UserWarning: /mnt/cropmaskperm/landsat-clear-scenes-2005/train/LT050320312005082801T1-SC20190418222350_tile_1024_5632/image/LT050320312005082801T1-SC20190418222350_tile_1024_5632.tif is a low contrast image\n",
      "  warn('%s is a low contrast image' % fname)\n"
     ]
    },
    {
     "name": "stdout",
     "output_type": "stream",
     "text": [
      "removed scene and label, 0.02% bad data\n"
     ]
    },
    {
     "name": "stderr",
     "output_type": "stream",
     "text": [
      "/data/anaconda/envs/cropmask/lib/python3.7/site-packages/skimage/io/_io.py:141: UserWarning: /mnt/cropmaskperm/landsat-clear-scenes-2005/train/LT050320312005082801T1-SC20190418222350_tile_1536_0/image/LT050320312005082801T1-SC20190418222350_tile_1536_0.tif is a low contrast image\n",
      "  warn('%s is a low contrast image' % fname)\n"
     ]
    },
    {
     "name": "stdout",
     "output_type": "stream",
     "text": [
      "removed scene and label, 0.02% bad data\n"
     ]
    },
    {
     "name": "stderr",
     "output_type": "stream",
     "text": [
      "/data/anaconda/envs/cropmask/lib/python3.7/site-packages/skimage/io/_io.py:141: UserWarning: /mnt/cropmaskperm/landsat-clear-scenes-2005/train/LT050320312005082801T1-SC20190418222350_tile_1536_1024/image/LT050320312005082801T1-SC20190418222350_tile_1536_1024.tif is a low contrast image\n",
      "  warn('%s is a low contrast image' % fname)\n",
      "/data/anaconda/envs/cropmask/lib/python3.7/site-packages/skimage/io/_io.py:141: UserWarning: /mnt/cropmaskperm/landsat-clear-scenes-2005/train/LT050320312005082801T1-SC20190418222350_tile_1536_1536/image/LT050320312005082801T1-SC20190418222350_tile_1536_1536.tif is a low contrast image\n",
      "  warn('%s is a low contrast image' % fname)\n",
      "/data/anaconda/envs/cropmask/lib/python3.7/site-packages/skimage/io/_io.py:141: UserWarning: /mnt/cropmaskperm/landsat-clear-scenes-2005/train/LT050320312005082801T1-SC20190418222350_tile_1536_2048/image/LT050320312005082801T1-SC20190418222350_tile_1536_2048.tif is a low contrast image\n",
      "  warn('%s is a low contrast image' % fname)\n",
      "/data/anaconda/envs/cropmask/lib/python3.7/site-packages/skimage/io/_io.py:141: UserWarning: /mnt/cropmaskperm/landsat-clear-scenes-2005/train/LT050320312005082801T1-SC20190418222350_tile_1536_2560/image/LT050320312005082801T1-SC20190418222350_tile_1536_2560.tif is a low contrast image\n",
      "  warn('%s is a low contrast image' % fname)\n",
      "/data/anaconda/envs/cropmask/lib/python3.7/site-packages/skimage/io/_io.py:141: UserWarning: /mnt/cropmaskperm/landsat-clear-scenes-2005/train/LT050320312005082801T1-SC20190418222350_tile_1536_3072/image/LT050320312005082801T1-SC20190418222350_tile_1536_3072.tif is a low contrast image\n",
      "  warn('%s is a low contrast image' % fname)\n",
      "/data/anaconda/envs/cropmask/lib/python3.7/site-packages/skimage/io/_io.py:141: UserWarning: /mnt/cropmaskperm/landsat-clear-scenes-2005/train/LT050320312005082801T1-SC20190418222350_tile_1536_3584/image/LT050320312005082801T1-SC20190418222350_tile_1536_3584.tif is a low contrast image\n",
      "  warn('%s is a low contrast image' % fname)\n",
      "/data/anaconda/envs/cropmask/lib/python3.7/site-packages/skimage/io/_io.py:141: UserWarning: /mnt/cropmaskperm/landsat-clear-scenes-2005/train/LT050320312005082801T1-SC20190418222350_tile_1536_4096/image/LT050320312005082801T1-SC20190418222350_tile_1536_4096.tif is a low contrast image\n",
      "  warn('%s is a low contrast image' % fname)\n",
      "/data/anaconda/envs/cropmask/lib/python3.7/site-packages/skimage/io/_io.py:141: UserWarning: /mnt/cropmaskperm/landsat-clear-scenes-2005/train/LT050320312005082801T1-SC20190418222350_tile_1536_4608/image/LT050320312005082801T1-SC20190418222350_tile_1536_4608.tif is a low contrast image\n",
      "  warn('%s is a low contrast image' % fname)\n",
      "/data/anaconda/envs/cropmask/lib/python3.7/site-packages/skimage/io/_io.py:141: UserWarning: /mnt/cropmaskperm/landsat-clear-scenes-2005/train/LT050320312005082801T1-SC20190418222350_tile_1536_512/image/LT050320312005082801T1-SC20190418222350_tile_1536_512.tif is a low contrast image\n",
      "  warn('%s is a low contrast image' % fname)\n",
      "/data/anaconda/envs/cropmask/lib/python3.7/site-packages/skimage/io/_io.py:141: UserWarning: /mnt/cropmaskperm/landsat-clear-scenes-2005/train/LT050320312005082801T1-SC20190418222350_tile_1536_5120/image/LT050320312005082801T1-SC20190418222350_tile_1536_5120.tif is a low contrast image\n",
      "  warn('%s is a low contrast image' % fname)\n",
      "/data/anaconda/envs/cropmask/lib/python3.7/site-packages/skimage/io/_io.py:141: UserWarning: /mnt/cropmaskperm/landsat-clear-scenes-2005/train/LT050320312005082801T1-SC20190418222350_tile_1536_5632/image/LT050320312005082801T1-SC20190418222350_tile_1536_5632.tif is a low contrast image\n",
      "  warn('%s is a low contrast image' % fname)\n",
      "/data/anaconda/envs/cropmask/lib/python3.7/site-packages/skimage/io/_io.py:141: UserWarning: /mnt/cropmaskperm/landsat-clear-scenes-2005/train/LT050320312005082801T1-SC20190418222350_tile_2048_0/image/LT050320312005082801T1-SC20190418222350_tile_2048_0.tif is a low contrast image\n",
      "  warn('%s is a low contrast image' % fname)\n"
     ]
    },
    {
     "name": "stdout",
     "output_type": "stream",
     "text": [
      "removed scene and label, 0.02% bad data\n"
     ]
    },
    {
     "name": "stderr",
     "output_type": "stream",
     "text": [
      "/data/anaconda/envs/cropmask/lib/python3.7/site-packages/skimage/io/_io.py:141: UserWarning: /mnt/cropmaskperm/landsat-clear-scenes-2005/train/LT050320312005082801T1-SC20190418222350_tile_2048_1024/image/LT050320312005082801T1-SC20190418222350_tile_2048_1024.tif is a low contrast image\n",
      "  warn('%s is a low contrast image' % fname)\n",
      "/data/anaconda/envs/cropmask/lib/python3.7/site-packages/skimage/io/_io.py:141: UserWarning: /mnt/cropmaskperm/landsat-clear-scenes-2005/train/LT050320312005082801T1-SC20190418222350_tile_2048_1536/image/LT050320312005082801T1-SC20190418222350_tile_2048_1536.tif is a low contrast image\n",
      "  warn('%s is a low contrast image' % fname)\n",
      "/data/anaconda/envs/cropmask/lib/python3.7/site-packages/skimage/io/_io.py:141: UserWarning: /mnt/cropmaskperm/landsat-clear-scenes-2005/train/LT050320312005082801T1-SC20190418222350_tile_2048_2048/image/LT050320312005082801T1-SC20190418222350_tile_2048_2048.tif is a low contrast image\n",
      "  warn('%s is a low contrast image' % fname)\n",
      "/data/anaconda/envs/cropmask/lib/python3.7/site-packages/skimage/io/_io.py:141: UserWarning: /mnt/cropmaskperm/landsat-clear-scenes-2005/train/LT050320312005082801T1-SC20190418222350_tile_2048_2560/image/LT050320312005082801T1-SC20190418222350_tile_2048_2560.tif is a low contrast image\n",
      "  warn('%s is a low contrast image' % fname)\n",
      "/data/anaconda/envs/cropmask/lib/python3.7/site-packages/skimage/io/_io.py:141: UserWarning: /mnt/cropmaskperm/landsat-clear-scenes-2005/train/LT050320312005082801T1-SC20190418222350_tile_2048_3072/image/LT050320312005082801T1-SC20190418222350_tile_2048_3072.tif is a low contrast image\n",
      "  warn('%s is a low contrast image' % fname)\n",
      "/data/anaconda/envs/cropmask/lib/python3.7/site-packages/skimage/io/_io.py:141: UserWarning: /mnt/cropmaskperm/landsat-clear-scenes-2005/train/LT050320312005082801T1-SC20190418222350_tile_2048_3584/image/LT050320312005082801T1-SC20190418222350_tile_2048_3584.tif is a low contrast image\n",
      "  warn('%s is a low contrast image' % fname)\n",
      "/data/anaconda/envs/cropmask/lib/python3.7/site-packages/skimage/io/_io.py:141: UserWarning: /mnt/cropmaskperm/landsat-clear-scenes-2005/train/LT050320312005082801T1-SC20190418222350_tile_2048_4096/image/LT050320312005082801T1-SC20190418222350_tile_2048_4096.tif is a low contrast image\n",
      "  warn('%s is a low contrast image' % fname)\n",
      "/data/anaconda/envs/cropmask/lib/python3.7/site-packages/skimage/io/_io.py:141: UserWarning: /mnt/cropmaskperm/landsat-clear-scenes-2005/train/LT050320312005082801T1-SC20190418222350_tile_2048_4608/image/LT050320312005082801T1-SC20190418222350_tile_2048_4608.tif is a low contrast image\n",
      "  warn('%s is a low contrast image' % fname)\n",
      "/data/anaconda/envs/cropmask/lib/python3.7/site-packages/skimage/io/_io.py:141: UserWarning: /mnt/cropmaskperm/landsat-clear-scenes-2005/train/LT050320312005082801T1-SC20190418222350_tile_2048_512/image/LT050320312005082801T1-SC20190418222350_tile_2048_512.tif is a low contrast image\n",
      "  warn('%s is a low contrast image' % fname)\n",
      "/data/anaconda/envs/cropmask/lib/python3.7/site-packages/skimage/io/_io.py:141: UserWarning: /mnt/cropmaskperm/landsat-clear-scenes-2005/train/LT050320312005082801T1-SC20190418222350_tile_2048_5120/image/LT050320312005082801T1-SC20190418222350_tile_2048_5120.tif is a low contrast image\n",
      "  warn('%s is a low contrast image' % fname)\n",
      "/data/anaconda/envs/cropmask/lib/python3.7/site-packages/skimage/io/_io.py:141: UserWarning: /mnt/cropmaskperm/landsat-clear-scenes-2005/train/LT050320312005082801T1-SC20190418222350_tile_2048_5632/image/LT050320312005082801T1-SC20190418222350_tile_2048_5632.tif is a low contrast image\n",
      "  warn('%s is a low contrast image' % fname)\n",
      "/data/anaconda/envs/cropmask/lib/python3.7/site-packages/skimage/io/_io.py:141: UserWarning: /mnt/cropmaskperm/landsat-clear-scenes-2005/train/LT050320312005082801T1-SC20190418222350_tile_2560_0/image/LT050320312005082801T1-SC20190418222350_tile_2560_0.tif is a low contrast image\n",
      "  warn('%s is a low contrast image' % fname)\n"
     ]
    },
    {
     "name": "stdout",
     "output_type": "stream",
     "text": [
      "removed scene and label, 0.02% bad data\n"
     ]
    },
    {
     "name": "stderr",
     "output_type": "stream",
     "text": [
      "/data/anaconda/envs/cropmask/lib/python3.7/site-packages/skimage/io/_io.py:141: UserWarning: /mnt/cropmaskperm/landsat-clear-scenes-2005/train/LT050320312005082801T1-SC20190418222350_tile_2560_1024/image/LT050320312005082801T1-SC20190418222350_tile_2560_1024.tif is a low contrast image\n",
      "  warn('%s is a low contrast image' % fname)\n",
      "/data/anaconda/envs/cropmask/lib/python3.7/site-packages/skimage/io/_io.py:141: UserWarning: /mnt/cropmaskperm/landsat-clear-scenes-2005/train/LT050320312005082801T1-SC20190418222350_tile_2560_1536/image/LT050320312005082801T1-SC20190418222350_tile_2560_1536.tif is a low contrast image\n",
      "  warn('%s is a low contrast image' % fname)\n",
      "/data/anaconda/envs/cropmask/lib/python3.7/site-packages/skimage/io/_io.py:141: UserWarning: /mnt/cropmaskperm/landsat-clear-scenes-2005/train/LT050320312005082801T1-SC20190418222350_tile_2560_2048/image/LT050320312005082801T1-SC20190418222350_tile_2560_2048.tif is a low contrast image\n",
      "  warn('%s is a low contrast image' % fname)\n",
      "/data/anaconda/envs/cropmask/lib/python3.7/site-packages/skimage/io/_io.py:141: UserWarning: /mnt/cropmaskperm/landsat-clear-scenes-2005/train/LT050320312005082801T1-SC20190418222350_tile_2560_2560/image/LT050320312005082801T1-SC20190418222350_tile_2560_2560.tif is a low contrast image\n",
      "  warn('%s is a low contrast image' % fname)\n",
      "/data/anaconda/envs/cropmask/lib/python3.7/site-packages/skimage/io/_io.py:141: UserWarning: /mnt/cropmaskperm/landsat-clear-scenes-2005/train/LT050320312005082801T1-SC20190418222350_tile_2560_3072/image/LT050320312005082801T1-SC20190418222350_tile_2560_3072.tif is a low contrast image\n",
      "  warn('%s is a low contrast image' % fname)\n",
      "/data/anaconda/envs/cropmask/lib/python3.7/site-packages/skimage/io/_io.py:141: UserWarning: /mnt/cropmaskperm/landsat-clear-scenes-2005/train/LT050320312005082801T1-SC20190418222350_tile_2560_3584/image/LT050320312005082801T1-SC20190418222350_tile_2560_3584.tif is a low contrast image\n",
      "  warn('%s is a low contrast image' % fname)\n",
      "/data/anaconda/envs/cropmask/lib/python3.7/site-packages/skimage/io/_io.py:141: UserWarning: /mnt/cropmaskperm/landsat-clear-scenes-2005/train/LT050320312005082801T1-SC20190418222350_tile_2560_4096/image/LT050320312005082801T1-SC20190418222350_tile_2560_4096.tif is a low contrast image\n",
      "  warn('%s is a low contrast image' % fname)\n",
      "/data/anaconda/envs/cropmask/lib/python3.7/site-packages/skimage/io/_io.py:141: UserWarning: /mnt/cropmaskperm/landsat-clear-scenes-2005/train/LT050320312005082801T1-SC20190418222350_tile_2560_4608/image/LT050320312005082801T1-SC20190418222350_tile_2560_4608.tif is a low contrast image\n",
      "  warn('%s is a low contrast image' % fname)\n",
      "/data/anaconda/envs/cropmask/lib/python3.7/site-packages/skimage/io/_io.py:141: UserWarning: /mnt/cropmaskperm/landsat-clear-scenes-2005/train/LT050320312005082801T1-SC20190418222350_tile_2560_512/image/LT050320312005082801T1-SC20190418222350_tile_2560_512.tif is a low contrast image\n",
      "  warn('%s is a low contrast image' % fname)\n",
      "/data/anaconda/envs/cropmask/lib/python3.7/site-packages/skimage/io/_io.py:141: UserWarning: /mnt/cropmaskperm/landsat-clear-scenes-2005/train/LT050320312005082801T1-SC20190418222350_tile_2560_5120/image/LT050320312005082801T1-SC20190418222350_tile_2560_5120.tif is a low contrast image\n",
      "  warn('%s is a low contrast image' % fname)\n",
      "/data/anaconda/envs/cropmask/lib/python3.7/site-packages/skimage/io/_io.py:141: UserWarning: /mnt/cropmaskperm/landsat-clear-scenes-2005/train/LT050320312005082801T1-SC20190418222350_tile_2560_5632/image/LT050320312005082801T1-SC20190418222350_tile_2560_5632.tif is a low contrast image\n",
      "  warn('%s is a low contrast image' % fname)\n",
      "/data/anaconda/envs/cropmask/lib/python3.7/site-packages/skimage/io/_io.py:141: UserWarning: /mnt/cropmaskperm/landsat-clear-scenes-2005/train/LT050320312005082801T1-SC20190418222350_tile_3072_0/image/LT050320312005082801T1-SC20190418222350_tile_3072_0.tif is a low contrast image\n",
      "  warn('%s is a low contrast image' % fname)\n"
     ]
    },
    {
     "name": "stdout",
     "output_type": "stream",
     "text": [
      "removed scene and label, 0.02% bad data\n"
     ]
    },
    {
     "name": "stderr",
     "output_type": "stream",
     "text": [
      "/data/anaconda/envs/cropmask/lib/python3.7/site-packages/skimage/io/_io.py:141: UserWarning: /mnt/cropmaskperm/landsat-clear-scenes-2005/train/LT050320312005082801T1-SC20190418222350_tile_3072_1024/image/LT050320312005082801T1-SC20190418222350_tile_3072_1024.tif is a low contrast image\n",
      "  warn('%s is a low contrast image' % fname)\n",
      "/data/anaconda/envs/cropmask/lib/python3.7/site-packages/skimage/io/_io.py:141: UserWarning: /mnt/cropmaskperm/landsat-clear-scenes-2005/train/LT050320312005082801T1-SC20190418222350_tile_3072_1536/image/LT050320312005082801T1-SC20190418222350_tile_3072_1536.tif is a low contrast image\n",
      "  warn('%s is a low contrast image' % fname)\n",
      "/data/anaconda/envs/cropmask/lib/python3.7/site-packages/skimage/io/_io.py:141: UserWarning: /mnt/cropmaskperm/landsat-clear-scenes-2005/train/LT050320312005082801T1-SC20190418222350_tile_3072_2048/image/LT050320312005082801T1-SC20190418222350_tile_3072_2048.tif is a low contrast image\n",
      "  warn('%s is a low contrast image' % fname)\n",
      "/data/anaconda/envs/cropmask/lib/python3.7/site-packages/skimage/io/_io.py:141: UserWarning: /mnt/cropmaskperm/landsat-clear-scenes-2005/train/LT050320312005082801T1-SC20190418222350_tile_3072_2560/image/LT050320312005082801T1-SC20190418222350_tile_3072_2560.tif is a low contrast image\n",
      "  warn('%s is a low contrast image' % fname)\n",
      "/data/anaconda/envs/cropmask/lib/python3.7/site-packages/skimage/io/_io.py:141: UserWarning: /mnt/cropmaskperm/landsat-clear-scenes-2005/train/LT050320312005082801T1-SC20190418222350_tile_3072_3072/image/LT050320312005082801T1-SC20190418222350_tile_3072_3072.tif is a low contrast image\n",
      "  warn('%s is a low contrast image' % fname)\n",
      "/data/anaconda/envs/cropmask/lib/python3.7/site-packages/skimage/io/_io.py:141: UserWarning: /mnt/cropmaskperm/landsat-clear-scenes-2005/train/LT050320312005082801T1-SC20190418222350_tile_3072_3584/image/LT050320312005082801T1-SC20190418222350_tile_3072_3584.tif is a low contrast image\n",
      "  warn('%s is a low contrast image' % fname)\n",
      "/data/anaconda/envs/cropmask/lib/python3.7/site-packages/skimage/io/_io.py:141: UserWarning: /mnt/cropmaskperm/landsat-clear-scenes-2005/train/LT050320312005082801T1-SC20190418222350_tile_3072_4096/image/LT050320312005082801T1-SC20190418222350_tile_3072_4096.tif is a low contrast image\n",
      "  warn('%s is a low contrast image' % fname)\n",
      "/data/anaconda/envs/cropmask/lib/python3.7/site-packages/skimage/io/_io.py:141: UserWarning: /mnt/cropmaskperm/landsat-clear-scenes-2005/train/LT050320312005082801T1-SC20190418222350_tile_3072_4608/image/LT050320312005082801T1-SC20190418222350_tile_3072_4608.tif is a low contrast image\n",
      "  warn('%s is a low contrast image' % fname)\n",
      "/data/anaconda/envs/cropmask/lib/python3.7/site-packages/skimage/io/_io.py:141: UserWarning: /mnt/cropmaskperm/landsat-clear-scenes-2005/train/LT050320312005082801T1-SC20190418222350_tile_3072_512/image/LT050320312005082801T1-SC20190418222350_tile_3072_512.tif is a low contrast image\n",
      "  warn('%s is a low contrast image' % fname)\n",
      "/data/anaconda/envs/cropmask/lib/python3.7/site-packages/skimage/io/_io.py:141: UserWarning: /mnt/cropmaskperm/landsat-clear-scenes-2005/train/LT050320312005082801T1-SC20190418222350_tile_3072_5120/image/LT050320312005082801T1-SC20190418222350_tile_3072_5120.tif is a low contrast image\n",
      "  warn('%s is a low contrast image' % fname)\n",
      "/data/anaconda/envs/cropmask/lib/python3.7/site-packages/skimage/io/_io.py:141: UserWarning: /mnt/cropmaskperm/landsat-clear-scenes-2005/train/LT050320312005082801T1-SC20190418222350_tile_3072_5632/image/LT050320312005082801T1-SC20190418222350_tile_3072_5632.tif is a low contrast image\n",
      "  warn('%s is a low contrast image' % fname)\n",
      "/data/anaconda/envs/cropmask/lib/python3.7/site-packages/skimage/io/_io.py:141: UserWarning: /mnt/cropmaskperm/landsat-clear-scenes-2005/train/LT050320312005082801T1-SC20190418222350_tile_3584_0/image/LT050320312005082801T1-SC20190418222350_tile_3584_0.tif is a low contrast image\n",
      "  warn('%s is a low contrast image' % fname)\n"
     ]
    },
    {
     "name": "stdout",
     "output_type": "stream",
     "text": [
      "removed scene and label, 0.02% bad data\n"
     ]
    },
    {
     "name": "stderr",
     "output_type": "stream",
     "text": [
      "/data/anaconda/envs/cropmask/lib/python3.7/site-packages/skimage/io/_io.py:141: UserWarning: /mnt/cropmaskperm/landsat-clear-scenes-2005/train/LT050320312005082801T1-SC20190418222350_tile_3584_1024/image/LT050320312005082801T1-SC20190418222350_tile_3584_1024.tif is a low contrast image\n",
      "  warn('%s is a low contrast image' % fname)\n",
      "/data/anaconda/envs/cropmask/lib/python3.7/site-packages/skimage/io/_io.py:141: UserWarning: /mnt/cropmaskperm/landsat-clear-scenes-2005/train/LT050320312005082801T1-SC20190418222350_tile_3584_1536/image/LT050320312005082801T1-SC20190418222350_tile_3584_1536.tif is a low contrast image\n",
      "  warn('%s is a low contrast image' % fname)\n",
      "/data/anaconda/envs/cropmask/lib/python3.7/site-packages/skimage/io/_io.py:141: UserWarning: /mnt/cropmaskperm/landsat-clear-scenes-2005/train/LT050320312005082801T1-SC20190418222350_tile_3584_2048/image/LT050320312005082801T1-SC20190418222350_tile_3584_2048.tif is a low contrast image\n",
      "  warn('%s is a low contrast image' % fname)\n",
      "/data/anaconda/envs/cropmask/lib/python3.7/site-packages/skimage/io/_io.py:141: UserWarning: /mnt/cropmaskperm/landsat-clear-scenes-2005/train/LT050320312005082801T1-SC20190418222350_tile_3584_2560/image/LT050320312005082801T1-SC20190418222350_tile_3584_2560.tif is a low contrast image\n",
      "  warn('%s is a low contrast image' % fname)\n",
      "/data/anaconda/envs/cropmask/lib/python3.7/site-packages/skimage/io/_io.py:141: UserWarning: /mnt/cropmaskperm/landsat-clear-scenes-2005/train/LT050320312005082801T1-SC20190418222350_tile_3584_3072/image/LT050320312005082801T1-SC20190418222350_tile_3584_3072.tif is a low contrast image\n",
      "  warn('%s is a low contrast image' % fname)\n",
      "/data/anaconda/envs/cropmask/lib/python3.7/site-packages/skimage/io/_io.py:141: UserWarning: /mnt/cropmaskperm/landsat-clear-scenes-2005/train/LT050320312005082801T1-SC20190418222350_tile_3584_3584/image/LT050320312005082801T1-SC20190418222350_tile_3584_3584.tif is a low contrast image\n",
      "  warn('%s is a low contrast image' % fname)\n",
      "/data/anaconda/envs/cropmask/lib/python3.7/site-packages/skimage/io/_io.py:141: UserWarning: /mnt/cropmaskperm/landsat-clear-scenes-2005/train/LT050320312005082801T1-SC20190418222350_tile_3584_4096/image/LT050320312005082801T1-SC20190418222350_tile_3584_4096.tif is a low contrast image\n",
      "  warn('%s is a low contrast image' % fname)\n",
      "/data/anaconda/envs/cropmask/lib/python3.7/site-packages/skimage/io/_io.py:141: UserWarning: /mnt/cropmaskperm/landsat-clear-scenes-2005/train/LT050320312005082801T1-SC20190418222350_tile_3584_4608/image/LT050320312005082801T1-SC20190418222350_tile_3584_4608.tif is a low contrast image\n",
      "  warn('%s is a low contrast image' % fname)\n",
      "/data/anaconda/envs/cropmask/lib/python3.7/site-packages/skimage/io/_io.py:141: UserWarning: /mnt/cropmaskperm/landsat-clear-scenes-2005/train/LT050320312005082801T1-SC20190418222350_tile_3584_512/image/LT050320312005082801T1-SC20190418222350_tile_3584_512.tif is a low contrast image\n",
      "  warn('%s is a low contrast image' % fname)\n",
      "/data/anaconda/envs/cropmask/lib/python3.7/site-packages/skimage/io/_io.py:141: UserWarning: /mnt/cropmaskperm/landsat-clear-scenes-2005/train/LT050320312005082801T1-SC20190418222350_tile_3584_5120/image/LT050320312005082801T1-SC20190418222350_tile_3584_5120.tif is a low contrast image\n",
      "  warn('%s is a low contrast image' % fname)\n",
      "/data/anaconda/envs/cropmask/lib/python3.7/site-packages/skimage/io/_io.py:141: UserWarning: /mnt/cropmaskperm/landsat-clear-scenes-2005/train/LT050320312005082801T1-SC20190418222350_tile_3584_5632/image/LT050320312005082801T1-SC20190418222350_tile_3584_5632.tif is a low contrast image\n",
      "  warn('%s is a low contrast image' % fname)\n",
      "/data/anaconda/envs/cropmask/lib/python3.7/site-packages/skimage/io/_io.py:141: UserWarning: /mnt/cropmaskperm/landsat-clear-scenes-2005/train/LT050320312005082801T1-SC20190418222350_tile_4096_0/image/LT050320312005082801T1-SC20190418222350_tile_4096_0.tif is a low contrast image\n",
      "  warn('%s is a low contrast image' % fname)\n"
     ]
    },
    {
     "name": "stdout",
     "output_type": "stream",
     "text": [
      "removed scene and label, 0.02% bad data\n"
     ]
    },
    {
     "name": "stderr",
     "output_type": "stream",
     "text": [
      "/data/anaconda/envs/cropmask/lib/python3.7/site-packages/skimage/io/_io.py:141: UserWarning: /mnt/cropmaskperm/landsat-clear-scenes-2005/train/LT050320312005082801T1-SC20190418222350_tile_4096_1024/image/LT050320312005082801T1-SC20190418222350_tile_4096_1024.tif is a low contrast image\n",
      "  warn('%s is a low contrast image' % fname)\n",
      "/data/anaconda/envs/cropmask/lib/python3.7/site-packages/skimage/io/_io.py:141: UserWarning: /mnt/cropmaskperm/landsat-clear-scenes-2005/train/LT050320312005082801T1-SC20190418222350_tile_4096_1536/image/LT050320312005082801T1-SC20190418222350_tile_4096_1536.tif is a low contrast image\n",
      "  warn('%s is a low contrast image' % fname)\n",
      "/data/anaconda/envs/cropmask/lib/python3.7/site-packages/skimage/io/_io.py:141: UserWarning: /mnt/cropmaskperm/landsat-clear-scenes-2005/train/LT050320312005082801T1-SC20190418222350_tile_4096_2048/image/LT050320312005082801T1-SC20190418222350_tile_4096_2048.tif is a low contrast image\n",
      "  warn('%s is a low contrast image' % fname)\n",
      "/data/anaconda/envs/cropmask/lib/python3.7/site-packages/skimage/io/_io.py:141: UserWarning: /mnt/cropmaskperm/landsat-clear-scenes-2005/train/LT050320312005082801T1-SC20190418222350_tile_4096_2560/image/LT050320312005082801T1-SC20190418222350_tile_4096_2560.tif is a low contrast image\n",
      "  warn('%s is a low contrast image' % fname)\n",
      "/data/anaconda/envs/cropmask/lib/python3.7/site-packages/skimage/io/_io.py:141: UserWarning: /mnt/cropmaskperm/landsat-clear-scenes-2005/train/LT050320312005082801T1-SC20190418222350_tile_4096_3072/image/LT050320312005082801T1-SC20190418222350_tile_4096_3072.tif is a low contrast image\n",
      "  warn('%s is a low contrast image' % fname)\n",
      "/data/anaconda/envs/cropmask/lib/python3.7/site-packages/skimage/io/_io.py:141: UserWarning: /mnt/cropmaskperm/landsat-clear-scenes-2005/train/LT050320312005082801T1-SC20190418222350_tile_4096_3584/image/LT050320312005082801T1-SC20190418222350_tile_4096_3584.tif is a low contrast image\n",
      "  warn('%s is a low contrast image' % fname)\n",
      "/data/anaconda/envs/cropmask/lib/python3.7/site-packages/skimage/io/_io.py:141: UserWarning: /mnt/cropmaskperm/landsat-clear-scenes-2005/train/LT050320312005082801T1-SC20190418222350_tile_4096_4096/image/LT050320312005082801T1-SC20190418222350_tile_4096_4096.tif is a low contrast image\n",
      "  warn('%s is a low contrast image' % fname)\n",
      "/data/anaconda/envs/cropmask/lib/python3.7/site-packages/skimage/io/_io.py:141: UserWarning: /mnt/cropmaskperm/landsat-clear-scenes-2005/train/LT050320312005082801T1-SC20190418222350_tile_4096_4608/image/LT050320312005082801T1-SC20190418222350_tile_4096_4608.tif is a low contrast image\n",
      "  warn('%s is a low contrast image' % fname)\n",
      "/data/anaconda/envs/cropmask/lib/python3.7/site-packages/skimage/io/_io.py:141: UserWarning: /mnt/cropmaskperm/landsat-clear-scenes-2005/train/LT050320312005082801T1-SC20190418222350_tile_4096_512/image/LT050320312005082801T1-SC20190418222350_tile_4096_512.tif is a low contrast image\n",
      "  warn('%s is a low contrast image' % fname)\n"
     ]
    },
    {
     "name": "stdout",
     "output_type": "stream",
     "text": [
      "removed scene and label, 0.02% bad data\n"
     ]
    },
    {
     "name": "stderr",
     "output_type": "stream",
     "text": [
      "/data/anaconda/envs/cropmask/lib/python3.7/site-packages/skimage/io/_io.py:141: UserWarning: /mnt/cropmaskperm/landsat-clear-scenes-2005/train/LT050320312005082801T1-SC20190418222350_tile_4096_5120/image/LT050320312005082801T1-SC20190418222350_tile_4096_5120.tif is a low contrast image\n",
      "  warn('%s is a low contrast image' % fname)\n",
      "/data/anaconda/envs/cropmask/lib/python3.7/site-packages/skimage/io/_io.py:141: UserWarning: /mnt/cropmaskperm/landsat-clear-scenes-2005/train/LT050320312005082801T1-SC20190418222350_tile_4096_5632/image/LT050320312005082801T1-SC20190418222350_tile_4096_5632.tif is a low contrast image\n",
      "  warn('%s is a low contrast image' % fname)\n",
      "/data/anaconda/envs/cropmask/lib/python3.7/site-packages/skimage/io/_io.py:141: UserWarning: /mnt/cropmaskperm/landsat-clear-scenes-2005/train/LT050320312005082801T1-SC20190418222350_tile_4608_0/image/LT050320312005082801T1-SC20190418222350_tile_4608_0.tif is a low contrast image\n",
      "  warn('%s is a low contrast image' % fname)\n"
     ]
    },
    {
     "name": "stdout",
     "output_type": "stream",
     "text": [
      "removed scene and label, 0.02% bad data\n"
     ]
    },
    {
     "name": "stderr",
     "output_type": "stream",
     "text": [
      "/data/anaconda/envs/cropmask/lib/python3.7/site-packages/skimage/io/_io.py:141: UserWarning: /mnt/cropmaskperm/landsat-clear-scenes-2005/train/LT050320312005082801T1-SC20190418222350_tile_4608_1024/image/LT050320312005082801T1-SC20190418222350_tile_4608_1024.tif is a low contrast image\n",
      "  warn('%s is a low contrast image' % fname)\n",
      "/data/anaconda/envs/cropmask/lib/python3.7/site-packages/skimage/io/_io.py:141: UserWarning: /mnt/cropmaskperm/landsat-clear-scenes-2005/train/LT050320312005082801T1-SC20190418222350_tile_4608_1536/image/LT050320312005082801T1-SC20190418222350_tile_4608_1536.tif is a low contrast image\n",
      "  warn('%s is a low contrast image' % fname)\n",
      "/data/anaconda/envs/cropmask/lib/python3.7/site-packages/skimage/io/_io.py:141: UserWarning: /mnt/cropmaskperm/landsat-clear-scenes-2005/train/LT050320312005082801T1-SC20190418222350_tile_4608_2048/image/LT050320312005082801T1-SC20190418222350_tile_4608_2048.tif is a low contrast image\n",
      "  warn('%s is a low contrast image' % fname)\n",
      "/data/anaconda/envs/cropmask/lib/python3.7/site-packages/skimage/io/_io.py:141: UserWarning: /mnt/cropmaskperm/landsat-clear-scenes-2005/train/LT050320312005082801T1-SC20190418222350_tile_4608_2560/image/LT050320312005082801T1-SC20190418222350_tile_4608_2560.tif is a low contrast image\n",
      "  warn('%s is a low contrast image' % fname)\n",
      "/data/anaconda/envs/cropmask/lib/python3.7/site-packages/skimage/io/_io.py:141: UserWarning: /mnt/cropmaskperm/landsat-clear-scenes-2005/train/LT050320312005082801T1-SC20190418222350_tile_4608_3072/image/LT050320312005082801T1-SC20190418222350_tile_4608_3072.tif is a low contrast image\n",
      "  warn('%s is a low contrast image' % fname)\n",
      "/data/anaconda/envs/cropmask/lib/python3.7/site-packages/skimage/io/_io.py:141: UserWarning: /mnt/cropmaskperm/landsat-clear-scenes-2005/train/LT050320312005082801T1-SC20190418222350_tile_4608_3584/image/LT050320312005082801T1-SC20190418222350_tile_4608_3584.tif is a low contrast image\n",
      "  warn('%s is a low contrast image' % fname)\n",
      "/data/anaconda/envs/cropmask/lib/python3.7/site-packages/skimage/io/_io.py:141: UserWarning: /mnt/cropmaskperm/landsat-clear-scenes-2005/train/LT050320312005082801T1-SC20190418222350_tile_4608_4096/image/LT050320312005082801T1-SC20190418222350_tile_4608_4096.tif is a low contrast image\n",
      "  warn('%s is a low contrast image' % fname)\n",
      "/data/anaconda/envs/cropmask/lib/python3.7/site-packages/skimage/io/_io.py:141: UserWarning: /mnt/cropmaskperm/landsat-clear-scenes-2005/train/LT050320312005082801T1-SC20190418222350_tile_4608_4608/image/LT050320312005082801T1-SC20190418222350_tile_4608_4608.tif is a low contrast image\n",
      "  warn('%s is a low contrast image' % fname)\n",
      "/data/anaconda/envs/cropmask/lib/python3.7/site-packages/skimage/io/_io.py:141: UserWarning: /mnt/cropmaskperm/landsat-clear-scenes-2005/train/LT050320312005082801T1-SC20190418222350_tile_4608_512/image/LT050320312005082801T1-SC20190418222350_tile_4608_512.tif is a low contrast image\n",
      "  warn('%s is a low contrast image' % fname)\n"
     ]
    },
    {
     "name": "stdout",
     "output_type": "stream",
     "text": [
      "removed scene and label, 0.02% bad data\n"
     ]
    },
    {
     "name": "stderr",
     "output_type": "stream",
     "text": [
      "/data/anaconda/envs/cropmask/lib/python3.7/site-packages/skimage/io/_io.py:141: UserWarning: /mnt/cropmaskperm/landsat-clear-scenes-2005/train/LT050320312005082801T1-SC20190418222350_tile_4608_5120/image/LT050320312005082801T1-SC20190418222350_tile_4608_5120.tif is a low contrast image\n",
      "  warn('%s is a low contrast image' % fname)\n",
      "/data/anaconda/envs/cropmask/lib/python3.7/site-packages/skimage/io/_io.py:141: UserWarning: /mnt/cropmaskperm/landsat-clear-scenes-2005/train/LT050320312005082801T1-SC20190418222350_tile_4608_5632/image/LT050320312005082801T1-SC20190418222350_tile_4608_5632.tif is a low contrast image\n",
      "  warn('%s is a low contrast image' % fname)\n",
      "/data/anaconda/envs/cropmask/lib/python3.7/site-packages/skimage/io/_io.py:141: UserWarning: /mnt/cropmaskperm/landsat-clear-scenes-2005/train/LT050320312005082801T1-SC20190418222350_tile_5120_0/image/LT050320312005082801T1-SC20190418222350_tile_5120_0.tif is a low contrast image\n",
      "  warn('%s is a low contrast image' % fname)\n"
     ]
    },
    {
     "name": "stdout",
     "output_type": "stream",
     "text": [
      "removed scene and label, 0.02% bad data\n"
     ]
    },
    {
     "name": "stderr",
     "output_type": "stream",
     "text": [
      "/data/anaconda/envs/cropmask/lib/python3.7/site-packages/skimage/io/_io.py:141: UserWarning: /mnt/cropmaskperm/landsat-clear-scenes-2005/train/LT050320312005082801T1-SC20190418222350_tile_5120_1024/image/LT050320312005082801T1-SC20190418222350_tile_5120_1024.tif is a low contrast image\n",
      "  warn('%s is a low contrast image' % fname)\n",
      "/data/anaconda/envs/cropmask/lib/python3.7/site-packages/skimage/io/_io.py:141: UserWarning: /mnt/cropmaskperm/landsat-clear-scenes-2005/train/LT050320312005082801T1-SC20190418222350_tile_5120_1536/image/LT050320312005082801T1-SC20190418222350_tile_5120_1536.tif is a low contrast image\n",
      "  warn('%s is a low contrast image' % fname)\n",
      "/data/anaconda/envs/cropmask/lib/python3.7/site-packages/skimage/io/_io.py:141: UserWarning: /mnt/cropmaskperm/landsat-clear-scenes-2005/train/LT050320312005082801T1-SC20190418222350_tile_5120_2048/image/LT050320312005082801T1-SC20190418222350_tile_5120_2048.tif is a low contrast image\n",
      "  warn('%s is a low contrast image' % fname)\n",
      "/data/anaconda/envs/cropmask/lib/python3.7/site-packages/skimage/io/_io.py:141: UserWarning: /mnt/cropmaskperm/landsat-clear-scenes-2005/train/LT050320312005082801T1-SC20190418222350_tile_5120_2560/image/LT050320312005082801T1-SC20190418222350_tile_5120_2560.tif is a low contrast image\n",
      "  warn('%s is a low contrast image' % fname)\n",
      "/data/anaconda/envs/cropmask/lib/python3.7/site-packages/skimage/io/_io.py:141: UserWarning: /mnt/cropmaskperm/landsat-clear-scenes-2005/train/LT050320312005082801T1-SC20190418222350_tile_5120_3072/image/LT050320312005082801T1-SC20190418222350_tile_5120_3072.tif is a low contrast image\n",
      "  warn('%s is a low contrast image' % fname)\n",
      "/data/anaconda/envs/cropmask/lib/python3.7/site-packages/skimage/io/_io.py:141: UserWarning: /mnt/cropmaskperm/landsat-clear-scenes-2005/train/LT050320312005082801T1-SC20190418222350_tile_5120_3584/image/LT050320312005082801T1-SC20190418222350_tile_5120_3584.tif is a low contrast image\n",
      "  warn('%s is a low contrast image' % fname)\n",
      "/data/anaconda/envs/cropmask/lib/python3.7/site-packages/skimage/io/_io.py:141: UserWarning: /mnt/cropmaskperm/landsat-clear-scenes-2005/train/LT050320312005082801T1-SC20190418222350_tile_5120_4096/image/LT050320312005082801T1-SC20190418222350_tile_5120_4096.tif is a low contrast image\n",
      "  warn('%s is a low contrast image' % fname)\n",
      "/data/anaconda/envs/cropmask/lib/python3.7/site-packages/skimage/io/_io.py:141: UserWarning: /mnt/cropmaskperm/landsat-clear-scenes-2005/train/LT050320312005082801T1-SC20190418222350_tile_5120_4608/image/LT050320312005082801T1-SC20190418222350_tile_5120_4608.tif is a low contrast image\n",
      "  warn('%s is a low contrast image' % fname)\n",
      "/data/anaconda/envs/cropmask/lib/python3.7/site-packages/skimage/io/_io.py:141: UserWarning: /mnt/cropmaskperm/landsat-clear-scenes-2005/train/LT050320312005082801T1-SC20190418222350_tile_5120_512/image/LT050320312005082801T1-SC20190418222350_tile_5120_512.tif is a low contrast image\n",
      "  warn('%s is a low contrast image' % fname)\n"
     ]
    },
    {
     "name": "stdout",
     "output_type": "stream",
     "text": [
      "removed scene and label, 0.02% bad data\n"
     ]
    },
    {
     "name": "stderr",
     "output_type": "stream",
     "text": [
      "/data/anaconda/envs/cropmask/lib/python3.7/site-packages/skimage/io/_io.py:141: UserWarning: /mnt/cropmaskperm/landsat-clear-scenes-2005/train/LT050320312005082801T1-SC20190418222350_tile_5120_5120/image/LT050320312005082801T1-SC20190418222350_tile_5120_5120.tif is a low contrast image\n",
      "  warn('%s is a low contrast image' % fname)\n",
      "/data/anaconda/envs/cropmask/lib/python3.7/site-packages/skimage/io/_io.py:141: UserWarning: /mnt/cropmaskperm/landsat-clear-scenes-2005/train/LT050320312005082801T1-SC20190418222350_tile_5120_5632/image/LT050320312005082801T1-SC20190418222350_tile_5120_5632.tif is a low contrast image\n",
      "  warn('%s is a low contrast image' % fname)\n",
      "/data/anaconda/envs/cropmask/lib/python3.7/site-packages/skimage/io/_io.py:141: UserWarning: /mnt/cropmaskperm/landsat-clear-scenes-2005/train/LT050320312005082801T1-SC20190418222350_tile_5120_6144/image/LT050320312005082801T1-SC20190418222350_tile_5120_6144.tif is a low contrast image\n",
      "  warn('%s is a low contrast image' % fname)\n",
      "/data/anaconda/envs/cropmask/lib/python3.7/site-packages/skimage/io/_io.py:141: UserWarning: /mnt/cropmaskperm/landsat-clear-scenes-2005/train/LT050320312005082801T1-SC20190418222350_tile_5120_6656/image/LT050320312005082801T1-SC20190418222350_tile_5120_6656.tif is a low contrast image\n",
      "  warn('%s is a low contrast image' % fname)\n"
     ]
    },
    {
     "name": "stdout",
     "output_type": "stream",
     "text": [
      "removed scene and label, 0.02% bad data\n"
     ]
    },
    {
     "name": "stderr",
     "output_type": "stream",
     "text": [
      "/data/anaconda/envs/cropmask/lib/python3.7/site-packages/skimage/io/_io.py:141: UserWarning: /mnt/cropmaskperm/landsat-clear-scenes-2005/train/LT050320312005082801T1-SC20190418222350_tile_512_0/image/LT050320312005082801T1-SC20190418222350_tile_512_0.tif is a low contrast image\n",
      "  warn('%s is a low contrast image' % fname)\n"
     ]
    },
    {
     "name": "stdout",
     "output_type": "stream",
     "text": [
      "removed scene and label, 0.02% bad data\n"
     ]
    },
    {
     "name": "stderr",
     "output_type": "stream",
     "text": [
      "/data/anaconda/envs/cropmask/lib/python3.7/site-packages/skimage/io/_io.py:141: UserWarning: /mnt/cropmaskperm/landsat-clear-scenes-2005/train/LT050320312005082801T1-SC20190418222350_tile_512_1024/image/LT050320312005082801T1-SC20190418222350_tile_512_1024.tif is a low contrast image\n",
      "  warn('%s is a low contrast image' % fname)\n"
     ]
    },
    {
     "name": "stdout",
     "output_type": "stream",
     "text": [
      "removed scene and label, 0.02% bad data\n"
     ]
    },
    {
     "name": "stderr",
     "output_type": "stream",
     "text": [
      "/data/anaconda/envs/cropmask/lib/python3.7/site-packages/skimage/io/_io.py:141: UserWarning: /mnt/cropmaskperm/landsat-clear-scenes-2005/train/LT050320312005082801T1-SC20190418222350_tile_512_1536/image/LT050320312005082801T1-SC20190418222350_tile_512_1536.tif is a low contrast image\n",
      "  warn('%s is a low contrast image' % fname)\n"
     ]
    },
    {
     "name": "stdout",
     "output_type": "stream",
     "text": [
      "removed scene and label, 0.02% bad data\n"
     ]
    },
    {
     "name": "stderr",
     "output_type": "stream",
     "text": [
      "/data/anaconda/envs/cropmask/lib/python3.7/site-packages/skimage/io/_io.py:141: UserWarning: /mnt/cropmaskperm/landsat-clear-scenes-2005/train/LT050320312005082801T1-SC20190418222350_tile_512_2048/image/LT050320312005082801T1-SC20190418222350_tile_512_2048.tif is a low contrast image\n",
      "  warn('%s is a low contrast image' % fname)\n"
     ]
    },
    {
     "name": "stdout",
     "output_type": "stream",
     "text": [
      "removed scene and label, 0.02% bad data\n"
     ]
    },
    {
     "name": "stderr",
     "output_type": "stream",
     "text": [
      "/data/anaconda/envs/cropmask/lib/python3.7/site-packages/skimage/io/_io.py:141: UserWarning: /mnt/cropmaskperm/landsat-clear-scenes-2005/train/LT050320312005082801T1-SC20190418222350_tile_512_2560/image/LT050320312005082801T1-SC20190418222350_tile_512_2560.tif is a low contrast image\n",
      "  warn('%s is a low contrast image' % fname)\n"
     ]
    },
    {
     "name": "stdout",
     "output_type": "stream",
     "text": [
      "removed scene and label, 0.02% bad data\n"
     ]
    },
    {
     "name": "stderr",
     "output_type": "stream",
     "text": [
      "/data/anaconda/envs/cropmask/lib/python3.7/site-packages/skimage/io/_io.py:141: UserWarning: /mnt/cropmaskperm/landsat-clear-scenes-2005/train/LT050320312005082801T1-SC20190418222350_tile_512_3072/image/LT050320312005082801T1-SC20190418222350_tile_512_3072.tif is a low contrast image\n",
      "  warn('%s is a low contrast image' % fname)\n"
     ]
    },
    {
     "name": "stdout",
     "output_type": "stream",
     "text": [
      "removed scene and label, 0.02% bad data\n"
     ]
    },
    {
     "name": "stderr",
     "output_type": "stream",
     "text": [
      "/data/anaconda/envs/cropmask/lib/python3.7/site-packages/skimage/io/_io.py:141: UserWarning: /mnt/cropmaskperm/landsat-clear-scenes-2005/train/LT050320312005082801T1-SC20190418222350_tile_512_3584/image/LT050320312005082801T1-SC20190418222350_tile_512_3584.tif is a low contrast image\n",
      "  warn('%s is a low contrast image' % fname)\n"
     ]
    },
    {
     "name": "stdout",
     "output_type": "stream",
     "text": [
      "removed scene and label, 0.02% bad data\n"
     ]
    },
    {
     "name": "stderr",
     "output_type": "stream",
     "text": [
      "/data/anaconda/envs/cropmask/lib/python3.7/site-packages/skimage/io/_io.py:141: UserWarning: /mnt/cropmaskperm/landsat-clear-scenes-2005/train/LT050320312005082801T1-SC20190418222350_tile_512_4096/image/LT050320312005082801T1-SC20190418222350_tile_512_4096.tif is a low contrast image\n",
      "  warn('%s is a low contrast image' % fname)\n"
     ]
    },
    {
     "name": "stdout",
     "output_type": "stream",
     "text": [
      "removed scene and label, 0.02% bad data\n"
     ]
    },
    {
     "name": "stderr",
     "output_type": "stream",
     "text": [
      "/data/anaconda/envs/cropmask/lib/python3.7/site-packages/skimage/io/_io.py:141: UserWarning: /mnt/cropmaskperm/landsat-clear-scenes-2005/train/LT050320312005082801T1-SC20190418222350_tile_512_4608/image/LT050320312005082801T1-SC20190418222350_tile_512_4608.tif is a low contrast image\n",
      "  warn('%s is a low contrast image' % fname)\n",
      "/data/anaconda/envs/cropmask/lib/python3.7/site-packages/skimage/io/_io.py:141: UserWarning: /mnt/cropmaskperm/landsat-clear-scenes-2005/train/LT050320312005082801T1-SC20190418222350_tile_512_512/image/LT050320312005082801T1-SC20190418222350_tile_512_512.tif is a low contrast image\n",
      "  warn('%s is a low contrast image' % fname)\n"
     ]
    },
    {
     "name": "stdout",
     "output_type": "stream",
     "text": [
      "removed scene and label, 0.02% bad data\n"
     ]
    },
    {
     "name": "stderr",
     "output_type": "stream",
     "text": [
      "/data/anaconda/envs/cropmask/lib/python3.7/site-packages/skimage/io/_io.py:141: UserWarning: /mnt/cropmaskperm/landsat-clear-scenes-2005/train/LT050320312005082801T1-SC20190418222350_tile_512_5120/image/LT050320312005082801T1-SC20190418222350_tile_512_5120.tif is a low contrast image\n",
      "  warn('%s is a low contrast image' % fname)\n",
      "/data/anaconda/envs/cropmask/lib/python3.7/site-packages/skimage/io/_io.py:141: UserWarning: /mnt/cropmaskperm/landsat-clear-scenes-2005/train/LT050320312005082801T1-SC20190418222350_tile_512_5632/image/LT050320312005082801T1-SC20190418222350_tile_512_5632.tif is a low contrast image\n",
      "  warn('%s is a low contrast image' % fname)\n"
     ]
    },
    {
     "name": "stdout",
     "output_type": "stream",
     "text": [
      "removed scene and label, 0.02% bad data\n"
     ]
    },
    {
     "name": "stderr",
     "output_type": "stream",
     "text": [
      "/data/anaconda/envs/cropmask/lib/python3.7/site-packages/skimage/io/_io.py:141: UserWarning: /mnt/cropmaskperm/landsat-clear-scenes-2005/train/LT050320312005082801T1-SC20190418222350_tile_5632_0/image/LT050320312005082801T1-SC20190418222350_tile_5632_0.tif is a low contrast image\n",
      "  warn('%s is a low contrast image' % fname)\n"
     ]
    },
    {
     "name": "stdout",
     "output_type": "stream",
     "text": [
      "removed scene and label, 0.02% bad data\n"
     ]
    },
    {
     "name": "stderr",
     "output_type": "stream",
     "text": [
      "/data/anaconda/envs/cropmask/lib/python3.7/site-packages/skimage/io/_io.py:141: UserWarning: /mnt/cropmaskperm/landsat-clear-scenes-2005/train/LT050320312005082801T1-SC20190418222350_tile_5632_1024/image/LT050320312005082801T1-SC20190418222350_tile_5632_1024.tif is a low contrast image\n",
      "  warn('%s is a low contrast image' % fname)\n",
      "/data/anaconda/envs/cropmask/lib/python3.7/site-packages/skimage/io/_io.py:141: UserWarning: /mnt/cropmaskperm/landsat-clear-scenes-2005/train/LT050320312005082801T1-SC20190418222350_tile_5632_1536/image/LT050320312005082801T1-SC20190418222350_tile_5632_1536.tif is a low contrast image\n",
      "  warn('%s is a low contrast image' % fname)\n",
      "/data/anaconda/envs/cropmask/lib/python3.7/site-packages/skimage/io/_io.py:141: UserWarning: /mnt/cropmaskperm/landsat-clear-scenes-2005/train/LT050320312005082801T1-SC20190418222350_tile_5632_2048/image/LT050320312005082801T1-SC20190418222350_tile_5632_2048.tif is a low contrast image\n",
      "  warn('%s is a low contrast image' % fname)\n",
      "/data/anaconda/envs/cropmask/lib/python3.7/site-packages/skimage/io/_io.py:141: UserWarning: /mnt/cropmaskperm/landsat-clear-scenes-2005/train/LT050320312005082801T1-SC20190418222350_tile_5632_2560/image/LT050320312005082801T1-SC20190418222350_tile_5632_2560.tif is a low contrast image\n",
      "  warn('%s is a low contrast image' % fname)\n",
      "/data/anaconda/envs/cropmask/lib/python3.7/site-packages/skimage/io/_io.py:141: UserWarning: /mnt/cropmaskperm/landsat-clear-scenes-2005/train/LT050320312005082801T1-SC20190418222350_tile_5632_3072/image/LT050320312005082801T1-SC20190418222350_tile_5632_3072.tif is a low contrast image\n",
      "  warn('%s is a low contrast image' % fname)\n",
      "/data/anaconda/envs/cropmask/lib/python3.7/site-packages/skimage/io/_io.py:141: UserWarning: /mnt/cropmaskperm/landsat-clear-scenes-2005/train/LT050320312005082801T1-SC20190418222350_tile_5632_3584/image/LT050320312005082801T1-SC20190418222350_tile_5632_3584.tif is a low contrast image\n",
      "  warn('%s is a low contrast image' % fname)\n",
      "/data/anaconda/envs/cropmask/lib/python3.7/site-packages/skimage/io/_io.py:141: UserWarning: /mnt/cropmaskperm/landsat-clear-scenes-2005/train/LT050320312005082801T1-SC20190418222350_tile_5632_4096/image/LT050320312005082801T1-SC20190418222350_tile_5632_4096.tif is a low contrast image\n",
      "  warn('%s is a low contrast image' % fname)\n",
      "/data/anaconda/envs/cropmask/lib/python3.7/site-packages/skimage/io/_io.py:141: UserWarning: /mnt/cropmaskperm/landsat-clear-scenes-2005/train/LT050320312005082801T1-SC20190418222350_tile_5632_4608/image/LT050320312005082801T1-SC20190418222350_tile_5632_4608.tif is a low contrast image\n",
      "  warn('%s is a low contrast image' % fname)\n",
      "/data/anaconda/envs/cropmask/lib/python3.7/site-packages/skimage/io/_io.py:141: UserWarning: /mnt/cropmaskperm/landsat-clear-scenes-2005/train/LT050320312005082801T1-SC20190418222350_tile_5632_512/image/LT050320312005082801T1-SC20190418222350_tile_5632_512.tif is a low contrast image\n",
      "  warn('%s is a low contrast image' % fname)\n"
     ]
    },
    {
     "name": "stdout",
     "output_type": "stream",
     "text": [
      "removed scene and label, 0.02% bad data\n"
     ]
    },
    {
     "name": "stderr",
     "output_type": "stream",
     "text": [
      "/data/anaconda/envs/cropmask/lib/python3.7/site-packages/skimage/io/_io.py:141: UserWarning: /mnt/cropmaskperm/landsat-clear-scenes-2005/train/LT050320312005082801T1-SC20190418222350_tile_5632_5120/image/LT050320312005082801T1-SC20190418222350_tile_5632_5120.tif is a low contrast image\n",
      "  warn('%s is a low contrast image' % fname)\n",
      "/data/anaconda/envs/cropmask/lib/python3.7/site-packages/skimage/io/_io.py:141: UserWarning: /mnt/cropmaskperm/landsat-clear-scenes-2005/train/LT050320312005082801T1-SC20190418222350_tile_5632_5632/image/LT050320312005082801T1-SC20190418222350_tile_5632_5632.tif is a low contrast image\n",
      "  warn('%s is a low contrast image' % fname)\n",
      "/data/anaconda/envs/cropmask/lib/python3.7/site-packages/skimage/io/_io.py:141: UserWarning: /mnt/cropmaskperm/landsat-clear-scenes-2005/train/LT050320312005082801T1-SC20190418222350_tile_5632_6144/image/LT050320312005082801T1-SC20190418222350_tile_5632_6144.tif is a low contrast image\n",
      "  warn('%s is a low contrast image' % fname)\n",
      "/data/anaconda/envs/cropmask/lib/python3.7/site-packages/skimage/io/_io.py:141: UserWarning: /mnt/cropmaskperm/landsat-clear-scenes-2005/train/LT050320312005082801T1-SC20190418222350_tile_5632_6656/image/LT050320312005082801T1-SC20190418222350_tile_5632_6656.tif is a low contrast image\n",
      "  warn('%s is a low contrast image' % fname)\n"
     ]
    },
    {
     "name": "stdout",
     "output_type": "stream",
     "text": [
      "removed scene and label, 0.02% bad data\n"
     ]
    },
    {
     "name": "stderr",
     "output_type": "stream",
     "text": [
      "/data/anaconda/envs/cropmask/lib/python3.7/site-packages/skimage/io/_io.py:141: UserWarning: /mnt/cropmaskperm/landsat-clear-scenes-2005/train/LT050320312005082801T1-SC20190418222350_tile_6144_0/image/LT050320312005082801T1-SC20190418222350_tile_6144_0.tif is a low contrast image\n",
      "  warn('%s is a low contrast image' % fname)\n"
     ]
    },
    {
     "name": "stdout",
     "output_type": "stream",
     "text": [
      "removed scene and label, 0.02% bad data\n"
     ]
    },
    {
     "name": "stderr",
     "output_type": "stream",
     "text": [
      "/data/anaconda/envs/cropmask/lib/python3.7/site-packages/skimage/io/_io.py:141: UserWarning: /mnt/cropmaskperm/landsat-clear-scenes-2005/train/LT050320312005082801T1-SC20190418222350_tile_6144_1024/image/LT050320312005082801T1-SC20190418222350_tile_6144_1024.tif is a low contrast image\n",
      "  warn('%s is a low contrast image' % fname)\n",
      "/data/anaconda/envs/cropmask/lib/python3.7/site-packages/skimage/io/_io.py:141: UserWarning: /mnt/cropmaskperm/landsat-clear-scenes-2005/train/LT050320312005082801T1-SC20190418222350_tile_6144_1536/image/LT050320312005082801T1-SC20190418222350_tile_6144_1536.tif is a low contrast image\n",
      "  warn('%s is a low contrast image' % fname)\n",
      "/data/anaconda/envs/cropmask/lib/python3.7/site-packages/skimage/io/_io.py:141: UserWarning: /mnt/cropmaskperm/landsat-clear-scenes-2005/train/LT050320312005082801T1-SC20190418222350_tile_6144_2048/image/LT050320312005082801T1-SC20190418222350_tile_6144_2048.tif is a low contrast image\n",
      "  warn('%s is a low contrast image' % fname)\n",
      "/data/anaconda/envs/cropmask/lib/python3.7/site-packages/skimage/io/_io.py:141: UserWarning: /mnt/cropmaskperm/landsat-clear-scenes-2005/train/LT050320312005082801T1-SC20190418222350_tile_6144_2560/image/LT050320312005082801T1-SC20190418222350_tile_6144_2560.tif is a low contrast image\n",
      "  warn('%s is a low contrast image' % fname)\n",
      "/data/anaconda/envs/cropmask/lib/python3.7/site-packages/skimage/io/_io.py:141: UserWarning: /mnt/cropmaskperm/landsat-clear-scenes-2005/train/LT050320312005082801T1-SC20190418222350_tile_6144_3072/image/LT050320312005082801T1-SC20190418222350_tile_6144_3072.tif is a low contrast image\n",
      "  warn('%s is a low contrast image' % fname)\n",
      "/data/anaconda/envs/cropmask/lib/python3.7/site-packages/skimage/io/_io.py:141: UserWarning: /mnt/cropmaskperm/landsat-clear-scenes-2005/train/LT050320312005082801T1-SC20190418222350_tile_6144_3584/image/LT050320312005082801T1-SC20190418222350_tile_6144_3584.tif is a low contrast image\n",
      "  warn('%s is a low contrast image' % fname)\n",
      "/data/anaconda/envs/cropmask/lib/python3.7/site-packages/skimage/io/_io.py:141: UserWarning: /mnt/cropmaskperm/landsat-clear-scenes-2005/train/LT050320312005082801T1-SC20190418222350_tile_6144_4096/image/LT050320312005082801T1-SC20190418222350_tile_6144_4096.tif is a low contrast image\n",
      "  warn('%s is a low contrast image' % fname)\n",
      "/data/anaconda/envs/cropmask/lib/python3.7/site-packages/skimage/io/_io.py:141: UserWarning: /mnt/cropmaskperm/landsat-clear-scenes-2005/train/LT050320312005082801T1-SC20190418222350_tile_6144_4608/image/LT050320312005082801T1-SC20190418222350_tile_6144_4608.tif is a low contrast image\n",
      "  warn('%s is a low contrast image' % fname)\n",
      "/data/anaconda/envs/cropmask/lib/python3.7/site-packages/skimage/io/_io.py:141: UserWarning: /mnt/cropmaskperm/landsat-clear-scenes-2005/train/LT050320312005082801T1-SC20190418222350_tile_6144_512/image/LT050320312005082801T1-SC20190418222350_tile_6144_512.tif is a low contrast image\n",
      "  warn('%s is a low contrast image' % fname)\n"
     ]
    },
    {
     "name": "stdout",
     "output_type": "stream",
     "text": [
      "removed scene and label, 0.02% bad data\n"
     ]
    },
    {
     "name": "stderr",
     "output_type": "stream",
     "text": [
      "/data/anaconda/envs/cropmask/lib/python3.7/site-packages/skimage/io/_io.py:141: UserWarning: /mnt/cropmaskperm/landsat-clear-scenes-2005/train/LT050320312005082801T1-SC20190418222350_tile_6144_5120/image/LT050320312005082801T1-SC20190418222350_tile_6144_5120.tif is a low contrast image\n",
      "  warn('%s is a low contrast image' % fname)\n",
      "/data/anaconda/envs/cropmask/lib/python3.7/site-packages/skimage/io/_io.py:141: UserWarning: /mnt/cropmaskperm/landsat-clear-scenes-2005/train/LT050320312005082801T1-SC20190418222350_tile_6144_5632/image/LT050320312005082801T1-SC20190418222350_tile_6144_5632.tif is a low contrast image\n",
      "  warn('%s is a low contrast image' % fname)\n"
     ]
    },
    {
     "name": "stdout",
     "output_type": "stream",
     "text": [
      "removed scene and label, 0.02% bad data\n"
     ]
    },
    {
     "name": "stderr",
     "output_type": "stream",
     "text": [
      "/data/anaconda/envs/cropmask/lib/python3.7/site-packages/skimage/io/_io.py:141: UserWarning: /mnt/cropmaskperm/landsat-clear-scenes-2005/train/LT050320312005082801T1-SC20190418222350_tile_6144_6144/image/LT050320312005082801T1-SC20190418222350_tile_6144_6144.tif is a low contrast image\n",
      "  warn('%s is a low contrast image' % fname)\n"
     ]
    },
    {
     "name": "stdout",
     "output_type": "stream",
     "text": [
      "removed scene and label, 0.02% bad data\n"
     ]
    },
    {
     "name": "stderr",
     "output_type": "stream",
     "text": [
      "/data/anaconda/envs/cropmask/lib/python3.7/site-packages/skimage/io/_io.py:141: UserWarning: /mnt/cropmaskperm/landsat-clear-scenes-2005/train/LT050320312005082801T1-SC20190418222350_tile_6144_6656/image/LT050320312005082801T1-SC20190418222350_tile_6144_6656.tif is a low contrast image\n",
      "  warn('%s is a low contrast image' % fname)\n"
     ]
    },
    {
     "name": "stdout",
     "output_type": "stream",
     "text": [
      "removed scene and label, 0.02% bad data\n"
     ]
    },
    {
     "name": "stderr",
     "output_type": "stream",
     "text": [
      "/data/anaconda/envs/cropmask/lib/python3.7/site-packages/skimage/io/_io.py:141: UserWarning: /mnt/cropmaskperm/landsat-clear-scenes-2005/train/LT050320312005082801T1-SC20190418222350_tile_6656_0/image/LT050320312005082801T1-SC20190418222350_tile_6656_0.tif is a low contrast image\n",
      "  warn('%s is a low contrast image' % fname)\n"
     ]
    },
    {
     "name": "stdout",
     "output_type": "stream",
     "text": [
      "removed scene and label, 0.02% bad data\n"
     ]
    },
    {
     "name": "stderr",
     "output_type": "stream",
     "text": [
      "/data/anaconda/envs/cropmask/lib/python3.7/site-packages/skimage/io/_io.py:141: UserWarning: /mnt/cropmaskperm/landsat-clear-scenes-2005/train/LT050320312005082801T1-SC20190418222350_tile_6656_1024/image/LT050320312005082801T1-SC20190418222350_tile_6656_1024.tif is a low contrast image\n",
      "  warn('%s is a low contrast image' % fname)\n",
      "/data/anaconda/envs/cropmask/lib/python3.7/site-packages/skimage/io/_io.py:141: UserWarning: /mnt/cropmaskperm/landsat-clear-scenes-2005/train/LT050320312005082801T1-SC20190418222350_tile_6656_1536/image/LT050320312005082801T1-SC20190418222350_tile_6656_1536.tif is a low contrast image\n",
      "  warn('%s is a low contrast image' % fname)\n",
      "/data/anaconda/envs/cropmask/lib/python3.7/site-packages/skimage/io/_io.py:141: UserWarning: /mnt/cropmaskperm/landsat-clear-scenes-2005/train/LT050320312005082801T1-SC20190418222350_tile_6656_2048/image/LT050320312005082801T1-SC20190418222350_tile_6656_2048.tif is a low contrast image\n",
      "  warn('%s is a low contrast image' % fname)\n",
      "/data/anaconda/envs/cropmask/lib/python3.7/site-packages/skimage/io/_io.py:141: UserWarning: /mnt/cropmaskperm/landsat-clear-scenes-2005/train/LT050320312005082801T1-SC20190418222350_tile_6656_2560/image/LT050320312005082801T1-SC20190418222350_tile_6656_2560.tif is a low contrast image\n",
      "  warn('%s is a low contrast image' % fname)\n",
      "/data/anaconda/envs/cropmask/lib/python3.7/site-packages/skimage/io/_io.py:141: UserWarning: /mnt/cropmaskperm/landsat-clear-scenes-2005/train/LT050320312005082801T1-SC20190418222350_tile_6656_3072/image/LT050320312005082801T1-SC20190418222350_tile_6656_3072.tif is a low contrast image\n",
      "  warn('%s is a low contrast image' % fname)\n"
     ]
    },
    {
     "name": "stdout",
     "output_type": "stream",
     "text": [
      "removed scene and label, 0.02% bad data\n"
     ]
    },
    {
     "name": "stderr",
     "output_type": "stream",
     "text": [
      "/data/anaconda/envs/cropmask/lib/python3.7/site-packages/skimage/io/_io.py:141: UserWarning: /mnt/cropmaskperm/landsat-clear-scenes-2005/train/LT050320312005082801T1-SC20190418222350_tile_6656_3584/image/LT050320312005082801T1-SC20190418222350_tile_6656_3584.tif is a low contrast image\n",
      "  warn('%s is a low contrast image' % fname)\n"
     ]
    },
    {
     "name": "stdout",
     "output_type": "stream",
     "text": [
      "removed scene and label, 0.02% bad data\n"
     ]
    },
    {
     "name": "stderr",
     "output_type": "stream",
     "text": [
      "/data/anaconda/envs/cropmask/lib/python3.7/site-packages/skimage/io/_io.py:141: UserWarning: /mnt/cropmaskperm/landsat-clear-scenes-2005/train/LT050320312005082801T1-SC20190418222350_tile_6656_4096/image/LT050320312005082801T1-SC20190418222350_tile_6656_4096.tif is a low contrast image\n",
      "  warn('%s is a low contrast image' % fname)\n"
     ]
    },
    {
     "name": "stdout",
     "output_type": "stream",
     "text": [
      "removed scene and label, 0.02% bad data\n"
     ]
    },
    {
     "name": "stderr",
     "output_type": "stream",
     "text": [
      "/data/anaconda/envs/cropmask/lib/python3.7/site-packages/skimage/io/_io.py:141: UserWarning: /mnt/cropmaskperm/landsat-clear-scenes-2005/train/LT050320312005082801T1-SC20190418222350_tile_6656_4608/image/LT050320312005082801T1-SC20190418222350_tile_6656_4608.tif is a low contrast image\n",
      "  warn('%s is a low contrast image' % fname)\n"
     ]
    },
    {
     "name": "stdout",
     "output_type": "stream",
     "text": [
      "removed scene and label, 0.02% bad data\n"
     ]
    },
    {
     "name": "stderr",
     "output_type": "stream",
     "text": [
      "/data/anaconda/envs/cropmask/lib/python3.7/site-packages/skimage/io/_io.py:141: UserWarning: /mnt/cropmaskperm/landsat-clear-scenes-2005/train/LT050320312005082801T1-SC20190418222350_tile_6656_512/image/LT050320312005082801T1-SC20190418222350_tile_6656_512.tif is a low contrast image\n",
      "  warn('%s is a low contrast image' % fname)\n"
     ]
    },
    {
     "name": "stdout",
     "output_type": "stream",
     "text": [
      "removed scene and label, 0.02% bad data\n"
     ]
    },
    {
     "name": "stderr",
     "output_type": "stream",
     "text": [
      "/data/anaconda/envs/cropmask/lib/python3.7/site-packages/skimage/io/_io.py:141: UserWarning: /mnt/cropmaskperm/landsat-clear-scenes-2005/train/LT050320312005082801T1-SC20190418222350_tile_6656_5120/image/LT050320312005082801T1-SC20190418222350_tile_6656_5120.tif is a low contrast image\n",
      "  warn('%s is a low contrast image' % fname)\n"
     ]
    },
    {
     "name": "stdout",
     "output_type": "stream",
     "text": [
      "removed scene and label, 0.02% bad data\n"
     ]
    },
    {
     "name": "stderr",
     "output_type": "stream",
     "text": [
      "/data/anaconda/envs/cropmask/lib/python3.7/site-packages/skimage/io/_io.py:141: UserWarning: /mnt/cropmaskperm/landsat-clear-scenes-2005/train/LT050320312005082801T1-SC20190418222350_tile_6656_5632/image/LT050320312005082801T1-SC20190418222350_tile_6656_5632.tif is a low contrast image\n",
      "  warn('%s is a low contrast image' % fname)\n"
     ]
    },
    {
     "name": "stdout",
     "output_type": "stream",
     "text": [
      "removed scene and label, 0.02% bad data\n"
     ]
    },
    {
     "name": "stderr",
     "output_type": "stream",
     "text": [
      "/data/anaconda/envs/cropmask/lib/python3.7/site-packages/skimage/io/_io.py:141: UserWarning: /mnt/cropmaskperm/landsat-clear-scenes-2005/train/LT050320312005082801T1-SC20190418222350_tile_6656_6144/image/LT050320312005082801T1-SC20190418222350_tile_6656_6144.tif is a low contrast image\n",
      "  warn('%s is a low contrast image' % fname)\n"
     ]
    },
    {
     "name": "stdout",
     "output_type": "stream",
     "text": [
      "removed scene and label, 0.02% bad data\n"
     ]
    },
    {
     "name": "stderr",
     "output_type": "stream",
     "text": [
      "/data/anaconda/envs/cropmask/lib/python3.7/site-packages/skimage/io/_io.py:141: UserWarning: /mnt/cropmaskperm/landsat-clear-scenes-2005/train/LT050320312005082801T1-SC20190418222350_tile_6656_6656/image/LT050320312005082801T1-SC20190418222350_tile_6656_6656.tif is a low contrast image\n",
      "  warn('%s is a low contrast image' % fname)\n"
     ]
    },
    {
     "name": "stdout",
     "output_type": "stream",
     "text": [
      "removed scene and label, 0.02% bad data\n"
     ]
    },
    {
     "name": "stderr",
     "output_type": "stream",
     "text": [
      "/data/anaconda/envs/cropmask/lib/python3.7/site-packages/skimage/io/_io.py:141: UserWarning: /mnt/cropmaskperm/landsat-clear-scenes-2005/train/LT050320312005082801T1-SC20190418222350_tile_7168_0/image/LT050320312005082801T1-SC20190418222350_tile_7168_0.tif is a low contrast image\n",
      "  warn('%s is a low contrast image' % fname)\n"
     ]
    },
    {
     "name": "stdout",
     "output_type": "stream",
     "text": [
      "removed scene and label, 0.02% bad data\n"
     ]
    },
    {
     "name": "stderr",
     "output_type": "stream",
     "text": [
      "/data/anaconda/envs/cropmask/lib/python3.7/site-packages/skimage/io/_io.py:141: UserWarning: /mnt/cropmaskperm/landsat-clear-scenes-2005/train/LT050320312005082801T1-SC20190418222350_tile_7168_1024/image/LT050320312005082801T1-SC20190418222350_tile_7168_1024.tif is a low contrast image\n",
      "  warn('%s is a low contrast image' % fname)\n"
     ]
    },
    {
     "name": "stdout",
     "output_type": "stream",
     "text": [
      "removed scene and label, 0.02% bad data\n"
     ]
    },
    {
     "name": "stderr",
     "output_type": "stream",
     "text": [
      "/data/anaconda/envs/cropmask/lib/python3.7/site-packages/skimage/io/_io.py:141: UserWarning: /mnt/cropmaskperm/landsat-clear-scenes-2005/train/LT050320312005082801T1-SC20190418222350_tile_7168_1536/image/LT050320312005082801T1-SC20190418222350_tile_7168_1536.tif is a low contrast image\n",
      "  warn('%s is a low contrast image' % fname)\n"
     ]
    },
    {
     "name": "stdout",
     "output_type": "stream",
     "text": [
      "removed scene and label, 0.02% bad data\n"
     ]
    },
    {
     "name": "stderr",
     "output_type": "stream",
     "text": [
      "/data/anaconda/envs/cropmask/lib/python3.7/site-packages/skimage/io/_io.py:141: UserWarning: /mnt/cropmaskperm/landsat-clear-scenes-2005/train/LT050320312005082801T1-SC20190418222350_tile_7168_2048/image/LT050320312005082801T1-SC20190418222350_tile_7168_2048.tif is a low contrast image\n",
      "  warn('%s is a low contrast image' % fname)\n"
     ]
    },
    {
     "name": "stdout",
     "output_type": "stream",
     "text": [
      "removed scene and label, 0.02% bad data\n"
     ]
    },
    {
     "name": "stderr",
     "output_type": "stream",
     "text": [
      "/data/anaconda/envs/cropmask/lib/python3.7/site-packages/skimage/io/_io.py:141: UserWarning: /mnt/cropmaskperm/landsat-clear-scenes-2005/train/LT050320312005082801T1-SC20190418222350_tile_7168_2560/image/LT050320312005082801T1-SC20190418222350_tile_7168_2560.tif is a low contrast image\n",
      "  warn('%s is a low contrast image' % fname)\n"
     ]
    },
    {
     "name": "stdout",
     "output_type": "stream",
     "text": [
      "removed scene and label, 0.02% bad data\n"
     ]
    },
    {
     "name": "stderr",
     "output_type": "stream",
     "text": [
      "/data/anaconda/envs/cropmask/lib/python3.7/site-packages/skimage/io/_io.py:141: UserWarning: /mnt/cropmaskperm/landsat-clear-scenes-2005/train/LT050320312005082801T1-SC20190418222350_tile_7168_3072/image/LT050320312005082801T1-SC20190418222350_tile_7168_3072.tif is a low contrast image\n",
      "  warn('%s is a low contrast image' % fname)\n"
     ]
    },
    {
     "name": "stdout",
     "output_type": "stream",
     "text": [
      "removed scene and label, 0.02% bad data\n"
     ]
    },
    {
     "name": "stderr",
     "output_type": "stream",
     "text": [
      "/data/anaconda/envs/cropmask/lib/python3.7/site-packages/skimage/io/_io.py:141: UserWarning: /mnt/cropmaskperm/landsat-clear-scenes-2005/train/LT050320312005082801T1-SC20190418222350_tile_7168_3584/image/LT050320312005082801T1-SC20190418222350_tile_7168_3584.tif is a low contrast image\n",
      "  warn('%s is a low contrast image' % fname)\n"
     ]
    },
    {
     "name": "stdout",
     "output_type": "stream",
     "text": [
      "removed scene and label, 0.02% bad data\n"
     ]
    },
    {
     "name": "stderr",
     "output_type": "stream",
     "text": [
      "/data/anaconda/envs/cropmask/lib/python3.7/site-packages/skimage/io/_io.py:141: UserWarning: /mnt/cropmaskperm/landsat-clear-scenes-2005/train/LT050320312005082801T1-SC20190418222350_tile_7168_4096/image/LT050320312005082801T1-SC20190418222350_tile_7168_4096.tif is a low contrast image\n",
      "  warn('%s is a low contrast image' % fname)\n"
     ]
    },
    {
     "name": "stdout",
     "output_type": "stream",
     "text": [
      "removed scene and label, 0.02% bad data\n"
     ]
    },
    {
     "name": "stderr",
     "output_type": "stream",
     "text": [
      "/data/anaconda/envs/cropmask/lib/python3.7/site-packages/skimage/io/_io.py:141: UserWarning: /mnt/cropmaskperm/landsat-clear-scenes-2005/train/LT050320312005082801T1-SC20190418222350_tile_7168_4608/image/LT050320312005082801T1-SC20190418222350_tile_7168_4608.tif is a low contrast image\n",
      "  warn('%s is a low contrast image' % fname)\n"
     ]
    },
    {
     "name": "stdout",
     "output_type": "stream",
     "text": [
      "removed scene and label, 0.02% bad data\n"
     ]
    },
    {
     "name": "stderr",
     "output_type": "stream",
     "text": [
      "/data/anaconda/envs/cropmask/lib/python3.7/site-packages/skimage/io/_io.py:141: UserWarning: /mnt/cropmaskperm/landsat-clear-scenes-2005/train/LT050320312005082801T1-SC20190418222350_tile_7168_512/image/LT050320312005082801T1-SC20190418222350_tile_7168_512.tif is a low contrast image\n",
      "  warn('%s is a low contrast image' % fname)\n"
     ]
    },
    {
     "name": "stdout",
     "output_type": "stream",
     "text": [
      "removed scene and label, 0.02% bad data\n"
     ]
    },
    {
     "name": "stderr",
     "output_type": "stream",
     "text": [
      "/data/anaconda/envs/cropmask/lib/python3.7/site-packages/skimage/io/_io.py:141: UserWarning: /mnt/cropmaskperm/landsat-clear-scenes-2005/train/LT050320312005082801T1-SC20190418222350_tile_7168_5120/image/LT050320312005082801T1-SC20190418222350_tile_7168_5120.tif is a low contrast image\n",
      "  warn('%s is a low contrast image' % fname)\n"
     ]
    },
    {
     "name": "stdout",
     "output_type": "stream",
     "text": [
      "removed scene and label, 0.02% bad data\n"
     ]
    },
    {
     "name": "stderr",
     "output_type": "stream",
     "text": [
      "/data/anaconda/envs/cropmask/lib/python3.7/site-packages/skimage/io/_io.py:141: UserWarning: /mnt/cropmaskperm/landsat-clear-scenes-2005/train/LT050320312005082801T1-SC20190418222350_tile_7168_5632/image/LT050320312005082801T1-SC20190418222350_tile_7168_5632.tif is a low contrast image\n",
      "  warn('%s is a low contrast image' % fname)\n"
     ]
    },
    {
     "name": "stdout",
     "output_type": "stream",
     "text": [
      "removed scene and label, 0.02% bad data\n"
     ]
    },
    {
     "name": "stderr",
     "output_type": "stream",
     "text": [
      "/data/anaconda/envs/cropmask/lib/python3.7/site-packages/skimage/io/_io.py:141: UserWarning: /mnt/cropmaskperm/landsat-clear-scenes-2005/train/LT050320312005082801T1-SC20190418222350_tile_7168_6144/image/LT050320312005082801T1-SC20190418222350_tile_7168_6144.tif is a low contrast image\n",
      "  warn('%s is a low contrast image' % fname)\n"
     ]
    },
    {
     "name": "stdout",
     "output_type": "stream",
     "text": [
      "removed scene and label, 0.02% bad data\n"
     ]
    },
    {
     "name": "stderr",
     "output_type": "stream",
     "text": [
      "/data/anaconda/envs/cropmask/lib/python3.7/site-packages/skimage/io/_io.py:141: UserWarning: /mnt/cropmaskperm/landsat-clear-scenes-2005/train/LT050320312005082801T1-SC20190418222350_tile_7168_6656/image/LT050320312005082801T1-SC20190418222350_tile_7168_6656.tif is a low contrast image\n",
      "  warn('%s is a low contrast image' % fname)\n"
     ]
    },
    {
     "name": "stdout",
     "output_type": "stream",
     "text": [
      "removed scene and label, 0.02% bad data\n"
     ]
    },
    {
     "name": "stderr",
     "output_type": "stream",
     "text": [
      "/data/anaconda/envs/cropmask/lib/python3.7/site-packages/skimage/io/_io.py:141: UserWarning: /mnt/cropmaskperm/landsat-clear-scenes-2005/train/LT050320312005082801T1-SC20190418222350_tile_7680_0/image/LT050320312005082801T1-SC20190418222350_tile_7680_0.tif is a low contrast image\n",
      "  warn('%s is a low contrast image' % fname)\n"
     ]
    },
    {
     "name": "stdout",
     "output_type": "stream",
     "text": [
      "removed scene and label, 0.02% bad data\n"
     ]
    },
    {
     "name": "stderr",
     "output_type": "stream",
     "text": [
      "/data/anaconda/envs/cropmask/lib/python3.7/site-packages/skimage/io/_io.py:141: UserWarning: /mnt/cropmaskperm/landsat-clear-scenes-2005/train/LT050320312005082801T1-SC20190418222350_tile_7680_1024/image/LT050320312005082801T1-SC20190418222350_tile_7680_1024.tif is a low contrast image\n",
      "  warn('%s is a low contrast image' % fname)\n"
     ]
    },
    {
     "name": "stdout",
     "output_type": "stream",
     "text": [
      "removed scene and label, 0.02% bad data\n"
     ]
    },
    {
     "name": "stderr",
     "output_type": "stream",
     "text": [
      "/data/anaconda/envs/cropmask/lib/python3.7/site-packages/skimage/io/_io.py:141: UserWarning: /mnt/cropmaskperm/landsat-clear-scenes-2005/train/LT050320312005082801T1-SC20190418222350_tile_7680_1536/image/LT050320312005082801T1-SC20190418222350_tile_7680_1536.tif is a low contrast image\n",
      "  warn('%s is a low contrast image' % fname)\n"
     ]
    },
    {
     "name": "stdout",
     "output_type": "stream",
     "text": [
      "removed scene and label, 0.02% bad data\n"
     ]
    },
    {
     "name": "stderr",
     "output_type": "stream",
     "text": [
      "/data/anaconda/envs/cropmask/lib/python3.7/site-packages/skimage/io/_io.py:141: UserWarning: /mnt/cropmaskperm/landsat-clear-scenes-2005/train/LT050320312005082801T1-SC20190418222350_tile_7680_2048/image/LT050320312005082801T1-SC20190418222350_tile_7680_2048.tif is a low contrast image\n",
      "  warn('%s is a low contrast image' % fname)\n"
     ]
    },
    {
     "name": "stdout",
     "output_type": "stream",
     "text": [
      "removed scene and label, 0.02% bad data\n"
     ]
    },
    {
     "name": "stderr",
     "output_type": "stream",
     "text": [
      "/data/anaconda/envs/cropmask/lib/python3.7/site-packages/skimage/io/_io.py:141: UserWarning: /mnt/cropmaskperm/landsat-clear-scenes-2005/train/LT050320312005082801T1-SC20190418222350_tile_7680_2560/image/LT050320312005082801T1-SC20190418222350_tile_7680_2560.tif is a low contrast image\n",
      "  warn('%s is a low contrast image' % fname)\n"
     ]
    },
    {
     "name": "stdout",
     "output_type": "stream",
     "text": [
      "removed scene and label, 0.02% bad data\n"
     ]
    },
    {
     "name": "stderr",
     "output_type": "stream",
     "text": [
      "/data/anaconda/envs/cropmask/lib/python3.7/site-packages/skimage/io/_io.py:141: UserWarning: /mnt/cropmaskperm/landsat-clear-scenes-2005/train/LT050320312005082801T1-SC20190418222350_tile_7680_3072/image/LT050320312005082801T1-SC20190418222350_tile_7680_3072.tif is a low contrast image\n",
      "  warn('%s is a low contrast image' % fname)\n"
     ]
    },
    {
     "name": "stdout",
     "output_type": "stream",
     "text": [
      "removed scene and label, 0.02% bad data\n"
     ]
    },
    {
     "name": "stderr",
     "output_type": "stream",
     "text": [
      "/data/anaconda/envs/cropmask/lib/python3.7/site-packages/skimage/io/_io.py:141: UserWarning: /mnt/cropmaskperm/landsat-clear-scenes-2005/train/LT050320312005082801T1-SC20190418222350_tile_7680_3584/image/LT050320312005082801T1-SC20190418222350_tile_7680_3584.tif is a low contrast image\n",
      "  warn('%s is a low contrast image' % fname)\n"
     ]
    },
    {
     "name": "stdout",
     "output_type": "stream",
     "text": [
      "removed scene and label, 0.02% bad data\n"
     ]
    },
    {
     "name": "stderr",
     "output_type": "stream",
     "text": [
      "/data/anaconda/envs/cropmask/lib/python3.7/site-packages/skimage/io/_io.py:141: UserWarning: /mnt/cropmaskperm/landsat-clear-scenes-2005/train/LT050320312005082801T1-SC20190418222350_tile_7680_4096/image/LT050320312005082801T1-SC20190418222350_tile_7680_4096.tif is a low contrast image\n",
      "  warn('%s is a low contrast image' % fname)\n"
     ]
    },
    {
     "name": "stdout",
     "output_type": "stream",
     "text": [
      "removed scene and label, 0.02% bad data\n"
     ]
    },
    {
     "name": "stderr",
     "output_type": "stream",
     "text": [
      "/data/anaconda/envs/cropmask/lib/python3.7/site-packages/skimage/io/_io.py:141: UserWarning: /mnt/cropmaskperm/landsat-clear-scenes-2005/train/LT050320312005082801T1-SC20190418222350_tile_7680_4608/image/LT050320312005082801T1-SC20190418222350_tile_7680_4608.tif is a low contrast image\n",
      "  warn('%s is a low contrast image' % fname)\n"
     ]
    },
    {
     "name": "stdout",
     "output_type": "stream",
     "text": [
      "removed scene and label, 0.02% bad data\n"
     ]
    },
    {
     "name": "stderr",
     "output_type": "stream",
     "text": [
      "/data/anaconda/envs/cropmask/lib/python3.7/site-packages/skimage/io/_io.py:141: UserWarning: /mnt/cropmaskperm/landsat-clear-scenes-2005/train/LT050320312005082801T1-SC20190418222350_tile_7680_512/image/LT050320312005082801T1-SC20190418222350_tile_7680_512.tif is a low contrast image\n",
      "  warn('%s is a low contrast image' % fname)\n"
     ]
    },
    {
     "name": "stdout",
     "output_type": "stream",
     "text": [
      "removed scene and label, 0.02% bad data\n"
     ]
    },
    {
     "name": "stderr",
     "output_type": "stream",
     "text": [
      "/data/anaconda/envs/cropmask/lib/python3.7/site-packages/skimage/io/_io.py:141: UserWarning: /mnt/cropmaskperm/landsat-clear-scenes-2005/train/LT050320312005082801T1-SC20190418222350_tile_7680_5120/image/LT050320312005082801T1-SC20190418222350_tile_7680_5120.tif is a low contrast image\n",
      "  warn('%s is a low contrast image' % fname)\n"
     ]
    },
    {
     "name": "stdout",
     "output_type": "stream",
     "text": [
      "removed scene and label, 0.02% bad data\n"
     ]
    },
    {
     "name": "stderr",
     "output_type": "stream",
     "text": [
      "/data/anaconda/envs/cropmask/lib/python3.7/site-packages/skimage/io/_io.py:141: UserWarning: /mnt/cropmaskperm/landsat-clear-scenes-2005/train/LT050320312005082801T1-SC20190418222350_tile_7680_5632/image/LT050320312005082801T1-SC20190418222350_tile_7680_5632.tif is a low contrast image\n",
      "  warn('%s is a low contrast image' % fname)\n"
     ]
    },
    {
     "name": "stdout",
     "output_type": "stream",
     "text": [
      "removed scene and label, 0.02% bad data\n"
     ]
    },
    {
     "name": "stderr",
     "output_type": "stream",
     "text": [
      "/data/anaconda/envs/cropmask/lib/python3.7/site-packages/skimage/io/_io.py:141: UserWarning: /mnt/cropmaskperm/landsat-clear-scenes-2005/train/LT050320312005082801T1-SC20190418222350_tile_7680_6144/image/LT050320312005082801T1-SC20190418222350_tile_7680_6144.tif is a low contrast image\n",
      "  warn('%s is a low contrast image' % fname)\n"
     ]
    },
    {
     "name": "stdout",
     "output_type": "stream",
     "text": [
      "removed scene and label, 0.02% bad data\n"
     ]
    },
    {
     "name": "stderr",
     "output_type": "stream",
     "text": [
      "/data/anaconda/envs/cropmask/lib/python3.7/site-packages/skimage/io/_io.py:141: UserWarning: /mnt/cropmaskperm/landsat-clear-scenes-2005/train/LT050320312005082801T1-SC20190418222350_tile_7680_6656/image/LT050320312005082801T1-SC20190418222350_tile_7680_6656.tif is a low contrast image\n",
      "  warn('%s is a low contrast image' % fname)\n"
     ]
    },
    {
     "name": "stdout",
     "output_type": "stream",
     "text": [
      "removed scene and label, 0.02% bad data\n"
     ]
    },
    {
     "name": "stderr",
     "output_type": "stream",
     "text": [
      "/data/anaconda/envs/cropmask/lib/python3.7/site-packages/skimage/io/_io.py:141: UserWarning: /mnt/cropmaskperm/landsat-clear-scenes-2005/train/LT050320312005082801T1-SC20190418222350_tile_1024_2048/mask/LT050320312005082801T1-SC20190418222350_tile_1024_2048_label.tif is a low contrast image\n",
      "  warn('%s is a low contrast image' % fname)\n",
      "/data/anaconda/envs/cropmask/lib/python3.7/site-packages/skimage/io/_io.py:141: UserWarning: /mnt/cropmaskperm/landsat-clear-scenes-2005/train/LT050320312005082801T1-SC20190418222350_tile_1024_2560/mask/LT050320312005082801T1-SC20190418222350_tile_1024_2560_label.tif is a low contrast image\n",
      "  warn('%s is a low contrast image' % fname)\n",
      "/data/anaconda/envs/cropmask/lib/python3.7/site-packages/skimage/io/_io.py:141: UserWarning: /mnt/cropmaskperm/landsat-clear-scenes-2005/train/LT050320312005082801T1-SC20190418222350_tile_1024_3072/mask/LT050320312005082801T1-SC20190418222350_tile_1024_3072_label.tif is a low contrast image\n",
      "  warn('%s is a low contrast image' % fname)\n",
      "/data/anaconda/envs/cropmask/lib/python3.7/site-packages/skimage/io/_io.py:141: UserWarning: /mnt/cropmaskperm/landsat-clear-scenes-2005/train/LT050320312005082801T1-SC20190418222350_tile_1024_3584/mask/LT050320312005082801T1-SC20190418222350_tile_1024_3584_label.tif is a low contrast image\n",
      "  warn('%s is a low contrast image' % fname)\n",
      "/data/anaconda/envs/cropmask/lib/python3.7/site-packages/skimage/io/_io.py:141: UserWarning: /mnt/cropmaskperm/landsat-clear-scenes-2005/train/LT050320312005082801T1-SC20190418222350_tile_1024_4096/mask/LT050320312005082801T1-SC20190418222350_tile_1024_4096_label.tif is a low contrast image\n",
      "  warn('%s is a low contrast image' % fname)\n",
      "/data/anaconda/envs/cropmask/lib/python3.7/site-packages/skimage/io/_io.py:141: UserWarning: /mnt/cropmaskperm/landsat-clear-scenes-2005/train/LT050320312005082801T1-SC20190418222350_tile_1024_4608/mask/LT050320312005082801T1-SC20190418222350_tile_1024_4608_label.tif is a low contrast image\n",
      "  warn('%s is a low contrast image' % fname)\n",
      "/data/anaconda/envs/cropmask/lib/python3.7/site-packages/skimage/io/_io.py:141: UserWarning: /mnt/cropmaskperm/landsat-clear-scenes-2005/train/LT050320312005082801T1-SC20190418222350_tile_1024_5120/mask/LT050320312005082801T1-SC20190418222350_tile_1024_5120_label.tif is a low contrast image\n",
      "  warn('%s is a low contrast image' % fname)\n",
      "/data/anaconda/envs/cropmask/lib/python3.7/site-packages/skimage/io/_io.py:141: UserWarning: /mnt/cropmaskperm/landsat-clear-scenes-2005/train/LT050320312005082801T1-SC20190418222350_tile_1536_1024/mask/LT050320312005082801T1-SC20190418222350_tile_1536_1024_label.tif is a low contrast image\n",
      "  warn('%s is a low contrast image' % fname)\n",
      "/data/anaconda/envs/cropmask/lib/python3.7/site-packages/skimage/io/_io.py:141: UserWarning: /mnt/cropmaskperm/landsat-clear-scenes-2005/train/LT050320312005082801T1-SC20190418222350_tile_1536_1536/mask/LT050320312005082801T1-SC20190418222350_tile_1536_1536_label.tif is a low contrast image\n",
      "  warn('%s is a low contrast image' % fname)\n",
      "/data/anaconda/envs/cropmask/lib/python3.7/site-packages/skimage/io/_io.py:141: UserWarning: /mnt/cropmaskperm/landsat-clear-scenes-2005/train/LT050320312005082801T1-SC20190418222350_tile_1536_2048/mask/LT050320312005082801T1-SC20190418222350_tile_1536_2048_label.tif is a low contrast image\n",
      "  warn('%s is a low contrast image' % fname)\n",
      "/data/anaconda/envs/cropmask/lib/python3.7/site-packages/skimage/io/_io.py:141: UserWarning: /mnt/cropmaskperm/landsat-clear-scenes-2005/train/LT050320312005082801T1-SC20190418222350_tile_1536_2560/mask/LT050320312005082801T1-SC20190418222350_tile_1536_2560_label.tif is a low contrast image\n",
      "  warn('%s is a low contrast image' % fname)\n",
      "/data/anaconda/envs/cropmask/lib/python3.7/site-packages/skimage/io/_io.py:141: UserWarning: /mnt/cropmaskperm/landsat-clear-scenes-2005/train/LT050320312005082801T1-SC20190418222350_tile_1536_3072/mask/LT050320312005082801T1-SC20190418222350_tile_1536_3072_label.tif is a low contrast image\n",
      "  warn('%s is a low contrast image' % fname)\n",
      "/data/anaconda/envs/cropmask/lib/python3.7/site-packages/skimage/io/_io.py:141: UserWarning: /mnt/cropmaskperm/landsat-clear-scenes-2005/train/LT050320312005082801T1-SC20190418222350_tile_1536_3584/mask/LT050320312005082801T1-SC20190418222350_tile_1536_3584_label.tif is a low contrast image\n",
      "  warn('%s is a low contrast image' % fname)\n",
      "/data/anaconda/envs/cropmask/lib/python3.7/site-packages/skimage/io/_io.py:141: UserWarning: /mnt/cropmaskperm/landsat-clear-scenes-2005/train/LT050320312005082801T1-SC20190418222350_tile_1536_4096/mask/LT050320312005082801T1-SC20190418222350_tile_1536_4096_label.tif is a low contrast image\n",
      "  warn('%s is a low contrast image' % fname)\n",
      "/data/anaconda/envs/cropmask/lib/python3.7/site-packages/skimage/io/_io.py:141: UserWarning: /mnt/cropmaskperm/landsat-clear-scenes-2005/train/LT050320312005082801T1-SC20190418222350_tile_1536_4608/mask/LT050320312005082801T1-SC20190418222350_tile_1536_4608_label.tif is a low contrast image\n",
      "  warn('%s is a low contrast image' % fname)\n",
      "/data/anaconda/envs/cropmask/lib/python3.7/site-packages/skimage/io/_io.py:141: UserWarning: /mnt/cropmaskperm/landsat-clear-scenes-2005/train/LT050320312005082801T1-SC20190418222350_tile_1536_512/mask/LT050320312005082801T1-SC20190418222350_tile_1536_512_label.tif is a low contrast image\n",
      "  warn('%s is a low contrast image' % fname)\n",
      "/data/anaconda/envs/cropmask/lib/python3.7/site-packages/skimage/io/_io.py:141: UserWarning: /mnt/cropmaskperm/landsat-clear-scenes-2005/train/LT050320312005082801T1-SC20190418222350_tile_1536_5120/mask/LT050320312005082801T1-SC20190418222350_tile_1536_5120_label.tif is a low contrast image\n",
      "  warn('%s is a low contrast image' % fname)\n",
      "/data/anaconda/envs/cropmask/lib/python3.7/site-packages/skimage/io/_io.py:141: UserWarning: /mnt/cropmaskperm/landsat-clear-scenes-2005/train/LT050320312005082801T1-SC20190418222350_tile_1536_5632/mask/LT050320312005082801T1-SC20190418222350_tile_1536_5632_label.tif is a low contrast image\n",
      "  warn('%s is a low contrast image' % fname)\n",
      "/data/anaconda/envs/cropmask/lib/python3.7/site-packages/skimage/io/_io.py:141: UserWarning: /mnt/cropmaskperm/landsat-clear-scenes-2005/train/LT050320312005082801T1-SC20190418222350_tile_2048_1024/mask/LT050320312005082801T1-SC20190418222350_tile_2048_1024_label.tif is a low contrast image\n",
      "  warn('%s is a low contrast image' % fname)\n",
      "/data/anaconda/envs/cropmask/lib/python3.7/site-packages/skimage/io/_io.py:141: UserWarning: /mnt/cropmaskperm/landsat-clear-scenes-2005/train/LT050320312005082801T1-SC20190418222350_tile_2048_1536/mask/LT050320312005082801T1-SC20190418222350_tile_2048_1536_label.tif is a low contrast image\n",
      "  warn('%s is a low contrast image' % fname)\n",
      "/data/anaconda/envs/cropmask/lib/python3.7/site-packages/skimage/io/_io.py:141: UserWarning: /mnt/cropmaskperm/landsat-clear-scenes-2005/train/LT050320312005082801T1-SC20190418222350_tile_2048_2048/mask/LT050320312005082801T1-SC20190418222350_tile_2048_2048_label.tif is a low contrast image\n",
      "  warn('%s is a low contrast image' % fname)\n",
      "/data/anaconda/envs/cropmask/lib/python3.7/site-packages/skimage/io/_io.py:141: UserWarning: /mnt/cropmaskperm/landsat-clear-scenes-2005/train/LT050320312005082801T1-SC20190418222350_tile_2048_2560/mask/LT050320312005082801T1-SC20190418222350_tile_2048_2560_label.tif is a low contrast image\n",
      "  warn('%s is a low contrast image' % fname)\n",
      "/data/anaconda/envs/cropmask/lib/python3.7/site-packages/skimage/io/_io.py:141: UserWarning: /mnt/cropmaskperm/landsat-clear-scenes-2005/train/LT050320312005082801T1-SC20190418222350_tile_2048_3072/mask/LT050320312005082801T1-SC20190418222350_tile_2048_3072_label.tif is a low contrast image\n",
      "  warn('%s is a low contrast image' % fname)\n",
      "/data/anaconda/envs/cropmask/lib/python3.7/site-packages/skimage/io/_io.py:141: UserWarning: /mnt/cropmaskperm/landsat-clear-scenes-2005/train/LT050320312005082801T1-SC20190418222350_tile_2048_3584/mask/LT050320312005082801T1-SC20190418222350_tile_2048_3584_label.tif is a low contrast image\n",
      "  warn('%s is a low contrast image' % fname)\n",
      "/data/anaconda/envs/cropmask/lib/python3.7/site-packages/skimage/io/_io.py:141: UserWarning: /mnt/cropmaskperm/landsat-clear-scenes-2005/train/LT050320312005082801T1-SC20190418222350_tile_2048_4096/mask/LT050320312005082801T1-SC20190418222350_tile_2048_4096_label.tif is a low contrast image\n",
      "  warn('%s is a low contrast image' % fname)\n",
      "/data/anaconda/envs/cropmask/lib/python3.7/site-packages/skimage/io/_io.py:141: UserWarning: /mnt/cropmaskperm/landsat-clear-scenes-2005/train/LT050320312005082801T1-SC20190418222350_tile_2048_4608/mask/LT050320312005082801T1-SC20190418222350_tile_2048_4608_label.tif is a low contrast image\n",
      "  warn('%s is a low contrast image' % fname)\n",
      "/data/anaconda/envs/cropmask/lib/python3.7/site-packages/skimage/io/_io.py:141: UserWarning: /mnt/cropmaskperm/landsat-clear-scenes-2005/train/LT050320312005082801T1-SC20190418222350_tile_2048_512/mask/LT050320312005082801T1-SC20190418222350_tile_2048_512_label.tif is a low contrast image\n",
      "  warn('%s is a low contrast image' % fname)\n",
      "/data/anaconda/envs/cropmask/lib/python3.7/site-packages/skimage/io/_io.py:141: UserWarning: /mnt/cropmaskperm/landsat-clear-scenes-2005/train/LT050320312005082801T1-SC20190418222350_tile_2048_5120/mask/LT050320312005082801T1-SC20190418222350_tile_2048_5120_label.tif is a low contrast image\n",
      "  warn('%s is a low contrast image' % fname)\n",
      "/data/anaconda/envs/cropmask/lib/python3.7/site-packages/skimage/io/_io.py:141: UserWarning: /mnt/cropmaskperm/landsat-clear-scenes-2005/train/LT050320312005082801T1-SC20190418222350_tile_2048_5632/mask/LT050320312005082801T1-SC20190418222350_tile_2048_5632_label.tif is a low contrast image\n",
      "  warn('%s is a low contrast image' % fname)\n",
      "/data/anaconda/envs/cropmask/lib/python3.7/site-packages/skimage/io/_io.py:141: UserWarning: /mnt/cropmaskperm/landsat-clear-scenes-2005/train/LT050320312005082801T1-SC20190418222350_tile_2560_1024/mask/LT050320312005082801T1-SC20190418222350_tile_2560_1024_label.tif is a low contrast image\n",
      "  warn('%s is a low contrast image' % fname)\n",
      "/data/anaconda/envs/cropmask/lib/python3.7/site-packages/skimage/io/_io.py:141: UserWarning: /mnt/cropmaskperm/landsat-clear-scenes-2005/train/LT050320312005082801T1-SC20190418222350_tile_2560_1536/mask/LT050320312005082801T1-SC20190418222350_tile_2560_1536_label.tif is a low contrast image\n",
      "  warn('%s is a low contrast image' % fname)\n",
      "/data/anaconda/envs/cropmask/lib/python3.7/site-packages/skimage/io/_io.py:141: UserWarning: /mnt/cropmaskperm/landsat-clear-scenes-2005/train/LT050320312005082801T1-SC20190418222350_tile_2560_2048/mask/LT050320312005082801T1-SC20190418222350_tile_2560_2048_label.tif is a low contrast image\n",
      "  warn('%s is a low contrast image' % fname)\n",
      "/data/anaconda/envs/cropmask/lib/python3.7/site-packages/skimage/io/_io.py:141: UserWarning: /mnt/cropmaskperm/landsat-clear-scenes-2005/train/LT050320312005082801T1-SC20190418222350_tile_2560_2560/mask/LT050320312005082801T1-SC20190418222350_tile_2560_2560_label.tif is a low contrast image\n",
      "  warn('%s is a low contrast image' % fname)\n",
      "/data/anaconda/envs/cropmask/lib/python3.7/site-packages/skimage/io/_io.py:141: UserWarning: /mnt/cropmaskperm/landsat-clear-scenes-2005/train/LT050320312005082801T1-SC20190418222350_tile_2560_3072/mask/LT050320312005082801T1-SC20190418222350_tile_2560_3072_label.tif is a low contrast image\n",
      "  warn('%s is a low contrast image' % fname)\n",
      "/data/anaconda/envs/cropmask/lib/python3.7/site-packages/skimage/io/_io.py:141: UserWarning: /mnt/cropmaskperm/landsat-clear-scenes-2005/train/LT050320312005082801T1-SC20190418222350_tile_2560_3584/mask/LT050320312005082801T1-SC20190418222350_tile_2560_3584_label.tif is a low contrast image\n",
      "  warn('%s is a low contrast image' % fname)\n",
      "/data/anaconda/envs/cropmask/lib/python3.7/site-packages/skimage/io/_io.py:141: UserWarning: /mnt/cropmaskperm/landsat-clear-scenes-2005/train/LT050320312005082801T1-SC20190418222350_tile_2560_4096/mask/LT050320312005082801T1-SC20190418222350_tile_2560_4096_label.tif is a low contrast image\n",
      "  warn('%s is a low contrast image' % fname)\n",
      "/data/anaconda/envs/cropmask/lib/python3.7/site-packages/skimage/io/_io.py:141: UserWarning: /mnt/cropmaskperm/landsat-clear-scenes-2005/train/LT050320312005082801T1-SC20190418222350_tile_2560_4608/mask/LT050320312005082801T1-SC20190418222350_tile_2560_4608_label.tif is a low contrast image\n",
      "  warn('%s is a low contrast image' % fname)\n",
      "/data/anaconda/envs/cropmask/lib/python3.7/site-packages/skimage/io/_io.py:141: UserWarning: /mnt/cropmaskperm/landsat-clear-scenes-2005/train/LT050320312005082801T1-SC20190418222350_tile_2560_512/mask/LT050320312005082801T1-SC20190418222350_tile_2560_512_label.tif is a low contrast image\n",
      "  warn('%s is a low contrast image' % fname)\n",
      "/data/anaconda/envs/cropmask/lib/python3.7/site-packages/skimage/io/_io.py:141: UserWarning: /mnt/cropmaskperm/landsat-clear-scenes-2005/train/LT050320312005082801T1-SC20190418222350_tile_2560_5120/mask/LT050320312005082801T1-SC20190418222350_tile_2560_5120_label.tif is a low contrast image\n",
      "  warn('%s is a low contrast image' % fname)\n",
      "/data/anaconda/envs/cropmask/lib/python3.7/site-packages/skimage/io/_io.py:141: UserWarning: /mnt/cropmaskperm/landsat-clear-scenes-2005/train/LT050320312005082801T1-SC20190418222350_tile_2560_5632/mask/LT050320312005082801T1-SC20190418222350_tile_2560_5632_label.tif is a low contrast image\n",
      "  warn('%s is a low contrast image' % fname)\n",
      "/data/anaconda/envs/cropmask/lib/python3.7/site-packages/skimage/io/_io.py:141: UserWarning: /mnt/cropmaskperm/landsat-clear-scenes-2005/train/LT050320312005082801T1-SC20190418222350_tile_3072_1024/mask/LT050320312005082801T1-SC20190418222350_tile_3072_1024_label.tif is a low contrast image\n",
      "  warn('%s is a low contrast image' % fname)\n",
      "/data/anaconda/envs/cropmask/lib/python3.7/site-packages/skimage/io/_io.py:141: UserWarning: /mnt/cropmaskperm/landsat-clear-scenes-2005/train/LT050320312005082801T1-SC20190418222350_tile_3072_1536/mask/LT050320312005082801T1-SC20190418222350_tile_3072_1536_label.tif is a low contrast image\n",
      "  warn('%s is a low contrast image' % fname)\n",
      "/data/anaconda/envs/cropmask/lib/python3.7/site-packages/skimage/util/dtype.py:135: UserWarning: Possible precision loss when converting from int64 to float64\n",
      "  .format(dtypeobj_in, dtypeobj_out))\n",
      "/data/anaconda/envs/cropmask/lib/python3.7/site-packages/skimage/io/_io.py:141: UserWarning: /mnt/cropmaskperm/landsat-clear-scenes-2005/train/LT050320312005082801T1-SC20190418222350_tile_3072_2048/mask/LT050320312005082801T1-SC20190418222350_tile_3072_2048_label.tif is a low contrast image\n",
      "  warn('%s is a low contrast image' % fname)\n",
      "/data/anaconda/envs/cropmask/lib/python3.7/site-packages/skimage/io/_io.py:141: UserWarning: /mnt/cropmaskperm/landsat-clear-scenes-2005/train/LT050320312005082801T1-SC20190418222350_tile_3072_2560/mask/LT050320312005082801T1-SC20190418222350_tile_3072_2560_label.tif is a low contrast image\n",
      "  warn('%s is a low contrast image' % fname)\n",
      "/data/anaconda/envs/cropmask/lib/python3.7/site-packages/skimage/io/_io.py:141: UserWarning: /mnt/cropmaskperm/landsat-clear-scenes-2005/train/LT050320312005082801T1-SC20190418222350_tile_3072_3072/mask/LT050320312005082801T1-SC20190418222350_tile_3072_3072_label.tif is a low contrast image\n",
      "  warn('%s is a low contrast image' % fname)\n",
      "/data/anaconda/envs/cropmask/lib/python3.7/site-packages/skimage/io/_io.py:141: UserWarning: /mnt/cropmaskperm/landsat-clear-scenes-2005/train/LT050320312005082801T1-SC20190418222350_tile_3072_3584/mask/LT050320312005082801T1-SC20190418222350_tile_3072_3584_label.tif is a low contrast image\n",
      "  warn('%s is a low contrast image' % fname)\n",
      "/data/anaconda/envs/cropmask/lib/python3.7/site-packages/skimage/io/_io.py:141: UserWarning: /mnt/cropmaskperm/landsat-clear-scenes-2005/train/LT050320312005082801T1-SC20190418222350_tile_3072_4096/mask/LT050320312005082801T1-SC20190418222350_tile_3072_4096_label.tif is a low contrast image\n",
      "  warn('%s is a low contrast image' % fname)\n",
      "/data/anaconda/envs/cropmask/lib/python3.7/site-packages/skimage/io/_io.py:141: UserWarning: /mnt/cropmaskperm/landsat-clear-scenes-2005/train/LT050320312005082801T1-SC20190418222350_tile_3072_4608/mask/LT050320312005082801T1-SC20190418222350_tile_3072_4608_label.tif is a low contrast image\n",
      "  warn('%s is a low contrast image' % fname)\n",
      "/data/anaconda/envs/cropmask/lib/python3.7/site-packages/skimage/io/_io.py:141: UserWarning: /mnt/cropmaskperm/landsat-clear-scenes-2005/train/LT050320312005082801T1-SC20190418222350_tile_3072_512/mask/LT050320312005082801T1-SC20190418222350_tile_3072_512_label.tif is a low contrast image\n",
      "  warn('%s is a low contrast image' % fname)\n",
      "/data/anaconda/envs/cropmask/lib/python3.7/site-packages/skimage/io/_io.py:141: UserWarning: /mnt/cropmaskperm/landsat-clear-scenes-2005/train/LT050320312005082801T1-SC20190418222350_tile_3072_5120/mask/LT050320312005082801T1-SC20190418222350_tile_3072_5120_label.tif is a low contrast image\n",
      "  warn('%s is a low contrast image' % fname)\n",
      "/data/anaconda/envs/cropmask/lib/python3.7/site-packages/skimage/io/_io.py:141: UserWarning: /mnt/cropmaskperm/landsat-clear-scenes-2005/train/LT050320312005082801T1-SC20190418222350_tile_3072_5632/mask/LT050320312005082801T1-SC20190418222350_tile_3072_5632_label.tif is a low contrast image\n",
      "  warn('%s is a low contrast image' % fname)\n",
      "/data/anaconda/envs/cropmask/lib/python3.7/site-packages/skimage/io/_io.py:141: UserWarning: /mnt/cropmaskperm/landsat-clear-scenes-2005/train/LT050320312005082801T1-SC20190418222350_tile_3584_1024/mask/LT050320312005082801T1-SC20190418222350_tile_3584_1024_label.tif is a low contrast image\n",
      "  warn('%s is a low contrast image' % fname)\n",
      "/data/anaconda/envs/cropmask/lib/python3.7/site-packages/skimage/io/_io.py:141: UserWarning: /mnt/cropmaskperm/landsat-clear-scenes-2005/train/LT050320312005082801T1-SC20190418222350_tile_3584_1536/mask/LT050320312005082801T1-SC20190418222350_tile_3584_1536_label.tif is a low contrast image\n",
      "  warn('%s is a low contrast image' % fname)\n",
      "/data/anaconda/envs/cropmask/lib/python3.7/site-packages/skimage/io/_io.py:141: UserWarning: /mnt/cropmaskperm/landsat-clear-scenes-2005/train/LT050320312005082801T1-SC20190418222350_tile_3584_2048/mask/LT050320312005082801T1-SC20190418222350_tile_3584_2048_label.tif is a low contrast image\n",
      "  warn('%s is a low contrast image' % fname)\n",
      "/data/anaconda/envs/cropmask/lib/python3.7/site-packages/skimage/io/_io.py:141: UserWarning: /mnt/cropmaskperm/landsat-clear-scenes-2005/train/LT050320312005082801T1-SC20190418222350_tile_3584_2560/mask/LT050320312005082801T1-SC20190418222350_tile_3584_2560_label.tif is a low contrast image\n",
      "  warn('%s is a low contrast image' % fname)\n",
      "/data/anaconda/envs/cropmask/lib/python3.7/site-packages/skimage/io/_io.py:141: UserWarning: /mnt/cropmaskperm/landsat-clear-scenes-2005/train/LT050320312005082801T1-SC20190418222350_tile_3584_3072/mask/LT050320312005082801T1-SC20190418222350_tile_3584_3072_label.tif is a low contrast image\n",
      "  warn('%s is a low contrast image' % fname)\n",
      "/data/anaconda/envs/cropmask/lib/python3.7/site-packages/skimage/io/_io.py:141: UserWarning: /mnt/cropmaskperm/landsat-clear-scenes-2005/train/LT050320312005082801T1-SC20190418222350_tile_3584_3584/mask/LT050320312005082801T1-SC20190418222350_tile_3584_3584_label.tif is a low contrast image\n",
      "  warn('%s is a low contrast image' % fname)\n",
      "/data/anaconda/envs/cropmask/lib/python3.7/site-packages/skimage/io/_io.py:141: UserWarning: /mnt/cropmaskperm/landsat-clear-scenes-2005/train/LT050320312005082801T1-SC20190418222350_tile_3584_4096/mask/LT050320312005082801T1-SC20190418222350_tile_3584_4096_label.tif is a low contrast image\n",
      "  warn('%s is a low contrast image' % fname)\n",
      "/data/anaconda/envs/cropmask/lib/python3.7/site-packages/skimage/io/_io.py:141: UserWarning: /mnt/cropmaskperm/landsat-clear-scenes-2005/train/LT050320312005082801T1-SC20190418222350_tile_3584_4608/mask/LT050320312005082801T1-SC20190418222350_tile_3584_4608_label.tif is a low contrast image\n",
      "  warn('%s is a low contrast image' % fname)\n",
      "/data/anaconda/envs/cropmask/lib/python3.7/site-packages/skimage/io/_io.py:141: UserWarning: /mnt/cropmaskperm/landsat-clear-scenes-2005/train/LT050320312005082801T1-SC20190418222350_tile_3584_512/mask/LT050320312005082801T1-SC20190418222350_tile_3584_512_label.tif is a low contrast image\n",
      "  warn('%s is a low contrast image' % fname)\n",
      "/data/anaconda/envs/cropmask/lib/python3.7/site-packages/skimage/io/_io.py:141: UserWarning: /mnt/cropmaskperm/landsat-clear-scenes-2005/train/LT050320312005082801T1-SC20190418222350_tile_3584_5120/mask/LT050320312005082801T1-SC20190418222350_tile_3584_5120_label.tif is a low contrast image\n",
      "  warn('%s is a low contrast image' % fname)\n",
      "/data/anaconda/envs/cropmask/lib/python3.7/site-packages/skimage/io/_io.py:141: UserWarning: /mnt/cropmaskperm/landsat-clear-scenes-2005/train/LT050320312005082801T1-SC20190418222350_tile_3584_5632/mask/LT050320312005082801T1-SC20190418222350_tile_3584_5632_label.tif is a low contrast image\n",
      "  warn('%s is a low contrast image' % fname)\n",
      "/data/anaconda/envs/cropmask/lib/python3.7/site-packages/skimage/io/_io.py:141: UserWarning: /mnt/cropmaskperm/landsat-clear-scenes-2005/train/LT050320312005082801T1-SC20190418222350_tile_4096_1024/mask/LT050320312005082801T1-SC20190418222350_tile_4096_1024_label.tif is a low contrast image\n",
      "  warn('%s is a low contrast image' % fname)\n",
      "/data/anaconda/envs/cropmask/lib/python3.7/site-packages/skimage/io/_io.py:141: UserWarning: /mnt/cropmaskperm/landsat-clear-scenes-2005/train/LT050320312005082801T1-SC20190418222350_tile_4096_1536/mask/LT050320312005082801T1-SC20190418222350_tile_4096_1536_label.tif is a low contrast image\n",
      "  warn('%s is a low contrast image' % fname)\n",
      "/data/anaconda/envs/cropmask/lib/python3.7/site-packages/skimage/io/_io.py:141: UserWarning: /mnt/cropmaskperm/landsat-clear-scenes-2005/train/LT050320312005082801T1-SC20190418222350_tile_4096_2048/mask/LT050320312005082801T1-SC20190418222350_tile_4096_2048_label.tif is a low contrast image\n",
      "  warn('%s is a low contrast image' % fname)\n",
      "/data/anaconda/envs/cropmask/lib/python3.7/site-packages/skimage/io/_io.py:141: UserWarning: /mnt/cropmaskperm/landsat-clear-scenes-2005/train/LT050320312005082801T1-SC20190418222350_tile_4096_2560/mask/LT050320312005082801T1-SC20190418222350_tile_4096_2560_label.tif is a low contrast image\n",
      "  warn('%s is a low contrast image' % fname)\n",
      "/data/anaconda/envs/cropmask/lib/python3.7/site-packages/skimage/io/_io.py:141: UserWarning: /mnt/cropmaskperm/landsat-clear-scenes-2005/train/LT050320312005082801T1-SC20190418222350_tile_4096_3072/mask/LT050320312005082801T1-SC20190418222350_tile_4096_3072_label.tif is a low contrast image\n",
      "  warn('%s is a low contrast image' % fname)\n",
      "/data/anaconda/envs/cropmask/lib/python3.7/site-packages/skimage/io/_io.py:141: UserWarning: /mnt/cropmaskperm/landsat-clear-scenes-2005/train/LT050320312005082801T1-SC20190418222350_tile_4096_3584/mask/LT050320312005082801T1-SC20190418222350_tile_4096_3584_label.tif is a low contrast image\n",
      "  warn('%s is a low contrast image' % fname)\n",
      "/data/anaconda/envs/cropmask/lib/python3.7/site-packages/skimage/io/_io.py:141: UserWarning: /mnt/cropmaskperm/landsat-clear-scenes-2005/train/LT050320312005082801T1-SC20190418222350_tile_4096_4096/mask/LT050320312005082801T1-SC20190418222350_tile_4096_4096_label.tif is a low contrast image\n",
      "  warn('%s is a low contrast image' % fname)\n",
      "/data/anaconda/envs/cropmask/lib/python3.7/site-packages/skimage/io/_io.py:141: UserWarning: /mnt/cropmaskperm/landsat-clear-scenes-2005/train/LT050320312005082801T1-SC20190418222350_tile_4096_4608/mask/LT050320312005082801T1-SC20190418222350_tile_4096_4608_label.tif is a low contrast image\n",
      "  warn('%s is a low contrast image' % fname)\n",
      "/data/anaconda/envs/cropmask/lib/python3.7/site-packages/skimage/io/_io.py:141: UserWarning: /mnt/cropmaskperm/landsat-clear-scenes-2005/train/LT050320312005082801T1-SC20190418222350_tile_4096_5120/mask/LT050320312005082801T1-SC20190418222350_tile_4096_5120_label.tif is a low contrast image\n",
      "  warn('%s is a low contrast image' % fname)\n",
      "/data/anaconda/envs/cropmask/lib/python3.7/site-packages/skimage/io/_io.py:141: UserWarning: /mnt/cropmaskperm/landsat-clear-scenes-2005/train/LT050320312005082801T1-SC20190418222350_tile_4096_5632/mask/LT050320312005082801T1-SC20190418222350_tile_4096_5632_label.tif is a low contrast image\n",
      "  warn('%s is a low contrast image' % fname)\n",
      "/data/anaconda/envs/cropmask/lib/python3.7/site-packages/skimage/io/_io.py:141: UserWarning: /mnt/cropmaskperm/landsat-clear-scenes-2005/train/LT050320312005082801T1-SC20190418222350_tile_4608_1024/mask/LT050320312005082801T1-SC20190418222350_tile_4608_1024_label.tif is a low contrast image\n",
      "  warn('%s is a low contrast image' % fname)\n",
      "/data/anaconda/envs/cropmask/lib/python3.7/site-packages/skimage/io/_io.py:141: UserWarning: /mnt/cropmaskperm/landsat-clear-scenes-2005/train/LT050320312005082801T1-SC20190418222350_tile_4608_1536/mask/LT050320312005082801T1-SC20190418222350_tile_4608_1536_label.tif is a low contrast image\n",
      "  warn('%s is a low contrast image' % fname)\n",
      "/data/anaconda/envs/cropmask/lib/python3.7/site-packages/skimage/io/_io.py:141: UserWarning: /mnt/cropmaskperm/landsat-clear-scenes-2005/train/LT050320312005082801T1-SC20190418222350_tile_4608_2048/mask/LT050320312005082801T1-SC20190418222350_tile_4608_2048_label.tif is a low contrast image\n",
      "  warn('%s is a low contrast image' % fname)\n",
      "/data/anaconda/envs/cropmask/lib/python3.7/site-packages/skimage/io/_io.py:141: UserWarning: /mnt/cropmaskperm/landsat-clear-scenes-2005/train/LT050320312005082801T1-SC20190418222350_tile_4608_2560/mask/LT050320312005082801T1-SC20190418222350_tile_4608_2560_label.tif is a low contrast image\n",
      "  warn('%s is a low contrast image' % fname)\n",
      "/data/anaconda/envs/cropmask/lib/python3.7/site-packages/skimage/io/_io.py:141: UserWarning: /mnt/cropmaskperm/landsat-clear-scenes-2005/train/LT050320312005082801T1-SC20190418222350_tile_4608_3072/mask/LT050320312005082801T1-SC20190418222350_tile_4608_3072_label.tif is a low contrast image\n",
      "  warn('%s is a low contrast image' % fname)\n",
      "/data/anaconda/envs/cropmask/lib/python3.7/site-packages/skimage/io/_io.py:141: UserWarning: /mnt/cropmaskperm/landsat-clear-scenes-2005/train/LT050320312005082801T1-SC20190418222350_tile_4608_3584/mask/LT050320312005082801T1-SC20190418222350_tile_4608_3584_label.tif is a low contrast image\n",
      "  warn('%s is a low contrast image' % fname)\n",
      "/data/anaconda/envs/cropmask/lib/python3.7/site-packages/skimage/io/_io.py:141: UserWarning: /mnt/cropmaskperm/landsat-clear-scenes-2005/train/LT050320312005082801T1-SC20190418222350_tile_4608_4096/mask/LT050320312005082801T1-SC20190418222350_tile_4608_4096_label.tif is a low contrast image\n",
      "  warn('%s is a low contrast image' % fname)\n",
      "/data/anaconda/envs/cropmask/lib/python3.7/site-packages/skimage/io/_io.py:141: UserWarning: /mnt/cropmaskperm/landsat-clear-scenes-2005/train/LT050320312005082801T1-SC20190418222350_tile_4608_4608/mask/LT050320312005082801T1-SC20190418222350_tile_4608_4608_label.tif is a low contrast image\n",
      "  warn('%s is a low contrast image' % fname)\n",
      "/data/anaconda/envs/cropmask/lib/python3.7/site-packages/skimage/io/_io.py:141: UserWarning: /mnt/cropmaskperm/landsat-clear-scenes-2005/train/LT050320312005082801T1-SC20190418222350_tile_4608_5120/mask/LT050320312005082801T1-SC20190418222350_tile_4608_5120_label.tif is a low contrast image\n",
      "  warn('%s is a low contrast image' % fname)\n",
      "/data/anaconda/envs/cropmask/lib/python3.7/site-packages/skimage/io/_io.py:141: UserWarning: /mnt/cropmaskperm/landsat-clear-scenes-2005/train/LT050320312005082801T1-SC20190418222350_tile_4608_5632/mask/LT050320312005082801T1-SC20190418222350_tile_4608_5632_label.tif is a low contrast image\n",
      "  warn('%s is a low contrast image' % fname)\n",
      "/data/anaconda/envs/cropmask/lib/python3.7/site-packages/skimage/io/_io.py:141: UserWarning: /mnt/cropmaskperm/landsat-clear-scenes-2005/train/LT050320312005082801T1-SC20190418222350_tile_5120_1024/mask/LT050320312005082801T1-SC20190418222350_tile_5120_1024_label.tif is a low contrast image\n",
      "  warn('%s is a low contrast image' % fname)\n",
      "/data/anaconda/envs/cropmask/lib/python3.7/site-packages/skimage/io/_io.py:141: UserWarning: /mnt/cropmaskperm/landsat-clear-scenes-2005/train/LT050320312005082801T1-SC20190418222350_tile_5120_1536/mask/LT050320312005082801T1-SC20190418222350_tile_5120_1536_label.tif is a low contrast image\n",
      "  warn('%s is a low contrast image' % fname)\n",
      "/data/anaconda/envs/cropmask/lib/python3.7/site-packages/skimage/io/_io.py:141: UserWarning: /mnt/cropmaskperm/landsat-clear-scenes-2005/train/LT050320312005082801T1-SC20190418222350_tile_5120_2048/mask/LT050320312005082801T1-SC20190418222350_tile_5120_2048_label.tif is a low contrast image\n",
      "  warn('%s is a low contrast image' % fname)\n",
      "/data/anaconda/envs/cropmask/lib/python3.7/site-packages/skimage/io/_io.py:141: UserWarning: /mnt/cropmaskperm/landsat-clear-scenes-2005/train/LT050320312005082801T1-SC20190418222350_tile_5120_2560/mask/LT050320312005082801T1-SC20190418222350_tile_5120_2560_label.tif is a low contrast image\n",
      "  warn('%s is a low contrast image' % fname)\n",
      "/data/anaconda/envs/cropmask/lib/python3.7/site-packages/skimage/io/_io.py:141: UserWarning: /mnt/cropmaskperm/landsat-clear-scenes-2005/train/LT050320312005082801T1-SC20190418222350_tile_5120_3072/mask/LT050320312005082801T1-SC20190418222350_tile_5120_3072_label.tif is a low contrast image\n",
      "  warn('%s is a low contrast image' % fname)\n",
      "/data/anaconda/envs/cropmask/lib/python3.7/site-packages/skimage/io/_io.py:141: UserWarning: /mnt/cropmaskperm/landsat-clear-scenes-2005/train/LT050320312005082801T1-SC20190418222350_tile_5120_3584/mask/LT050320312005082801T1-SC20190418222350_tile_5120_3584_label.tif is a low contrast image\n",
      "  warn('%s is a low contrast image' % fname)\n",
      "/data/anaconda/envs/cropmask/lib/python3.7/site-packages/skimage/io/_io.py:141: UserWarning: /mnt/cropmaskperm/landsat-clear-scenes-2005/train/LT050320312005082801T1-SC20190418222350_tile_5120_4096/mask/LT050320312005082801T1-SC20190418222350_tile_5120_4096_label.tif is a low contrast image\n",
      "  warn('%s is a low contrast image' % fname)\n",
      "/data/anaconda/envs/cropmask/lib/python3.7/site-packages/skimage/io/_io.py:141: UserWarning: /mnt/cropmaskperm/landsat-clear-scenes-2005/train/LT050320312005082801T1-SC20190418222350_tile_5120_4608/mask/LT050320312005082801T1-SC20190418222350_tile_5120_4608_label.tif is a low contrast image\n",
      "  warn('%s is a low contrast image' % fname)\n",
      "/data/anaconda/envs/cropmask/lib/python3.7/site-packages/skimage/io/_io.py:141: UserWarning: /mnt/cropmaskperm/landsat-clear-scenes-2005/train/LT050320312005082801T1-SC20190418222350_tile_5120_5120/mask/LT050320312005082801T1-SC20190418222350_tile_5120_5120_label.tif is a low contrast image\n",
      "  warn('%s is a low contrast image' % fname)\n",
      "/data/anaconda/envs/cropmask/lib/python3.7/site-packages/skimage/io/_io.py:141: UserWarning: /mnt/cropmaskperm/landsat-clear-scenes-2005/train/LT050320312005082801T1-SC20190418222350_tile_5120_5632/mask/LT050320312005082801T1-SC20190418222350_tile_5120_5632_label.tif is a low contrast image\n",
      "  warn('%s is a low contrast image' % fname)\n",
      "/data/anaconda/envs/cropmask/lib/python3.7/site-packages/skimage/io/_io.py:141: UserWarning: /mnt/cropmaskperm/landsat-clear-scenes-2005/train/LT050320312005082801T1-SC20190418222350_tile_5120_6144/mask/LT050320312005082801T1-SC20190418222350_tile_5120_6144_label.tif is a low contrast image\n",
      "  warn('%s is a low contrast image' % fname)\n",
      "/data/anaconda/envs/cropmask/lib/python3.7/site-packages/skimage/io/_io.py:141: UserWarning: /mnt/cropmaskperm/landsat-clear-scenes-2005/train/LT050320312005082801T1-SC20190418222350_tile_512_4608/mask/LT050320312005082801T1-SC20190418222350_tile_512_4608_label.tif is a low contrast image\n",
      "  warn('%s is a low contrast image' % fname)\n",
      "/data/anaconda/envs/cropmask/lib/python3.7/site-packages/skimage/io/_io.py:141: UserWarning: /mnt/cropmaskperm/landsat-clear-scenes-2005/train/LT050320312005082801T1-SC20190418222350_tile_512_5120/mask/LT050320312005082801T1-SC20190418222350_tile_512_5120_label.tif is a low contrast image\n",
      "  warn('%s is a low contrast image' % fname)\n",
      "/data/anaconda/envs/cropmask/lib/python3.7/site-packages/skimage/io/_io.py:141: UserWarning: /mnt/cropmaskperm/landsat-clear-scenes-2005/train/LT050320312005082801T1-SC20190418222350_tile_5632_1024/mask/LT050320312005082801T1-SC20190418222350_tile_5632_1024_label.tif is a low contrast image\n",
      "  warn('%s is a low contrast image' % fname)\n",
      "/data/anaconda/envs/cropmask/lib/python3.7/site-packages/skimage/io/_io.py:141: UserWarning: /mnt/cropmaskperm/landsat-clear-scenes-2005/train/LT050320312005082801T1-SC20190418222350_tile_5632_1536/mask/LT050320312005082801T1-SC20190418222350_tile_5632_1536_label.tif is a low contrast image\n",
      "  warn('%s is a low contrast image' % fname)\n",
      "/data/anaconda/envs/cropmask/lib/python3.7/site-packages/skimage/io/_io.py:141: UserWarning: /mnt/cropmaskperm/landsat-clear-scenes-2005/train/LT050320312005082801T1-SC20190418222350_tile_5632_2048/mask/LT050320312005082801T1-SC20190418222350_tile_5632_2048_label.tif is a low contrast image\n",
      "  warn('%s is a low contrast image' % fname)\n",
      "/data/anaconda/envs/cropmask/lib/python3.7/site-packages/skimage/io/_io.py:141: UserWarning: /mnt/cropmaskperm/landsat-clear-scenes-2005/train/LT050320312005082801T1-SC20190418222350_tile_5632_2560/mask/LT050320312005082801T1-SC20190418222350_tile_5632_2560_label.tif is a low contrast image\n",
      "  warn('%s is a low contrast image' % fname)\n",
      "/data/anaconda/envs/cropmask/lib/python3.7/site-packages/skimage/io/_io.py:141: UserWarning: /mnt/cropmaskperm/landsat-clear-scenes-2005/train/LT050320312005082801T1-SC20190418222350_tile_5632_3072/mask/LT050320312005082801T1-SC20190418222350_tile_5632_3072_label.tif is a low contrast image\n",
      "  warn('%s is a low contrast image' % fname)\n",
      "/data/anaconda/envs/cropmask/lib/python3.7/site-packages/skimage/io/_io.py:141: UserWarning: /mnt/cropmaskperm/landsat-clear-scenes-2005/train/LT050320312005082801T1-SC20190418222350_tile_5632_3584/mask/LT050320312005082801T1-SC20190418222350_tile_5632_3584_label.tif is a low contrast image\n",
      "  warn('%s is a low contrast image' % fname)\n",
      "/data/anaconda/envs/cropmask/lib/python3.7/site-packages/skimage/io/_io.py:141: UserWarning: /mnt/cropmaskperm/landsat-clear-scenes-2005/train/LT050320312005082801T1-SC20190418222350_tile_5632_4096/mask/LT050320312005082801T1-SC20190418222350_tile_5632_4096_label.tif is a low contrast image\n",
      "  warn('%s is a low contrast image' % fname)\n",
      "/data/anaconda/envs/cropmask/lib/python3.7/site-packages/skimage/io/_io.py:141: UserWarning: /mnt/cropmaskperm/landsat-clear-scenes-2005/train/LT050320312005082801T1-SC20190418222350_tile_5632_4608/mask/LT050320312005082801T1-SC20190418222350_tile_5632_4608_label.tif is a low contrast image\n",
      "  warn('%s is a low contrast image' % fname)\n",
      "/data/anaconda/envs/cropmask/lib/python3.7/site-packages/skimage/io/_io.py:141: UserWarning: /mnt/cropmaskperm/landsat-clear-scenes-2005/train/LT050320312005082801T1-SC20190418222350_tile_5632_5120/mask/LT050320312005082801T1-SC20190418222350_tile_5632_5120_label.tif is a low contrast image\n",
      "  warn('%s is a low contrast image' % fname)\n"
     ]
    }
   ],
   "source": [
    "# https://docs.dask.org/en/stable/delayed-best-practices.html\n",
    "from dask.distributed import Client\n",
    "\n",
    "client = Client()  # use dask.distributed by default\n",
    "\n",
    "x = dask.compute(*results, scheduler=\"processes\")  # start computation in the background\n",
    "\n"
   ]
  },
  {
   "cell_type": "code",
   "execution_count": null,
   "metadata": {},
   "outputs": [],
   "source": [
    "    \n",
    "    start = time.time()\n",
    "\n",
    "    means = []\n",
    "    for i in wflow.band_list:\n",
    "        mean = get_arr_channel_mean(wflow.TRAIN,int(i)-1)\n",
    "        means.append(mean)\n",
    "        print(\"Band index {} mean for COCO normalization: \".format(i), mean)\n",
    "        \n",
    "    stop = time.time()\n",
    "        \n",
    "    print(stop-start, \" seconds for this number of scenes: \" + str(len(scene_list)))"
   ]
  },
  {
   "cell_type": "code",
   "execution_count": null,
   "metadata": {},
   "outputs": [],
   "source": []
  }
 ],
 "metadata": {
  "kernelspec": {
   "display_name": "Python 3",
   "language": "python",
   "name": "python3"
  },
  "language_info": {
   "codemirror_mode": {
    "name": "ipython",
    "version": 3
   },
   "file_extension": ".py",
   "mimetype": "text/x-python",
   "name": "python",
   "nbconvert_exporter": "python",
   "pygments_lexer": "ipython3",
   "version": "3.7.3"
  }
 },
 "nbformat": 4,
 "nbformat_minor": 4
}
