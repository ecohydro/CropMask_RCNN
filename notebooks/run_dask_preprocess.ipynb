{
 "cells": [
  {
   "cell_type": "code",
   "execution_count": 1,
   "metadata": {},
   "outputs": [
    {
     "data": {
      "text/html": [
       "<div>\n",
       "<style scoped>\n",
       "    .dataframe tbody tr th:only-of-type {\n",
       "        vertical-align: middle;\n",
       "    }\n",
       "\n",
       "    .dataframe tbody tr th {\n",
       "        vertical-align: top;\n",
       "    }\n",
       "\n",
       "    .dataframe thead th {\n",
       "        text-align: right;\n",
       "    }\n",
       "</style>\n",
       "<table border=\"1\" class=\"dataframe\">\n",
       "  <thead>\n",
       "    <tr style=\"text-align: right;\">\n",
       "      <th></th>\n",
       "      <th>h</th>\n",
       "      <th>v</th>\n",
       "      <th>path</th>\n",
       "      <th>row</th>\n",
       "      <th>cloud_cover</th>\n",
       "      <th>cloud_shadow</th>\n",
       "      <th>snow_ice</th>\n",
       "      <th>fill</th>\n",
       "      <th>instrument</th>\n",
       "      <th>level1_collection</th>\n",
       "      <th>ard_version</th>\n",
       "      <th>xml_paths</th>\n",
       "      <th>scene_paths</th>\n",
       "    </tr>\n",
       "    <tr>\n",
       "      <th>acquisition_date</th>\n",
       "      <th></th>\n",
       "      <th></th>\n",
       "      <th></th>\n",
       "      <th></th>\n",
       "      <th></th>\n",
       "      <th></th>\n",
       "      <th></th>\n",
       "      <th></th>\n",
       "      <th></th>\n",
       "      <th></th>\n",
       "      <th></th>\n",
       "      <th></th>\n",
       "      <th></th>\n",
       "    </tr>\n",
       "  </thead>\n",
       "  <tbody>\n",
       "    <tr>\n",
       "      <th>2005-06-20</th>\n",
       "      <td>015</td>\n",
       "      <td>008</td>\n",
       "      <td>29</td>\n",
       "      <td>31</td>\n",
       "      <td>0.7433</td>\n",
       "      <td>0.0962</td>\n",
       "      <td>0.0030</td>\n",
       "      <td>49.2312</td>\n",
       "      <td>TM</td>\n",
       "      <td>01</td>\n",
       "      <td>01</td>\n",
       "      <td>/mnt/cropmaskperm/unpacked_ard_landsat_downloa...</td>\n",
       "      <td>/mnt/cropmaskperm/unpacked_ard_landsat_downloa...</td>\n",
       "    </tr>\n",
       "    <tr>\n",
       "      <th>2005-06-20</th>\n",
       "      <td>015</td>\n",
       "      <td>009</td>\n",
       "      <td>29</td>\n",
       "      <td>32</td>\n",
       "      <td>0.3617</td>\n",
       "      <td>0.0153</td>\n",
       "      <td>0.0018</td>\n",
       "      <td>23.0621</td>\n",
       "      <td>TM</td>\n",
       "      <td>01</td>\n",
       "      <td>01</td>\n",
       "      <td>/mnt/cropmaskperm/unpacked_ard_landsat_downloa...</td>\n",
       "      <td>/mnt/cropmaskperm/unpacked_ard_landsat_downloa...</td>\n",
       "    </tr>\n",
       "    <tr>\n",
       "      <th>2005-06-20</th>\n",
       "      <td>016</td>\n",
       "      <td>008</td>\n",
       "      <td>29</td>\n",
       "      <td>31</td>\n",
       "      <td>0.1065</td>\n",
       "      <td>0.0272</td>\n",
       "      <td>0.0000</td>\n",
       "      <td>20.1136</td>\n",
       "      <td>TM</td>\n",
       "      <td>01</td>\n",
       "      <td>01</td>\n",
       "      <td>/mnt/cropmaskperm/unpacked_ard_landsat_downloa...</td>\n",
       "      <td>/mnt/cropmaskperm/unpacked_ard_landsat_downloa...</td>\n",
       "    </tr>\n",
       "    <tr>\n",
       "      <th>2005-06-20</th>\n",
       "      <td>016</td>\n",
       "      <td>009</td>\n",
       "      <td>29</td>\n",
       "      <td>32</td>\n",
       "      <td>0.0180</td>\n",
       "      <td>0.0025</td>\n",
       "      <td>0.0000</td>\n",
       "      <td>46.4412</td>\n",
       "      <td>TM</td>\n",
       "      <td>01</td>\n",
       "      <td>01</td>\n",
       "      <td>/mnt/cropmaskperm/unpacked_ard_landsat_downloa...</td>\n",
       "      <td>/mnt/cropmaskperm/unpacked_ard_landsat_downloa...</td>\n",
       "    </tr>\n",
       "    <tr>\n",
       "      <th>2005-07-22</th>\n",
       "      <td>015</td>\n",
       "      <td>008</td>\n",
       "      <td>29</td>\n",
       "      <td>31</td>\n",
       "      <td>0.4730</td>\n",
       "      <td>0.0090</td>\n",
       "      <td>0.0016</td>\n",
       "      <td>48.1110</td>\n",
       "      <td>TM</td>\n",
       "      <td>01</td>\n",
       "      <td>01</td>\n",
       "      <td>/mnt/cropmaskperm/unpacked_ard_landsat_downloa...</td>\n",
       "      <td>/mnt/cropmaskperm/unpacked_ard_landsat_downloa...</td>\n",
       "    </tr>\n",
       "    <tr>\n",
       "      <th>2005-07-22</th>\n",
       "      <td>015</td>\n",
       "      <td>009</td>\n",
       "      <td>29</td>\n",
       "      <td>32</td>\n",
       "      <td>1.2552</td>\n",
       "      <td>0.7000</td>\n",
       "      <td>0.0007</td>\n",
       "      <td>21.9231</td>\n",
       "      <td>TM</td>\n",
       "      <td>01</td>\n",
       "      <td>01</td>\n",
       "      <td>/mnt/cropmaskperm/unpacked_ard_landsat_downloa...</td>\n",
       "      <td>/mnt/cropmaskperm/unpacked_ard_landsat_downloa...</td>\n",
       "    </tr>\n",
       "    <tr>\n",
       "      <th>2005-07-22</th>\n",
       "      <td>016</td>\n",
       "      <td>008</td>\n",
       "      <td>29</td>\n",
       "      <td>31</td>\n",
       "      <td>1.1735</td>\n",
       "      <td>0.6463</td>\n",
       "      <td>0.0000</td>\n",
       "      <td>22.0789</td>\n",
       "      <td>TM</td>\n",
       "      <td>01</td>\n",
       "      <td>01</td>\n",
       "      <td>/mnt/cropmaskperm/unpacked_ard_landsat_downloa...</td>\n",
       "      <td>/mnt/cropmaskperm/unpacked_ard_landsat_downloa...</td>\n",
       "    </tr>\n",
       "    <tr>\n",
       "      <th>2005-09-08</th>\n",
       "      <td>015</td>\n",
       "      <td>008</td>\n",
       "      <td>29</td>\n",
       "      <td>31</td>\n",
       "      <td>0.4539</td>\n",
       "      <td>0.0027</td>\n",
       "      <td>0.0024</td>\n",
       "      <td>46.0910</td>\n",
       "      <td>TM</td>\n",
       "      <td>01</td>\n",
       "      <td>01</td>\n",
       "      <td>/mnt/cropmaskperm/unpacked_ard_landsat_downloa...</td>\n",
       "      <td>/mnt/cropmaskperm/unpacked_ard_landsat_downloa...</td>\n",
       "    </tr>\n",
       "    <tr>\n",
       "      <th>2005-09-08</th>\n",
       "      <td>015</td>\n",
       "      <td>009</td>\n",
       "      <td>29</td>\n",
       "      <td>32</td>\n",
       "      <td>0.3829</td>\n",
       "      <td>0.0468</td>\n",
       "      <td>0.0016</td>\n",
       "      <td>19.8760</td>\n",
       "      <td>TM</td>\n",
       "      <td>01</td>\n",
       "      <td>01</td>\n",
       "      <td>/mnt/cropmaskperm/unpacked_ard_landsat_downloa...</td>\n",
       "      <td>/mnt/cropmaskperm/unpacked_ard_landsat_downloa...</td>\n",
       "    </tr>\n",
       "    <tr>\n",
       "      <th>2005-09-08</th>\n",
       "      <td>016</td>\n",
       "      <td>008</td>\n",
       "      <td>29</td>\n",
       "      <td>31</td>\n",
       "      <td>4.3626</td>\n",
       "      <td>0.3553</td>\n",
       "      <td>0.0001</td>\n",
       "      <td>23.8806</td>\n",
       "      <td>TM</td>\n",
       "      <td>01</td>\n",
       "      <td>01</td>\n",
       "      <td>/mnt/cropmaskperm/unpacked_ard_landsat_downloa...</td>\n",
       "      <td>/mnt/cropmaskperm/unpacked_ard_landsat_downloa...</td>\n",
       "    </tr>\n",
       "    <tr>\n",
       "      <th>2005-09-08</th>\n",
       "      <td>016</td>\n",
       "      <td>009</td>\n",
       "      <td>29</td>\n",
       "      <td>32</td>\n",
       "      <td>1.0098</td>\n",
       "      <td>0.4436</td>\n",
       "      <td>0.0000</td>\n",
       "      <td>50.2320</td>\n",
       "      <td>TM</td>\n",
       "      <td>01</td>\n",
       "      <td>01</td>\n",
       "      <td>/mnt/cropmaskperm/unpacked_ard_landsat_downloa...</td>\n",
       "      <td>/mnt/cropmaskperm/unpacked_ard_landsat_downloa...</td>\n",
       "    </tr>\n",
       "    <tr>\n",
       "      <th>2005-06-27</th>\n",
       "      <td>014</td>\n",
       "      <td>008</td>\n",
       "      <td>30</td>\n",
       "      <td>31</td>\n",
       "      <td>0.6898</td>\n",
       "      <td>0.0000</td>\n",
       "      <td>0.0036</td>\n",
       "      <td>78.8249</td>\n",
       "      <td>TM</td>\n",
       "      <td>01</td>\n",
       "      <td>01</td>\n",
       "      <td>/mnt/cropmaskperm/unpacked_ard_landsat_downloa...</td>\n",
       "      <td>/mnt/cropmaskperm/unpacked_ard_landsat_downloa...</td>\n",
       "    </tr>\n",
       "    <tr>\n",
       "      <th>2005-06-27</th>\n",
       "      <td>015</td>\n",
       "      <td>008</td>\n",
       "      <td>30</td>\n",
       "      <td>31</td>\n",
       "      <td>2.2365</td>\n",
       "      <td>0.7741</td>\n",
       "      <td>0.0000</td>\n",
       "      <td>23.3972</td>\n",
       "      <td>TM</td>\n",
       "      <td>01</td>\n",
       "      <td>01</td>\n",
       "      <td>/mnt/cropmaskperm/unpacked_ard_landsat_downloa...</td>\n",
       "      <td>/mnt/cropmaskperm/unpacked_ard_landsat_downloa...</td>\n",
       "    </tr>\n",
       "    <tr>\n",
       "      <th>2005-08-30</th>\n",
       "      <td>014</td>\n",
       "      <td>008</td>\n",
       "      <td>30</td>\n",
       "      <td>31</td>\n",
       "      <td>0.6013</td>\n",
       "      <td>0.0014</td>\n",
       "      <td>0.0023</td>\n",
       "      <td>59.9249</td>\n",
       "      <td>TM</td>\n",
       "      <td>01</td>\n",
       "      <td>01</td>\n",
       "      <td>/mnt/cropmaskperm/unpacked_ard_landsat_downloa...</td>\n",
       "      <td>/mnt/cropmaskperm/unpacked_ard_landsat_downloa...</td>\n",
       "    </tr>\n",
       "    <tr>\n",
       "      <th>2005-08-30</th>\n",
       "      <td>014</td>\n",
       "      <td>009</td>\n",
       "      <td>30</td>\n",
       "      <td>32</td>\n",
       "      <td>0.3571</td>\n",
       "      <td>0.0027</td>\n",
       "      <td>0.0016</td>\n",
       "      <td>31.9525</td>\n",
       "      <td>TM</td>\n",
       "      <td>01</td>\n",
       "      <td>01</td>\n",
       "      <td>/mnt/cropmaskperm/unpacked_ard_landsat_downloa...</td>\n",
       "      <td>/mnt/cropmaskperm/unpacked_ard_landsat_downloa...</td>\n",
       "    </tr>\n",
       "    <tr>\n",
       "      <th>2005-08-30</th>\n",
       "      <td>015</td>\n",
       "      <td>008</td>\n",
       "      <td>30</td>\n",
       "      <td>31</td>\n",
       "      <td>0.4191</td>\n",
       "      <td>0.2053</td>\n",
       "      <td>0.0000</td>\n",
       "      <td>10.1315</td>\n",
       "      <td>TM</td>\n",
       "      <td>01</td>\n",
       "      <td>01</td>\n",
       "      <td>/mnt/cropmaskperm/unpacked_ard_landsat_downloa...</td>\n",
       "      <td>/mnt/cropmaskperm/unpacked_ard_landsat_downloa...</td>\n",
       "    </tr>\n",
       "    <tr>\n",
       "      <th>2005-08-30</th>\n",
       "      <td>015</td>\n",
       "      <td>009</td>\n",
       "      <td>30</td>\n",
       "      <td>32</td>\n",
       "      <td>0.0728</td>\n",
       "      <td>0.0040</td>\n",
       "      <td>0.0000</td>\n",
       "      <td>37.9123</td>\n",
       "      <td>TM</td>\n",
       "      <td>01</td>\n",
       "      <td>01</td>\n",
       "      <td>/mnt/cropmaskperm/unpacked_ard_landsat_downloa...</td>\n",
       "      <td>/mnt/cropmaskperm/unpacked_ard_landsat_downloa...</td>\n",
       "    </tr>\n",
       "    <tr>\n",
       "      <th>2005-09-15</th>\n",
       "      <td>014</td>\n",
       "      <td>008</td>\n",
       "      <td>30</td>\n",
       "      <td>31</td>\n",
       "      <td>0.6179</td>\n",
       "      <td>0.0000</td>\n",
       "      <td>0.0031</td>\n",
       "      <td>59.7057</td>\n",
       "      <td>TM</td>\n",
       "      <td>01</td>\n",
       "      <td>01</td>\n",
       "      <td>/mnt/cropmaskperm/unpacked_ard_landsat_downloa...</td>\n",
       "      <td>/mnt/cropmaskperm/unpacked_ard_landsat_downloa...</td>\n",
       "    </tr>\n",
       "    <tr>\n",
       "      <th>2005-09-15</th>\n",
       "      <td>014</td>\n",
       "      <td>009</td>\n",
       "      <td>30</td>\n",
       "      <td>32</td>\n",
       "      <td>0.3632</td>\n",
       "      <td>0.0087</td>\n",
       "      <td>0.0021</td>\n",
       "      <td>31.7473</td>\n",
       "      <td>TM</td>\n",
       "      <td>01</td>\n",
       "      <td>01</td>\n",
       "      <td>/mnt/cropmaskperm/unpacked_ard_landsat_downloa...</td>\n",
       "      <td>/mnt/cropmaskperm/unpacked_ard_landsat_downloa...</td>\n",
       "    </tr>\n",
       "    <tr>\n",
       "      <th>2005-09-15</th>\n",
       "      <td>015</td>\n",
       "      <td>008</td>\n",
       "      <td>30</td>\n",
       "      <td>31</td>\n",
       "      <td>0.0576</td>\n",
       "      <td>0.0082</td>\n",
       "      <td>0.0000</td>\n",
       "      <td>9.8743</td>\n",
       "      <td>TM</td>\n",
       "      <td>01</td>\n",
       "      <td>01</td>\n",
       "      <td>/mnt/cropmaskperm/unpacked_ard_landsat_downloa...</td>\n",
       "      <td>/mnt/cropmaskperm/unpacked_ard_landsat_downloa...</td>\n",
       "    </tr>\n",
       "    <tr>\n",
       "      <th>2005-09-15</th>\n",
       "      <td>015</td>\n",
       "      <td>009</td>\n",
       "      <td>30</td>\n",
       "      <td>32</td>\n",
       "      <td>1.1430</td>\n",
       "      <td>0.8462</td>\n",
       "      <td>0.0000</td>\n",
       "      <td>37.5898</td>\n",
       "      <td>TM</td>\n",
       "      <td>01</td>\n",
       "      <td>01</td>\n",
       "      <td>/mnt/cropmaskperm/unpacked_ard_landsat_downloa...</td>\n",
       "      <td>/mnt/cropmaskperm/unpacked_ard_landsat_downloa...</td>\n",
       "    </tr>\n",
       "    <tr>\n",
       "      <th>2005-08-05</th>\n",
       "      <td>013</td>\n",
       "      <td>008</td>\n",
       "      <td>31</td>\n",
       "      <td>31</td>\n",
       "      <td>1.2042</td>\n",
       "      <td>0.0649</td>\n",
       "      <td>0.0045</td>\n",
       "      <td>73.9718</td>\n",
       "      <td>TM</td>\n",
       "      <td>01</td>\n",
       "      <td>01</td>\n",
       "      <td>/mnt/cropmaskperm/unpacked_ard_landsat_downloa...</td>\n",
       "      <td>/mnt/cropmaskperm/unpacked_ard_landsat_downloa...</td>\n",
       "    </tr>\n",
       "    <tr>\n",
       "      <th>2005-08-05</th>\n",
       "      <td>014</td>\n",
       "      <td>008</td>\n",
       "      <td>31</td>\n",
       "      <td>31</td>\n",
       "      <td>0.1270</td>\n",
       "      <td>0.0283</td>\n",
       "      <td>0.0000</td>\n",
       "      <td>1.8143</td>\n",
       "      <td>TM</td>\n",
       "      <td>01</td>\n",
       "      <td>01</td>\n",
       "      <td>/mnt/cropmaskperm/unpacked_ard_landsat_downloa...</td>\n",
       "      <td>/mnt/cropmaskperm/unpacked_ard_landsat_downloa...</td>\n",
       "    </tr>\n",
       "    <tr>\n",
       "      <th>2005-09-06</th>\n",
       "      <td>014</td>\n",
       "      <td>009</td>\n",
       "      <td>31</td>\n",
       "      <td>32</td>\n",
       "      <td>5.5909</td>\n",
       "      <td>0.6330</td>\n",
       "      <td>0.0000</td>\n",
       "      <td>25.9121</td>\n",
       "      <td>TM</td>\n",
       "      <td>01</td>\n",
       "      <td>01</td>\n",
       "      <td>/mnt/cropmaskperm/unpacked_ard_landsat_downloa...</td>\n",
       "      <td>/mnt/cropmaskperm/unpacked_ard_landsat_downloa...</td>\n",
       "    </tr>\n",
       "    <tr>\n",
       "      <th>2005-07-11</th>\n",
       "      <td>013</td>\n",
       "      <td>009</td>\n",
       "      <td>32</td>\n",
       "      <td>32</td>\n",
       "      <td>1.1113</td>\n",
       "      <td>0.5699</td>\n",
       "      <td>0.0000</td>\n",
       "      <td>11.6855</td>\n",
       "      <td>TM</td>\n",
       "      <td>01</td>\n",
       "      <td>01</td>\n",
       "      <td>/mnt/cropmaskperm/unpacked_ard_landsat_downloa...</td>\n",
       "      <td>/mnt/cropmaskperm/unpacked_ard_landsat_downloa...</td>\n",
       "    </tr>\n",
       "    <tr>\n",
       "      <th>2005-08-28</th>\n",
       "      <td>013</td>\n",
       "      <td>008</td>\n",
       "      <td>32</td>\n",
       "      <td>31</td>\n",
       "      <td>0.0847</td>\n",
       "      <td>0.0445</td>\n",
       "      <td>0.0000</td>\n",
       "      <td>0.0389</td>\n",
       "      <td>TM</td>\n",
       "      <td>01</td>\n",
       "      <td>01</td>\n",
       "      <td>/mnt/cropmaskperm/unpacked_ard_landsat_downloa...</td>\n",
       "      <td>/mnt/cropmaskperm/unpacked_ard_landsat_downloa...</td>\n",
       "    </tr>\n",
       "    <tr>\n",
       "      <th>2005-08-28</th>\n",
       "      <td>013</td>\n",
       "      <td>009</td>\n",
       "      <td>32</td>\n",
       "      <td>32</td>\n",
       "      <td>0.0214</td>\n",
       "      <td>0.0018</td>\n",
       "      <td>0.0000</td>\n",
       "      <td>14.5791</td>\n",
       "      <td>TM</td>\n",
       "      <td>01</td>\n",
       "      <td>01</td>\n",
       "      <td>/mnt/cropmaskperm/unpacked_ard_landsat_downloa...</td>\n",
       "      <td>/mnt/cropmaskperm/unpacked_ard_landsat_downloa...</td>\n",
       "    </tr>\n",
       "    <tr>\n",
       "      <th>2005-07-02</th>\n",
       "      <td>012</td>\n",
       "      <td>008</td>\n",
       "      <td>33</td>\n",
       "      <td>31</td>\n",
       "      <td>0.3125</td>\n",
       "      <td>0.0499</td>\n",
       "      <td>0.0003</td>\n",
       "      <td>4.7389</td>\n",
       "      <td>TM</td>\n",
       "      <td>01</td>\n",
       "      <td>01</td>\n",
       "      <td>/mnt/cropmaskperm/unpacked_ard_landsat_downloa...</td>\n",
       "      <td>/mnt/cropmaskperm/unpacked_ard_landsat_downloa...</td>\n",
       "    </tr>\n",
       "    <tr>\n",
       "      <th>2005-07-02</th>\n",
       "      <td>013</td>\n",
       "      <td>008</td>\n",
       "      <td>33</td>\n",
       "      <td>31</td>\n",
       "      <td>0.0268</td>\n",
       "      <td>0.0082</td>\n",
       "      <td>0.0000</td>\n",
       "      <td>66.1521</td>\n",
       "      <td>TM</td>\n",
       "      <td>01</td>\n",
       "      <td>01</td>\n",
       "      <td>/mnt/cropmaskperm/unpacked_ard_landsat_downloa...</td>\n",
       "      <td>/mnt/cropmaskperm/unpacked_ard_landsat_downloa...</td>\n",
       "    </tr>\n",
       "    <tr>\n",
       "      <th>2005-08-19</th>\n",
       "      <td>012</td>\n",
       "      <td>008</td>\n",
       "      <td>33</td>\n",
       "      <td>31</td>\n",
       "      <td>2.2159</td>\n",
       "      <td>1.8556</td>\n",
       "      <td>0.0006</td>\n",
       "      <td>3.2831</td>\n",
       "      <td>TM</td>\n",
       "      <td>01</td>\n",
       "      <td>01</td>\n",
       "      <td>/mnt/cropmaskperm/unpacked_ard_landsat_downloa...</td>\n",
       "      <td>/mnt/cropmaskperm/unpacked_ard_landsat_downloa...</td>\n",
       "    </tr>\n",
       "    <tr>\n",
       "      <th>2005-09-20</th>\n",
       "      <td>012</td>\n",
       "      <td>008</td>\n",
       "      <td>33</td>\n",
       "      <td>31</td>\n",
       "      <td>0.1732</td>\n",
       "      <td>0.0301</td>\n",
       "      <td>0.0005</td>\n",
       "      <td>3.0760</td>\n",
       "      <td>TM</td>\n",
       "      <td>01</td>\n",
       "      <td>01</td>\n",
       "      <td>/mnt/cropmaskperm/unpacked_ard_landsat_downloa...</td>\n",
       "      <td>/mnt/cropmaskperm/unpacked_ard_landsat_downloa...</td>\n",
       "    </tr>\n",
       "    <tr>\n",
       "      <th>2005-09-20</th>\n",
       "      <td>013</td>\n",
       "      <td>008</td>\n",
       "      <td>33</td>\n",
       "      <td>31</td>\n",
       "      <td>0.0291</td>\n",
       "      <td>0.0042</td>\n",
       "      <td>0.0000</td>\n",
       "      <td>69.6189</td>\n",
       "      <td>TM</td>\n",
       "      <td>01</td>\n",
       "      <td>01</td>\n",
       "      <td>/mnt/cropmaskperm/unpacked_ard_landsat_downloa...</td>\n",
       "      <td>/mnt/cropmaskperm/unpacked_ard_landsat_downloa...</td>\n",
       "    </tr>\n",
       "  </tbody>\n",
       "</table>\n",
       "</div>"
      ],
      "text/plain": [
       "                    h    v  path  row  cloud_cover  cloud_shadow  snow_ice  \\\n",
       "acquisition_date                                                             \n",
       "2005-06-20        015  008    29   31       0.7433        0.0962    0.0030   \n",
       "2005-06-20        015  009    29   32       0.3617        0.0153    0.0018   \n",
       "2005-06-20        016  008    29   31       0.1065        0.0272    0.0000   \n",
       "2005-06-20        016  009    29   32       0.0180        0.0025    0.0000   \n",
       "2005-07-22        015  008    29   31       0.4730        0.0090    0.0016   \n",
       "2005-07-22        015  009    29   32       1.2552        0.7000    0.0007   \n",
       "2005-07-22        016  008    29   31       1.1735        0.6463    0.0000   \n",
       "2005-09-08        015  008    29   31       0.4539        0.0027    0.0024   \n",
       "2005-09-08        015  009    29   32       0.3829        0.0468    0.0016   \n",
       "2005-09-08        016  008    29   31       4.3626        0.3553    0.0001   \n",
       "2005-09-08        016  009    29   32       1.0098        0.4436    0.0000   \n",
       "2005-06-27        014  008    30   31       0.6898        0.0000    0.0036   \n",
       "2005-06-27        015  008    30   31       2.2365        0.7741    0.0000   \n",
       "2005-08-30        014  008    30   31       0.6013        0.0014    0.0023   \n",
       "2005-08-30        014  009    30   32       0.3571        0.0027    0.0016   \n",
       "2005-08-30        015  008    30   31       0.4191        0.2053    0.0000   \n",
       "2005-08-30        015  009    30   32       0.0728        0.0040    0.0000   \n",
       "2005-09-15        014  008    30   31       0.6179        0.0000    0.0031   \n",
       "2005-09-15        014  009    30   32       0.3632        0.0087    0.0021   \n",
       "2005-09-15        015  008    30   31       0.0576        0.0082    0.0000   \n",
       "2005-09-15        015  009    30   32       1.1430        0.8462    0.0000   \n",
       "2005-08-05        013  008    31   31       1.2042        0.0649    0.0045   \n",
       "2005-08-05        014  008    31   31       0.1270        0.0283    0.0000   \n",
       "2005-09-06        014  009    31   32       5.5909        0.6330    0.0000   \n",
       "2005-07-11        013  009    32   32       1.1113        0.5699    0.0000   \n",
       "2005-08-28        013  008    32   31       0.0847        0.0445    0.0000   \n",
       "2005-08-28        013  009    32   32       0.0214        0.0018    0.0000   \n",
       "2005-07-02        012  008    33   31       0.3125        0.0499    0.0003   \n",
       "2005-07-02        013  008    33   31       0.0268        0.0082    0.0000   \n",
       "2005-08-19        012  008    33   31       2.2159        1.8556    0.0006   \n",
       "2005-09-20        012  008    33   31       0.1732        0.0301    0.0005   \n",
       "2005-09-20        013  008    33   31       0.0291        0.0042    0.0000   \n",
       "\n",
       "                     fill instrument level1_collection ard_version  \\\n",
       "acquisition_date                                                     \n",
       "2005-06-20        49.2312         TM                01          01   \n",
       "2005-06-20        23.0621         TM                01          01   \n",
       "2005-06-20        20.1136         TM                01          01   \n",
       "2005-06-20        46.4412         TM                01          01   \n",
       "2005-07-22        48.1110         TM                01          01   \n",
       "2005-07-22        21.9231         TM                01          01   \n",
       "2005-07-22        22.0789         TM                01          01   \n",
       "2005-09-08        46.0910         TM                01          01   \n",
       "2005-09-08        19.8760         TM                01          01   \n",
       "2005-09-08        23.8806         TM                01          01   \n",
       "2005-09-08        50.2320         TM                01          01   \n",
       "2005-06-27        78.8249         TM                01          01   \n",
       "2005-06-27        23.3972         TM                01          01   \n",
       "2005-08-30        59.9249         TM                01          01   \n",
       "2005-08-30        31.9525         TM                01          01   \n",
       "2005-08-30        10.1315         TM                01          01   \n",
       "2005-08-30        37.9123         TM                01          01   \n",
       "2005-09-15        59.7057         TM                01          01   \n",
       "2005-09-15        31.7473         TM                01          01   \n",
       "2005-09-15         9.8743         TM                01          01   \n",
       "2005-09-15        37.5898         TM                01          01   \n",
       "2005-08-05        73.9718         TM                01          01   \n",
       "2005-08-05         1.8143         TM                01          01   \n",
       "2005-09-06        25.9121         TM                01          01   \n",
       "2005-07-11        11.6855         TM                01          01   \n",
       "2005-08-28         0.0389         TM                01          01   \n",
       "2005-08-28        14.5791         TM                01          01   \n",
       "2005-07-02         4.7389         TM                01          01   \n",
       "2005-07-02        66.1521         TM                01          01   \n",
       "2005-08-19         3.2831         TM                01          01   \n",
       "2005-09-20         3.0760         TM                01          01   \n",
       "2005-09-20        69.6189         TM                01          01   \n",
       "\n",
       "                                                          xml_paths  \\\n",
       "acquisition_date                                                      \n",
       "2005-06-20        /mnt/cropmaskperm/unpacked_ard_landsat_downloa...   \n",
       "2005-06-20        /mnt/cropmaskperm/unpacked_ard_landsat_downloa...   \n",
       "2005-06-20        /mnt/cropmaskperm/unpacked_ard_landsat_downloa...   \n",
       "2005-06-20        /mnt/cropmaskperm/unpacked_ard_landsat_downloa...   \n",
       "2005-07-22        /mnt/cropmaskperm/unpacked_ard_landsat_downloa...   \n",
       "2005-07-22        /mnt/cropmaskperm/unpacked_ard_landsat_downloa...   \n",
       "2005-07-22        /mnt/cropmaskperm/unpacked_ard_landsat_downloa...   \n",
       "2005-09-08        /mnt/cropmaskperm/unpacked_ard_landsat_downloa...   \n",
       "2005-09-08        /mnt/cropmaskperm/unpacked_ard_landsat_downloa...   \n",
       "2005-09-08        /mnt/cropmaskperm/unpacked_ard_landsat_downloa...   \n",
       "2005-09-08        /mnt/cropmaskperm/unpacked_ard_landsat_downloa...   \n",
       "2005-06-27        /mnt/cropmaskperm/unpacked_ard_landsat_downloa...   \n",
       "2005-06-27        /mnt/cropmaskperm/unpacked_ard_landsat_downloa...   \n",
       "2005-08-30        /mnt/cropmaskperm/unpacked_ard_landsat_downloa...   \n",
       "2005-08-30        /mnt/cropmaskperm/unpacked_ard_landsat_downloa...   \n",
       "2005-08-30        /mnt/cropmaskperm/unpacked_ard_landsat_downloa...   \n",
       "2005-08-30        /mnt/cropmaskperm/unpacked_ard_landsat_downloa...   \n",
       "2005-09-15        /mnt/cropmaskperm/unpacked_ard_landsat_downloa...   \n",
       "2005-09-15        /mnt/cropmaskperm/unpacked_ard_landsat_downloa...   \n",
       "2005-09-15        /mnt/cropmaskperm/unpacked_ard_landsat_downloa...   \n",
       "2005-09-15        /mnt/cropmaskperm/unpacked_ard_landsat_downloa...   \n",
       "2005-08-05        /mnt/cropmaskperm/unpacked_ard_landsat_downloa...   \n",
       "2005-08-05        /mnt/cropmaskperm/unpacked_ard_landsat_downloa...   \n",
       "2005-09-06        /mnt/cropmaskperm/unpacked_ard_landsat_downloa...   \n",
       "2005-07-11        /mnt/cropmaskperm/unpacked_ard_landsat_downloa...   \n",
       "2005-08-28        /mnt/cropmaskperm/unpacked_ard_landsat_downloa...   \n",
       "2005-08-28        /mnt/cropmaskperm/unpacked_ard_landsat_downloa...   \n",
       "2005-07-02        /mnt/cropmaskperm/unpacked_ard_landsat_downloa...   \n",
       "2005-07-02        /mnt/cropmaskperm/unpacked_ard_landsat_downloa...   \n",
       "2005-08-19        /mnt/cropmaskperm/unpacked_ard_landsat_downloa...   \n",
       "2005-09-20        /mnt/cropmaskperm/unpacked_ard_landsat_downloa...   \n",
       "2005-09-20        /mnt/cropmaskperm/unpacked_ard_landsat_downloa...   \n",
       "\n",
       "                                                        scene_paths  \n",
       "acquisition_date                                                     \n",
       "2005-06-20        /mnt/cropmaskperm/unpacked_ard_landsat_downloa...  \n",
       "2005-06-20        /mnt/cropmaskperm/unpacked_ard_landsat_downloa...  \n",
       "2005-06-20        /mnt/cropmaskperm/unpacked_ard_landsat_downloa...  \n",
       "2005-06-20        /mnt/cropmaskperm/unpacked_ard_landsat_downloa...  \n",
       "2005-07-22        /mnt/cropmaskperm/unpacked_ard_landsat_downloa...  \n",
       "2005-07-22        /mnt/cropmaskperm/unpacked_ard_landsat_downloa...  \n",
       "2005-07-22        /mnt/cropmaskperm/unpacked_ard_landsat_downloa...  \n",
       "2005-09-08        /mnt/cropmaskperm/unpacked_ard_landsat_downloa...  \n",
       "2005-09-08        /mnt/cropmaskperm/unpacked_ard_landsat_downloa...  \n",
       "2005-09-08        /mnt/cropmaskperm/unpacked_ard_landsat_downloa...  \n",
       "2005-09-08        /mnt/cropmaskperm/unpacked_ard_landsat_downloa...  \n",
       "2005-06-27        /mnt/cropmaskperm/unpacked_ard_landsat_downloa...  \n",
       "2005-06-27        /mnt/cropmaskperm/unpacked_ard_landsat_downloa...  \n",
       "2005-08-30        /mnt/cropmaskperm/unpacked_ard_landsat_downloa...  \n",
       "2005-08-30        /mnt/cropmaskperm/unpacked_ard_landsat_downloa...  \n",
       "2005-08-30        /mnt/cropmaskperm/unpacked_ard_landsat_downloa...  \n",
       "2005-08-30        /mnt/cropmaskperm/unpacked_ard_landsat_downloa...  \n",
       "2005-09-15        /mnt/cropmaskperm/unpacked_ard_landsat_downloa...  \n",
       "2005-09-15        /mnt/cropmaskperm/unpacked_ard_landsat_downloa...  \n",
       "2005-09-15        /mnt/cropmaskperm/unpacked_ard_landsat_downloa...  \n",
       "2005-09-15        /mnt/cropmaskperm/unpacked_ard_landsat_downloa...  \n",
       "2005-08-05        /mnt/cropmaskperm/unpacked_ard_landsat_downloa...  \n",
       "2005-08-05        /mnt/cropmaskperm/unpacked_ard_landsat_downloa...  \n",
       "2005-09-06        /mnt/cropmaskperm/unpacked_ard_landsat_downloa...  \n",
       "2005-07-11        /mnt/cropmaskperm/unpacked_ard_landsat_downloa...  \n",
       "2005-08-28        /mnt/cropmaskperm/unpacked_ard_landsat_downloa...  \n",
       "2005-08-28        /mnt/cropmaskperm/unpacked_ard_landsat_downloa...  \n",
       "2005-07-02        /mnt/cropmaskperm/unpacked_ard_landsat_downloa...  \n",
       "2005-07-02        /mnt/cropmaskperm/unpacked_ard_landsat_downloa...  \n",
       "2005-08-19        /mnt/cropmaskperm/unpacked_ard_landsat_downloa...  \n",
       "2005-09-20        /mnt/cropmaskperm/unpacked_ard_landsat_downloa...  \n",
       "2005-09-20        /mnt/cropmaskperm/unpacked_ard_landsat_downloa...  "
      ]
     },
     "execution_count": 1,
     "metadata": {},
     "output_type": "execute_result"
    }
   ],
   "source": [
    "from pathlib import Path\n",
    "import pandas as pd \n",
    "import xml.etree.ElementTree as et \n",
    "%matplotlib inline\n",
    "\n",
    "root_dir_sr = Path(\"/mnt/cropmaskperm/unpacked_ard_landsat_downloads/ARDSR/\")\n",
    "root_dir_xml = Path(\"/mnt/cropmaskperm/unpacked_ard_landsat_downloads/ARDxml/\")\n",
    "\n",
    "scene_paths = sorted(root_dir_sr.glob(\"*\"))\n",
    "xml_paths = sorted(root_dir_xml.glob(\"*\"))\n",
    "df_cols = [\"cloud_cover\", \"cloud_shadow\", \"snow_ice\", \"fill\", \"instrument\", \"level1_collection\", \"ard_version\"]\n",
    "rows = []\n",
    "\n",
    "\n",
    "for xml_path in xml_paths:\n",
    "    \n",
    "    xtree = et.parse(xml_path)\n",
    "    tile_meta_ard = list(xtree.getroot())[0][0]\n",
    "    tile_meta_global = list(xtree.getroot())[1][1]\n",
    "    dataframe_dict = {}\n",
    "\n",
    "    element = tile_meta_ard.find(\"{https://landsat.usgs.gov/ard/v1}\"+\"tile_grid\")\n",
    "    h = element.attrib['h']\n",
    "    v = element.attrib['v']\n",
    "    \n",
    "    element = tile_meta_global.find(\"{https://landsat.usgs.gov/ard/v1}\"+\"wrs\")\n",
    "    path = element.attrib['path']\n",
    "    row = element.attrib['row']\n",
    "    \n",
    "    element = tile_meta_ard.find(\"{https://landsat.usgs.gov/ard/v1}\"+\"acquisition_date\")\n",
    "    datetime = pd.to_datetime(element.text, format=\"%Y-%m-%d\")\n",
    "    \n",
    "    dataframe_dict.update({'h':h, 'v':v, 'path': int(path), 'row': int(row), 'acquisition_date':datetime})\n",
    "    \n",
    "    for col in df_cols:\n",
    "        element = tile_meta_ard.find(\"{https://landsat.usgs.gov/ard/v1}\"+col)\n",
    "        if col in [\"cloud_cover\", \"cloud_shadow\", \"snow_ice\", \"fill\"]:\n",
    "            element.text = float(element.text)\n",
    "        dataframe_dict.update({col:element.text})\n",
    "    rows.append(dataframe_dict)\n",
    "    \n",
    "out_df = pd.DataFrame(rows, columns = df_cols.extend(['h','v', 'path', 'row', 'acquisition_date']))\n",
    "\n",
    "out_df = out_df.set_index(\"acquisition_date\")\n",
    "\n",
    "out_df['xml_paths'] = xml_paths\n",
    "out_df['scene_paths'] = scene_paths\n",
    "\n",
    "# original paths and rows used in (path, row) form\n",
    "og_path_rows = [(29, 31), (29, 32), (30, 31), (30, 32), (31, 31), (31, 32), (32, 31), (32, 32), (33, 31), (33, 32)]\n",
    "# below not used yet, unsure which dates correspond to which path rows since this isn't documented in the label metadata\n",
    "og_dates = pd.to_datetime([\"2005/06/20\", '2005/07/22', '2005/09/08', '2005/06/27', '2005/08/30', '2005/09/15', '2005/08/05', '2005/09/06', '2005/07/11', '2005/08/28', '2005/07/02', '2005/08/19', '2005/09/20'])\n",
    "# 2005-07-20 was missing, could be a mistake in the metadata, amybe they meant 2005-07-22\n",
    "\n",
    "out_df = out_df.loc[og_dates]\n",
    "\n",
    "out_df = out_df[out_df[['path', 'row']].apply(tuple, axis=1).isin(og_path_rows)]\n",
    "out_df"
   ]
  },
  {
   "cell_type": "code",
   "execution_count": 2,
   "metadata": {},
   "outputs": [],
   "source": [
    "# drops the cloudiest duplicate by keeping the first duplicate. since we sorted by least cloudy to cloudiest\n",
    "least_cloudy_june_sept_df = out_df['2005-06-20':\"2005-09-20\"]\\\n",
    "    .sort_values([\"fill\", \"cloud_cover\"])\\\n",
    "    .drop_duplicates(['h','v']) \n",
    "\n",
    "least_cloudy_june_sept_lst = least_cloudy_june_sept_df['scene_paths'].apply(str).to_list()"
   ]
  },
  {
   "cell_type": "code",
   "execution_count": null,
   "metadata": {},
   "outputs": [],
   "source": [
    "from cropmask.preprocess import PreprocessWorkflow, setup_dirs\n",
    "import time\n",
    "import dask\n",
    "\n",
    "param_path = \"/home/ryan/work/CropMask_RCNN/cropmask/test_preprocess_config.yaml\"\n",
    "\n",
    "# selected scenes with almost no clouds that occurred as well outside of the frost season as possible (ends in February-March)\n",
    "scene_list = least_cloudy_june_sept_lst\n",
    "labels_path = \"/mnt/cropmaskperm/external/nebraska_pivots_projected.geojson\"\n",
    "\n",
    "setup_dirs(param_path)\n",
    "\n",
    "results = []\n",
    "for scene_path in scene_list:\n",
    "\n",
    "#     wflow = dask.delayed(PreprocessWorkflow)(param_path, scene_path, labels_path)\n",
    "\n",
    "    wflow = PreprocessWorkflow(param_path, scene_path, labels_path)\n",
    "    \n",
    "    band_list = wflow.yaml_to_band_index()\n",
    "        \n",
    "    product_list = wflow.get_product_paths(band_list)\n",
    "        \n",
    "    a = wflow.load_meta_and_bounds(product_list)\n",
    "        \n",
    "    b = a.stack_and_save_bands()\n",
    "        \n",
    "    c = b.tile_scene_and_vector()\n",
    "    \n",
    "    result = c.geojsons_to_masks() #not needed for coco conversions tep if using solaris\n",
    "\n",
    "    results.append(result)\n",
    "  \n",
    "\n",
    "# # # https://docs.dask.org/en/stable/delayed-best-practices.html\n",
    "# from dask.distributed import Client\n",
    "\n",
    "# client = Client()  # use dask.distributed by default\n",
    "\n",
    "# x = client.compute(results, scheduler=\"processes\", num_workers=3)  # start computation in the background"
   ]
  },
  {
   "cell_type": "code",
   "execution_count": null,
   "metadata": {},
   "outputs": [],
   "source": [
    "x"
   ]
  },
  {
   "cell_type": "markdown",
   "metadata": {},
   "source": [
    "# Single Case"
   ]
  },
  {
   "cell_type": "code",
   "execution_count": 3,
   "metadata": {},
   "outputs": [
    {
     "data": {
      "text/plain": [
       "['/mnt/cropmaskperm/unpacked_ard_landsat_downloads/ARDSR/LT05_CU_013008_20050828_20190107_C01_V01_SR',\n",
       " '/mnt/cropmaskperm/unpacked_ard_landsat_downloads/ARDSR/LT05_CU_014008_20050805_20181227_C01_V01_SR',\n",
       " '/mnt/cropmaskperm/unpacked_ard_landsat_downloads/ARDSR/LT05_CU_012008_20050920_20190107_C01_V01_SR',\n",
       " '/mnt/cropmaskperm/unpacked_ard_landsat_downloads/ARDSR/LT05_CU_015008_20050915_20190102_C01_V01_SR',\n",
       " '/mnt/cropmaskperm/unpacked_ard_landsat_downloads/ARDSR/LT05_CU_013009_20050711_20190102_C01_V01_SR',\n",
       " '/mnt/cropmaskperm/unpacked_ard_landsat_downloads/ARDSR/LT05_CU_015009_20050908_20190102_C01_V01_SR',\n",
       " '/mnt/cropmaskperm/unpacked_ard_landsat_downloads/ARDSR/LT05_CU_016008_20050620_20190102_C01_V01_SR',\n",
       " '/mnt/cropmaskperm/unpacked_ard_landsat_downloads/ARDSR/LT05_CU_014009_20050906_20190102_C01_V01_SR',\n",
       " '/mnt/cropmaskperm/unpacked_ard_landsat_downloads/ARDSR/LT05_CU_016009_20050620_20190102_C01_V01_SR']"
      ]
     },
     "execution_count": 3,
     "metadata": {},
     "output_type": "execute_result"
    }
   ],
   "source": [
    "least_cloudy_june_sept_lst"
   ]
  },
  {
   "cell_type": "code",
   "execution_count": 3,
   "metadata": {},
   "outputs": [
    {
     "name": "stderr",
     "output_type": "stream",
     "text": [
      "/home/ryan/miniconda3/envs/cropmask/lib/python3.6/site-packages/tensorflow/python/framework/dtypes.py:526: FutureWarning: Passing (type, 1) or '1type' as a synonym of type is deprecated; in a future version of numpy, it will be understood as (type, (1,)) / '(1,)type'.\n",
      "  _np_qint8 = np.dtype([(\"qint8\", np.int8, 1)])\n",
      "/home/ryan/miniconda3/envs/cropmask/lib/python3.6/site-packages/tensorflow/python/framework/dtypes.py:527: FutureWarning: Passing (type, 1) or '1type' as a synonym of type is deprecated; in a future version of numpy, it will be understood as (type, (1,)) / '(1,)type'.\n",
      "  _np_quint8 = np.dtype([(\"quint8\", np.uint8, 1)])\n",
      "/home/ryan/miniconda3/envs/cropmask/lib/python3.6/site-packages/tensorflow/python/framework/dtypes.py:528: FutureWarning: Passing (type, 1) or '1type' as a synonym of type is deprecated; in a future version of numpy, it will be understood as (type, (1,)) / '(1,)type'.\n",
      "  _np_qint16 = np.dtype([(\"qint16\", np.int16, 1)])\n",
      "/home/ryan/miniconda3/envs/cropmask/lib/python3.6/site-packages/tensorflow/python/framework/dtypes.py:529: FutureWarning: Passing (type, 1) or '1type' as a synonym of type is deprecated; in a future version of numpy, it will be understood as (type, (1,)) / '(1,)type'.\n",
      "  _np_quint16 = np.dtype([(\"quint16\", np.uint16, 1)])\n",
      "/home/ryan/miniconda3/envs/cropmask/lib/python3.6/site-packages/tensorflow/python/framework/dtypes.py:530: FutureWarning: Passing (type, 1) or '1type' as a synonym of type is deprecated; in a future version of numpy, it will be understood as (type, (1,)) / '(1,)type'.\n",
      "  _np_qint32 = np.dtype([(\"qint32\", np.int32, 1)])\n",
      "/home/ryan/miniconda3/envs/cropmask/lib/python3.6/site-packages/tensorflow/python/framework/dtypes.py:535: FutureWarning: Passing (type, 1) or '1type' as a synonym of type is deprecated; in a future version of numpy, it will be understood as (type, (1,)) / '(1,)type'.\n",
      "  np_resource = np.dtype([(\"resource\", np.ubyte, 1)])\n"
     ]
    }
   ],
   "source": [
    "%load_ext autoreload\n",
    "%autoreload 2\n",
    "from cropmask.preprocess import PreprocessWorkflow, setup_dirs\n",
    "import time\n",
    "import dask\n",
    "\n",
    "param_path = \"/home/ryan/work/CropMask_RCNN/cropmask/test_preprocess_config.yaml\"\n",
    "\n",
    "# selected scenes with almost no clouds that occurred as well outside of the frost season as possible (ends in February-March)\n",
    "# scene_list = least_cloudy_june_sept_lst\n",
    "labels_path = \"/mnt/cropmaskperm/external/nebraska_pivots_projected.geojson\"\n",
    "\n",
    "setup_dirs(param_path)\n",
    "# problem path\n",
    "wflow = PreprocessWorkflow(param_path, \n",
    "                             least_cloudy_june_sept_lst[2],\n",
    "                             labels_path)\n",
    "\n",
    "band_list = wflow.yaml_to_band_index()\n",
    "\n",
    "product_list = wflow.get_product_paths(band_list)\n",
    "\n",
    "a = wflow.load_meta_and_bounds(product_list)\n",
    "\n",
    "b = a.stack_and_save_bands()\n",
    "\n"
   ]
  },
  {
   "cell_type": "code",
   "execution_count": 4,
   "metadata": {},
   "outputs": [
    {
     "name": "stderr",
     "output_type": "stream",
     "text": [
      "/home/ryan/miniconda3/envs/cropmask/lib/python3.6/site-packages/pyproj/crs.py:77: FutureWarning: '+init=<authority>:<code>' syntax is deprecated. '<authority>:<code>' is the preferred initialization method.\n",
      "  return _prepare_from_string(\" \".join(pjargs))\n",
      "/home/ryan/miniconda3/envs/cropmask/lib/python3.6/site-packages/pyproj/crs.py:77: FutureWarning: '+init=<authority>:<code>' syntax is deprecated. '<authority>:<code>' is the preferred initialization method.\n",
      "  return _prepare_from_string(\" \".join(pjargs))\n"
     ]
    },
    {
     "name": "stdout",
     "output_type": "stream",
     "text": [
      "Initializing Tiler...\n",
      "Tiler initialized.\n",
      "dest_dir: /datadrive/test-ard-june-sept-rgb/tiles/image_tiles\n",
      "dest_crs will be inferred from source data.\n",
      "src_tile_size: (512, 512)\n",
      "tile size units metric: False\n",
      "Resampling is set to None\n"
     ]
    },
    {
     "name": "stderr",
     "output_type": "stream",
     "text": [
      "0it [00:00, ?it/s]The following warnings were found:\n",
      "- The file is greater than 512xH or 512xW, it is recommended to include internal overviews\n",
      "\n",
      "The following errors were found:\n",
      "- The file is greater than 512xH or 512xW, but is not tiled\n",
      "2it [00:00, 13.34it/s]"
     ]
    },
    {
     "name": "stdout",
     "output_type": "stream",
     "text": [
      "Beginning tiling...\n",
      "nodata value threshold supplied, filtering based on this percentage.\n",
      "Checking input data...\n",
      "COG: False\n",
      "[1, 2, 3]\n",
      "Source CRS: EPSG:None\n",
      "Destination CRS: EPSG:None\n",
      "Inputs OK.\n"
     ]
    },
    {
     "name": "stderr",
     "output_type": "stream",
     "text": [
      "24it [00:01, 15.66it/s]\n",
      "0it [00:00, ?it/s]"
     ]
    },
    {
     "name": "stdout",
     "output_type": "stream",
     "text": [
      "Tiling complete. Cleaning up...\n",
      "Done. CRS returned for vector tiling.\n",
      "Preparing the tiler...\n",
      "Initialization done.\n",
      "Num tiles: 24\n"
     ]
    },
    {
     "name": "stderr",
     "output_type": "stream",
     "text": [
      "24it [00:07,  3.10it/s]\n"
     ]
    },
    {
     "data": {
      "text/plain": [
       "<cropmask.preprocess.PreprocessWorkflow at 0x7f7e4c1f9048>"
      ]
     },
     "execution_count": 4,
     "metadata": {},
     "output_type": "execute_result"
    }
   ],
   "source": [
    "b.tile_scene_and_vector()"
   ]
  },
  {
   "cell_type": "code",
   "execution_count": 7,
   "metadata": {},
   "outputs": [
    {
     "data": {
      "text/plain": [
       "CRS.from_wkt('PROJCS[\"Albers\",GEOGCS[\"WGS 84\",DATUM[\"WGS_1984\",SPHEROID[\"WGS 84\",6378140,298.256999999996,AUTHORITY[\"EPSG\",\"7030\"]],AUTHORITY[\"EPSG\",\"6326\"]],PRIMEM[\"Greenwich\",0],UNIT[\"degree\",0.0174532925199433,AUTHORITY[\"EPSG\",\"9122\"]],AUTHORITY[\"EPSG\",\"4326\"]],PROJECTION[\"Albers_Conic_Equal_Area\"],PARAMETER[\"latitude_of_center\",23],PARAMETER[\"longitude_of_center\",-96],PARAMETER[\"standard_parallel_1\",29.5],PARAMETER[\"standard_parallel_2\",45.5],PARAMETER[\"false_easting\",0],PARAMETER[\"false_northing\",0],UNIT[\"metre\",1,AUTHORITY[\"EPSG\",\"9001\"]],AXIS[\"Easting\",EAST],AXIS[\"Northing\",NORTH]]')"
      ]
     },
     "execution_count": 7,
     "metadata": {},
     "output_type": "execute_result"
    }
   ],
   "source": [
    "b.vector_tiler.dest_crs"
   ]
  },
  {
   "cell_type": "markdown",
   "metadata": {},
   "source": [
    "to do make issue. _check_crs messes up first proj turns it into second proj"
   ]
  },
  {
   "cell_type": "code",
   "execution_count": 6,
   "metadata": {},
   "outputs": [
    {
     "data": {
      "text/plain": [
       "CRS.from_wkt('PROJCS[\"Albers\",GEOGCS[\"WGS 84\",DATUM[\"WGS_1984\",SPHEROID[\"WGS 84\",6378140,298.256999999996,AUTHORITY[\"EPSG\",\"7030\"]],AUTHORITY[\"EPSG\",\"6326\"]],PRIMEM[\"Greenwich\",0],UNIT[\"degree\",0.0174532925199433,AUTHORITY[\"EPSG\",\"9122\"]],AUTHORITY[\"EPSG\",\"4326\"]],PROJECTION[\"Albers_Conic_Equal_Area\"],PARAMETER[\"latitude_of_center\",23],PARAMETER[\"longitude_of_center\",-96],PARAMETER[\"standard_parallel_1\",29.5],PARAMETER[\"standard_parallel_2\",45.5],PARAMETER[\"false_easting\",0],PARAMETER[\"false_northing\",0],UNIT[\"metre\",1,AUTHORITY[\"EPSG\",\"9001\"]],AXIS[\"Easting\",EAST],AXIS[\"Northing\",NORTH]]')"
      ]
     },
     "execution_count": 6,
     "metadata": {},
     "output_type": "execute_result"
    }
   ],
   "source": [
    "b.vector_tiler.src_crs"
   ]
  },
  {
   "cell_type": "code",
   "execution_count": 10,
   "metadata": {},
   "outputs": [
    {
     "data": {
      "text/plain": [
       "CRS.from_wkt('PROJCS[\"unknown\",GEOGCS[\"unknown\",DATUM[\"Unknown_based_on_IAU_1976_ellipsoid\",SPHEROID[\"IAU 1976\",6378140,298.257]],PRIMEM[\"Greenwich\",0],UNIT[\"degree\",0.0174532925199433,AUTHORITY[\"EPSG\",\"9122\"]]],PROJECTION[\"Albers_Conic_Equal_Area\"],PARAMETER[\"latitude_of_center\",23],PARAMETER[\"longitude_of_center\",-96],PARAMETER[\"standard_parallel_1\",29.5],PARAMETER[\"standard_parallel_2\",45.5],PARAMETER[\"false_easting\",0],PARAMETER[\"false_northing\",0],UNIT[\"metre\",1,AUTHORITY[\"EPSG\",\"9001\"]],AXIS[\"Easting\",EAST],AXIS[\"Northing\",NORTH]]')"
      ]
     },
     "execution_count": 10,
     "metadata": {},
     "output_type": "execute_result"
    }
   ],
   "source": [
    "b.vector_tiler.dest_crs"
   ]
  },
  {
   "cell_type": "code",
   "execution_count": 5,
   "metadata": {},
   "outputs": [
    {
     "name": "stderr",
     "output_type": "stream",
     "text": [
      "  8%|▊         | 2/24 [00:00<00:01, 15.41it/s]"
     ]
    },
    {
     "name": "stdout",
     "output_type": "stream",
     "text": [
      "starting label mask generation\n"
     ]
    },
    {
     "name": "stderr",
     "output_type": "stream",
     "text": [
      "100%|██████████| 24/24 [00:01<00:00, 12.46it/s]\n"
     ]
    },
    {
     "name": "stdout",
     "output_type": "stream",
     "text": [
      "Fill values set to [ 828.91725666 1169.46176693 1423.37931677]\n"
     ]
    },
    {
     "data": {
      "text/plain": [
       "<cropmask.preprocess.PreprocessWorkflow at 0x7f7e4c1f9048>"
      ]
     },
     "execution_count": 5,
     "metadata": {},
     "output_type": "execute_result"
    }
   ],
   "source": [
    "b.geojsons_to_masks()"
   ]
  },
  {
   "cell_type": "code",
   "execution_count": 7,
   "metadata": {},
   "outputs": [],
   "source": [
    "import rasterio as rio\n",
    "import xarray\n",
    "import rioxarray"
   ]
  },
  {
   "cell_type": "code",
   "execution_count": 8,
   "metadata": {},
   "outputs": [
    {
     "ename": "RasterioIOError",
     "evalue": "/datadrive/test-ard-june-sept-rgb/tiles/image_tiles/LT05_CU_012008_20050920_20190107_C01_V0_-625097_2038539.tif: No such file or directory",
     "output_type": "error",
     "traceback": [
      "\u001b[0;31m---------------------------------------------------------------------------\u001b[0m",
      "\u001b[0;31mCPLE_OpenFailedError\u001b[0m                      Traceback (most recent call last)",
      "\u001b[0;32mrasterio/_base.pyx\u001b[0m in \u001b[0;36mrasterio._base.DatasetBase.__init__\u001b[0;34m()\u001b[0m\n",
      "\u001b[0;32mrasterio/_shim.pyx\u001b[0m in \u001b[0;36mrasterio._shim.open_dataset\u001b[0;34m()\u001b[0m\n",
      "\u001b[0;32mrasterio/_err.pyx\u001b[0m in \u001b[0;36mrasterio._err.exc_wrap_pointer\u001b[0;34m()\u001b[0m\n",
      "\u001b[0;31mCPLE_OpenFailedError\u001b[0m: /datadrive/test-ard-june-sept-rgb/tiles/image_tiles/LT05_CU_012008_20050920_20190107_C01_V0_-625097_2038539.tif: No such file or directory",
      "\nDuring handling of the above exception, another exception occurred:\n",
      "\u001b[0;31mRasterioIOError\u001b[0m                           Traceback (most recent call last)",
      "\u001b[0;32m<ipython-input-8-ce827af27349>\u001b[0m in \u001b[0;36m<module>\u001b[0;34m\u001b[0m\n\u001b[0;32m----> 1\u001b[0;31m \u001b[0msrc\u001b[0m \u001b[0;34m=\u001b[0m \u001b[0mrio\u001b[0m\u001b[0;34m.\u001b[0m\u001b[0mopen\u001b[0m\u001b[0;34m(\u001b[0m\u001b[0;34m\"/datadrive/test-ard-june-sept-rgb/tiles/image_tiles/\"\u001b[0m\u001b[0;34m+\u001b[0m\u001b[0;34m\"LT05_CU_012008_20050920_20190107_C01_V0_-625097_2038539.tif\"\u001b[0m\u001b[0;34m)\u001b[0m\u001b[0;34m\u001b[0m\u001b[0;34m\u001b[0m\u001b[0m\n\u001b[0m",
      "\u001b[0;32m~/miniconda3/envs/cropmask/lib/python3.6/site-packages/rasterio/env.py\u001b[0m in \u001b[0;36mwrapper\u001b[0;34m(*args, **kwds)\u001b[0m\n\u001b[1;32m    443\u001b[0m \u001b[0;34m\u001b[0m\u001b[0m\n\u001b[1;32m    444\u001b[0m         \u001b[0;32mwith\u001b[0m \u001b[0menv_ctor\u001b[0m\u001b[0;34m(\u001b[0m\u001b[0msession\u001b[0m\u001b[0;34m=\u001b[0m\u001b[0msession\u001b[0m\u001b[0;34m)\u001b[0m\u001b[0;34m:\u001b[0m\u001b[0;34m\u001b[0m\u001b[0;34m\u001b[0m\u001b[0m\n\u001b[0;32m--> 445\u001b[0;31m             \u001b[0;32mreturn\u001b[0m \u001b[0mf\u001b[0m\u001b[0;34m(\u001b[0m\u001b[0;34m*\u001b[0m\u001b[0margs\u001b[0m\u001b[0;34m,\u001b[0m \u001b[0;34m**\u001b[0m\u001b[0mkwds\u001b[0m\u001b[0;34m)\u001b[0m\u001b[0;34m\u001b[0m\u001b[0;34m\u001b[0m\u001b[0m\n\u001b[0m\u001b[1;32m    446\u001b[0m \u001b[0;34m\u001b[0m\u001b[0m\n\u001b[1;32m    447\u001b[0m     \u001b[0;32mreturn\u001b[0m \u001b[0mwrapper\u001b[0m\u001b[0;34m\u001b[0m\u001b[0;34m\u001b[0m\u001b[0m\n",
      "\u001b[0;32m~/miniconda3/envs/cropmask/lib/python3.6/site-packages/rasterio/__init__.py\u001b[0m in \u001b[0;36mopen\u001b[0;34m(fp, mode, driver, width, height, count, crs, transform, dtype, nodata, sharing, **kwargs)\u001b[0m\n\u001b[1;32m    217\u001b[0m         \u001b[0;31m# None.\u001b[0m\u001b[0;34m\u001b[0m\u001b[0;34m\u001b[0m\u001b[0;34m\u001b[0m\u001b[0m\n\u001b[1;32m    218\u001b[0m         \u001b[0;32mif\u001b[0m \u001b[0mmode\u001b[0m \u001b[0;34m==\u001b[0m \u001b[0;34m'r'\u001b[0m\u001b[0;34m:\u001b[0m\u001b[0;34m\u001b[0m\u001b[0;34m\u001b[0m\u001b[0m\n\u001b[0;32m--> 219\u001b[0;31m             \u001b[0ms\u001b[0m \u001b[0;34m=\u001b[0m \u001b[0mDatasetReader\u001b[0m\u001b[0;34m(\u001b[0m\u001b[0mpath\u001b[0m\u001b[0;34m,\u001b[0m \u001b[0mdriver\u001b[0m\u001b[0;34m=\u001b[0m\u001b[0mdriver\u001b[0m\u001b[0;34m,\u001b[0m \u001b[0msharing\u001b[0m\u001b[0;34m=\u001b[0m\u001b[0msharing\u001b[0m\u001b[0;34m,\u001b[0m \u001b[0;34m**\u001b[0m\u001b[0mkwargs\u001b[0m\u001b[0;34m)\u001b[0m\u001b[0;34m\u001b[0m\u001b[0;34m\u001b[0m\u001b[0m\n\u001b[0m\u001b[1;32m    220\u001b[0m         \u001b[0;32melif\u001b[0m \u001b[0mmode\u001b[0m \u001b[0;34m==\u001b[0m \u001b[0;34m'r+'\u001b[0m\u001b[0;34m:\u001b[0m\u001b[0;34m\u001b[0m\u001b[0;34m\u001b[0m\u001b[0m\n\u001b[1;32m    221\u001b[0m             \u001b[0ms\u001b[0m \u001b[0;34m=\u001b[0m \u001b[0mget_writer_for_path\u001b[0m\u001b[0;34m(\u001b[0m\u001b[0mpath\u001b[0m\u001b[0;34m)\u001b[0m\u001b[0;34m(\u001b[0m\u001b[0mpath\u001b[0m\u001b[0;34m,\u001b[0m \u001b[0mmode\u001b[0m\u001b[0;34m,\u001b[0m \u001b[0mdriver\u001b[0m\u001b[0;34m=\u001b[0m\u001b[0mdriver\u001b[0m\u001b[0;34m,\u001b[0m \u001b[0msharing\u001b[0m\u001b[0;34m=\u001b[0m\u001b[0msharing\u001b[0m\u001b[0;34m,\u001b[0m \u001b[0;34m**\u001b[0m\u001b[0mkwargs\u001b[0m\u001b[0;34m)\u001b[0m\u001b[0;34m\u001b[0m\u001b[0;34m\u001b[0m\u001b[0m\n",
      "\u001b[0;32mrasterio/_base.pyx\u001b[0m in \u001b[0;36mrasterio._base.DatasetBase.__init__\u001b[0;34m()\u001b[0m\n",
      "\u001b[0;31mRasterioIOError\u001b[0m: /datadrive/test-ard-june-sept-rgb/tiles/image_tiles/LT05_CU_012008_20050920_20190107_C01_V0_-625097_2038539.tif: No such file or directory"
     ]
    }
   ],
   "source": [
    "src = rio.open(\"/datadrive/test-ard-june-sept-rgb/tiles/image_tiles/\"+\"LT05_CU_012008_20050920_20190107_C01_V0_-625097_2038539.tif\")"
   ]
  },
  {
   "cell_type": "code",
   "execution_count": 13,
   "metadata": {},
   "outputs": [
    {
     "data": {
      "text/plain": [
       "CRS.from_wkt('PROJCS[\"unknown\",GEOGCS[\"unknown\",DATUM[\"Unknown_based_on_IAU_1976_ellipsoid\",SPHEROID[\"IAU 1976\",6378140,298.257]],PRIMEM[\"Greenwich\",0],UNIT[\"degree\",0.0174532925199433,AUTHORITY[\"EPSG\",\"9122\"]]],PROJECTION[\"Albers_Conic_Equal_Area\"],PARAMETER[\"latitude_of_center\",23],PARAMETER[\"longitude_of_center\",-96],PARAMETER[\"standard_parallel_1\",29.5],PARAMETER[\"standard_parallel_2\",45.5],PARAMETER[\"false_easting\",0],PARAMETER[\"false_northing\",0],UNIT[\"metre\",1,AUTHORITY[\"EPSG\",\"9001\"]],AXIS[\"Easting\",EAST],AXIS[\"Northing\",NORTH]]')"
      ]
     },
     "execution_count": 13,
     "metadata": {},
     "output_type": "execute_result"
    }
   ],
   "source": [
    "src.crs"
   ]
  },
  {
   "cell_type": "code",
   "execution_count": 6,
   "metadata": {},
   "outputs": [],
   "source": [
    "import geopandas\n",
    "ex = geopandas.read_file(\"/datadrive/test-ard-june-sept-rgb/tiles/geojson_tiles/\"+\"LT05_CU_012008_20050920_20190107_C01_V0_-625097_2038539.geojson\")"
   ]
  },
  {
   "cell_type": "code",
   "execution_count": 7,
   "metadata": {},
   "outputs": [
    {
     "data": {
      "text/html": [
       "<div>\n",
       "<style scoped>\n",
       "    .dataframe tbody tr th:only-of-type {\n",
       "        vertical-align: middle;\n",
       "    }\n",
       "\n",
       "    .dataframe tbody tr th {\n",
       "        vertical-align: top;\n",
       "    }\n",
       "\n",
       "    .dataframe thead th {\n",
       "        text-align: right;\n",
       "    }\n",
       "</style>\n",
       "<table border=\"1\" class=\"dataframe\">\n",
       "  <thead>\n",
       "    <tr style=\"text-align: right;\">\n",
       "      <th></th>\n",
       "      <th>ID</th>\n",
       "      <th>AREA</th>\n",
       "      <th>PERIMETER</th>\n",
       "      <th>ACRES</th>\n",
       "      <th>HECTARES</th>\n",
       "      <th>origarea</th>\n",
       "      <th>origlen</th>\n",
       "      <th>partialDec</th>\n",
       "      <th>truncated</th>\n",
       "      <th>geometry</th>\n",
       "    </tr>\n",
       "  </thead>\n",
       "  <tbody>\n",
       "    <tr>\n",
       "      <th>0</th>\n",
       "      <td>44301</td>\n",
       "      <td>5105550.000</td>\n",
       "      <td>8035.119</td>\n",
       "      <td>117.207</td>\n",
       "      <td>47.432</td>\n",
       "      <td>474624.120677</td>\n",
       "      <td>0</td>\n",
       "      <td>1.000000</td>\n",
       "      <td>0</td>\n",
       "      <td>POLYGON ((-620375.959 2034824.144, -620363.766...</td>\n",
       "    </tr>\n",
       "    <tr>\n",
       "      <th>1</th>\n",
       "      <td>44300</td>\n",
       "      <td>5118750.000</td>\n",
       "      <td>8043.075</td>\n",
       "      <td>117.510</td>\n",
       "      <td>47.555</td>\n",
       "      <td>475851.189130</td>\n",
       "      <td>0</td>\n",
       "      <td>1.000000</td>\n",
       "      <td>0</td>\n",
       "      <td>POLYGON ((-621240.295 2034856.853, -621228.343...</td>\n",
       "    </tr>\n",
       "    <tr>\n",
       "      <th>2</th>\n",
       "      <td>45160</td>\n",
       "      <td>1715594.269</td>\n",
       "      <td>5239.670</td>\n",
       "      <td>39.385</td>\n",
       "      <td>15.938</td>\n",
       "      <td>159485.390130</td>\n",
       "      <td>0</td>\n",
       "      <td>1.000000</td>\n",
       "      <td>0</td>\n",
       "      <td>POLYGON ((-624087.745 2034763.654, -623632.499...</td>\n",
       "    </tr>\n",
       "    <tr>\n",
       "      <th>3</th>\n",
       "      <td>44299</td>\n",
       "      <td>2731444.176</td>\n",
       "      <td>5860.412</td>\n",
       "      <td>62.705</td>\n",
       "      <td>25.376</td>\n",
       "      <td>253921.617559</td>\n",
       "      <td>0</td>\n",
       "      <td>1.000000</td>\n",
       "      <td>0</td>\n",
       "      <td>POLYGON ((-624032.073 2035474.336, -624008.518...</td>\n",
       "    </tr>\n",
       "    <tr>\n",
       "      <th>4</th>\n",
       "      <td>51963</td>\n",
       "      <td>5860942.890</td>\n",
       "      <td>8583.709</td>\n",
       "      <td>134.549</td>\n",
       "      <td>54.450</td>\n",
       "      <td>544848.117039</td>\n",
       "      <td>0</td>\n",
       "      <td>1.000000</td>\n",
       "      <td>0</td>\n",
       "      <td>POLYGON ((-616691.458 2035691.937, -616663.007...</td>\n",
       "    </tr>\n",
       "    <tr>\n",
       "      <th>5</th>\n",
       "      <td>44296</td>\n",
       "      <td>4626650.000</td>\n",
       "      <td>7647.751</td>\n",
       "      <td>106.213</td>\n",
       "      <td>42.983</td>\n",
       "      <td>430105.168352</td>\n",
       "      <td>0</td>\n",
       "      <td>1.000000</td>\n",
       "      <td>0</td>\n",
       "      <td>POLYGON ((-620286.054 2035574.366, -620290.414...</td>\n",
       "    </tr>\n",
       "    <tr>\n",
       "      <th>6</th>\n",
       "      <td>49398</td>\n",
       "      <td>5790062.868</td>\n",
       "      <td>8531.647</td>\n",
       "      <td>132.922</td>\n",
       "      <td>53.792</td>\n",
       "      <td>538259.589069</td>\n",
       "      <td>0</td>\n",
       "      <td>1.000000</td>\n",
       "      <td>0</td>\n",
       "      <td>POLYGON ((-615843.451 2036199.443, -615815.172...</td>\n",
       "    </tr>\n",
       "    <tr>\n",
       "      <th>7</th>\n",
       "      <td>44290</td>\n",
       "      <td>5337200.000</td>\n",
       "      <td>8211.570</td>\n",
       "      <td>122.525</td>\n",
       "      <td>49.584</td>\n",
       "      <td>496160.516553</td>\n",
       "      <td>0</td>\n",
       "      <td>1.000000</td>\n",
       "      <td>0</td>\n",
       "      <td>POLYGON ((-621915.334 2036555.740, -621922.323...</td>\n",
       "    </tr>\n",
       "    <tr>\n",
       "      <th>8</th>\n",
       "      <td>44298</td>\n",
       "      <td>4260002.347</td>\n",
       "      <td>7318.316</td>\n",
       "      <td>97.796</td>\n",
       "      <td>39.577</td>\n",
       "      <td>396020.001020</td>\n",
       "      <td>0</td>\n",
       "      <td>0.999282</td>\n",
       "      <td>1</td>\n",
       "      <td>POLYGON ((-624735.727 2035532.879, -624709.454...</td>\n",
       "    </tr>\n",
       "  </tbody>\n",
       "</table>\n",
       "</div>"
      ],
      "text/plain": [
       "      ID         AREA  PERIMETER    ACRES  HECTARES       origarea  origlen  \\\n",
       "0  44301  5105550.000   8035.119  117.207    47.432  474624.120677        0   \n",
       "1  44300  5118750.000   8043.075  117.510    47.555  475851.189130        0   \n",
       "2  45160  1715594.269   5239.670   39.385    15.938  159485.390130        0   \n",
       "3  44299  2731444.176   5860.412   62.705    25.376  253921.617559        0   \n",
       "4  51963  5860942.890   8583.709  134.549    54.450  544848.117039        0   \n",
       "5  44296  4626650.000   7647.751  106.213    42.983  430105.168352        0   \n",
       "6  49398  5790062.868   8531.647  132.922    53.792  538259.589069        0   \n",
       "7  44290  5337200.000   8211.570  122.525    49.584  496160.516553        0   \n",
       "8  44298  4260002.347   7318.316   97.796    39.577  396020.001020        0   \n",
       "\n",
       "   partialDec  truncated                                           geometry  \n",
       "0    1.000000          0  POLYGON ((-620375.959 2034824.144, -620363.766...  \n",
       "1    1.000000          0  POLYGON ((-621240.295 2034856.853, -621228.343...  \n",
       "2    1.000000          0  POLYGON ((-624087.745 2034763.654, -623632.499...  \n",
       "3    1.000000          0  POLYGON ((-624032.073 2035474.336, -624008.518...  \n",
       "4    1.000000          0  POLYGON ((-616691.458 2035691.937, -616663.007...  \n",
       "5    1.000000          0  POLYGON ((-620286.054 2035574.366, -620290.414...  \n",
       "6    1.000000          0  POLYGON ((-615843.451 2036199.443, -615815.172...  \n",
       "7    1.000000          0  POLYGON ((-621915.334 2036555.740, -621922.323...  \n",
       "8    0.999282          1  POLYGON ((-624735.727 2035532.879, -624709.454...  "
      ]
     },
     "execution_count": 7,
     "metadata": {},
     "output_type": "execute_result"
    }
   ],
   "source": [
    "ex"
   ]
  },
  {
   "cell_type": "code",
   "execution_count": 8,
   "metadata": {},
   "outputs": [
    {
     "data": {
      "text/plain": [
       "{'init': 'epsg:4326'}"
      ]
     },
     "execution_count": 8,
     "metadata": {},
     "output_type": "execute_result"
    }
   ],
   "source": [
    "ex.crs"
   ]
  },
  {
   "cell_type": "code",
   "execution_count": 16,
   "metadata": {},
   "outputs": [
    {
     "name": "stderr",
     "output_type": "stream",
     "text": [
      "/home/ryan/miniconda3/envs/cropmask/lib/python3.6/site-packages/skimage/io/_plugins/matplotlib_plugin.py:150: UserWarning: Low image data range; displaying image with stretched contrast.\n",
      "  lo, hi, cmap = _get_display_range(image)\n"
     ]
    },
    {
     "data": {
      "text/plain": [
       "<matplotlib.image.AxesImage at 0x7f08feb8c898>"
      ]
     },
     "execution_count": 16,
     "metadata": {},
     "output_type": "execute_result"
    },
    {
     "data": {
      "image/png": "[encoded data removed]",
      "text/plain": [
       "<Figure size 432x288 with 2 Axes>"
      ]
     },
     "metadata": {
      "needs_background": "light"
     },
     "output_type": "display_data"
    }
   ],
   "source": [
    "skio.imshow(src.read()[0])"
   ]
  },
  {
   "cell_type": "code",
   "execution_count": 21,
   "metadata": {},
   "outputs": [
    {
     "data": {
      "text/plain": [
       "(9, 512, 512)"
      ]
     },
     "execution_count": 21,
     "metadata": {},
     "output_type": "execute_result"
    }
   ],
   "source": [
    "src.read().shape"
   ]
  },
  {
   "cell_type": "code",
   "execution_count": 15,
   "metadata": {},
   "outputs": [
    {
     "data": {
      "text/plain": [
       "<matplotlib.image.AxesImage at 0x7fa7d15d1470>"
      ]
     },
     "execution_count": 15,
     "metadata": {},
     "output_type": "execute_result"
    },
    {
     "data": {
      "image/png": "[encoded data removed]",
      "text/plain": [
       "<Figure size 432x288 with 1 Axes>"
      ]
     },
     "metadata": {
      "needs_background": "light"
     },
     "output_type": "display_data"
    }
   ],
   "source": [
    "skio.imshow(src.read()[0])"
   ]
  },
  {
   "cell_type": "code",
   "execution_count": 14,
   "metadata": {},
   "outputs": [],
   "source": [
    "src = rio.open(\"/datadrive/test-ard-june-sept-rgb/tiles/label_tiles/\"+\"LT05_CU_012008_20050920_20190107_C01_V0_-625097_2038539.tif\")"
   ]
  },
  {
   "cell_type": "code",
   "execution_count": 12,
   "metadata": {},
   "outputs": [],
   "source": [
    "src = rio.open(\"/datadrive/test-ard-june-sept-rgb/tiles/label_tiles/\"+\"LT05_CU_012008_20050920_20190107_C01_V0_-625097_2038539.tif\")"
   ]
  },
  {
   "cell_type": "code",
   "execution_count": 14,
   "metadata": {},
   "outputs": [],
   "source": [
    "import skimage.io as skio"
   ]
  },
  {
   "cell_type": "code",
   "execution_count": 11,
   "metadata": {},
   "outputs": [],
   "source": [
    "xarr = rioxarray.open_rasterio(\"/datadrive/test-ard-june-sept-rgb/tiles/image_tiles/\"+\"LT05_CU_012008_20050920_20190107_C01_V0_-625097_2038539.tif\")"
   ]
  },
  {
   "cell_type": "code",
   "execution_count": 20,
   "metadata": {},
   "outputs": [
    {
     "ename": "AttributeError",
     "evalue": "'RasterArray' object has no attribute 'mask'",
     "output_type": "error",
     "traceback": [
      "\u001b[0;31m---------------------------------------------------------------------------\u001b[0m",
      "\u001b[0;31mAttributeError\u001b[0m                            Traceback (most recent call last)",
      "\u001b[0;32m<ipython-input-20-bde7970cac3a>\u001b[0m in \u001b[0;36m<module>\u001b[0;34m\u001b[0m\n\u001b[0;32m----> 1\u001b[0;31m \u001b[0mxarr\u001b[0m\u001b[0;34m.\u001b[0m\u001b[0mrio\u001b[0m\u001b[0;34m.\u001b[0m\u001b[0mmask\u001b[0m\u001b[0;34m\u001b[0m\u001b[0;34m\u001b[0m\u001b[0m\n\u001b[0m",
      "\u001b[0;31mAttributeError\u001b[0m: 'RasterArray' object has no attribute 'mask'"
     ]
    }
   ],
   "source": [
    "xarr.rio."
   ]
  },
  {
   "cell_type": "code",
   "execution_count": 9,
   "metadata": {},
   "outputs": [],
   "source": [
    "src.close()"
   ]
  },
  {
   "cell_type": "code",
   "execution_count": 9,
   "metadata": {},
   "outputs": [],
   "source": [
    "import rasterio as rio\n",
    "src = rio.open(b.scene_path)"
   ]
  },
  {
   "cell_type": "code",
   "execution_count": 10,
   "metadata": {},
   "outputs": [
    {
     "name": "stderr",
     "output_type": "stream",
     "text": [
      "/home/ryan/miniconda3/envs/cropmask/lib/python3.6/site-packages/pyproj/crs.py:77: FutureWarning: '+init=<authority>:<code>' syntax is deprecated. '<authority>:<code>' is the preferred initialization method.\n",
      "  return _prepare_from_string(\" \".join(pjargs))\n"
     ]
    }
   ],
   "source": [
    "import us\n",
    "from cropmask import io_utils\n",
    "import xarray\n",
    "import rioxarray\n",
    "nebraska_url = us.states.NE.shapefile_urls('state')\n",
    "gdf = io_utils.zipped_shp_url_to_gdf (nebraska_url)\n",
    "crs=xarray.open_rasterio(wflow.scene_path).rio.crs\n",
    "bounds_poly = gdf.to_crs(crs)['geometry'].iloc[0]"
   ]
  },
  {
   "cell_type": "code",
   "execution_count": 13,
   "metadata": {},
   "outputs": [],
   "source": [
    "from shapely.geometry import box\n",
    "mask_geometry = bounds_poly.intersection(box(*src.bounds))"
   ]
  },
  {
   "cell_type": "code",
   "execution_count": 14,
   "metadata": {},
   "outputs": [
    {
     "data": {
      "image/svg+xml": [
       "<svg xmlns=\"http://www.w3.org/2000/svg\" xmlns:xlink=\"http://www.w3.org/1999/xlink\" width=\"300\" height=\"300\" viewBox=\"-674842.9546769276 2019514.8532788379 62922.960320049315 98955.15236428357\" preserveAspectRatio=\"xMinYMin meet\"><g transform=\"matrix(1,0,0,-1,0,4137984.858921959)\"><path fill-rule=\"evenodd\" fill=\"#66cc99\" stroke=\"#555555\" stroke-width=\"659.7010157618904\" opacity=\"0.6\" d=\"M -615585.0,2023179.8589219595 L -615625.5394610094,2023184.1729168524 L -616345.3629037793,2023260.812283769 L -616585.3298121189,2023286.375465881 L -616588.9813927738,2023286.77257797 L -616748.1866278545,2023289.7567823064 L -617208.4785527313,2023298.7238217285 L -617236.8758506703,2023299.4808156777 L -617399.7861980537,2023304.3397839193 L -617511.676822693,2023307.6876974406 L -617847.4320546696,2023317.7474397053 L -617959.3972544991,2023321.2198237213 L -617997.0639516778,2023324.3888410283 L -618110.0639461846,2023333.8969697272 L -618147.8137664937,2023337.0732094317 L -618251.8862900272,2023346.222282895 L -618564.3438855971,2023373.8088828553 L -618668.4903234247,2023383.0815820904 L -618669.2610442422,2023383.9281092822 L -618671.555733449,2023386.6909560806 L -618672.3177174379,2023387.6491159548 L -618783.85852115,2023395.4803307783 L -619118.4628603137,2023419.2066815356 L -619230.0777122584,2023427.162338805 L -619540.5565723089,2023446.8829346537 L -620323.7343774809,2023496.841888143 L -620472.0640093277,2023506.2360425356 L -620782.6149046919,2023526.1235775524 L -620787.6148202834,2023526.4038852963 L -620792.94747906,2023526.7103257163 L -620824.1772237725,2023528.7135094504 L -620834.6674008977,2023529.4250076117 L -620969.5245208122,2023540.915430104 L -621374.1602489455,2023575.6302979381 L -621468.5228760008,2023583.7218302367 L -621509.0909282188,2023587.2480927238 L -621548.669515529,2023590.584450114 L -621667.3963920908,2023600.706340297 L -621706.966128567,2023604.1551193085 L -621758.431296356,2023608.5396705342 L -621912.90980009,2023621.7018786466 L -621964.4492470442,2023626.2059440871 L -621996.2082604006,2023628.9293435055 L -622091.8179680455,2023637.1264914807 L -622123.660118538,2023639.8569489738 L -622229.0022745611,2023648.8216888239 L -622545.1679679392,2023676.0723167807 L -622650.5839972395,2023685.16085335 L -624057.0408978066,2023800.4456495761 L -624824.3905473001,2023855.893295634 L -624835.8054510034,2023854.4367646456 L -624951.7583265019,2023840.3519101727 L -624961.8410610222,2023840.9243787667 L -625204.302106861,2023870.8796644625 L -627290.5308760616,2024010.319544808 L -627371.203846032,2024015.823101646 L -627510.9138359989,2024025.227479895 L -627930.0518534482,2024053.343807579 L -628069.8356105163,2024062.8762936555 L -628075.99094373,2024063.365358484 L -628077.7377274099,2024063.5041480227 L -628101.6758763865,2024065.6308303114 L -628109.6523013576,2024066.3769478344 L -628166.7526934701,2024071.4759015443 L -628338.3031642062,2024086.7950727653 L -628395.4865724293,2024091.9022904965 L -628420.339604745,2024094.1026739932 L -628494.880906421,2024100.9275363637 L -628519.7250324207,2024103.2398538545 L -628586.1323792837,2024109.1941967006 L -628703.9834601912,2024119.8021081113 L -628785.3540856866,2024127.060572464 L -628830.9841058152,2024131.1396369475 L -628851.844389186,2024133.0237639775 L -628926.2366776564,2024139.6162173317 L -629149.386480637,2024159.7326403537 L -629223.8527863608,2024166.446135656 L -629356.9722971008,2024178.7285612726 L -629756.3294174352,2024215.5892886752 L -629889.4390923242,2024227.992301254 L -630184.3511028463,2024254.081555704 L -631069.0539789267,2024332.7501904778 L -631364.0359559562,2024359.001716069 L -631534.4239445702,2024374.1856198495 L -631535.006182905,2024374.2321377303 L -631539.6640894676,2024374.6042823137 L -631575.7628578879,2024377.4884959082 L -631747.041727602,2024390.9509070267 L -631759.8509430282,2024391.9746548398 L -631770.6639157976,2024392.8388736956 L -631772.2442732559,2024392.9651838436 L -631773.076040331,2024393.031662996 L -631773.9167284911,2024392.986524434 L -631777.1606200297,2024393.2457943112 L -631782.7334590927,2024393.6912097693 L -631806.7715224985,2024395.6125244603 L -632873.0406308091,2024479.4509887605 L -632873.7060371878,2024479.5042647412 L -633067.84709612,2024494.9383080192 L -633078.1608742839,2024495.7643462091 L -634754.944299798,2024628.4419286302 L -635008.9923895499,2024651.5433677698 L -635164.69151653,2024663.0423398379 L -635605.2528553905,2024678.798256846 L -636501.5649348347,2024762.9444974235 L -636747.2548707238,2024781.7220404353 L -636872.2250272653,2024791.2287596653 L -637243.2168039347,2024815.4007738926 L -637300.1897872569,2024819.9942329808 L -637323.8938654552,2024821.905501167 L -637353.33464433,2024823.268386349 L -637546.6132995482,2024836.946169045 L -637579.5202665188,2024838.9264955167 L -637626.0764378486,2024841.8956954333 L -637761.4511957465,2024852.1435581502 L -638248.0304398722,2024890.0714506952 L -638287.1841174688,2024892.446819334 L -638636.4885455704,2024917.741670984 L -638995.2534590373,2024943.030488833 L -639229.1349640156,2024959.8075700172 L -639316.717562279,2024968.9133516434 L -639506.0123347956,2024988.383402056 L -639622.1761613418,2024999.131112375 L -639846.0074237636,2025023.201747121 L -640119.1322302135,2025052.6188973587 L -640419.4901287493,2025084.8138382295 L -640618.7636045883,2025106.130422751 L -640780.5995816084,2025123.518123189 L -640799.7284544202,2025125.068967921 L -640895.5752996345,2025132.3909441233 L -640959.217609644,2025137.3270784642 L -641059.9712742163,2025145.0489801094 L -641179.4378045996,2025154.2901963112 L -641353.5731256078,2025167.6321252233 L -641486.9375211899,2025177.8934328214 L -641677.5668590402,2025192.2442236212 L -641875.7732425265,2025207.1026368432 L -642045.5176971862,2025219.8786251873 L -642353.6425356927,2025243.0048427526 L -642637.1126599188,2025264.5878333398 L -642657.8395237218,2025266.048446889 L -642681.8840093176,2025267.8912278467 L -642778.311401322,2025275.2833743186 L -642940.5603717993,2025287.581458722 L -643080.4280576291,2025298.1741502092 L -643710.1974804867,2025343.9357522484 L -643979.2660142505,2025363.4954651063 L -644122.2668032685,2025375.7101191403 L -644149.6090385134,2025377.1520801876 L -644262.6593365986,2025386.029588051 L -644399.5781988237,2025396.8547618499 L -644481.8762444897,2025404.014579919 L -644633.3306401507,2025416.2538119042 L -645314.3729741069,2025470.8199233937 L -645908.3725189879,2025516.870518789 L -646759.249281752,2025579.0396640569 L -647070.4181851823,2025600.802350185 L -647650.006350634,2025650.0739662878 L -648717.9465137207,2025747.3230881747 L -648725.9026278517,2025748.3132050312 L -648812.6339800276,2025758.5787551492 L -649154.9053715478,2025792.0778628318 L -649790.9428722473,2025857.3797450787 L -651074.9710637372,2025959.6868608166 L -653671.1790323602,2026168.1582732566 L -654977.138611747,2026283.7038605628 L -655026.1826194373,2026287.9935266832 L -655054.0771316342,2026289.8562338536 L -656288.6239724483,2026390.150600652 L -656353.8272808762,2026395.4534961416 L -656519.565869299,2026408.097234321 L -656575.3631955973,2026412.7329126745 L -656598.3140982549,2026414.6398038156 L -656611.2863451341,2026415.7176413366 L -656624.4249010668,2026416.8093189932 L -657284.0944923712,2026471.6492921636 L -657285.4249697137,2026471.7599540814 L -657463.7087650755,2026486.5906771293 L -657468.2822722151,2026486.9711823605 L -658069.1467476403,2026537.0972570193 L -658086.0911269641,2026539.7442855919 L -658096.6321517583,2026542.8693417397 L -658099.3297723787,2026543.6558016771 L -658107.6065604457,2026547.8282863623 L -658113.776611375,2026552.1624143368 L -658116.1504209647,2026553.8208042404 L -658122.6706954229,2026559.9818886558 L -658123.6211066875,2026562.6453520986 L -658130.065012728,2026554.6425489234 L -658142.8198315173,2026546.2664534948 L -658156.3949709215,2026542.1160695166 L -658206.3255807728,2026543.8027782906 L -658234.5979621441,2026546.1576916964 L -658235.678964794,2026546.247734512 L -658433.5946937428,2026562.6234005431 L -658765.5990709403,2026591.6416835461 L -659041.7162616611,2026612.0802309483 L -659135.9481967869,2026618.7036016237 L -659437.5280226199,2026641.055217469 L -659590.192199187,2026660.8752226103 L -659591.1900333016,2026660.9585102233 L -659617.9366264039,2026664.5394106556 L -659667.1817039559,2026668.4254179783 L -659806.749206647,2026679.6280429673 L -660109.6723341178,2026706.9492864017 L -660472.0829987834,2026741.838400084 L -660838.9378773833,2026774.6439222086 L -660992.9600464725,2026790.222686696 L -660994.3736216606,2026790.3409284512 L -661091.9365349043,2026800.187892066 L -661151.6257654573,2026799.3387320049 L -661171.0502152093,2026796.3569838374 L -661191.9883282655,2026795.2997740284 L -661232.2896336108,2026797.9977961886 L -661327.5437368108,2026806.4184682951 L -661329.2067630341,2026806.557646683 L -661494.4273564578,2026821.3979759745 L -661580.3047024308,2026827.8007663214 L -661939.7110565845,2026857.5620964447 L -662288.5579976204,2026884.4322766054 L -662636.5223842475,2026914.8396760277 L -662765.6897893692,2026927.2454057927 L -662767.269640125,2026927.377912781 L -662777.5741251656,2026925.3206497228 L -662788.3195715918,2026917.0078367356 L -662790.931418193,2026919.8113475547 L -662793.1015986322,2026920.8923097483 L -662798.1622310904,2026923.451751149 L -662820.1782808488,2026925.5231578103 L -662862.5545395603,2026931.4374953746 L -662883.8596569661,2026932.9999765067 L -664359.0392203509,2027042.617696215 L -664369.0358416581,2027043.2334395393 L -664380.3990848105,2027044.5259433228 L -664381.9682457373,2027045.7815648462 L -664387.2940075601,2027050.1622602993 L -664414.6140601815,2027058.8643913786 L -664439.9611366959,2027064.142022022 L -664473.3681022635,2027067.1759005038 L -665741.4025917695,2027180.538002301 L -666162.3143141351,2027220.7316459503 L -666788.5200201513,2027279.16810598 L -666788.8589794098,2027275.1513276685 L -667663.2315519594,2027337.9721930365 L -668263.7487845616,2027381.3205375215 L -668273.3257960958,2027383.928482309 L -668690.2279054972,2027447.7420030986 L -670012.1181361903,2027516.4581256371 L -670162.7746530932,2027529.2346968907 L -670436.6916049352,2027549.999625677 L -670879.6800599134,2027591.533088996 L -671033.7965851751,2027605.9686918282 L -671177.949033806,2027604.6147775596 L -671024.4042056791,2029322.5043795188 L -671007.6198188683,2029459.9748172455 L -670889.0203708464,2030853.2382963304 L -670887.068097639,2030876.2215707323 L -670778.3004724625,2032156.6961302995 L -670703.7241318002,2033006.0807411454 L -670699.9377972581,2033048.6854086102 L -670597.8282658499,2034287.2281525373 L -670596.5087692057,2034303.7470401262 L -670595.6842860187,2034313.453318276 L -670541.4821167651,2034970.2656510712 L -670445.4472161549,2036137.2772606406 L -670372.8380461398,2037003.8833847416 L -670334.9606687572,2037457.670354186 L -670316.6261477761,2037518.9270628258 L -670314.1487588504,2037554.0003832711 L -670182.5434484447,2039159.4591365969 L -670184.6000285981,2039159.8585636779 L -670199.6250184481,2039166.0790115567 L -670204.4744146093,2039175.9297981614 L -670204.4366164337,2039200.9844879003 L -670203.0814338921,2039216.9378869825 L -670124.4204265059,2040152.7889773673 L -670124.4109497622,2040152.900538785 L -670121.4542060371,2040187.707697473 L -670022.3427891894,2041392.8400888809 L -669971.7823741066,2042021.4977066556 L -669970.1713364306,2042040.4628718907 L -669877.5502707488,2043153.4290676657 L -669872.326334185,2043215.9090408757 L -669863.4416514481,2043314.5962187182 L -669855.753803412,2043406.081353325 L -669741.8061319956,2044768.1295209099 L -669722.9574775564,2044993.9497141256 L -669589.5430684756,2046475.0028559582 L -669570.2892779511,2046688.8753479403 L -669509.5670979595,2047363.3853714895 L -669488.5701320355,2047601.715097356 L -669486.3645424915,2047626.6963566276 L -669436.8160367928,2048189.3417343325 L -669436.124282993,2048197.4852069397 L -669430.6992092191,2048259.3838040866 L -669429.4294156273,2048274.3320875857 L -669428.0411520123,2048288.7085093476 L -669341.4823626827,2049270.3382996523 L -669327.9057064326,2049429.1832964802 L -669319.2115515141,2049525.6346304521 L -669318.9177979477,2049529.0927809484 L -669306.504375895,2049667.3623796762 L -669305.2369776623,2049681.299475811 L -669301.2926471217,2049724.784051104 L -669298.5872885634,2049754.6661840514 L -669117.3958104495,2051784.5104261981 L -668901.7362974773,2054306.6502539678 L -668856.0056006766,2054803.7505229907 L -668854.6246266527,2054819.0256322902 L -668808.6757141406,2055334.4188086658 L -668688.8485022057,2056567.3066406234 L -668601.5948292699,2057464.8853147817 L -668597.4974720919,2057507.2306285694 L -668563.1986467066,2057857.997361936 L -668556.3095741349,2058152.2197264289 L -668530.305357436,2058437.739683214 L -668529.5593037682,2058445.5408149732 L -668528.4889971359,2058454.2132039773 L -668527.037934028,2058460.493900173 L -668525.165761433,2058465.8400266443 L -668522.9198534853,2058469.6938577478 L -668519.2376158882,2058473.7627368933 L -668514.4552303081,2058476.052921224 L -668509.1594430883,2058477.513050463 L -668499.098109604,2058478.1190071513 L -668489.0581774749,2058477.4909447352 L -668311.5216162567,2060680.6290009187 L -668308.361755621,2060719.7947251159 L -668263.6719759569,2061245.942716635 L -668262.3171690592,2061261.8933195139 L -668229.1765638614,2061652.0689478929 L -668141.731601217,2062711.0348020366 L -668144.4221978483,2062753.9548237494 L -668144.3204764401,2062754.1708756532 L -668144.2825797226,2062754.6170407666 L -668144.5044665766,2062757.8939215676 L -668116.8527981136,2063093.256820962 L -668103.4544704688,2063229.4051309915 L -668100.0240191618,2063240.3483082983 L -668097.1216237327,2063246.0560974448 L -668093.810389581,2063249.7069417392 L -668089.1678974702,2063252.345949521 L -668083.0330914112,2063255.8693173695 L -668070.922562361,2063258.0987212725 L -668072.3244934172,2063405.5026537431 L -668072.6015056102,2063438.5557169428 L -668012.2331401231,2064320.0543985197 L -667845.3066948341,2066106.7452027625 L -667747.2711747687,2067272.7321436554 L -667741.6248911121,2067339.2082114618 L -667648.9685291233,2068442.8414108844 L -667648.2769596891,2068450.9835349459 L -667572.2637532831,2069272.3621717093 L -667385.6907996286,2071305.2386007612 L -667339.0256892177,2071815.444266149 L -667336.2647464763,2071845.9901946725 L -667249.6916135538,2072908.420491502 L -667249.2636297338,2072910.5185302803 L -667245.3356984924,2072973.4302243448 L -667235.9929012295,2073073.6269189974 L -667164.1649859139,2073938.914323275 L -667163.9445099005,2073942.490326391 L -667161.0147974038,2073977.9641071176 L -667155.7183427864,2074055.0255513922 L -667155.1455004102,2074070.5914858372 L -667155.5568997709,2074078.4898894764 L -667157.191760683,2074085.7058620595 L -667161.8184946971,2074093.9622990019 L -667167.8408566403,2074102.4496147204 L -667173.5678781184,2074111.4735257654 L -667173.1993712673,2074111.8915661525 L -667169.3722078621,2074117.744928631 L -667166.0099463455,2074124.9858012123 L -667163.322654209,2074134.081365995 L -667161.667701406,2074141.8042576145 L -667160.5981913871,2074150.4755552392 L -667141.1514591986,2074393.152404979 L -667132.2245631894,2074492.3721717577 L -667130.524635184,2074510.4260167065 L -667128.8133167642,2074536.4546573241 L -667126.1615573328,2074574.535561258 L -667099.827549748,2074880.6571511975 L -667092.9998156413,2074970.8433789117 L -667086.827666832,2075045.4707616805 L -667057.9115150007,2075394.7326621963 L -666990.9016034786,2076204.2452301627 L -666986.6571597848,2076247.3576216286 L -666978.8635709116,2076338.1347312995 L -666964.6310420142,2076503.7402028674 L -666959.4972777695,2076571.0408196638 L -666958.8315459461,2076579.858560691 L -666952.2810156401,2076648.1621229232 L -666914.0990221687,2077103.5724226302 L -666906.5091920402,2077183.1329415976 L -666901.5311833657,2077250.5587178508 L -666893.8618893427,2077335.9536480603 L -666892.9809160716,2077346.3256955058 L -666858.0414528466,2077762.5802305848 L -666756.7413577946,2078958.164233845 L -666733.019076823,2079238.4352624845 L -666722.1668377136,2079354.4490958692 L -666710.8917220971,2079488.1750126823 L -666705.6435321213,2079543.107858667 L -666696.2943795688,2079660.0353540187 L -666622.2562683647,2080524.8602634051 L -666618.6409658695,2080580.1559531498 L -666611.9850874583,2080639.9111643936 L -666607.031215724,2080705.0903546328 L -666591.053722648,2080892.2206121131 L -666582.3897597224,2080975.6187179866 L -666581.9756411355,2080979.5150376647 L -666580.8197506745,2080986.268891338 L -666572.9233369773,2081029.293927407 L -666566.2426004455,2081070.7372792729 L -666560.6830443948,2081118.5662264817 L -666550.7475354681,2081224.7711066238 L -666537.3582540728,2081398.0793327019 L -666526.2389737323,2081525.0763819423 L -666520.1295445514,2081603.8608953063 L -666513.8331329348,2081677.013087835 L -666511.1740915438,2081707.3403654045 L -666503.4261435217,2081812.2702308423 L -666489.7240132462,2081982.4058097692 L -666480.39128781,2082100.118448889 L -666474.1736864194,2082185.0713650975 L -666473.9179338943,2082188.0824762476 L -666448.3292895382,2082494.2467532903 L -666436.7025521495,2082622.3227229617 L -666403.3426614301,2083018.0238406605 L -666397.3872049396,2083080.3084171182 L -666393.3196343153,2083133.0932530533 L -666389.8516031874,2083184.6933987115 L -666386.5362222032,2083216.8740640827 L -666352.6543278175,2083636.3417896538 L -666338.2118476761,2083798.5489147974 L -666321.75458714,2083990.3509028496 L -666313.5612316424,2084100.5200781655 L -666312.1133555992,2084120.5033211492 L -666300.2094774946,2084245.9704013162 L -666295.1202273996,2084306.8676359293 L -666284.0364413072,2084427.5741888017 L -666277.1650956944,2084513.368402822 L -666268.3966137279,2084615.6254781554 L -666244.2562468367,2084908.6518009466 L -666238.9884783801,2084947.180953367 L -666164.9448479845,2085761.1941356414 L -666165.4047170504,2085774.375053388 L -666165.7293318553,2085783.276186617 L -666164.6964946926,2085829.69040778 L -666163.063190981,2085853.8135588048 L -666157.3784040227,2085938.359568537 L -666123.2342977967,2086353.0771573943 L -666107.4822323453,2086545.3839054871 L -666078.1080121731,2086901.9843737406 L -666072.136326208,2086984.0341214063 L -666068.8739514273,2087020.4864306317 L -666068.7251298617,2087021.2600464337 L -666062.5548621014,2087091.9482917453 L -666046.9261207369,2087275.9523921576 L -666039.1928116112,2087371.8924808472 L -666030.1470996523,2087478.3915913205 L -666023.1267158177,2087571.808656578 L -666018.8533945365,2087626.034057129 L -666004.7302835458,2087806.0092507615 L -665953.9399481344,2088451.9226851251 L -665936.5781581227,2088649.4804274405 L -665931.8278799964,2088723.994814281 L -665903.7045015113,2089052.165107511 L -665903.0698834149,2089059.6366619174 L -665901.3912308946,2089066.6825770526 L -665899.0348874107,2089076.8158971108 L -665896.1093279847,2089083.8682227177 L -665823.1563879536,2089963.3132467978 L -665786.2362287389,2090384.2943189212 L -665770.2416526928,2090675.3014908493 L -665684.293666328,2091644.1579260533 L -665629.5968964208,2092260.7390437932 L -665547.5222089493,2093506.6565215613 L -665467.0596279858,2094437.3172425998 L -665385.4614634569,2095381.351098944 L -665383.0746115572,2095409.4514248876 L -665366.5663508764,2095488.4658209498 L -665334.3980811338,2095894.5543734091 L -665328.4407351887,2095974.4645989232 L -665322.3175229612,2096051.4405367167 L -665267.3354035527,2096744.6815040952 L -665266.4690772964,2096854.561651669 L -665266.285305674,2096854.7706663818 L -665264.3093281268,2096860.443061069 L -665259.9652349936,2096874.4500350738 L -665258.7376320898,2096881.0844944203 L -665257.3329014505,2096888.8270300922 L -665250.8039840924,2096947.1240364823 L -665243.5678852992,2097042.0869842938 L -665128.9126102896,2098380.196456488 L -665115.2388431301,2098540.20064002 L -665111.2191744476,2098595.340563314 L -665112.9683809,2098605.0355257597 L -665115.9336436295,2098612.1383316903 L -665115.4932507545,2098612.437855483 L -665111.4473206938,2098615.126571951 L -665107.5661847322,2098617.8292877874 L -665104.6802826632,2098650.828026659 L -665100.3953632616,2098718.8610443464 L -665049.6642672401,2099317.0948772267 L -665048.8763283318,2099320.5095485467 L -665046.9490188446,2099409.6319729136 L -664972.8070722271,2100269.799014935 L -664972.1090634455,2100277.039787363 L -664913.0081200988,2100927.900154363 L -664911.8337005454,2100941.7265832834 L -664891.2497980194,2101194.804574084 L -664891.1484872425,2101195.0205840436 L -664859.5671038599,2101539.480476577 L -664858.4429235966,2101551.7387905135 L -664753.7776467724,2102688.2643450284 L -664714.4103773367,2103150.7650654064 L -664603.8140958791,2104451.856754343 L -664603.6815064988,2104453.4177508834 L -664532.3261139127,2105291.5440560025 L -664523.8623196196,2105390.2135091913 L -664498.6895488165,2105686.5767837344 L -664490.2986410649,2105785.3643553173 L -664482.6369726267,2105875.5664695213 L -664459.6141249386,2106146.6183367763 L -664452.0253279803,2106236.9386287346 L -664450.0773231772,2106258.896711723 L -664444.1509993288,2106324.763941491 L -664442.275842024,2106346.840495592 L -664419.1926618023,2106616.650685452 L -664405.8961408911,2106773.1929849978 L -664296.8213904231,2108052.4699718775 L -664260.5151719258,2108478.933962252 L -664255.3852191411,2108538.354031436 L -664265.8587366883,2108540.9281430403 L -664271.7980406795,2108549.069016749 L -664252.0557845264,2108755.146501059 L -664230.4092548596,2109009.0136303897 L -664209.5415335835,2109234.1977333827 L -664207.3780902273,2109254.7892907797 L -664203.8029414815,2109289.0737092923 L -664193.2669426521,2109389.6970105353 L -664189.3730394073,2109457.9808506793 L -664171.8605186307,2109655.3743175934 L -664157.1626306027,2109844.022610139 L -664153.8261697864,2109899.8883857485 L -664163.6556349505,2109918.8033427885 L -664161.2003581922,2109920.391560008 L -664155.6771877197,2109929.8046647944 L -664153.7522984792,2109940.7586933183 L -664141.8894491701,2110082.369772493 L -664129.855552785,2110223.0677432893 L -664090.9987644822,2110664.9154308243 L -664052.5767849726,2111095.793034611 L -664050.6365154048,2111124.4885572097 L -664026.5629745316,2111423.511526996 L -664000.4424327429,2111722.2474511997 L -663951.34623728,2112319.7592102746 L -663924.7335202747,2112624.290058798 L -663899.2878109488,2112926.7855163915 L -663873.1204175552,2113226.0745218177 L -663846.0041697823,2113524.8328708764 L -663807.4173932404,2113981.062781753 L -663795.3905240728,2114122.6543132565 L -663769.0910509196,2114423.5006756694 L -663742.0274123861,2114750.894681081 L -663737.4047714277,2114805.0 L -615585.0,2114805.0 L -615585.0,2023179.8589219595 z\" /></g></svg>"
      ],
      "text/plain": [
       "<shapely.geometry.polygon.Polygon at 0x7feb82e17ef0>"
      ]
     },
     "execution_count": 14,
     "metadata": {},
     "output_type": "execute_result"
    }
   ],
   "source": [
    "mask_geometry"
   ]
  },
  {
   "cell_type": "code",
   "execution_count": 15,
   "metadata": {},
   "outputs": [
    {
     "ename": "NameError",
     "evalue": "name 'np' is not defined",
     "output_type": "error",
     "traceback": [
      "\u001b[0;31m---------------------------------------------------------------------------\u001b[0m",
      "\u001b[0;31mNameError\u001b[0m                                 Traceback (most recent call last)",
      "\u001b[0;32m<ipython-input-15-701b16822c5e>\u001b[0m in \u001b[0;36m<module>\u001b[0;34m\u001b[0m\n\u001b[1;32m      1\u001b[0m \u001b[0;32mfrom\u001b[0m \u001b[0mrasterio\u001b[0m \u001b[0;32mimport\u001b[0m \u001b[0mmask\u001b[0m\u001b[0;34m\u001b[0m\u001b[0;34m\u001b[0m\u001b[0m\n\u001b[0;32m----> 2\u001b[0;31m \u001b[0mindex_lst\u001b[0m \u001b[0;34m=\u001b[0m \u001b[0mnp\u001b[0m\u001b[0;34m.\u001b[0m\u001b[0marange\u001b[0m\u001b[0;34m(\u001b[0m\u001b[0;36m1\u001b[0m\u001b[0;34m,\u001b[0m\u001b[0msrc\u001b[0m\u001b[0;34m.\u001b[0m\u001b[0mmeta\u001b[0m\u001b[0;34m[\u001b[0m\u001b[0;34m'count'\u001b[0m\u001b[0;34m]\u001b[0m\u001b[0;34m+\u001b[0m\u001b[0;36m1\u001b[0m\u001b[0;34m)\u001b[0m\u001b[0;34m\u001b[0m\u001b[0;34m\u001b[0m\u001b[0m\n\u001b[0m\u001b[1;32m      3\u001b[0m arr, t = mask.mask(src, [mask_geometry], all_touched=False, invert=False, nodata=src.meta['nodata'], \n\u001b[1;32m      4\u001b[0m                          filled=True, crop=True, pad=False, pad_width=0.5, indexes=list(index_lst))\n",
      "\u001b[0;31mNameError\u001b[0m: name 'np' is not defined"
     ]
    }
   ],
   "source": [
    "from rasterio import mask\n",
    "import numpy as np\n",
    "index_lst = np.arange(1,src.meta['count']+1)\n",
    "arr, t = mask.mask(src, [mask_geometry], all_touched=False, invert=False, nodata=src.meta['nodata'], \n",
    "                         filled=True, crop=True, pad=False, pad_width=0.5, indexes=list(index_lst))"
   ]
  },
  {
   "cell_type": "code",
   "execution_count": 154,
   "metadata": {},
   "outputs": [
    {
     "data": {
      "text/plain": [
       "[2, 2, 2]"
      ]
     },
     "execution_count": 154,
     "metadata": {},
     "output_type": "execute_result"
    }
   ],
   "source": []
  },
  {
   "cell_type": "code",
   "execution_count": 149,
   "metadata": {},
   "outputs": [
    {
     "data": {
      "text/plain": [
       "array([ 748.05943979, 1081.578283  , 1317.93992231])"
      ]
     },
     "execution_count": 149,
     "metadata": {},
     "output_type": "execute_result"
    }
   ],
   "source": [
    "arr_nan = np.where(arr!=src.nodata, arr, np.nan)\n",
    "np.nanmean(arr_nan, axis=tuple(range(1, arr_nan.ndim)))"
   ]
  },
  {
   "cell_type": "code",
   "execution_count": 138,
   "metadata": {},
   "outputs": [
    {
     "data": {
      "text/plain": [
       "2306997"
      ]
     },
     "execution_count": 138,
     "metadata": {},
     "output_type": "execute_result"
    }
   ],
   "source": [
    "(src.read()==-9999.0).sum()"
   ]
  },
  {
   "cell_type": "code",
   "execution_count": 133,
   "metadata": {},
   "outputs": [
    {
     "data": {
      "text/plain": [
       "1500519"
      ]
     },
     "execution_count": 133,
     "metadata": {},
     "output_type": "execute_result"
    }
   ],
   "source": [
    "(arr==-9999).sum()"
   ]
  },
  {
   "cell_type": "code",
   "execution_count": 158,
   "metadata": {},
   "outputs": [],
   "source": [
    "fill_values = [-10000, -20000, -30000]\n",
    "for i in np.arange(arr.shape[0]):\n",
    "    arr[i,...][arr[i,...] == src.nodata] = fill_values[i]"
   ]
  },
  {
   "cell_type": "code",
   "execution_count": 163,
   "metadata": {},
   "outputs": [
    {
     "data": {
      "text/plain": [
       "array([[-20000, -20000, -20000, ...,   1006,   1049,   1049],\n",
       "       [-20000, -20000, -20000, ...,   1005,   1135,   1049],\n",
       "       [-20000, -20000, -20000, ...,    961,   1091,   1091],\n",
       "       ...,\n",
       "       [-20000, -20000, -20000, ...,   1213,   1002,   1213],\n",
       "       [-20000, -20000, -20000, ...,   1128,   1002,   1087],\n",
       "       [-20000, -20000, -20000, ..., -20000, -20000, -20000]], dtype=int16)"
      ]
     },
     "execution_count": 163,
     "metadata": {},
     "output_type": "execute_result"
    }
   ],
   "source": [
    "arr[1]"
   ]
  },
  {
   "cell_type": "code",
   "execution_count": 93,
   "metadata": {},
   "outputs": [
    {
     "data": {
      "text/plain": [
       "array([[[-9999, -9999, -9999, ...,   615,   701,   550],\n",
       "        [-9999, -9999, -9999, ...,   636,   699,   657],\n",
       "        [-9999, -9999, -9999, ...,   634,   720,   720],\n",
       "        ...,\n",
       "        [  886,   968,   846, ...,   321,   341,   382],\n",
       "        [  927,  1009,   907, ...,   382,   382,   424],\n",
       "        [  968,  1029,  1050, ...,   423,   424,   424]],\n",
       "\n",
       "       [[-9999, -9999, -9999, ...,  1006,  1049,  1049],\n",
       "        [-9999, -9999, -9999, ...,  1005,  1135,  1049],\n",
       "        [-9999, -9999, -9999, ...,   961,  1091,  1091],\n",
       "        ...,\n",
       "        [ 1298,  1466,  1256, ...,   561,   561,   646],\n",
       "        [ 1424,  1466,  1339, ...,   729,   645,   771],\n",
       "        [ 1508,  1591,  1508, ...,   729,   729,   688]],\n",
       "\n",
       "       [[-9999, -9999, -9999, ...,  1217,  1287,  1181],\n",
       "        [-9999, -9999, -9999, ...,  1252,  1357,  1252],\n",
       "        [-9999, -9999, -9999, ...,  1181,  1357,  1357],\n",
       "        ...,\n",
       "        [ 1514,  1650,  1514, ...,   540,   575,   677],\n",
       "        [ 1616,  1719,  1548, ...,   710,   677,   814],\n",
       "        [ 1685,  1787,  1821, ...,   677,   710,   710]]], dtype=int16)"
      ]
     },
     "execution_count": 93,
     "metadata": {},
     "output_type": "execute_result"
    }
   ],
   "source": [
    "src.read()"
   ]
  },
  {
   "cell_type": "code",
   "execution_count": 94,
   "metadata": {},
   "outputs": [
    {
     "data": {
      "text/plain": [
       "array([[[-9999, -9999, -9999, ...,   615,   701,   550],\n",
       "        [-9999, -9999, -9999, ...,   636,   699,   657],\n",
       "        [-9999, -9999, -9999, ...,   634,   720,   720],\n",
       "        ...,\n",
       "        [-9999, -9999, -9999, ...,   860,   675,   860],\n",
       "        [-9999, -9999, -9999, ...,   797,   736,   777],\n",
       "        [-9999, -9999, -9999, ..., -9999, -9999, -9999]],\n",
       "\n",
       "       [[-9999, -9999, -9999, ...,  1006,  1049,  1049],\n",
       "        [-9999, -9999, -9999, ...,  1005,  1135,  1049],\n",
       "        [-9999, -9999, -9999, ...,   961,  1091,  1091],\n",
       "        ...,\n",
       "        [-9999, -9999, -9999, ...,  1213,  1002,  1213],\n",
       "        [-9999, -9999, -9999, ...,  1128,  1002,  1087],\n",
       "        [-9999, -9999, -9999, ..., -9999, -9999, -9999]],\n",
       "\n",
       "       [[-9999, -9999, -9999, ...,  1217,  1287,  1181],\n",
       "        [-9999, -9999, -9999, ...,  1252,  1357,  1252],\n",
       "        [-9999, -9999, -9999, ...,  1181,  1357,  1357],\n",
       "        ...,\n",
       "        [-9999, -9999, -9999, ...,  1443,  1203,  1374],\n",
       "        [-9999, -9999, -9999, ...,  1340,  1169,  1237],\n",
       "        [-9999, -9999, -9999, ..., -9999, -9999, -9999]]], dtype=int16)"
      ]
     },
     "execution_count": 94,
     "metadata": {},
     "output_type": "execute_result"
    }
   ],
   "source": [
    "arr"
   ]
  },
  {
   "cell_type": "code",
   "execution_count": null,
   "metadata": {},
   "outputs": [],
   "source": [
    "import geopandas as gpd\n",
    "\n",
    "_ = gpd.read_file(\"/mnt/cropmaskperm/external/nebraska_pivots_projected.geojson\")"
   ]
  },
  {
   "cell_type": "code",
   "execution_count": null,
   "metadata": {},
   "outputs": [],
   "source": [
    "_[_.is_valid==False]['geometry'].iloc[0].intersection(_[_.is_valid==False]['geometry'].iloc[0]).is_valid"
   ]
  },
  {
   "cell_type": "code",
   "execution_count": null,
   "metadata": {},
   "outputs": [],
   "source": [
    "_[_.is_valid==False]['geometry'] = _[_.is_valid==False].buffer(0)"
   ]
  },
  {
   "cell_type": "code",
   "execution_count": null,
   "metadata": {},
   "outputs": [],
   "source": [
    "_"
   ]
  },
  {
   "cell_type": "code",
   "execution_count": null,
   "metadata": {},
   "outputs": [],
   "source": [
    "all_not_valid.buffer(0).iloc[0]"
   ]
  },
  {
   "cell_type": "code",
   "execution_count": null,
   "metadata": {},
   "outputs": [],
   "source": [
    "all_not_valid.iloc[0]['geometry']"
   ]
  },
  {
   "cell_type": "code",
   "execution_count": null,
   "metadata": {},
   "outputs": [],
   "source": [
    "all_not_valid['geometry'].buffer(0)"
   ]
  },
  {
   "cell_type": "code",
   "execution_count": null,
   "metadata": {},
   "outputs": [],
   "source": [
    "all_not_valid['geometry'].convex_hull.iloc[4].intersection(all_not_valid.iloc[4]['geometry'].buffer(0))"
   ]
  },
  {
   "cell_type": "code",
   "execution_count": null,
   "metadata": {},
   "outputs": [],
   "source": [
    "b.tile_scene_and_vector()"
   ]
  },
  {
   "cell_type": "code",
   "execution_count": null,
   "metadata": {},
   "outputs": [],
   "source": [
    "# import types\n",
    "# wflow.geojsons_to_masks = types.MethodType(geojsons_to_masks, wflow )"
   ]
  },
  {
   "cell_type": "markdown",
   "metadata": {},
   "source": [
    "rasterizing 915 512x512 tiles that have anyware from 0 to 100 instances took 18 minutes and 32 seconds"
   ]
  },
  {
   "cell_type": "code",
   "execution_count": null,
   "metadata": {},
   "outputs": [],
   "source": [
    "# import geopandas as gpd\n",
    "# import solaris as sol\n",
    "# import os\n",
    "# from tqdm import tqdm\n",
    "wflow.geojsons_to_masks()"
   ]
  },
  {
   "cell_type": "code",
   "execution_count": null,
   "metadata": {},
   "outputs": [],
   "source": [
    "import xarray as xa\n",
    "import rioxarray\n",
    "label = xa.open_rasterio(sorted(wflow.rasterized_label_paths)[0])"
   ]
  },
  {
   "cell_type": "code",
   "execution_count": null,
   "metadata": {},
   "outputs": [],
   "source": [
    "rast = xa.open_rasterio(sorted(wflow.raster_tile_paths)[0])"
   ]
  },
  {
   "cell_type": "code",
   "execution_count": null,
   "metadata": {},
   "outputs": [],
   "source": [
    "import numpy as np\n",
    "import matplotlib.pyplot as plt\n",
    "fig, ax = plt.subplots()\n",
    "rast.where(rast>0).plot.imshow(ax=ax, robust=True)\n",
    "label.any(axis=0).where(label.any(axis=0)>0).plot.imshow(ax=ax, alpha=.5, add_colorbar=False)\n",
    "# for i in np.arange(label.shape[0]):\n",
    "#     label[i].plot.imshow(ax=ax, alpha=.5, add_colorbar=False)"
   ]
  },
  {
   "cell_type": "code",
   "execution_count": null,
   "metadata": {},
   "outputs": [],
   "source": []
  },
  {
   "cell_type": "markdown",
   "metadata": {},
   "source": [
    "code graveyard, shape preserving tiling but non uniform shapes"
   ]
  },
  {
   "cell_type": "code",
   "execution_count": null,
   "metadata": {},
   "outputs": [],
   "source": [
    "from shapely.geometry import box, Polygon, MultiPolygon, GeometryCollection\n",
    "\n",
    "def katana(geometry, approx_tile_size, use_projection_size=False, transform=None, recursion_max = 5000, count = 0):\n",
    "    \"\"\"Split a Polygon into two parts across it's shortest dimension\n",
    "    \n",
    "    Arguments\n",
    "    ---------\n",
    "    geometry : str, optional\n",
    "        A shapely.geometry.Polygon, path to a single feature geojson, \n",
    "    or list-like bounding box shaped like [left, bottom, right, top]\n",
    "    src_tile_size : `tuple` of `int`s, optional\n",
    "        The size of the input tiles in ``(y, x)`` coordinates. By default,\n",
    "        this is in pixel units; this can be changed to metric units using the\n",
    "        `use_metric_size` argument.\n",
    "    use_metric_size : bool, optional\n",
    "        Is `src_tile_size` in pixel units (default) or metric? To set to metric\n",
    "        use ``use_metric_size=True``.\n",
    "    transform : `tuple` of `int`s, optional\n",
    "        A rasterio transform.\n",
    "    \n",
    "    Adapted from @lossyrob's Gist https://gist.github.com/lossyrob/7b620e6d2193cb55fbd0bffacf27f7f2\n",
    "    \n",
    "    \n",
    "    \"\"\"\n",
    "    if isinstance(geometry, str):\n",
    "        gj = json.loads(open(geometry).read())\n",
    "        features = gj['features']\n",
    "        if not len(features) == 1:\n",
    "            print('Feature collection must only contain one feature')\n",
    "            sys.exit(1)\n",
    "        geometry = shape(features[0]['geometry'])\n",
    "        \n",
    "    elif isinstance(geometry, list) or isinstance(geometry, np.ndarray):\n",
    "        assert len(geometry) == 4\n",
    "        geometry = box(*geometry)\n",
    "    \n",
    "    elif isinstance(geometry, (Polygon, MultiPolygon)) is False:\n",
    "        print(\"geometry must be one of type list, numpy.ndarray or shapely.geometry.Polygon\")\n",
    "        return\n",
    "    \n",
    "    bounds = geometry.bounds\n",
    "    width = bounds[2] - bounds[0]\n",
    "    height = bounds[3] - bounds[1]\n",
    "    if use_projection_size is False:\n",
    "        if transform is None:\n",
    "            print(\"\"\"Error: A transform is needed to convert pixel units to \n",
    "                  projection units if use_projection_size is False\"\"\")\n",
    "            return\n",
    "        approx_tile_size = approx_tile_size * transform[0]\n",
    "    if max(width, height) <= approx_tile_size or count == recursion_max:\n",
    "        # either the max dimesnion of the polygon is smaller than the threshold, \n",
    "        # or the maximum number of recursions has been reached\n",
    "        return [geometry]\n",
    "    if height >= width:\n",
    "        # split left to right\n",
    "        a = box(bounds[0], bounds[1], bounds[2], bounds[1]+height/2)\n",
    "        b = box(bounds[0], bounds[1]+height/2, bounds[2], bounds[3])\n",
    "    else:\n",
    "        # split top to bottom\n",
    "        a = box(bounds[0], bounds[1], bounds[0]+width/2, bounds[3])\n",
    "        b = box(bounds[0]+width/2, bounds[1], bounds[2], bounds[3])\n",
    "    result = []\n",
    "    for d in (a, b,):\n",
    "        c = geometry.intersection(d)\n",
    "        if not isinstance(c, GeometryCollection):\n",
    "            c = [c]\n",
    "        for e in c:\n",
    "            if isinstance(e, (Polygon, MultiPolygon)):\n",
    "                result.extend(katana(e, approx_tile_size, count=count+1, use_projection_size=use_projection_size, transform=transform))\n",
    "    if count > 0:\n",
    "        return result\n",
    "    # convert multipart into singlepart\n",
    "    final_result = []\n",
    "    for g in result:\n",
    "        if isinstance(g, MultiPolygon):\n",
    "            final_result.extend(g)\n",
    "        else:\n",
    "            final_result.append(g)\n",
    "    return final_result"
   ]
  },
  {
   "cell_type": "code",
   "execution_count": null,
   "metadata": {},
   "outputs": [],
   "source": [
    "shapes = katana(neb, 15360, use_projection_size = True)\n",
    "\n",
    "gpd.GeoDataFrame(geometry=[neb]).plot()\n",
    "\n",
    "\n",
    "gpd.GeoDataFrame(geometry=shapes)[400:401].area"
   ]
  },
  {
   "cell_type": "code",
   "execution_count": null,
   "metadata": {},
   "outputs": [],
   "source": [
    "import dask\n",
    "lst = [1,2,3,4,5,6]\n",
    "output_lst = []\n",
    "for i in lst:\n",
    "    output_lst.append(dask.delayed(sum)([i,1]))\n",
    "results = dask.compute(*output_lst)\n",
    "\n",
    "results"
   ]
  },
  {
   "cell_type": "code",
   "execution_count": null,
   "metadata": {},
   "outputs": [],
   "source": [
    "import geopandas as gpd\n",
    "f = gpd.read_file(\"/mnt/cropmaskperm/external/nebraska_pivots_projected.geojson\")\n",
    "f.crs\n",
    "\n",
    "import xarray\n",
    "import rioxarray\n",
    "crs = xarray.open_rasterio(list(Path(scene_path).glob(\"*\"))[6]).rio.crs\n",
    "\n",
    "crs\n",
    "\n",
    "f.crs = crs\n",
    "\n",
    "f = f.to_crs(crs)\n",
    "\n",
    "f.crs"
   ]
  }
 ],
 "metadata": {
  "kernelspec": {
   "display_name": "Python 3",
   "language": "python",
   "name": "python3"
  },
  "language_info": {
   "codemirror_mode": {
    "name": "ipython",
    "version": 3
   },
   "file_extension": ".py",
   "mimetype": "text/x-python",
   "name": "python",
   "nbconvert_exporter": "python",
   "pygments_lexer": "ipython3",
   "version": "3.6.7"
  }
 },
 "nbformat": 4,
 "nbformat_minor": 4
}
