{
 "cells": [
  {
   "cell_type": "code",
   "execution_count": 1,
   "metadata": {},
   "outputs": [
    {
     "data": {
      "text/html": [
       "<div>\n",
       "<style scoped>\n",
       "    .dataframe tbody tr th:only-of-type {\n",
       "        vertical-align: middle;\n",
       "    }\n",
       "\n",
       "    .dataframe tbody tr th {\n",
       "        vertical-align: top;\n",
       "    }\n",
       "\n",
       "    .dataframe thead th {\n",
       "        text-align: right;\n",
       "    }\n",
       "</style>\n",
       "<table border=\"1\" class=\"dataframe\">\n",
       "  <thead>\n",
       "    <tr style=\"text-align: right;\">\n",
       "      <th></th>\n",
       "      <th>h</th>\n",
       "      <th>v</th>\n",
       "      <th>path</th>\n",
       "      <th>row</th>\n",
       "      <th>cloud_cover</th>\n",
       "      <th>cloud_shadow</th>\n",
       "      <th>snow_ice</th>\n",
       "      <th>fill</th>\n",
       "      <th>instrument</th>\n",
       "      <th>level1_collection</th>\n",
       "      <th>ard_version</th>\n",
       "      <th>xml_paths</th>\n",
       "      <th>scene_paths</th>\n",
       "    </tr>\n",
       "    <tr>\n",
       "      <th>acquisition_date</th>\n",
       "      <th></th>\n",
       "      <th></th>\n",
       "      <th></th>\n",
       "      <th></th>\n",
       "      <th></th>\n",
       "      <th></th>\n",
       "      <th></th>\n",
       "      <th></th>\n",
       "      <th></th>\n",
       "      <th></th>\n",
       "      <th></th>\n",
       "      <th></th>\n",
       "      <th></th>\n",
       "    </tr>\n",
       "  </thead>\n",
       "  <tbody>\n",
       "    <tr>\n",
       "      <th>2005-06-20</th>\n",
       "      <td>015</td>\n",
       "      <td>008</td>\n",
       "      <td>29</td>\n",
       "      <td>31</td>\n",
       "      <td>0.7433</td>\n",
       "      <td>0.0962</td>\n",
       "      <td>0.0030</td>\n",
       "      <td>49.2312</td>\n",
       "      <td>TM</td>\n",
       "      <td>01</td>\n",
       "      <td>01</td>\n",
       "      <td>/mnt/cropmaskperm/unpacked_ard_landsat_downloa...</td>\n",
       "      <td>/mnt/cropmaskperm/unpacked_ard_landsat_downloa...</td>\n",
       "    </tr>\n",
       "    <tr>\n",
       "      <th>2005-06-20</th>\n",
       "      <td>015</td>\n",
       "      <td>009</td>\n",
       "      <td>29</td>\n",
       "      <td>32</td>\n",
       "      <td>0.3617</td>\n",
       "      <td>0.0153</td>\n",
       "      <td>0.0018</td>\n",
       "      <td>23.0621</td>\n",
       "      <td>TM</td>\n",
       "      <td>01</td>\n",
       "      <td>01</td>\n",
       "      <td>/mnt/cropmaskperm/unpacked_ard_landsat_downloa...</td>\n",
       "      <td>/mnt/cropmaskperm/unpacked_ard_landsat_downloa...</td>\n",
       "    </tr>\n",
       "    <tr>\n",
       "      <th>2005-06-20</th>\n",
       "      <td>016</td>\n",
       "      <td>008</td>\n",
       "      <td>29</td>\n",
       "      <td>31</td>\n",
       "      <td>0.1065</td>\n",
       "      <td>0.0272</td>\n",
       "      <td>0.0000</td>\n",
       "      <td>20.1136</td>\n",
       "      <td>TM</td>\n",
       "      <td>01</td>\n",
       "      <td>01</td>\n",
       "      <td>/mnt/cropmaskperm/unpacked_ard_landsat_downloa...</td>\n",
       "      <td>/mnt/cropmaskperm/unpacked_ard_landsat_downloa...</td>\n",
       "    </tr>\n",
       "    <tr>\n",
       "      <th>2005-06-20</th>\n",
       "      <td>016</td>\n",
       "      <td>009</td>\n",
       "      <td>29</td>\n",
       "      <td>32</td>\n",
       "      <td>0.0180</td>\n",
       "      <td>0.0025</td>\n",
       "      <td>0.0000</td>\n",
       "      <td>46.4412</td>\n",
       "      <td>TM</td>\n",
       "      <td>01</td>\n",
       "      <td>01</td>\n",
       "      <td>/mnt/cropmaskperm/unpacked_ard_landsat_downloa...</td>\n",
       "      <td>/mnt/cropmaskperm/unpacked_ard_landsat_downloa...</td>\n",
       "    </tr>\n",
       "    <tr>\n",
       "      <th>2005-07-22</th>\n",
       "      <td>015</td>\n",
       "      <td>008</td>\n",
       "      <td>29</td>\n",
       "      <td>31</td>\n",
       "      <td>0.4730</td>\n",
       "      <td>0.0090</td>\n",
       "      <td>0.0016</td>\n",
       "      <td>48.1110</td>\n",
       "      <td>TM</td>\n",
       "      <td>01</td>\n",
       "      <td>01</td>\n",
       "      <td>/mnt/cropmaskperm/unpacked_ard_landsat_downloa...</td>\n",
       "      <td>/mnt/cropmaskperm/unpacked_ard_landsat_downloa...</td>\n",
       "    </tr>\n",
       "    <tr>\n",
       "      <th>2005-07-22</th>\n",
       "      <td>015</td>\n",
       "      <td>009</td>\n",
       "      <td>29</td>\n",
       "      <td>32</td>\n",
       "      <td>1.2552</td>\n",
       "      <td>0.7000</td>\n",
       "      <td>0.0007</td>\n",
       "      <td>21.9231</td>\n",
       "      <td>TM</td>\n",
       "      <td>01</td>\n",
       "      <td>01</td>\n",
       "      <td>/mnt/cropmaskperm/unpacked_ard_landsat_downloa...</td>\n",
       "      <td>/mnt/cropmaskperm/unpacked_ard_landsat_downloa...</td>\n",
       "    </tr>\n",
       "    <tr>\n",
       "      <th>2005-07-22</th>\n",
       "      <td>016</td>\n",
       "      <td>008</td>\n",
       "      <td>29</td>\n",
       "      <td>31</td>\n",
       "      <td>1.1735</td>\n",
       "      <td>0.6463</td>\n",
       "      <td>0.0000</td>\n",
       "      <td>22.0789</td>\n",
       "      <td>TM</td>\n",
       "      <td>01</td>\n",
       "      <td>01</td>\n",
       "      <td>/mnt/cropmaskperm/unpacked_ard_landsat_downloa...</td>\n",
       "      <td>/mnt/cropmaskperm/unpacked_ard_landsat_downloa...</td>\n",
       "    </tr>\n",
       "    <tr>\n",
       "      <th>2005-09-08</th>\n",
       "      <td>015</td>\n",
       "      <td>008</td>\n",
       "      <td>29</td>\n",
       "      <td>31</td>\n",
       "      <td>0.4539</td>\n",
       "      <td>0.0027</td>\n",
       "      <td>0.0024</td>\n",
       "      <td>46.0910</td>\n",
       "      <td>TM</td>\n",
       "      <td>01</td>\n",
       "      <td>01</td>\n",
       "      <td>/mnt/cropmaskperm/unpacked_ard_landsat_downloa...</td>\n",
       "      <td>/mnt/cropmaskperm/unpacked_ard_landsat_downloa...</td>\n",
       "    </tr>\n",
       "    <tr>\n",
       "      <th>2005-09-08</th>\n",
       "      <td>015</td>\n",
       "      <td>009</td>\n",
       "      <td>29</td>\n",
       "      <td>32</td>\n",
       "      <td>0.3829</td>\n",
       "      <td>0.0468</td>\n",
       "      <td>0.0016</td>\n",
       "      <td>19.8760</td>\n",
       "      <td>TM</td>\n",
       "      <td>01</td>\n",
       "      <td>01</td>\n",
       "      <td>/mnt/cropmaskperm/unpacked_ard_landsat_downloa...</td>\n",
       "      <td>/mnt/cropmaskperm/unpacked_ard_landsat_downloa...</td>\n",
       "    </tr>\n",
       "    <tr>\n",
       "      <th>2005-09-08</th>\n",
       "      <td>016</td>\n",
       "      <td>008</td>\n",
       "      <td>29</td>\n",
       "      <td>31</td>\n",
       "      <td>4.3626</td>\n",
       "      <td>0.3553</td>\n",
       "      <td>0.0001</td>\n",
       "      <td>23.8806</td>\n",
       "      <td>TM</td>\n",
       "      <td>01</td>\n",
       "      <td>01</td>\n",
       "      <td>/mnt/cropmaskperm/unpacked_ard_landsat_downloa...</td>\n",
       "      <td>/mnt/cropmaskperm/unpacked_ard_landsat_downloa...</td>\n",
       "    </tr>\n",
       "    <tr>\n",
       "      <th>2005-09-08</th>\n",
       "      <td>016</td>\n",
       "      <td>009</td>\n",
       "      <td>29</td>\n",
       "      <td>32</td>\n",
       "      <td>1.0098</td>\n",
       "      <td>0.4436</td>\n",
       "      <td>0.0000</td>\n",
       "      <td>50.2320</td>\n",
       "      <td>TM</td>\n",
       "      <td>01</td>\n",
       "      <td>01</td>\n",
       "      <td>/mnt/cropmaskperm/unpacked_ard_landsat_downloa...</td>\n",
       "      <td>/mnt/cropmaskperm/unpacked_ard_landsat_downloa...</td>\n",
       "    </tr>\n",
       "    <tr>\n",
       "      <th>2005-06-27</th>\n",
       "      <td>014</td>\n",
       "      <td>008</td>\n",
       "      <td>30</td>\n",
       "      <td>31</td>\n",
       "      <td>0.6898</td>\n",
       "      <td>0.0000</td>\n",
       "      <td>0.0036</td>\n",
       "      <td>78.8249</td>\n",
       "      <td>TM</td>\n",
       "      <td>01</td>\n",
       "      <td>01</td>\n",
       "      <td>/mnt/cropmaskperm/unpacked_ard_landsat_downloa...</td>\n",
       "      <td>/mnt/cropmaskperm/unpacked_ard_landsat_downloa...</td>\n",
       "    </tr>\n",
       "    <tr>\n",
       "      <th>2005-06-27</th>\n",
       "      <td>015</td>\n",
       "      <td>008</td>\n",
       "      <td>30</td>\n",
       "      <td>31</td>\n",
       "      <td>2.2365</td>\n",
       "      <td>0.7741</td>\n",
       "      <td>0.0000</td>\n",
       "      <td>23.3972</td>\n",
       "      <td>TM</td>\n",
       "      <td>01</td>\n",
       "      <td>01</td>\n",
       "      <td>/mnt/cropmaskperm/unpacked_ard_landsat_downloa...</td>\n",
       "      <td>/mnt/cropmaskperm/unpacked_ard_landsat_downloa...</td>\n",
       "    </tr>\n",
       "    <tr>\n",
       "      <th>2005-08-30</th>\n",
       "      <td>014</td>\n",
       "      <td>008</td>\n",
       "      <td>30</td>\n",
       "      <td>31</td>\n",
       "      <td>0.6013</td>\n",
       "      <td>0.0014</td>\n",
       "      <td>0.0023</td>\n",
       "      <td>59.9249</td>\n",
       "      <td>TM</td>\n",
       "      <td>01</td>\n",
       "      <td>01</td>\n",
       "      <td>/mnt/cropmaskperm/unpacked_ard_landsat_downloa...</td>\n",
       "      <td>/mnt/cropmaskperm/unpacked_ard_landsat_downloa...</td>\n",
       "    </tr>\n",
       "    <tr>\n",
       "      <th>2005-08-30</th>\n",
       "      <td>014</td>\n",
       "      <td>009</td>\n",
       "      <td>30</td>\n",
       "      <td>32</td>\n",
       "      <td>0.3571</td>\n",
       "      <td>0.0027</td>\n",
       "      <td>0.0016</td>\n",
       "      <td>31.9525</td>\n",
       "      <td>TM</td>\n",
       "      <td>01</td>\n",
       "      <td>01</td>\n",
       "      <td>/mnt/cropmaskperm/unpacked_ard_landsat_downloa...</td>\n",
       "      <td>/mnt/cropmaskperm/unpacked_ard_landsat_downloa...</td>\n",
       "    </tr>\n",
       "    <tr>\n",
       "      <th>2005-08-30</th>\n",
       "      <td>015</td>\n",
       "      <td>008</td>\n",
       "      <td>30</td>\n",
       "      <td>31</td>\n",
       "      <td>0.4191</td>\n",
       "      <td>0.2053</td>\n",
       "      <td>0.0000</td>\n",
       "      <td>10.1315</td>\n",
       "      <td>TM</td>\n",
       "      <td>01</td>\n",
       "      <td>01</td>\n",
       "      <td>/mnt/cropmaskperm/unpacked_ard_landsat_downloa...</td>\n",
       "      <td>/mnt/cropmaskperm/unpacked_ard_landsat_downloa...</td>\n",
       "    </tr>\n",
       "    <tr>\n",
       "      <th>2005-08-30</th>\n",
       "      <td>015</td>\n",
       "      <td>009</td>\n",
       "      <td>30</td>\n",
       "      <td>32</td>\n",
       "      <td>0.0728</td>\n",
       "      <td>0.0040</td>\n",
       "      <td>0.0000</td>\n",
       "      <td>37.9123</td>\n",
       "      <td>TM</td>\n",
       "      <td>01</td>\n",
       "      <td>01</td>\n",
       "      <td>/mnt/cropmaskperm/unpacked_ard_landsat_downloa...</td>\n",
       "      <td>/mnt/cropmaskperm/unpacked_ard_landsat_downloa...</td>\n",
       "    </tr>\n",
       "    <tr>\n",
       "      <th>2005-09-15</th>\n",
       "      <td>014</td>\n",
       "      <td>008</td>\n",
       "      <td>30</td>\n",
       "      <td>31</td>\n",
       "      <td>0.6179</td>\n",
       "      <td>0.0000</td>\n",
       "      <td>0.0031</td>\n",
       "      <td>59.7057</td>\n",
       "      <td>TM</td>\n",
       "      <td>01</td>\n",
       "      <td>01</td>\n",
       "      <td>/mnt/cropmaskperm/unpacked_ard_landsat_downloa...</td>\n",
       "      <td>/mnt/cropmaskperm/unpacked_ard_landsat_downloa...</td>\n",
       "    </tr>\n",
       "    <tr>\n",
       "      <th>2005-09-15</th>\n",
       "      <td>014</td>\n",
       "      <td>009</td>\n",
       "      <td>30</td>\n",
       "      <td>32</td>\n",
       "      <td>0.3632</td>\n",
       "      <td>0.0087</td>\n",
       "      <td>0.0021</td>\n",
       "      <td>31.7473</td>\n",
       "      <td>TM</td>\n",
       "      <td>01</td>\n",
       "      <td>01</td>\n",
       "      <td>/mnt/cropmaskperm/unpacked_ard_landsat_downloa...</td>\n",
       "      <td>/mnt/cropmaskperm/unpacked_ard_landsat_downloa...</td>\n",
       "    </tr>\n",
       "    <tr>\n",
       "      <th>2005-09-15</th>\n",
       "      <td>015</td>\n",
       "      <td>008</td>\n",
       "      <td>30</td>\n",
       "      <td>31</td>\n",
       "      <td>0.0576</td>\n",
       "      <td>0.0082</td>\n",
       "      <td>0.0000</td>\n",
       "      <td>9.8743</td>\n",
       "      <td>TM</td>\n",
       "      <td>01</td>\n",
       "      <td>01</td>\n",
       "      <td>/mnt/cropmaskperm/unpacked_ard_landsat_downloa...</td>\n",
       "      <td>/mnt/cropmaskperm/unpacked_ard_landsat_downloa...</td>\n",
       "    </tr>\n",
       "    <tr>\n",
       "      <th>2005-09-15</th>\n",
       "      <td>015</td>\n",
       "      <td>009</td>\n",
       "      <td>30</td>\n",
       "      <td>32</td>\n",
       "      <td>1.1430</td>\n",
       "      <td>0.8462</td>\n",
       "      <td>0.0000</td>\n",
       "      <td>37.5898</td>\n",
       "      <td>TM</td>\n",
       "      <td>01</td>\n",
       "      <td>01</td>\n",
       "      <td>/mnt/cropmaskperm/unpacked_ard_landsat_downloa...</td>\n",
       "      <td>/mnt/cropmaskperm/unpacked_ard_landsat_downloa...</td>\n",
       "    </tr>\n",
       "    <tr>\n",
       "      <th>2005-08-05</th>\n",
       "      <td>013</td>\n",
       "      <td>008</td>\n",
       "      <td>31</td>\n",
       "      <td>31</td>\n",
       "      <td>1.2042</td>\n",
       "      <td>0.0649</td>\n",
       "      <td>0.0045</td>\n",
       "      <td>73.9718</td>\n",
       "      <td>TM</td>\n",
       "      <td>01</td>\n",
       "      <td>01</td>\n",
       "      <td>/mnt/cropmaskperm/unpacked_ard_landsat_downloa...</td>\n",
       "      <td>/mnt/cropmaskperm/unpacked_ard_landsat_downloa...</td>\n",
       "    </tr>\n",
       "    <tr>\n",
       "      <th>2005-08-05</th>\n",
       "      <td>014</td>\n",
       "      <td>008</td>\n",
       "      <td>31</td>\n",
       "      <td>31</td>\n",
       "      <td>0.1270</td>\n",
       "      <td>0.0283</td>\n",
       "      <td>0.0000</td>\n",
       "      <td>1.8143</td>\n",
       "      <td>TM</td>\n",
       "      <td>01</td>\n",
       "      <td>01</td>\n",
       "      <td>/mnt/cropmaskperm/unpacked_ard_landsat_downloa...</td>\n",
       "      <td>/mnt/cropmaskperm/unpacked_ard_landsat_downloa...</td>\n",
       "    </tr>\n",
       "    <tr>\n",
       "      <th>2005-09-06</th>\n",
       "      <td>014</td>\n",
       "      <td>009</td>\n",
       "      <td>31</td>\n",
       "      <td>32</td>\n",
       "      <td>5.5909</td>\n",
       "      <td>0.6330</td>\n",
       "      <td>0.0000</td>\n",
       "      <td>25.9121</td>\n",
       "      <td>TM</td>\n",
       "      <td>01</td>\n",
       "      <td>01</td>\n",
       "      <td>/mnt/cropmaskperm/unpacked_ard_landsat_downloa...</td>\n",
       "      <td>/mnt/cropmaskperm/unpacked_ard_landsat_downloa...</td>\n",
       "    </tr>\n",
       "    <tr>\n",
       "      <th>2005-07-11</th>\n",
       "      <td>013</td>\n",
       "      <td>009</td>\n",
       "      <td>32</td>\n",
       "      <td>32</td>\n",
       "      <td>1.1113</td>\n",
       "      <td>0.5699</td>\n",
       "      <td>0.0000</td>\n",
       "      <td>11.6855</td>\n",
       "      <td>TM</td>\n",
       "      <td>01</td>\n",
       "      <td>01</td>\n",
       "      <td>/mnt/cropmaskperm/unpacked_ard_landsat_downloa...</td>\n",
       "      <td>/mnt/cropmaskperm/unpacked_ard_landsat_downloa...</td>\n",
       "    </tr>\n",
       "    <tr>\n",
       "      <th>2005-08-28</th>\n",
       "      <td>013</td>\n",
       "      <td>008</td>\n",
       "      <td>32</td>\n",
       "      <td>31</td>\n",
       "      <td>0.0847</td>\n",
       "      <td>0.0445</td>\n",
       "      <td>0.0000</td>\n",
       "      <td>0.0389</td>\n",
       "      <td>TM</td>\n",
       "      <td>01</td>\n",
       "      <td>01</td>\n",
       "      <td>/mnt/cropmaskperm/unpacked_ard_landsat_downloa...</td>\n",
       "      <td>/mnt/cropmaskperm/unpacked_ard_landsat_downloa...</td>\n",
       "    </tr>\n",
       "    <tr>\n",
       "      <th>2005-08-28</th>\n",
       "      <td>013</td>\n",
       "      <td>009</td>\n",
       "      <td>32</td>\n",
       "      <td>32</td>\n",
       "      <td>0.0214</td>\n",
       "      <td>0.0018</td>\n",
       "      <td>0.0000</td>\n",
       "      <td>14.5791</td>\n",
       "      <td>TM</td>\n",
       "      <td>01</td>\n",
       "      <td>01</td>\n",
       "      <td>/mnt/cropmaskperm/unpacked_ard_landsat_downloa...</td>\n",
       "      <td>/mnt/cropmaskperm/unpacked_ard_landsat_downloa...</td>\n",
       "    </tr>\n",
       "    <tr>\n",
       "      <th>2005-07-02</th>\n",
       "      <td>012</td>\n",
       "      <td>008</td>\n",
       "      <td>33</td>\n",
       "      <td>31</td>\n",
       "      <td>0.3125</td>\n",
       "      <td>0.0499</td>\n",
       "      <td>0.0003</td>\n",
       "      <td>4.7389</td>\n",
       "      <td>TM</td>\n",
       "      <td>01</td>\n",
       "      <td>01</td>\n",
       "      <td>/mnt/cropmaskperm/unpacked_ard_landsat_downloa...</td>\n",
       "      <td>/mnt/cropmaskperm/unpacked_ard_landsat_downloa...</td>\n",
       "    </tr>\n",
       "    <tr>\n",
       "      <th>2005-07-02</th>\n",
       "      <td>013</td>\n",
       "      <td>008</td>\n",
       "      <td>33</td>\n",
       "      <td>31</td>\n",
       "      <td>0.0268</td>\n",
       "      <td>0.0082</td>\n",
       "      <td>0.0000</td>\n",
       "      <td>66.1521</td>\n",
       "      <td>TM</td>\n",
       "      <td>01</td>\n",
       "      <td>01</td>\n",
       "      <td>/mnt/cropmaskperm/unpacked_ard_landsat_downloa...</td>\n",
       "      <td>/mnt/cropmaskperm/unpacked_ard_landsat_downloa...</td>\n",
       "    </tr>\n",
       "    <tr>\n",
       "      <th>2005-08-19</th>\n",
       "      <td>012</td>\n",
       "      <td>008</td>\n",
       "      <td>33</td>\n",
       "      <td>31</td>\n",
       "      <td>2.2159</td>\n",
       "      <td>1.8556</td>\n",
       "      <td>0.0006</td>\n",
       "      <td>3.2831</td>\n",
       "      <td>TM</td>\n",
       "      <td>01</td>\n",
       "      <td>01</td>\n",
       "      <td>/mnt/cropmaskperm/unpacked_ard_landsat_downloa...</td>\n",
       "      <td>/mnt/cropmaskperm/unpacked_ard_landsat_downloa...</td>\n",
       "    </tr>\n",
       "    <tr>\n",
       "      <th>2005-09-20</th>\n",
       "      <td>012</td>\n",
       "      <td>008</td>\n",
       "      <td>33</td>\n",
       "      <td>31</td>\n",
       "      <td>0.1732</td>\n",
       "      <td>0.0301</td>\n",
       "      <td>0.0005</td>\n",
       "      <td>3.0760</td>\n",
       "      <td>TM</td>\n",
       "      <td>01</td>\n",
       "      <td>01</td>\n",
       "      <td>/mnt/cropmaskperm/unpacked_ard_landsat_downloa...</td>\n",
       "      <td>/mnt/cropmaskperm/unpacked_ard_landsat_downloa...</td>\n",
       "    </tr>\n",
       "    <tr>\n",
       "      <th>2005-09-20</th>\n",
       "      <td>013</td>\n",
       "      <td>008</td>\n",
       "      <td>33</td>\n",
       "      <td>31</td>\n",
       "      <td>0.0291</td>\n",
       "      <td>0.0042</td>\n",
       "      <td>0.0000</td>\n",
       "      <td>69.6189</td>\n",
       "      <td>TM</td>\n",
       "      <td>01</td>\n",
       "      <td>01</td>\n",
       "      <td>/mnt/cropmaskperm/unpacked_ard_landsat_downloa...</td>\n",
       "      <td>/mnt/cropmaskperm/unpacked_ard_landsat_downloa...</td>\n",
       "    </tr>\n",
       "  </tbody>\n",
       "</table>\n",
       "</div>"
      ],
      "text/plain": [
       "                    h    v  path  row  cloud_cover  cloud_shadow  snow_ice  \\\n",
       "acquisition_date                                                             \n",
       "2005-06-20        015  008    29   31       0.7433        0.0962    0.0030   \n",
       "2005-06-20        015  009    29   32       0.3617        0.0153    0.0018   \n",
       "2005-06-20        016  008    29   31       0.1065        0.0272    0.0000   \n",
       "2005-06-20        016  009    29   32       0.0180        0.0025    0.0000   \n",
       "2005-07-22        015  008    29   31       0.4730        0.0090    0.0016   \n",
       "2005-07-22        015  009    29   32       1.2552        0.7000    0.0007   \n",
       "2005-07-22        016  008    29   31       1.1735        0.6463    0.0000   \n",
       "2005-09-08        015  008    29   31       0.4539        0.0027    0.0024   \n",
       "2005-09-08        015  009    29   32       0.3829        0.0468    0.0016   \n",
       "2005-09-08        016  008    29   31       4.3626        0.3553    0.0001   \n",
       "2005-09-08        016  009    29   32       1.0098        0.4436    0.0000   \n",
       "2005-06-27        014  008    30   31       0.6898        0.0000    0.0036   \n",
       "2005-06-27        015  008    30   31       2.2365        0.7741    0.0000   \n",
       "2005-08-30        014  008    30   31       0.6013        0.0014    0.0023   \n",
       "2005-08-30        014  009    30   32       0.3571        0.0027    0.0016   \n",
       "2005-08-30        015  008    30   31       0.4191        0.2053    0.0000   \n",
       "2005-08-30        015  009    30   32       0.0728        0.0040    0.0000   \n",
       "2005-09-15        014  008    30   31       0.6179        0.0000    0.0031   \n",
       "2005-09-15        014  009    30   32       0.3632        0.0087    0.0021   \n",
       "2005-09-15        015  008    30   31       0.0576        0.0082    0.0000   \n",
       "2005-09-15        015  009    30   32       1.1430        0.8462    0.0000   \n",
       "2005-08-05        013  008    31   31       1.2042        0.0649    0.0045   \n",
       "2005-08-05        014  008    31   31       0.1270        0.0283    0.0000   \n",
       "2005-09-06        014  009    31   32       5.5909        0.6330    0.0000   \n",
       "2005-07-11        013  009    32   32       1.1113        0.5699    0.0000   \n",
       "2005-08-28        013  008    32   31       0.0847        0.0445    0.0000   \n",
       "2005-08-28        013  009    32   32       0.0214        0.0018    0.0000   \n",
       "2005-07-02        012  008    33   31       0.3125        0.0499    0.0003   \n",
       "2005-07-02        013  008    33   31       0.0268        0.0082    0.0000   \n",
       "2005-08-19        012  008    33   31       2.2159        1.8556    0.0006   \n",
       "2005-09-20        012  008    33   31       0.1732        0.0301    0.0005   \n",
       "2005-09-20        013  008    33   31       0.0291        0.0042    0.0000   \n",
       "\n",
       "                     fill instrument level1_collection ard_version  \\\n",
       "acquisition_date                                                     \n",
       "2005-06-20        49.2312         TM                01          01   \n",
       "2005-06-20        23.0621         TM                01          01   \n",
       "2005-06-20        20.1136         TM                01          01   \n",
       "2005-06-20        46.4412         TM                01          01   \n",
       "2005-07-22        48.1110         TM                01          01   \n",
       "2005-07-22        21.9231         TM                01          01   \n",
       "2005-07-22        22.0789         TM                01          01   \n",
       "2005-09-08        46.0910         TM                01          01   \n",
       "2005-09-08        19.8760         TM                01          01   \n",
       "2005-09-08        23.8806         TM                01          01   \n",
       "2005-09-08        50.2320         TM                01          01   \n",
       "2005-06-27        78.8249         TM                01          01   \n",
       "2005-06-27        23.3972         TM                01          01   \n",
       "2005-08-30        59.9249         TM                01          01   \n",
       "2005-08-30        31.9525         TM                01          01   \n",
       "2005-08-30        10.1315         TM                01          01   \n",
       "2005-08-30        37.9123         TM                01          01   \n",
       "2005-09-15        59.7057         TM                01          01   \n",
       "2005-09-15        31.7473         TM                01          01   \n",
       "2005-09-15         9.8743         TM                01          01   \n",
       "2005-09-15        37.5898         TM                01          01   \n",
       "2005-08-05        73.9718         TM                01          01   \n",
       "2005-08-05         1.8143         TM                01          01   \n",
       "2005-09-06        25.9121         TM                01          01   \n",
       "2005-07-11        11.6855         TM                01          01   \n",
       "2005-08-28         0.0389         TM                01          01   \n",
       "2005-08-28        14.5791         TM                01          01   \n",
       "2005-07-02         4.7389         TM                01          01   \n",
       "2005-07-02        66.1521         TM                01          01   \n",
       "2005-08-19         3.2831         TM                01          01   \n",
       "2005-09-20         3.0760         TM                01          01   \n",
       "2005-09-20        69.6189         TM                01          01   \n",
       "\n",
       "                                                          xml_paths  \\\n",
       "acquisition_date                                                      \n",
       "2005-06-20        /mnt/cropmaskperm/unpacked_ard_landsat_downloa...   \n",
       "2005-06-20        /mnt/cropmaskperm/unpacked_ard_landsat_downloa...   \n",
       "2005-06-20        /mnt/cropmaskperm/unpacked_ard_landsat_downloa...   \n",
       "2005-06-20        /mnt/cropmaskperm/unpacked_ard_landsat_downloa...   \n",
       "2005-07-22        /mnt/cropmaskperm/unpacked_ard_landsat_downloa...   \n",
       "2005-07-22        /mnt/cropmaskperm/unpacked_ard_landsat_downloa...   \n",
       "2005-07-22        /mnt/cropmaskperm/unpacked_ard_landsat_downloa...   \n",
       "2005-09-08        /mnt/cropmaskperm/unpacked_ard_landsat_downloa...   \n",
       "2005-09-08        /mnt/cropmaskperm/unpacked_ard_landsat_downloa...   \n",
       "2005-09-08        /mnt/cropmaskperm/unpacked_ard_landsat_downloa...   \n",
       "2005-09-08        /mnt/cropmaskperm/unpacked_ard_landsat_downloa...   \n",
       "2005-06-27        /mnt/cropmaskperm/unpacked_ard_landsat_downloa...   \n",
       "2005-06-27        /mnt/cropmaskperm/unpacked_ard_landsat_downloa...   \n",
       "2005-08-30        /mnt/cropmaskperm/unpacked_ard_landsat_downloa...   \n",
       "2005-08-30        /mnt/cropmaskperm/unpacked_ard_landsat_downloa...   \n",
       "2005-08-30        /mnt/cropmaskperm/unpacked_ard_landsat_downloa...   \n",
       "2005-08-30        /mnt/cropmaskperm/unpacked_ard_landsat_downloa...   \n",
       "2005-09-15        /mnt/cropmaskperm/unpacked_ard_landsat_downloa...   \n",
       "2005-09-15        /mnt/cropmaskperm/unpacked_ard_landsat_downloa...   \n",
       "2005-09-15        /mnt/cropmaskperm/unpacked_ard_landsat_downloa...   \n",
       "2005-09-15        /mnt/cropmaskperm/unpacked_ard_landsat_downloa...   \n",
       "2005-08-05        /mnt/cropmaskperm/unpacked_ard_landsat_downloa...   \n",
       "2005-08-05        /mnt/cropmaskperm/unpacked_ard_landsat_downloa...   \n",
       "2005-09-06        /mnt/cropmaskperm/unpacked_ard_landsat_downloa...   \n",
       "2005-07-11        /mnt/cropmaskperm/unpacked_ard_landsat_downloa...   \n",
       "2005-08-28        /mnt/cropmaskperm/unpacked_ard_landsat_downloa...   \n",
       "2005-08-28        /mnt/cropmaskperm/unpacked_ard_landsat_downloa...   \n",
       "2005-07-02        /mnt/cropmaskperm/unpacked_ard_landsat_downloa...   \n",
       "2005-07-02        /mnt/cropmaskperm/unpacked_ard_landsat_downloa...   \n",
       "2005-08-19        /mnt/cropmaskperm/unpacked_ard_landsat_downloa...   \n",
       "2005-09-20        /mnt/cropmaskperm/unpacked_ard_landsat_downloa...   \n",
       "2005-09-20        /mnt/cropmaskperm/unpacked_ard_landsat_downloa...   \n",
       "\n",
       "                                                        scene_paths  \n",
       "acquisition_date                                                     \n",
       "2005-06-20        /mnt/cropmaskperm/unpacked_ard_landsat_downloa...  \n",
       "2005-06-20        /mnt/cropmaskperm/unpacked_ard_landsat_downloa...  \n",
       "2005-06-20        /mnt/cropmaskperm/unpacked_ard_landsat_downloa...  \n",
       "2005-06-20        /mnt/cropmaskperm/unpacked_ard_landsat_downloa...  \n",
       "2005-07-22        /mnt/cropmaskperm/unpacked_ard_landsat_downloa...  \n",
       "2005-07-22        /mnt/cropmaskperm/unpacked_ard_landsat_downloa...  \n",
       "2005-07-22        /mnt/cropmaskperm/unpacked_ard_landsat_downloa...  \n",
       "2005-09-08        /mnt/cropmaskperm/unpacked_ard_landsat_downloa...  \n",
       "2005-09-08        /mnt/cropmaskperm/unpacked_ard_landsat_downloa...  \n",
       "2005-09-08        /mnt/cropmaskperm/unpacked_ard_landsat_downloa...  \n",
       "2005-09-08        /mnt/cropmaskperm/unpacked_ard_landsat_downloa...  \n",
       "2005-06-27        /mnt/cropmaskperm/unpacked_ard_landsat_downloa...  \n",
       "2005-06-27        /mnt/cropmaskperm/unpacked_ard_landsat_downloa...  \n",
       "2005-08-30        /mnt/cropmaskperm/unpacked_ard_landsat_downloa...  \n",
       "2005-08-30        /mnt/cropmaskperm/unpacked_ard_landsat_downloa...  \n",
       "2005-08-30        /mnt/cropmaskperm/unpacked_ard_landsat_downloa...  \n",
       "2005-08-30        /mnt/cropmaskperm/unpacked_ard_landsat_downloa...  \n",
       "2005-09-15        /mnt/cropmaskperm/unpacked_ard_landsat_downloa...  \n",
       "2005-09-15        /mnt/cropmaskperm/unpacked_ard_landsat_downloa...  \n",
       "2005-09-15        /mnt/cropmaskperm/unpacked_ard_landsat_downloa...  \n",
       "2005-09-15        /mnt/cropmaskperm/unpacked_ard_landsat_downloa...  \n",
       "2005-08-05        /mnt/cropmaskperm/unpacked_ard_landsat_downloa...  \n",
       "2005-08-05        /mnt/cropmaskperm/unpacked_ard_landsat_downloa...  \n",
       "2005-09-06        /mnt/cropmaskperm/unpacked_ard_landsat_downloa...  \n",
       "2005-07-11        /mnt/cropmaskperm/unpacked_ard_landsat_downloa...  \n",
       "2005-08-28        /mnt/cropmaskperm/unpacked_ard_landsat_downloa...  \n",
       "2005-08-28        /mnt/cropmaskperm/unpacked_ard_landsat_downloa...  \n",
       "2005-07-02        /mnt/cropmaskperm/unpacked_ard_landsat_downloa...  \n",
       "2005-07-02        /mnt/cropmaskperm/unpacked_ard_landsat_downloa...  \n",
       "2005-08-19        /mnt/cropmaskperm/unpacked_ard_landsat_downloa...  \n",
       "2005-09-20        /mnt/cropmaskperm/unpacked_ard_landsat_downloa...  \n",
       "2005-09-20        /mnt/cropmaskperm/unpacked_ard_landsat_downloa...  "
      ]
     },
     "execution_count": 1,
     "metadata": {},
     "output_type": "execute_result"
    }
   ],
   "source": [
    "from pathlib import Path\n",
    "import pandas as pd \n",
    "import xml.etree.ElementTree as et \n",
    "%matplotlib inline\n",
    "\n",
    "root_dir_sr = Path(\"/mnt/cropmaskperm/unpacked_ard_landsat_downloads/ARDSR/\")\n",
    "root_dir_xml = Path(\"/mnt/cropmaskperm/unpacked_ard_landsat_downloads/ARDxml/\")\n",
    "\n",
    "scene_paths = sorted(root_dir_sr.glob(\"*\"))\n",
    "xml_paths = sorted(root_dir_xml.glob(\"*\"))\n",
    "df_cols = [\"cloud_cover\", \"cloud_shadow\", \"snow_ice\", \"fill\", \"instrument\", \"level1_collection\", \"ard_version\"]\n",
    "rows = []\n",
    "\n",
    "\n",
    "for xml_path in xml_paths:\n",
    "    \n",
    "    xtree = et.parse(xml_path)\n",
    "    tile_meta_ard = list(xtree.getroot())[0][0]\n",
    "    tile_meta_global = list(xtree.getroot())[1][1]\n",
    "    dataframe_dict = {}\n",
    "\n",
    "    element = tile_meta_ard.find(\"{https://landsat.usgs.gov/ard/v1}\"+\"tile_grid\")\n",
    "    h = element.attrib['h']\n",
    "    v = element.attrib['v']\n",
    "    \n",
    "    element = tile_meta_global.find(\"{https://landsat.usgs.gov/ard/v1}\"+\"wrs\")\n",
    "    path = element.attrib['path']\n",
    "    row = element.attrib['row']\n",
    "    \n",
    "    element = tile_meta_ard.find(\"{https://landsat.usgs.gov/ard/v1}\"+\"acquisition_date\")\n",
    "    datetime = pd.to_datetime(element.text, format=\"%Y-%m-%d\")\n",
    "    \n",
    "    dataframe_dict.update({'h':h, 'v':v, 'path': int(path), 'row': int(row), 'acquisition_date':datetime})\n",
    "    \n",
    "    for col in df_cols:\n",
    "        element = tile_meta_ard.find(\"{https://landsat.usgs.gov/ard/v1}\"+col)\n",
    "        if col in [\"cloud_cover\", \"cloud_shadow\", \"snow_ice\", \"fill\"]:\n",
    "            element.text = float(element.text)\n",
    "        dataframe_dict.update({col:element.text})\n",
    "    rows.append(dataframe_dict)\n",
    "    \n",
    "out_df = pd.DataFrame(rows, columns = df_cols.extend(['h','v', 'path', 'row', 'acquisition_date']))\n",
    "\n",
    "out_df = out_df.set_index(\"acquisition_date\")\n",
    "\n",
    "out_df['xml_paths'] = xml_paths\n",
    "out_df['scene_paths'] = scene_paths\n",
    "\n",
    "# original paths and rows used in (path, row) form\n",
    "og_path_rows = [(29, 31), (29, 32), (30, 31), (30, 32), (31, 31), (31, 32), (32, 31), (32, 32), (33, 31), (33, 32)]\n",
    "# below not used yet, unsure which dates correspond to which path rows since this isn't documented in the label metadata\n",
    "og_dates = pd.to_datetime([\"2005/06/20\", '2005/07/22', '2005/09/08', '2005/06/27', '2005/08/30', '2005/09/15', '2005/08/05', '2005/09/06', '2005/07/11', '2005/08/28', '2005/07/02', '2005/08/19', '2005/09/20'])\n",
    "# 2005-07-20 was missing, could be a mistake in the metadata, amybe they meant 2005-07-22\n",
    "\n",
    "out_df = out_df.loc[og_dates]\n",
    "\n",
    "out_df = out_df[out_df[['path', 'row']].apply(tuple, axis=1).isin(og_path_rows)]\n",
    "out_df"
   ]
  },
  {
   "cell_type": "code",
   "execution_count": 2,
   "metadata": {},
   "outputs": [],
   "source": [
    "# drops the cloudiest duplicate by keeping the first duplicate. since we sorted by least cloudy to cloudiest\n",
    "least_cloudy_june_sept_df = out_df['2005-06-20':\"2005-09-20\"]\\\n",
    "    .sort_values([\"fill\", \"cloud_cover\"])\\\n",
    "    .drop_duplicates(['h','v']) \n",
    "\n",
    "least_cloudy_june_sept_lst = least_cloudy_june_sept_df['scene_paths'].apply(str).to_list()"
   ]
  },
  {
   "cell_type": "code",
   "execution_count": 4,
   "metadata": {},
   "outputs": [
    {
     "data": {
      "text/plain": [
       "acquisition_date\n",
       "2005-08-28    /mnt/cropmaskperm/unpacked_ard_landsat_downloa...\n",
       "2005-08-05    /mnt/cropmaskperm/unpacked_ard_landsat_downloa...\n",
       "2005-09-20    /mnt/cropmaskperm/unpacked_ard_landsat_downloa...\n",
       "2005-09-15    /mnt/cropmaskperm/unpacked_ard_landsat_downloa...\n",
       "2005-07-11    /mnt/cropmaskperm/unpacked_ard_landsat_downloa...\n",
       "2005-09-08    /mnt/cropmaskperm/unpacked_ard_landsat_downloa...\n",
       "2005-06-20    /mnt/cropmaskperm/unpacked_ard_landsat_downloa...\n",
       "2005-09-06    /mnt/cropmaskperm/unpacked_ard_landsat_downloa...\n",
       "2005-06-20    /mnt/cropmaskperm/unpacked_ard_landsat_downloa...\n",
       "Name: scene_paths, dtype: object"
      ]
     },
     "execution_count": 4,
     "metadata": {},
     "output_type": "execute_result"
    }
   ],
   "source": [
    "least_cloudy_june_sept_df['scene_paths']"
   ]
  },
  {
   "cell_type": "code",
   "execution_count": 3,
   "metadata": {},
   "outputs": [
    {
     "name": "stderr",
     "output_type": "stream",
     "text": [
      "/home/ryan/miniconda3/envs/cropmask/lib/python3.6/site-packages/tensorflow/python/framework/dtypes.py:526: FutureWarning: Passing (type, 1) or '1type' as a synonym of type is deprecated; in a future version of numpy, it will be understood as (type, (1,)) / '(1,)type'.\n",
      "  _np_qint8 = np.dtype([(\"qint8\", np.int8, 1)])\n",
      "/home/ryan/miniconda3/envs/cropmask/lib/python3.6/site-packages/tensorflow/python/framework/dtypes.py:527: FutureWarning: Passing (type, 1) or '1type' as a synonym of type is deprecated; in a future version of numpy, it will be understood as (type, (1,)) / '(1,)type'.\n",
      "  _np_quint8 = np.dtype([(\"quint8\", np.uint8, 1)])\n",
      "/home/ryan/miniconda3/envs/cropmask/lib/python3.6/site-packages/tensorflow/python/framework/dtypes.py:528: FutureWarning: Passing (type, 1) or '1type' as a synonym of type is deprecated; in a future version of numpy, it will be understood as (type, (1,)) / '(1,)type'.\n",
      "  _np_qint16 = np.dtype([(\"qint16\", np.int16, 1)])\n",
      "/home/ryan/miniconda3/envs/cropmask/lib/python3.6/site-packages/tensorflow/python/framework/dtypes.py:529: FutureWarning: Passing (type, 1) or '1type' as a synonym of type is deprecated; in a future version of numpy, it will be understood as (type, (1,)) / '(1,)type'.\n",
      "  _np_quint16 = np.dtype([(\"quint16\", np.uint16, 1)])\n",
      "/home/ryan/miniconda3/envs/cropmask/lib/python3.6/site-packages/tensorflow/python/framework/dtypes.py:530: FutureWarning: Passing (type, 1) or '1type' as a synonym of type is deprecated; in a future version of numpy, it will be understood as (type, (1,)) / '(1,)type'.\n",
      "  _np_qint32 = np.dtype([(\"qint32\", np.int32, 1)])\n",
      "/home/ryan/miniconda3/envs/cropmask/lib/python3.6/site-packages/tensorflow/python/framework/dtypes.py:535: FutureWarning: Passing (type, 1) or '1type' as a synonym of type is deprecated; in a future version of numpy, it will be understood as (type, (1,)) / '(1,)type'.\n",
      "  np_resource = np.dtype([(\"resource\", np.ubyte, 1)])\n"
     ]
    }
   ],
   "source": [
    "from cropmask.preprocess import PreprocessWorkflow, setup_dirs\n",
    "import time\n",
    "import dask\n",
    "\n",
    "param_path = \"/home/ryan/work/CropMask_RCNN/test_preprocess_config.yaml\"\n",
    "\n",
    "# selected scenes with almost no clouds that occurred as well outside of the frost season as possible (ends in February-March)\n",
    "scene_list = least_cloudy_june_sept_lst\n",
    "labels_path = \"/mnt/cropmaskperm/external/nebraska_pivots_projected.geojson\"\n",
    "\n",
    "setup_dirs(param_path)\n",
    "\n",
    "results = []\n",
    "for scene_path in scene_list:\n",
    "\n",
    "    wflow = dask.delayed(PreprocessWorkflow)(param_path, scene_path, labels_path)\n",
    "\n",
    "#     wflow = PreprocessWorkflow(param_path, scene_path, labels_path)\n",
    "    \n",
    "    band_list = wflow.yaml_to_band_index()\n",
    "        \n",
    "    product_list = wflow.get_product_paths(band_list)\n",
    "        \n",
    "    a = wflow.load_meta_and_bounds(product_list)\n",
    "        \n",
    "    b = a.stack_and_save_bands()\n",
    "        \n",
    "    c = b.tile_scene_and_vector()\n",
    "    \n",
    "    result = c.geojsons_to_masks() #not needed for coco conversions tep if using solaris\n",
    "\n",
    "    results.append(result)\n",
    "  \n",
    "\n",
    "# # # https://docs.dask.org/en/stable/delayed-best-practices.html\n",
    "from dask.distributed import Client\n",
    "\n",
    "client = Client()  # use dask.distributed by default\n",
    "\n",
    "x = client.compute(results, scheduler=\"processes\", num_workers=8)  # start computation in the background"
   ]
  },
  {
   "cell_type": "code",
   "execution_count": 4,
   "metadata": {},
   "outputs": [
    {
     "data": {
      "text/plain": [
       "[<Future: pending, key: geojsons_to_masks-d0900560-5ee5-47d0-b7ec-1379f2dd8da2>,\n",
       " <Future: pending, key: geojsons_to_masks-43dc1506-d9fd-4394-8390-71e9a9ec1be2>,\n",
       " <Future: pending, key: geojsons_to_masks-16fc9695-ce7b-4587-acdf-eb6f7e74a46c>,\n",
       " <Future: pending, key: geojsons_to_masks-5a0c5f37-d745-4582-bb5a-3657cc54bee7>,\n",
       " <Future: pending, key: geojsons_to_masks-4af88b91-13a7-4947-bcaa-0688c5a572d8>,\n",
       " <Future: pending, key: geojsons_to_masks-8503cbf1-27f8-4685-a8b8-50cda8ea6b37>,\n",
       " <Future: pending, key: geojsons_to_masks-05265115-6c23-46f2-9aa2-96235811cfd2>,\n",
       " <Future: pending, key: geojsons_to_masks-e54f7f1f-4ae4-4813-b40d-c9523bf16d7d>,\n",
       " <Future: pending, key: geojsons_to_masks-fa947a6e-797c-40fc-b66e-7e03398e4ace>]"
      ]
     },
     "execution_count": 4,
     "metadata": {},
     "output_type": "execute_result"
    },
    {
     "name": "stderr",
     "output_type": "stream",
     "text": [
      "distributed.nanny - WARNING - Restarting worker\n",
      "distributed.nanny - WARNING - Restarting worker\n",
      "distributed.nanny - WARNING - Restarting worker\n",
      "distributed.nanny - WARNING - Restarting worker\n",
      "distributed.nanny - WARNING - Restarting worker\n",
      "distributed.nanny - WARNING - Restarting worker\n"
     ]
    }
   ],
   "source": [
    "x\n"
   ]
  },
  {
   "cell_type": "code",
   "execution_count": 9,
   "metadata": {},
   "outputs": [
    {
     "data": {
      "text/plain": [
       "'0.0.19'"
      ]
     },
     "execution_count": 9,
     "metadata": {},
     "output_type": "execute_result"
    }
   ],
   "source": [
    "import rioxarray\n",
    "rioxarray.__version__"
   ]
  },
  {
   "cell_type": "markdown",
   "metadata": {},
   "source": [
    "# Single Case"
   ]
  },
  {
   "cell_type": "code",
   "execution_count": 3,
   "metadata": {},
   "outputs": [
    {
     "name": "stderr",
     "output_type": "stream",
     "text": [
      "/home/ryan/miniconda3/envs/cropmask/lib/python3.6/site-packages/tensorflow/python/framework/dtypes.py:526: FutureWarning: Passing (type, 1) or '1type' as a synonym of type is deprecated; in a future version of numpy, it will be understood as (type, (1,)) / '(1,)type'.\n",
      "  _np_qint8 = np.dtype([(\"qint8\", np.int8, 1)])\n",
      "/home/ryan/miniconda3/envs/cropmask/lib/python3.6/site-packages/tensorflow/python/framework/dtypes.py:527: FutureWarning: Passing (type, 1) or '1type' as a synonym of type is deprecated; in a future version of numpy, it will be understood as (type, (1,)) / '(1,)type'.\n",
      "  _np_quint8 = np.dtype([(\"quint8\", np.uint8, 1)])\n",
      "/home/ryan/miniconda3/envs/cropmask/lib/python3.6/site-packages/tensorflow/python/framework/dtypes.py:528: FutureWarning: Passing (type, 1) or '1type' as a synonym of type is deprecated; in a future version of numpy, it will be understood as (type, (1,)) / '(1,)type'.\n",
      "  _np_qint16 = np.dtype([(\"qint16\", np.int16, 1)])\n",
      "/home/ryan/miniconda3/envs/cropmask/lib/python3.6/site-packages/tensorflow/python/framework/dtypes.py:529: FutureWarning: Passing (type, 1) or '1type' as a synonym of type is deprecated; in a future version of numpy, it will be understood as (type, (1,)) / '(1,)type'.\n",
      "  _np_quint16 = np.dtype([(\"quint16\", np.uint16, 1)])\n",
      "/home/ryan/miniconda3/envs/cropmask/lib/python3.6/site-packages/tensorflow/python/framework/dtypes.py:530: FutureWarning: Passing (type, 1) or '1type' as a synonym of type is deprecated; in a future version of numpy, it will be understood as (type, (1,)) / '(1,)type'.\n",
      "  _np_qint32 = np.dtype([(\"qint32\", np.int32, 1)])\n",
      "/home/ryan/miniconda3/envs/cropmask/lib/python3.6/site-packages/tensorflow/python/framework/dtypes.py:535: FutureWarning: Passing (type, 1) or '1type' as a synonym of type is deprecated; in a future version of numpy, it will be understood as (type, (1,)) / '(1,)type'.\n",
      "  np_resource = np.dtype([(\"resource\", np.ubyte, 1)])\n"
     ]
    }
   ],
   "source": [
    "%load_ext autoreload\n",
    "%autoreload 2\n",
    "from cropmask.preprocess import PreprocessWorkflow, setup_dirs\n",
    "import time\n",
    "import dask\n",
    "\n",
    "param_path = \"/home/ryan/work/CropMask_RCNN/cropmask/test_preprocess_config.yaml\"\n",
    "\n",
    "# selected scenes with almost no clouds that occurred as well outside of the frost season as possible (ends in February-March)\n",
    "# scene_list = least_cloudy_june_sept_lst\n",
    "labels_path = \"/mnt/cropmaskperm/external/nebraska_pivots_projected.geojson\"\n",
    "\n",
    "setup_dirs(param_path)\n",
    "# problem path\n",
    "wflow = PreprocessWorkflow(param_path, \n",
    "                             least_cloudy_june_sept_lst[2],\n",
    "                             labels_path)\n",
    "\n",
    "band_list = wflow.yaml_to_band_index()\n",
    "\n",
    "product_list = wflow.get_product_paths(band_list)\n",
    "\n",
    "a = wflow.load_meta_and_bounds(product_list)\n",
    "\n",
    "b = a.stack_and_save_bands()\n",
    "\n"
   ]
  },
  {
   "cell_type": "code",
   "execution_count": 4,
   "metadata": {},
   "outputs": [
    {
     "name": "stderr",
     "output_type": "stream",
     "text": [
      "/home/ryan/miniconda3/envs/cropmask/lib/python3.6/site-packages/pyproj/crs.py:77: FutureWarning: '+init=<authority>:<code>' syntax is deprecated. '<authority>:<code>' is the preferred initialization method.\n",
      "  return _prepare_from_string(\" \".join(pjargs))\n",
      "/home/ryan/miniconda3/envs/cropmask/lib/python3.6/site-packages/pyproj/crs.py:77: FutureWarning: '+init=<authority>:<code>' syntax is deprecated. '<authority>:<code>' is the preferred initialization method.\n",
      "  return _prepare_from_string(\" \".join(pjargs))\n"
     ]
    },
    {
     "name": "stdout",
     "output_type": "stream",
     "text": [
      "Initializing Tiler...\n",
      "Tiler initialized.\n",
      "dest_dir: /datadrive/test-ard-june-sept-rgb/tiles/image_tiles\n",
      "dest_crs will be inferred from source data.\n",
      "src_tile_size: (512, 512)\n",
      "tile size units metric: False\n",
      "Resampling is set to None\n"
     ]
    },
    {
     "name": "stderr",
     "output_type": "stream",
     "text": [
      "0it [00:00, ?it/s]The following warnings were found:\n",
      "- The file is greater than 512xH or 512xW, it is recommended to include internal overviews\n",
      "\n",
      "The following errors were found:\n",
      "- The file is greater than 512xH or 512xW, but is not tiled\n",
      "2it [00:00, 13.58it/s]"
     ]
    },
    {
     "name": "stdout",
     "output_type": "stream",
     "text": [
      "Beginning tiling...\n",
      "nodata value threshold supplied, filtering based on this percentage.\n",
      "Checking input data...\n",
      "COG: False\n",
      "[1, 2, 3]\n",
      "Source CRS: EPSG:None\n",
      "Destination CRS: EPSG:None\n",
      "Inputs OK.\n"
     ]
    },
    {
     "name": "stderr",
     "output_type": "stream",
     "text": [
      "24it [00:01, 15.88it/s]\n",
      "0it [00:00, ?it/s]"
     ]
    },
    {
     "name": "stdout",
     "output_type": "stream",
     "text": [
      "Tiling complete. Cleaning up...\n",
      "Done. CRS returned for vector tiling.\n",
      "Preparing the tiler...\n",
      "Initialization done.\n",
      "Num tiles: 24\n"
     ]
    },
    {
     "name": "stderr",
     "output_type": "stream",
     "text": [
      "24it [00:07,  3.07it/s]\n"
     ]
    },
    {
     "data": {
      "text/plain": [
       "<cropmask.preprocess.PreprocessWorkflow at 0x7fb1b0cae320>"
      ]
     },
     "execution_count": 4,
     "metadata": {},
     "output_type": "execute_result"
    }
   ],
   "source": [
    "b.tile_scene_and_vector()"
   ]
  },
  {
   "cell_type": "markdown",
   "metadata": {},
   "source": [
    "to do make issue. _check_crs messes up first proj turns it into second proj"
   ]
  },
  {
   "cell_type": "code",
   "execution_count": 5,
   "metadata": {},
   "outputs": [
    {
     "data": {
      "text/plain": [
       "CRS.from_wkt('PROJCS[\"Albers\",GEOGCS[\"WGS 84\",DATUM[\"WGS_1984\",SPHEROID[\"WGS 84\",6378140,298.256999999996,AUTHORITY[\"EPSG\",\"7030\"]],AUTHORITY[\"EPSG\",\"6326\"]],PRIMEM[\"Greenwich\",0],UNIT[\"degree\",0.0174532925199433,AUTHORITY[\"EPSG\",\"9122\"]],AUTHORITY[\"EPSG\",\"4326\"]],PROJECTION[\"Albers_Conic_Equal_Area\"],PARAMETER[\"latitude_of_center\",23],PARAMETER[\"longitude_of_center\",-96],PARAMETER[\"standard_parallel_1\",29.5],PARAMETER[\"standard_parallel_2\",45.5],PARAMETER[\"false_easting\",0],PARAMETER[\"false_northing\",0],UNIT[\"metre\",1,AUTHORITY[\"EPSG\",\"9001\"]],AXIS[\"Easting\",EAST],AXIS[\"Northing\",NORTH]]')"
      ]
     },
     "execution_count": 5,
     "metadata": {},
     "output_type": "execute_result"
    }
   ],
   "source": [
    "b.vector_tiler.src_crs"
   ]
  },
  {
   "cell_type": "code",
   "execution_count": 6,
   "metadata": {},
   "outputs": [
    {
     "data": {
      "text/plain": [
       "CRS.from_wkt('PROJCS[\"Albers\",GEOGCS[\"WGS 84\",DATUM[\"WGS_1984\",SPHEROID[\"WGS 84\",6378140,298.256999999996,AUTHORITY[\"EPSG\",\"7030\"]],AUTHORITY[\"EPSG\",\"6326\"]],PRIMEM[\"Greenwich\",0],UNIT[\"degree\",0.0174532925199433,AUTHORITY[\"EPSG\",\"9122\"]],AUTHORITY[\"EPSG\",\"4326\"]],PROJECTION[\"Albers_Conic_Equal_Area\"],PARAMETER[\"latitude_of_center\",23],PARAMETER[\"longitude_of_center\",-96],PARAMETER[\"standard_parallel_1\",29.5],PARAMETER[\"standard_parallel_2\",45.5],PARAMETER[\"false_easting\",0],PARAMETER[\"false_northing\",0],UNIT[\"metre\",1,AUTHORITY[\"EPSG\",\"9001\"]],AXIS[\"Easting\",EAST],AXIS[\"Northing\",NORTH]]')"
      ]
     },
     "execution_count": 6,
     "metadata": {},
     "output_type": "execute_result"
    }
   ],
   "source": [
    "b.vector_tiler.dest_crs"
   ]
  },
  {
   "cell_type": "code",
   "execution_count": 5,
   "metadata": {},
   "outputs": [
    {
     "name": "stderr",
     "output_type": "stream",
     "text": [
      "  8%|▊         | 2/24 [00:00<00:01, 15.97it/s]"
     ]
    },
    {
     "name": "stdout",
     "output_type": "stream",
     "text": [
      "starting label mask generation\n"
     ]
    },
    {
     "name": "stderr",
     "output_type": "stream",
     "text": [
      "100%|██████████| 24/24 [00:01<00:00, 12.00it/s]\n"
     ]
    },
    {
     "name": "stdout",
     "output_type": "stream",
     "text": [
      "Fill values set to [ 828.91725666 1169.46176693 1423.37931677]\n"
     ]
    },
    {
     "data": {
      "text/plain": [
       "<cropmask.preprocess.PreprocessWorkflow at 0x7fb1b0cae320>"
      ]
     },
     "execution_count": 5,
     "metadata": {},
     "output_type": "execute_result"
    }
   ],
   "source": [
    "b.geojsons_to_masks()"
   ]
  },
  {
   "cell_type": "code",
   "execution_count": null,
   "metadata": {},
   "outputs": [],
   "source": [
    "b.raster_tiler.tile_paths"
   ]
  },
  {
   "cell_type": "code",
   "execution_count": null,
   "metadata": {},
   "outputs": [],
   "source": [
    "import rioxarray\n",
    "rioxarray.open_rasterio(b.raster_tile_paths[0]).rio.nodata"
   ]
  },
  {
   "cell_type": "code",
   "execution_count": null,
   "metadata": {},
   "outputs": [],
   "source": [
    "rioxarray.open_rasterio(b.raster_tile_paths[9]).sel(band=1).plot()"
   ]
  },
  {
   "cell_type": "code",
   "execution_count": null,
   "metadata": {},
   "outputs": [],
   "source": [
    "b.raster_tile_paths[0]"
   ]
  },
  {
   "cell_type": "code",
   "execution_count": 10,
   "metadata": {},
   "outputs": [],
   "source": [
    "src = rio.open(im_path)"
   ]
  },
  {
   "cell_type": "code",
   "execution_count": 13,
   "metadata": {},
   "outputs": [
    {
     "data": {
      "text/plain": [
       "CRS.from_wkt('PROJCS[\"Albers\",GEOGCS[\"WGS 84\",DATUM[\"WGS_1984\",SPHEROID[\"WGS 84\",6378140,298.256999999996,AUTHORITY[\"EPSG\",\"7030\"]],AUTHORITY[\"EPSG\",\"6326\"]],PRIMEM[\"Greenwich\",0],UNIT[\"degree\",0.0174532925199433,AUTHORITY[\"EPSG\",\"9122\"]],AUTHORITY[\"EPSG\",\"4326\"]],PROJECTION[\"Albers_Conic_Equal_Area\"],PARAMETER[\"latitude_of_center\",23],PARAMETER[\"longitude_of_center\",-96],PARAMETER[\"standard_parallel_1\",29.5],PARAMETER[\"standard_parallel_2\",45.5],PARAMETER[\"false_easting\",0],PARAMETER[\"false_northing\",0],UNIT[\"metre\",1,AUTHORITY[\"EPSG\",\"9001\"]],AXIS[\"Easting\",EAST],AXIS[\"Northing\",NORTH]]')"
      ]
     },
     "execution_count": 13,
     "metadata": {},
     "output_type": "execute_result"
    }
   ],
   "source": [
    "b.meta['crs']"
   ]
  },
  {
   "cell_type": "code",
   "execution_count": 14,
   "metadata": {},
   "outputs": [
    {
     "data": {
      "text/plain": [
       "'PROJCS[\"Albers\",GEOGCS[\"WGS 84\",DATUM[\"WGS_1984\",SPHEROID[\"WGS 84\",6378140,298.256999999996,AUTHORITY[\"EPSG\",\"7030\"]],AUTHORITY[\"EPSG\",\"6326\"]],PRIMEM[\"Greenwich\",0],UNIT[\"degree\",0.0174532925199433,AUTHORITY[\"EPSG\",\"9122\"]],AUTHORITY[\"EPSG\",\"4326\"]],PROJECTION[\"Albers_Conic_Equal_Area\"],PARAMETER[\"latitude_of_center\",23],PARAMETER[\"longitude_of_center\",-96],PARAMETER[\"standard_parallel_1\",29.5],PARAMETER[\"standard_parallel_2\",45.5],PARAMETER[\"false_easting\",0],PARAMETER[\"false_northing\",0],UNIT[\"metre\",1,AUTHORITY[\"EPSG\",\"9001\"]],AXIS[\"Easting\",EAST],AXIS[\"Northing\",NORTH]]'"
      ]
     },
     "execution_count": 14,
     "metadata": {},
     "output_type": "execute_result"
    }
   ],
   "source": [
    "shp_frame.crs"
   ]
  },
  {
   "cell_type": "code",
   "execution_count": 15,
   "metadata": {},
   "outputs": [
    {
     "data": {
      "text/plain": [
       "CRS.from_wkt('PROJCS[\"unknown\",GEOGCS[\"unknown\",DATUM[\"Unknown_based_on_IAU_1976_ellipsoid\",SPHEROID[\"IAU 1976\",6378140,298.257]],PRIMEM[\"Greenwich\",0],UNIT[\"degree\",0.0174532925199433,AUTHORITY[\"EPSG\",\"9122\"]]],PROJECTION[\"Albers_Conic_Equal_Area\"],PARAMETER[\"latitude_of_center\",23],PARAMETER[\"longitude_of_center\",-96],PARAMETER[\"standard_parallel_1\",29.5],PARAMETER[\"standard_parallel_2\",45.5],PARAMETER[\"false_easting\",0],PARAMETER[\"false_northing\",0],UNIT[\"metre\",1,AUTHORITY[\"EPSG\",\"9001\"]],AXIS[\"Easting\",EAST],AXIS[\"Northing\",NORTH]]')"
      ]
     },
     "execution_count": 15,
     "metadata": {},
     "output_type": "execute_result"
    }
   ],
   "source": [
    "src.crs"
   ]
  },
  {
   "cell_type": "code",
   "execution_count": 16,
   "metadata": {},
   "outputs": [],
   "source": [
    "\n",
    "# polys = list(rio.features.shapes(src.read(), mask=(src.read() == src.nodata), connectivity=4, transform=src.transform))\n",
    "# nodata_shapes = [shape(poly[0]) for poly in polys]\n",
    "# boundary = gpd.GeoDataFrame(geometry=[unary_union(nodata_shapes)])\n",
    "# shp_frame_diffed = gpd.overlay(shp_frame, boundary, how='difference')\n"
   ]
  },
  {
   "cell_type": "code",
   "execution_count": 1,
   "metadata": {},
   "outputs": [
    {
     "ename": "NameError",
     "evalue": "name 'b' is not defined",
     "output_type": "error",
     "traceback": [
      "\u001b[0;31m---------------------------------------------------------------------------\u001b[0m",
      "\u001b[0;31mNameError\u001b[0m                                 Traceback (most recent call last)",
      "\u001b[0;32m<ipython-input-1-d232ee98f07b>\u001b[0m in \u001b[0;36m<module>\u001b[0;34m\u001b[0m\n\u001b[1;32m      9\u001b[0m \u001b[0;32mfrom\u001b[0m \u001b[0mgeopandas\u001b[0m \u001b[0;32mimport\u001b[0m \u001b[0mGeoDataFrame\u001b[0m\u001b[0;34m\u001b[0m\u001b[0;34m\u001b[0m\u001b[0m\n\u001b[1;32m     10\u001b[0m \u001b[0;32mimport\u001b[0m \u001b[0mgeopandas\u001b[0m \u001b[0;32mas\u001b[0m \u001b[0mgpd\u001b[0m\u001b[0;34m\u001b[0m\u001b[0;34m\u001b[0m\u001b[0m\n\u001b[0;32m---> 11\u001b[0;31m \u001b[0mshp_frame\u001b[0m \u001b[0;34m=\u001b[0m \u001b[0mgpd\u001b[0m\u001b[0;34m.\u001b[0m\u001b[0mread_file\u001b[0m\u001b[0;34m(\u001b[0m\u001b[0mb\u001b[0m\u001b[0;34m.\u001b[0m\u001b[0msource_label_path\u001b[0m\u001b[0;34m)\u001b[0m\u001b[0;34m\u001b[0m\u001b[0;34m\u001b[0m\u001b[0m\n\u001b[0m\u001b[1;32m     12\u001b[0m \u001b[0mshp_frame\u001b[0m \u001b[0;34m=\u001b[0m \u001b[0mshp_frame\u001b[0m\u001b[0;34m.\u001b[0m\u001b[0mto_crs\u001b[0m\u001b[0;34m(\u001b[0m\u001b[0mb\u001b[0m\u001b[0;34m.\u001b[0m\u001b[0mmeta\u001b[0m\u001b[0;34m[\u001b[0m\u001b[0;34m'crs'\u001b[0m\u001b[0;34m]\u001b[0m\u001b[0;34m)\u001b[0m\u001b[0;34m\u001b[0m\u001b[0;34m\u001b[0m\u001b[0m\n\u001b[1;32m     13\u001b[0m \u001b[0mshp_frame\u001b[0m \u001b[0;34m=\u001b[0m \u001b[0mshp_frame\u001b[0m\u001b[0;34m.\u001b[0m\u001b[0mloc\u001b[0m\u001b[0;34m[\u001b[0m\u001b[0mshp_frame\u001b[0m\u001b[0;34m.\u001b[0m\u001b[0mgeometry\u001b[0m\u001b[0;34m.\u001b[0m\u001b[0marea\u001b[0m \u001b[0;34m>\u001b[0m \u001b[0mb\u001b[0m\u001b[0;34m.\u001b[0m\u001b[0msmall_area_filter\u001b[0m\u001b[0;34m]\u001b[0m\u001b[0;34m\u001b[0m\u001b[0;34m\u001b[0m\u001b[0m\n",
      "\u001b[0;31mNameError\u001b[0m: name 'b' is not defined"
     ]
    }
   ],
   "source": [
    "import us\n",
    "from cropmask import io_utils\n",
    "import rioxarray\n",
    "import rasterio\n",
    "import matplotlib.pyplot as plt\n",
    "from shapely.geometry import box\n",
    "from shapely.ops import unary_union\n",
    "from shapely.geometry import shape\n",
    "from geopandas import GeoDataFrame\n",
    "import geopandas as gpd\n",
    "shp_frame = gpd.read_file(b.source_label_path)\n",
    "shp_frame = shp_frame.to_crs(b.meta['crs'])\n",
    "shp_frame = shp_frame.loc[shp_frame.geometry.area > b.small_area_filter]\n",
    "shp_series = shp_frame.loc[shp_frame.is_empty==False]\n",
    "shp_frame = shp_frame.cx[b.bounds.left:b.bounds.right,b.bounds.bottom:b.bounds.top] # might need to clip geometries at nodata edges of image are filtered in instance_mask function\n",
    "shp_frame.crs = shp_frame.crs.to_wkt()# geopandas can't save dfs with crs in rasterio format\n",
    "\n",
    "nebraska_url = us.states.NE.shapefile_urls('state')\n",
    "gdf = io_utils.zipped_shp_url_to_gdf (nebraska_url)\n",
    "crs=xarray.open_rasterio(wflow.scene_path).rio.crs\n",
    "bounds_poly = gdf.to_crs(src.crs)['geometry'].iloc[0]"
   ]
  },
  {
   "cell_type": "code",
   "execution_count": 18,
   "metadata": {},
   "outputs": [],
   "source": [
    "im_path = Path(\"/datadrive/test-ard-june-sept-rgb/scene/\").glob(\"*\")[0]\n",
    "src = rasterio.open(im_path)\n",
    "polys = list(rasterio.features.shapes(src.read(), mask=(src.read() == src.nodata), connectivity=4, transform=src.transform))\n",
    "nodata_shapes = [shape(poly[0]) for poly in polys]\n",
    "boundary = gpd.GeoDataFrame(geometry=[unary_union(nodata_shapes)])\n",
    "\n",
    "shp_frame = gpd.overlay(shp_frame, boundary, how='difference')"
   ]
  },
  {
   "cell_type": "code",
   "execution_count": 19,
   "metadata": {},
   "outputs": [
    {
     "name": "stderr",
     "output_type": "stream",
     "text": [
      "/home/ryan/miniconda3/envs/cropmask/lib/python3.6/site-packages/pyproj/crs.py:77: FutureWarning: '+init=<authority>:<code>' syntax is deprecated. '<authority>:<code>' is the preferred initialization method.\n",
      "  return _prepare_from_string(\" \".join(pjargs))\n"
     ]
    }
   ],
   "source": [
    "bounds_gdf = gdf.to_crs(src.crs)\n",
    "bounds_gdf_edge = bounds_gdf.copy()\n",
    "bounds_gdf_edge['geometry'] = bounds_gdf_edge.geometry.buffer(5000)\n",
    "bounds_gdf_edge = gpd.overlay(bounds_gdf_edge, bounds_gdf, how='difference')\n",
    "#gpd.overlay(shp_frame, bounds_gdf_edge, how='difference')"
   ]
  },
  {
   "cell_type": "code",
   "execution_count": 56,
   "metadata": {},
   "outputs": [],
   "source": [
    "im_box_gdf = gpd.GeoDataFrame(geometry = [box(src.bounds.left, src.bounds.bottom, src.bounds.right, src.bounds.top)], crs = src.crs)\n",
    "im_box_edge = im_box_gdf.copy()\n",
    "im_box_edge['geometry'] = im_box_gdf.geometry.buffer(5000)\n",
    "im_box_edge = gpd.overlay(im_box_edge, im_box_gdf, how='difference')\n",
    "shp_frame2 = gpd.overlay(shp_frame, im_box_edge, how='difference')"
   ]
  },
  {
   "cell_type": "code",
   "execution_count": 68,
   "metadata": {},
   "outputs": [
    {
     "data": {
      "text/plain": [
       "<matplotlib.axes._subplots.AxesSubplot at 0x7f90d7964b00>"
      ]
     },
     "execution_count": 68,
     "metadata": {},
     "output_type": "execute_result"
    },
    {
     "data": {
      "image/png": "[encoded data removed]",
      "text/plain": [
       "<Figure size 432x288 with 1 Axes>"
      ]
     },
     "metadata": {
      "needs_background": "light"
     },
     "output_type": "display_data"
    }
   ],
   "source": [
    "fig, ax = plt.subplots()\n",
    "ax.set_ylim([2095000, 2110000])\n",
    "ax.set_xlim([-620000, -610000])\n",
    "# bounds_gdf_edge.plot(ax=ax, color=\"red\")\n",
    "# bounds_gdf.plot(ax=ax)\n",
    "shp_frame.plot(ax=ax, color=\"green\")\n",
    "im_box_gdf.plot(ax=ax, alpha=.5)\n",
    "shp_frame2.plot(ax=ax, color=\"purple\", alpha = .3)"
   ]
  },
  {
   "cell_type": "code",
   "execution_count": null,
   "metadata": {},
   "outputs": [],
   "source": []
  },
  {
   "cell_type": "code",
   "execution_count": null,
   "metadata": {},
   "outputs": [],
   "source": [
    "shp_frame_diffed.plot()\n"
   ]
  },
  {
   "cell_type": "code",
   "execution_count": null,
   "metadata": {},
   "outputs": [],
   "source": [
    "shp_frame.loc[shp_frame.is_valid==False, 'geometry'] = shp_frame[shp_frame.is_valid==False].buffer(0) # fix self intersections so that there is no topology error"
   ]
  },
  {
   "cell_type": "code",
   "execution_count": null,
   "metadata": {},
   "outputs": [],
   "source": [
    "gpd.read_file(\"/mnt/cropmaskperm/\")"
   ]
  },
  {
   "cell_type": "code",
   "execution_count": null,
   "metadata": {},
   "outputs": [],
   "source": [
    "import us\n",
    "from cropmask import io_utils\n",
    "import xarray\n",
    "import rioxarray\n",
    "nebraska_url = us.states.NE.shapefile_urls('state')\n",
    "gdf = io_utils.zipped_shp_url_to_gdf (nebraska_url)\n",
    "crs=xarray.open_rasterio(wflow.scene_path).rio.crs\n",
    "bounds_poly = gdf.to_crs(crs)['geometry'].iloc[0]"
   ]
  },
  {
   "cell_type": "code",
   "execution_count": null,
   "metadata": {},
   "outputs": [],
   "source": [
    "bounds_poly"
   ]
  },
  {
   "cell_type": "code",
   "execution_count": null,
   "metadata": {},
   "outputs": [],
   "source": [
    "from shapely.geometry import box\n",
    "mask_geometry = bounds_poly.intersection(box(*src.bounds))"
   ]
  },
  {
   "cell_type": "code",
   "execution_count": null,
   "metadata": {},
   "outputs": [],
   "source": [
    "import geopandas\n",
    "ex = geopandas.read_file(\"/datadrive/test-ard-june-sept-rgb/tiles/geojson_tiles/\"+\"LT05_CU_012008_20050920_20190107_C01_V0_-625097_2038539.geojson\")"
   ]
  },
  {
   "cell_type": "code",
   "execution_count": null,
   "metadata": {},
   "outputs": [],
   "source": [
    "import us\n",
    "from cropmask import io_utils\n",
    "import xarray\n",
    "import rioxarray\n",
    "nebraska_url = us.states.NE.shapefile_urls('state')\n",
    "gdf = io_utils.zipped_shp_url_to_gdf (nebraska_url)\n",
    "crs=xarray.open_rasterio(wflow.scene_path).rio.crs\n",
    "bounds_poly = gdf.to_crs(crs)['geometry'].iloc[0]\n",
    "\n",
    "from shapely.geometry import box\n",
    "mask_geometry = bounds_poly.intersection(box(*src.bounds))"
   ]
  },
  {
   "cell_type": "code",
   "execution_count": null,
   "metadata": {},
   "outputs": [],
   "source": [
    "from rasterio import mask\n",
    "import numpy as np\n",
    "index_lst = np.arange(1,src.meta['count']+1)\n",
    "arr, t = mask.mask(src, [mask_geometry], all_touched=False, invert=False, nodata=src.meta['nodata'], \n",
    "                         filled=True, crop=True, pad=False, pad_width=0.5, indexes=list(index_lst))"
   ]
  },
  {
   "cell_type": "code",
   "execution_count": null,
   "metadata": {},
   "outputs": [],
   "source": []
  },
  {
   "cell_type": "code",
   "execution_count": null,
   "metadata": {},
   "outputs": [],
   "source": [
    "import numpy as np\n",
    "import matplotlib.pyplot as plt\n",
    "fig, ax = plt.subplots()\n",
    "rast.where(rast>0).plot.imshow(ax=ax, robust=True)\n",
    "label.any(axis=0).where(label.any(axis=0)>0).plot.imshow(ax=ax, alpha=.5, add_colorbar=False)\n",
    "# for i in np.arange(label.shape[0]):\n",
    "#     label[i].plot.imshow(ax=ax, alpha=.5, add_colorbar=False)"
   ]
  },
  {
   "cell_type": "code",
   "execution_count": null,
   "metadata": {},
   "outputs": [],
   "source": []
  },
  {
   "cell_type": "markdown",
   "metadata": {},
   "source": [
    "code graveyard, shape preserving tiling but non uniform shapes"
   ]
  },
  {
   "cell_type": "code",
   "execution_count": null,
   "metadata": {},
   "outputs": [],
   "source": [
    "from shapely.geometry import box, Polygon, MultiPolygon, GeometryCollection\n",
    "\n",
    "def katana(geometry, approx_tile_size, use_projection_size=False, transform=None, recursion_max = 5000, count = 0):\n",
    "    \"\"\"Split a Polygon into two parts across it's shortest dimension\n",
    "    \n",
    "    Arguments\n",
    "    ---------\n",
    "    geometry : str, optional\n",
    "        A shapely.geometry.Polygon, path to a single feature geojson, \n",
    "    or list-like bounding box shaped like [left, bottom, right, top]\n",
    "    src_tile_size : `tuple` of `int`s, optional\n",
    "        The size of the input tiles in ``(y, x)`` coordinates. By default,\n",
    "        this is in pixel units; this can be changed to metric units using the\n",
    "        `use_metric_size` argument.\n",
    "    use_metric_size : bool, optional\n",
    "        Is `src_tile_size` in pixel units (default) or metric? To set to metric\n",
    "        use ``use_metric_size=True``.\n",
    "    transform : `tuple` of `int`s, optional\n",
    "        A rasterio transform.\n",
    "    \n",
    "    Adapted from @lossyrob's Gist https://gist.github.com/lossyrob/7b620e6d2193cb55fbd0bffacf27f7f2\n",
    "    \n",
    "    \n",
    "    \"\"\"\n",
    "    if isinstance(geometry, str):\n",
    "        gj = json.loads(open(geometry).read())\n",
    "        features = gj['features']\n",
    "        if not len(features) == 1:\n",
    "            print('Feature collection must only contain one feature')\n",
    "            sys.exit(1)\n",
    "        geometry = shape(features[0]['geometry'])\n",
    "        \n",
    "    elif isinstance(geometry, list) or isinstance(geometry, np.ndarray):\n",
    "        assert len(geometry) == 4\n",
    "        geometry = box(*geometry)\n",
    "    \n",
    "    elif isinstance(geometry, (Polygon, MultiPolygon)) is False:\n",
    "        print(\"geometry must be one of type list, numpy.ndarray or shapely.geometry.Polygon\")\n",
    "        return\n",
    "    \n",
    "    bounds = geometry.bounds\n",
    "    width = bounds[2] - bounds[0]\n",
    "    height = bounds[3] - bounds[1]\n",
    "    if use_projection_size is False:\n",
    "        if transform is None:\n",
    "            print(\"\"\"Error: A transform is needed to convert pixel units to \n",
    "                  projection units if use_projection_size is False\"\"\")\n",
    "            return\n",
    "        approx_tile_size = approx_tile_size * transform[0]\n",
    "    if max(width, height) <= approx_tile_size or count == recursion_max:\n",
    "        # either the max dimesnion of the polygon is smaller than the threshold, \n",
    "        # or the maximum number of recursions has been reached\n",
    "        return [geometry]\n",
    "    if height >= width:\n",
    "        # split left to right\n",
    "        a = box(bounds[0], bounds[1], bounds[2], bounds[1]+height/2)\n",
    "        b = box(bounds[0], bounds[1]+height/2, bounds[2], bounds[3])\n",
    "    else:\n",
    "        # split top to bottom\n",
    "        a = box(bounds[0], bounds[1], bounds[0]+width/2, bounds[3])\n",
    "        b = box(bounds[0]+width/2, bounds[1], bounds[2], bounds[3])\n",
    "    result = []\n",
    "    for d in (a, b,):\n",
    "        c = geometry.intersection(d)\n",
    "        if not isinstance(c, GeometryCollection):\n",
    "            c = [c]\n",
    "        for e in c:\n",
    "            if isinstance(e, (Polygon, MultiPolygon)):\n",
    "                result.extend(katana(e, approx_tile_size, count=count+1, use_projection_size=use_projection_size, transform=transform))\n",
    "    if count > 0:\n",
    "        return result\n",
    "    # convert multipart into singlepart\n",
    "    final_result = []\n",
    "    for g in result:\n",
    "        if isinstance(g, MultiPolygon):\n",
    "            final_result.extend(g)\n",
    "        else:\n",
    "            final_result.append(g)\n",
    "    return final_result"
   ]
  },
  {
   "cell_type": "code",
   "execution_count": null,
   "metadata": {},
   "outputs": [],
   "source": [
    "shapes = katana(neb, 15360, use_projection_size = True)\n",
    "\n",
    "gpd.GeoDataFrame(geometry=[neb]).plot()\n",
    "\n",
    "\n",
    "gpd.GeoDataFrame(geometry=shapes)[400:401].area"
   ]
  },
  {
   "cell_type": "code",
   "execution_count": null,
   "metadata": {},
   "outputs": [],
   "source": [
    "import dask\n",
    "lst = [1,2,3,4,5,6]\n",
    "output_lst = []\n",
    "for i in lst:\n",
    "    output_lst.append(dask.delayed(sum)([i,1]))\n",
    "results = dask.compute(*output_lst)\n",
    "\n",
    "results"
   ]
  },
  {
   "cell_type": "code",
   "execution_count": null,
   "metadata": {},
   "outputs": [],
   "source": [
    "import geopandas as gpd\n",
    "f = gpd.read_file(\"/mnt/cropmaskperm/external/nebraska_pivots_projected.geojson\")\n",
    "f.crs\n",
    "\n",
    "import xarray\n",
    "import rioxarray\n",
    "crs = xarray.open_rasterio(list(Path(scene_path).glob(\"*\"))[6]).rio.crs\n",
    "\n",
    "crs\n",
    "\n",
    "f.crs = crs\n",
    "\n",
    "f = f.to_crs(crs)\n",
    "\n",
    "f.crs"
   ]
  }
 ],
 "metadata": {
  "kernelspec": {
   "display_name": "Python 3",
   "language": "python",
   "name": "python3"
  },
  "language_info": {
   "codemirror_mode": {
    "name": "ipython",
    "version": 3
   },
   "file_extension": ".py",
   "mimetype": "text/x-python",
   "name": "python",
   "nbconvert_exporter": "python",
   "pygments_lexer": "ipython3",
   "version": "3.6.7"
  }
 },
 "nbformat": 4,
 "nbformat_minor": 4
}
