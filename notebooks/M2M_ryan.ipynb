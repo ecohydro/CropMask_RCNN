{
 "cells": [
  {
   "cell_type": "code",
   "execution_count": 1,
   "metadata": {},
   "outputs": [],
   "source": [
    "import json\n",
    "import getpass\n",
    "import requests\n",
    "import wget\n",
    "import sys\n",
    "from usgs import api\n",
    "import pandas as pd"
   ]
  },
  {
   "cell_type": "markdown",
   "metadata": {},
   "source": [
    "# get api key"
   ]
  },
  {
   "cell_type": "code",
   "execution_count": 94,
   "metadata": {},
   "outputs": [
    {
     "name": "stdin",
     "output_type": "stream",
     "text": [
      " ·········\n"
     ]
    },
    {
     "name": "stdout",
     "output_type": "stream",
     "text": [
      "Your API Key Generated Successfully\n",
      "1c363ec39f684a54ac775c0617a8bee8\n"
     ]
    }
   ],
   "source": [
    "#Form JSON Object to store credentials to generate API Key.\n",
    "username='rbavery'\n",
    "password = getpass.getpass()\n",
    "\n",
    "login = r'https://earthexplorer.usgs.gov/inventory/json/v/1.4.0/login'\n",
    "\n",
    "creds={\"username\": username,\n",
    "\"password\": password,\n",
    "\"authType\": \"\",\n",
    "\"catalogId\": \"EE\"}\n",
    "\n",
    "json_data = {'jsonRequest' : json.dumps(creds)}\n",
    "\n",
    "r = requests.post(login, data = json_data)\n",
    "token = r.json()['data'].replace(\"'\",'\"') # json needs double quotes\n",
    "\n",
    "if token == None:\n",
    "    print(\"API Key Failed to Generate\")\n",
    "\n",
    "else:\n",
    "    print(\"Your API Key Generated Successfully\")\n",
    "    print(token)\n",
    "    \n",
    "def check_item_basket(token):\n",
    "    item_basket_json = {\n",
    "        \"apiKey\" : token\n",
    "    }\n",
    "\n",
    "\n",
    "    get_bd =api_string+\"itembasket\"\n",
    "\n",
    "    json_data = {'jsonRequest' : json.dumps(item_basket_json)}\n",
    "\n",
    "    r = requests.post(get_bd, data = json_data)\n",
    "    return r.json()\n",
    "\n",
    "def submit_bulk_order(token):\n",
    "    request_json = {\n",
    "        \"apiKey\" : token\n",
    "    }\n",
    "\n",
    "\n",
    "    get_bd =api_string+\"submitbulkdownloadorder\"\n",
    "\n",
    "    json_data = {'jsonRequest' : json.dumps(request_json)}\n",
    "\n",
    "    r = requests.post(get_bd, data = json_data)\n",
    "    return r.json()\n",
    "\n",
    "#If Key fails to generate please see documentmentation to decode error https://earthexplorer.usgs.gov/inventory/documentation/errors"
   ]
  },
  {
   "cell_type": "markdown",
   "metadata": {},
   "source": [
    "# make a geojson feature"
   ]
  },
  {
   "cell_type": "code",
   "execution_count": 3,
   "metadata": {},
   "outputs": [],
   "source": [
    "geojson_aoi = feature_coll = {\n",
    "\"type\": \"FeatureCollection\",\n",
    "\"features\": [\n",
    "{\n",
    "\"type\": \"Feature\",\n",
    "\"properties\": {},\n",
    "\"geometry\": {\n",
    "\"type\": \"Polygon\",\n",
    "\"coordinates\": [\n",
    "[\n",
    "[\n",
    "-104.1064453125,\n",
    "43.13306116240612\n",
    "],\n",
    "[\n",
    "-104.12841796875,\n",
    "41.04621681452063\n",
    "],\n",
    "[\n",
    "-102.19482421875,\n",
    "41.0130657870063\n",
    "],\n",
    "[\n",
    "-102.15087890624999,\n",
    "40.027614437486655\n",
    "],\n",
    "[\n",
    "-95.07568359375,\n",
    "40.01078714046552\n",
    "],\n",
    "[\n",
    "-95.625,\n",
    "40.730608477796636\n",
    "],\n",
    "[\n",
    "-96.13037109375,\n",
    "42.17968819665961\n",
    "],\n",
    "[\n",
    "-97.27294921875,\n",
    "43.02071359427862],\n",
    "[\n",
    "-98.02001953125,\n",
    "42.90816007196054\n",
    "],\n",
    "[\n",
    "-98.54736328125,\n",
    "43.08493742707592\n",
    "],\n",
    "[\n",
    "-104.1064453125,\n",
    "43.13306116240612\n",
    "]\n",
    "]\n",
    "]\n",
    "}\n",
    "}\n",
    "]\n",
    "}"
   ]
  },
  {
   "cell_type": "markdown",
   "metadata": {},
   "source": [
    "# get dataset fields"
   ]
  },
  {
   "cell_type": "code",
   "execution_count": 18,
   "metadata": {},
   "outputs": [],
   "source": [
    "def make_date_strings(start_date, end_date):\n",
    "\n",
    "    return [i.date() for i in pd.date_range(start_date, end_date).tolist() if i.month in [6, 7, 8, 9]]"
   ]
  },
  {
   "cell_type": "markdown",
   "metadata": {},
   "source": [
    "The wrapper of the JSON API can be pip installed from my fork, required for geojson search\n",
    "\n",
    "`!pip install git+https://github.com/rbavery/usgs`"
   ]
  },
  {
   "cell_type": "code",
   "execution_count": 27,
   "metadata": {},
   "outputs": [],
   "source": [
    "import numpy as np\n",
    "start_dates = [str(i) + \"-06-01\" for i in np.arange(2002, 2020)]\n",
    "end_dates = [str(i) + \"-09-30\" for i in np.arange(2002, 2020)]"
   ]
  },
  {
   "cell_type": "code",
   "execution_count": 31,
   "metadata": {},
   "outputs": [
    {
     "name": "stdout",
     "output_type": "stream",
     "text": [
      "2002-06-01 done\n",
      "2003-06-01 done\n",
      "2004-06-01 done\n",
      "2005-06-01 done\n",
      "2006-06-01 done\n",
      "2007-06-01 done\n",
      "2008-06-01 done\n",
      "2009-06-01 done\n",
      "2010-06-01 done\n",
      "2011-06-01 done\n",
      "2012-06-01 done\n",
      "2013-06-01 done\n",
      "2014-06-01 done\n",
      "2015-06-01 done\n",
      "2016-06-01 done\n",
      "2017-06-01 done\n",
      "2018-06-01 done\n",
      "2019-06-01 done\n"
     ]
    }
   ],
   "source": [
    "all_results = []\n",
    "for start_date, end_date in zip(start_dates, end_dates):\n",
    "    results = api.search(dataset=\"ARD_TILE\", node=\"EE\", start_date=start_date, end_date=end_date, ll={\"longitude\":-104.1064453125, \"latitude\":39.825413103424786}, ur={\"longitude\":-95.130615234375, \"latitude\":43.100982876188546}, api_key=token)\n",
    "    all_results.extend(results['data']['results'])\n",
    "    print(start_date+\" done\")"
   ]
  },
  {
   "cell_type": "code",
   "execution_count": 63,
   "metadata": {},
   "outputs": [],
   "source": [
    "filtered_results = []\n",
    "for i in all_results:\n",
    "    if i['cloudCover'] < 10:\n",
    "        if \"landsat_etm_c1\" in i['browseUrl']:\n",
    "            pass\n",
    "        else:\n",
    "            filtered_results.append(i)"
   ]
  },
  {
   "cell_type": "code",
   "execution_count": 82,
   "metadata": {},
   "outputs": [],
   "source": [
    "entity_ids = []\n",
    "for i in filtered_results:\n",
    "    entity_ids.append(i['entityId'])"
   ]
  },
  {
   "cell_type": "code",
   "execution_count": null,
   "metadata": {},
   "outputs": [],
   "source": []
  },
  {
   "cell_type": "code",
   "execution_count": 128,
   "metadata": {},
   "outputs": [],
   "source": [
    "download_opt_json = {\n",
    "    \"datasetName\" : \"ARD_TILE\",\n",
    "    \"apiKey\" : token,\n",
    "    \"entityIds\": [entity_ids[0]]\n",
    "}\n",
    "\n",
    "api_string = r'https://earthexplorer.usgs.gov/inventory/json/v/1.4.0/'\n",
    "get_bd =api_string+\"downloadoptions\"\n",
    "\n",
    "json_data = {'jsonRequest' : json.dumps(download_opt_json)}\n",
    "\n",
    "r = requests.post(get_bd, data = json_data)"
   ]
  },
  {
   "cell_type": "code",
   "execution_count": 148,
   "metadata": {},
   "outputs": [],
   "source": [
    "bulk_order_request = {\n",
    "    \"datasetName\": \"ARD_TILE\",\n",
    "    \"apiKey\": token,\n",
    "    \"entityIds\": entity_ids\n",
    "}\n",
    "\n",
    "\n",
    "get_bd =api_string+\"getbulkdownloadproducts\"\n",
    "\n",
    "json_data = {'jsonRequest' : json.dumps(bulk_order_request)}\n",
    "\n",
    "r = requests.post(get_bd, data = json_data)\n",
    "\n",
    "bd_products = r.json()"
   ]
  },
  {
   "cell_type": "code",
   "execution_count": 132,
   "metadata": {},
   "outputs": [],
   "source": [
    "download_json = {\n",
    "    \"datasetName\" : \"ARD_TILE\",\n",
    "    \"products\" : [\"Surface Reflectance\",\n",
    "                  \"Provisional Surface Temperature\",\n",
    "                  \"Brightness Temperature\",\n",
    "                  \"Quality Assessment\",\n",
    "                  \"Full Resolution Browse\",\n",
    "                  \"Metadata\"],\n",
    "    \"apiKey\" : token,\n",
    "    \"entityIds\": entity_ids\n",
    "}\n"
   ]
  },
  {
   "cell_type": "code",
   "execution_count": 133,
   "metadata": {},
   "outputs": [],
   "source": [
    "# doesn't work, ard needs to be bulk ordered\n",
    "get_bd =api_string+\"download\"\n",
    "\n",
    "json_data = {'jsonRequest' : json.dumps(download_json)}\n",
    "\n",
    "r = requests.post(get_bd, data = json_data)"
   ]
  },
  {
   "cell_type": "code",
   "execution_count": 137,
   "metadata": {},
   "outputs": [
    {
     "data": {
      "text/plain": [
       "{'errorCode': None,\n",
       " 'error': '',\n",
       " 'data': [],\n",
       " 'api_version': '1.4.0',\n",
       " 'access_level': 'approved',\n",
       " 'catalog_id': 'EE',\n",
       " 'executionTime': 245.79620599746704}"
      ]
     },
     "execution_count": 137,
     "metadata": {},
     "output_type": "execute_result"
    }
   ],
   "source": [
    "r.json()"
   ]
  },
  {
   "cell_type": "code",
   "execution_count": 159,
   "metadata": {},
   "outputs": [],
   "source": [
    "lst_of_update_requests = [ {\n",
    "    \"apiKey\": token,\n",
    "    \"datasetName\": \"ARD_TILE\",\n",
    "    \"entityId\": product_set[\"entityId\"],\n",
    "    \"downloadCodes\": [i['downloadCode'] for i in product_set[\"products\"]]\n",
    "} for product_set in bd_products['data'] ]"
   ]
  },
  {
   "cell_type": "code",
   "execution_count": null,
   "metadata": {},
   "outputs": [],
   "source": [
    "# regular download doesn't work, ard needs to be bulk ordered\n",
    "get_bd =api_string+\"updatebulkdownloadscene\"\n",
    "\n",
    "for request in lst_of_update_requests:\n",
    "    json_data = {'jsonRequest' : json.dumps(request)}\n",
    "\n",
    "    r = requests.post(get_bd, data = json_data)"
   ]
  },
  {
   "cell_type": "code",
   "execution_count": null,
   "metadata": {},
   "outputs": [],
   "source": []
  },
  {
   "cell_type": "code",
   "execution_count": null,
   "metadata": {},
   "outputs": [],
   "source": []
  },
  {
   "cell_type": "code",
   "execution_count": null,
   "metadata": {},
   "outputs": [],
   "source": [
    "api.dataset_fields(\"ARD_TILE\", node=\"EE\", api_key=token)"
   ]
  },
  {
   "cell_type": "markdown",
   "metadata": {},
   "source": [
    "# There should be more results returned from Nebraska (the geojson used to search) throughout the year, I've confirmed this by downloading ARD manually."
   ]
  },
  {
   "cell_type": "markdown",
   "metadata": {},
   "source": [
    "# scratch code below"
   ]
  },
  {
   "cell_type": "code",
   "execution_count": null,
   "metadata": {},
   "outputs": [],
   "source": [
    "all_results_good_tiles = []\n",
    "for i in all_results:\n",
    "    horizontal_grid = i['browseUrl'].split('/')[8]\n",
    "    vertical_grid = i['browseUrl'].split('/')[9]\n",
    "    if horizontal_grid in [\"011\",\"012\",\"013\",\"014\",\"015\",\"016\",\"017\"] and vertical_grid in [\"006\",\"007\",\"008\",\"009\",\"010\"]:\n",
    "        all_results_good_tiles.append(i)"
   ]
  },
  {
   "cell_type": "code",
   "execution_count": null,
   "metadata": {},
   "outputs": [],
   "source": []
  },
  {
   "cell_type": "code",
   "execution_count": null,
   "metadata": {},
   "outputs": [],
   "source": [
    "where_and_dict = {\n",
    "     21787 : [\"011\",\"012\",\"013\",\"014\",\"015\",\"016\",\"017\"], # tile grid horizontal\n",
    "     21788 : [\"006\",\"007\",\"008\",\"009\", \"010\"], # tile grid vertical\n",
    "     21791 : '10', # cloud cover\n",
    "     21792 : ['OLI_TIRS', 'TM']\n",
    "}\n",
    "\n",
    "additionalCriteria = {\n",
    "    \"filterType\": \"and\",\n",
    "    \"childFilters\": [\n",
    "        {\n",
    "            \"filterType\": \"value\",\n",
    "            \"fieldId\": field_id,\n",
    "            \"value\": value,\n",
    "            \"operand\": \"=\"\n",
    "        }\n",
    "        for field_id, value in iter(where.items())\n",
    "    ]\n",
    "}"
   ]
  },
  {
   "cell_type": "code",
   "execution_count": null,
   "metadata": {},
   "outputs": [],
   "source": [
    "searchUrl='https://earthexplorer.usgs.gov/inventory/json/v/1.4.1/search'\n",
    "dataset_search = {\"apiKey\": (token), \"datasetName\": \"ARD_TILE\"}\n",
    "dataset_request =requests.get(searchUrl, params={\"jsonRequest\":json.dumps(dataset_search)})\n",
    "d_resultslist = dataset_request.json()['data']['results']\n",
    "order = []\n",
    "for res in d_resultsList:\n",
    "    order.append(res['entityId'])\n",
    "\n",
    "#Check to see if query resulted in scenes being returned.\n",
    "if len(order) == 0:\n",
    "    sys.exit(\"No Scenes Matching Criteria Were Found, Program will terminate\")\n",
    "else:\n",
    "    print(\"Your Scene List Contains:\")\n",
    "    print(order)"
   ]
  },
  {
   "cell_type": "code",
   "execution_count": 22,
   "metadata": {},
   "outputs": [],
   "source": [
    "import pandas as pd"
   ]
  },
  {
   "cell_type": "code",
   "execution_count": 43,
   "metadata": {},
   "outputs": [],
   "source": [
    "def read_dataset_json(fname):\n",
    "    return pd.DataFrame(pd.read_json(fname).data.apply(lambda x: x['datasetName']))"
   ]
  },
  {
   "cell_type": "code",
   "execution_count": 4,
   "metadata": {},
   "outputs": [
    {
     "name": "stdout",
     "output_type": "stream",
     "text": [
      "The Following Scenes have downloaded:\n",
      "['LC80260272014047LGN01', 'LC80260272014063LGN01', 'LC80260272014159LGN01', 'LC80260272014207LGN01', 'LC80260272014319LGN01']\n",
      "Download Complete\n"
     ]
    }
   ],
   "source": [
    "#Create routine to generate download URLs for desired product for enity ids from search query. Please consult Get Bulk Download\n",
    "#product endpoint for available products per dataset. Here Level-1 Landsat Geotiff will be downloaded. The product is downloaded\n",
    "#using wget.\n",
    "\n",
    "for enityID in [order]:\n",
    "  orderParms ={'datasetName':dataset,\n",
    "          'products':'STANDARD',\n",
    "          'entityIds': order,\n",
    "          \"apiKey\": (token)\n",
    "          \n",
    "          }\n",
    "  \n",
    "  downloadURL=\"https://earthexplorer.usgs.gov/inventory/json/v/1.4.0/download\"\n",
    "  download= requests.get(downloadURL, params={'jsonRequest':json.dumps(orderParms)})\n",
    "    \n",
    "urlList = []\n",
    "download_list = download.json()['data']\n",
    "for item in download_list:\n",
    "    urlList.append(item['url'])\n",
    "\n",
    "#Users will need to specify a download directory on their machine.\n",
    "outDir=\"YOUR DIR\"\n",
    "for URL in urlList:\n",
    "    wget.download(URL, out=outDir, bar=None)\n",
    "print(\"The Following Scenes have downloaded:\")\n",
    "print(order)\n",
    "print(\"Download Complete\")"
   ]
  },
  {
   "cell_type": "code",
   "execution_count": null,
   "metadata": {},
   "outputs": [],
   "source": []
  }
 ],
 "metadata": {
  "kernelspec": {
   "display_name": "Python 3",
   "language": "python",
   "name": "python3"
  },
  "language_info": {
   "codemirror_mode": {
    "name": "ipython",
    "version": 3
   },
   "file_extension": ".py",
   "mimetype": "text/x-python",
   "name": "python",
   "nbconvert_exporter": "python",
   "pygments_lexer": "ipython3",
   "version": "3.7.3"
  }
 },
 "nbformat": 4,
 "nbformat_minor": 4
}
