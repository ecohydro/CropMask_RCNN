{
 "cells": [
  {
   "cell_type": "markdown",
   "metadata": {},
   "source": [
    "### walkthrough of METRIC"
   ]
  },
  {
   "cell_type": "code",
   "execution_count": 1,
   "metadata": {},
   "outputs": [],
   "source": [
    "import rasterio as rio\n",
    "import xarray as xar\n",
    "from affine import Affine\n",
    "import numpy as np\n",
    "import pyproj\n",
    "import sys\n",
    "import daymetpy\n",
    "import pandas as pd\n",
    "#for METRIC\n",
    "from collections import deque\n",
    "import time\n",
    "from pathlib import Path\n",
    "import numpy as np\n",
    "import os\n",
    "import pyTSEB.meteo_utils as met\n",
    "import pyTSEB.resistances as res\n",
    "import pyTSEB.MO_similarity as MO\n",
    "import pyTSEB.TSEB as tseb\n",
    "from cropmask import io_utils\n",
    "\n",
    "def get_lat_lon_center(da):\n",
    "    \"\"\"\n",
    "    Gets the center of the raster in lon, lat coordinates by reprojecting to WGS84.\n",
    "    \"\"\"\n",
    "    center = rio.transform.xy(Affine(*da.attrs['transform']), rows=da.sizes['y']//2, cols=da.sizes['x']//2, offset='center')\n",
    "    outProj =pyproj.Proj(init='epsg:4326')\n",
    "    inProj = pyproj.Proj(da.attrs['crs'])\n",
    "    lon,lat = pyproj.transform(inProj,outProj,center[0], center[1])\n",
    "    return lon, lat\n",
    "def get_lat_lon_arrs(da):\n",
    "    \"\"\"\n",
    "    Gets the lon, lat coordinates by reprojecting to WGS84, in list of tuple form.\n",
    "    \"\"\"\n",
    "    xs, ys = rio.transform.xy(Affine(*da.attrs['transform']), rows=np.arange(da.sizes['y']), cols=np.arange(da.sizes['x']), offset='center')\n",
    "    lon_lat_arrs = []  \n",
    "    outProj = pyproj.Proj(init='epsg:4326')\n",
    "    inProj = pyproj.Proj(da.attrs['crs'])\n",
    "    lons, lats = pyproj.transform(inProj,outProj,xs, ys)\n",
    "    return list(zip(lons, lats))"
   ]
  },
  {
   "cell_type": "code",
   "execution_count": 2,
   "metadata": {},
   "outputs": [],
   "source": [
    "# os.chdir(\"/mnt/cropmaskperm/\")"
   ]
  },
  {
   "cell_type": "code",
   "execution_count": 3,
   "metadata": {},
   "outputs": [],
   "source": [
    "# test vars\n",
    "Tr_K = xar.open_rasterio(\"test_metric/LT05_CU_012006_20020825_20190517_C01_V01_ST/LT05_CU_012006_20020825_20190517_C01_V01_ST.tif\", chunks = {'x':500, 'y':500})\\\n",
    "    .squeeze()\n",
    "L_dn = xar.open_rasterio(\"test_metric/LT05_CU_012006_20020825_20190517_C01_V01_ST/LT05_CU_012006_20020825_20190517_C01_V01_DRAD.tif\", chunks = {'x':500, 'y':500})\\\n",
    "    .squeeze()\n",
    "emis = xar.open_rasterio(\"test_metric/LT05_CU_012006_20020825_20190517_C01_V01_ST/LT05_CU_012006_20020825_20190517_C01_V01_EMIS.tif\", chunks = {'x':500, 'y':500})\\\n",
    "    .squeeze()\n",
    "\n",
    "band_paths = list(Path(\"test_metric/LT05_CU_012006_20020825_20190517_C01_V01_SR/\").glob(\"*B*.tif\")) # grab, sort and read in bands as xarr\n",
    "band_paths = sorted(band_paths)\n",
    "SR = io_utils.read_bands_lsr(band_paths)\n",
    "SR = SR.transpose('y', 'x', 'band')\n",
    "\n",
    "center = get_lat_lon_center(Tr_K)"
   ]
  },
  {
   "cell_type": "code",
   "execution_count": 4,
   "metadata": {},
   "outputs": [],
   "source": [
    "coords = get_lat_lon_arrs(Tr_K)\n",
    "coord_arr = np.array(coords, dtype=np.dtype(\"float,float\"))"
   ]
  },
  {
   "cell_type": "code",
   "execution_count": 5,
   "metadata": {},
   "outputs": [],
   "source": [
    "# need to test if numpy masked arrays or xarray masking works better. using xarr for now\n",
    "# np.ma.masked_where(L_dn==-9999, L_dn)\n",
    "\n",
    "emis = emis.where(L_dn!=-9999)\n",
    "emis = emis * .0001\n",
    "\n",
    "L_dn = L_dn.where(L_dn!=-9999)\n",
    "L_dn = L_dn * .001\n",
    "\n",
    "Tr_K = Tr_K.where(Tr_K!=-9999)\n",
    "Tr_K = Tr_K * .1"
   ]
  },
  {
   "cell_type": "code",
   "execution_count": 6,
   "metadata": {},
   "outputs": [],
   "source": [
    "aoi_met = daymetpy.daymet_timeseries(lon=center[0], lat=center[1], start_year=2002, end_year=2002) # used to estimate mock params for aoi"
   ]
  },
  {
   "cell_type": "code",
   "execution_count": 7,
   "metadata": {},
   "outputs": [],
   "source": [
    "import pvlib\n",
    "import datetime\n",
    "from timezonefinder import TimezoneFinder\n",
    "\n",
    "time = pd.to_datetime(datetime.datetime(2002, 8, 3, 10, 4))\n",
    "time = pd.DatetimeIndex([time])\n",
    "tf = TimezoneFinder(in_memory=True)\n",
    "timezone = tf.certain_timezone_at(lng=center[0], lat=center[1]) \n",
    "time = time.tz_localize(timezone)\n",
    "solar_df = pvlib.solarposition.get_solarposition(time,center[1], center[0]) # can be made more accurate with temp and pressure from daymet"
   ]
  },
  {
   "cell_type": "markdown",
   "metadata": {},
   "source": [
    "# hot and cold pixel search"
   ]
  },
  {
   "cell_type": "code",
   "execution_count": 8,
   "metadata": {},
   "outputs": [],
   "source": [
    "ltype = \"Landsat5\"\n",
    "\n",
    "if ltype in ['Landsat4', 'Landsat5', 'Landsat7']:\n",
    "    thermal_band = '6'\n",
    "    # \"wb\" coefficients from Trezza et al. 2008\n",
    "    band_sur_dict = {\n",
    "        '1': 1, '2': 2, '3': 3, '4': 4, '5': 5, '7': 6}\n",
    "\n",
    "    wb_dict = {'1': 0.254, '2': 0.149, '3': 0.147,\n",
    "                    '4': 0.311, '5': 0.103, '7': 0.036}\n",
    "elif ltype in ['Landsat8']:\n",
    "\n",
    "    \n",
    "    thermal_band = '10'\n",
    "    band_sur_dict = {\n",
    "        '2': 1, '3': 2, '4': 3, '5': 4, '6': 5, '7': 6}\n",
    "    wb_dict = {'2': 0.254, '3': 0.149, '4': 0.147,\n",
    "                    '5': 0.311, '6': 0.103, '7': 0.036}\n",
    "def band_dict_to_array(data_dict, band_dict):\n",
    "    \"\"\"\n",
    "    \n",
    "    Parameters\n",
    "    ----------\n",
    "    data_dict : dict\n",
    "    band_dict: dict\n",
    "    Returns\n",
    "    -------\n",
    "    ndarray\n",
    "    \"\"\"\n",
    "    return np.array(\n",
    "        [v for k, v in sorted(data_dict.items())\n",
    "         if k in band_dict.keys()]).astype(np.float32)\n",
    "\n",
    "# Convert dictionaries to arrays\n",
    "wb = band_dict_to_array(wb_dict, band_sur_dict)"
   ]
  },
  {
   "cell_type": "code",
   "execution_count": 9,
   "metadata": {},
   "outputs": [],
   "source": [
    "def mask_same_shape(function):\n",
    "    def func(arr1, arr2):\n",
    "        # tried basing on single nodata vlaue but ARD has negative val artifacts over water\n",
    "        arr1, arr2= arr1.where(arr2 > 0), arr2.where(arr1 > 0)\n",
    "        return function(arr1, arr2)\n",
    "    return func\n",
    "\n",
    "@mask_same_shape\n",
    "def savi(nir, r):\n",
    "    \"\"\"\n",
    "    In Landsat 4-7, SAVI = ((Band 4 – Band 3) / (Band 4 + Band 3 + 0.5)) * (1.5).\n",
    "\n",
    "    In Landsat 8, SAVI = ((Band 5 – Band 4) / (Band 5 + Band 4 + 0.5)) * (1.5).\n",
    "        \n",
    "    https://www.usgs.gov/land-resources/nli/landsat/landsat-soil-adjusted-vegetation-index\n",
    "    \"\"\"\n",
    "    \n",
    "    return ((nir - r) / (nir + r + 0.5)) * (1.5)\n",
    "\n",
    "@mask_same_shape\n",
    "def ndvi(nir, r):\n",
    "    \"\"\"\n",
    "    In Landsat 4-7, SAVI = ((Band 4 – Band 3) / (Band 4 + Band 3)).\n",
    "\n",
    "    In Landsat 8, SAVI = ((Band 5 – Band 4) / (Band 5 + Band 4 )).\n",
    "    \"\"\"\n",
    "    \n",
    "    return (nir - r) / (nir + r )\n",
    "\n",
    "def reflectance_to_albedo(refl_sur, wb):\n",
    "    \"\"\"Tasumi at-surface albedo\n",
    "    Parameters\n",
    "    ----------\n",
    "    refl_sur : ndarray\n",
    "    wb :\n",
    "    Returns\n",
    "    -------\n",
    "    ndarray\n",
    "    References\n",
    "    ----------\n",
    "    .. [1] Tasumi, M., Allen, R., and Trezza, R. (2008). At-surface reflectance\n",
    "       and albedo from satellite for operational calculation of land surface\n",
    "       energy balance. Journal of Hydrologic Engineering 13(2):51-63.\n",
    "       https://doi.org/10.1061/(ASCE)1084-0699(2008)13:2(51)\n",
    "    \"\"\"\n",
    "    return np.sum(refl_sur * wb, axis=2)\n",
    "\n",
    "def savi_lai_func(savi):\n",
    "    \"\"\"Compute leaf area index (LAI) from SAVI\n",
    "    Parameters\n",
    "    ----------\n",
    "    savi : array_like\n",
    "        Soil adjusted vegetation index. \n",
    "        \n",
    "    Returns\n",
    "    -------\n",
    "    ndarray\n",
    "    References\n",
    "    ----------\n",
    "    .. [1] Allen, R., Tasumi, M., & Trezza, R. (2007). Satellite-Based Energy\n",
    "       Balance for Mapping Evapotranspiration with Internalized Calibration\n",
    "       (METRIC)-Model. Journal of Irrigation and Drainage Engineering, 133(4).\n",
    "       https://doi.org/10.1061/(ASCE)0733-9437(2007)133:4(380)\n",
    "    \"\"\"\n",
    "    return np.clip((11. * np.power(savi, 3)), 0, 6)\n",
    "\n",
    "\n",
    "def ndvi_lai_func(ndvi):\n",
    "    \"\"\"Compute leaf area index (LAI) from NDVI\n",
    "    Parameters\n",
    "    ----------\n",
    "    ndvi : array_like\n",
    "        Normalized difference vegetation index.\n",
    "    Returns\n",
    "    -------\n",
    "    ndarray\n",
    "    References\n",
    "    ----------\n",
    "    .. [1] Trezza and Allen 2014?\n",
    "    \"\"\"\n",
    "    return np.clip((7. * np.power(ndvi, 3)), 0, 6)"
   ]
  },
  {
   "cell_type": "code",
   "execution_count": 10,
   "metadata": {},
   "outputs": [],
   "source": [
    "# from nlcd metric file on DRI pymetric\n",
    "zom_nlcd_remap = {\n",
    "  \"11\": \"0.0005\", # open water\n",
    "  \"12\": \"0.005\", # perennial ice/snow\n",
    "  \"21\": \"0.05\", # developed, open space\n",
    "  \"22\": \"0.08\", # developed, low intensity\n",
    "  \"23\": \"0.1\", # developed, medium\n",
    "  \"24\": \"0.2\", # developed, high\n",
    "  \"31\": \"0.1\", # barren land (rock sand clay)\n",
    "  \"32\": \"0.005\", \n",
    "  \"41\": \"perrier\", # deciduous forest\n",
    "  \"42\": \"perrier\", # evergreen forest\n",
    "  \"43\": \"perrier\", # mixed forest\n",
    "  \"51\": \"0.2\", # dwarf scrub\n",
    "  \"52\": \"0.2\", # shrb/scrub\n",
    "  \"71\": \"0.05\", # grassland/herbaceaous\n",
    "  \"72\": \"0.03\", # sedge/Herbaceaous\n",
    "  \"81\": \"LAI\", \n",
    "  \"82\": \"LAI\", # pasture/hay\n",
    "  \"90\": \"0.4\", # cultivated crops\n",
    "  \"94\": \"0.2\", # woody wetlands\n",
    "  \"95\": \"0.01\" # emergent herbaceaous wetlands\n",
    " }\n",
    "# https://www.mrlc.gov/data/legends/national-land-cover-database-2011-nlcd2011-legend"
   ]
  },
  {
   "cell_type": "code",
   "execution_count": 11,
   "metadata": {},
   "outputs": [],
   "source": [
    "# better way to calc zero plane displacement for non crops https://github.com/hectornieto/pyTSEB/blob/b940cfb00512acb3c1a2270928600b4f5b3191cc/pyTSEB/resistances.py\n",
    "def calc_d_0(h_C):\n",
    "    ''' Zero-plane displacement height\n",
    "    Calculates the zero-plane displacement height based on a\n",
    "    fixed ratio of canopy height.\n",
    "    Parameters\n",
    "    ----------\n",
    "    h_C : float\n",
    "        canopy height (m).\n",
    "    Returns\n",
    "    -------\n",
    "    d_0 : float\n",
    "        zero-plane displacement height (m).'''\n",
    "\n",
    "    d_0 = h_C * 0.65\n",
    "\n",
    "    return np.asarray(d_0)\n",
    "\n",
    "\n",
    "def zom_func(lai, landuse, zom_remap):\n",
    "    \"\"\"Generate Zom (roughness) values based on the landuse type\n",
    "    Parameters\n",
    "    ----------\n",
    "    lai : ndarray\n",
    "        Leaf area index.\n",
    "    landuse : ndarray\n",
    "        Landuse.\n",
    "    zom_remap : dict\n",
    "        Mapping of landuse types to zom values in JSON format with key/value\n",
    "        both string type (i.e. \"11\" : \"0.005\").\n",
    "    Returns\n",
    "    -------\n",
    "    ndarray\n",
    "    References\n",
    "    ----------\n",
    "    .. [1] Allen, R., Tasumi, M., & Trezza, R. (2007). Satellite-Based Energy\n",
    "       Balance for Mapping Evapotranspiration with Internalized Calibration\n",
    "       (METRIC)-Model. Journal of Irrigation and Drainage Engineering, 133(4).\n",
    "       https://doi.org/10.1061/(ASCE)0733-9437(2007)133:4(380)\n",
    "    \"\"\"\n",
    "    zom = np.full(lai.shape, 0.005, dtype=np.float32)\n",
    "\n",
    "    for lu_code in np.unique(landuse):\n",
    "        # What should be the default zom value?\n",
    "        # Convert the landuse array values to strings for now.\n",
    "        try:\n",
    "            lu_value = zom_remap[str(lu_code)]\n",
    "        except:\n",
    "            lu_value = 'lai'\n",
    "\n",
    "        if lu_value.lower() == 'perrier':\n",
    "            zom[landuse == lu_code] = perrier_zom_func(lai[landuse == lu_code])\n",
    "        elif lu_value.lower() == 'lai':\n",
    "            zom[landuse == lu_code] = np.maximum(\n",
    "                lai[landuse == lu_code] * 0.018, 0.005)\n",
    "        else:\n",
    "            zom[landuse == lu_code] = float(lu_value)\n",
    "\n",
    "    zom[np.isnan(lai)] = np.nan\n",
    "    return zom\n",
    "\n",
    "\n",
    "def perrier_zom_func(lai):\n",
    "    \"\"\"Perrier Zom\n",
    "    Parameters\n",
    "    ----------\n",
    "    lai : ndarray\n",
    "        Leaf area index.\n",
    "    Returns\n",
    "    -------\n",
    "    ndarray\n",
    "    Notes\n",
    "    -----\n",
    "    Minimum zom is 0.005 m equal to bare soil. Dec 28 09, JK\n",
    "    The use of the function is applicable for tall vegetation (forests).\n",
    "    The canopy distribution coefficient, a, is assumed to be a=0.6,\n",
    "        i.e. slightly top heavy canopy.\n",
    "    The vegetation height is estimated as h=2.5LAI (LAImax=6 -> 2.5*6=15 m),\n",
    "        compared to h=0.15LAI for agriculture crops.\n",
    "    References\n",
    "    ----------\n",
    "    .. [1] Perrier, A. (1982). Land surface processes: Vegetation.\n",
    "       In Land Surface Processes in Atmospheric General Circulation Models;\n",
    "       Eagelson, P.S., Ed.; Cambridge University Press: Cambridge, UK;\n",
    "       pp. 395-448.\n",
    "    .. [2] Allen, R., Irmak, A., Trezza, R., Hendrickx, J., Bastiaanssen, W.,\n",
    "       & Kjaersgaard, J. (2011). Satellite-based ET estimation in agriculture\n",
    "       using SEBAL and METRIC. Hydrologic Processes, 25, 4011-4027.\n",
    "       https://doi.org/10.1002/hyp.8408\n",
    "    .. [3] Santos (2012)\n",
    "    \"\"\"\n",
    "    perrier = -1.2 * lai\n",
    "    perrier /= 2.\n",
    "    np.exp(perrier, out=perrier)\n",
    "    perrier = ((1 - perrier) * perrier) * (2.5 * lai)\n",
    "    return np.maximum(perrier, 0.005, dtype=np.float32)"
   ]
  },
  {
   "cell_type": "markdown",
   "metadata": {},
   "source": [
    "need to run with more memory, clip nlcd to ard extent and test METRIC"
   ]
  },
  {
   "cell_type": "code",
   "execution_count": 12,
   "metadata": {},
   "outputs": [],
   "source": [
    "# import cropmask.label_prep as lp\n",
    "# from rasterio.warp import reproject\n",
    "# with rio.open(\"NLCD_tif/NLCD_2001_Land_Cover_L48_20190424.tif\") as nlcd:\n",
    "#     with rio.open(\"test_metric/LT05_CU_012006_20020825_20190517_C01_V01_ST/LT05_CU_012006_20020825_20190517_C01_V01_ST.tif\") as ard:\n",
    "#         ard_poly = lp.rio_bbox_to_polygon(ard.bounds)\n",
    "#         kwargs = nlcd.meta.copy()\n",
    "#         kwargs.update({\n",
    "#             'crs': ard.meta['crs'],\n",
    "#             'transform': ard.meta['transform'],\n",
    "#             'width' : nlcd.meta['width'],\n",
    "#             'height' : ard.meta['height']\n",
    "#         })\n",
    "#         with rio.open('tmp.tif', 'w', **kwargs) as dst:\n",
    "#             reproject(\n",
    "#                 source=rio.band(nlcd, 1),\n",
    "#                 destination=rio.band(dst, 1),\n",
    "#                 src_transform=nlcd.meta['transform'],\n",
    "#                 src_crs=nlcd.meta['crs'],\n",
    "#                 dst_transform=ard.meta['transform'],\n",
    "#                 dst_crs=ard.meta['crs'])"
   ]
  },
  {
   "cell_type": "markdown",
   "metadata": {},
   "source": [
    "# METRIC model"
   ]
  },
  {
   "cell_type": "code",
   "execution_count": 13,
   "metadata": {},
   "outputs": [],
   "source": [
    "# mocks\n",
    "alt=0\n",
    "T_A_K = 25.0+273.15\n",
    "u = 2 #m/s\n",
    "ea = 20 # mb, mock value under the saturation vapor pressure at 25 Celsius\n",
    "p = 1013 # mb\n",
    "S_dn = 500 # flux density, guestimate based on center of image and rough day of year daymet data\n",
    "L_dn = L_dn\n",
    "emis = emis\n",
    "z_0M = .018 # surface roughness length for momentum transport, see https://reader.elsevier.com/reader/sd/pii/S0022169498002534?token=B4ADFCE769E6A06E951B6DDF5DBBF54EB29B4C76713AA74F1322C942C1B9C560F655D77CD6EDA4CA9D2E71C711AD7167\n",
    "h_C = 2 # mock canopy height of 2 meters\n",
    "d_0 = calc_d_0(np.ones(Tr_K.shape)*h_C)\n",
    "z_u = 2 # height of windspeed measurement\n",
    "z_T = 2 # height of air temperature measurement\n",
    "LE_hot=0\n",
    "use_METRIC_resistance=True\n",
    "calcG_params=[[0], 0.15]\n",
    "UseL=False\n",
    "UseDEM=False\n"
   ]
  },
  {
   "cell_type": "markdown",
   "metadata": {},
   "source": [
    "end member search"
   ]
  },
  {
   "cell_type": "code",
   "execution_count": 14,
   "metadata": {},
   "outputs": [],
   "source": [
    "from pyMETRIC import endmember_search\n",
    "\n",
    "VI = ndvi(SR.sel(band=4), SR.sel(band=3))\n",
    "\n",
    "VI_MAX = 0.95\n",
    "\n",
    "albedo = reflectance_to_albedo(SR.where(SR>0), wb)\n",
    "\n",
    "# Reduce potential ET based on vegetation density based on Allen et al. 2013\n",
    "ET_r_f_cold = xar.ones_like(Tr_K) * 1.05\n",
    "ET_bare_soil = xar.zeros_like(Tr_K)\n",
    "ET_r_f_cold = xar.where(VI < VI_MAX, 1.05/VI_MAX * VI, ET_r_f_cold) # Eq. 4 [Allen 2013]\n",
    "\n",
    "ET_r_f_hot = VI * ET_r_f_cold + (1.0 - VI) * ET_bare_soil # Eq. 5 [Allen 2013]\n",
    "\n",
    "# Compute normalized temperatures by adiabatic correction\n",
    "gamma_w = met.calc_lapse_rate_moist(Tr_K,\n",
    "                                    ea,\n",
    "                                    p)\n",
    "\n",
    "Tr_datum = Tr_K + gamma_w * alt\n",
    "Ta_datum = T_A_K + gamma_w * alt"
   ]
  },
  {
   "cell_type": "markdown",
   "metadata": {},
   "source": [
    "check for infinite values"
   ]
  },
  {
   "cell_type": "code",
   "execution_count": 15,
   "metadata": {},
   "outputs": [
    {
     "name": "stdout",
     "output_type": "stream",
     "text": [
      "[False False  True]\n"
     ]
    }
   ],
   "source": [
    "values = [np.inf,np.nan,0]\n",
    "print(np.in1d(values, VI))"
   ]
  },
  {
   "cell_type": "code",
   "execution_count": 16,
   "metadata": {},
   "outputs": [
    {
     "name": "stderr",
     "output_type": "stream",
     "text": [
      "/home/rave/miniconda3/envs/METRIC/lib/python3.7/site-packages/pyMETRIC-1.0-py3.7.egg/pyMETRIC/endmember_search.py:343: RuntimeWarning: divide by zero encountered in true_divide\n",
      "/home/rave/miniconda3/envs/METRIC/lib/python3.7/site-packages/pyMETRIC-1.0-py3.7.egg/pyMETRIC/endmember_search.py:343: RuntimeWarning: invalid value encountered in true_divide\n"
     ]
    }
   ],
   "source": [
    "# Compute spatial homogeneity metrics\n",
    "cv_ndvi, _, _ = endmember_search.moving_cv_filter(VI, (11, 11))\n",
    "cv_lst, _, std_lst = endmember_search.moving_cv_filter(Tr_datum, (11, 11))\n",
    "cv_albedo,_, _ = endmember_search.moving_cv_filter(albedo, (11, 11))"
   ]
  },
  {
   "cell_type": "code",
   "execution_count": 17,
   "metadata": {},
   "outputs": [
    {
     "name": "stdout",
     "output_type": "stream",
     "text": [
      "Filtering pixels by homgeneity\n"
     ]
    },
    {
     "name": "stderr",
     "output_type": "stream",
     "text": [
      "/home/rave/miniconda3/envs/METRIC/lib/python3.7/site-packages/pyMETRIC-1.0-py3.7.egg/pyMETRIC/endmember_search.py:180: RuntimeWarning: invalid value encountered in less_equal\n",
      "/home/rave/miniconda3/envs/METRIC/lib/python3.7/site-packages/pyMETRIC-1.0-py3.7.egg/pyMETRIC/endmember_search.py:181: RuntimeWarning: invalid value encountered in less_equal\n",
      "/home/rave/miniconda3/envs/METRIC/lib/python3.7/site-packages/pyMETRIC-1.0-py3.7.egg/pyMETRIC/endmember_search.py:182: RuntimeWarning: invalid value encountered in less\n"
     ]
    },
    {
     "name": "stdout",
     "output_type": "stream",
     "text": [
      "Found 6023919 homogeneous pixels\n",
      "Setting LST boundaries 255.70000000000002 - 323.90000000000003\n",
      "Setting VI boundaries -0.9193235375658442 - 0.999100404817832\n",
      "Setting LST boundaries 256.40000000000003 - 323.6\n",
      "Setting VI boundaries -0.9054119941491955 - 0.999100404817832\n",
      "Setting LST boundaries 256.90000000000003 - 323.3\n",
      "Setting VI boundaries -0.8886444406837029 - 0.999100404817832\n",
      "Setting LST boundaries 256.90000000000003 - 323.0\n",
      "Setting VI boundaries -0.8540145985401459 - 0.999100404817832\n",
      "Setting LST boundaries 256.90000000000003 - 322.70000000000005\n",
      "Setting VI boundaries -0.8438277864847423 - 0.999100404817832\n",
      "Setting LST boundaries 256.90000000000003 - 322.40000000000003\n",
      "Setting VI boundaries -0.8304997424008244 - 0.999100404817832\n",
      "Setting LST boundaries 256.90000000000003 - 322.1\n",
      "Setting VI boundaries -0.8157058556513844 - 0.999100404817832\n",
      "Setting LST boundaries 256.90000000000003 - 322.1\n",
      "Setting VI boundaries -0.7746575342465754 - 0.999100404817832\n",
      "Setting LST boundaries 256.90000000000003 - 322.1\n",
      "Setting VI boundaries -0.7573989162150896 - 0.999100404817832\n",
      "Setting LST boundaries 256.90000000000003 - 322.1\n",
      "Setting VI boundaries -0.7236302196475983 - 0.999100404817832\n",
      "Setting LST boundaries 256.90000000000003 - 322.1\n",
      "Setting VI boundaries -0.6993321190042502 - 0.999100404817832\n",
      "Setting LST boundaries 256.90000000000003 - 322.1\n",
      "Setting VI boundaries -0.6867871331539152 - 0.999100404817832\n",
      "Setting LST boundaries 256.90000000000003 - 322.1\n",
      "Setting VI boundaries -0.6692667706708268 - 0.999100404817832\n",
      "Setting LST boundaries 256.90000000000003 - 322.1\n",
      "Setting VI boundaries -0.6562256158733697 - 0.999100404817832\n",
      "Setting LST boundaries 256.90000000000003 - 322.1\n",
      "Setting VI boundaries -0.6456104015648372 - 0.999100404817832\n",
      "Setting LST boundaries 256.90000000000003 - 322.1\n",
      "Setting VI boundaries -0.6352545748786257 - 0.999100404817832\n",
      "Setting LST boundaries 256.90000000000003 - 322.1\n",
      "Setting VI boundaries -0.6247347681115489 - 0.999100404817832\n",
      "Setting LST boundaries 256.90000000000003 - 322.1\n",
      "Setting VI boundaries -0.6146346806879176 - 0.999100404817832\n",
      "Setting LST boundaries 256.90000000000003 - 322.1\n",
      "Setting VI boundaries -0.604553753624745 - 0.999100404817832\n",
      "Setting LST boundaries 256.90000000000003 - 322.1\n",
      "Setting VI boundaries -0.5945522478004098 - 0.999100404817832\n",
      "Setting LST boundaries 256.90000000000003 - 322.1\n",
      "Setting VI boundaries -0.5845377380133058 - 0.999100404817832\n",
      "Removing outliers by histogram\n",
      "Keep 6023766 pixels after outlier removal\n",
      "Iterative search of candidate cold pixels\n",
      "Searching cold pixels from the 1 % minimum LST and 1 % maximum VI\n"
     ]
    },
    {
     "name": "stderr",
     "output_type": "stream",
     "text": [
      "/home/rave/miniconda3/envs/METRIC/lib/python3.7/site-packages/pyMETRIC-1.0-py3.7.egg/pyMETRIC/endmember_search.py:194: RuntimeWarning: invalid value encountered in greater_equal\n",
      "/home/rave/miniconda3/envs/METRIC/lib/python3.7/site-packages/pyMETRIC-1.0-py3.7.egg/pyMETRIC/endmember_search.py:195: RuntimeWarning: invalid value encountered in less_equal\n",
      "/home/rave/miniconda3/envs/METRIC/lib/python3.7/site-packages/pyMETRIC-1.0-py3.7.egg/pyMETRIC/endmember_search.py:196: RuntimeWarning: invalid value encountered in greater_equal\n",
      "/home/rave/miniconda3/envs/METRIC/lib/python3.7/site-packages/pyMETRIC-1.0-py3.7.egg/pyMETRIC/endmember_search.py:197: RuntimeWarning: invalid value encountered in less_equal\n",
      "/home/rave/miniconda3/envs/METRIC/lib/python3.7/site-packages/pyMETRIC-1.0-py3.7.egg/pyMETRIC/endmember_search.py:303: RuntimeWarning: invalid value encountered in greater_equal\n",
      "/home/rave/miniconda3/envs/METRIC/lib/python3.7/site-packages/pyMETRIC-1.0-py3.7.egg/pyMETRIC/endmember_search.py:304: RuntimeWarning: invalid value encountered in less_equal\n"
     ]
    },
    {
     "name": "stdout",
     "output_type": "stream",
     "text": [
      "Found 3455 candidate cold pixels\n",
      "Iterative search of candidate hot pixels\n",
      "Searching hot pixels from the 1 % maximum LST and 1 % minimum VI\n"
     ]
    },
    {
     "name": "stderr",
     "output_type": "stream",
     "text": [
      "/home/rave/miniconda3/envs/METRIC/lib/python3.7/site-packages/pyMETRIC-1.0-py3.7.egg/pyMETRIC/endmember_search.py:322: RuntimeWarning: invalid value encountered in less_equal\n",
      "/home/rave/miniconda3/envs/METRIC/lib/python3.7/site-packages/pyMETRIC-1.0-py3.7.egg/pyMETRIC/endmember_search.py:323: RuntimeWarning: invalid value encountered in greater_equal\n"
     ]
    },
    {
     "name": "stdout",
     "output_type": "stream",
     "text": [
      "Found 42 candidate hot pixels\n",
      "Ranking candidate anchor pixels\n",
      "Cold  pixel found with 297.0 K and 0.7064062051134732 VI\n",
      "Hot  pixel found with 319.0 K and 0.06318614296169797 VI\n"
     ]
    }
   ],
   "source": [
    "cold_pixel, hot_pixel = endmember_search.esa(VI,\n",
    "                                Tr_datum,\n",
    "                                cv_ndvi,\n",
    "                                std_lst,\n",
    "                                cv_albedo)\n",
    "            "
   ]
  },
  {
   "cell_type": "markdown",
   "metadata": {},
   "source": [
    "Scale factors for temperature product variables documented in: https://prd-wret.s3-us-west-2.amazonaws.com/assets/palladium/production/atoms/files/LSDS-1330-LandsatSurfaceTemperature_ProductGuide-v2.pdf"
   ]
  },
  {
   "cell_type": "code",
   "execution_count": 18,
   "metadata": {},
   "outputs": [],
   "source": [
    "from pyMETRIC.METRIC import pet_asce\n",
    "\n",
    "LE_potential = pet_asce(Ta_datum,\n",
    "                              u,\n",
    "                              ea,\n",
    "                              p,\n",
    "                              S_dn,\n",
    "                              z_u,\n",
    "                              z_T,\n",
    "                              f_cd=1,\n",
    "                              reference=True)"
   ]
  },
  {
   "cell_type": "code",
   "execution_count": null,
   "metadata": {},
   "outputs": [],
   "source": [
    "from pyMETRIC.METRIC import METRIC\n",
    "\n",
    "        \n",
    "flag, R_nl1, LE1, H1, G1, R_A1, u_friction, L, n_iterations = \\\n",
    "         METRIC(Tr_K,\n",
    "                T_A_K,\n",
    "                u,\n",
    "                ea,\n",
    "                p,\n",
    "                S_dn,\n",
    "                L_dn,\n",
    "                emis,\n",
    "                z_0M,\n",
    "                d_0,\n",
    "                z_u,\n",
    "                z_T,\n",
    "                cold_pixel,\n",
    "                hot_pixel,\n",
    "                LE_potential,\n",
    "                LE_hot=0,\n",
    "                use_METRIC_resistance = use_METRIC_resistance,\n",
    "                calcG_params=calcG_params,\n",
    "                UseDEM=UseDEM)"
   ]
  },
  {
   "cell_type": "markdown",
   "metadata": {},
   "source": [
    "#### this has code specific to the SENET project, the pyMETRIC.py file. METRIC function in METRIC.py contains the model and we should focus on using that probably, but with pyMETRIC as a guide for implementing on rasters"
   ]
  },
  {
   "cell_type": "code",
   "execution_count": null,
   "metadata": {},
   "outputs": [],
   "source": [
    "from collections import OrderedDict\n",
    "from os.path import splitext, dirname, exists\n",
    "from os import mkdir\n",
    "\n",
    "import numpy as np\n",
    "import ast\n",
    "import gdal\n",
    "from netCDF4 import Dataset\n",
    "\n",
    "# S_* are flags to determine if output should be saved. N stands for No, P for Priamry, A for Ancillary\n",
    "from pyTSEB.PyTSEB import S_N, S_P, S_A \n",
    "\n",
    "# this comes with all the land cover IDs for the IGBP global land cover classication. IDs will need to change for NLCD.\n",
    "# also comes with func to calculate the roughness and zero plane displacement. This could be substituted for uniform veg calcualtion if we only care about crops.\n",
    "from pyTSEB import resistances as res \n",
    "\n",
    "# calculates sun zenith angles based on time and lcoation, pressure based on altitude, downwelling longwave from air T\n",
    "# and lapse rate to correct T reference and air temperature based on vapor pressure and air pressure\n",
    "# not sure what the lapse rate temperature normalization is for..\n",
    "from pyTSEB import meteo_utils as met\n",
    "\n",
    "\n",
    "# function for bruetsart's equation for atmospheric emissivity to calc downwelling longwave,\n",
    "# Esimate diffuse and direct irradiance (shortwave incoming to surface). inputs to this parsing func are \n",
    "# S_dn, incoming shortwave, solar zenith, solar constant and Sn_c canopy net shortwave radiation and Sn_S soil net shortwave radiation\n",
    "from pyTSEB import net_radiation as rad\n",
    "from pyMETRIC import METRIC, endmember_search\n",
    "import xarray"
   ]
  },
  {
   "cell_type": "markdown",
   "metadata": {},
   "source": [
    "### Questions\n",
    "\n",
    "Wha is an adiabatic lapse rate? Why is it used to normalize temperature like so?\n",
    "\n",
    "```python\n",
    "    gamma_w = met.calc_lapse_rate_moist(in_data['T_A1'],\n",
    "                                        in_data['ea'],\n",
    "                                        in_data['p'])\n",
    "    Tr_datum = in_data['T_R1'] + gamma_w * in_data['alt']\n",
    "    Ta_datum = in_data['T_A1'] + gamma_w * in_data['alt']\n",
    "```"
   ]
  },
  {
   "cell_type": "code",
   "execution_count": null,
   "metadata": {},
   "outputs": [],
   "source": []
  },
  {
   "cell_type": "markdown",
   "metadata": {},
   "source": [
    "# code graveyard"
   ]
  },
  {
   "cell_type": "code",
   "execution_count": null,
   "metadata": {},
   "outputs": [],
   "source": [
    "def get_x_y_arrs(da):\n",
    "    \"\"\"\n",
    "    Takes array read with open_rasterio, outputs x and y arrays of same shape.\n",
    "    \"\"\"\n",
    "    transform = Affine.from_gdal(*da.attrs['transform'])\n",
    "    nx, ny = da.sizes['x'], da.sizes['y']\n",
    "    x, y = np.meshgrid(np.arange(nx)+0.5, np.arange(ny)+0.5) * transform\n",
    "    return x, y"
   ]
  },
  {
   "cell_type": "code",
   "execution_count": null,
   "metadata": {},
   "outputs": [],
   "source": []
  },
  {
   "cell_type": "code",
   "execution_count": null,
   "metadata": {},
   "outputs": [],
   "source": []
  },
  {
   "cell_type": "code",
   "execution_count": null,
   "metadata": {},
   "outputs": [],
   "source": []
  },
  {
   "cell_type": "markdown",
   "metadata": {},
   "source": [
    "### Setup\n",
    "\n",
    "1. Setup conda env\n",
    "2. install setuptools\n",
    "3. install https://github.com/hectornieto/pyPro4Sail a dependency\n",
    "4. install https://github.com/hectornieto/pyMETRIC the ET model\n",
    "5. install https://github.com/khufkens/daymetpy for ancillary inputs"
   ]
  },
  {
   "cell_type": "markdown",
   "metadata": {},
   "source": [
    "Example reference using Daymet for ancillary inputs to estimate ET with Landsat:https://www.sciencedirect.com/science/article/pii/S0034425715302650"
   ]
  },
  {
   "cell_type": "markdown",
   "metadata": {},
   "source": [
    "projection info for daymet: https://wiki.cyverse.org/wiki/display/~tyson_swetnam/Raster+Calculations"
   ]
  },
  {
   "cell_type": "markdown",
   "metadata": {},
   "source": [
    "To get daymet data for a 512x512 scene and build an array it will take 235 api calls which may not be too bad."
   ]
  },
  {
   "cell_type": "markdown",
   "metadata": {},
   "source": [
    "This func will get the lat, lon tuples of a raster to be used to get daymet data: https://rasterio.readthedocs.io/en/stable/api/rasterio.transform.html"
   ]
  },
  {
   "cell_type": "markdown",
   "metadata": {},
   "source": [
    "I've chosen daymet over mesonet because it is easier to acquire, but later spatially interpolated Mesonet and other data sources can be used for better accuracy. [This paper](https://www.sciencedirect.com/science/article/pii/S1161030116302076#bib0005) notes:\"While, on average, simulated yields using Daymet were in closer agreement with simulations based on MWD compared with PRISM (RMSE%: 18 vs. 24%), there were still large differences in simulated yield in 20% of the site-years. And, perhaps more importantly, these differences were not predictable as they were not associated with any spatial pattern in weather, topography, or weather network. While GWD might be useful for applications that only require temperature, such as crop stage prediction or quantification of early frost risk, water deficit and simulated yields for specific site-years are highly uncertain and there is no way to ex-ante predict the magnitude and direction of the bias, which undermines utility of GWD for field-specific or real-time agronomic applications.\"\n",
    "\n",
    "Daymet overview: https://daymet.ornl.gov/overview\n",
    "\n",
    "Daymet has been critiqued in this 2017 paper for not homogenizing the grid to account for climate change over time in places that are far from station data. It has also been critiqued for artifacts where there is no station data (Walton and Hall, An Assessment of High-Resolution Gridded Temperature Datasets\n",
    "over California)"
   ]
  },
  {
   "cell_type": "code",
   "execution_count": null,
   "metadata": {},
   "outputs": [],
   "source": []
  },
  {
   "cell_type": "markdown",
   "metadata": {},
   "source": [
    "The variables we don't have and which are most difficult to get probably are related to wind speed and vegetation structure:\n",
    "u, z_0M, d_0, z_u. Maybe we get these from mesonet stations, need to look at the literature to see what folks do about this."
   ]
  },
  {
   "cell_type": "code",
   "execution_count": null,
   "metadata": {},
   "outputs": [],
   "source": []
  },
  {
   "cell_type": "code",
   "execution_count": null,
   "metadata": {},
   "outputs": [],
   "source": [
    "import sys\n",
    "import daymetpy\n",
    "import pandas as pd\n",
    "import seaborn as sns\n",
    "import matplotlib.pyplot as plt\n",
    "\n",
    "denver_loc = (-104.9903, 39.7392)\n",
    "miami_loc = (-80.2089, 25.7753)\n",
    "\n",
    "denver = daymetpy.daymet_timeseries(lon=denver_loc[0], lat=denver_loc[1], start_year=2012, end_year=2014)"
   ]
  },
  {
   "cell_type": "code",
   "execution_count": null,
   "metadata": {},
   "outputs": [],
   "source": [
    "denver"
   ]
  },
  {
   "cell_type": "code",
   "execution_count": null,
   "metadata": {},
   "outputs": [],
   "source": [
    "import pyMETRIC.METRIC as met"
   ]
  },
  {
   "cell_type": "markdown",
   "metadata": {},
   "source": [
    " Parameters\n",
    "        ----------\n",
    "        CHECK (landsat) Tr_K : float\n",
    "            Radiometric composite temperature (Kelvin).\n",
    "        CHECK (daymet convert to Kelvin, height is estimated at 2 meter) T_A_K : float\n",
    "            Air temperature (Kelvin).\n",
    "        (assume? mesonet stations?) u : float\n",
    "            Wind speed above the canopy (m s-1).\n",
    "        CHECK (daymet needs to be converted from pascals to mb) ea : float\n",
    "            Water vapour pressure above the canopy (mb).\n",
    "        CHECK (will use default or calc from elevation) p : float\n",
    "            Atmospheric pressure (mb), use 1013 mb by default.\n",
    "        CHECK (daymet, right units in W/m/-2 already, but also consider pyMETRIC suggested method from albedo...) S_n : float\n",
    "            Solar irradiance (W m-2).\n",
    "        (estimated from vapor pressure and air temp (to get atm emissivity)) L_dn : float\n",
    "            Downwelling longwave radiation (W m-2)\n",
    "        (https://modis.gsfc.nasa.gov/data/dataprod/mod11.php) emis : float\n",
    "            Surface emissivity.\n",
    "        CHECK (.02*uniform vegetation height=z_0m source: C&N) z_0M : float\n",
    "            Aerodynamic surface roughness length for momentum transfer (m).\n",
    "        CHECK (.6*uniform vegetation height=d_0 source: C&N) d_0 : float\n",
    "            Zero-plane displacement height (m).\n",
    "        z_u : float\n",
    "            Height of measurement of windspeed (m).\n",
    "        CHECK (see daymet docs, 2 meter:https://daymet.ornl.gov/overview.html) z_T : float\n",
    "            Height of measurement of air temperature (m).\n",
    "        cold_pixel : tuple\n",
    "            pixel coordinates (row, col) for the cold endmember\n",
    "        hot_pixel : tuple\n",
    "            pixel coordinates (row, col) for the hot endmember\n",
    "        calcG_params : list[list,float or array], optional\n",
    "            Method to calculate soil heat flux,parameters."
   ]
  },
  {
   "cell_type": "markdown",
   "metadata": {},
   "source": [
    "Also these params are needed for exhaustive hot/cold pixel search, easily computed from Landsat and MODIS for albedo. Or possibly Landsat? this is what EEflux did to estiamte albedo\n",
    "\n",
    "\"Albedo – This represents total, integrated reflectance across the electromagnetic spectrum. It is calculated from the six primary short-wave bands and is useful for energy balance work. Based on Tasumi et al., 2008, ASCE J. Hydrologic Engineering.\"\n",
    "\n",
    "    vi_array : numpy array\n",
    "        Vegetation Index array (-)\n",
    "    lst_array : numpy array\n",
    "        Land Surface Temperature array (Kelvin)\n",
    "    cv_ndvi : numpy array\n",
    "        Coefficient of variation of Vegetation Index as homogeneity measurement\n",
    "        from neighboring pixels\n",
    "    std_lst : numpy array\n",
    "        Standard deviation of LST as homogeneity measurement\n",
    "        from neighboring pixels\n",
    "    cv_albedo : numpy array\n",
    "        Coefficient of variation of albdeo as homogeneity measurement\n",
    "        from neighboring pixels"
   ]
  },
  {
   "cell_type": "markdown",
   "metadata": {},
   "source": [
    "[Good overview of METRIC](https://onlinelibrary.wiley.com/doi/full/10.1111/jawr.12056)"
   ]
  },
  {
   "cell_type": "code",
   "execution_count": null,
   "metadata": {},
   "outputs": [],
   "source": [
    "import pyMETRIC.METRIC as METRIC \n",
    "output=METRIC.METRIC(Tr_K, T_A_K, u, ea, p, Sn, L_dn, emis, z_0M, d_0, z_u, z_T, cold_pixel, hot_pixel, LE_cold)"
   ]
  },
  {
   "cell_type": "code",
   "execution_count": null,
   "metadata": {},
   "outputs": [],
   "source": [
    "help(met)"
   ]
  }
 ],
 "metadata": {
  "kernelspec": {
   "display_name": "Python [conda env:METRIC]",
   "language": "python",
   "name": "conda-env-METRIC-py"
  },
  "language_info": {
   "codemirror_mode": {
    "name": "ipython",
    "version": 3
   },
   "file_extension": ".py",
   "mimetype": "text/x-python",
   "name": "python",
   "nbconvert_exporter": "python",
   "pygments_lexer": "ipython3",
   "version": "3.7.3"
  }
 },
 "nbformat": 4,
 "nbformat_minor": 4
}
