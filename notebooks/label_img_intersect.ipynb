{
 "cells": [
  {
   "cell_type": "code",
   "execution_count": 29,
   "metadata": {},
   "outputs": [],
   "source": [
    "from cropmask import sequential_grid as sg\n",
    "from rasterio import windows\n",
    "from cropmask.label_prep import rio_bbox_to_polygon\n",
    "from rasterio import coords\n",
    "from cropmask.io_utils import zipped_shp_url_to_gdf \n",
    "import us\n",
    "#specify zipped shapefile url\n",
    "nebraska_url = us.states.NE.shapefile_urls('state')\n",
    "gdf = zipped_shp_url_to_gdf(nebraska_url)\n",
    "gdf = gdf.to_crs(band.meta['crs'].to_dict())\n",
    "band = rio.open(\"/permmnt/cropmaskperm/unpacked_landsat_downloads/LT050280322005012001T2-SC20190818204900/LT05_L1GS_028032_20050120_20160912_01_T2_sr_band3.tif\")\n",
    "chip_list_full = sg.get_tiles_for_threaded_map(band, 512, 512)"
   ]
  },
  {
   "cell_type": "code",
   "execution_count": 38,
   "metadata": {},
   "outputs": [],
   "source": [
    "chips_with_labels = []\n",
    "for chip in chip_list_full:\n",
    "    window_bbox = coords.BoundingBox(*windows.bounds(chip[0], chip[1]))\n",
    "    window_poly = rio_bbox_to_polygon(window_bbox)\n",
    "    if gdf.contains(window_poly).values[0]:\n",
    "        chips_with_labels.append(chip)"
   ]
  },
  {
   "cell_type": "code",
   "execution_count": 41,
   "metadata": {},
   "outputs": [
    {
     "data": {
      "text/plain": [
       "224"
      ]
     },
     "execution_count": 41,
     "metadata": {},
     "output_type": "execute_result"
    }
   ],
   "source": [
    "len(chip_list_full)"
   ]
  },
  {
   "cell_type": "code",
   "execution_count": 42,
   "metadata": {},
   "outputs": [
    {
     "data": {
      "text/plain": [
       "29"
      ]
     },
     "execution_count": 42,
     "metadata": {},
     "output_type": "execute_result"
    }
   ],
   "source": [
    "len(chips_with_labels)"
   ]
  },
  {
   "cell_type": "markdown",
   "metadata": {},
   "source": [
    "need to doublecheck that this is doing what it is supposed to, looks suspiciously low."
   ]
  }
 ],
 "metadata": {
  "kernelspec": {
   "display_name": "Python [conda env:py36]",
   "language": "python",
   "name": "conda-env-py36-py"
  },
  "language_info": {
   "codemirror_mode": {
    "name": "ipython",
    "version": 3
   },
   "file_extension": ".py",
   "mimetype": "text/x-python",
   "name": "python",
   "nbconvert_exporter": "python",
   "pygments_lexer": "ipython3",
   "version": "3.6.7"
  }
 },
 "nbformat": 4,
 "nbformat_minor": 4
}
