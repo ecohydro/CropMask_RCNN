{
 "cells": [
  {
   "cell_type": "markdown",
   "metadata": {},
   "source": [
    "# Aquaculture Config and Dataset Class for Mask R-CNN\n",
    "\n",
    "This notebook subclasses the `Config` and `utils.Dataset` classes from Mask R-CNN for use with the aquaculture image dataset. \n",
    "\n",
    "## Setup\n",
    "\n",
    "### Settings"
   ]
  },
  {
   "cell_type": "code",
   "execution_count": 2,
   "metadata": {},
   "outputs": [],
   "source": [
    "import cv2\n",
    "import os\n",
    "import sys\n",
    "import random\n",
    "import pathlib\n",
    "import math\n",
    "import numpy as np\n",
    "import pandas as pd\n",
    "import skimage.io as skio\n",
    "from scipy import ndimage\n",
    "import matplotlib\n",
    "import matplotlib.pyplot as plt\n",
    "import copy\n",
    "import shutil\n",
    "from imgaug import augmenters as iaa\n",
    "import datetime\n",
    "%matplotlib inline\n",
    "\n",
    "# Root directory of the project\n",
    "# ROOT_DIR = os.path.abspath(\"/Users/Tyler-SFG/Desktop/GitHub/CropMask_RCNN\")\n",
    "ROOT_DIR = os.getcwd()\n",
    "if ROOT_DIR.endswith(\"notebooks/aqua\"):\n",
    "    # Go up two levels to the repo root\n",
    "    ROOT_DIR = os.path.dirname(os.path.dirname(ROOT_DIR))\n",
    "\n",
    "# Import Mask RCNN\n",
    "sys.path.append(ROOT_DIR)\n",
    "from mrcnn import utils\n",
    "import mrcnn.model as modellib\n",
    "from mrcnn import visualize\n",
    "from mrcnn.config import Config\n",
    "# from mrcnn.model import log\n",
    "# from mrcnn.parallel_model import ParallelModel"
   ]
  },
  {
   "cell_type": "markdown",
   "metadata": {},
   "source": [
    "Set some plotting options for visualizations."
   ]
  },
  {
   "cell_type": "code",
   "execution_count": 6,
   "metadata": {},
   "outputs": [],
   "source": [
    "def get_ax(rows=1, cols=1, size=8):\n",
    "    \"\"\"Return a Matplotlib Axes array to be used in\n",
    "    all visualizations in the notebook. Provide a\n",
    "    central point to control graph sizes.\n",
    "    \n",
    "    Change the default size attribute to control the size\n",
    "    of rendered images\n",
    "    \"\"\"\n",
    "    _, ax = plt.subplots(rows, cols, figsize=(size*cols, size*rows))\n",
    "    return ax"
   ]
  },
  {
   "cell_type": "markdown",
   "metadata": {},
   "source": [
    "### Project Directories\n",
    "\n",
    "Set up paths to project directories containing prepared images (and masks), and folders to put training and testing images."
   ]
  },
  {
   "cell_type": "code",
   "execution_count": 8,
   "metadata": {},
   "outputs": [],
   "source": [
    "# Root, train, and test directories of the project\n",
    "ROOT_DIR = os.path.join(ROOT_DIR, \"data/aqua\") # Project directory\n",
    "PREPPED_DIR = os.path.join(ROOT_DIR, 'prepped_planet') # Final labeled chips and class masks\n",
    "TRAIN_DIR = os.path.join(ROOT_DIR, 'train') # Train sample copied from PREPPED_DIR\n",
    "TEST_DIR = os.path.join(ROOT_DIR, 'test') # Test sample copied from PREPPED_DIR\n",
    "RESULTS_DIR = os.path.join(ROOT_DIR, \"results\") # Save submission files and test/train split csvs here\n",
    "\n",
    "# list of directories to loop over\n",
    "dirs = [TRAIN_DIR, TEST_DIR, RESULTS_DIR]\n",
    "\n",
    "# Make directory and subdirectories\n",
    "for d in dirs:\n",
    "    pathlib.Path(d).mkdir(parents=True, exist_ok=True)"
   ]
  },
  {
   "cell_type": "markdown",
   "metadata": {},
   "source": [
    "### Class Types\n",
    "\n",
    "Create a dictionary of our aquaculture class types and values to use in loading masks. Likely a better solution."
   ]
  },
  {
   "cell_type": "code",
   "execution_count": 4,
   "metadata": {},
   "outputs": [],
   "source": [
    "# Class dictionary\n",
    "AQUA_CLASS = {\"line\": 1, \"raft\": 2, \"pond\": 3, \"cage\": 4}"
   ]
  },
  {
   "cell_type": "markdown",
   "metadata": {},
   "source": [
    "### Train/Test Split\n",
    "\n",
    "The first step in training a model is to select a subset of the data to use for training and testing. To do so, first remove any image folders that already exist in `TRAIN_DIR` or `TEST_DIR`. Next, sample the available images in `PREPPED_DIR` and split the samples between `TRAIN_DIR` and `TEST_DIR`. "
   ]
  },
  {
   "cell_type": "code",
   "execution_count": 9,
   "metadata": {},
   "outputs": [],
   "source": [
    "import random\n",
    "import shutil\n",
    "random.seed(4)\n",
    "\n",
    "def remove_dir_folders(directory):\n",
    "    \"\"\"\n",
    "    Removes old test/train directories before a new batch of training data is created\n",
    "    \"\"\"\n",
    "    folderlist = [ f for f in os.listdir(directory)]\n",
    "    for f in folderlist:\n",
    "        if not f.startswith('.'):\n",
    "            shutil.rmtree(os.path.join(directory,f))\n",
    "\n",
    "def train_test_split(prepped_dir, train_dir, test_dir, kprop):\n",
    "    \"\"\"Takes a sample of folder ids and copies them to a test directory. \n",
    "    each sample folder containes an images and corresponding masks folder\"\"\"\n",
    "    # Remove previous training and testing data from folders\n",
    "    remove_dir_folders(test_dir)\n",
    "    remove_dir_folders(train_dir)\n",
    "\n",
    "    # List of available data samples\n",
    "    sample_list = next(os.walk(prepped_dir))[1]\n",
    "    \n",
    "    # Add training samples to training folder\n",
    "    for train_sample in sample_list:\n",
    "        shutil.copytree(os.path.join(prepped_dir,train_sample),os.path.join(train_dir,train_sample))\n",
    "\n",
    "    # Sample\n",
    "    k = round(kprop*len(sample_list))\n",
    "    test_list = random.sample(sample_list,k)\n",
    "\n",
    "    # Add test sample to test folder\n",
    "    for test_sample in test_list:\n",
    "        shutil.copytree(os.path.join(prepped_dir,test_sample),os.path.join(test_dir,test_sample))\n",
    "    \n",
    "    train_list = list(set(next(os.walk(train_dir))[1]) - set(test_list))\n",
    "    \n",
    "    # Save csvs of result files\n",
    "    train_df = pd.DataFrame({'train': train_list})\n",
    "    test_df = pd.DataFrame({'test': test_list})\n",
    "    train_df.to_csv(os.path.join(RESULTS_DIR, 'train_ids.csv'))\n",
    "    test_df.to_csv(os.path.join(RESULTS_DIR, 'test_ids.csv'))\n",
    "\n",
    "# Run function\n",
    "train_test_split(PREPPED_DIR, TRAIN_DIR, TEST_DIR, 0.2)"
   ]
  },
  {
   "cell_type": "markdown",
   "metadata": {},
   "source": [
    "## Aquaculture Config Class"
   ]
  },
  {
   "cell_type": "markdown",
   "metadata": {},
   "source": [
    "## Aquaculture Dataset Class"
   ]
  },
  {
   "cell_type": "code",
   "execution_count": 17,
   "metadata": {},
   "outputs": [],
   "source": [
    "class AquaDataset(utils.Dataset):\n",
    "    \"\"\"Generates the Imagery dataset.\"\"\"\n",
    "    \n",
    "    def load_image(self, image_id):\n",
    "        \"\"\"Load the specified image and return a [H,W,4] Numpy array.\n",
    "        Channels are ordered [B, G, R, NIR]. This is called by the \n",
    "        Keras data_generator function\n",
    "        \"\"\"\n",
    "        # Load image\n",
    "        image = skio.imread(self.image_info[image_id]['path'])\n",
    "    \n",
    "        assert image.shape[-1] == 4\n",
    "        assert image.ndim == 3\n",
    "    \n",
    "        return image\n",
    "    \n",
    "    def load_aqua(self, dataset_dir, subset):\n",
    "        \"\"\"Load a subset of the aquaculture dataset.\n",
    "\n",
    "        dataset_dir: Root directory of the dataset\n",
    "        subset: Subset to load.\n",
    "                * train: stage1_train excluding validation images\n",
    "                * val: validation images from VAL_IMAGE_IDS\n",
    "        \"\"\"\n",
    "        # Add classes. We have four classes.\n",
    "        # Naming the dataset aqua, and the class agriculture\n",
    "        self.add_class(\"aqua\", 1, \"line\")\n",
    "        self.add_class(\"aqua\", 2, \"raft\")\n",
    "        self.add_class(\"aqua\", 3, \"pond\")\n",
    "        self.add_class(\"aqua\", 4, \"cage\")\n",
    "\n",
    "        assert subset in [\"train\", \"test\"]\n",
    "        dataset_dir = os.path.join(dataset_dir, subset)\n",
    "        \n",
    "        train_ids = pd.read_csv(os.path.join(RESULTS_DIR, 'train_ids.csv'))\n",
    "        train_list = list(train_ids['train'])\n",
    "        test_ids = pd.read_csv(os.path.join(RESULTS_DIR, 'test_ids.csv'))\n",
    "        test_list = list(test_ids['test'])\n",
    "        \n",
    "        # Set image ids based on subset\n",
    "        if subset == \"test\":\n",
    "            image_ids = test_list\n",
    "        else:\n",
    "            image_ids = train_list\n",
    "        \n",
    "        # Add images\n",
    "        for image_id in image_ids:\n",
    "            self.add_image(\n",
    "                \"aqua\",\n",
    "                image_id=image_id,\n",
    "                path=os.path.join(dataset_dir, image_id, \"image/{}.tif\".format(image_id)))\n",
    "       \n",
    "    def load_mask(self, image_id):\n",
    "        \"\"\"Generate instance masks for an image.\n",
    "       Returns:\n",
    "        masks: A bool array of shape [height, width, instance count] with\n",
    "            one mask per instance.\n",
    "        class_ids: a 1D array of class IDs of the instance masks.\n",
    "        \"\"\"\n",
    "        info = self.image_info[image_id]\n",
    "        \n",
    "        # Get class mask directory from image path\n",
    "        mask_dir = os.path.join(os.path.dirname(os.path.dirname(info['path'])), \"class_masks\")\n",
    "\n",
    "        # Read class mask files from .png image\n",
    "        mask = [] # array to store instance masks\n",
    "        classes = [] # array to store instance class \n",
    "        \n",
    "        # Loop over class mask files\n",
    "        for f in next(os.walk(mask_dir))[2]:\n",
    "            if f.endswith(\".tif\"):                \n",
    "                \n",
    "                # Read class mask\n",
    "                m = skio.imread(os.path.join(mask_dir, f)).astype(np.bool)\n",
    "                \n",
    "                # Get class of instance mask from file name\n",
    "                instance_class = f.split('_')[5]            \n",
    "                                \n",
    "                # Label objects in mask and save labeled image as \"labels\" and number of objects as \"nb\"\n",
    "                labels, nb = ndimage.label(m)\n",
    "                \n",
    "                # Loob over labeled objects and isolate instance mask\n",
    "                for obj in range(1,nb+1):\n",
    "                    # Make new object from labels\n",
    "                    instance = labels * 1\n",
    "                    # Replace all other objects with 0s\n",
    "                    instance[labels!=obj] = 0\n",
    "                    # Set object values to 1 (rather than object id number)\n",
    "                    instance[labels==obj] = 1\n",
    "\n",
    "                    # Add instance mask to mask array\n",
    "                    mask.append(m)\n",
    "                    classes.append(AQUA_CLASS[instance_class])\n",
    "                    assert m.ndim == 2        \n",
    "        \n",
    "        # Check if mask is still empty and, if so, add a np array of zeros\n",
    "        if not mask:\n",
    "            m = np.zeros([256, 256], dtype=np.uint8)\n",
    "            mask.append(m)\n",
    "            \n",
    "        mask = np.stack(mask, axis=-1)\n",
    "        assert mask.ndim == 3\n",
    "        # Return mask, and array of class IDs of each instance. Since we have\n",
    "        # one class ID, we return an array of ones\n",
    "        return mask, np.ones([mask.shape[-1]], dtype=np.int32)\n",
    "    \n",
    "    def image_reference(self, image_id):\n",
    "        \"\"\"Return the path of the image.\"\"\"\n",
    "        info = self.image_info[image_id]\n",
    "        if info[\"source\"] == \"field\":\n",
    "            return info[\"id\"]\n",
    "        else:\n",
    "            super(self.__class__, self).image_reference(image_id)"
   ]
  },
  {
   "cell_type": "markdown",
   "metadata": {},
   "source": [
    "## Display Dataset\n",
    "\n",
    "Load the dataset and display random samples to check if dataset has been created properly."
   ]
  },
  {
   "cell_type": "code",
   "execution_count": 19,
   "metadata": {},
   "outputs": [],
   "source": [
    "# Create training dataset\n",
    "dataset_train = AquaDataset()\n",
    "dataset_train.load_aqua(ROOT_DIR, \"train\")\n",
    "dataset_train.prepare()"
   ]
  },
  {
   "cell_type": "code",
   "execution_count": 23,
   "metadata": {},
   "outputs": [
    {
     "name": "stderr",
     "output_type": "stream",
     "text": [
      "Clipping input data to the valid range for imshow with RGB data ([0..1] for floats or [0..255] for integers).\n"
     ]
    },
    {
     "data": {
      "image/png": "[encoded data removed]",
      "text/plain": [
       "<Figure size 1008x360 with 5 Axes>"
      ]
     },
     "metadata": {},
     "output_type": "display_data"
    },
    {
     "name": "stderr",
     "output_type": "stream",
     "text": [
      "Clipping input data to the valid range for imshow with RGB data ([0..1] for floats or [0..255] for integers).\n"
     ]
    },
    {
     "data": {
      "image/png": "[encoded data removed]",
      "text/plain": [
       "<Figure size 1008x360 with 5 Axes>"
      ]
     },
     "metadata": {},
     "output_type": "display_data"
    },
    {
     "name": "stderr",
     "output_type": "stream",
     "text": [
      "Clipping input data to the valid range for imshow with RGB data ([0..1] for floats or [0..255] for integers).\n"
     ]
    },
    {
     "data": {
      "image/png": "[encoded data removed]",
      "text/plain": [
       "<Figure size 1008x360 with 5 Axes>"
      ]
     },
     "metadata": {},
     "output_type": "display_data"
    },
    {
     "name": "stderr",
     "output_type": "stream",
     "text": [
      "Clipping input data to the valid range for imshow with RGB data ([0..1] for floats or [0..255] for integers).\n"
     ]
    },
    {
     "data": {
      "image/png": "[encoded data removed]",
      "text/plain": [
       "<Figure size 1008x360 with 5 Axes>"
      ]
     },
     "metadata": {},
     "output_type": "display_data"
    }
   ],
   "source": [
    "# Load and display random samples\n",
    "image_ids = np.random.choice(dataset_train.image_ids, 4)\n",
    "for image_id in image_ids:\n",
    "    image = dataset_train.load_image(image_id)\n",
    "    mask, class_ids = dataset_train.load_mask(image_id)\n",
    "    visualize.display_top_masks(image, mask, class_ids, dataset_train.class_names)"
   ]
  },
  {
   "cell_type": "code",
   "execution_count": null,
   "metadata": {},
   "outputs": [],
   "source": []
  }
 ],
 "metadata": {
  "kernelspec": {
   "display_name": "Python [conda root]",
   "language": "python",
   "name": "conda-root-py"
  },
  "language_info": {
   "codemirror_mode": {
    "name": "ipython",
    "version": 3
   },
   "file_extension": ".py",
   "mimetype": "text/x-python",
   "name": "python",
   "nbconvert_exporter": "python",
   "pygments_lexer": "ipython3",
   "version": "3.6.4"
  }
 },
 "nbformat": 4,
 "nbformat_minor": 2
}
