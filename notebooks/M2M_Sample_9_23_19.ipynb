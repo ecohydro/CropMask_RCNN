{
 "cells": [
  {
   "cell_type": "code",
   "execution_count": 1,
   "metadata": {},
   "outputs": [],
   "source": [
    "#Import Required Modules\n",
    "#If a module is missing users can open a new notebook and paste the following to pip install\n",
    "# !pip install wget\n",
    "\n",
    "#Users will need to reprogram the following:\n",
    "#Cell 2 username\n",
    "#Cell 4 outDir\n",
    "\n",
    "import json\n",
    "import getpass\n",
    "import requests\n",
    "import wget\n",
    "import sys\n",
    "import os"
   ]
  },
  {
   "cell_type": "code",
   "execution_count": 3,
   "metadata": {},
   "outputs": [
    {
     "name": "stdout",
     "output_type": "stream",
     "text": [
      "········\n",
      "Your API Key Generated Successfully\n",
      "39bfe7c30a874ca2a07eb7cad826a052\n"
     ]
    }
   ],
   "source": [
    "#Form JSON Object to store credentials to generate API Key.\n",
    "\n",
    "#Enter Your EarthExplorer (ERS) Credentials.\n",
    "username='YOUR USERNAME'\n",
    "password = getpass.getpass()\n",
    "\n",
    "login = r'https://earthexplorer.usgs.gov/inventory/json/v/1.4.0/login'\n",
    "\n",
    "creds={\"username\": username,\n",
    "    \"password\": password,\n",
    "    \"authType\": \"\",\n",
    "    \"catalogId\": \"EE\"}\n",
    "\n",
    "json_data = {'jsonRequest' : json.dumps(creds)}\n",
    "\n",
    "r = requests.post(login, data = json_data)\n",
    "token = r.json()['data']\n",
    "\n",
    "if token == None:\n",
    "    print (\"API Key Failed to Generate\")\n",
    "  \n",
    "else:\n",
    "    print(\"Your API Key Generated Successfully\")\n",
    "    print(token)\n",
    "\n",
    "#If Key fails to generate please see documentmentation to decode error https://earthexplorer.usgs.gov/inventory/documentation/errors"
   ]
  },
  {
   "cell_type": "code",
   "execution_count": 23,
   "metadata": {},
   "outputs": [
    {
     "name": "stdout",
     "output_type": "stream",
     "text": [
      "Searching Dataset Landsat_8_C1\n",
      "Your Scene List Contains:\n",
      "['LC08_L1TP_026027_20140216_20170307_01_T1', 'LC08_L1TP_026027_20140304_20170307_01_T1', 'LC08_L1TP_026027_20140608_20170305_01_T1', 'LC08_L1TP_026027_20140726_20170304_01_T1', 'LC08_L1TP_026027_20141115_20170303_01_T1', 'LC08_L1TP_026027_20141201_20170302_01_T1', 'LC08_L1TP_026027_20150814_20170226_01_T1', 'LC08_L1TP_026027_20150915_20170225_01_T1', 'LC08_L1TP_026027_20161104_20170219_01_T1', 'LC08_L1TP_026027_20161222_20170218_01_T1']\n"
     ]
    }
   ],
   "source": [
    "#Here we create structure to search inventory for Landsat 8 Collection 1 Level 1 Scenes acquired between 01/01/2013 and 12/31/2018\n",
    "# for path 26 row 27 where maximum cloud cover is less than 10%.\n",
    "\n",
    "#Define dataset see Dataset Search Endpoint on the API test page for additional datasets contained in inventory.\n",
    "for dataset in ['Landsat_8_C1']:\n",
    "    print(\"Searching Dataset {}\" .format(dataset))\n",
    "    \n",
    "   #Here a temporal filter is created, users can also define a minimum bounding rectangle (MBR) filter to define search extent.\n",
    "    search={\"datasetName\": dataset,\n",
    "            \"temporalFilter\": {\n",
    "                \"dateField\": \"search_date\",\n",
    "                \"startDate\": \"2014-01-01\",\n",
    "                \"endDate\": \"2018-12-31\",\n",
    "\n",
    "            },\n",
    "           \n",
    "            #Here the additional criteria filter to search scenes in path 26 row 27 additional dataset fields related to specific\n",
    "            #datasets can be found by querying the dataset name within the Dataset Fields Enpoint on the APU test page.\n",
    "            \"additionalCriteria\": {\n",
    "            \"filterType\": \"and\", \n",
    "            \"childFilters\": [\n",
    "                {\"filterType\":\"value\",\"fieldId\":\"20514\",\"operand\":\"like\",\"value\":\"26\"},\n",
    "                {\"filterType\":\"value\",\"fieldId\":\"20516\",\"operand\":\"like\",\"value\":\"27\"}\n",
    "                ]\n",
    "            },\n",
    "            #The maximum number of results returned as an JSON object is 10 scenes. Users must specify the maximum number of\n",
    "            #results to suit their needs.\n",
    "            \"maxResults\": \"10\",\n",
    "            \n",
    "            #Here a maximum acceptable cloud cover of 10% is specified.\n",
    "            \"maxCloudCover\": \"10\",\n",
    "            \n",
    "            \"apiKey\": (token)\n",
    "            }\n",
    "    \n",
    "    searchUrl='https://earthexplorer.usgs.gov/inventory/json/v/1.4.0/search'\n",
    "\n",
    "    request = requests.get(searchUrl, params={'jsonRequest':json.dumps(search)})\n",
    "\n",
    "    resultsList = request.json()['data']['results']\n",
    "    \n",
    "    #Create list to hold enity ids for scenes\n",
    "    order = []\n",
    "    prodID=[]\n",
    "    for res in resultsList:\n",
    "        order.append(res['entityId'])\n",
    "        prodID.append(res['displayId'])\n",
    "\n",
    "#Check to see if query resulted in scenes being returned.\n",
    "if len(order) == 0:\n",
    "    sys.exit(\"No Scenes Matching Criteria Were Found, Program will terminate\")\n",
    "else:\n",
    "    print(\"Your Scene List Contains:\")\n",
    "    print(prodID)"
   ]
  },
  {
   "cell_type": "code",
   "execution_count": 24,
   "metadata": {},
   "outputs": [
    {
     "name": "stdout",
     "output_type": "stream",
     "text": [
      "The Following Scenes have downloaded:\n",
      "['LC08_L1TP_026027_20140216_20170307_01_T1', 'LC08_L1TP_026027_20140304_20170307_01_T1', 'LC08_L1TP_026027_20140608_20170305_01_T1', 'LC08_L1TP_026027_20140726_20170304_01_T1', 'LC08_L1TP_026027_20141115_20170303_01_T1', 'LC08_L1TP_026027_20141201_20170302_01_T1', 'LC08_L1TP_026027_20150814_20170226_01_T1', 'LC08_L1TP_026027_20150915_20170225_01_T1', 'LC08_L1TP_026027_20161104_20170219_01_T1', 'LC08_L1TP_026027_20161222_20170218_01_T1']\n",
      "10 Total Files Downloaded to c:\\users\\nroberts\\desktop\\script\n",
      "Download Complete\n"
     ]
    }
   ],
   "source": [
    "#Create routine to generate download URLs for desired product for enity ids from search query. Please consult Get Bulk Download\n",
    "#product endpoint for available products per dataset. Here Level-1 Landsat Geotiff will be downloaded. The product is downloaded\n",
    "#using wget.\n",
    "\n",
    "for enityID in [order]:\n",
    "  orderParms ={'datasetName':dataset,\n",
    "          'products':'FR_REFL',\n",
    "          'entityIds': order,\n",
    "          \"apiKey\": (token)\n",
    "          \n",
    "          }\n",
    "  \n",
    "  downloadURL=\"https://earthexplorer.usgs.gov/inventory/json/v/1.4.0/download\"\n",
    "  download= requests.get(downloadURL, params={'jsonRequest':json.dumps(orderParms)})\n",
    "    \n",
    "urlList = []\n",
    "download_list = download.json()['data']\n",
    "for item in download_list:\n",
    "    urlList.append(item['url'])\n",
    "\n",
    "#Users will need to specify a download directory on their machine.\n",
    "outDir=\"c:/users/nroberts/desktop/script\"\n",
    "for URL in urlList:\n",
    "    wget.download(URL, out=outDir, bar=None)\n",
    "print(\"The Following Scenes have downloaded:\")\n",
    "print(prodID)\n",
    "print(len(order), \"Total Files Downloaded to\", os.path.abspath(outDir))\n",
    "with open(\"c:/users/nroberts/desktop/script/output.txt\", \"w\") as resultFile:\n",
    "   for line in prodID:\n",
    "    resultFile.write(line)\n",
    "    resultFile.write(\"\\n\")\n",
    "print(\"Download Complete\")"
   ]
  },
  {
   "cell_type": "code",
   "execution_count": null,
   "metadata": {},
   "outputs": [],
   "source": []
  }
 ],
 "metadata": {
  "kernelspec": {
   "display_name": "Python 3",
   "language": "python",
   "name": "python3"
  },
  "language_info": {
   "codemirror_mode": {
    "name": "ipython",
    "version": 3
   },
   "file_extension": ".py",
   "mimetype": "text/x-python",
   "name": "python",
   "nbconvert_exporter": "python",
   "pygments_lexer": "ipython3",
   "version": "3.6.4"
  }
 },
 "nbformat": 4,
 "nbformat_minor": 2
}
